{
 "cells": [
  {
   "cell_type": "markdown",
   "metadata": {
    "nbpresent": {
     "id": "ce2bdbfa-efaa-47f1-94f6-fa04558f09fc"
    },
    "slideshow": {
     "slide_type": "slide"
    }
   },
   "source": [
    "# Generators, Iterators, and Collections\n",
    "\n",
    "**Naomi Ceder, @naomiceder**\n",
    "\n",
    "- **Chair, Python Software Foundation**\n",
    "- **Quick Python Book, 3rd ed**\n",
    "- **Dick Blick Art Materials**         \n",
    "\n",
    "**Online sign in - `ATND <GO>`, code TBCGHO - from email**\n",
    "\n",
    "**or email rbasil@bloomberg.net**\n"
   ]
  },
  {
   "cell_type": "code",
   "execution_count": null,
   "metadata": {},
   "outputs": [],
   "source": []
  },
  {
   "cell_type": "markdown",
   "metadata": {
    "slideshow": {
     "slide_type": "skip"
    }
   },
   "source": [
    "## Course Description\n",
    "\n",
    "Generators, Iterators, & Collections - Python has a rich set of tools to generate, iterate over, and process collections of data. This course will be a field guide to these tools, from comprehensions and generator expressions, to generator functions and  the collections module, to implementing the iterable API.\n",
    "\n",
    "\n",
    "```\n",
    "Monday\n",
    "- AM: Intermediate Python\n",
    "- PM: Iterators, Generators, Collections\n",
    "\n",
    "Tuesday\n",
    "- AM: Pythonic Coding\n",
    "- PM: Moving to Python 3\n",
    "\n",
    "Wednesday\n",
    "- AM: Data cleaning\n",
    "- PM: Intermediate Python (repeat)\n",
    "\n",
    "Thursday\n",
    "- AM: Moving to Python 3 (repeat)\n",
    "- PM: Debugging Profiling Timing\n",
    "\n",
    "Friday\n",
    "- AM: Code organization and packaging\n",
    "- PM: Pythonic coding (repeat)\n",
    "```"
   ]
  },
  {
   "cell_type": "markdown",
   "metadata": {
    "slideshow": {
     "slide_type": "slide"
    }
   },
   "source": [
    "## Course Assumptions\n",
    "\n",
    "* My course outline is only a general guide\n",
    "* We can be guided by your needs/interests\n",
    "* I need direction on what those are\n",
    "* The more we interact the better the outcome is likely to be\n"
   ]
  },
  {
   "cell_type": "markdown",
   "metadata": {
    "nbpresent": {
     "id": "77c00728-08d0-4c2d-9e6c-a73cdba1af60"
    },
    "slideshow": {
     "slide_type": "slide"
    }
   },
   "source": [
    "  \n",
    "### You\n",
    "\n",
    "* What do you do?\n",
    "* What coding experience do you have?\n",
    "* What are your repetitive hassles and time sinks?\n",
    "* What problems do you want/hope to solve with code?"
   ]
  },
  {
   "cell_type": "markdown",
   "metadata": {
    "nbpresent": {
     "id": "c9ee43ac-0688-4c98-805d-15305a8f4e96"
    },
    "slideshow": {
     "slide_type": "slide"
    }
   },
   "source": [
    "## What we'll do\n",
    "\n",
    "* Introduction\n",
    "* A look at the iteration protocol\n",
    "* Generators & generator expressions\n",
    "* Coding exercise\n",
    "* Collections library - useful iterables\n",
    "* Useful iterators\n",
    "   * built in iterators\n",
    "   * Itertools library"
   ]
  },
  {
   "cell_type": "markdown",
   "metadata": {
    "slideshow": {
     "slide_type": "slide"
    }
   },
   "source": [
    "## Repetition with code and data"
   ]
  },
  {
   "cell_type": "markdown",
   "metadata": {
    "slideshow": {
     "slide_type": "slide"
    }
   },
   "source": [
    "### Repetitive collections/series of data\n",
    "\n",
    "* lists (arrays), tuples\n",
    "* strings\n",
    "\n",
    "But also\n",
    "* dictionary keys/items\n",
    "* sets\n",
    "* lines/records/bytes in files\n",
    "* database query results\n",
    "* etc"
   ]
  },
  {
   "cell_type": "markdown",
   "metadata": {
    "slideshow": {
     "slide_type": "slide"
    }
   },
   "source": [
    "### Proccesses using loops\n",
    "\n",
    "* while - more unconstrained\n",
    "* for loops - bounded, discrete\n"
   ]
  },
  {
   "cell_type": "markdown",
   "metadata": {
    "slideshow": {
     "slide_type": "slide"
    }
   },
   "source": [
    "### while loop sum (C style)\n",
    "```\n",
    "int a_list[] = {1, 2, 3, 4};\n",
    "int sum = 0;\n",
    "\n",
    "// Get number of elements in the array\n",
    "size_t list_len = *(&a_list + 1) - a_list;\n",
    "\n",
    "int i = 0;\n",
    "while (i < list_len){\n",
    "    sum += a_list[i];\n",
    "    i++;\n",
    "}\n",
    "printf(\"%d\\n\", sum);\n",
    "\n",
    "------------\n",
    "naomis-imac:bloomberg naomi_$ ./while\n",
    "10\n",
    "\n",
    "```"
   ]
  },
  {
   "cell_type": "markdown",
   "metadata": {
    "slideshow": {
     "slide_type": "slide"
    }
   },
   "source": [
    "### for loop sum (C style)\n",
    "```\n",
    "int a_list[] = {1, 2, 3, 4};\n",
    "int sum = 0;\n",
    "\n",
    "// Get number of elements in the array\n",
    "size_t list_len = *(&a_list + 1) - a_list;\n",
    "\n",
    "for (int i=0; i < list_len; i++){\n",
    "    sum += a_list[i];\n",
    "}\n",
    "\n",
    "printf(\"%d\\n\", sum);\n",
    "\n",
    "------------\n",
    "naomis-imac:bloomberg naomi_$ ./for\n",
    "10\n",
    "\n",
    "int sum = 0;\n",
    "```"
   ]
  },
  {
   "cell_type": "code",
   "execution_count": null,
   "metadata": {
    "slideshow": {
     "slide_type": "slide"
    }
   },
   "outputs": [],
   "source": [
    "# while loop sum (Python style)\n",
    "a_list = [1, 2, 3, 4]\n",
    "sum_ = 0\n",
    "pos = 0\n",
    "\n",
    "while pos < len(a_list):\n",
    "    sum_ += a_list[pos]\n",
    "    pos += 1\n",
    "print(sum_)"
   ]
  },
  {
   "cell_type": "code",
   "execution_count": null,
   "metadata": {
    "slideshow": {
     "slide_type": "slide"
    }
   },
   "outputs": [],
   "source": [
    "# for loop sum (Python style)\n",
    "a_list = [1, 2, 3, 4]\n",
    "sum_ = 0\n",
    "for item in a_list:\n",
    "    sum_ += item\n",
    "print(sum_)"
   ]
  },
  {
   "cell_type": "markdown",
   "metadata": {
    "slideshow": {
     "slide_type": "slide"
    }
   },
   "source": [
    "### Or sometimes recursion\n",
    "\n",
    "* tricky to debug\n",
    "* stack problems"
   ]
  },
  {
   "cell_type": "code",
   "execution_count": null,
   "metadata": {
    "slideshow": {
     "slide_type": "fragment"
    }
   },
   "outputs": [],
   "source": [
    "# recursive sum\n",
    "def recursive_sum(a_list, pos):\n",
    "    if pos + 1 == len(a_list):\n",
    "        return a_list[pos]\n",
    "    else:\n",
    "        return a_list[pos] + recursive_sum(a_list, pos + 1)\n",
    "    \n",
    "print(recursive_sum(a_list, 0))"
   ]
  },
  {
   "cell_type": "code",
   "execution_count": null,
   "metadata": {
    "slideshow": {
     "slide_type": "slide"
    }
   },
   "outputs": [],
   "source": [
    "# the REALLY Pythonic way to do it, of course\n",
    "print(sum(a_list))"
   ]
  },
  {
   "cell_type": "markdown",
   "metadata": {
    "slideshow": {
     "slide_type": "slide"
    }
   },
   "source": [
    "## Iteration protocol\n",
    "\n",
    "### “Python’s most powerful useful feature”\n",
    "\n",
    "-- Dave Beazley, \"[Iterations of Evolution: The Unauthorized Biography of the For-Loop](https://www.youtube.com/watch?v=2AXuhgid7E4)\""
   ]
  },
  {
   "cell_type": "code",
   "execution_count": 1,
   "metadata": {
    "slideshow": {
     "slide_type": "slide"
    }
   },
   "outputs": [
    {
     "name": "stdout",
     "output_type": "stream",
     "text": [
      "10\n"
     ]
    }
   ],
   "source": [
    "# for loop sum (Python style)\n",
    "a_list = [1, 2, 3, 4]\n",
    "sum_ = 0\n",
    "for item in a_list:\n",
    "    sum_ += item\n",
    "print(sum_)"
   ]
  },
  {
   "cell_type": "markdown",
   "metadata": {
    "slideshow": {
     "slide_type": "slide"
    }
   },
   "source": [
    "## Obvious, right?\n",
    "\n",
    "It wasn't always so obvious..."
   ]
  },
  {
   "cell_type": "markdown",
   "metadata": {
    "slideshow": {
     "slide_type": "slide"
    }
   },
   "source": [
    "## It *used* to be surprising\n",
    "\n",
    "### Python and `for` loops\n",
    "\n",
    "The `for` statement in Python differs a bit \n",
    "from what you may be\n",
    "used to in C or Pascal.  Rather than always iterating over an\n",
    "arithmetic progression of numbers (like in Pascal), or leaving the user\n",
    "completely free in the iteration test and step (as C), Python's for \n",
    "statement iterates over the items of any sequence (e.g., a list\n",
    "or a string), in the order that they appear in the sequence.\n",
    "\n",
    "-- Python V 1.1 Docs, 1994"
   ]
  },
  {
   "cell_type": "markdown",
   "metadata": {
    "slideshow": {
     "slide_type": "slide"
    }
   },
   "source": [
    "### And it works the same for different types\n",
    "* `for key in a_dictionary:`\n",
    "* `for char in a_string:`\n",
    "* `for record in query_results:`\n",
    "* `for line in a_file:`\n",
    "\n",
    "etc..."
   ]
  },
  {
   "cell_type": "markdown",
   "metadata": {
    "slideshow": {
     "slide_type": "slide"
    }
   },
   "source": [
    "## How does that work?\n",
    "\n",
    "* **How does a `for` loop know the “next” item?**\n",
    "* **How can `for` loops use so many different types?**\n",
    "* **What makes an object “work” in a `for` loop?**"
   ]
  },
  {
   "cell_type": "markdown",
   "metadata": {
    "slideshow": {
     "slide_type": "slide"
    }
   },
   "source": [
    "## Iteration protocol\n",
    "\n",
    "* iteration in Python relies on a **protocol**, not types (from Python 2.2)\n",
    "* It's a good example of Python's “duck typing” - anything that follows the protocol can be iterated over"
   ]
  },
  {
   "cell_type": "markdown",
   "metadata": {
    "slideshow": {
     "slide_type": "slide"
    }
   },
   "source": [
    "### Iteration Protocol: \n",
    "* for iteration you need an **iterable** object\n",
    "* and an **iterator** (which Python usually handles for you)"
   ]
  },
  {
   "cell_type": "markdown",
   "metadata": {
    "slideshow": {
     "slide_type": "slide"
    }
   },
   "source": [
    "## iterable\n",
    "\n",
    "An object capable of returning its members **one at a time.** Examples of iterables include **all sequence types** (such as `list`, `str`, and `tuple`) and **some non-sequence types** like `dict`, file objects, and objects of any **classes you define** with an **`__iter__()`** method or with a **`__getitem__()`** method that implements Sequence semantics."
   ]
  },
  {
   "cell_type": "markdown",
   "metadata": {
    "slideshow": {
     "slide_type": "slide"
    }
   },
   "source": [
    "Iterables can be used in a `for` loop and in many other places where a sequence is needed (`zip()`, `map()`, …). When an iterable object is passed as an argument to the built-in function `iter()`, it returns an **iterator** for the object. This iterator is good for **one pass** over the set of values. When using iterables, it is usually **not necessary to call `iter()`** or deal with iterator objects yourself. The `for` statement **does that automatically for you,** creating a **temporary unnamed variable** to hold the iterator for the duration of the loop. *See also iterator, sequence, and generator.*\n",
    "\n",
    "--Python glossary"
   ]
  },
  {
   "cell_type": "markdown",
   "metadata": {
    "slideshow": {
     "slide_type": "slide"
    }
   },
   "source": [
    "## Iterable\n",
    "* returns members one at a time\n",
    "* e.g, `list`, `str`, `tuple` (sequence types)\n",
    "* any class with `__iter__()` method that returns iterator\n",
    "* **or** any class with `__getitem__()` with sequence semantics\n",
    "* `for` statement creates an unnamed iterator from iterable automatically"
   ]
  },
  {
   "cell_type": "markdown",
   "metadata": {
    "slideshow": {
     "slide_type": "slide"
    }
   },
   "source": [
    "### An iterable...\n",
    "\n",
    "must return an iterator when the `iter()` function is called on it.\n",
    "\n",
    "#### There are 2 ways an object can return a iterator - it can\n",
    "* have a **`__getitem__()`** method with Sequence semantics - i.e., access items by integer index in [ ].\n",
    "* implement an **`__iter__()`** method that returns an iterator (more on this soon)\n"
   ]
  },
  {
   "cell_type": "markdown",
   "metadata": {
    "slideshow": {
     "slide_type": "slide"
    }
   },
   "source": [
    "### ~~Repetitive collections/series of data~~ Iterables\n",
    "\n",
    "* lists (arrays), tuples\n",
    "* strings\n",
    "\n",
    "But also\n",
    "* dictionary keys/items\n",
    "* sets\n",
    "* files\n",
    "* database query results\n",
    "* etc"
   ]
  },
  {
   "cell_type": "markdown",
   "metadata": {
    "slideshow": {
     "slide_type": "slide"
    }
   },
   "source": [
    "### Iterable\n",
    "\n",
    "**Most of the above examples (except recursion) rely on the data being accessible by index, and by adjusting the index.**\n",
    "\n",
    "* Only things with a predictable, known order can be indexed\n",
    "* Those index values tend to be integers\n",
    "\n",
    "Indexable series like that are one type of **iterable**"
   ]
  },
  {
   "cell_type": "markdown",
   "metadata": {
    "slideshow": {
     "slide_type": "slide"
    }
   },
   "source": [
    "### Is it an iterable?\n",
    "* Does it have an `__iter__()` method?"
   ]
  },
  {
   "cell_type": "code",
   "execution_count": 2,
   "metadata": {
    "slideshow": {
     "slide_type": "slide"
    }
   },
   "outputs": [
    {
     "data": {
      "text/plain": [
       "True"
      ]
     },
     "execution_count": 2,
     "metadata": {},
     "output_type": "execute_result"
    }
   ],
   "source": [
    "# check with hasattr\n",
    "a_list = [1, 2, 3, 4]\n",
    "\n",
    "hasattr(a_list, \"__iter__\")"
   ]
  },
  {
   "cell_type": "markdown",
   "metadata": {
    "slideshow": {
     "slide_type": "slide"
    }
   },
   "source": [
    "* Does it have `__getitem__()` that is sequence compliant? (harder to decide)"
   ]
  },
  {
   "cell_type": "markdown",
   "metadata": {
    "slideshow": {
     "slide_type": "slide"
    }
   },
   "source": [
    "### EAFP - Easier to Ask for Forgiveness than Permission\n",
    "\n",
    "i.e, does calling `iter()` on it return an iterator? or an exception?"
   ]
  },
  {
   "cell_type": "code",
   "execution_count": 3,
   "metadata": {
    "slideshow": {
     "slide_type": "slide"
    }
   },
   "outputs": [
    {
     "name": "stdout",
     "output_type": "stream",
     "text": [
      "Iterable: <str_iterator object at 0x7f87983acb00> is type(<str_iterator object at 0x7f87983acb00>)\n",
      "\n",
      "Not Iterable: 'int' object is not iterable\n",
      "\n",
      "Iterable: <_io.TextIOWrapper name='Iteration Inside Out.ipynb' mode='r' encoding='UTF-8'> is type(<_io.TextIOWrapper name='Iteration Inside Out.ipynb' mode='r' encoding='UTF-8'>)\n",
      "\n",
      "Iterable: <dict_keyiterator object at 0x7f87983285e8> is type(<dict_keyiterator object at 0x7f87983285e8>)\n",
      "\n"
     ]
    }
   ],
   "source": [
    "is_it_iterable  = [\"asd\", 1,  open(\"Iteration Inside Out.ipynb\"), \n",
    "                  {\"one\":1, \"two\":2}]\n",
    "\n",
    "for item in is_it_iterable:\n",
    "\n",
    "    try:\n",
    "        an_iterator = iter(item)\n",
    "    except TypeError as e:\n",
    "        print(f\"Not Iterable: {e}\\n\")\n",
    "    else:\n",
    "        print(f\"Iterable: {an_iterator} is type({an_iterator})\\n\")"
   ]
  },
  {
   "cell_type": "markdown",
   "metadata": {
    "slideshow": {
     "slide_type": "slide"
    }
   },
   "source": [
    "## Let’s make an iterable -  `Repeater`\n",
    "\n",
    "A object that can be iterated over and returns the same value for the specified number of times.\n",
    "\n",
    "```\n",
    "repeat = Repeater(\"hello\", 4)\n",
    "\n",
    "for i in repeat:\n",
    "    print(i)\n",
    "\n",
    "hello\n",
    "hello\n",
    "hello\n",
    "hello\n",
    "```"
   ]
  },
  {
   "cell_type": "markdown",
   "metadata": {
    "slideshow": {
     "slide_type": "slide"
    }
   },
   "source": [
    "### As an iterable, using `__getitem__()`"
   ]
  },
  {
   "cell_type": "code",
   "execution_count": 5,
   "metadata": {
    "slideshow": {
     "slide_type": "slide"
    }
   },
   "outputs": [],
   "source": [
    "class Repeater:\n",
    "    def __init__(self, value, limit):\n",
    "        self.value = value\n",
    "        self.limit = limit\n",
    "        \n",
    "    def __getitem__(self, index):\n",
    "        if 0 <= index < self.limit:\n",
    "            return self.value\n",
    "        else:\n",
    "            raise IndexError"
   ]
  },
  {
   "cell_type": "code",
   "execution_count": 6,
   "metadata": {
    "slideshow": {
     "slide_type": "slide"
    }
   },
   "outputs": [
    {
     "data": {
      "text/plain": [
       "False"
      ]
     },
     "execution_count": 6,
     "metadata": {},
     "output_type": "execute_result"
    }
   ],
   "source": [
    "repeat = Repeater(\"hello\", 4)\n",
    "\n",
    "# does it have an __iter__ method?\n",
    "hasattr(repeat, \"__iter__\")"
   ]
  },
  {
   "cell_type": "code",
   "execution_count": 9,
   "metadata": {
    "slideshow": {
     "slide_type": "slide"
    }
   },
   "outputs": [
    {
     "ename": "IndexError",
     "evalue": "",
     "output_type": "error",
     "traceback": [
      "\u001b[0;31m---------------------------------------------------------------------------\u001b[0m",
      "\u001b[0;31mIndexError\u001b[0m                                Traceback (most recent call last)",
      "\u001b[0;32m<ipython-input-9-eee8ca018c55>\u001b[0m in \u001b[0;36m<module>\u001b[0;34m()\u001b[0m\n\u001b[1;32m      1\u001b[0m \u001b[0;31m# __getitem__ with sequence semantics?\u001b[0m\u001b[0;34m\u001b[0m\u001b[0;34m\u001b[0m\u001b[0;34m\u001b[0m\u001b[0m\n\u001b[1;32m      2\u001b[0m \u001b[0;34m\u001b[0m\u001b[0m\n\u001b[0;32m----> 3\u001b[0;31m \u001b[0mrepeat\u001b[0m\u001b[0;34m[\u001b[0m\u001b[0;36m4\u001b[0m\u001b[0;34m]\u001b[0m\u001b[0;34m\u001b[0m\u001b[0;34m\u001b[0m\u001b[0m\n\u001b[0m",
      "\u001b[0;32m<ipython-input-5-378b8614dfbc>\u001b[0m in \u001b[0;36m__getitem__\u001b[0;34m(self, index)\u001b[0m\n\u001b[1;32m      8\u001b[0m             \u001b[0;32mreturn\u001b[0m \u001b[0mself\u001b[0m\u001b[0;34m.\u001b[0m\u001b[0mvalue\u001b[0m\u001b[0;34m\u001b[0m\u001b[0;34m\u001b[0m\u001b[0m\n\u001b[1;32m      9\u001b[0m         \u001b[0;32melse\u001b[0m\u001b[0;34m:\u001b[0m\u001b[0;34m\u001b[0m\u001b[0;34m\u001b[0m\u001b[0m\n\u001b[0;32m---> 10\u001b[0;31m             \u001b[0;32mraise\u001b[0m \u001b[0mIndexError\u001b[0m\u001b[0;34m\u001b[0m\u001b[0;34m\u001b[0m\u001b[0m\n\u001b[0m",
      "\u001b[0;31mIndexError\u001b[0m: "
     ]
    }
   ],
   "source": [
    "# __getitem__ with sequence semantics?\n",
    "\n",
    "repeat[4]"
   ]
  },
  {
   "cell_type": "code",
   "execution_count": 10,
   "metadata": {
    "slideshow": {
     "slide_type": "slide"
    }
   },
   "outputs": [
    {
     "data": {
      "text/plain": [
       "<iterator at 0x7f879835f2b0>"
      ]
     },
     "execution_count": 10,
     "metadata": {},
     "output_type": "execute_result"
    }
   ],
   "source": [
    "# can the iter() function return an iterator?\n",
    "\n",
    "iter(repeat)"
   ]
  },
  {
   "cell_type": "code",
   "execution_count": 11,
   "metadata": {
    "slideshow": {
     "slide_type": "slide"
    }
   },
   "outputs": [
    {
     "name": "stdout",
     "output_type": "stream",
     "text": [
      "hello\n",
      "hello\n",
      "hello\n",
      "hello\n"
     ]
    }
   ],
   "source": [
    "# for loop\n",
    "\n",
    "for item in repeat:\n",
    "    print(item)"
   ]
  },
  {
   "cell_type": "code",
   "execution_count": 12,
   "metadata": {
    "slideshow": {
     "slide_type": "slide"
    }
   },
   "outputs": [
    {
     "data": {
      "text/plain": [
       "['hello', 'hello', 'hello', 'hello']"
      ]
     },
     "execution_count": 12,
     "metadata": {},
     "output_type": "execute_result"
    }
   ],
   "source": [
    "# list comprehension\n",
    "\n",
    "[x for x in repeat]"
   ]
  },
  {
   "cell_type": "markdown",
   "metadata": {
    "slideshow": {
     "slide_type": "slide"
    }
   },
   "source": [
    "### Behind the scenes\n",
    "\n",
    "* an iterator is being created from the `repeat` object\n",
    "* it can return the items using integer indexes starting from 0\n",
    "* it continues until an IndexError is thrown\n",
    "* each time it is iterated on a new iterator is created and it starts from the beginning"
   ]
  },
  {
   "cell_type": "code",
   "execution_count": null,
   "metadata": {
    "slideshow": {
     "slide_type": "slide"
    }
   },
   "outputs": [],
   "source": [
    "class Repeater:\n",
    "    def __init__(self, value, limit):\n",
    "        self.value = value\n",
    "        self.limit = limit\n",
    "        \n",
    "    def __getitem__(self, index):      # The bit we need for an iterable\n",
    "        if 0 <= index < self.limit:\n",
    "            return self.value\n",
    "        else:\n",
    "            raise IndexError      # only needed if we want iteration to end"
   ]
  },
  {
   "cell_type": "markdown",
   "metadata": {
    "slideshow": {
     "slide_type": "slide"
    }
   },
   "source": [
    "### Yes, it's really that simple...\n",
    "\n",
    "* ONLY the `__getitem__()` method was needed\n",
    "* an IndexError is needed to end iteration\n"
   ]
  },
  {
   "cell_type": "markdown",
   "metadata": {
    "slideshow": {
     "slide_type": "slide"
    }
   },
   "source": [
    "## But... what's an *Iterator*?\n",
    "\n",
    "The Python `for` loop relies on being able to get a **next** item, but...\n",
    "\n",
    "* the **iterable** doesn't know which item is next\n",
    "* **the loop itself doesn't care** exactly where in the series that item is (or what type it is)\n",
    "* the loop relies on the **iterator** to keep track of what's next\n",
    "* any object that can do that can be iterated over, i.e., it is an **iterator**\n",
    "\n",
    "\n",
    "An **iterator** has a `__next__()` method (in Python 2 `next()`) that tracks and returns the next item in the series, and you use the `next()` function to return the next item for iteration."
   ]
  },
  {
   "cell_type": "markdown",
   "metadata": {
    "slideshow": {
     "slide_type": "slide"
    }
   },
   "source": [
    "### Iterator\n",
    "* has `__next__()` method\n",
    "* calls to `__next__()` method (`next()` function) return successive items\n",
    "* raises `StopIteration` when no more data\n",
    "* further calls just raise `StopIteration`\n",
    "* must have `__iter__()` method, which returns self\n",
    "* iterators are therefore iterables\n",
    "* once exhausted they do not “refresh”"
   ]
  },
  {
   "cell_type": "markdown",
   "metadata": {
    "slideshow": {
     "slide_type": "slide"
    }
   },
   "source": [
    "### iterator\n",
    "\n",
    "An object representing **a stream of data**. Repeated **calls to the iterator’s `__next__()`** method (or passing it to the built-in function `next()`) **return successive items** in the stream. When **no more data are available a StopIteration exception is raised** instead. At this point, the iterator object is exhausted and any further calls to its `__next__()` method just raise StopIteration again... "
   ]
  },
  {
   "cell_type": "markdown",
   "metadata": {
    "slideshow": {
     "slide_type": "slide"
    }
   },
   "source": [
    "..Iterators are required to have an `__iter__()` method that returns the iterator object itself so **every iterator is also iterable** and may be used in most places where other iterables are accepted. One notable exception is code which attempts multiple iteration passes. **A container object (such as a list) produces a fresh new iterator each time** you pass it to the `iter()` function or use it in a for loop. Attempting this **with an iterator will just return the same exhausted iterator object** used in the previous iteration pass, making it appear like an empty container.\n",
    "\n",
    "--Python glossary"
   ]
  },
  {
   "cell_type": "markdown",
   "metadata": {
    "slideshow": {
     "slide_type": "slide"
    }
   },
   "source": [
    "### Let’s make a iterator - `RepeatIterator`\n",
    "\n",
    "* implement `__next__()` method to return next item\n",
    "* implement `__iter__()` method to return itself"
   ]
  },
  {
   "cell_type": "code",
   "execution_count": 13,
   "metadata": {
    "slideshow": {
     "slide_type": "slide"
    }
   },
   "outputs": [],
   "source": [
    "class RepeatIterator:\n",
    "    def __init__(self, value, limit):\n",
    "        self.value = value\n",
    "        self.limit = limit\n",
    "        self.count = 0\n",
    "        \n",
    "    def __next__(self):  \n",
    "        if self.count < self.limit:\n",
    "            self.count += 1\n",
    "            return self.value\n",
    "        else:\n",
    "            raise StopIteration\n",
    "            \n",
    "    def __iter__(self):\n",
    "        return self\n"
   ]
  },
  {
   "cell_type": "code",
   "execution_count": 14,
   "metadata": {
    "slideshow": {
     "slide_type": "slide"
    }
   },
   "outputs": [
    {
     "ename": "TypeError",
     "evalue": "'RepeatIterator' object is not subscriptable",
     "output_type": "error",
     "traceback": [
      "\u001b[0;31m---------------------------------------------------------------------------\u001b[0m",
      "\u001b[0;31mTypeError\u001b[0m                                 Traceback (most recent call last)",
      "\u001b[0;32m<ipython-input-14-0d6d17b7ad64>\u001b[0m in \u001b[0;36m<module>\u001b[0;34m()\u001b[0m\n\u001b[1;32m      2\u001b[0m \u001b[0;34m\u001b[0m\u001b[0m\n\u001b[1;32m      3\u001b[0m \u001b[0;31m# __getitem__ with sequence semantics?\u001b[0m\u001b[0;34m\u001b[0m\u001b[0;34m\u001b[0m\u001b[0;34m\u001b[0m\u001b[0m\n\u001b[0;32m----> 4\u001b[0;31m \u001b[0mrepeat_iter\u001b[0m\u001b[0;34m[\u001b[0m\u001b[0;36m0\u001b[0m\u001b[0;34m]\u001b[0m\u001b[0;34m\u001b[0m\u001b[0;34m\u001b[0m\u001b[0m\n\u001b[0m",
      "\u001b[0;31mTypeError\u001b[0m: 'RepeatIterator' object is not subscriptable"
     ]
    }
   ],
   "source": [
    "repeat_iter = RepeatIterator(\"Hi\", 4)\n",
    "\n",
    "# __getitem__ with sequence semantics?\n",
    "repeat_iter[0]"
   ]
  },
  {
   "cell_type": "code",
   "execution_count": 15,
   "metadata": {
    "slideshow": {
     "slide_type": "slide"
    }
   },
   "outputs": [
    {
     "data": {
      "text/plain": [
       "True"
      ]
     },
     "execution_count": 15,
     "metadata": {},
     "output_type": "execute_result"
    }
   ],
   "source": [
    " repeat_iter = RepeatIterator(\"Hi\", 4) \n",
    "# does it have an __iter__ method?\n",
    " hasattr(repeat_iter, \"__iter__\")"
   ]
  },
  {
   "cell_type": "code",
   "execution_count": 16,
   "metadata": {
    "slideshow": {
     "slide_type": "slide"
    }
   },
   "outputs": [
    {
     "data": {
      "text/plain": [
       "'Hi'"
      ]
     },
     "execution_count": 16,
     "metadata": {},
     "output_type": "execute_result"
    }
   ],
   "source": [
    "# does it return next item using next() function?\n",
    "\n",
    "next(repeat_iter)"
   ]
  },
  {
   "cell_type": "code",
   "execution_count": 17,
   "metadata": {
    "slideshow": {
     "slide_type": "slide"
    }
   },
   "outputs": [
    {
     "name": "stdout",
     "output_type": "stream",
     "text": [
      "<__main__.RepeatIterator object at 0x7f8798351dd8>\n",
      "<__main__.RepeatIterator object at 0x7f8798351dd8>\n"
     ]
    }
   ],
   "source": [
    "# calling iter on it, returns object itself\n",
    "print(repeat_iter)\n",
    "\n",
    "repeat_iter_iter = iter(repeat_iter)\n",
    "print(repeat_iter_iter)"
   ]
  },
  {
   "cell_type": "code",
   "execution_count": 18,
   "metadata": {
    "slideshow": {
     "slide_type": "slide"
    }
   },
   "outputs": [
    {
     "name": "stdout",
     "output_type": "stream",
     "text": [
      "<__main__.Repeater object at 0x7f87983ac898>\n",
      "<iterator object at 0x7f87983479e8>\n"
     ]
    }
   ],
   "source": [
    "# calling iter() on iterable always returns new iterator\n",
    "print(repeat)\n",
    "old_repeat_iter = iter(repeat)\n",
    "print(old_repeat_iter)"
   ]
  },
  {
   "cell_type": "code",
   "execution_count": 19,
   "metadata": {
    "slideshow": {
     "slide_type": "slide"
    }
   },
   "outputs": [
    {
     "name": "stdout",
     "output_type": "stream",
     "text": [
      "Hi\n",
      "Hi\n",
      "Hi\n"
     ]
    }
   ],
   "source": [
    "# after 1 next(), how many repetitions left?\n",
    "\n",
    "\n",
    "for item in repeat_iter:\n",
    "    print(item) \n"
   ]
  },
  {
   "cell_type": "code",
   "execution_count": 22,
   "metadata": {
    "slideshow": {
     "slide_type": "slide"
    }
   },
   "outputs": [],
   "source": [
    "# Let's loop again\n",
    "\n",
    "for item in repeat_iter:\n",
    "    print(item)\n"
   ]
  },
  {
   "cell_type": "code",
   "execution_count": 23,
   "metadata": {
    "slideshow": {
     "slide_type": "slide"
    }
   },
   "outputs": [
    {
     "ename": "StopIteration",
     "evalue": "",
     "output_type": "error",
     "traceback": [
      "\u001b[0;31m---------------------------------------------------------------------------\u001b[0m",
      "\u001b[0;31mStopIteration\u001b[0m                             Traceback (most recent call last)",
      "\u001b[0;32m<ipython-input-23-68b4ed9c921a>\u001b[0m in \u001b[0;36m<module>\u001b[0;34m()\u001b[0m\n\u001b[1;32m      1\u001b[0m \u001b[0;31m# one more next?\u001b[0m\u001b[0;34m\u001b[0m\u001b[0;34m\u001b[0m\u001b[0;34m\u001b[0m\u001b[0m\n\u001b[0;32m----> 2\u001b[0;31m \u001b[0mnext\u001b[0m\u001b[0;34m(\u001b[0m\u001b[0mrepeat_iter\u001b[0m\u001b[0;34m)\u001b[0m\u001b[0;34m\u001b[0m\u001b[0;34m\u001b[0m\u001b[0m\n\u001b[0m",
      "\u001b[0;32m<ipython-input-13-8d195528d632>\u001b[0m in \u001b[0;36m__next__\u001b[0;34m(self)\u001b[0m\n\u001b[1;32m     10\u001b[0m             \u001b[0;32mreturn\u001b[0m \u001b[0mself\u001b[0m\u001b[0;34m.\u001b[0m\u001b[0mvalue\u001b[0m\u001b[0;34m\u001b[0m\u001b[0;34m\u001b[0m\u001b[0m\n\u001b[1;32m     11\u001b[0m         \u001b[0;32melse\u001b[0m\u001b[0;34m:\u001b[0m\u001b[0;34m\u001b[0m\u001b[0;34m\u001b[0m\u001b[0m\n\u001b[0;32m---> 12\u001b[0;31m             \u001b[0;32mraise\u001b[0m \u001b[0mStopIteration\u001b[0m\u001b[0;34m\u001b[0m\u001b[0;34m\u001b[0m\u001b[0m\n\u001b[0m\u001b[1;32m     13\u001b[0m \u001b[0;34m\u001b[0m\u001b[0m\n\u001b[1;32m     14\u001b[0m     \u001b[0;32mdef\u001b[0m \u001b[0m__iter__\u001b[0m\u001b[0;34m(\u001b[0m\u001b[0mself\u001b[0m\u001b[0;34m)\u001b[0m\u001b[0;34m:\u001b[0m\u001b[0;34m\u001b[0m\u001b[0;34m\u001b[0m\u001b[0m\n",
      "\u001b[0;31mStopIteration\u001b[0m: "
     ]
    }
   ],
   "source": [
    "# one more next?\n",
    "next(repeat_iter) \n"
   ]
  },
  {
   "cell_type": "code",
   "execution_count": null,
   "metadata": {
    "slideshow": {
     "slide_type": "slide"
    }
   },
   "outputs": [],
   "source": [
    "### So making an iterator is pretty easy, too...“\n",
    "* `__next__()` method \n",
    "* `__iter__()` method that returns self\n",
    "* “exhaustion” after one pass"
   ]
  },
  {
   "cell_type": "markdown",
   "metadata": {
    "slideshow": {
     "slide_type": "slide"
    }
   },
   "source": [
    "### (but you probably want to use a generator instead... see below)"
   ]
  },
  {
   "cell_type": "markdown",
   "metadata": {
    "slideshow": {
     "slide_type": "slide"
    }
   },
   "source": [
    "## Iteration in Python\n",
    "\n",
    "* is a **protocol** (since Python 2.2)\n",
    "* requires an **iterable** to iterate over\n",
    "* requires an **iterator** (often automatically created behind the scenes) to track what's **next**\n",
    "* **iterators can be used as iterables,** but don't \"renew\"\n"
   ]
  },
  {
   "cell_type": "code",
   "execution_count": null,
   "metadata": {
    "slideshow": {
     "slide_type": "slide"
    }
   },
   "outputs": [],
   "source": [
    "class MyCounter(object):\n",
    "    def __init__(self, limit):\n",
    "        self.limit = limit\n",
    "        self._i = 0\n",
    "    \n",
    "    # def next(self): in Python2.x\n",
    "    def __next__(self):\n",
    "        if self._i < self.limit:\n",
    "            cur_value = self._i\n",
    "            self._i += 1\n",
    "            return cur_value\n",
    "        else: \n",
    "            raise StopIteration()\n",
    "    def __iter__(self):\n",
    "        return self\n",
    "\n",
    "for x in MyCounter(4):\n",
    "    print(x)"
   ]
  },
  {
   "cell_type": "markdown",
   "metadata": {
    "slideshow": {
     "slide_type": "slide"
    }
   },
   "source": [
    "### How would we make a fib iterator?\n",
    "\n",
    "**Coding Exercise:** create an iterator class that return fibonacci numbers up to limit given when the object was created. \n",
    "\n",
    "So:\n",
    "```\n",
    "my_fibiter = FibIter(6)\n",
    "for fib in my_fibiter:\n",
    "    print(fib)\n",
    "    \n",
    "1\n",
    "1\n",
    "2\n",
    "3\n",
    "5\n",
    "8\n",
    "```"
   ]
  },
  {
   "cell_type": "code",
   "execution_count": 24,
   "metadata": {
    "scrolled": true,
    "slideshow": {
     "slide_type": "slide"
    }
   },
   "outputs": [
    {
     "name": "stdout",
     "output_type": "stream",
     "text": [
      "1\n",
      "1\n",
      "2\n",
      "3\n",
      "5\n",
      "8\n"
     ]
    }
   ],
   "source": [
    "class FibIter(object):\n",
    "    def __init__(self, limit):\n",
    "        self.limit = limit\n",
    "        self._cur_fib = 0\n",
    "        self._next_fib = 1\n",
    "        self._i = 0\n",
    "         \n",
    "    # def next(self): in Python2.x\n",
    "    def __next__(self):\n",
    "        if self._i < self.limit:\n",
    "            if self._i > 0:\n",
    "                self._cur_fib, self._next_fib = self._next_fib, self._cur_fib + self._next_fib\n",
    "            self._i += 1\n",
    "            return self._next_fib\n",
    "        else: \n",
    "            self._cur_fib, self._next_fib = 0, 1\n",
    "            raise StopIteration(\"end of iterator\")\n",
    "            \n",
    "    def __iter__(self):\n",
    "        return self\n",
    "    \n",
    "     \n",
    "fib_6 = FibIter(6)\n",
    "for fb in fib_6:\n",
    "    print(fb)\n",
    "  \n"
   ]
  },
  {
   "cell_type": "markdown",
   "metadata": {
    "slideshow": {
     "slide_type": "slide"
    }
   },
   "source": [
    "### Fooling around - making an indexable fibonacci seqence\n",
    "\n",
    "**Additional challenge** Create a class that when instantiated will let you use index access to get the nth fibonacci number, again, up to the limit specified. So:\n",
    "\n",
    "```\n",
    "fibs = FibList(6)\n",
    "fibs[5] --> 8\n",
    "fibs[0] --> 1\n",
    "```\n",
    "\n",
    "To make a class indexable it needs to implement a `__getitem__` method that takes an index and returns the element **and** it needs to raise an IndexError when the index is >= the limit.\n",
    "```\n",
    "class SomeIndexable(object):\n",
    "    def __getitem__(self, index):\n",
    "         return an_item\n",
    "```\n",
    "\n",
    "You should be able to use this in a for loop as well."
   ]
  },
  {
   "cell_type": "code",
   "execution_count": null,
   "metadata": {
    "slideshow": {
     "slide_type": "slide"
    }
   },
   "outputs": [],
   "source": [
    "# a naive version\n",
    "\n",
    "class FibList(object):\n",
    "    \n",
    "    def __init__(self, limit):\n",
    "        self.limit = limit\n",
    "        \n",
    "    def __getitem__(self, index):\n",
    "        if 0 <= index < self.limit:\n",
    "            return self.get_fib(index)\n",
    "        else:\n",
    "            raise IndexError\n",
    "    \n",
    "    def get_fib(self, fib_num):\n",
    "        cur_fib = 0\n",
    "        next_fib = 1\n",
    "        for i in range(0, fib_num):\n",
    "            cur_fib, next_fib = next_fib, cur_fib + next_fib\n",
    "        return next_fib\n",
    "\n",
    "fibs = FibList(6)\n",
    "\n",
    "for x in fibs:\n",
    "    print(x)\n",
    "print()\n",
    " "
   ]
  },
  {
   "cell_type": "markdown",
   "metadata": {
    "slideshow": {
     "slide_type": "slide"
    }
   },
   "source": [
    "## Generators"
   ]
  },
  {
   "cell_type": "markdown",
   "metadata": {
    "slideshow": {
     "slide_type": "slide"
    }
   },
   "source": [
    "### Generator expressions\n",
    "\n",
    "A generator expression is another way to ceate an iterable and use next to iterate over it.\n",
    "\n",
    "* similar to a list comprehension, but uses ( ) instead of [ ]\n",
    "* iterates over iterable as called (unlike list comprehension)"
   ]
  },
  {
   "cell_type": "code",
   "execution_count": 35,
   "metadata": {
    "slideshow": {
     "slide_type": "slide"
    }
   },
   "outputs": [
    {
     "name": "stdout",
     "output_type": "stream",
     "text": [
      "<generator object <genexpr> at 0x7f8798289930>\n",
      "True\n",
      "1\n",
      "2\n",
      "3\n",
      "4\n",
      "5\n"
     ]
    }
   ],
   "source": [
    "a_list = [1, 2, 3, 4]\n",
    "\n",
    "# create generator expression\n",
    "a_list_gen = (z for z in  st)\n",
    "a_list.append(5)\n",
    "print(a_list_gen)\n",
    "print(hasattr(a_list_gen, \"__iter__\"))\n",
    "\n",
    "#print(next(a_list_gen))\n",
    "for x in a_list_gen:\n",
    "    print(x)\n",
    "\n",
    "for x in a_list_gen:\n",
    "    print(x)\n",
    "\n",
    "#next(a_list_gen)"
   ]
  },
  {
   "cell_type": "code",
   "execution_count": 39,
   "metadata": {
    "slideshow": {
     "slide_type": "slide"
    }
   },
   "outputs": [
    {
     "name": "stdout",
     "output_type": "stream",
     "text": [
      "1\n",
      "2\n",
      "3\n",
      "4\n",
      "1\n",
      "2\n",
      "3\n",
      "4\n",
      "1\n",
      "2\n"
     ]
    },
    {
     "data": {
      "text/plain": [
       "[1, 2, 3, 4, 1, 2, 3, 4, 1, 2]"
      ]
     },
     "execution_count": 39,
     "metadata": {},
     "output_type": "execute_result"
    }
   ],
   "source": [
    "a_list = [1, 2, 3, 4]\n",
    "\n",
    "# list comp is generated all at once, won't change\n",
    "a_list_comp = (z for z in a_list)\n",
    "for x in a_list_comp:\n",
    "    print(x)\n",
    "    if len(a_list) < 10:\n",
    "        a_list.append(x)\n",
    "a_list"
   ]
  },
  {
   "cell_type": "markdown",
   "metadata": {
    "slideshow": {
     "slide_type": "slide"
    }
   },
   "source": [
    "### Generator expression notes\n",
    "\n",
    "* in Python 3 generator expressions/comprehensions have scope, in Python2.x. they are in local scope\n",
    "* (same is true for comprehensions)\n",
    "* generator objects are created when the expression is encountered, but not run until iterated over"
   ]
  },
  {
   "cell_type": "code",
   "execution_count": 41,
   "metadata": {
    "slideshow": {
     "slide_type": "slide"
    }
   },
   "outputs": [
    {
     "name": "stdout",
     "output_type": "stream",
     "text": [
      "10\n",
      "[21, 22, 23, 24, 25]\n"
     ]
    }
   ],
   "source": [
    "old_list = [1, 2, 3, 4, 5]\n",
    "\n",
    "x = 10\n",
    "y = 20\n",
    "\n",
    "new_list = (x + y for x in old_list)\n",
    "\n",
    "print(x)\n",
    "print(list(new_list)) "
   ]
  },
  {
   "cell_type": "markdown",
   "metadata": {
    "slideshow": {
     "slide_type": "slide"
    }
   },
   "source": [
    "## generator functions\n",
    "\n",
    "Generator functions are functions that behave like iterators. \n",
    "\n",
    "* They save their state, so that they can know which is next\n",
    "* They use the `yield` keyword, instead of `return` (`yield` makes a function a generator)\n",
    "* generator functions are iterators"
   ]
  },
  {
   "cell_type": "code",
   "execution_count": 46,
   "metadata": {
    "slideshow": {
     "slide_type": "slide"
    }
   },
   "outputs": [
    {
     "name": "stdout",
     "output_type": "stream",
     "text": [
      "<generator object range_gen at 0x7f8798289cf0>\n",
      "<function range_gen at 0x7f87982ae840>\n",
      "<generator object range_gen at 0x7f8798289b88>\n",
      "<generator object range_gen at 0x7f8798289b88>\n",
      "True\n",
      "True\n"
     ]
    }
   ],
   "source": [
    "def range_gen(limit):\n",
    "    count = -1\n",
    "    while count < limit:\n",
    "        count += 1\n",
    "        yield count\n",
    "    \n",
    "gen_ob = range_gen(5)\n",
    " \n",
    "#for x in gen_ob:\n",
    "#    print(\"x =\", x)\n",
    "\n",
    "print(gen_ob)\n",
    "#next(gen_ob)\n",
    "print(range_gen)\n",
    "print(range_gen(6))\n",
    "gen_ob = range_gen(5)\n",
    "print(gen_ob)\n",
    "print(hasattr(gen_ob, '__next__'))\n",
    "print(hasattr(gen_ob, '__iter__'))  "
   ]
  },
  {
   "cell_type": "code",
   "execution_count": 47,
   "metadata": {
    "scrolled": true,
    "slideshow": {
     "slide_type": "slide"
    }
   },
   "outputs": [
    {
     "name": "stdout",
     "output_type": "stream",
     "text": [
      "x = 0\n",
      "  z = 0\n",
      "  z = 1\n",
      "  z = 2\n",
      "x = 1\n",
      "  z = 0\n",
      "  z = 1\n",
      "  z = 2\n",
      "x = 2\n",
      "  z = 0\n",
      "  z = 1\n",
      "  z = 2\n",
      "x = 3\n",
      "  z = 0\n",
      "  z = 1\n",
      "  z = 2\n",
      "x = 4\n",
      "  z = 0\n",
      "  z = 1\n",
      "  z = 2\n",
      "x = 5\n",
      "  z = 0\n",
      "  z = 1\n",
      "  z = 2\n",
      "<function range_gen at 0x7f87982aeae8>\n",
      "<generator object range_gen at 0x7f8798289750>\n"
     ]
    }
   ],
   "source": [
    "# But can you nest them?\n",
    "\n",
    "def range_gen(limit):\n",
    "    count = -1\n",
    "    while count < limit:\n",
    "        count += 1\n",
    "        yield count\n",
    "\n",
    "for x in range_gen(5):\n",
    "    print(\"x =\", x)\n",
    "    for z in range_gen(2):\n",
    "        print(\"  z =\", z )\n",
    "\n",
    "print(range_gen)\n",
    "print(range_gen(5))"
   ]
  },
  {
   "cell_type": "code",
   "execution_count": 48,
   "metadata": {
    "scrolled": true,
    "slideshow": {
     "slide_type": "slide"
    }
   },
   "outputs": [
    {
     "name": "stdout",
     "output_type": "stream",
     "text": [
      "<generator object range_gen at 0x7f87982897c8>\n",
      "rg top - 0\n",
      "rg bot test 0 0\n",
      "rg top test 0 1\n",
      "main 0\n",
      "rg bot None 1\n",
      "rg top None 2\n",
      "rg bot test 2 2\n",
      "rg top test 2 3\n",
      "main 2\n",
      "rg bot None 3\n"
     ]
    }
   ],
   "source": [
    "# generators are in fact, as 2 way street...\n",
    "\n",
    "def range_gen(count):\n",
    "    line = \"-\"\n",
    "    for i in range(count):\n",
    "        print(f\"rg top {line} {i}\")\n",
    "        line = yield i\n",
    "        #yield i\n",
    "        print(f\"rg bot {line} {i}\")\n",
    "    \n",
    "r = range_gen(4)\n",
    "print(r)\n",
    "#print(r.send(None))\n",
    "\n",
    "for x in r:\n",
    "    r.send(f\"test {x}\")\n",
    "    print(f\"main {x}\")\n",
    "    "
   ]
  },
  {
   "cell_type": "code",
   "execution_count": null,
   "metadata": {
    "slideshow": {
     "slide_type": "skip"
    }
   },
   "outputs": [],
   "source": [
    "Further async examples - send from, example of send... "
   ]
  },
  {
   "cell_type": "markdown",
   "metadata": {
    "slideshow": {
     "slide_type": "slide"
    }
   },
   "source": [
    "## Code Example: A random generator\n",
    "\n",
    "A generator function that act as an iterator returning a series of random numbers, between 0 and 1. (just using the random() function from the random library\n",
    "\n",
    "```\n",
    "for rand_num in my_random(5):\n",
    "    print i\n",
    "    \n",
    "0.275363631968\n",
    "0.208700754772\n",
    "0.89038020257\n",
    "0.964866223551\n",
    "0.00583451420238\n",
    "```\n",
    "\n",
    "How would you make this more generic to give different ranges and even ints istead of reals?"
   ]
  },
  {
   "cell_type": "code",
   "execution_count": null,
   "metadata": {
    "slideshow": {
     "slide_type": "slide"
    }
   },
   "outputs": [],
   "source": [
    "import random\n",
    "def my_random(count):\n",
    "    for i in range(count):\n",
    "        yield random.random()\n",
    "        \n",
    "for rand_num in my_random(5):\n",
    "    print(rand_num)\n",
    "\n",
    "[x for x in my_random(5)]"
   ]
  },
  {
   "cell_type": "code",
   "execution_count": null,
   "metadata": {
    "slideshow": {
     "slide_type": "slide"
    }
   },
   "outputs": [],
   "source": [
    "import random\n",
    "def my_random(count, floor = 0, ceiling = 1.0):\n",
    "    size = ceiling - floor\n",
    "    for i in range(count):\n",
    "        yield random.random() * size + floor\n",
    "        \n",
    "for rand_num in my_random(5, 0.5, 2.0):\n",
    "    print(rand_num)\n",
    "    "
   ]
  },
  {
   "cell_type": "markdown",
   "metadata": {
    "slideshow": {
     "slide_type": "slide"
    }
   },
   "source": [
    "### Exercise: How could we make a fibonacci generator?\n",
    "\n",
    "Considering what we've seen about generator functions, how could we make a generator function for fibonacii numbers? \n",
    "\n",
    "Based on the example above, implement a generator that would return the first n fibonacci numbers."
   ]
  },
  {
   "cell_type": "code",
   "execution_count": null,
   "metadata": {
    "slideshow": {
     "slide_type": "slide"
    }
   },
   "outputs": [],
   "source": [
    "def fib_gen(limit):\n",
    "    cur_fib = 0\n",
    "    next_fib = 1\n",
    "    yield next_fib\n",
    "    count = 1\n",
    "    while count < limit:\n",
    "        cur_fib, next_fib = next_fib, cur_fib + next_fib\n",
    "        yield next_fib\n",
    "        count += 1\n",
    "        \n",
    "for x in fib_gen(6):\n",
    "    print(x)"
   ]
  },
  {
   "cell_type": "markdown",
   "metadata": {
    "slideshow": {
     "slide_type": "slide"
    }
   },
   "source": [
    "## Useful iterables - collections library"
   ]
  },
  {
   "cell_type": "markdown",
   "metadata": {
    "slideshow": {
     "slide_type": "slide"
    }
   },
   "source": [
    "### deque"
   ]
  },
  {
   "cell_type": "code",
   "execution_count": null,
   "metadata": {
    "slideshow": {
     "slide_type": "slide"
    }
   },
   "outputs": [],
   "source": [
    "from collections import deque\n",
    "\n",
    "dq = deque()\n",
    "dq.append(1)\n",
    "print(dq)\n",
    "dq.appendleft(0)\n",
    "dq.append(2)\n",
    "print(dq)\n",
    "print(dq.popleft())\n",
    "print(dq)\n"
   ]
  },
  {
   "cell_type": "markdown",
   "metadata": {
    "slideshow": {
     "slide_type": "slide"
    }
   },
   "source": [
    "### defaultdict\n",
    "\n",
    "Sets adds keys on access with default type."
   ]
  },
  {
   "cell_type": "code",
   "execution_count": 49,
   "metadata": {
    "slideshow": {
     "slide_type": "fragment"
    }
   },
   "outputs": [
    {
     "name": "stdout",
     "output_type": "stream",
     "text": [
      "defaultdict(<class 'int'>, {})\n",
      "defaultdict(<class 'int'>, {'first': 1})\n"
     ]
    }
   ],
   "source": [
    "from collections import defaultdict\n",
    "\n",
    "counts = defaultdict(int)\n",
    "print(counts)\n",
    "counts['first'] += 1\n",
    "print(counts) "
   ]
  },
  {
   "cell_type": "markdown",
   "metadata": {
    "slideshow": {
     "slide_type": "slide"
    }
   },
   "source": [
    "### OrderedDict\n",
    "\n",
    "* Dictionary keeps keys in order added\n",
    "* Also can move to either end"
   ]
  },
  {
   "cell_type": "code",
   "execution_count": 50,
   "metadata": {
    "slideshow": {
     "slide_type": "fragment"
    }
   },
   "outputs": [
    {
     "name": "stdout",
     "output_type": "stream",
     "text": [
      "OrderedDict([('z', 1), ('a', 2), ('q', 3)])\n"
     ]
    }
   ],
   "source": [
    "from collections import OrderedDict\n",
    "\n",
    "o_dict = OrderedDict()\n",
    "o_dict['z'] = 1\n",
    "o_dict['a'] = 2\n",
    "o_dict['q'] = 3\n",
    "print(o_dict)"
   ]
  },
  {
   "cell_type": "markdown",
   "metadata": {
    "slideshow": {
     "slide_type": "slide"
    }
   },
   "source": [
    "### Dicts ordered in order of key creation from 3.6"
   ]
  },
  {
   "cell_type": "code",
   "execution_count": 51,
   "metadata": {
    "slideshow": {
     "slide_type": "fragment"
    }
   },
   "outputs": [
    {
     "name": "stdout",
     "output_type": "stream",
     "text": [
      "{'z': 1, 'a': 2, 'q': 3}\n"
     ]
    }
   ],
   "source": [
    "plain_dict = {}\n",
    "plain_dict['z'] = 1\n",
    "plain_dict['a'] = 2\n",
    "plain_dict['q'] = 3\n",
    "print(plain_dict)"
   ]
  },
  {
   "cell_type": "markdown",
   "metadata": {
    "slideshow": {
     "slide_type": "slide"
    }
   },
   "source": [
    "### Counter\n",
    "\n",
    "Counts occurrences of hashable objects"
   ]
  },
  {
   "cell_type": "code",
   "execution_count": 52,
   "metadata": {
    "scrolled": true,
    "slideshow": {
     "slide_type": "slide"
    }
   },
   "outputs": [
    {
     "name": "stdout",
     "output_type": "stream",
     "text": [
      "[('the', 14412), ('of', 6668), ('and', 6309), ('a', 4658), ('to', 4595), ('in', 4116), ('that', 2759), ('his', 2485), ('it', 1776), ('with', 1750), ('i', 1724), ('as', 1713), ('he', 1683), ('but', 1672), ('is', 1604), ('was', 1577), ('for', 1557), ('all', 1359), ('at', 1312), ('this', 1283), ('by', 1177), ('from', 1100), ('not', 1086), ('be', 1006), ('on', 961), ('so', 878), ('you', 841), ('one', 782), ('or', 776), ('had', 763), ('have', 759), ('were', 649), ('they', 644), ('their', 619), ('some', 606), ('are', 594), ('an', 592), ('my', 575), ('which', 564), ('like', 564), ('upon', 558), ('him', 555), ('when', 550), ('whale', 532), ('into', 519), ('there', 503), ('now', 501), ('no', 490), ('what', 476), ('if', 464), ('out', 443), ('more', 434), ('we', 433), ('old', 426), ('up', 424), ('would', 416), ('been', 401), ('these', 380), ('its', 379), ('then', 370), ('over', 365), ('such', 361), ('only', 361), ('other', 357), ('will', 356), ('any', 349), ('me', 342), ('very', 313), ('though', 311), ('than', 309), ('down', 306), ('those', 303), ('great', 292), ('has', 286), ('about', 284), ('still', 282), ('most', 281), ('must', 279), ('her', 277), ('them', 274), ('who', 274), ('seemed', 273), ('yet', 273), ('do', 269), ('ye', 267), ('two', 267), ('long', 263), ('before', 259), ('your', 256), ('after', 254), ('said', 250), ('man', 242), ('white', 240), ('it,', 237), ('ahab', 235), ('little', 234), ('him,', 233), ('ship', 231), ('did', 231), ('thou', 230)]\n"
     ]
    }
   ],
   "source": [
    "from collections import Counter\n",
    "\n",
    "word_count = Counter()\n",
    "\n",
    "with open(\"moby_dick.txt\") as moby_raw:\n",
    "    for line in moby_raw:\n",
    "        word_count.update(line.lower().split())\n",
    "        \n",
    "print(word_count.most_common()[:100])"
   ]
  },
  {
   "cell_type": "markdown",
   "metadata": {
    "slideshow": {
     "slide_type": "slide"
    }
   },
   "source": [
    "## Useful iterators"
   ]
  },
  {
   "cell_type": "markdown",
   "metadata": {
    "slideshow": {
     "slide_type": "slide"
    }
   },
   "source": [
    "### `enumerate` function\n",
    "\n",
    "Sometimes you want to have the index **and** the item in a for loop... \n",
    "\n",
    "You might be tempted to do this..."
   ]
  },
  {
   "cell_type": "code",
   "execution_count": 53,
   "metadata": {
    "slideshow": {
     "slide_type": "slide"
    }
   },
   "outputs": [
    {
     "name": "stdout",
     "output_type": "stream",
     "text": [
      "0 one\n",
      "1 two\n",
      "2 three\n",
      "3 four\n"
     ]
    }
   ],
   "source": [
    "a_list = [\"one\", \"two\", \"three\", \"four\"]\n",
    "\n",
    "for i in range(len(a_list)):\n",
    "    print(i, a_list[i])\n",
    "\n"
   ]
  },
  {
   "cell_type": "markdown",
   "metadata": {
    "slideshow": {
     "slide_type": "slide"
    }
   },
   "source": [
    "### Just don't! enumerate()!"
   ]
  },
  {
   "cell_type": "code",
   "execution_count": 54,
   "metadata": {
    "slideshow": {
     "slide_type": "subslide"
    }
   },
   "outputs": [
    {
     "name": "stdout",
     "output_type": "stream",
     "text": [
      "0 one\n",
      "1 two\n",
      "2 three\n",
      "3 four\n"
     ]
    }
   ],
   "source": [
    "a_list = [\"one\", \"two\", \"three\", \"four\"]\n",
    "\n",
    "for index, element in enumerate(a_list):\n",
    "    print(index, element) "
   ]
  },
  {
   "cell_type": "code",
   "execution_count": 55,
   "metadata": {
    "slideshow": {
     "slide_type": "slide"
    }
   },
   "outputs": [
    {
     "name": "stdout",
     "output_type": "stream",
     "text": [
      "1 one\n",
      "2 two\n",
      "3 three\n",
      "4 four\n"
     ]
    }
   ],
   "source": [
    "# you can also specify the starting index\n",
    "a_list = [\"one\", \"two\", \"three\", \"four\"]\n",
    "\n",
    "for index, element in enumerate(a_list, 1):\n",
    "    print(index, element)\n"
   ]
  },
  {
   "cell_type": "markdown",
   "metadata": {
    "slideshow": {
     "slide_type": "slide"
    }
   },
   "source": [
    "### Advantages of enumerate()\n",
    "\n",
    "* an iterator: memory efficient\n",
    "* takes any iterator or sequence"
   ]
  },
  {
   "cell_type": "markdown",
   "metadata": {
    "slideshow": {
     "slide_type": "slide"
    }
   },
   "source": [
    "### `iter()`\n",
    "\n",
    "* with iterable, returns iterator, as above\n",
    "* with callable and sentinel, calls callable until sentinel is returned"
   ]
  },
  {
   "cell_type": "code",
   "execution_count": 56,
   "metadata": {
    "slideshow": {
     "slide_type": "slide"
    }
   },
   "outputs": [
    {
     "name": "stdout",
     "output_type": "stream",
     "text": [
      "enter choice or 'q' to quit lkhkjhkjh\n",
      "lkhkjhkjh\n",
      "enter choice or 'q' to quit jjghjgjhgj\n",
      "jjghjgjhgj\n",
      "enter choice or 'q' to quit q\n",
      "exiting - choice was jjghjgjhgj\n"
     ]
    }
   ],
   "source": [
    "def test():\n",
    "    x = input(\"enter choice or 'q' to quit \")\n",
    "    return x\n",
    "\n",
    "for choice in iter(test, 'q'):\n",
    "    print(choice)\n",
    "    \n",
    "print(f\"exiting - choice was {choice}\")"
   ]
  },
  {
   "cell_type": "code",
   "execution_count": null,
   "metadata": {
    "slideshow": {
     "slide_type": "slide"
    }
   },
   "outputs": [],
   "source": [
    "inputs = [x for x in iter(test, 'q')]\n",
    "inputs "
   ]
  },
  {
   "cell_type": "markdown",
   "metadata": {
    "slideshow": {
     "slide_type": "slide"
    }
   },
   "source": [
    "### `reversed()`\n",
    "\n",
    "returns a reverse iterator, providing that object:\n",
    "\n",
    "* has a `__reversed__` method **or**\n",
    "* supports sequence protocol \n",
    "   * `__getitem__` with integer indexes\n",
    "   * `__len__` method"
   ]
  },
  {
   "cell_type": "code",
   "execution_count": 57,
   "metadata": {
    "slideshow": {
     "slide_type": "slide"
    }
   },
   "outputs": [
    {
     "name": "stdout",
     "output_type": "stream",
     "text": [
      "four\n",
      "three\n",
      "two\n",
      "one\n"
     ]
    }
   ],
   "source": [
    "a_list = [\"one\", \"two\", \"three\", \"four\"]\n",
    "\n",
    "for item in reversed(a_list):\n",
    "    print(item)"
   ]
  },
  {
   "cell_type": "markdown",
   "metadata": {
    "slideshow": {
     "slide_type": "slide"
    }
   },
   "source": [
    "### `zip()`\n",
    "\n",
    "* aggregates elements from multiple iterables\n",
    "* stops when any of the iterables is exhausted\n"
   ]
  },
  {
   "cell_type": "code",
   "execution_count": 58,
   "metadata": {
    "slideshow": {
     "slide_type": "slide"
    }
   },
   "outputs": [
    {
     "data": {
      "text/plain": [
       "[(1, 4), (2, 5), (3, 6)]"
      ]
     },
     "execution_count": 58,
     "metadata": {},
     "output_type": "execute_result"
    }
   ],
   "source": [
    "x = [1, 2, 3]\n",
    "y = [4, 5, 6]\n",
    "list(zip(x, y))\n"
   ]
  },
  {
   "cell_type": "code",
   "execution_count": 59,
   "metadata": {
    "slideshow": {
     "slide_type": "slide"
    }
   },
   "outputs": [
    {
     "data": {
      "text/plain": [
       "[(1, 2, 3), (4, 5, 6)]"
      ]
     },
     "execution_count": 59,
     "metadata": {},
     "output_type": "execute_result"
    }
   ],
   "source": [
    "# interesting zip trick, undoing a zip\n",
    "\n",
    "list(zip(*zip(x, y)))\n"
   ]
  },
  {
   "cell_type": "markdown",
   "metadata": {
    "slideshow": {
     "slide_type": "slide"
    }
   },
   "source": [
    "### Wut?\n",
    "\n",
    "`zip(x, y)` --> [(1, 4), (2, 5), (3, 6)] (a single iterable, right?)\n",
    "\n",
    "`zip([(1, 4), (2, 5), (3, 6)])` --> [(1, 4), (2, 5), (3, 6)]"
   ]
  },
  {
   "cell_type": "markdown",
   "metadata": {
    "slideshow": {
     "slide_type": "fragment"
    }
   },
   "source": [
    "**but**\n",
    "\n",
    "Using `*zip(x, y)` makes it a series of parameters, each with 2 items - (1, 4), (2, 5), (3, 6)\n",
    "\n",
    "`zip((1, 4), (2, 5), (3, 6))` --> [(1, 2, 3), (4, 5, 6)]"
   ]
  },
  {
   "cell_type": "markdown",
   "metadata": {
    "slideshow": {
     "slide_type": "slide"
    }
   },
   "source": [
    "## itertools library"
   ]
  },
  {
   "cell_type": "markdown",
   "metadata": {
    "slideshow": {
     "slide_type": "slide"
    }
   },
   "source": [
    "### Useful iteration functions\n",
    "\n",
    "* chain() - chain iterables together\n",
    "* islice() - create slices from iterables (which may not support slices themselves)"
   ]
  },
  {
   "cell_type": "code",
   "execution_count": 60,
   "metadata": {
    "slideshow": {
     "slide_type": "slide"
    }
   },
   "outputs": [
    {
     "name": "stdout",
     "output_type": "stream",
     "text": [
      "0\n",
      "1\n",
      "2\n",
      "3\n",
      "4\n",
      "5\n"
     ]
    }
   ],
   "source": [
    "from itertools import chain\n",
    "\n",
    "a = [0, 1, 2]\n",
    "b = [3, 4, 5]\n",
    "\n",
    "for i in chain(a, b):\n",
    "    print(i)"
   ]
  },
  {
   "cell_type": "code",
   "execution_count": 61,
   "metadata": {
    "slideshow": {
     "slide_type": "slide"
    }
   },
   "outputs": [
    {
     "name": "stdout",
     "output_type": "stream",
     "text": [
      "1\n",
      "2\n",
      "3\n",
      "5\n"
     ]
    }
   ],
   "source": [
    "from itertools import islice\n",
    "\n",
    "fibiter5 = FibIter(5)\n",
    "for i in islice(fibiter5, 1, 5):\n",
    "    print(i)"
   ]
  },
  {
   "cell_type": "markdown",
   "metadata": {
    "slideshow": {
     "slide_type": "slide"
    }
   },
   "source": [
    "### infinite iterators\n",
    "* count() - iterator that counts \n",
    "* cycle() - cycles through an iterator\n",
    "* repeat() - returns the same value over and over"
   ]
  },
  {
   "cell_type": "code",
   "execution_count": 62,
   "metadata": {
    "slideshow": {
     "slide_type": "slide"
    }
   },
   "outputs": [
    {
     "name": "stdout",
     "output_type": "stream",
     "text": [
      "5\n",
      "6\n",
      "a\n",
      "b\n",
      "c\n",
      "d\n",
      "e\n",
      "f\n",
      "a\n",
      "b\n",
      "c\n",
      "d\n",
      "100\n",
      "100\n",
      "100\n",
      "100\n",
      "100\n",
      "100\n",
      "100\n",
      "100\n",
      "100\n",
      "100\n"
     ]
    }
   ],
   "source": [
    "from itertools import count, cycle, repeat\n",
    "\n",
    "x = count(5)\n",
    "print (next(x))\n",
    "print( next(x))\n",
    "\n",
    "y = cycle(\"abcdef\")\n",
    "for i in range(10):\n",
    "    print (next(y))\n",
    "\n",
    "print\n",
    "z = repeat(100)\n",
    "for i in range(10):\n",
    "    print (next(z))"
   ]
  },
  {
   "cell_type": "markdown",
   "metadata": {
    "slideshow": {
     "slide_type": "slide"
    }
   },
   "source": [
    "### combinatoric generators\n",
    "\n",
    "* product() - Cartesian product of iterables\n",
    "* combinations() - return all combinations from an iterable"
   ]
  },
  {
   "cell_type": "code",
   "execution_count": 63,
   "metadata": {
    "slideshow": {
     "slide_type": "slide"
    }
   },
   "outputs": [
    {
     "name": "stdout",
     "output_type": "stream",
     "text": [
      "('A', 'x')\n",
      "('A', 'y')\n",
      "('A', 'z')\n",
      "('B', 'x')\n",
      "('B', 'y')\n",
      "('B', 'z')\n",
      "('C', 'x')\n",
      "('C', 'y')\n",
      "('C', 'z')\n"
     ]
    }
   ],
   "source": [
    "# product\n",
    "from itertools import product, combinations\n",
    "for x in product(\"ABC\", \"xyz\"):\n",
    "    print(x)"
   ]
  },
  {
   "cell_type": "code",
   "execution_count": 64,
   "metadata": {
    "scrolled": true,
    "slideshow": {
     "slide_type": "slide"
    }
   },
   "outputs": [
    {
     "name": "stdout",
     "output_type": "stream",
     "text": [
      "('A', 'B', 'C')\n",
      "('A', 'B', 'D')\n",
      "('A', 'B', 'E')\n",
      "('A', 'C', 'D')\n",
      "('A', 'C', 'E')\n",
      "('A', 'D', 'E')\n",
      "('B', 'C', 'D')\n",
      "('B', 'C', 'E')\n",
      "('B', 'D', 'E')\n",
      "('C', 'D', 'E')\n"
     ]
    }
   ],
   "source": [
    "# Combinations\n",
    "for combo in combinations(\"ABCDE\", 3):\n",
    "    print(combo)"
   ]
  },
  {
   "cell_type": "markdown",
   "metadata": {
    "slideshow": {
     "slide_type": "slide"
    }
   },
   "source": [
    "## Resources\n",
    "\n",
    "* [Python Tutorial - iterators](https://docs.python.org/2.7/tutorial/classes.html#iterators)\n",
    "* [Python Tutorial - generators](https://docs.python.org/2.7/tutorial/classes.html#generators)\n",
    "* [Python Tutorial - generator expressions](https://docs.python.org/2.7/tutorial/classes.html#generator-expressions)\n",
    "* [Iterator types documentation](https://docs.python.org/dev/library/stdtypes.html#iterator-types)\n",
    "* [Iterators, Functional Programming HOWTO](https://docs.python.org/dev/howto/functional.html#iterators)\n",
    "* [Iterations of Evolution: The Unauthorized Biography of the For-Loop](https://www.youtube.com/watch?v=2AXuhgid7E4) - Dave Beazley, PyCon Pakistan 2017"
   ]
  },
  {
   "cell_type": "code",
   "execution_count": 66,
   "metadata": {},
   "outputs": [
    {
     "name": "stdout",
     "output_type": "stream",
     "text": [
      "1\n",
      "1\n",
      "2\n",
      "3\n",
      "5\n",
      "8\n"
     ]
    }
   ],
   "source": [
    "class FibIter:\n",
    "    def __init__(self, count):\n",
    "        self._a, self._b = 0, 1\n",
    "        self._count = count\n",
    "\n",
    "    def __next__(self):\n",
    "        if self._count <= 0:\n",
    "            raise StopIteration\n",
    "\n",
    "        self._count = self._count - 1\n",
    "        self._a, self._b = self._b, self._a + self._b\n",
    "        return self._a\n",
    "\n",
    "    def __iter__(self):\n",
    "        return self\n",
    "\n",
    "\n",
    "fib6 = FibIter(6)\n",
    "for fib in fib6:\n",
    "    print(fib)"
   ]
  },
  {
   "cell_type": "code",
   "execution_count": 73,
   "metadata": {},
   "outputs": [
    {
     "name": "stdout",
     "output_type": "stream",
     "text": [
      "15 ns ± 0.731 ns per loop (mean ± std. dev. of 7 runs, 100000000 loops each)\n",
      "29.6 ns ± 4.25 ns per loop (mean ± std. dev. of 7 runs, 10000000 loops each)\n"
     ]
    }
   ],
   "source": [
    "def fib_gen_while(value):\n",
    "    a, b = 0, 1\n",
    "    while value > 0:\n",
    "        a, b = b, a + b\n",
    "        value = value - 1\n",
    "        yield a\n",
    "\n",
    "def fib_gen_for(value):\n",
    "    a, b = 0, 1\n",
    "    for x in range(value):\n",
    "        a, b = b, a + b\n",
    "        yield a\n",
    "\n",
    "def test_for():\n",
    "    for fib in fib_gen_for(10):\n",
    "        print(fib)\n",
    "        \n",
    "def test_while():\n",
    "    for fib in fib_gen_while(10):\n",
    "        print(fib)\n",
    "        \n",
    "%timeit test_for\n",
    "\n",
    "%timeit test_while"
   ]
  },
  {
   "cell_type": "code",
   "execution_count": null,
   "metadata": {},
   "outputs": [],
   "source": []
  }
 ],
 "metadata": {
  "celltoolbar": "Slideshow",
  "kernelspec": {
   "display_name": "Python 3.7",
   "language": "python",
   "name": "python3.7"
  },
  "language_info": {
   "codemirror_mode": {
    "name": "ipython",
    "version": 3
   },
   "file_extension": ".py",
   "mimetype": "text/x-python",
   "name": "python",
   "nbconvert_exporter": "python",
   "pygments_lexer": "ipython3",
   "version": "3.7.3"
  },
  "livereveal": {
   "scroll": true,
   "start_slideshow_at": "selected",
   "theme": "white",
   "transition": "none"
  },
  "toc": {
   "nav_menu": {},
   "number_sections": false,
   "sideBar": true,
   "skip_h1_title": false,
   "toc_cell": false,
   "toc_position": {},
   "toc_section_display": "block",
   "toc_window_display": false
  }
 },
 "nbformat": 4,
 "nbformat_minor": 2
}
