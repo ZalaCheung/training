{
 "cells": [
  {
   "cell_type": "markdown",
   "metadata": {
    "collapsed": true,
    "nbpresent": {
     "id": "26b3b9ad-6a1d-474b-8f6c-40acd315151a"
    },
    "slideshow": {
     "slide_type": "slide"
    }
   },
   "source": [
    "# Extracting & Cleaning Data with Python  \n",
    "\n",
    "\n",
    "**Naomi Ceder, @naomiceder**\n",
    "\n",
    "- **Chair, Python Software Foundation**\n",
    "- **Quick Python Book, 3rd ed**\n",
    "- **Dick Blick Art Materials**\n",
    "\n",
    "**This notebook will be available for a week at https://github.com/nceder/training/tree/master/bloomberg**\n",
    "\n",
    "**Online sign in - `ATND <GO>`, code WKUYMJ - from email**\n",
    "\n",
    "**or email rbasil@bloomberg.net**\n"
   ]
  },
  {
   "cell_type": "markdown",
   "metadata": {
    "slideshow": {
     "slide_type": "slide"
    }
   },
   "source": [
    "## Course Description\n",
    "\n",
    "Data Cleaning with Python - This course will deal with techniques to get raw data cleaned and into a format you can use. After considering the ways that the data might be acquired, from files and compressed archives to API’s and web scraping, we will deal with extracting data from common data formats, such as JSON, CSV, and XML, and their pitfalls. We’ll consider strategies for handling very large data sets and ways to handle common problems and defects in data files.\n",
    "\n",
    "```\n",
    "Monday\n",
    "- AM: Intermediate Python\n",
    "- PM: Iterators, Generators, Collections\n",
    "\n",
    "Tuesday\n",
    "- AM: Pythonic Coding\n",
    "- PM: Moving to Python 3\n",
    "\n",
    "Wednesday\n",
    "- AM: Data cleaning\n",
    "- PM: Intermediate Python (repeat)\n",
    "\n",
    "Thursday\n",
    "- AM: Moving to Python 3 (repeat)\n",
    "- PM: Debugging Profiling Timing\n",
    "\n",
    "Friday\n",
    "- AM: Code organization and packaging\n",
    "- PM: Pythonic coding (repeat)\n",
    "```"
   ]
  },
  {
   "cell_type": "markdown",
   "metadata": {
    "slideshow": {
     "slide_type": "slide"
    }
   },
   "source": [
    "## Course Assumptions\n",
    "\n",
    "* My course outline is only a general guide\n",
    "* We can be guided by your needs/interests\n",
    "* I need direction on what those are\n",
    "* The more we interact the better the outcome is likely to be"
   ]
  },
  {
   "cell_type": "markdown",
   "metadata": {
    "nbpresent": {
     "id": "44b6aa0a-4f02-42b2-8aa1-40370671ff15"
    },
    "slideshow": {
     "slide_type": "slide"
    }
   },
   "source": [
    "  \n",
    "### You\n",
    "\n",
    "* What do you do?\n",
    "* What coding experience do you have?\n",
    "* What are your repetitive hassles and time sinks?\n",
    "* What problems do you want/hope to solve with code?\n",
    "* Do you have data cleaning issues?\n",
    "* What problems are you trying to solve?"
   ]
  },
  {
   "cell_type": "markdown",
   "metadata": {
    "nbpresent": {
     "id": "cca27bf6-5f61-46a7-bb21-e5759ea6981d"
    },
    "slideshow": {
     "slide_type": "slide"
    }
   },
   "source": [
    "## What we'll do\n",
    "\n",
    "\n",
    "* Introduction\n",
    "  * Tools\n",
    "  * Getting Help\n",
    "  * Debugging\n",
    "\n",
    "* Sample problems - code and discussion (depending on interest)\n",
    "\n",
    "  * plain text - word counting *Moby Dick*\n",
    "  * Fixed Width\n",
    "  * Binary\n",
    "  * CSV\n",
    "  * JSON\n",
    "  * XML"
   ]
  },
  {
   "cell_type": "markdown",
   "metadata": {
    "slideshow": {
     "slide_type": "slide"
    }
   },
   "source": [
    "### course approach\n",
    "* Work through examples\n",
    "* Use most basic tools possible\n",
    "* Gain experience\n",
    "\n"
   ]
  },
  {
   "cell_type": "markdown",
   "metadata": {
    "nbpresent": {
     "id": "d52073c0-a871-4bed-aab5-77f0514d8031"
    },
    "slideshow": {
     "slide_type": "slide"
    }
   },
   "source": [
    "## Workshop Philosophy\n",
    "\n",
    "“All happy families are alike; each unhappy family is unhappy in its own way.” - Tolstoy\n",
    "\n",
    "“What could possibly go wrong?”\n",
    "\n",
    "“If anything can go wrong, it will” - Murphy\n",
    "\n"
   ]
  },
  {
   "cell_type": "markdown",
   "metadata": {
    "nbpresent": {
     "id": "d89f0121-0c7c-4b75-8807-b4707ae468f0"
    },
    "slideshow": {
     "slide_type": "fragment"
    }
   },
   "source": [
    "**or**\n",
    "\n",
    "If things work you can use high level tools and never care, when things don't work, you need to go to lower levels.\n",
    "\n",
    "Pandas objects do mean additional memory overhead."
   ]
  },
  {
   "cell_type": "markdown",
   "metadata": {
    "nbpresent": {
     "id": "7c0509c4-3df6-4249-87d6-8b033b3657ee"
    },
    "slideshow": {
     "slide_type": "subslide"
    }
   },
   "source": [
    "### Additional possible topics (depending on time and interest)\n",
    "\n",
    "* **Data workflows, filters, and pipelines**\n",
    "  * Getting the data\n",
    "  * Cleaning, Normalizing, Transforming\n",
    "  * Processing\n",
    "  \n",
    "\n"
   ]
  },
  {
   "cell_type": "markdown",
   "metadata": {
    "nbpresent": {
     "id": "dedbb0df-23b8-429b-aa79-a5ddbac3a40c"
    },
    "slideshow": {
     "slide_type": "fragment"
    }
   },
   "source": [
    "* **Getting the Data**\n",
    "  * Over the network\n",
    "  * From a database\n",
    "  * Opening/reading files\n"
   ]
  },
  {
   "cell_type": "markdown",
   "metadata": {
    "nbpresent": {
     "id": "3d29f057-eb27-41a6-902d-78c33d4769f7"
    },
    "slideshow": {
     "slide_type": "fragment"
    }
   },
   "source": [
    "* **The case for automated pipelines**\n",
    "  * Speed\n",
    "  * Reliability\n",
    "  * Reproducibility\n",
    "  \n"
   ]
  },
  {
   "cell_type": "markdown",
   "metadata": {
    "nbpresent": {
     "id": "7638f572-4bae-4b96-adb0-1fae64570d7e"
    },
    "slideshow": {
     "slide_type": "slide"
    }
   },
   "source": [
    "### Tools\n",
    "\n",
    "* Python 3.6+\n",
    "  * `CSV, JSON, sys, os, str, re` modules\n",
    "  * `pip`\n",
    "  * `conda` if you're using the Anaconda distribution\n",
    "* virtual environments\n",
    "  * virtual environments\n",
    "  * docker\n",
    "* pandas\n",
    "* PyXL\n",
    "* XMLtodict\n",
    "* NLTK??"
   ]
  },
  {
   "cell_type": "markdown",
   "metadata": {
    "nbpresent": {
     "id": "b87321af-d1fb-4087-b1c1-3416ddc3e825"
    },
    "slideshow": {
     "slide_type": "slide"
    }
   },
   "source": [
    "## Getting help\n",
    "* Python - docs.python.org\n",
    "* Library documentation\n",
    "* dir() and help() from Python shell\n"
   ]
  },
  {
   "cell_type": "markdown",
   "metadata": {
    "nbpresent": {
     "id": "adecdecf-3fae-4cbe-924a-f771e1472170"
    },
    "slideshow": {
     "slide_type": "subslide"
    }
   },
   "source": [
    "### Python.org documentation\n",
    "\n",
    "* Python Tutorial (sleep with this under your pillow!) - https://docs.python.org/3/tutorial/index.html\n",
    "* Standard Library - https://docs.python.org/3/library/index.html\n",
    "* pandas - Tutorials, cookbook, etc - http://pandas.pydata.org/pandas-docs/stable/tutorials.html\n",
    "* More Python libraries - PyPI, soon to be known as \"the warehouse\"\n",
    "  * PyPI - https://pypi.python.org/pypi\n",
    "  * “The warehouse” - https://warehouse.python.org, https://pypi.org/"
   ]
  },
  {
   "cell_type": "markdown",
   "metadata": {
    "nbpresent": {
     "id": "256f1747-2548-47b6-97e2-051d435a0f53"
    },
    "slideshow": {
     "slide_type": "slide"
    }
   },
   "source": [
    "## Text files\n",
    "\n",
    "* open as text\n",
    "* treat as series of lines\n",
    "* need encoding (UTF-8 by default)\n",
    "   * Unicode - https://docs.python.org/3/howto/unicode.html\n",
    "* errors settings"
   ]
  },
  {
   "cell_type": "markdown",
   "metadata": {
    "nbpresent": {
     "id": "ca54d50c-3369-4261-bfcf-74f61538303e"
    },
    "slideshow": {
     "slide_type": "subslide"
    }
   },
   "source": [
    "### Reading\n",
    "\n",
    "* series of lines - no need to read explicitly\n",
    "* newlines still present\n",
    "* context handlers - \"with\"\n"
   ]
  },
  {
   "cell_type": "markdown",
   "metadata": {
    "nbpresent": {
     "id": "7e7e0d3c-2a00-4e2d-8981-ace7238f0b97"
    },
    "slideshow": {
     "slide_type": "slide"
    }
   },
   "source": [
    "## Opening and reading files\n",
    "\n",
    "### Opening\n",
    "\n",
    "* encoding and errors\n",
    "* binary vs text\n",
    "* universal newline\n",
    "* \"with\" context handler\n"
   ]
  },
  {
   "cell_type": "markdown",
   "metadata": {
    "nbpresent": {
     "id": "f3c1746e-4236-45e4-9849-55133d08c7e3"
    },
    "slideshow": {
     "slide_type": "slide"
    }
   },
   "source": [
    "## Plain text\n",
    "\n",
    "* simplest file format\n",
    "* least structure\n",
    "* most options/questions\n",
    "* processing determined by use of data"
   ]
  },
  {
   "cell_type": "markdown",
   "metadata": {
    "nbpresent": {
     "id": "f3c1746e-4236-45e4-9849-55133d08c7e3"
    },
    "slideshow": {
     "slide_type": "slide"
    }
   },
   "source": [
    "### Problem - word count of Moby Dick\n",
    "\n",
    "Determine the most frequent words in *Moby Dick*\n",
    "\n",
    "Requirements:\n",
    "\n",
    "1. text of novel as series of words\n",
    "2. no extra characters or symbols\n",
    "3. the same word must be the same in every occurrence - \"whales\" == \"Whales\" == \"whales?\""
   ]
  },
  {
   "cell_type": "markdown",
   "metadata": {
    "nbpresent": {
     "id": "f3c1746e-4236-45e4-9849-55133d08c7e3"
    },
    "slideshow": {
     "slide_type": "slide"
    }
   },
   "source": [
    "### In general this means\n",
    "* data cleaning \n",
    "   * non-UTF8 characters\n",
    "   * non-alphanumeric characters - punctuation and other characters\n",
    "* normalization - upper/lower case\n",
    "* tokenization - what's a word\n",
    "   * break on specific character(s) (e.g., whitespace and punctuation)\n",
    "   * stemming/lemmatization (NLTK tokens)"
   ]
  },
  {
   "cell_type": "markdown",
   "metadata": {
    "slideshow": {
     "slide_type": "slide"
    }
   },
   "source": [
    "### Naive Approach \n",
    "* simple word counter\n",
    "* no preprocessing"
   ]
  },
  {
   "cell_type": "code",
   "execution_count": 1,
   "metadata": {
    "slideshow": {
     "slide_type": "slide"
    }
   },
   "outputs": [
    {
     "name": "stdout",
     "output_type": "stream",
     "text": [
      "[('the', 13765), ('of', 6587), ('and', 5951), ('a', 4533), ('to', 4510), ('in', 3879), ('that', 2693), ('his', 2415), ('I', 1724), ('with', 1692), ('as', 1599), ('is', 1585), ('was', 1566), ('it', 1515), ('he', 1494), ('for', 1381), ('all', 1311), ('at', 1227), ('this', 1169), ('by', 1113), ('from', 1065), ('not', 1042), ('but', 1034), ('be', 991), ('on', 915), ('so', 785), ('you', 784), ('or', 758), ('one', 753), ('have', 752), ('had', 751), ('were', 645), ('But', 637), ('their', 611), ('are', 586), ('an', 579), ('they', 570), ('some', 569), ('my', 560), ('which', 557), ('him', 554), ('The', 549), ('like', 544), ('upon', 533), ('into', 516), ('when', 502), ('now', 457), ('no', 447), ('out', 437), ('more', 428), ('up', 415), ('old', 413), ('there', 413), ('would', 406), ('been', 401), ('if', 400), ('we', 395), ('whale', 392), ('what', 380), ('its', 373), ('these', 361), ('over', 359), ('other', 355), ('will', 347), ('only', 347), ('me', 339), ('any', 338), ('then', 336), ('such', 330), ('And', 321), ('than', 309), ('very', 308), ('down', 298), ('those', 294), ('has', 282), ('great', 282), ('about', 279), ('must', 278), ('most', 276), ('still', 275), ('her', 274), ('them', 273), ('seemed', 273), ('though', 272), ('It', 260), ('ye', 260), ('who', 256), ('two', 256), ('before', 252), ('long', 251), ('your', 249), ('said', 248), ('do', 241), ('it,', 237), ('yet', 237), ('after', 236), ('man', 236), ('little', 232), ('him,', 232), ('Ahab', 232)]\n"
     ]
    }
   ],
   "source": [
    "# word counter\n",
    "from collections import Counter\n",
    "\n",
    "moby_count = Counter()\n",
    "\n",
    "def tokenize(line):\n",
    "    # break on whitespace\n",
    "    return line.split()\n",
    "    \n",
    "def clean(line):\n",
    "    # remove leading/trailing whitespace\n",
    "    return line.strip()\n",
    "\n",
    "def normalize(line):\n",
    "    return line\n",
    "\n",
    "with open(\"moby_dick.txt\") as moby:\n",
    "    for line in moby:\n",
    "        line = clean(line)\n",
    "        line = normalize(line)\n",
    "        tokens = tokenize(line)\n",
    "        moby_count.update(tokens)\n",
    "        \n",
    "print(moby_count.most_common(100))"
   ]
  },
  {
   "cell_type": "code",
   "execution_count": 2,
   "metadata": {
    "scrolled": true,
    "slideshow": {
     "slide_type": "slide"
    }
   },
   "outputs": [
    {
     "name": "stdout",
     "output_type": "stream",
     "text": [
      "[('\"Right', 1), ('Replacement', 1), ('Refund\"', 1), ('disclaim', 1), ('damages,', 1), ('fees.', 1), ('HAVE', 1), ('REMEDIES', 1), ('NEGLIGENCE,', 1), ('STRICT', 1), ('LIABILITY,', 1), ('WARRANTY', 1), ('CONTRACT', 1), ('EXCEPT', 1), ('THOSE', 1), ('PROVIDED', 1), ('PARAGRAPH', 1), ('F3.', 1), ('FOUNDATION,', 1), ('TRADEMARK', 1), ('OWNER,', 1), ('DISTRIBUTOR', 1), ('AGREEMENT', 1), ('WILL', 1), ('LIABLE', 1), ('ACTUAL,', 1), ('DIRECT,', 1), ('INDIRECT,', 1), ('CONSEQUENTIAL,', 1), ('PUNITIVE', 1), ('INCIDENTAL', 1), ('EVEN', 1), ('IF', 1), ('GIVE', 1), ('NOTICE', 1), ('POSSIBILITY', 1), ('SUCH', 1), ('DAMAGE.', 1), ('1.F.3.', 1), ('REPLACEMENT', 1), ('REFUND', 1), ('(if', 1), ('any)', 1), ('explanation', 1), ('explanation.', 1), ('elect', 1), ('electronically,', 1), ('electronically', 1), ('defective,', 1), ('problem.', 1), ('1.F.4.', 1), (\"'AS-IS'\", 1), ('OTHER', 1), ('KIND,', 1), ('EXPRESS', 1), ('IMPLIED,', 1), ('INCLUDING', 1), ('BUT', 1), ('MERCHANTIBILITY', 1), ('FITNESS', 1), ('PURPOSE.', 1), ('1.F.5.', 1), ('disclaimers', 1), ('implied', 1), ('warranties', 1), ('types', 1), ('damages.', 1), ('violates', 1), ('maximum', 1), ('invalidity', 1), ('unenforceability', 1), ('void', 1), ('provisions.', 1), ('1.F.6.', 1), ('INDEMNITY', 1), ('indemnify', 1), ('owner,', 1), ('employee', 1), ('production,', 1), ('liability,', 1), ('fees,', 1), ('occur:', 1), ('(a)', 1), ('(b)', 1), ('alteration,', 1), ('modification,', 1), ('additions', 1), ('deletions', 1), ('(c)', 1), ('Defect', 1), ('Mission', 1), ('synonymous', 1), ('computers', 1), ('obsolete,', 1), ('middle-aged', 1), ('computers.', 1), ('Volunteers', 1), ('financial', 1), (\"Gutenberg-tm's\", 1), ('goals', 1), ('ensuring', 1), ('2001,', 1), ('generations.', 1), ('help,', 1), ('Sections', 1), ('4', 1), ('http://www.pglaf.org.', 1), ('educational', 1), ('corporation', 1), ('organized', 1), ('Internal', 1), ('Revenue', 1), ('Service.', 1), ('EIN', 1), ('identification', 1), ('64-6221541.', 1), ('http://pglaf.org/fundraising.', 1), ('Contributions', 1), ('deductible', 1), (\"state's\", 1), ('laws.', 1), ('4557', 1), ('Melan', 1), ('Fairbanks,', 1), ('AK,', 1), ('99712.,', 1), ('locations.', 1), ('809', 1), ('1500', 1), ('Salt', 1), ('City,', 1), ('UT', 1), ('84116,', 1), ('(801)', 1), ('596-1887,', 1), ('business@pglaf.org.', 1), ('Email', 1), ('information:', 1), ('Gregory', 1), ('B.', 1), ('Newby', 1), ('Executive', 1), ('Director', 1), ('gbnewby@pglaf.org', 1), ('equipment', 1), ('outdated', 1), ('($1', 1), ('$5,000)', 1), ('IRS.', 1), ('charities', 1), ('50', 1), ('Compliance', 1), ('effort,', 1), ('paperwork', 1), ('requirements.', 1), ('locations', 1), ('compliance.', 1), ('SEND', 1), ('DONATIONS', 1), ('contributions', 1), ('solicitation', 1), ('requirements,', 1), ('prohibition', 1), ('accepting', 1), ('donors', 1), ('donate.', 1), ('International', 1), ('gratefully', 1), ('accepted,', 1), ('treatment', 1), ('staff.', 1), ('Please', 1), ('donation', 1), ('addresses.', 1), ('accepted', 1), ('checks,', 1), ('card', 1), ('donations.', 1), ('donate,', 1), ('visit:', 1), ('http://pglaf.org/donate', 1), ('Professor', 1), ('Hart', 1), ('originator', 1), ('anyone.', 1), ('network', 1), ('volunteer', 1), ('support.', 1), ('editions,', 1), ('confirmed', 1), ('Public', 1), ('Domain', 1), ('edition.', 1), ('PG', 1), ('facility:', 1), ('http://www.gutenberg.org', 1), ('includes', 1), ('Gutenberg-tm,', 1), ('subscribe', 1), ('newsletter', 1)]\n"
     ]
    }
   ],
   "source": [
    "print(moby_count.most_common()[-200:])"
   ]
  },
  {
   "cell_type": "markdown",
   "metadata": {
    "slideshow": {
     "slide_type": "slide"
    }
   },
   "source": [
    "### Improvements\n",
    "* Lower case everything\n",
    "* string methods - upper(), lower(), replace(), find(), index(), in, startswith(), endswith(), etc\n",
    "* edit file to remove extra text"
   ]
  },
  {
   "cell_type": "code",
   "execution_count": 3,
   "metadata": {
    "scrolled": false,
    "slideshow": {
     "slide_type": "slide"
    }
   },
   "outputs": [
    {
     "name": "stdout",
     "output_type": "stream",
     "text": [
      "[('the', 14226), ('of', 6545), ('and', 6238), ('a', 4598), ('to', 4518), ('in', 4059), ('that', 2744), ('his', 2485), ('it', 1764), ('i', 1724), ('as', 1704), ('with', 1702), ('he', 1681), ('but', 1667), ('is', 1578), ('was', 1575), ('for', 1528), ('all', 1341), ('at', 1296), ('this', 1234), ('by', 1155), ('from', 1084), ('not', 1065), ('be', 987), ('on', 951), ('so', 877), ('one', 779), ('you', 773), ('had', 763), ('have', 754), ('or', 696), ('were', 649), ('they', 641), ('their', 619), ('some', 605), ('an', 588), ('my', 575), ('are', 573), ('like', 564), ('which', 557), ('upon', 556), ('him', 555), ('when', 549), ('whale', 529), ('into', 519), ('there', 501), ('now', 501), ('no', 480), ('what', 475), ('if', 445), ('out', 442), ('more', 433), ('old', 425), ('we', 423), ('up', 422), ('would', 416), ('been', 401), ('these', 377), ('its', 373), ('then', 370), ('over', 365), ('only', 359), ('such', 355), ('will', 349), ('other', 343), ('me', 342), ('any', 314), ('very', 312), ('though', 311), ('than', 307), ('down', 306), ('those', 302), ('great', 292), ('has', 284), ('still', 282), ('most', 278), ('her', 277), ('about', 276), ('them', 274), ('seemed', 273), ('yet', 273), ('who', 271), ('must', 270), ('ye', 267), ('two', 267), ('long', 262), ('before', 257), ('after', 254), ('do', 252), ('said', 250), ('your', 247), ('man', 242), ('white', 240), ('ahab', 235), ('little', 234), ('it,', 234), ('him,', 233), ('ship', 231), ('did', 231), ('thou', 230)]\n"
     ]
    }
   ],
   "source": [
    "# word counter\n",
    "from collections import Counter\n",
    "\n",
    "moby_count = Counter()\n",
    "\n",
    "def tokenize(line):\n",
    "    return line.split()\n",
    "    \n",
    "def clean(line):\n",
    "    return line\n",
    "\n",
    "def normalize(line):\n",
    "    return line.lower()\n",
    "\n",
    "with open(\"moby_dick_text.txt\") as moby:\n",
    "    for line in moby:\n",
    "        line = clean(line)\n",
    "        line = normalize(line)\n",
    "        tokens = tokenize(line)\n",
    "        moby_count.update(tokens)\n",
    "        \n",
    "print(moby_count.most_common(100))\n"
   ]
  },
  {
   "cell_type": "code",
   "execution_count": 4,
   "metadata": {
    "scrolled": true,
    "slideshow": {
     "slide_type": "slide"
    }
   },
   "outputs": [
    {
     "name": "stdout",
     "output_type": "stream",
     "text": [
      "[('goest', 1), ('promise.', 1), ('hearse?', 1), ('repair', 1), ('die--down,', 1), (\"me.--where's\", 1), ('bore,', 1), ('ship,--which', 1), ('headway', 1), ('desist.', 1), ('seekest', 1), ('canvas.', 1), ('judicious', 1), ('interval.', 1), ('staved', 1), ('repairing', 1), ('port-holes,', 1), ('busying', 1), ('rallied.', 1), ('vane', 1), ('main-mast-head,', 1), ('bore;', 1), ('abate,', 1), ('pertinaciously', 1), ('crunched,', 1), ('splinters', 1), ('dip.', 1), ('\"heed', 1), ('not!', 1), ('rowlocks', 1), ('bite,', 1), ('smaller!\"', 1), ('on!--but', 1), ('tell\"--he', 1), ('muttered--\"whether', 1), ('ahab?--but', 1), ('now--we', 1), ('pass,\"--and', 1), ('advance--as', 1), ('will--and', 1), ('monadnock', 1), ('poise,', 1), ('fiercer', 1), ('morass,', 1), ('writhed;', 1), ('clung,', 1), ('oarsmen--who', 1), ('foreknew', 1), ('unprepared', 1), ('effects--these', 1), ('fell,', 1), ('inboard', 1), ('simultaneously,', 1), ('ungraduated,', 1), ('seats,', 1), ('tug,', 1), ('sinew', 1), (\"cracks!--'tis\", 1), ('sea-crashing', 1), ('bay;', 1), ('evolution,', 1), ('persecutions;', 1), ('it--it', 1), ('be--a', 1), ('foe;', 1), ('staggered;', 1), ('hands!', 1), ('night?\"', 1), ('ship!\"', 1), ('mark!', 1), ('see:', 1), ('sledge-hammering', 1), ('whale-smitten', 1), ('bow-ends', 1), ('half-wading,', 1), ('splashing', 1), ('gap', 1), ('half-wrapping', 1), ('plaid,', 1), ('forward-flowing', 1), ('down-coming', 1), ('say--ye', 1), ('prayers?', 1), ('fidelities?', 1), ('lo,', 1), ('unappeasable', 1), ('unwinking', 1), ('eye?', 1), ('mattrass', 1), ('soft;', 1), ('brushwood!', 1), ('assassins', 1), ('ghost.', 1), ('gulping', 1), ('drawers!', 1), ('though;--cherries!', 1), ('die!\"', 1), ('\"cherries?', 1), ('grow.', 1), ('part-pay', 1), ('coppers', 1), ('up.\"', 1), ('inactive;', 1), ('employments;', 1), ('predestinating', 1), ('rushed.', 1), ('buttress', 1), ('reeled.', 1), ('dislodged', 1), ('trucks,', 1), ('bull-like', 1), ('necks.', 1), ('breach,', 1), ('pour,', 1), ('torrents', 1), ('flume.', 1), ('hearse!--the', 1), ('hearse!\"', 1), ('\"its', 1), ('american!\"', 1), ('quiescent.', 1), ('tashtego!', 1), ('unsurrendered', 1), ('uncracked', 1), ('god-bullied', 1), ('pole-pointed', 1), ('prow,--death-glorious', 1), ('perish,', 1), ('captains?', 1), ('bounds,', 1), ('foregone', 1), ('comber', 1), ('all-destroying', 1), ('unconquering', 1), ('grapple', 1), ('stab', 1), (\"hate's\", 1), ('pool!', 1), ('grooves;--ran', 1), ('foul.', 1), ('voicelessly', 1), ('mutes', 1), ('bowstring', 1), ('victim,', 1), ('stark-empty', 1), ('depths.', 1), ('bewildering', 1), ('mediums', 1), ('gaseous', 1), ('fata', 1), ('morgana;', 1), ('infatuation,', 1), ('fidelity,', 1), ('perches,', 1), ('lookouts', 1), ('lance-pole,', 1), ('spinning,', 1), ('animate', 1), ('inanimate,', 1), ('vortex,', 1), ('whelmings', 1), ('intermixingly', 1), ('undulated,', 1), ('ironical', 1), ('coincidings,', 1), ('destroying', 1), ('touched;--at', 1), ('backwardly', 1), ('sky-hawk', 1), ('tauntingly', 1), ('incommoding', 1), ('intercept', 1), ('etherial', 1), ('thrill,', 1), ('death-gasp,', 1), ('shrieks,', 1), ('satan,', 1), ('gulf;', 1), ('epilogue', 1), ('thee\"', 1), (\"drama's\", 1), ('forth?--because', 1), ('chanced,', 1), ('fates', 1), ('post;', 1), ('halfspent', 1), ('suction', 1), ('vortex.', 1), ('pool.', 1), ('button-like', 1), ('ixion', 1), ('burst;', 1), ('liberated', 1), ('dirgelike', 1), ('padlocks', 1), ('sheathed', 1), ('beaks.', 1), ('devious-cruising', 1), ('retracing', 1), ('orphan.', 1)]\n"
     ]
    }
   ],
   "source": [
    "print(moby_count.most_common()[-200:])"
   ]
  },
  {
   "cell_type": "markdown",
   "metadata": {
    "slideshow": {
     "slide_type": "slide"
    }
   },
   "source": [
    "### More improvments\n",
    "* filter out \"stop\" words - comprehension as filter, set\n",
    "* remove punctuation and other marks\n",
    "* `str.translate()` & `str.maketrans()`"
   ]
  },
  {
   "cell_type": "code",
   "execution_count": 10,
   "metadata": {
    "slideshow": {
     "slide_type": "slide"
    }
   },
   "outputs": [],
   "source": [
    "# word counter\n",
    "from collections import Counter\n",
    "\n",
    "moby_count = Counter()\n",
    "punct_table = str.maketrans(\".,/-\\\"\\':;?!\", \"          \")\n",
    "\n",
    "stop_word_set = {'us', 'them', 'must', 'an', 'so', 'into', 'this', 'me', 'these', \n",
    "                 'they', 'was', 'to', 'would', 'though', 'then', 'up', 'and', 'at', \n",
    "                 'by', 'more', 'can', 'have', 'their', 'out', 'down', 'what', 'had', \n",
    "                 'very', 'she', 'other', 'its', 'the', 'i', 'now', 'her', 'who', \n",
    "                 'on', 'as', 'will', 'two', 'about', 'your', 'like', 'yet', 'if', \n",
    "                 'only', 'him', 'were', 'of', 'for', 'do', 'my', 'which', 'we', \n",
    "                 'both', 'it', 'could', 'but', 'there', 'great', 'with', 'or', \n",
    "                 'thus', 'our', 'such', 'did', 'upon', 'no', 'is', 'a', 'that', \n",
    "                 'not', 'those', 'been', 'when', 'has', 'thou', 'any', 'from', 'ye', \n",
    "                 'you', 'in', 'be', 'than', 'are', 'his', 'he', 'him,'}"
   ]
  },
  {
   "cell_type": "code",
   "execution_count": 11,
   "metadata": {
    "slideshow": {
     "slide_type": "slide"
    }
   },
   "outputs": [
    {
     "name": "stdout",
     "output_type": "stream",
     "text": [
      "[('s', 1797), ('all', 1524), ('whale', 1219), ('one', 920), ('some', 618), ('man', 525), ('ship', 517), ('ahab', 507), ('sea', 455), ('old', 450), ('over', 408), ('head', 345), ('boat', 336), ('time', 333), ('long', 332), ('captain', 327), ('here', 325), ('still', 312), ('said', 305), ('before', 299), ('t', 291), ('seemed', 283), ('most', 281), ('white', 281), ('last', 277), ('see', 271), ('way', 271), ('after', 270), ('whales', 267), ('again', 263), ('stubb', 256), ('how', 255), ('queequeg', 252), ('little', 249), ('round', 247), ('while', 245), ('three', 245), ('men', 244), ('say', 242), ('may', 240), ('sperm', 239), ('first', 235), ('through', 233), ('every', 232), ('well', 230), ('being', 225), ('much', 223), ('off', 220), ('where', 220), ('good', 216), ('hand', 214), ('same', 214), ('side', 207), ('never', 206), ('ever', 205), ('own', 205), ('look', 205), ('himself', 204), ('starbuck', 198), ('deck', 196), ('almost', 194), ('go', 193), ('even', 191), ('water', 190), ('thing', 188), ('too', 185), ('might', 183), ('should', 183), ('away', 183), ('come', 179), ('made', 178), ('world', 176), ('day', 176), ('sir', 175), ('life', 174), ('pequod', 173), ('chapter', 172), ('fish', 167), ('among', 167), ('seen', 165), ('far', 165), ('many', 165), ('back', 161), ('let', 158), ('eyes', 156), ('without', 156), ('line', 156), ('oh', 156), ('nor', 156), ('cried', 156), ('aye', 155), ('god', 152), ('sort', 152), ('know', 151), ('thought', 150), ('right', 150), ('once', 149), ('night', 149), ('part', 149), ('boats', 147)]\n"
     ]
    }
   ],
   "source": [
    "\n",
    "\n",
    "def tokenize(line):\n",
    "    words = [word.strip() for word in line.split() if word not in stop_word_set]\n",
    "    return words\n",
    "\n",
    "\n",
    "def clean(line):\n",
    "    return line.translate(punct_table)\n",
    "\n",
    "\n",
    "def normalize(line):\n",
    "    return line.lower()\n",
    "\n",
    "\n",
    "with open(\"moby_dick_text.txt\") as moby:\n",
    "    for line in moby:\n",
    "        line = clean(line)\n",
    "        line = normalize(line)\n",
    "        tokens = tokenize(line)\n",
    "        moby_count.update(tokens)\n",
    "\n",
    "print(moby_count.most_common(100))"
   ]
  },
  {
   "cell_type": "code",
   "execution_count": 12,
   "metadata": {
    "scrolled": false,
    "slideshow": {
     "slide_type": "slide"
    }
   },
   "outputs": [
    {
     "name": "stdout",
     "output_type": "stream",
     "text": [
      "[('plough', 1), ('creeps', 1), ('tingles', 1), ('launch', 1), ('blister', 1), ('miller', 1), ('shuts', 1), ('watergate', 1), ('frenzies', 1), ('hares', 1), ('bounding', 1), ('enslaved', 1), ('maple', 1), ('individualities', 1), ('guiltiness', 1), ('oneness', 1), ('outspreadingly', 1), ('wavings', 1), ('shading', 1), ('blueness', 1), ('belayed', 1), ('orchestra', 1), ('vibrate', 1), ('discharges', 1), ('rifles', 1), ('bravadoes', 1), ('salmon', 1), ('bluer', 1), ('glittered', 1), ('mistiness', 1), ('ladders', 1), ('dartingly', 1), ('excludes', 1), ('annihilating', 1), ('manoeuvred', 1), ('trained', 1), ('chargers', 1), ('slogan', 1), ('untraceable', 1), ('evolutions', 1), ('recrossed', 1), ('foreshortened', 1), ('hoping', 1), ('disencumber', 1), ('snarls', 1), ('corkscrewed', 1), ('fagot', 1), ('husks', 1), ('grated', 1), ('nutmeg', 1), ('aslope', 1), ('bobbed', 1), ('twitching', 1), ('lustily', 1), ('unstricken', 1), ('struggled', 1), ('modifying', 1), ('crumb', 1), ('intertangled', 1), ('contusions', 1), ('inextricable', 1), ('leaner', 1), ('gores', 1), ('knell', 1), ('collect', 1), ('unmeasured', 1), ('jesus', 1), ('mobbing', 1), ('impiety', 1), ('lipless', 1), ('unfeatured', 1), ('immutably', 1), ('billion', 1), ('underling', 1), ('obeyest', 1), ('propped', 1), ('centipede', 1), ('encore', 1), ('tomorrow', 1), ('baffle', 1), ('hid', 1), ('heliotrope', 1), ('135', 1), ('dawned', 1), ('fairer', 1), ('clefts', 1), ('lava', 1), ('corridors', 1), ('ventilated', 1), ('fleeces', 1), ('tainted', 1), ('slink', 1), ('braver', 1), ('exasperate', 1), ('veer', 1), ('baser', 1), ('mississippies', 1), ('unchangeable', 1), ('oversailed', 1), ('reverse', 1), ('rechurned', 1), ('misdoubt', 1), ('voiced', 1), ('wink', 1), ('leewardings', 1), ('bitterer', 1), ('tiny', 1), ('shallop', 1), ('weeps', 1), ('persuasion', 1), ('maliciously', 1), ('prescient', 1), ('regiments', 1), ('molesting', 1), ('ravening', 1), ('fadest', 1), ('soars', 1), ('upheaved', 1), ('bedraggled', 1), ('swamping', 1), ('brokenly', 1), ('creamed', 1), ('combinedly', 1), ('tiers', 1), ('knitted', 1), ('flailed', 1), ('frayed', 1), ('seekest', 1), ('judicious', 1), ('staved', 1), ('busying', 1), ('abate', 1), ('pertinaciously', 1), ('rowlocks', 1), ('monadnock', 1), ('fiercer', 1), ('writhed', 1), ('foreknew', 1), ('unprepared', 1), ('ungraduated', 1), ('tug', 1), ('sinew', 1), ('crashing', 1), ('evolution', 1), ('persecutions', 1), ('splashing', 1), ('gap', 1), ('plaid', 1), ('fidelities', 1), ('unappeasable', 1), ('unwinking', 1), ('mattrass', 1), ('brushwood', 1), ('assassins', 1), ('gulping', 1), ('coppers', 1), ('inactive', 1), ('predestinating', 1), ('buttress', 1), ('dislodged', 1), ('flume', 1), ('unsurrendered', 1), ('uncracked', 1), ('bullied', 1), ('foregone', 1), ('comber', 1), ('unconquering', 1), ('grapple', 1), ('voicelessly', 1), ('mutes', 1), ('bowstring', 1), ('bewildering', 1), ('mediums', 1), ('gaseous', 1), ('fata', 1), ('morgana', 1), ('infatuation', 1), ('lookouts', 1), ('animate', 1), ('inanimate', 1), ('whelmings', 1), ('intermixingly', 1), ('ironical', 1), ('coincidings', 1), ('backwardly', 1), ('tauntingly', 1), ('incommoding', 1), ('intercept', 1), ('etherial', 1), ('thrill', 1), ('epilogue', 1), ('halfspent', 1), ('suction', 1), ('ixion', 1), ('liberated', 1), ('dirgelike', 1), ('padlocks', 1), ('sheathed', 1), ('retracing', 1), ('orphan', 1)]\n"
     ]
    }
   ],
   "source": [
    "print(moby_count.most_common()[-200:])"
   ]
  },
  {
   "cell_type": "markdown",
   "metadata": {
    "nbpresent": {
     "id": "a58156c7-8378-42b9-b05f-edc02674c066"
    },
    "slideshow": {
     "slide_type": "slide"
    }
   },
   "source": [
    "## Text cleaning with regular expressions\n",
    "\n",
    "   ‘Some people, when confronted with a problem, think \"I know, I'll use regular expressions.\" Now they have two problems’ - Jamie Zawiski\n",
    "   \n",
    "* regular expressions - https://docs.python.org/3/howto/regex.html\n"
   ]
  },
  {
   "cell_type": "code",
   "execution_count": null,
   "metadata": {
    "slideshow": {
     "slide_type": "slide"
    }
   },
   "outputs": [],
   "source": [
    "# word counter\n",
    "from collections import Counter\n",
    "import re\n",
    "\n",
    "moby_count = Counter()\n",
    "punct_table = str.maketrans(\"\", \"\", \".,/-\\\"\\':;?!\")\n",
    "re_word = re.compile(\"\\w+|\\w+-\\w+\")\n",
    "\n",
    "\n",
    "stop_word_set = {'us', 'them', 'must', 'an', 'so', 'into', 'this', 'me', 'these', \n",
    "                 'they', 'was', 'to', 'would', 'though', 'then', 'up', 'and', 'at', \n",
    "                 'by', 'more', 'can', 'have', 'their', 'out', 'down', 'what', 'had', \n",
    "                 'very', 'she', 'other', 'its', 'the', 'i', 'now', 'her', 'who', \n",
    "                 'on', 'as', 'will', 'two', 'about', 'your', 'like', 'yet', 'if', \n",
    "                 'only', 'him', 'were', 'of', 'for', 'do', 'my', 'which', 'we', \n",
    "                 'both', 'it', 'could', 'but', 'there', 'great', 'with', 'or', \n",
    "                 'thus', 'our', 'such', 'did', 'upon', 'no', 'is', 'a', 'that', \n",
    "                 'not', 'those', 'been', 'when', 'has', 'thou', 'any', 'from', 'ye', \n",
    "                 'you', 'in', 'be', 'than', 'are', 'his', 'he', 'him,'}\n",
    "\n",
    "def tokenize(line):\n",
    "    words = [word for word in re_word.findall(line) if word not in stop_word_set]\n",
    "    return words\n",
    "\n",
    "\n",
    "def clean(line):\n",
    "    return line\n",
    "\n",
    "\n",
    "def normalize(line):\n",
    "    return line.lower()\n",
    "\n",
    "\n",
    "with open(\"moby_dick_text.txt\") as moby:\n",
    "    for line in moby:\n",
    "        line = clean(line)\n",
    "        line = normalize(line)\n",
    "        tokens = tokenize(line)\n",
    "        moby_count.update(tokens)\n",
    "\n",
    "print(moby_count.most_common(100))\n"
   ]
  },
  {
   "cell_type": "code",
   "execution_count": null,
   "metadata": {
    "scrolled": false,
    "slideshow": {
     "slide_type": "slide"
    }
   },
   "outputs": [],
   "source": [
    "print(moby_count.most_common()[-200:])"
   ]
  },
  {
   "cell_type": "markdown",
   "metadata": {
    "slideshow": {
     "slide_type": "slide"
    }
   },
   "source": [
    "### Higher level - language based tokens\n",
    "* NLTK (Natural Language Toolkit)\n",
    "* tokenize"
   ]
  },
  {
   "cell_type": "code",
   "execution_count": null,
   "metadata": {
    "scrolled": false,
    "slideshow": {
     "slide_type": "slide"
    }
   },
   "outputs": [],
   "source": [
    "!pip install nltk\n"
   ]
  },
  {
   "cell_type": "code",
   "execution_count": null,
   "metadata": {
    "slideshow": {
     "slide_type": "slide"
    }
   },
   "outputs": [],
   "source": [
    "# word counter\n",
    "from collections import Counter\n",
    "from nltk.tokenize import word_tokenize, wordpunct_tokenize\n",
    "\n",
    "moby_count = Counter()\n",
    "punct_table = str.maketrans(\"\", \"\", \".,/\\\"\\':;?!\")\n",
    "re_word = re.compile(\"\\w+|\\w+-\\w+\")\n",
    "\n",
    "\n",
    "stop_word_set = {'us', 'them', 'must', 'an', 'so', 'into', 'this', 'me', 'these', \n",
    "                 'they', 'was', 'to', 'would', 'though', 'then', 'up', 'and', 'at', \n",
    "                 'by', 'more', 'can', 'have', 'their', 'out', 'down', 'what', 'had', \n",
    "                 'very', 'she', 'other', 'its', 'the', 'i', 'now', 'her', 'who', \n",
    "                 'on', 'as', 'will', 'two', 'about', 'your', 'like', 'yet', 'if', \n",
    "                 'only', 'him', 'were', 'of', 'for', 'do', 'my', 'which', 'we', \n",
    "                 'both', 'it', 'could', 'but', 'there', 'great', 'with', 'or', \n",
    "                 'thus', 'our', 'such', 'did', 'upon', 'no', 'is', 'a', 'that', \n",
    "                 'not', 'those', 'been', 'when', 'has', 'thou', 'any', 'from', 'ye', \n",
    "                 'you', 'in', 'be', 'than', 'are', 'his', 'he', 'him,'}\n",
    "\n",
    "def tokenize(line):\n",
    "    words = [word for word in word_tokenize(line) if word not in stop_word_set]\n",
    "    # words = [word for word in wordpunct_tokenize(line) if word not in stop_word_set]\n",
    "    return words\n",
    "\n",
    "\n",
    "def clean(line):\n",
    "    return line.translate(punct_table)\n",
    "\n",
    "\n",
    "def normalize(line):\n",
    "    return line.lower()\n",
    "\n",
    "\n",
    "with open(\"moby_dick_text.txt\") as moby:\n",
    "    for line in moby:\n",
    "        line = clean(line)\n",
    "        line = normalize(line)\n",
    "        tokens = tokenize(line)\n",
    "        moby_count.update(tokens)\n",
    "\n",
    "print(moby_count.most_common(100))\n"
   ]
  },
  {
   "cell_type": "code",
   "execution_count": null,
   "metadata": {
    "scrolled": true,
    "slideshow": {
     "slide_type": "slide"
    }
   },
   "outputs": [],
   "source": [
    "print(moby_count.most_common()[-200:])"
   ]
  },
  {
   "cell_type": "markdown",
   "metadata": {
    "nbpresent": {
     "id": "1cefab28-c321-423f-bbc3-8bc4018fb849"
    },
    "slideshow": {
     "slide_type": "slide"
    }
   },
   "source": [
    "### Pitfalls and solutions\n",
    "\n",
    "* unknown encoding\n",
    "  * use binary\n",
    "  * set errors to ignore, replace, or something else\n",
    "* newline issues\n",
    "  * strip(), rstrip(), then add back\n",
    "  * newline option"
   ]
  },
  {
   "cell_type": "code",
   "execution_count": null,
   "metadata": {
    "nbpresent": {
     "id": "8e4a498c-06d0-4faa-9f67-34d9500963a2"
    },
    "slideshow": {
     "slide_type": "slide"
    }
   },
   "outputs": [],
   "source": [
    "# text file example\n",
    "\n",
    "open(\"test\", \"w\", newline='').write(\"this is\\nä\\x80\\ff\\r\\ntest\\xc3\\x28\")\n",
    "print(\"this is\\nä\\x80\\ff\\r\\ntest\\xc3\\x28\")"
   ]
  },
  {
   "cell_type": "code",
   "execution_count": null,
   "metadata": {
    "nbpresent": {
     "id": "e401e860-8472-4fe9-9627-2c3ca0ff9166"
    },
    "slideshow": {
     "slide_type": "slide"
    }
   },
   "outputs": [],
   "source": [
    "\n",
    "\n",
    "text = open(\"test\", \"r\", newline='\\r\\n').read()\n",
    "print(text)\n",
    "\n",
    "text2 = open(\"test2\", \"r\").read()\n",
    "print(text2)\n",
    "text2"
   ]
  },
  {
   "cell_type": "markdown",
   "metadata": {
    "nbpresent": {
     "id": "cbdb2153-4119-4d75-ab38-eb2d96c75126"
    },
    "slideshow": {
     "slide_type": "subslide"
    }
   },
   "source": [
    "### Binary files\n",
    "\n",
    "* open as binary\n",
    "* bytes, not strings\n",
    "* struct module\n",
    "* \"endianness\" or byte order\n",
    "* Format specifier to unpack must match the one used to pack"
   ]
  },
  {
   "cell_type": "markdown",
   "metadata": {
    "slideshow": {
     "slide_type": "subslide"
    }
   },
   "source": [
    "### strings vs. bytes\n",
    "* no difference in Python 2\n",
    "  * series of bytes, but treated as strings\n",
    "  * conversion needed for unicode\n",
    "* **big** difference in Python 3\n",
    "  * bytes - series of bytes, but really treated as bytes (0-256 integers)\n",
    "  * string - Unicode by default\n",
    "  * conversion needed between the two, bytes are not a string!"
   ]
  },
  {
   "cell_type": "code",
   "execution_count": null,
   "metadata": {
    "nbpresent": {
     "id": "db66e259-97ad-42ef-a9d4-7edb1f40ab9d"
    },
    "scrolled": false,
    "slideshow": {
     "slide_type": "subslide"
    }
   },
   "outputs": [],
   "source": [
    "# example of binary files\n",
    "import struct\n",
    "answer = 42\n",
    "month = 6\n",
    "day = 26\n",
    "\n",
    "# pack 3 ints into binary\n",
    "buffer = struct.pack(\"III\", answer, month, day)\n",
    "print(\"Buffer as bytes:\", buffer)\n",
    "\n",
    "# write to file in binary mode\n",
    "open(\"test_binary\", \"wb\").write(buffer)\n",
    "\n",
    "# convert bytes to string\n",
    "print(\"Decoded to string :\", buffer.decode())\n",
    "\n",
    "# use struct to extact to tuple\n",
    "print(\"Unpacked to tuple:\", struct.unpack(\"III\", buffer))\n",
    "\n",
    "# read from file in binary mode\n",
    "buffer2 = open(\"test_binary\", \"rb\").read()\n",
    "print(\"Read from file:\", buffer2)\n",
    "print(int(buffer[0]))\n",
    "print(buffer[0])"
   ]
  },
  {
   "cell_type": "code",
   "execution_count": null,
   "metadata": {
    "nbpresent": {
     "id": "9a80d0eb-1430-4077-b413-362fdd14fa37"
    },
    "slideshow": {
     "slide_type": "slide"
    }
   },
   "outputs": [],
   "source": [
    "open(\"test2\", \"wb\").write(b\"this,is,a\\ntest\\x00,null,file\")\n",
    "import csv\n",
    "for x in csv.reader(open(\"test2\", \"r\")):\n",
    "    print(x)\n",
    "\n",
    "# Cleaning NULL (\\x00) bytes from a data file\n",
    "def clean_null(filename):\n",
    "    fi = open(filename, 'rb')\n",
    "    data = fi.read()\n",
    "    fi.close()\n",
    "    fo = open(f'{filename}.new', 'wb')\n",
    "    fo.write(data.replace(b'\\x00', b''))\n",
    "    fo.close()\n",
    "\n",
    "\n",
    "#clean_null(\"test2\")\n",
    "#for x in csv.reader(open(\"test2.new\", \"r\")):\n",
    "    print(x)"
   ]
  },
  {
   "cell_type": "code",
   "execution_count": null,
   "metadata": {
    "nbpresent": {
     "id": "ee172c6b-3420-4ffc-b39a-f5272cd4c886"
    },
    "slideshow": {
     "slide_type": "subslide"
    }
   },
   "outputs": [],
   "source": [
    "b = [0, 9, 32, 48, 65, 66, 67]\n",
    "b_string = bytes(b)\n",
    "print(b_string.decode())"
   ]
  },
  {
   "cell_type": "code",
   "execution_count": null,
   "metadata": {
    "nbpresent": {
     "id": "f0f51b1e-32fa-4f49-8f9c-08ae6d1d8594"
    },
    "scrolled": true,
    "slideshow": {
     "slide_type": "slide"
    }
   },
   "outputs": [],
   "source": [
    "# get endianness of your system\n",
    "import sys\n",
    "sys.byteorder"
   ]
  },
  {
   "cell_type": "markdown",
   "metadata": {
    "nbpresent": {
     "id": "31e0a3fe-eedb-4467-8a34-a573daccc81f"
    },
    "slideshow": {
     "slide_type": "slide"
    }
   },
   "source": [
    "## Fixed Width Records\n",
    "\n",
    "Problem - London weather\n",
    "* plain python\n",
    "* FixedWidth library\n",
    "* pandas\n",
    "\n",
    "http://pandas.pydata.org/pandas-docs/stable/generated/pandas.read_fwf.html\n",
    "\n",
    "https://pypi.python.org/pypi/FixedWidth/0.99.3\n",
    "\n",
    "http://docs.astropy.org/en/stable/io/ascii/"
   ]
  },
  {
   "cell_type": "code",
   "execution_count": 5,
   "metadata": {
    "slideshow": {
     "slide_type": "slide"
    }
   },
   "outputs": [
    {
     "name": "stdout",
     "output_type": "stream",
     "text": [
      "Heathrow (London Airport)\n",
      "Location 507800E 176700N, Lat 51.479 Lon -0.449, 25m amsl\n",
      "Estimated data is marked with a * after the value.\n",
      "Missing data (more than 2 days missing in month) is marked by  ---.\n",
      "Sunshine data taken from an automatic Kipp & Zonen sensor marked with a #, otherwise sunshine data taken from a Campbell Stokes recorder.\n",
      "   yyyy  mm   tmax    tmin      af    rain     sun\n",
      "              degC    degC    days      mm   hours\n",
      "   1948   1    8.9     3.3    ---     85.0    ---\n",
      "   1948   2    7.9     2.2    ---     26.0    ---\n",
      "   1948   3   14.2     3.8    ---     14.0    ---\n",
      "   1948   4   15.4     5.1    ---     35.0    ---\n",
      "   1948   5   18.1     6.9    ---     57.0    ---\n",
      "   1948   6   19.1    10.3    ---     67.0    ---\n",
      "   1948   7   21.7    12.0    ---     21.0    ---\n",
      "   1948   8   20.8    11.7    ---     67.0    ---\n",
      "   1948   9   19.6    10.2    ---     35.0    ---\n",
      "   1948  10   14.9     6.0    ---     50.0    ---\n",
      "   1948  11   10.8     4.6    ---     44.0    ---\n",
      "   1948  12    8.8     3.8    ---     63.0    ---\n",
      "   1949   1    8.5     1.8       9    23.0    ---\n",
      "   1949   2   10.4     0.6      11    27.0    ---\n",
      "   1949   3    9.3     1.2      11    26.1    ---\n",
      "   1949   4   16.2     6.0       1    34.2    ---\n",
      "   1949   5   17.1     6.8       0    56.9    ---\n",
      "   1949   6   22.0    10.5       0     9.0    ---\n",
      "   1949   7   25.1    12.9       0    46.5    ---\n",
      "   1949   8   23.9    12.5       0    26.3    ---\n",
      "   1949   9   22.8    13.3       0    23.3    ---\n",
      "   1949  10   17.0     8.6       3   139.6    ---\n",
      "   1949  11   10.2     2.9       7    53.4    ---\n",
      "   1949  12    9.2     2.9       6    33.0    ---\n",
      "   1950   1    7.1     1.7      11    16.8    ---\n",
      "   1950   2    9.9     2.4       7    82.2    ---\n",
      "   1950   3   12.3     3.5       4    17.4    ---\n",
      "   1950   4   12.9     4.2       1    54.8    ---\n",
      "   1950   5   17.2     7.6       0    41.8    ---\n",
      "   1950   6   23.6    12.3       0    44.6    ---\n",
      "   1950   7   21.6    12.9       0    91.8    ---\n",
      "   1950   8   21.9    12.1       0    68.8    ---\n",
      "   1950   9   17.6    10.2       0    63.3    ---\n",
      "   1950  10   14.0     6.1       3    10.9    ---\n",
      "   1950  11    9.3     3.3       3   108.2    ---\n",
      "   1950  12    3.8    -1.0      18    40.2    ---\n",
      "   1951   1    7.3     1.5       7    71.3    ---\n",
      "   1951   2    7.0     0.8       6   121.4    ---\n",
      "   1951   3    8.4     1.7       6    86.0    ---\n",
      "   1951   4   12.3     3.0       3    60.6    ---\n",
      "   1951   5   15.0     7.0       0    53.0    ---\n",
      "   1951   6   20.5    10.0       0    26.9    ---\n",
      "   1951   7   23.0    12.9       0    33.8    ---\n",
      "   1951   8   20.2    12.3       0    95.5    ---\n",
      "   1951   9   19.2    11.3       0    66.3    ---\n",
      "   1951  10   14.6     6.0       2    23.5    ---\n",
      "   1951  11   11.8     6.2       1   132.6    ---\n",
      "   1951  12    8.9     3.1       7    36.9    ---\n",
      "   1952   1    6.2     0.4      13    47.0    ---\n",
      "   1952   2    6.7    -0.3      14    16.1    ---\n",
      "   1952   3   10.6     3.8       4    65.3    ---\n",
      "   1952   4   15.6     5.8       2    39.9    ---\n",
      "   1952   5   19.6     9.4       0    57.1    ---\n",
      "   1952   6   20.9    10.9       0    30.0    ---\n",
      "   1952   7   23.3    13.4       0    12.2    ---\n",
      "   1952   8   21.6    13.3       0    63.5    ---\n",
      "   1952   9   16.4     7.6       0    70.8    ---\n",
      "   1952  10   13.2     5.7       4    69.8    ---\n",
      "   1952  11    7.5     1.6       9    79.4    ---\n",
      "   1952  12    5.8    -0.2      15    66.0    ---\n",
      "   1953   1    5.6     0.6      14    21.2    ---\n",
      "   1953   2    7.5     1.0       9    31.4    ---\n",
      "   1953   3   11.1     1.0      12     8.5    ---\n",
      "   1953   4   13.1     4.3       0    53.7    ---\n",
      "   1953   5   18.7     8.9       0    32.4    ---\n",
      "   1953   6   19.8    10.8       0    34.8    ---\n",
      "   1953   7   21.0    12.1       0    75.3    ---\n",
      "   1953   8   22.6    12.6       0    39.0    ---\n",
      "   1953   9   19.5     9.8       0    47.4    ---\n",
      "   1953  10   14.7     7.1       0    65.7    ---\n",
      "   1953  11   11.3     5.2       0    28.6    ---\n",
      "   1953  12   10.0     5.1       1    13.3    ---\n",
      "   1954   1    5.9     0.3      15    23.5    ---\n",
      "   1954   2    6.1     0.4       8    51.5    ---\n",
      "   1954   3   10.4     3.0       5    51.3    ---\n",
      "   1954   4   13.2     2.8       2     8.9    ---\n",
      "   1954   5   16.8     7.6       0    52.6    ---\n",
      "   1954   6   18.6    10.7       0    95.3    ---\n",
      "   1954   7   19.2    11.7       0    62.1    ---\n",
      "   1954   8   19.8    11.5       0    87.5    ---\n",
      "   1954   9   18.0     9.6       0    58.1    ---\n",
      "   1954  10   16.2     8.9       1    54.1    ---\n",
      "   1954  11   11.2     3.6       5    95.5    ---\n",
      "   1954  12    9.7     3.4       5    46.6    ---\n",
      "   1955   1    5.6     0.4      11    50.2    ---\n",
      "   1955   2    5.0    -0.8      16    35.0    ---\n",
      "   1955   3    7.9     0.2      18    22.8    ---\n",
      "   1955   4   15.2     5.1       0     7.2    ---\n",
      "   1955   5   15.5     6.4       0   103.2    ---\n",
      "   1955   6   20.0    11.1       0    52.1    ---\n",
      "   1955   7   24.4    13.1       0     7.1    ---\n",
      "   1955   8   24.3    13.6       0    17.8    ---\n",
      "   1955   9   19.9     9.9       0    42.7    ---\n",
      "   1955  10   13.5     5.3       4    87.7    ---\n",
      "   1955  11   10.7     4.2       5    30.1    ---\n",
      "   1955  12    9.5     2.3       8    46.7    ---\n",
      "   1956   1    7.0     0.5      14    88.6    ---\n",
      "   1956   2    2.9    -3.6      22     2.3    ---\n",
      "   1956   3   11.0     2.7       9    15.0    ---\n",
      "   1956   4   12.1     2.4       3    29.1    ---\n",
      "   1956   5   19.1     7.1       0     4.2    ---\n",
      "   1956   6   18.5     9.6       0    41.5    ---\n",
      "   1956   7   20.9    12.8       0   130.5    ---\n",
      "   1956   8   18.8    10.9       0    99.5    ---\n",
      "   1956   9   19.2    11.7       0    50.0    ---\n",
      "   1956  10   13.8     6.0       0    74.1    ---\n",
      "   1956  11    9.3     2.5       7    10.1    ---\n",
      "   1956  12    8.2     3.5       5    70.3    ---\n",
      "   1957   1    8.7     2.7       5    39.5    53.0\n",
      "   1957   2    9.0     2.9       5    69.8    64.9\n",
      "   1957   3   13.9     5.7       2    25.4    96.7\n",
      "   1957   4   14.2     5.2       1     5.7   169.6\n",
      "   1957   5   16.2     6.5       0    21.3   195.0\n",
      "   1957   6   23.6    10.7       0    22.4   284.5\n",
      "   1957   7   22.5    13.8       0    87.0   152.3\n",
      "   1957   8   21.1    12.5       0    86.2   154.4\n",
      "   1957   9   17.6    10.1       0    51.7    88.5\n",
      "   1957  10   15.5     7.7       0    47.0    85.9\n",
      "   1957  11    9.4     4.3       2    59.5    67.5\n",
      "   1957  12    7.6     1.0      11    42.1    40.8\n",
      "   1958   1    6.8     0.9      10    64.3    40.1\n",
      "   1958   2    8.9     1.9      10    58.7    45.7\n",
      "   1958   3    8.1     1.1      10    26.0   105.2\n",
      "   1958   4   12.3     3.8       3    29.5   153.2\n",
      "   1958   5   17.3     7.8       0    59.5   189.2\n",
      "   1958   6   19.4    10.7       0   104.3   152.2\n",
      "   1958   7   21.7    12.9       0    51.9   190.5\n",
      "   1958   8   20.8    13.1       0    75.2   103.1\n",
      "   1958   9   20.0    12.1       0    83.8   134.8\n",
      "   1958  10   14.9     8.3       0    50.7    94.2\n",
      "   1958  11    9.7     4.4       1    50.7    40.8\n",
      "   1958  12    8.0     2.7       2    85.1    29.6\n",
      "   1959   1    5.7    -1.1      23    54.8    76.2\n",
      "   1959   2    7.4     1.2       7     2.4    54.8\n",
      "   1959   3   11.9     4.4       0    43.8   103.9\n",
      "   1959   4   14.2     6.3       0    52.9   139.1\n",
      "   1959   5   18.7     8.0       0    21.9   221.4\n",
      "   1959   6   22.1    11.1       0    16.2   231.6\n",
      "   1959   7   24.7    13.3       0    86.5   276.9\n",
      "   1959   8   24.2    13.7       0    27.6   240.0\n",
      "   1959   9   22.7    10.6       0     5.1   209.2\n",
      "   1959  10   17.8     8.5       0    46.9   150.1\n",
      "   1959  11   10.8     3.5       6    53.5    53.0\n",
      "   1959  12    9.3     3.0       1    75.7    30.2\n",
      "   1960   1    6.9     1.8      12    47.9    34.4\n",
      "   1960   2    7.9     1.6       7    48.0    80.1\n",
      "   1960   3   10.2     4.5       0    33.9    65.0\n",
      "   1960   4   14.3     4.6       1    12.4   156.1\n",
      "   1960   5   18.4     9.3       0    45.6   181.7\n",
      "   1960   6   22.1    12.1       0    42.8   248.6\n",
      "   1960   7   20.1    12.4       0    67.2   139.7\n",
      "   1960   8   20.3    11.8       0    60.8   150.9\n",
      "   1960   9   18.5    10.5       0    75.3   128.4\n",
      "   1960  10   14.2     8.2       0   155.5    75.2\n",
      "   1960  11   11.2     4.5       4    89.5    69.4\n",
      "   1960  12    6.9     2.1       5    56.5    44.5\n",
      "   1961   1    6.9     1.2      11    64.4    45.8\n",
      "   1961   2   10.3     4.9       0    55.1    56.0\n",
      "   1961   3   13.9     2.9       4     5.7   166.7\n",
      "   1961   4   15.0     7.1       0    50.8    73.5\n",
      "   1961   5   16.8     7.4       0    17.2   217.2\n",
      "   1961   6   21.7    10.5       0    29.2   229.3\n",
      "   1961   7   22.1    12.1       0    26.2   180.0\n",
      "   1961   8   21.7    12.6       0    47.6   158.8\n",
      "   1961   9   20.9    12.0       0    64.7   125.4\n",
      "   1961  10   15.6     7.6       1    56.8   117.2\n",
      "   1961  11    9.9     3.5       7    52.5    55.6\n",
      "   1961  12    6.8     0.2      17    88.6    46.2\n",
      "   1962   1    7.9     1.2       7    76.1    67.1\n",
      "   1962   2    7.6     1.4       7    12.6    67.1\n",
      "   1962   3    7.4    -0.6      16    35.8   111.4\n",
      "   1962   4   12.7     4.7       0    41.8   142.7\n",
      "   1962   5   15.0     7.1       0    29.6   157.9\n",
      "   1962   6   20.4     9.4       0     6.1   260.5\n",
      "   1962   7   20.6    12.1       0    82.8   135.0\n",
      "   1962   8   20.0    11.6       0    52.9   173.6\n",
      "   1962   9   17.8     9.6       0    88.4   152.0\n",
      "   1962  10   15.7     7.1       1    37.6   114.4\n",
      "   1962  11    9.1     3.2       8    41.7    33.6\n",
      "   1962  12    5.0    -1.1      22    52.8    64.1\n",
      "   1963   1    0.8    -4.6      28    12.9    38.4\n",
      "   1963   2    2.8    -2.2      24     6.6    72.2\n",
      "   1963   3   10.7     3.0       7    68.2    95.9\n",
      "   1963   4   13.6     5.7       1    52.1   123.2\n",
      "   1963   5   16.0     6.9       0    33.7   195.6\n",
      "   1963   6   20.8    11.3       0    48.3   193.4\n",
      "   1963   7   21.1    11.9       0    28.1   196.2\n",
      "   1963   8   19.8    11.7       0    53.4   138.6\n",
      "   1963   9   18.0    10.1       0    49.0   120.9\n",
      "   1963  10   14.8     8.2       0    34.7    85.4\n",
      "   1963  11   11.8     6.0       1   118.8    59.3\n",
      "   1963  12    5.4     0.0      16    16.1    44.1\n",
      "   1964   1    5.8     0.4       9    17.8    37.4\n",
      "   1964   2    7.6     2.0       7    16.8    59.2\n",
      "   1964   3    7.6     2.6       5    95.1    66.8\n",
      "   1964   4   12.8     5.4       2    73.5   126.1\n",
      "   1964   5   19.6     9.8       0    46.1   197.8\n",
      "   1964   6   19.3    11.2       0   110.1   164.1\n",
      "   1964   7   22.8    13.5       0    20.2   219.7\n",
      "   1964   8   22.3    12.7       0    21.2   215.7\n",
      "   1964   9   21.1    10.6       0    11.1   213.7\n",
      "   1964  10   13.7     5.3       1    29.2   126.2\n",
      "   1964  11   11.2     5.3       2    29.6    55.0\n",
      "   1964  12    7.1     0.9      12    29.9    48.6\n",
      "   1965   1    6.6     1.0      14    43.0    72.8\n",
      "   1965   2    5.9     0.9      11     8.3    32.5\n",
      "   1965   3   10.5     2.2       9    58.0   129.7\n",
      "   1965   4   13.4     4.8       0    44.8   138.6\n",
      "   1965   5   16.8     8.6       0    39.5   194.6\n",
      "   1965   6   19.7    11.0       0    54.6   184.7\n",
      "   1965   7   19.3    11.7       0    85.9   129.9\n",
      "   1965   8   20.8    11.9       0    55.9   184.7\n",
      "   1965   9   17.4     9.2       0   109.4   130.0\n",
      "   1965  10   16.2     7.5       1    18.8   129.1\n",
      "   1965  11    8.4     2.2       9    65.4    96.5\n",
      "   1965  12    8.4     1.7       9    87.3    54.0\n",
      "   1966   1    5.3     1.0      13    32.6    40.8\n",
      "   1966   2    9.3     4.4       1    73.4    27.0\n",
      "   1966   3   10.9     2.6       4    12.2   122.6\n",
      "   1966   4   12.2     5.4       0    98.6    88.7\n",
      "   1966   5   17.0     7.5       0    50.5   222.9\n",
      "   1966   6   21.8    12.2       0    66.7   205.4\n",
      "   1966   7   20.1    12.2       0    78.0   161.6\n",
      "   1966   8   20.6    11.6       0    86.2   199.7\n",
      "   1966   9   19.6    10.8       0    36.7   161.4\n",
      "   1966  10   14.7     8.6       0   122.1    81.3\n",
      "   1966  11    8.8     2.9       4    41.7    59.3\n",
      "   1966  12    9.3     2.2       6    62.5    36.3\n",
      "   1967   1    7.3     2.1      12    36.4    66.1\n",
      "   1967   2    9.3     2.6       7    48.6    89.5\n",
      "   1967   3   11.6     3.7       1    35.7   172.9\n",
      "   1967   4   12.5     4.4       1    44.1   138.2\n",
      "   1967   5   15.6     7.8       1   102.1   183.6\n",
      "   1967   6   20.1    10.3       0    51.0   210.0\n",
      "   1967   7   23.5    13.8       0    73.5   239.5\n",
      "   1967   8   21.5    12.7       0    47.4   182.9\n",
      "   1967   9   18.5    11.1       0    59.5   118.6\n",
      "   1967  10   15.0     8.8       0   103.8    99.1\n",
      "   1967  11    9.7     2.6       5    42.3    78.7\n",
      "   1967  12    7.2     1.3      11    54.0    61.3\n",
      "   1968   1    7.2     1.3      13    65.1    43.0\n",
      "   1968   2    5.7     0.2      13    25.3    67.2\n",
      "   1968   3   11.1     3.5       3    22.6   142.3\n",
      "   1968   4   13.7     4.4       4    44.2   188.4\n",
      "   1968   5   15.4     7.0       0    80.8   170.8\n",
      "   1968   6   20.6    11.5       0    54.9   172.5\n",
      "   1968   7   20.7    12.6       0    79.4   146.7\n",
      "   1968   8   20.2    12.6       0    68.2   121.1\n",
      "   1968   9   18.8    11.6       0   131.4   125.6\n",
      "   1968  10   16.5    10.7       0    64.2    78.5\n",
      "   1968  11    9.5     4.8       3    44.3    40.7\n",
      "   1968  12    5.4     1.0      12    74.9    30.7\n",
      "   1969   1    8.9     3.4       5    71.7    32.4\n",
      "   1969   2    4.9    -0.9      15    45.0    70.5\n",
      "   1969   3    8.0     1.3       7    56.0    66.8\n",
      "   1969   4   13.6     3.9       4    20.3   207.6\n",
      "   1969   5   17.1     8.6       0    59.5   149.1\n",
      "   1969   6   20.6    10.2       0    26.6   262.8\n",
      "   1969   7   23.9    13.9       0    68.7   229.2\n",
      "   1969   8   21.8    13.6       0    93.0   141.3\n",
      "   1969   9   19.6    11.7       0     3.1   118.5\n",
      "   1969  10   18.2     9.9       0     5.1   117.3\n",
      "   1969  11    9.6     3.3       7    68.7    71.1\n",
      "   1969  12    6.1     1.4       9    46.1    18.5\n",
      "   1970   1    7.1     2.1       9    67.7    31.9\n",
      "   1970   2    7.2     0.8      12    39.9   105.5\n",
      "   1970   3    8.1     0.7      13    37.6    99.7\n",
      "   1970   4   11.4     3.7       3    59.5   122.7\n",
      "   1970   5   19.2     9.2       0    25.1   219.2\n",
      "   1970   6   23.6    12.7       0    70.1   273.3\n",
      "   1970   7   21.3    12.3       0    53.0   181.3\n",
      "   1970   8   22.3    13.0       0    53.6   184.3\n",
      "   1970   9   20.3    11.4       0    49.8   157.0\n",
      "   1970  10   15.7     8.1       0    10.4   100.9\n",
      "   1970  11   11.9     5.5       1   151.2    59.8\n",
      "   1970  12    7.0     1.7      10    38.5    45.3\n",
      "   1971   1    7.8     2.8       6    70.5    42.5\n",
      "   1971   2    8.6     1.9       5    16.6    72.6\n",
      "   1971   3    9.1     2.3       7    42.4   104.7\n",
      "   1971   4   12.2     4.8       1    47.3   121.5\n",
      "   1971   5   18.1     8.2       0    76.7   232.9\n",
      "   1971   6   17.8    10.1       0   127.7   145.4\n",
      "   1971   7   24.1    13.8       0    19.3   224.1\n",
      "   1971   8   21.3    13.5       0    64.4   147.5\n",
      "   1971   9   20.7    10.2       0    11.1   173.9\n",
      "   1971  10   17.2     8.1       0    57.6   147.0\n",
      "   1971  11   10.4     3.0       7    63.9    96.3\n",
      "   1971  12    9.3     4.5       1    21.0    31.4\n",
      "   1972   1    6.9     2.1       6    55.3    40.9\n",
      "   1972   2    7.9     2.6       2    43.4    35.0\n",
      "   1972   3   12.4     3.3       2    54.0   144.5\n",
      "   1972   4   12.9     5.7       0    38.3   120.8\n",
      "   1972   5   16.0     7.6       0    25.9   171.7\n",
      "   1972   6   17.5     9.0       0    15.4   166.3\n",
      "   1972   7   22.3    12.7       0    27.2   151.4\n",
      "   1972   8   21.8    12.1       0    15.4   190.0\n",
      "   1972   9   17.3     9.0       0    27.6   117.5\n",
      "   1972  10   15.6     8.5       0    17.3   112.7\n",
      "   1972  11    9.9     3.2       9    57.7    78.0\n",
      "   1972  12    9.4     3.5       2    66.7    56.5\n",
      "   1973   1    7.3     2.0      10    13.1    28.0\n",
      "   1973   2    8.1     0.7      15    12.5    66.0\n",
      "   1973   3   11.5     2.2       6    10.4   138.1\n",
      "   1973   4   12.5     3.9       2    58.1   140.5\n",
      "   1973   5   16.9     8.6       0    54.2   167.2\n",
      "   1973   6   21.9    11.6       0    68.8   254.5\n",
      "   1973   7   21.4    12.7       0    49.1   173.7\n",
      "   1973   8   23.7    13.8       0    40.9   189.1\n",
      "   1973   9   20.7    11.6       0    60.7   180.4\n",
      "   1973  10   13.9     6.1       0    38.6    98.9\n",
      "   1973  11   10.3     2.5      11    26.6    87.0\n",
      "   1973  12    8.6     2.1       9    52.3    59.6\n",
      "   1974   1    9.6     3.6       2    53.0    46.0\n",
      "   1974   2    9.2     3.0       2    57.8    67.2\n",
      "   1974   3   10.3     2.8       4    27.2   101.3\n",
      "   1974   4   14.0     4.7       0    15.2   159.3\n",
      "   1974   5   17.0     7.5       0    22.4   196.4\n",
      "   1974   6   20.1    10.6       0    67.2   201.7\n",
      "   1974   7   20.9    12.5       0    29.8   187.7\n",
      "   1974   8   21.5    12.1       0    67.8   190.3\n",
      "   1974   9   17.5     9.5       0   140.0   156.0\n",
      "   1974  10   11.0     5.0       1    71.9    89.1\n",
      "   1974  11   10.6     5.0       0   142.8    42.7\n",
      "   1974  12   11.0     5.6       0    34.4    52.6\n",
      "   1975   1   10.3     4.5       2    92.3    38.0\n",
      "   1975   2    9.3     1.9       5    23.0    79.1\n",
      "   1975   3    8.4     2.8       7    69.7    66.9\n",
      "   1975   4   13.3     5.0       5    43.6   133.4\n",
      "   1975   5   15.1     6.9       0    62.9   149.8\n",
      "   1975   6   21.8    10.4       0    23.2   293.7\n",
      "   1975   7   24.1    14.1       0    36.3   217.3\n",
      "   1975   8   25.9    15.0       0    13.3   226.0\n",
      "   1975   9   19.5    10.6       0   111.2   144.1\n",
      "   1975  10   14.4     7.0       0    23.2   111.6\n",
      "   1975  11   10.1     3.2       6    58.0    78.8\n",
      "   1975  12    7.6     1.5      11    29.1    40.3\n",
      "   1976   1    8.8     3.0       8    13.9    68.3\n",
      "   1976   2    7.8     2.3       7    21.1    39.7\n",
      "   1976   3    9.5     2.0       8    11.3   127.1\n",
      "   1976   4   13.7     4.3       1     9.9   182.3\n",
      "   1976   5   19.3     8.9       0    19.3   209.2\n",
      "   1976   6   25.5    13.7       0     6.3   261.2\n",
      "   1976   7   26.6    14.9       0    15.4   263.5\n",
      "   1976   8   25.1    13.2       0    16.4   263.7\n",
      "   1976   9   19.0    11.2       0    96.6   118.9\n",
      "   1976  10   14.9     8.8       0    93.0    61.4\n",
      "   1976  11    9.9     3.5       5    81.7    60.1\n",
      "   1976  12    5.6    -0.2      11    72.3    57.4\n",
      "   1977   1    6.1     0.8      15    63.5    38.2\n",
      "   1977   2    9.6     3.4       3    65.3    83.3\n",
      "   1977   3   11.2     4.5       4    56.8   105.1\n",
      "   1977   4   12.2     4.1       4    32.7   151.1\n",
      "   1977   5   16.4     7.2       0    37.3   210.5\n",
      "   1977   6   17.4     9.6       0    52.4   134.8\n",
      "   1977   7   22.4    12.7       0    10.4   210.4\n",
      "   1977   8   20.3    13.0       0   150.3   135.8\n",
      "   1977   9   18.0    10.7       0    15.3   117.5\n",
      "   1977  10   16.3     9.0       0    48.1   113.8\n",
      "   1977  11   10.4     4.6       2    51.3    88.4\n",
      "   1977  12    9.2     4.1       2    55.5    37.1\n",
      "   1978   1    6.7     0.7      11    68.8    47.4\n",
      "   1978   2    6.2     0.7      13    40.9    41.3\n",
      "   1978   3   11.3     3.5       4    58.9   108.5\n",
      "   1978   4   10.7     3.9       4    45.4   113.8\n",
      "   1978   5   17.2     7.9       0    78.5   210.6\n",
      "   1978   6   19.7    10.7       0    38.1   175.9\n",
      "   1978   7   20.5    12.7       0    65.5   142.0\n",
      "   1978   8   20.7    12.1       0    53.6   177.6\n",
      "   1978   9   20.1    10.8       0    17.1   166.7\n",
      "   1978  10   17.1     8.4       0     1.6    98.4\n",
      "   1978  11   12.6     6.2       4     8.2    81.7\n",
      "   1978  12    7.8     2.6      11   108.6    35.4\n",
      "   1979   1    3.8    -2.6      24    59.9    58.5\n",
      "   1979   2    4.5    -0.4      13    44.0    52.9\n",
      "   1979   3    9.2     2.0       4    94.9    99.6\n",
      "   1979   4   12.7     4.8       2    77.6   106.3\n",
      "   1979   5   15.9     7.2       2    87.0   200.6\n",
      "   1979   6   19.0    11.1       0    37.6   140.3\n",
      "   1979   7   22.5    13.4       0    21.7   182.5\n",
      "   1979   8   21.0    12.2       0    33.4   171.3\n",
      "   1979   9   19.6    10.3       0    20.8   177.6\n",
      "   1979  10   16.4     8.8       0    68.7   124.9\n",
      "   1979  11   10.8     3.5       5    48.2    58.1\n",
      "   1979  12    9.2     3.9       5    90.7    49.6\n",
      "   1980   1    6.0    -0.1      14    29.7    72.4\n",
      "   1980   2    9.9     2.9       4    36.8    52.2\n",
      "   1980   3    9.0     2.4       4    72.1    83.2\n",
      "   1980   4   14.0     5.4       0    21.6   161.2\n",
      "   1980   5   17.3     7.4       0    26.1   221.1\n",
      "   1980   6   19.8    10.9       0   106.2   188.8\n",
      "   1980   7   19.7    11.9       0    59.3   163.7\n",
      "   1980   8   21.9    13.3       0    52.3   173.4\n",
      "   1980   9   20.1    12.0       0    27.7   146.6\n",
      "   1980  10   14.0     5.8       0    96.5   123.3\n",
      "   1980  11    9.3     4.5       4    26.4    66.4\n",
      "   1980  12    8.9     2.7       8    33.4    63.7\n",
      "   1981   1    8.1     2.0       9    32.7    62.0\n",
      "   1981   2    7.1    -0.1      16    11.9    71.6\n",
      "   1981   3   11.8     6.5       1    90.8    56.8\n",
      "   1981   4   12.9     4.9       1    32.4   129.9\n",
      "   1981   5   16.1     8.4       0    79.8   112.0\n",
      "   1981   6   18.5    10.4       0    39.5   152.1\n",
      "   1981   7   22.0    12.8       0    56.7   148.9\n",
      "   1981   8   22.8    13.0       0    45.3   217.9\n",
      "   1981   9   20.3    11.3       0    94.6   151.1\n",
      "   1981  10   12.9     5.8       0    76.5   110.3\n",
      "   1981  11   11.5     5.1       1    34.1    54.9\n",
      "   1981  12    4.4    -1.5      17    85.3    47.0\n",
      "   1982   1    6.9     0.4      14    38.0    57.7\n",
      "   1982   2    8.4     2.4       4    31.6    51.3\n",
      "   1982   3   11.1     2.5       3    51.5   171.3\n",
      "   1982   4   14.3     5.0       2    22.8   180.9\n",
      "   1982   5   18.0     7.6       0    71.9   204.8\n",
      "   1982   6   21.5    12.8       0    84.6   182.1\n",
      "   1982   7   22.7    13.4       0    24.5   164.0\n",
      "   1982   8   22.2    12.9       0    39.7   168.9\n",
      "   1982   9   20.8    11.1       0    39.6   156.0\n",
      "   1982  10   14.1     7.8       0   109.1    69.6\n",
      "   1982  11   11.4     6.2       3    72.9    55.5\n",
      "   1982  12    8.2     1.9       8    63.6    50.0\n",
      "   1983   1   10.0     4.3       3    47.2    51.4\n",
      "   1983   2    5.5    -0.5      19    31.0    85.3\n",
      "   1983   3   10.8     3.0       5    33.7    93.4\n",
      "   1983   4   12.4     3.6       3   101.5   145.4\n",
      "   1983   5   15.6     7.5       0    72.9   136.8\n",
      "   1983   6   20.8    11.4       0    12.0   188.8\n",
      "   1983   7   27.6    16.0       0    50.3   247.8\n",
      "   1983   8   24.5    13.8       0    11.4   219.1\n",
      "   1983   9   19.3    11.3       0    42.9   113.7\n",
      "   1983  10   15.1     7.6       2    41.7   114.0\n",
      "   1983  11   11.3     5.5       4    39.5    42.9\n",
      "   1983  12    9.2     2.7      10    50.9    58.5\n",
      "   1984   1    8.0     1.4       9    73.3    88.1\n",
      "   1984   2    7.4     1.3      10    32.9    71.6\n",
      "   1984   3    8.9     2.5       2    73.4    51.4\n",
      "   1984   4   14.6     3.9       5     5.4   230.5\n",
      "   1984   5   14.9     6.8       0    90.9   144.7\n",
      "   1984   6   21.3    11.3       0    36.1   237.0\n",
      "   1984   7   24.2    12.9       0    19.2   232.5\n",
      "   1984   8   24.4    14.2       0    27.8   201.1\n",
      "   1984   9   18.6    11.0       0    73.4    98.1\n",
      "   1984  10   15.8     8.5       0    82.8    91.2\n",
      "   1984  11   12.2     6.4       0    69.8    75.4\n",
      "   1984  12    8.7     2.8       8    56.7    49.3\n",
      "   1985   1    4.1    -1.8      20    41.3    46.9\n",
      "   1985   2    6.3     0.1      13    29.8    78.3\n",
      "   1985   3    9.4     1.3      12    34.1   105.2\n",
      "   1985   4   14.0     5.3       3    33.3   157.5\n",
      "   1985   5   16.4     8.2       0    64.7   163.7\n",
      "   1985   6   18.5     9.9       0    88.9   167.2\n",
      "   1985   7   22.9    13.2       0    35.2   241.4\n",
      "   1985   8   20.3    11.9       0    58.9   187.3\n",
      "   1985   9   20.6    11.4       0    11.2   143.4\n",
      "   1985  10   16.1     8.8       0    18.4   118.8\n",
      "   1985  11    8.1     1.2      11    30.0    88.6\n",
      "   1985  12   10.0     5.2       4    80.5    39.0\n",
      "   1986   1    7.2     1.0      11   105.6    62.8\n",
      "   1986   2    1.7    -2.7      24    14.5    61.9\n",
      "   1986   3   10.1     1.8       8    43.5   124.4\n",
      "   1986   4   10.9     3.2       3    60.7   135.2\n",
      "   1986   5   16.3     7.9       0    52.3   172.3\n",
      "   1986   6   21.8    11.4       0    17.2   225.8\n",
      "   1986   7   22.6    13.3       0    54.6   180.5\n",
      "   1986   8   20.0    11.5       0    66.7   158.3\n",
      "   1986   9   17.4     8.1       0    22.8   157.5\n",
      "   1986  10   16.4     8.5       0    72.4   116.3\n",
      "   1986  11   12.1     5.2       0    66.1    73.1\n",
      "   1986  12    9.7     3.2       4    60.6    55.1\n",
      "   1987   1    3.6    -1.0      18    11.1    54.4\n",
      "   1987   2    7.7     1.4      12    32.4    58.0\n",
      "   1987   3    8.5     1.4      14    42.7   105.2\n",
      "   1987   4   15.8     6.7       0    39.9   153.0\n",
      "   1987   5   16.3     7.0       0    54.1   198.2\n",
      "   1987   6   18.6    10.6       0    69.9   132.9\n",
      "   1987   7   21.8    13.2       0    77.3   176.1\n",
      "   1987   8   21.8    12.5       0    57.2   172.3\n",
      "   1987   9   19.3    11.4       0    36.9   147.2\n",
      "   1987  10   15.0     7.7       0   174.8   120.6\n",
      "   1987  11    9.8     4.2       3    43.3    39.8\n",
      "   1987  12    8.9     4.1       5    14.4    34.4\n",
      "   1988   1    8.8     3.1       5   106.9    54.7\n",
      "   1988   2    8.7     1.8       6    26.0   115.9\n",
      "   1988   3   10.7     3.7       4    59.5    88.1\n",
      "   1988   4   13.5     5.1       1    27.7   145.8\n",
      "   1988   5   18.0     9.1       0    41.6   202.0\n",
      "   1988   6   19.7    11.3       0    44.3   159.9\n",
      "   1988   7   20.0    12.2       0    76.2   161.7\n",
      "   1988   8   21.8    12.4       0    60.9   195.0\n",
      "   1988   9   18.8    10.8       0    27.8   147.8\n",
      "   1988  10   15.5     8.5       0    56.3   110.0\n",
      "   1988  11    9.9     1.8      12    16.0    89.2\n",
      "   1988  12   10.4     4.8       1     8.9    37.5\n",
      "   1989   1    9.5     3.1       6    26.0    59.2\n",
      "   1989   2   10.2     2.6       4    40.2    94.2\n",
      "   1989   3   12.9     4.5       2    56.6   100.0\n",
      "   1989   4   11.5     4.3       1    64.2   144.5\n",
      "   1989   5   21.0    10.0       0    12.1   310.1\n",
      "   1989   6   22.1    11.4       0    35.5   258.5\n",
      "   1989   7   25.8    14.8       0    36.7   274.8\n",
      "   1989   8   24.2    13.1       0    55.7   267.1\n",
      "   1989   9   20.7    12.6       0    10.8   131.2\n",
      "   1989  10   17.1     9.7       0    52.8   113.4\n",
      "   1989  11   10.9     3.7       6    23.8   107.0\n",
      "   1989  12    9.4     4.2       2   119.3    33.6\n",
      "   1990   1   10.2     4.4       0    71.1    57.6\n",
      "   1990   2   11.7     5.3       1    92.3    94.3\n",
      "   1990   3   13.6     4.8       1     6.9   154.6\n",
      "   1990   4   14.6     4.2       3    29.7   245.0\n",
      "   1990   5   20.5     9.0       0     4.1   287.0\n",
      "   1990   6   19.5    10.8       0    39.5   132.5\n",
      "   1990   7   24.7    13.2       0     6.9   273.2\n",
      "   1990   8   26.0    14.7       0    26.8   249.3\n",
      "   1990   9   19.7    10.0       0    24.9   173.4\n",
      "   1990  10   16.9     9.6       0    49.7   122.5\n",
      "   1990  11   10.7     5.1       0    22.1    70.0\n",
      "   1990  12    7.6     2.5       7    51.4    47.8\n",
      "   1991   1    7.3     1.8       3    69.7    68.4\n",
      "   1991   2    5.4    -1.3      16    34.7    48.5\n",
      "   1991   3   12.5     5.3       2    25.9   102.7\n",
      "   1991   4   13.1     4.8       2    52.8   158.5\n",
      "   1991   5   15.7     7.7       0     9.1   138.7\n",
      "   1991   6   17.8     9.7       0    88.6   135.0\n",
      "   1991   7   23.2    14.4       0    92.9   218.6\n",
      "   1991   8   24.1    14.4       0    26.0   241.7\n",
      "   1991   9   21.4    11.5       0    43.7   183.0\n",
      "   1991  10   14.6     7.6       0    18.5    87.1\n",
      "   1991  11   10.6     4.2       5    59.3    59.2\n",
      "   1991  12    8.3     1.7      12    12.0    60.7\n",
      "   1992   1    7.5     2.0      11    12.6    56.0\n",
      "   1992   2    9.5     2.3       8    17.7    50.3\n",
      "   1992   3   11.8     4.9       0    38.5    61.8\n",
      "   1992   4   14.0     5.6       1    57.1   129.7\n",
      "   1992   5   21.0    10.2       0    94.5   271.9\n",
      "   1992   6   22.5    12.3       0    22.5   213.7\n",
      "   1992   7   22.5    14.2       0    62.3   158.6\n",
      "   1992   8   21.7    13.6       0    84.7   149.2\n",
      "   1992   9   18.9    11.0       0    77.3   127.5\n",
      "   1992  10   12.5     5.3       3    59.4   112.6\n",
      "   1992  11   12.0     4.8       2    86.9    61.6\n",
      "   1992  12    7.8     1.6      12    35.9    49.1\n",
      "   1993   1   10.3     3.5       4    63.1    37.8\n",
      "   1993   2    7.2     2.5       2     2.4    51.0\n",
      "   1993   3   11.8     3.3       4    16.0   128.4\n",
      "   1993   4   14.6     6.8       0    75.3   126.9\n",
      "   1993   5   18.0     8.8       0    31.8   176.6\n",
      "   1993   6   21.8    12.2       0    43.9   224.2\n",
      "   1993   7   21.6    12.6       0    35.0   174.6\n",
      "   1993   8   21.6    11.7       0    23.8   219.4\n",
      "   1993   9   17.5     9.8       0    96.3   104.5\n",
      "   1993  10   13.0     7.0       1   123.0   117.0\n",
      "   1993  11    8.8     2.4      11    29.5    71.3\n",
      "   1993  12    9.2     3.6       3    73.8    52.4\n",
      "   1994   1    9.3     2.8       6    80.0    73.4\n",
      "   1994   2    7.7     1.2       8    42.6    72.0\n",
      "   1994   3   12.3     5.1       1    40.0   126.4\n",
      "   1994   4   13.3     5.1       1    52.8   175.0\n",
      "   1994   5   16.0     8.2       0    80.6   158.3\n",
      "   1994   6   21.5    11.2       0    17.0   265.0\n",
      "   1994   7   26.2    15.2       0    16.9   267.1\n",
      "   1994   8   23.0    13.8       0    32.2   180.9\n",
      "   1994   9   17.8    10.8       0    86.3   109.7\n",
      "   1994  10   15.4     7.7       0    76.0   141.0\n",
      "   1994  11   13.6     8.4       0    43.1    42.7\n",
      "   1994  12   10.7     4.0       6    63.3    60.8\n",
      "   1995   1    8.9     2.2       6   113.7    59.6\n",
      "   1995   2   10.7     4.4       1    71.9    70.9\n",
      "   1995   3   11.2     2.0       7    49.5   194.5\n",
      "   1995   4   15.0     6.1       3    16.9   199.5\n",
      "   1995   5   19.0     8.2       0    30.0   234.4\n",
      "   1995   6   20.7    10.8       0    11.1   187.7\n",
      "   1995   7   26.3    15.2       0    20.3   247.1\n",
      "   1995   8   27.0    15.6       0     0.3   295.3\n",
      "   1995   9   19.2    10.7       0    95.0   142.4\n",
      "   1995  10   18.3    10.2       0    19.2   129.9\n",
      "   1995  11   12.0     5.1       4    28.5    76.2\n",
      "   1995  12    5.8     1.0      13    82.8    44.7\n",
      "   1996   1    7.2     3.1       5    41.5    25.3\n",
      "   1996   2    6.8     0.1      17    49.0   100.3\n",
      "   1996   3    8.6     2.1       9    31.4    75.9\n",
      "   1996   4   14.3     5.5       3    25.0   147.5\n",
      "   1996   5   15.1     5.9       0    25.8   182.6\n",
      "   1996   6   22.8    11.3       0    12.0   282.7\n",
      "   1996   7   24.2    13.2       0    28.8   233.7\n",
      "   1996   8   23.1    13.4       0    45.8   217.6\n",
      "   1996   9   19.2    10.7       0    22.0   142.0\n",
      "   1996  10   16.6     8.9       0    35.4   142.3\n",
      "   1996  11   10.5     2.7       9    91.0   107.5\n",
      "   1996  12    6.2     1.4      11    13.0    57.6\n",
      "   1997   1    5.5     0.2      13    10.3    59.3\n",
      "   1997   2   10.8     4.0       4    55.1    58.1\n",
      "   1997   3   13.8     5.3       0    11.4   151.0\n",
      "   1997   4   15.6     5.4       1     9.8   218.5\n",
      "   1997   5   18.7     8.5       1    28.2   259.2\n",
      "   1997   6   20.2    12.2       0    78.6   151.6\n",
      "   1997   7   23.5    13.9       0    34.6   241.1\n",
      "   1997   8   25.8    16.6       0    70.5   194.2\n",
      "   1997   9   20.9    11.8       0     6.8   190.3\n",
      "   1997  10   15.9     7.5       3    44.9   166.0\n",
      "   1997  11   12.5     6.2       2    47.1    67.3\n",
      "   1997  12    9.5     4.2       4    47.4    48.0\n",
      "   1998   1    9.2     3.5       3    68.6    65.2\n",
      "   1998   2   11.6     3.5       5     6.6   113.1\n",
      "   1998   3   12.1     5.7       1    51.1    84.9\n",
      "   1998   4   12.7     5.7       0    82.6   115.4\n",
      "   1998   5   19.6    10.2       0    31.9   228.2\n",
      "   1998   6   19.9    12.0       0    89.6   158.4\n",
      "   1998   7   21.4    13.0       0    26.9   184.3\n",
      "   1998   8   23.5    12.7       0    16.6   262.6\n",
      "   1998   9   20.4    12.7       0   101.2   149.1\n",
      "   1998  10   14.7     8.6       0   103.8    96.7\n",
      "   1998  11    9.6     3.4       4    57.0    78.5\n",
      "   1998  12    9.7     3.8       7    49.2    42.4\n",
      "   1999   1    9.4     3.8       3    68.7    53.7\n",
      "   1999   2    8.8     2.8       7    21.1    90.1\n",
      "   1999   3   12.2     5.0       2    25.6   122.5\n",
      "   1999   4   14.9     6.3       1    35.0   167.8\n",
      "   1999   5   19.1    10.2       0    35.8   184.9\n",
      "   1999   6   20.3    11.0       0    98.2   239.1\n",
      "   1999   7   24.9    14.3       0     8.6   275.9\n",
      "   1999   8   22.8    14.0       0   124.8   199.8\n",
      "   1999   9   21.3    13.2       0    86.7   165.0\n",
      "   1999  10   15.6     7.9       0    49.2   160.5\n",
      "   1999  11   11.3     5.9       0    31.2    79.0\n",
      "   1999  12    8.7     2.4       7    77.2    75.3\n",
      "   2000   1    8.6     2.4       7    16.5    78.6\n",
      "   2000   2   10.4     3.8       5    62.2   102.5\n",
      "   2000   3   12.1     4.9       1    16.0   120.4\n",
      "   2000   4   12.9     5.4       0    99.6   135.8\n",
      "   2000   5   18.0     9.6       0    87.2   202.9\n",
      "   2000   6   21.0    12.8       0    19.2   169.5\n",
      "   2000   7   21.0    12.8       0    52.8   174.7\n",
      "   2000   8   23.2    14.0       0    32.3   211.4\n",
      "   2000   9   20.1    12.5       0   105.8   132.1\n",
      "   2000  10   14.7     8.5       0   155.4    98.0\n",
      "   2000  11   11.0     4.5       1    99.5    74.9\n",
      "   2000  12    9.0     4.6       5    73.9    50.0\n",
      "   2001   1    7.1     1.8       9    75.2    87.0\n",
      "   2001   2    9.2     2.8       5    69.6    92.3\n",
      "   2001   3    9.5     3.8       3    95.3    78.2\n",
      "   2001   4   12.8     5.4       0    66.5   138.5\n",
      "   2001   5   18.8     9.1       0    26.0   228.0\n",
      "   2001   6   20.8    11.3       0    39.1   248.0\n",
      "   2001   7   24.3    14.5       0    35.2   229.1\n",
      "   2001   8   23.5    14.5       0    79.0   210.9\n",
      "   2001   9   18.1    10.8       0    59.6   143.3\n",
      "   2001  10   17.6    11.3       0   108.2   109.9\n",
      "   2001  11   11.3     4.4       3    33.8    88.3\n",
      "   2001  12    7.3     1.4      11    17.8    93.3\n",
      "   2002   1    9.5     3.5       6    51.0    53.4\n",
      "   2002   2   11.3     4.8       2    64.0    91.4\n",
      "   2002   3   12.4     5.1       2    37.6   111.3\n",
      "   2002   4   15.7     6.1       0    38.4   220.5\n",
      "   2002   5   17.3     9.4       0    66.4   192.2\n",
      "   2002   6   20.1    11.6       0    74.2   191.5\n",
      "   2002   7   22.3    13.5       0    67.2   193.9\n",
      "   2002   8   23.3    14.7       0    36.3   190.4\n",
      "   2002   9   20.3    11.5       0    20.0   178.2\n",
      "   2002  10   15.3     8.4       0    61.6   109.2\n",
      "   2002  11   12.4     7.0       0   151.0    66.1\n",
      "   2002  12    9.0     5.2       0   119.0    34.1\n",
      "   2003   1    8.0     2.3      10    73.6    93.6\n",
      "   2003   2    8.4     1.8      10    20.8   101.2\n",
      "   2003   3   13.6     4.4       0    16.4   176.9\n",
      "   2003   4   15.7     6.3       3    30.0   198.0\n",
      "   2003   5   18.2     9.0       0    39.1   205.5\n",
      "   2003   6   23.3    13.3       0    47.6   245.5\n",
      "   2003   7   24.2    14.7       0    28.8   213.9\n",
      "   2003   8   26.4    15.7       0    10.4   255.3\n",
      "   2003   9   21.9    10.8       0     8.4   206.7\n",
      "   2003  10   14.5     6.4       0    35.2   160.7\n",
      "   2003  11   12.6     6.7       1   113.8    88.2\n",
      "   2003  12    8.8     3.2       3    51.4    58.0\n",
      "   2004   1    8.8     3.1       8    71.9    64.0\n",
      "   2004   2    8.7     3.8       7    26.2    65.3\n",
      "   2004   3   10.8     3.9       3    29.5   102.7\n",
      "   2004   4   14.9     6.3       0    68.8   155.0\n",
      "   2004   5   18.2     9.5       0    45.0   208.2\n",
      "   2004   6   22.1    12.6       0    40.4   236.0\n",
      "   2004   7   22.7    13.3       0    37.6   201.5\n",
      "   2004   8   23.8    15.1       0   107.8   213.3\n",
      "   2004   9   20.8    12.5       0    18.8   182.7\n",
      "   2004  10   15.3     9.1       0    96.6   101.2\n",
      "   2004  11   11.2     6.2       2    29.6    60.8\n",
      "   2004  12    8.8     2.9       5    46.4    48.2\n",
      "   2005   1    9.5     3.8       1    21.6    72.1\n",
      "   2005   2    7.3     2.5       7    19.7    62.4\n",
      "   2005   3   11.5     4.5       7    43.6    96.7\n",
      "   2005   4   14.6     6.2       1    30.0   153.0\n",
      "   2005   5   17.7     8.5       0    19.8   228.3\n",
      "   2005   6   22.8    12.9       0    32.6   219.3\n",
      "   2005   7   23.3    14.1       0    45.8   202.5\n",
      "   2005   8   23.2    13.0       0    42.4   250.4\n",
      "   2005   9   21.4    12.7       0    47.5   143.9#\n",
      "   2005  10   17.8    11.3       0    73.4    89.9#\n",
      "   2005  11   10.7     3.5       8    29.2    93.3#\n",
      "   2005  12    8.2     1.9       8    44.4    65.7#\n",
      "   2006   1    7.6     2.9       6    16.8    51.4#\n",
      "   2006   2    7.2     1.7       5    41.2    62.9#\n",
      "   2006   3    9.4     2.8      10    44.6    91.2#\n",
      "   2006   4   14.1     6.0       0    33.4   132.3#\n",
      "   2006   5   18.0     9.8       0    91.6   128.2#\n",
      "   2006   6   23.7    12.9       0    11.8   225.3#\n",
      "   2006   7   28.2    16.7       0    23.6   266.4#\n",
      "   2006   8   22.2    13.5       0    68.8   140.2#\n",
      "   2006   9   22.7    14.5       0    78.2   153.9#\n",
      "   2006  10   17.8    11.2       0    64.4   106.3#\n",
      "   2006  11   12.7     5.4       2    98.0    97.0#\n",
      "   2006  12    9.7     4.5       5    63.6    41.2#\n",
      "   2007   1   10.5     5.1       2    56.0    56.6#\n",
      "   2007   2    9.9     3.9       5    92.9    59.3#\n",
      "   2007   3   12.5     4.4       2    43.8   164.7#\n",
      "   2007   4   18.9     7.7       0     3.6   224.6#\n",
      "   2007   5   17.9     9.7       0    80.0   149.6#\n",
      "   2007   6   21.2    12.6       0    63.8   139.7#\n",
      "   2007   7   21.4    13.1       0   115.2   159.9#\n",
      "   2007   8   21.5    12.9       0    41.0   192.6#\n",
      "   2007   9   19.9    11.4       0    17.4   141.1#\n",
      "   2007  10   15.4     8.5       0    37.8    98.4#\n",
      "   2007  11   11.4     4.6       3    84.8    81.3#\n",
      "   2007  12    8.9     3.1       9    44.6    61.4#\n",
      "   2008   1   10.4     4.7       0    69.0    60.2#\n",
      "   2008   2   11.0     2.0       7    15.4   130.0#\n",
      "   2008   3   10.6     3.7       2    69.8    85.7#\n",
      "   2008   4   13.7     5.2       2    63.4   140.3#\n",
      "   2008   5   19.8    10.5       0    64.2   162.6#\n",
      "   2008   6   20.8    11.9       0    45.6   201.9#\n",
      "   2008   7   22.8    13.7       0    76.8   172.5#\n",
      "   2008   8   21.5    14.2       0    64.4   104.3#\n",
      "   2008   9   18.5    11.2       0    43.0   110.7#\n",
      "   2008  10   15.0     6.8       1    45.0   134.4#\n",
      "   2008  11   10.7     5.2       2    58.8    42.2#\n",
      "   2008  12    7.3     1.7      11    41.2    65.1#\n",
      "   2009   1    6.8     0.3      13    72.4    63.2#\n",
      "   2009   2    7.8     2.1      10    69.6    59.2#\n",
      "   2009   3   12.9     3.7       2    30.0   158.5#\n",
      "   2009   4   16.1     7.2       0    28.0   172.8#\n",
      "   2009   5   19.1     9.4       0    29.8   193.9#\n",
      "   2009   6   22.4    12.2       0    34.0   192.8#\n",
      "   2009   7   23.0    13.7       0    71.4   155.8#\n",
      "   2009   8   23.9    14.1       0    39.6   167.6#\n",
      "   2009   9   20.5    12.0       0    36.0   137.3#\n",
      "   2009  10   16.3     9.3       0    39.4    84.7#\n",
      "   2009  11   12.6     7.4       0   148.0    62.4#\n",
      "   2009  12    7.0     1.3      12    84.6    60.3#\n",
      "   2010   1    4.5    -0.3      15    51.8    51.3#\n",
      "   2010   2    6.9     1.7       8   100.4    46.7#\n",
      "   2010   3   11.1     3.7       4    39.8   106.4#\n",
      "   2010   4   15.8     5.6       0    23.2   201.7#\n",
      "   2010   5   17.3     7.7       0    20.6   170.4#\n",
      "   2010   6   23.5    12.1       0    12.4   220.1#\n",
      "   2010   7   25.0    15.1       0    18.0   161.8#\n",
      "   2010   8   21.6    13.2       0    88.6   110.9#\n",
      "   2010   9   19.4    11.2       0    38.2   128.7#\n",
      "   2010  10   15.2     8.3       1    74.8   104.0#\n",
      "   2010  11    9.1     4.0       7    32.2    50.0#\n",
      "   2010  12    3.9    -1.5      21    21.4    18.5#\n",
      "   2011   1    7.4     2.8       8    76.8    35.6#\n",
      "   2011   2   10.2     4.8       1    42.8    36.2#\n",
      "   2011   3   12.3     3.8       4    14.6   126.4#\n",
      "   2011   4   19.7     8.6       0     2.4   218.0#\n",
      "   2011   5   19.4     9.4       0    24.6   218.0#\n",
      "   2011   6   20.7    11.0       0    84.0   173.5#\n",
      "   2011   7   21.7    12.6       0    49.8   173.6#\n",
      "   2011   8   21.8    13.4       0    68.8   144.1#\n",
      "   2011   9   21.3    12.4       0    35.0   161.2#\n",
      "   2011  10   18.1    10.1       0    18.4   140.4#\n",
      "   2011  11   13.6     7.3       0    29.0    52.5#\n",
      "   2011  12    9.9     3.8       4    63.0    60.6#\n",
      "   2012   1    9.8     3.4       7    34.4    68.5#\n",
      "   2012   2    8.0     1.3      12    16.8    84.9#\n",
      "   2012   3   14.7     4.7       0    16.2   180.3#\n",
      "   2012   4   13.3     4.9       1    98.4   141.7#\n",
      "   2012   5   18.2     9.7       0    25.4   166.6#\n",
      "   2012   6   19.4    11.6       0   110.8   118.5#\n",
      "   2012   7   21.3    13.2       0    71.8   161.6#\n",
      "   2012   8   23.5    14.3       0    36.4   182.6#\n",
      "   2012   9   20.0    10.3       0    41.2   178.9#\n",
      "   2012  10   14.2     8.0       0    88.4    85.6#\n",
      "   2012  11   11.0     4.6       1    71.8    75.4#\n",
      "   2012  12    9.0     2.6      10    95.8    58.0#\n",
      "   2013   1    6.5     2.0      13    50.1    34.5#\n",
      "   2013   2    6.7     1.2       4    32.8    64.9#\n",
      "   2013   3    6.9     1.2      11    52.8    62.3#\n",
      "   2013   4   13.5     4.7       3    34.0   162.8#\n",
      "   2013   5   16.4     7.7       0    41.8   163.3#\n",
      "   2013   6   20.3    11.2       0    11.6   157.5#\n",
      "   2013   7   27.0    15.2       0    25.2   268.2#\n",
      "   2013   8   24.3    14.3       0    32.6   198.7#\n",
      "   2013   9   19.7    11.1       0    49.6   118.9#\n",
      "   2013  10   17.0    10.6       0    81.4    89.6#\n",
      "   2013  11   10.4     4.7       1    50.0    80.4#\n",
      "   2013  12   10.2     3.5       3    98.2    51.3#\n",
      "   2014   1   10.0     3.8       1   162.4    68.3#\n",
      "   2014   2   10.6     4.4       0    89.8    91.7#\n",
      "   2014   3   14.1     4.4       1    27.8   161.4#\n",
      "   2014   4   16.1     7.5       0    58.0   156.9#\n",
      "   2014   5   18.0     9.8       0    84.6   178.8#\n",
      "   2014   6   22.1    12.5       0    40.8   220.2#\n",
      "   2014   7   25.8    15.0       0    50.0   246.4#\n",
      "   2014   8   21.7    12.7       0    97.6   183.6#\n",
      "   2014   9   21.5    12.8       0    10.8   134.6#\n",
      "   2014  10   17.6    11.0       0    76.0   103.8#\n",
      "   2014  11   12.5     6.9       1   128.4    51.1#\n",
      "   2014  12    9.2     3.0       7    37.8    71.6#\n",
      "   2015   1    8.8     1.6      10    63.4    62.0#\n",
      "   2015   2    8.0     1.8       8    38.6    63.9#\n",
      "   2015   3   11.6     4.1       1    24.0   140.7#\n",
      "   2015   4   16.3     6.0       0    16.2   212.1#\n",
      "   2015   5   17.6     8.8       0    41.6   189.0#\n",
      "   2015   6   22.2    11.4       0    12.2   197.0#\n",
      "   2015   7   23.7    13.8       0    71.8   189.7#\n",
      "   2015   8   22.2    14.1       0   116.8   134.1#\n",
      "   2015   9   18.6    10.2       0    50.0   162.3#\n",
      "   2015  10   15.8     9.3       0    39.8    94.2#\n",
      "   2015  11   13.4     8.0       2    48.2    27.7#\n",
      "   2015  12   13.7     8.9       0    39.4    35.0#\n",
      "   2016   1    9.5     3.0       5    74.8    54.8#\n",
      "   2016   2    9.4     2.9       5    43.8    86.8#  Provisional\n",
      "   2016   3   10.7     3.2       3    72.8   123.3#  Provisional\n",
      "   2016   4   13.5     4.9       0    47.2   170.0#  Provisional\n",
      "   2016   5   19.0     9.7       0    60.4   192.7#  Provisional\n",
      "   2016   6   20.7    12.7       0    93.4   101.7#  Provisional\n",
      "   2016   7   24.0    14.5       0    16.0   182.8#  Provisional\n",
      "   2016   8   24.7    14.6       0    21.6   201.4#  Provisional\n",
      "   2016   9   22.4    13.5       0    42.2   122.1#  Provisional\n",
      "   2016  10   15.9     8.7       0    21.6   105.6#  Provisional\n",
      "   2016  11   10.5     3.8       3    88.4    77.4#  Provisional\n",
      "   2016  12   10.2     3.4       7    10.4    55.1#  Provisional\n",
      "   2017   1    7.6     0.7      15    60.2    64.5#  Provisional\n",
      "   2017   2   10.0     4.4       1    38.2    47.8#  Provisional\n",
      "   2017   3   14.1     6.6       0    25.8   116.3#  Provisional\n"
     ]
    }
   ],
   "source": [
    "lhr_lines = []\n",
    "with open(\"heathrowdata.txt\") as LHR_input:\n",
    "    for row in LHR_input:\n",
    "        print(row.strip(\"\\n\"))\n",
    "        lhr_lines.append(row)\n",
    "    "
   ]
  },
  {
   "cell_type": "markdown",
   "metadata": {
    "slideshow": {
     "slide_type": "slide"
    }
   },
   "source": [
    "### Plain Python\n",
    "* `split()` - works if separator is white space and no whitespace in fields\n",
    "* list of start/end positions or field lengths\n",
    "* lists of lists vs. lists of dicts"
   ]
  },
  {
   "cell_type": "code",
   "execution_count": null,
   "metadata": {
    "nbpresent": {
     "id": "8a2d3988-8dc4-443e-9e71-75e33809d53b"
    },
    "slideshow": {
     "slide_type": "slide"
    }
   },
   "outputs": [],
   "source": [
    "with open(\"heathrowdata.txt\") as LHR_input:\n",
    "    LHR = LHR_input.read()\n",
    "    \n",
    "lines= LHR.split(\"\\n\")[5:]\n",
    "header_1 = lines[0].split()\n",
    "print(header_1)\n",
    "header_2 = [\"\"] * 2 + lines[1].split()\n",
    "print(header_2)\n",
    "header = [\"\\n\".join(x) for x in zip(header_1, header_2)]\n",
    "print(header)\n",
    "lhr_list = [line.split() for line in lines[2:]]\n",
    "lhr_tuple = [tuple(line.split()) for line in lines[2:]]\n",
    "\n",
    "for row in lhr_list:\n",
    "    print(row)\n",
    "    "
   ]
  },
  {
   "cell_type": "code",
   "execution_count": null,
   "metadata": {
    "nbpresent": {
     "id": "8a2d3988-8dc4-443e-9e71-75e33809d53b"
    },
    "slideshow": {
     "slide_type": "slide"
    }
   },
   "outputs": [],
   "source": [
    "\n",
    "lhr_dict = [dict(zip(header_1, row))  for row in rows]\n",
    "for record in lhr_dict:\n",
    "    print(record)\n"
   ]
  },
  {
   "cell_type": "code",
   "execution_count": null,
   "metadata": {
    "slideshow": {
     "slide_type": "slide"
    }
   },
   "outputs": [],
   "source": [
    "field_lengths = (7, 4, 8, 8, 8, 8, 9)\n",
    "\n",
    "start_end_pos = ((0, 7), (7, 11), (11, 19), (19, 27), (27, 35), (35, 43), (43, 52))\n",
    "\n",
    "def normalize(field):\n",
    "    try:\n",
    "        return int(field.strip())\n",
    "    except ValueError as e:\n",
    "        try:\n",
    "            return float(field.strip())\n",
    "        except ValueError as e:\n",
    "            return None\n",
    "    \n",
    "with open(\"heathrowdata.txt\") as LHR_input:\n",
    "    LHR = LHR_input.read()\n",
    "    lines = LHR.split(\"\\n\")[5:]\n",
    "    header_1 = lines[0].split()\n",
    "    print(header_1)\n",
    "    header_2 = [\"\"] * 2 + lines[1].split()\n",
    "    print(header_2)\n",
    "    header = [\"\\n\".join(x) for x in zip(header_1, header_2)]\n",
    "    print(header)\n",
    "\n",
    "    records = []\n",
    "    for line in lines[2:]:\n",
    "        record = []\n",
    "        pos = 0\n",
    "        for field in field_lengths:\n",
    "            record.append(line[pos : pos + field])\n",
    "            pos += field\n",
    "        record = [normalize(line[a:b]) for a, b in start_end_pos]\n",
    "        records.append(record)\n",
    "        #print(record)\n",
    "        \n",
    "    lhr_records = [[normalize(line[a:b]) for a, b in start_end_pos] for line in lines[2:] if line.strip()]\n",
    "    print(lhr_records)"
   ]
  },
  {
   "cell_type": "code",
   "execution_count": null,
   "metadata": {
    "slideshow": {
     "slide_type": "slide"
    }
   },
   "outputs": [],
   "source": [
    "pos = 0\n",
    "for field in field_lengths:\n",
    "    print(f\"({pos} , {pos + field})\")\n",
    "    pos += field"
   ]
  },
  {
   "cell_type": "code",
   "execution_count": null,
   "metadata": {
    "nbpresent": {
     "id": "8a2d3988-8dc4-443e-9e71-75e33809d53b"
    },
    "slideshow": {
     "slide_type": "slide"
    }
   },
   "outputs": [],
   "source": [
    "import pandas\n",
    "infile_obj = open(\"heathrowdata.txt\")\n",
    "for i in range(5):\n",
    "    next(infile_obj)\n",
    "\n",
    "\n",
    "df_lhr = pandas.read_fwf(infile_obj)\n",
    "print(df_lhr)\n"
   ]
  },
  {
   "cell_type": "code",
   "execution_count": null,
   "metadata": {
    "scrolled": true,
    "slideshow": {
     "slide_type": "slide"
    }
   },
   "outputs": [],
   "source": [
    "! pip install fixedwidth"
   ]
  },
  {
   "cell_type": "code",
   "execution_count": null,
   "metadata": {
    "slideshow": {
     "slide_type": "slide"
    }
   },
   "outputs": [],
   "source": [
    "from fixedwidth.fixedwidth import FixedWidth\n",
    "import fixedwidth.fixedwidth as fixed\n",
    "\n",
    "CONFIG = {\n",
    "    \"yyyy\": {\n",
    "        \"required\": True,\n",
    "        \"type\": \"integer\",\n",
    "        \"start_pos\": 1,\n",
    "        \"end_pos\": 7,\n",
    "        \"alignment\": \"left\",\n",
    "        \"padding\": \" \",\n",
    "    },\n",
    "    \"mm\": {\n",
    "        \"required\": True,\n",
    "        \"type\": \"integer\",\n",
    "        \"start_pos\": 8,\n",
    "        \"end_pos\": 11,\n",
    "        \"alignment\": \"left\",\n",
    "        \"padding\": \" \",\n",
    "    },\n",
    "    \"tmax\": {\n",
    "        \"required\": True,\n",
    "        \"type\": \"decimal\",\n",
    "        \"start_pos\": 12,\n",
    "        \"end_pos\": 18,\n",
    "        \"alignment\": \"left\",\n",
    "        \"padding\": \" \",\n",
    "    },\n",
    "    \"tmin\": {\n",
    "        \"required\": True,\n",
    "        \"type\": \"decimal\",\n",
    "        \"start_pos\": 19,\n",
    "        \"end_pos\": 26,\n",
    "        \"alignment\": \"left\",\n",
    "        \"padding\": \" \",\n",
    "    },\n",
    "    \"af\": {\n",
    "        \"required\": True,\n",
    "        \"type\": \"string\",\n",
    "        \"start_pos\": 27,\n",
    "        \"end_pos\": 34,\n",
    "        \"alignment\": \"left\",\n",
    "        \"padding\": \" \",\n",
    "    },\n",
    "    \"rain\": {\n",
    "        \"required\": True,\n",
    "        \"type\": \"decimal\",\n",
    "        \"start_pos\": 35,\n",
    "        \"end_pos\": 42,\n",
    "        \"alignment\": \"left\",\n",
    "        \"padding\": \" \",\n",
    "    },\n",
    "    \"sun\": {\n",
    "        \"required\": True,\n",
    "        \"type\": \"string\",\n",
    "        \"start_pos\": 43,\n",
    "        \"end_pos\": 51,\n",
    "        \"alignment\": \"left\",\n",
    "        \"padding\": \" \",\n",
    "    },\n",
    "}\n",
    "\n",
    "fw = FixedWidth(CONFIG)\n",
    "with open(\"heathrowdata.txt\") as LHR_input:\n",
    "    LHR = LHR_input.read()\n",
    "    lines= LHR.split(\"\\n\")[7:]\n",
    "    for line in lines:\n",
    "        if not line.strip():\n",
    "            continue\n",
    "        data = fw._string_to_dict(line)\n",
    "        fw.update( **data)\n",
    "        print(fw.data)"
   ]
  },
  {
   "cell_type": "code",
   "execution_count": null,
   "metadata": {},
   "outputs": [],
   "source": [
    "fw.data"
   ]
  },
  {
   "cell_type": "code",
   "execution_count": null,
   "metadata": {
    "slideshow": {
     "slide_type": "slide"
    }
   },
   "outputs": [],
   "source": [
    "fw.line"
   ]
  },
  {
   "cell_type": "code",
   "execution_count": null,
   "metadata": {
    "slideshow": {
     "slide_type": "slide"
    }
   },
   "outputs": [],
   "source": [
    "header_1"
   ]
  },
  {
   "cell_type": "markdown",
   "metadata": {
    "nbpresent": {
     "id": "191ab12e-9042-48dd-88b5-786615ea198d"
    },
    "slideshow": {
     "slide_type": "slide"
    }
   },
   "source": [
    "## Delimited (CSV) files\n",
    "\n",
    "* One of the most common flat file formats\n",
    "* comma, tab, pipe or other delimiting character\n",
    "* quoting used to include the delimiter in a field (or not)\n",
    "* https://docs.python.org/3/library/csv.html\n"
   ]
  },
  {
   "cell_type": "code",
   "execution_count": 6,
   "metadata": {
    "scrolled": true,
    "slideshow": {
     "slide_type": "slide"
    }
   },
   "outputs": [
    {
     "name": "stdout",
     "output_type": "stream",
     "text": [
      "\"Notes\",\"State\",\"State Code\",\"Month Day, Year\",\"Month Day, Year Code\",Avg Daily Max Air Temperature (F),Record Count for Daily Max Air Temp (F),Min Temp for Daily Max Air Temp (F),Max Temp for Daily Max Air Temp (F),Avg Daily Max Heat Index (F),Record Count for Daily Max Heat Index (F),Min for Daily Max Heat Index (F),Max for Daily Max Heat Index (F),Daily Max Heat Index (F) % Coverage\n",
      ",\"Illinois\",\"17\",\"Jan 01, 1979\",\"1979/01/01\",17.48,994,6.00,30.50,Missing,0,Missing,Missing,0.00%\n",
      ",\"Illinois\",\"17\",\"Jan 02, 1979\",\"1979/01/02\",4.64,994,-6.40,15.80,Missing,0,Missing,Missing,0.00%\n",
      ",\"Illinois\",\"17\",\"Jan 03, 1979\",\"1979/01/03\",11.05,994,-0.70,24.70,Missing,0,Missing,Missing,0.00%\n",
      ",\"Illinois\",\"17\",\"Jan 04, 1979\",\"1979/01/04\",9.51,994,0.20,27.60,Missing,0,Missing,Missing,0.00%\n",
      ",\"Illinois\",\"17\",\"May 15, 1979\",\"1979/05/15\",68.42,994,61.00,75.10,Missing,0,Missing,Missing,0.00%\n",
      ",\"Illinois\",\"17\",\"May 16, 1979\",\"1979/05/16\",70.29,994,63.40,73.50,Missing,0,Missing,Missing,0.00%\n",
      ",\"Illinois\",\"17\",\"May 17, 1979\",\"1979/05/17\",75.34,994,64.00,80.50,82.60,2,82.40,82.80,0.20%\n",
      ",\"Illinois\",\"17\",\"May 18, 1979\",\"1979/05/18\",79.13,994,75.50,82.10,81.42,349,80.20,83.40,35.11%\n",
      ",\"Illinois\",\"17\",\"May 19, 1979\",\"1979/05/19\",74.94,994,66.90,83.10,82.87,78,81.60,85.20,7.85%\n"
     ]
    }
   ],
   "source": [
    "lines = []\n",
    "with open(\"csv/temp_data_01.csv\") as input_file:\n",
    "    for row in input_file:\n",
    "        lines.append(row)\n",
    "        print(row.strip(\"\\n\"))"
   ]
  },
  {
   "cell_type": "markdown",
   "metadata": {
    "slideshow": {
     "slide_type": "slide"
    }
   },
   "source": [
    "### Don't re-implement the standard library\n",
    "* they've already done it\n",
    "* they've done it better\n"
   ]
  },
  {
   "cell_type": "code",
   "execution_count": null,
   "metadata": {
    "slideshow": {
     "slide_type": "slide"
    }
   },
   "outputs": [],
   "source": [
    "# NEVER, NEVER, NEVER do this!\n",
    "\n",
    "with open(\"csv/temp_data_01.csv\") as input_file:\n",
    "    records = [[field.strip('\"\\n') for field in row.split(\",\")] for row in input_file]\n",
    "        \n",
    "for record in records:\n",
    "    print(record)\n"
   ]
  },
  {
   "cell_type": "markdown",
   "metadata": {
    "slideshow": {
     "slide_type": "slide"
    }
   },
   "source": [
    "### Cleaning tricks - functions and decorators\n",
    "* move common cleaning routines to functions\n",
    "* even more common routines can be used a decorators\n"
   ]
  },
  {
   "cell_type": "code",
   "execution_count": null,
   "metadata": {
    "scrolled": true,
    "slideshow": {
     "slide_type": "slide"
    }
   },
   "outputs": [],
   "source": [
    "def strip_commas(func):\n",
    "    def wrapper(*params):\n",
    "        result = func(*params)\n",
    "        return result.replace(\",\", \"\")\n",
    "    return wrapper\n",
    "\n",
    "@strip_commas\n",
    "def normalize(field):\n",
    "    return field.replace(\"Missing\", \"\")\n",
    "\n",
    "import csv\n",
    "\n",
    "with open(\"csv/temp_data_01.csv\") as input_file:\n",
    "    records = [[normalize(x) for x in row] for row in csv.reader(input_file)]\n",
    "    \n",
    "for record in records:\n",
    "    print(record)\n"
   ]
  },
  {
   "cell_type": "markdown",
   "metadata": {
    "slideshow": {
     "slide_type": "slide"
    }
   },
   "source": [
    "### list comphrensions vs. generator expressions\n",
    "* list comprehensions are Pythonic ways to do filter and map operations\n",
    "* generator expressions are equivalent\n",
    "  * list comprehensions take more memory and are faster\n",
    "  * in the example above, for a large file, the outer expression might too memory intensive"
   ]
  },
  {
   "cell_type": "code",
   "execution_count": null,
   "metadata": {
    "scrolled": true,
    "slideshow": {
     "slide_type": "slide"
    }
   },
   "outputs": [],
   "source": [
    "# memory efficient version\n",
    "\n",
    "def strip_commas(func):\n",
    "    def wrapper(*params):\n",
    "        result = func(*params)\n",
    "        return result.replace(\",\", \"\")\n",
    "    return wrapper\n",
    "\n",
    "@strip_commas\n",
    "def normalize(field):\n",
    "    return field.replace(\"Missing\", \"\")\n",
    "\n",
    "import csv\n",
    "\n",
    "with open(\"csv/temp_data_01.csv\") as input_file:\n",
    "    # creates a generator object but does NOT read from file here\n",
    "    records_list = ([normalize(x) for x in row] for row in csv.reader(input_file))\n",
    "    \n",
    "    # print must now be in with block\n",
    "    for record in records_list:\n",
    "        print(record)\n"
   ]
  },
  {
   "cell_type": "markdown",
   "metadata": {
    "slideshow": {
     "slide_type": "slide"
    }
   },
   "source": [
    "### Other similar iterators\n",
    "* sort (in place) vs sorted (iterator)\n",
    "* reverse (in place) vs reversed (iterator)\n",
    "* itertools in standard library\n"
   ]
  },
  {
   "cell_type": "markdown",
   "metadata": {
    "slideshow": {
     "slide_type": "slide"
    }
   },
   "source": [
    "### Other delimiters\n",
    "* tab - `\\t`\n",
    "* pipe - `|`"
   ]
  },
  {
   "cell_type": "code",
   "execution_count": 7,
   "metadata": {
    "scrolled": true,
    "slideshow": {
     "slide_type": "slide"
    }
   },
   "outputs": [
    {
     "name": "stdout",
     "output_type": "stream",
     "text": [
      "\"Notes\"\t\"State\"\t\"State Code\"\t\"Month Day, Year\"\t\"Month Day, Year Code\"\tAvg Daily Max Air Temperature (F)\tRecord Count for Daily Max Air Temp (F)\tMin Temp for Daily Max Air Temp (F)\tMax Temp for Daily Max Air Temp (F)\tAvg Daily Min Air Temperature (F)\tRecord Count for Daily Min Air Temp (F)\tMin Temp for Daily Min Air Temp (F)\tMax Temp for Daily Min Air Temp (F)\tAvg Daily Max Heat Index (F)\tRecord Count for Daily Max Heat Index (F)\tMin for Daily Max Heat Index (F)\tMax for Daily Max Heat Index (F)\tDaily Max Heat Index (F) % Coverage\n",
      "\t\"Illinois\"\t\"17\"\t\"Jan 01, 1979\"\t\"1979/01/01\"\t17.48\t994\t6.00\t30.50\t2.89\t994\t-13.60\t15.80\tMissing\t0\tMissing\tMissing\t0.00%\n",
      "\t\"Illinois\"\t\"17\"\t\"Jan 02, 1979\"\t\"1979/01/02\"\t4.64\t994\t-6.40\t15.80\t-9.03\t994\t-23.60\t6.60\tMissing\t0\tMissing\tMissing\t0.00%\n",
      "\t\"Illinois\"\t\"17\"\t\"Jan 03, 1979\"\t\"1979/01/03\"\t11.05\t994\t-0.70\t24.70\t-2.17\t994\t-18.30\t12.90\tMissing\t0\tMissing\tMissing\t0.00%\n",
      "\t\"Illinois\"\t\"17\"\t\"Jan 04, 1979\"\t\"1979/01/04\"\t9.51\t994\t0.20\t27.60\t-0.43\t994\t-16.30\t16.30\tMissing\t0\tMissing\tMissing\t0.00%\n",
      "\t\"Illinois\"\t\"17\"\t\"May 15, 1979\"\t\"1979/05/15\"\t68.42\t994\t61.00\t75.10\t51.30\t994\t43.30\t57.00\tMissing\t0\tMissing\tMissing\t0.00%\n",
      "\t\"Illinois\"\t\"17\"\t\"May 16, 1979\"\t\"1979/05/16\"\t70.29\t994\t63.40\t73.50\t48.09\t994\t41.10\t53.00\tMissing\t0\tMissing\tMissing\t0.00%\n",
      "\t\"Illinois\"\t\"17\"\t\"May 17, 1979\"\t\"1979/05/17\"\t75.34\t994\t64.00\t80.50\t50.84\t994\t44.30\t55.70\t82.60\t2\t82.40\t82.80\t0.20%\n",
      "\t\"Illinois\"\t\"17\"\t\"May 18, 1979\"\t\"1979/05/18\"\t79.13\t994\t75.50\t82.10\t55.68\t994\t50.00\t61.10\t81.42\t349\t80.20\t83.40\t35.11%\n",
      "\t\"Illinois\"\t\"17\"\t\"May 19, 1979\"\t\"1979/05/19\"\t74.94\t994\t66.90\t83.10\t58.59\t994\t50.90\t63.20\t82.87\t78\t81.60\t85.20\t7.85%\n"
     ]
    }
   ],
   "source": [
    "# tab delimited, loaded as plain text\n",
    "\n",
    "with open(\"csv/temp_data_01.txt\") as input_file:\n",
    "    for row in input_file:\n",
    "        print(row.strip(\"\\n\"))"
   ]
  },
  {
   "cell_type": "code",
   "execution_count": null,
   "metadata": {
    "slideshow": {
     "slide_type": "slide"
    }
   },
   "outputs": [],
   "source": [
    "# tab delimited, loaded using csv module with tab delimiter\n",
    "\n",
    "import csv\n",
    "\n",
    "with open(\"csv/temp_data_01.txt\") as input_file:\n",
    "    records = [row for row in csv.reader(input_file, delimiter=\"\\t\")]\n",
    "    \n",
    "for record in records:\n",
    "    print(record)\n"
   ]
  },
  {
   "cell_type": "code",
   "execution_count": 8,
   "metadata": {
    "scrolled": true,
    "slideshow": {
     "slide_type": "slide"
    }
   },
   "outputs": [
    {
     "name": "stdout",
     "output_type": "stream",
     "text": [
      "\"Notes\"|\"State\"|\"State Code\"|\"Month Day, Year\"|\"Month Day, Year Code\"|Avg Daily Max Air Temperature (F)|Record Count for Daily Max Air Temp (F)|Min Temp for Daily Max Air Temp (F)|Max Temp for Daily Max Air Temp (F)|Avg Daily Min Air Temperature (F)|Record Count for Daily Min Air Temp (F)|Min Temp for Daily Min Air Temp (F)|Max Temp for Daily Min Air Temp (F)|Avg Daily Max Heat Index (F)|Record Count for Daily Max Heat Index (F)|Min for Daily Max Heat Index (F)|Max for Daily Max Heat Index (F)|Daily Max Heat Index (F) % Coverage\n",
      "|\"Illinois\"|\"17\"|\"Jan 01, 1979\"|\"1979/01/01\"|17.48|994|6.00|30.50|2.89|994|-13.60|15.80|Missing|0|Missing|Missing|0.00%\n",
      "|\"Illinois\"|\"17\"|\"Jan 02, 1979\"|\"1979/01/02\"|4.64|994|-6.40|15.80|-9.03|994|-23.60|6.60|Missing|0|Missing|Missing|0.00%\n",
      "|\"Illinois\"|\"17\"|\"Jan 03, 1979\"|\"1979/01/03\"|11.05|994|-0.70|24.70|-2.17|994|-18.30|12.90|Missing|0|Missing|Missing|0.00%\n",
      "|\"Illinois\"|\"17\"|\"Jan 04, 1979\"|\"1979/01/04\"|9.51|994|0.20|27.60|-0.43|994|-16.30|16.30|Missing|0|Missing|Missing|0.00%\n",
      "|\"Illinois\"|\"17\"|\"May 15, 1979\"|\"1979/05/15\"|68.42|994|61.00|75.10|51.30|994|43.30|57.00|Missing|0|Missing|Missing|0.00%\n",
      "|\"Illinois\"|\"17\"|\"May 16, 1979\"|\"1979/05/16\"|70.29|994|63.40|73.50|48.09|994|41.10|53.00|Missing|0|Missing|Missing|0.00%\n",
      "|\"Illinois\"|\"17\"|\"May 17, 1979\"|\"1979/05/17\"|75.34|994|64.00|80.50|50.84|994|44.30|55.70|82.60|2|82.40|82.80|0.20%\n",
      "|\"Illinois\"|\"17\"|\"May 18, 1979\"|\"1979/05/18\"|79.13|994|75.50|82.10|55.68|994|50.00|61.10|81.42|349|80.20|83.40|35.11%\n",
      "|\"Illinois\"|\"17\"|\"May 19, 1979\"|\"1979/05/19\"|74.94|994|66.90|83.10|58.59|994|50.90|63.20|82.87|78|81.60|85.20|7.85%\n"
     ]
    }
   ],
   "source": [
    "# pipe delimited, loaded as plain text\n",
    "\n",
    "with open(\"csv/temp_data_pipes_01.txt\") as input_file:\n",
    "    for row in input_file:\n",
    "        print(row.strip(\"\\n\"))"
   ]
  },
  {
   "cell_type": "code",
   "execution_count": null,
   "metadata": {
    "scrolled": true,
    "slideshow": {
     "slide_type": "slide"
    }
   },
   "outputs": [],
   "source": [
    "# pipe delimited, loaded  with csv module using pipe as delimiter\n",
    "\n",
    "import csv\n",
    "\n",
    "with open(\"csv/temp_data_pipes_01.txt\") as input_file:\n",
    "    records = [row for row in csv.reader(input_file, delimiter=\"|\")]\n",
    "    \n",
    "for record in records:\n",
    "    print(record)\n"
   ]
  },
  {
   "cell_type": "markdown",
   "metadata": {
    "slideshow": {
     "slide_type": "slide"
    }
   },
   "source": [
    "### Common data structures\n",
    "* lists of lists\n",
    "* lists of tuples\n",
    "* lists of dictionaries\n",
    "* named tuples\n",
    "* dataclasses (3.7 on)\n",
    "* pandas dataframes"
   ]
  },
  {
   "cell_type": "code",
   "execution_count": null,
   "metadata": {
    "nbpresent": {
     "id": "c42e83a7-df66-4d2d-a1df-c75e2c1f624e"
    },
    "slideshow": {
     "slide_type": "slide"
    }
   },
   "outputs": [],
   "source": [
    "print(\"lhr_lines:\", get_size(lhr_lines))\n",
    "print(\"lhr_list:\", get_size(lhr_list))\n",
    "print(\"lhr_tuple:\", get_size(lhr_tuple))\n",
    "print(\"lhr_dict:\", get_size(lhr_dict))\n",
    "print(\"df_lhr:\", get_size(df_lhr))\n",
    "df_lhr.memory_usage(deep=True).sum()\n"
   ]
  },
  {
   "cell_type": "code",
   "execution_count": null,
   "metadata": {
    "nbpresent": {
     "id": "b70999ef-371c-47f8-b617-dd5e4fd4b23f"
    },
    "slideshow": {
     "slide_type": "slide"
    }
   },
   "outputs": [],
   "source": [
    "import sys\n",
    "\n",
    "def get_size(obj, seen=None):\n",
    "    \"\"\"Recursively finds size of objects\"\"\"\n",
    "    size = sys.getsizeof(obj)\n",
    "    if seen is None:\n",
    "        seen = set()\n",
    "    obj_id = id(obj)\n",
    "    if obj_id in seen:\n",
    "        return 0\n",
    "    # Important mark as seen *before* entering recursion to gracefully handle\n",
    "    # self-referential objects\n",
    "    seen.add(obj_id)\n",
    "    if isinstance(obj, dict):\n",
    "        size += sum([get_size(v, seen) for v in obj.values()])\n",
    "        size += sum([get_size(k, seen) for k in obj.keys()])\n",
    "    elif hasattr(obj, \"__dict__\"):\n",
    "        size += get_size(obj.__dict__, seen)\n",
    "    elif hasattr(obj, \"__iter__\") and not isinstance(obj, (str, bytes, bytearray)):\n",
    "        size += sum([get_size(i, seen) for i in obj])\n",
    "    return size"
   ]
  },
  {
   "cell_type": "markdown",
   "metadata": {
    "slideshow": {
     "slide_type": "slide"
    }
   },
   "source": [
    "### Pandas and loading CSV files \n",
    "\n",
    "* Loads directly into a dataframe\n",
    "* Uses csv module under the hood\n",
    "* Can load with other delimters, but you must specify the delimiter"
   ]
  },
  {
   "cell_type": "code",
   "execution_count": null,
   "metadata": {
    "slideshow": {
     "slide_type": "slide"
    }
   },
   "outputs": [],
   "source": [
    "import pandas\n",
    "df = pandas.read_csv(\"csv/temp_data_01.csv\")\n",
    "#df = pandas.read_csv(\"csv/temp_data_pipes_01.txt\", delimiter=\"|\")\n",
    "df"
   ]
  },
  {
   "cell_type": "markdown",
   "metadata": {
    "slideshow": {
     "slide_type": "slide"
    }
   },
   "source": [
    "## JSON files\n",
    "\n",
    "* Structured\n",
    "* Allows nesting objects/types\n",
    "* Flexible - elements of a \"record\" can change"
   ]
  },
  {
   "cell_type": "markdown",
   "metadata": {
    "slideshow": {
     "slide_type": "slide"
    }
   },
   "source": [
    "### JSON vs SimpleJSON\n",
    "* simplejson was add to standard library as json in Python 2.6 (2008)\n",
    "* simplejson is more actively maintained has more features, e.g. decimal types"
   ]
  },
  {
   "cell_type": "code",
   "execution_count": 9,
   "metadata": {
    "slideshow": {
     "slide_type": "slide"
    }
   },
   "outputs": [
    {
     "name": "stdout",
     "output_type": "stream",
     "text": [
      "{\"coord\":{\"lon\":-0.13,\"lat\":51.51},\"weather\":[{\"id\":500,\"main\":\"Rain\",\"description\":\"light rain\",\"icon\":\"10n\"}],\"base\":\"stations\",\"main\":{\"temp\":285.15,\"pressure\":999,\"humidity\":71,\"temp_min\":284.15,\"temp_max\":286.15},\"visibility\":10000,\"wind\":{\"speed\":3.6,\"deg\":130},\"clouds\":{\"all\":76},\"dt\":1493587200,\"sys\":{\"type\":1,\"id\":5091,\"message\":0.0069,\"country\":\"GB\",\"sunrise\":1493526742,\"sunset\":1493580235},\"id\":2643743,\"name\":\"London\",\"cod\":200}\n"
     ]
    }
   ],
   "source": [
    "with open(\"json/london.json\") as input_file:\n",
    "    for row in input_file:\n",
    "        print(row.strip(\"\\n\"))"
   ]
  },
  {
   "cell_type": "code",
   "execution_count": null,
   "metadata": {
    "slideshow": {
     "slide_type": "slide"
    }
   },
   "outputs": [],
   "source": [
    "# if you'd prefer simplejson if available, but are okay failing back to json\n",
    "try:\n",
    "    import simplejson as json\n",
    "except:\n",
    "    import json\n",
    "\n",
    "with open(\"json/london.json\") as input_file:\n",
    "    data = json.load(input_file)\n",
    "    \n",
    "data"
   ]
  },
  {
   "cell_type": "markdown",
   "metadata": {
    "nbpresent": {
     "id": "a50f85b8-a51a-4555-802d-0d0822a59ad3"
    },
    "slideshow": {
     "slide_type": "slide"
    }
   },
   "source": [
    "### JSON file layouts\n",
    "* one giant object\n",
    "* array of objects\n",
    "* top level arrays subject to exploit, but still common"
   ]
  },
  {
   "cell_type": "markdown",
   "metadata": {
    "slideshow": {
     "slide_type": "slide"
    }
   },
   "source": [
    "### Common json functions\n",
    "* `json.loads(data_string)` - parses JSON string (or bytes or bytearrray) into dictionary\n",
    "* `json.load(file)` - reads JSON string from (text or binary) file and parses into dictionary\n",
    "* `json.dumps(a_dictionary)` - converts dictionary to serialized JSON **string**\n",
    "* `json.dump(a_dictionary, file)` - parses JSON **string** into dictionary\n"
   ]
  },
  {
   "cell_type": "markdown",
   "metadata": {
    "nbpresent": {
     "id": "a50f85b8-a51a-4555-802d-0d0822a59ad3"
    },
    "slideshow": {
     "slide_type": "slide"
    }
   },
   "source": [
    "### JSON file layouts\n",
    "* one giant object\n",
    "* array of objects\n",
    "* top level arrays subject to exploit, but still common"
   ]
  },
  {
   "cell_type": "code",
   "execution_count": 10,
   "metadata": {
    "scrolled": true,
    "slideshow": {
     "slide_type": "slide"
    }
   },
   "outputs": [
    {
     "name": "stdout",
     "output_type": "stream",
     "text": [
      "[{\"arrest\":false,\"beat\":\"2423\",\"block\":\"073XX N SHERIDAN RD\",\"case_number\":\"JA232364\",\"community_area\":\"1\",\"date\":\"2017-04-01T12:00:00.000\",\"description\":\"HARASSMENT BY TELEPHONE\",\"district\":\"024\",\"domestic\":false,\"fbi_code\":\"26\",\"id\":\"10919204\",\"iucr\":\"2825\",\"latitude\":\"42.014216031\",\"location\":{\"type\":\"Point\",\"coordinates\":[-87.664229,42.014216]},\"location_description\":\"RESIDENCE\",\"longitude\":\"-87.664229139\",\"primary_type\":\"OTHER OFFENSE\",\"updated_on\":\"2017-04-24T15:54:56.000\",\"ward\":\"49\",\"x_coordinate\":\"1166081\",\"y_coordinate\":\"1948481\",\"year\":\"2017\"}\n",
      ",{\"arrest\":false,\"beat\":\"1931\",\"block\":\"026XX N HERMITAGE AVE\",\"case_number\":\"JA231280\",\"community_area\":\"7\",\"date\":\"2017-04-01T12:00:00.000\",\"description\":\"CREDIT CARD FRAUD\",\"district\":\"019\",\"domestic\":false,\"fbi_code\":\"11\",\"id\":\"10917862\",\"iucr\":\"1150\",\"latitude\":\"41.92972613\",\"location\":{\"type\":\"Point\",\"coordinates\":[-87.672036,41.929726]},\"location_description\":\"RESIDENCE\",\"longitude\":\"-87.672036417\",\"primary_type\":\"DECEPTIVE PRACTICE\",\"updated_on\":\"2017-04-24T15:54:56.000\",\"ward\":\"32\",\"x_coordinate\":\"1164197\",\"y_coordinate\":\"1917676\",\"year\":\"2017\"}\n",
      ",{\"arrest\":false,\"beat\":\"0221\",\"block\":\"005XX E 46TH PL\",\"case_number\":\"JA228174\",\"community_area\":\"38\",\"date\":\"2017-04-01T12:00:00.000\",\"description\":\"TO PROPERTY\",\"district\":\"002\",\"domestic\":false,\"fbi_code\":\"14\",\"id\":\"10914611\",\"iucr\":\"1310\",\"latitude\":\"41.810349031\",\"location\":{\"type\":\"Point\",\"coordinates\":[-87.612812,41.810349]},\"location_description\":\"RESIDENCE PORCH/HALLWAY\",\"longitude\":\"-87.612811703\",\"primary_type\":\"CRIMINAL DAMAGE\",\"updated_on\":\"2017-04-20T15:55:54.000\",\"ward\":\"3\",\"x_coordinate\":\"1180678\",\"y_coordinate\":\"1874305\",\"year\":\"2017\"}\n",
      ",{\"arrest\":false,\"beat\":\"1922\",\"block\":\"036XX N HERMITAGE AVE\",\"case_number\":\"JA219932\",\"community_area\":\"6\",\"date\":\"2017-04-01T12:00:00.000\",\"description\":\"HARASSMENT BY ELECTRONIC MEANS\",\"district\":\"019\",\"domestic\":true,\"fbi_code\":\"26\",\"id\":\"10907403\",\"iucr\":\"2826\",\"latitude\":\"41.947914577\",\"location\":{\"type\":\"Point\",\"coordinates\":[-87.672473,41.947915]},\"location_description\":\"RESIDENCE\",\"longitude\":\"-87.672473385\",\"primary_type\":\"OTHER OFFENSE\",\"updated_on\":\"2017-04-13T15:51:25.000\",\"ward\":\"47\",\"x_coordinate\":\"1164027\",\"y_coordinate\":\"1924303\",\"year\":\"2017\"}\n",
      ",{\"arrest\":false,\"beat\":\"1731\",\"block\":\"042XX W MELROSE ST\",\"case_number\":\"JA219459\",\"community_area\":\"16\",\"date\":\"2017-04-01T12:00:00.000\",\"description\":\"CRIMINAL DEFACEMENT\",\"district\":\"017\",\"domestic\":false,\"fbi_code\":\"14\",\"id\":\"10906950\",\"iucr\":\"1305\",\"latitude\":\"41.939922572\",\"location\":{\"type\":\"Point\",\"coordinates\":[-87.73329,41.939923]},\"location_description\":\"APARTMENT\",\"longitude\":\"-87.733290271\",\"primary_type\":\"CRIMINAL DAMAGE\",\"updated_on\":\"2017-04-13T15:51:25.000\",\"ward\":\"30\",\"x_coordinate\":\"1147503\",\"y_coordinate\":\"1921269\",\"year\":\"2017\"}\n",
      ",{\"arrest\":false,\"beat\":\"0513\",\"block\":\"109XX S DOTY AVE E\",\"case_number\":\"JA208789\",\"community_area\":\"51\",\"date\":\"2017-04-01T12:00:00.000\",\"description\":\"FRAUD OR CONFIDENCE GAME\",\"district\":\"005\",\"domestic\":false,\"fbi_code\":\"11\",\"id\":\"10898273\",\"iucr\":\"1130\",\"latitude\":\"41.695908161\",\"location\":{\"type\":\"Point\",\"coordinates\":[-87.595823,41.695908]},\"location_description\":\"DEPARTMENT STORE\",\"longitude\":\"-87.595822806\",\"primary_type\":\"DECEPTIVE PRACTICE\",\"updated_on\":\"2017-04-12T15:49:36.000\",\"ward\":\"10\",\"x_coordinate\":\"1185667\",\"y_coordinate\":\"1832643\",\"year\":\"2017\"}\n",
      ",{\"arrest\":false,\"beat\":\"0223\",\"block\":\"048XX S LANGLEY AVE\",\"case_number\":\"JA216277\",\"community_area\":\"38\",\"date\":\"2017-04-01T12:00:00.000\",\"description\":\"FINANCIAL IDENTITY THEFT OVER $ 300\",\"district\":\"002\",\"domestic\":false,\"fbi_code\":\"11\",\"id\":\"10904439\",\"iucr\":\"1153\",\"latitude\":\"41.806853108\",\"location\":{\"type\":\"Point\",\"coordinates\":[-87.60893,41.806853]},\"location_description\":\"RESIDENCE\",\"longitude\":\"-87.608929892\",\"primary_type\":\"DECEPTIVE PRACTICE\",\"updated_on\":\"2017-04-10T15:48:51.000\",\"ward\":\"4\",\"x_coordinate\":\"1181747\",\"y_coordinate\":\"1873040\",\"year\":\"2017\"}\n",
      ",{\"arrest\":false,\"beat\":\"1135\",\"block\":\"028XX W FILLMORE ST\",\"case_number\":\"JA215686\",\"community_area\":\"29\",\"date\":\"2017-04-01T12:00:00.000\",\"description\":\"DOMESTIC BATTERY SIMPLE\",\"district\":\"011\",\"domestic\":true,\"fbi_code\":\"08B\",\"id\":\"10904101\",\"iucr\":\"0486\",\"latitude\":\"41.868314848\",\"location\":{\"type\":\"Point\",\"coordinates\":[-87.697661,41.868315]},\"location_description\":\"RESIDENCE\",\"longitude\":\"-87.69766106\",\"primary_type\":\"BATTERY\",\"updated_on\":\"2017-04-10T15:48:51.000\",\"ward\":\"28\",\"x_coordinate\":\"1157390\",\"y_coordinate\":\"1895245\",\"year\":\"2017\"}\n",
      ",{\"arrest\":false,\"beat\":\"0313\",\"block\":\"062XX S DR MARTIN LUTHER KING JR DR\",\"case_number\":\"JA214991\",\"community_area\":\"42\",\"date\":\"2017-04-01T12:00:00.000\",\"description\":\"FORCIBLE ENTRY\",\"district\":\"003\",\"domestic\":false,\"fbi_code\":\"05\",\"id\":\"10903299\",\"iucr\":\"0610\",\"latitude\":\"41.781560138\",\"location\":{\"type\":\"Point\",\"coordinates\":[-87.61566,41.78156]},\"location_description\":\"APARTMENT\",\"longitude\":\"-87.615660279\",\"primary_type\":\"BURGLARY\",\"updated_on\":\"2017-04-10T15:48:51.000\",\"ward\":\"20\",\"x_coordinate\":\"1179989\",\"y_coordinate\":\"1863808\",\"year\":\"2017\"}\n",
      ",{\"arrest\":false,\"beat\":\"0531\",\"block\":\"112XX S EDBROOKE AVE\",\"case_number\":\"JA214758\",\"community_area\":\"49\",\"date\":\"2017-04-01T12:00:00.000\",\"description\":\"HARASSMENT BY TELEPHONE\",\"district\":\"005\",\"domestic\":true,\"fbi_code\":\"26\",\"id\":\"10903245\",\"iucr\":\"2825\",\"latitude\":\"41.690045239\",\"location\":{\"type\":\"Point\",\"coordinates\":[-87.619563,41.690045]},\"location_description\":\"RESIDENCE\",\"longitude\":\"-87.619563452\",\"primary_type\":\"OTHER OFFENSE\",\"updated_on\":\"2017-04-10T15:48:51.000\",\"ward\":\"9\",\"x_coordinate\":\"1179201\",\"y_coordinate\":\"1830452\",\"year\":\"2017\"}\n",
      ",{\"arrest\":false,\"beat\":\"1622\",\"block\":\"045XX N MULLIGAN AVE\",\"case_number\":\"JA214489\",\"community_area\":\"15\",\"date\":\"2017-04-01T12:00:00.000\",\"description\":\"FINANCIAL IDENTITY THEFT OVER $ 300\",\"district\":\"016\",\"domestic\":false,\"fbi_code\":\"11\",\"id\":\"10902853\",\"iucr\":\"1153\",\"latitude\":\"41.963252328\",\"location\":{\"type\":\"Point\",\"coordinates\":[-87.785684,41.963252]},\"location_description\":\"RESIDENCE\",\"longitude\":\"-87.785683734\",\"primary_type\":\"DECEPTIVE PRACTICE\",\"updated_on\":\"2017-04-10T15:48:51.000\",\"ward\":\"38\",\"x_coordinate\":\"1133194\",\"y_coordinate\":\"1929675\",\"year\":\"2017\"}\n",
      ",{\"arrest\":false,\"beat\":\"1623\",\"block\":\"055XX N CENTRAL AVE\",\"case_number\":\"JA212116\",\"community_area\":\"11\",\"date\":\"2017-04-01T12:00:00.000\",\"description\":\"TO PROPERTY\",\"district\":\"016\",\"domestic\":false,\"fbi_code\":\"14\",\"id\":\"10900480\",\"iucr\":\"1310\",\"latitude\":\"41.982056768\",\"location\":{\"type\":\"Point\",\"coordinates\":[-87.768361,41.982057]},\"location_description\":\"APARTMENT\",\"longitude\":\"-87.768361301\",\"primary_type\":\"CRIMINAL DAMAGE\",\"updated_on\":\"2017-04-08T15:49:53.000\",\"ward\":\"45\",\"x_coordinate\":\"1137860\",\"y_coordinate\":\"1936558\",\"year\":\"2017\"}\n",
      ",{\"arrest\":false,\"beat\":\"1731\",\"block\":\"042XX W BELMONT AVE\",\"case_number\":\"JA211927\",\"community_area\":\"16\",\"date\":\"2017-04-01T12:00:00.000\",\"description\":\"RETAIL THEFT\",\"district\":\"017\",\"domestic\":false,\"fbi_code\":\"06\",\"id\":\"10900286\",\"iucr\":\"0860\",\"latitude\":\"41.939028144\",\"location\":{\"type\":\"Point\",\"coordinates\":[-87.732277,41.939028]},\"location_description\":\"DEPARTMENT STORE\",\"longitude\":\"-87.732276874\",\"primary_type\":\"THEFT\",\"updated_on\":\"2017-04-08T15:49:53.000\",\"ward\":\"31\",\"x_coordinate\":\"1147781\",\"y_coordinate\":\"1920945\",\"year\":\"2017\"}\n",
      ",{\"arrest\":false,\"beat\":\"0834\",\"block\":\"033XX W 83RD ST\",\"case_number\":\"JA211793\",\"community_area\":\"70\",\"date\":\"2017-04-01T12:00:00.000\",\"description\":\"FROM BUILDING\",\"district\":\"008\",\"domestic\":true,\"fbi_code\":\"06\",\"id\":\"10900146\",\"iucr\":\"0890\",\"latitude\":\"41.742429529\",\"location\":{\"type\":\"Point\",\"coordinates\":[-87.706225,41.74243]},\"location_description\":\"RESIDENCE\",\"longitude\":\"-87.706225362\",\"primary_type\":\"THEFT\",\"updated_on\":\"2017-04-08T15:49:53.000\",\"ward\":\"18\",\"x_coordinate\":\"1155392\",\"y_coordinate\":\"1849356\",\"year\":\"2017\"}\n",
      ",{\"arrest\":false,\"beat\":\"1833\",\"block\":\"009XX N RUSH ST\",\"case_number\":\"JA209781\",\"community_area\":\"8\",\"date\":\"2017-04-01T12:00:00.000\",\"description\":\"OVER $500\",\"district\":\"018\",\"domestic\":false,\"fbi_code\":\"06\",\"id\":\"10898460\",\"iucr\":\"0810\",\"location_description\":\"PARKING LOT/GARAGE(NON.RESID.)\",\"primary_type\":\"THEFT\",\"updated_on\":\"2017-04-08T15:49:53.000\",\"ward\":\"42\",\"year\":\"2017\"}\n",
      ",{\"arrest\":false,\"beat\":\"1924\",\"block\":\"035XX N WILTON AVE\",\"case_number\":\"JA209543\",\"community_area\":\"6\",\"date\":\"2017-04-01T12:00:00.000\",\"description\":\"OVER $500\",\"district\":\"019\",\"domestic\":false,\"fbi_code\":\"06\",\"id\":\"10898025\",\"iucr\":\"0810\",\"latitude\":\"41.946012066\",\"location\":{\"type\":\"Point\",\"coordinates\":[-87.653077,41.946012]},\"location_description\":\"ALLEY\",\"longitude\":\"-87.653077086\",\"primary_type\":\"THEFT\",\"updated_on\":\"2017-04-08T15:49:53.000\",\"ward\":\"44\",\"x_coordinate\":\"1169309\",\"y_coordinate\":\"1923651\",\"year\":\"2017\"}\n",
      ",{\"arrest\":false,\"beat\":\"0313\",\"block\":\"061XX S EVANS AVE\",\"case_number\":\"JA208537\",\"community_area\":\"42\",\"date\":\"2017-04-01T12:00:00.000\",\"description\":\"ATTEMPT FORCIBLE ENTRY\",\"district\":\"003\",\"domestic\":false,\"fbi_code\":\"05\",\"id\":\"10897383\",\"iucr\":\"0630\",\"latitude\":\"41.783447526\",\"location\":{\"type\":\"Point\",\"coordinates\":[-87.607254,41.783448]},\"location_description\":\"APARTMENT\",\"longitude\":\"-87.607253798\",\"primary_type\":\"BURGLARY\",\"updated_on\":\"2017-04-08T15:49:53.000\",\"ward\":\"20\",\"x_coordinate\":\"1182276\",\"y_coordinate\":\"1864515\",\"year\":\"2017\"}\n",
      ",{\"arrest\":false,\"beat\":\"0726\",\"block\":\"067XX S WOOD ST\",\"case_number\":\"JA208504\",\"community_area\":\"67\",\"date\":\"2017-04-01T12:00:00.000\",\"description\":\"TO PROPERTY\",\"district\":\"007\",\"domestic\":false,\"fbi_code\":\"14\",\"id\":\"10897307\",\"iucr\":\"1310\",\"latitude\":\"41.771361236\",\"location\":{\"type\":\"Point\",\"coordinates\":[-87.668852,41.771361]},\"location_description\":\"RESIDENCE\",\"longitude\":\"-87.668852241\",\"primary_type\":\"CRIMINAL DAMAGE\",\"updated_on\":\"2017-04-08T15:49:53.000\",\"ward\":\"15\",\"x_coordinate\":\"1165510\",\"y_coordinate\":\"1859975\",\"year\":\"2017\"}\n",
      ",{\"arrest\":false,\"beat\":\"1233\",\"block\":\"012XX S ASHLAND AVE\",\"case_number\":\"JA208560\",\"community_area\":\"28\",\"date\":\"2017-04-01T12:05:00.000\",\"description\":\"RETAIL THEFT\",\"district\":\"012\",\"domestic\":false,\"fbi_code\":\"06\",\"id\":\"10915596\",\"iucr\":\"0860\",\"location_description\":\"GROCERY FOOD STORE\",\"primary_type\":\"THEFT\",\"updated_on\":\"2017-04-18T15:59:10.000\",\"ward\":\"2\",\"year\":\"2017\"}\n",
      ",{\"arrest\":false,\"beat\":\"1731\",\"block\":\"032XX N KEATING AVE\",\"case_number\":\"JA213169\",\"community_area\":\"15\",\"date\":\"2017-04-01T12:05:00.000\",\"description\":\"FROM BUILDING\",\"district\":\"017\",\"domestic\":false,\"fbi_code\":\"06\",\"id\":\"10902251\",\"iucr\":\"0890\",\"latitude\":\"41.939622081\",\"location\":{\"type\":\"Point\",\"coordinates\":[-87.745224,41.939622]},\"location_description\":\"RESIDENTIAL YARD (FRONT/BACK)\",\"longitude\":\"-87.745223791\",\"primary_type\":\"THEFT\",\"updated_on\":\"2017-04-10T15:48:51.000\",\"ward\":\"30\",\"x_coordinate\":\"1144257\",\"y_coordinate\":\"1921137\",\"year\":\"2017\"}\n",
      ",{\"arrest\":false,\"beat\":\"1731\",\"block\":\"032XX N KEATING AVE\",\"case_number\":\"JA210926\",\"community_area\":\"15\",\"date\":\"2017-04-01T12:08:00.000\",\"description\":\"FROM BUILDING\",\"district\":\"017\",\"domestic\":false,\"fbi_code\":\"06\",\"id\":\"10899368\",\"iucr\":\"0890\",\"latitude\":\"41.939622081\",\"location\":{\"type\":\"Point\",\"coordinates\":[-87.745224,41.939622]},\"location_description\":\"RESIDENCE PORCH/HALLWAY\",\"longitude\":\"-87.745223791\",\"primary_type\":\"THEFT\",\"updated_on\":\"2017-04-08T15:49:53.000\",\"ward\":\"30\",\"x_coordinate\":\"1144257\",\"y_coordinate\":\"1921137\",\"year\":\"2017\"}\n",
      ",{\"arrest\":false,\"beat\":\"0931\",\"block\":\"047XX S ASHLAND AVE\",\"case_number\":\"JA208582\",\"community_area\":\"61\",\"date\":\"2017-04-01T12:13:00.000\",\"description\":\"ARMED: HANDGUN\",\"district\":\"009\",\"domestic\":false,\"fbi_code\":\"03\",\"id\":\"10897352\",\"iucr\":\"031A\",\"latitude\":\"41.807683941\",\"location\":{\"type\":\"Point\",\"coordinates\":[-87.664948,41.807684]},\"location_description\":\"PAWN SHOP\",\"longitude\":\"-87.664948453\",\"primary_type\":\"ROBBERY\",\"updated_on\":\"2017-04-08T15:49:53.000\",\"ward\":\"20\",\"x_coordinate\":\"1166472\",\"y_coordinate\":\"1873219\",\"year\":\"2017\"}\n",
      ",{\"arrest\":false,\"beat\":\"1821\",\"block\":\"012XX N LA SALLE DR\",\"case_number\":\"JA208663\",\"community_area\":\"8\",\"date\":\"2017-04-01T12:14:00.000\",\"description\":\"TELEPHONE THREAT\",\"district\":\"018\",\"domestic\":true,\"fbi_code\":\"26\",\"id\":\"10897377\",\"iucr\":\"2820\",\"latitude\":\"41.90434894\",\"location\":{\"type\":\"Point\",\"coordinates\":[-87.632937,41.904349]},\"location_description\":\"MEDICAL/DENTAL OFFICE\",\"longitude\":\"-87.632937036\",\"primary_type\":\"OTHER OFFENSE\",\"updated_on\":\"2017-04-08T15:49:53.000\",\"ward\":\"43\",\"x_coordinate\":\"1174912\",\"y_coordinate\":\"1908513\",\"year\":\"2017\"}\n",
      ",{\"arrest\":false,\"beat\":\"1623\",\"block\":\"053XX W AGATITE AVE\",\"case_number\":\"JA208853\",\"community_area\":\"15\",\"date\":\"2017-04-01T12:15:00.000\",\"description\":\"FORCIBLE ENTRY\",\"district\":\"016\",\"domestic\":false,\"fbi_code\":\"05\",\"id\":\"10898335\",\"iucr\":\"0610\",\"latitude\":\"41.961469552\",\"location\":{\"type\":\"Point\",\"coordinates\":[-87.761123,41.96147]},\"location_description\":\"RESIDENCE\",\"longitude\":\"-87.761123488\",\"primary_type\":\"BURGLARY\",\"updated_on\":\"2017-04-08T15:49:53.000\",\"ward\":\"45\",\"x_coordinate\":\"1139878\",\"y_coordinate\":\"1929069\",\"year\":\"2017\"}\n",
      ",{\"arrest\":false,\"beat\":\"0714\",\"block\":\"017XX W 62ND ST\",\"case_number\":\"JA208533\",\"community_area\":\"67\",\"date\":\"2017-04-01T12:15:00.000\",\"description\":\"TO PROPERTY\",\"district\":\"007\",\"domestic\":false,\"fbi_code\":\"14\",\"id\":\"10897271\",\"iucr\":\"1310\",\"latitude\":\"41.781255141\",\"location\":{\"type\":\"Point\",\"coordinates\":[-87.667082,41.781255]},\"location_description\":\"RESIDENCE\",\"longitude\":\"-87.667081872\",\"primary_type\":\"CRIMINAL DAMAGE\",\"updated_on\":\"2017-04-08T15:49:53.000\",\"ward\":\"15\",\"x_coordinate\":\"1165965\",\"y_coordinate\":\"1863584\",\"year\":\"2017\"}\n",
      ",{\"arrest\":false,\"beat\":\"1624\",\"block\":\"054XX W MONTROSE AVE\",\"case_number\":\"JA210420\",\"community_area\":\"15\",\"date\":\"2017-04-01T12:19:00.000\",\"description\":\"$500 AND UNDER\",\"district\":\"016\",\"domestic\":false,\"fbi_code\":\"06\",\"id\":\"10899643\",\"iucr\":\"0820\",\"latitude\":\"41.960530431\",\"location\":{\"type\":\"Point\",\"coordinates\":[-87.763209,41.96053]},\"location_description\":\"APARTMENT\",\"longitude\":\"-87.763209233\",\"primary_type\":\"THEFT\",\"updated_on\":\"2017-04-08T15:49:53.000\",\"ward\":\"38\",\"x_coordinate\":\"1139313\",\"y_coordinate\":\"1928723\",\"year\":\"2017\"}\n",
      ",{\"arrest\":false,\"beat\":\"1211\",\"block\":\"010XX N WASHTENAW AVE\",\"case_number\":\"JA208607\",\"community_area\":\"24\",\"date\":\"2017-04-01T12:25:00.000\",\"description\":\"DOMESTIC BATTERY SIMPLE\",\"district\":\"012\",\"domestic\":true,\"fbi_code\":\"08B\",\"id\":\"10897542\",\"iucr\":\"0486\",\"latitude\":\"41.900472778\",\"location\":{\"type\":\"Point\",\"coordinates\":[-87.694356,41.900473]},\"location_description\":\"RESIDENCE\",\"longitude\":\"-87.694355854\",\"primary_type\":\"BATTERY\",\"updated_on\":\"2017-04-08T15:49:53.000\",\"ward\":\"1\",\"x_coordinate\":\"1158203\",\"y_coordinate\":\"1906970\",\"year\":\"2017\"}\n",
      ",{\"arrest\":false,\"beat\":\"0631\",\"block\":\"080XX S EVANS AVE\",\"case_number\":\"JA208562\",\"community_area\":\"44\",\"date\":\"2017-04-01T12:25:00.000\",\"description\":\"ARMED: HANDGUN\",\"district\":\"006\",\"domestic\":false,\"fbi_code\":\"03\",\"id\":\"10897286\",\"iucr\":\"031A\",\"latitude\":\"41.748979176\",\"location\":{\"type\":\"Point\",\"coordinates\":[-87.606385,41.748979]},\"location_description\":\"STREET\",\"longitude\":\"-87.60638538\",\"primary_type\":\"ROBBERY\",\"updated_on\":\"2017-04-08T15:49:53.000\",\"ward\":\"6\",\"x_coordinate\":\"1182619\",\"y_coordinate\":\"1851957\",\"year\":\"2017\"}\n",
      ",{\"arrest\":false,\"beat\":\"2024\",\"block\":\"049XX N MARINE DR\",\"case_number\":\"JA208552\",\"community_area\":\"3\",\"date\":\"2017-04-01T12:27:00.000\",\"description\":\"OVER $500\",\"district\":\"020\",\"domestic\":false,\"fbi_code\":\"06\",\"id\":\"10897321\",\"iucr\":\"0810\",\"latitude\":\"41.972177117\",\"location\":{\"type\":\"Point\",\"coordinates\":[-87.650603,41.972177]},\"location_description\":\"STREET\",\"longitude\":\"-87.650603352\",\"primary_type\":\"THEFT\",\"updated_on\":\"2017-04-08T15:49:53.000\",\"ward\":\"48\",\"x_coordinate\":\"1169906\",\"y_coordinate\":\"1933191\",\"year\":\"2017\"}\n",
      ",{\"arrest\":false,\"beat\":\"0611\",\"block\":\"016XX W 79TH ST\",\"case_number\":\"JA208541\",\"community_area\":\"71\",\"date\":\"2017-04-01T12:28:00.000\",\"description\":\"AGG: HANDS/FIST/FEET SERIOUS INJURY\",\"district\":\"006\",\"domestic\":false,\"fbi_code\":\"04B\",\"id\":\"10897316\",\"iucr\":\"0479\",\"latitude\":\"41.750334057\",\"location\":{\"type\":\"Point\",\"coordinates\":[-87.665009,41.750334]},\"location_description\":\"SIDEWALK\",\"longitude\":\"-87.665008668\",\"primary_type\":\"BATTERY\",\"updated_on\":\"2017-04-18T15:57:31.000\",\"ward\":\"21\",\"x_coordinate\":\"1166618\",\"y_coordinate\":\"1852321\",\"year\":\"2017\"}\n",
      ",{\"arrest\":true,\"beat\":\"0511\",\"block\":\"096XX S CALUMET AVE\",\"case_number\":\"JA208618\",\"community_area\":\"49\",\"date\":\"2017-04-01T12:29:00.000\",\"description\":\"RECKLESS CONDUCT\",\"district\":\"005\",\"domestic\":false,\"fbi_code\":\"24\",\"id\":\"10897437\",\"iucr\":\"0470\",\"latitude\":\"41.719594238\",\"location\":{\"type\":\"Point\",\"coordinates\":[-87.615295,41.719594]},\"location_description\":\"STREET\",\"longitude\":\"-87.615295242\",\"primary_type\":\"PUBLIC PEACE VIOLATION\",\"updated_on\":\"2017-04-08T15:49:53.000\",\"ward\":\"6\",\"x_coordinate\":\"1180277\",\"y_coordinate\":\"1841229\",\"year\":\"2017\"}\n",
      ",{\"arrest\":false,\"beat\":\"0631\",\"block\":\"080XX S VERNON AVE\",\"case_number\":\"JA213199\",\"community_area\":\"44\",\"date\":\"2017-04-01T12:30:00.000\",\"description\":\"FORCIBLE ENTRY\",\"district\":\"006\",\"domestic\":false,\"fbi_code\":\"05\",\"id\":\"10901950\",\"iucr\":\"0610\",\"latitude\":\"41.748423846\",\"location\":{\"type\":\"Point\",\"coordinates\":[-87.61364,41.748424]},\"location_description\":\"APARTMENT\",\"longitude\":\"-87.613640166\",\"primary_type\":\"BURGLARY\",\"updated_on\":\"2017-04-10T15:48:51.000\",\"ward\":\"6\",\"x_coordinate\":\"1180641\",\"y_coordinate\":\"1851738\",\"year\":\"2017\"}\n",
      ",{\"arrest\":false,\"beat\":\"0612\",\"block\":\"012XX W 78TH PL\",\"case_number\":\"JA213341\",\"community_area\":\"71\",\"date\":\"2017-04-01T12:30:00.000\",\"description\":\"OVER $500\",\"district\":\"006\",\"domestic\":false,\"fbi_code\":\"06\",\"id\":\"10901940\",\"iucr\":\"0810\",\"latitude\":\"41.75139611\",\"location\":{\"type\":\"Point\",\"coordinates\":[-87.654245,41.751396]},\"location_description\":\"CHURCH/SYNAGOGUE/PLACE OF WORSHIP\",\"longitude\":\"-87.654245291\",\"primary_type\":\"THEFT\",\"updated_on\":\"2017-04-10T15:48:51.000\",\"ward\":\"17\",\"x_coordinate\":\"1169552\",\"y_coordinate\":\"1852731\",\"year\":\"2017\"}\n",
      ",{\"arrest\":false,\"beat\":\"1834\",\"block\":\"001XX E HURON ST\",\"case_number\":\"JA209597\",\"community_area\":\"8\",\"date\":\"2017-04-01T12:30:00.000\",\"description\":\"AUTOMOBILE\",\"district\":\"018\",\"domestic\":false,\"fbi_code\":\"07\",\"id\":\"10898137\",\"iucr\":\"0910\",\"latitude\":\"41.894929671\",\"location\":{\"type\":\"Point\",\"coordinates\":[-87.625158,41.89493]},\"location_description\":\"PARKING LOT/GARAGE(NON.RESID.)\",\"longitude\":\"-87.625157838\",\"primary_type\":\"MOTOR VEHICLE THEFT\",\"updated_on\":\"2017-04-08T15:49:53.000\",\"ward\":\"42\",\"x_coordinate\":\"1177058\",\"y_coordinate\":\"1905098\",\"year\":\"2017\"}\n",
      ",{\"arrest\":false,\"beat\":\"2011\",\"block\":\"058XX N ARTESIAN AVE\",\"case_number\":\"JA208903\",\"community_area\":\"2\",\"date\":\"2017-04-01T12:30:00.000\",\"description\":\"$500 AND UNDER\",\"district\":\"020\",\"domestic\":false,\"fbi_code\":\"06\",\"id\":\"10897493\",\"iucr\":\"0820\",\"latitude\":\"41.987592767\",\"location\":{\"type\":\"Point\",\"coordinates\":[-87.690797,41.987593]},\"location_description\":\"APARTMENT\",\"longitude\":\"-87.690796555\",\"primary_type\":\"THEFT\",\"updated_on\":\"2017-04-08T15:49:53.000\",\"ward\":\"40\",\"x_coordinate\":\"1158934\",\"y_coordinate\":\"1938724\",\"year\":\"2017\"}\n",
      ",{\"arrest\":false,\"beat\":\"1134\",\"block\":\"011XX S WHIPPLE ST\",\"case_number\":\"JA208592\",\"community_area\":\"29\",\"date\":\"2017-04-01T12:30:00.000\",\"description\":\"DOMESTIC BATTERY SIMPLE\",\"district\":\"011\",\"domestic\":true,\"fbi_code\":\"08B\",\"id\":\"10897340\",\"iucr\":\"0486\",\"latitude\":\"41.86763922\",\"location\":{\"type\":\"Point\",\"coordinates\":[-87.70204,41.867639]},\"location_description\":\"APARTMENT\",\"longitude\":\"-87.702040367\",\"primary_type\":\"BATTERY\",\"updated_on\":\"2017-04-08T15:49:53.000\",\"ward\":\"28\",\"x_coordinate\":\"1156199\",\"y_coordinate\":\"1894990\",\"year\":\"2017\"}\n",
      ",{\"arrest\":true,\"beat\":\"2413\",\"block\":\"063XX N TALMAN AVE\",\"case_number\":\"JA208561\",\"community_area\":\"2\",\"date\":\"2017-04-01T12:30:00.000\",\"description\":\"DOMESTIC BATTERY SIMPLE\",\"district\":\"024\",\"domestic\":true,\"fbi_code\":\"08B\",\"id\":\"10897325\",\"iucr\":\"0486\",\"latitude\":\"41.996658114\",\"location\":{\"type\":\"Point\",\"coordinates\":[-87.695948,41.996658]},\"location_description\":\"ALLEY\",\"longitude\":\"-87.695947643\",\"primary_type\":\"BATTERY\",\"updated_on\":\"2017-04-08T15:49:53.000\",\"ward\":\"50\",\"x_coordinate\":\"1157509\",\"y_coordinate\":\"1942017\",\"year\":\"2017\"}\n",
      ",{\"arrest\":false,\"beat\":\"0523\",\"block\":\"129XX S LOWE AVE\",\"case_number\":\"JA208595\",\"community_area\":\"53\",\"date\":\"2017-04-01T12:30:00.000\",\"description\":\"$500 AND UNDER\",\"district\":\"005\",\"domestic\":false,\"fbi_code\":\"06\",\"id\":\"10897318\",\"iucr\":\"0820\",\"latitude\":\"41.659115113\",\"location\":{\"type\":\"Point\",\"coordinates\":[-87.637683,41.659115]},\"location_description\":\"STREET\",\"longitude\":\"-87.637682973\",\"primary_type\":\"THEFT\",\"updated_on\":\"2017-04-08T15:49:53.000\",\"ward\":\"9\",\"x_coordinate\":\"1174343\",\"y_coordinate\":\"1819141\",\"year\":\"2017\"}\n",
      ",{\"arrest\":false,\"beat\":\"1935\",\"block\":\"027XX N CLARK ST\",\"case_number\":\"JA208600\",\"community_area\":\"7\",\"date\":\"2017-04-01T12:30:00.000\",\"description\":\"FROM BUILDING\",\"district\":\"019\",\"domestic\":false,\"fbi_code\":\"06\",\"id\":\"10897313\",\"iucr\":\"0890\",\"latitude\":\"41.932167184\",\"location\":{\"type\":\"Point\",\"coordinates\":[-87.644738,41.932167]},\"location_description\":\"BARBERSHOP\",\"longitude\":\"-87.644738471\",\"primary_type\":\"THEFT\",\"updated_on\":\"2017-04-08T15:49:53.000\",\"ward\":\"43\",\"x_coordinate\":\"1171618\",\"y_coordinate\":\"1918624\",\"year\":\"2017\"}\n",
      ",{\"arrest\":true,\"beat\":\"0212\",\"block\":\"001XX E PERSHING RD\",\"case_number\":\"JA208611\",\"community_area\":\"35\",\"date\":\"2017-04-01T12:40:00.000\",\"description\":\"SIMPLE\",\"district\":\"002\",\"domestic\":false,\"fbi_code\":\"08A\",\"id\":\"10897361\",\"iucr\":\"0560\",\"latitude\":\"41.823763369\",\"location\":{\"type\":\"Point\",\"coordinates\":[-87.622556,41.823763]},\"location_description\":\"SIDEWALK\",\"longitude\":\"-87.622556253\",\"primary_type\":\"ASSAULT\",\"updated_on\":\"2017-04-08T15:49:53.000\",\"ward\":\"3\",\"x_coordinate\":\"1177981\",\"y_coordinate\":\"1879171\",\"year\":\"2017\"}\n",
      ",{\"arrest\":false,\"beat\":\"1923\",\"block\":\"039XX N BROADWAY\",\"case_number\":\"JA208581\",\"community_area\":\"6\",\"date\":\"2017-04-01T12:40:00.000\",\"description\":\"SIMPLE\",\"district\":\"019\",\"domestic\":false,\"fbi_code\":\"08B\",\"id\":\"10897327\",\"iucr\":\"0460\",\"latitude\":\"41.952992259\",\"location\":{\"type\":\"Point\",\"coordinates\":[-87.649661,41.952992]},\"location_description\":\"RESTAURANT\",\"longitude\":\"-87.649661137\",\"primary_type\":\"BATTERY\",\"updated_on\":\"2017-04-08T15:49:53.000\",\"ward\":\"46\",\"x_coordinate\":\"1170218\",\"y_coordinate\":\"1926202\",\"year\":\"2017\"}\n",
      ",{\"arrest\":false,\"beat\":\"1834\",\"block\":\"0000X E OHIO ST\",\"case_number\":\"JA208814\",\"community_area\":\"8\",\"date\":\"2017-04-01T12:45:00.000\",\"description\":\"FROM BUILDING\",\"district\":\"018\",\"domestic\":false,\"fbi_code\":\"06\",\"id\":\"10897719\",\"iucr\":\"0890\",\"latitude\":\"41.892509386\",\"location\":{\"type\":\"Point\",\"coordinates\":[-87.62607,41.892509]},\"location_description\":\"RESTAURANT\",\"longitude\":\"-87.626069718\",\"primary_type\":\"THEFT\",\"updated_on\":\"2017-04-08T15:49:53.000\",\"ward\":\"42\",\"x_coordinate\":\"1176817\",\"y_coordinate\":\"1904214\",\"year\":\"2017\"}\n",
      ",{\"arrest\":false,\"beat\":\"1732\",\"block\":\"034XX W BYRON ST\",\"case_number\":\"JA208623\",\"community_area\":\"16\",\"date\":\"2017-04-01T12:45:00.000\",\"description\":\"OVER $500\",\"district\":\"017\",\"domestic\":false,\"fbi_code\":\"06\",\"id\":\"10897381\",\"iucr\":\"0810\",\"latitude\":\"41.952030568\",\"location\":{\"type\":\"Point\",\"coordinates\":[-87.713244,41.952031]},\"location_description\":\"STREET\",\"longitude\":\"-87.71324425\",\"primary_type\":\"THEFT\",\"updated_on\":\"2017-04-08T15:49:53.000\",\"ward\":\"35\",\"x_coordinate\":\"1152925\",\"y_coordinate\":\"1925720\",\"year\":\"2017\"}\n",
      ",{\"arrest\":false,\"beat\":\"2533\",\"block\":\"016XX N CICERO AVE\",\"case_number\":\"JA229757\",\"community_area\":\"25\",\"date\":\"2017-04-01T12:47:00.000\",\"description\":\"COUNTERFEIT CHECK\",\"district\":\"025\",\"domestic\":false,\"fbi_code\":\"10\",\"id\":\"10916347\",\"iucr\":\"1122\",\"latitude\":\"41.910117898\",\"location\":{\"type\":\"Point\",\"coordinates\":[-87.746105,41.910118]},\"location_description\":\"OTHER\",\"longitude\":\"-87.746104545\",\"primary_type\":\"DECEPTIVE PRACTICE\",\"updated_on\":\"2017-04-20T15:55:54.000\",\"ward\":\"37\",\"x_coordinate\":\"1144091\",\"y_coordinate\":\"1910384\",\"year\":\"2017\"}\n",
      ",{\"arrest\":false,\"beat\":\"1012\",\"block\":\"016XX S KOMENSKY AVE\",\"case_number\":\"JA208580\",\"community_area\":\"29\",\"date\":\"2017-04-01T12:48:00.000\",\"description\":\"TO VEHICLE\",\"district\":\"010\",\"domestic\":true,\"fbi_code\":\"14\",\"id\":\"10897391\",\"iucr\":\"1320\",\"latitude\":\"41.858279658\",\"location\":{\"type\":\"Point\",\"coordinates\":[-87.726165,41.85828]},\"location_description\":\"ALLEY\",\"longitude\":\"-87.726165454\",\"primary_type\":\"CRIMINAL DAMAGE\",\"updated_on\":\"2017-04-08T15:49:53.000\",\"ward\":\"24\",\"x_coordinate\":\"1149652\",\"y_coordinate\":\"1891532\",\"year\":\"2017\"}\n",
      ",{\"arrest\":true,\"beat\":\"0334\",\"block\":\"072XX S PHILLIPS AVE\",\"case_number\":\"JA208642\",\"community_area\":\"43\",\"date\":\"2017-04-01T12:50:00.000\",\"description\":\"UNLAWFUL POSS OF HANDGUN\",\"district\":\"003\",\"domestic\":false,\"fbi_code\":\"15\",\"id\":\"10897454\",\"iucr\":\"143A\",\"latitude\":\"41.763823209\",\"location\":{\"type\":\"Point\",\"coordinates\":[-87.565484,41.763823]},\"location_description\":\"RESIDENCE PORCH/HALLWAY\",\"longitude\":\"-87.565483757\",\"primary_type\":\"WEAPONS VIOLATION\",\"updated_on\":\"2017-04-08T15:49:53.000\",\"ward\":\"7\",\"x_coordinate\":\"1193732\",\"y_coordinate\":\"1857463\",\"year\":\"2017\"}\n",
      ",{\"arrest\":false,\"beat\":\"1611\",\"block\":\"063XX N NAGLE AVE\",\"case_number\":\"JA224255\",\"community_area\":\"10\",\"date\":\"2017-04-01T13:00:00.000\",\"description\":\"FINANCIAL IDENTITY THEFT OVER $ 300\",\"district\":\"016\",\"domestic\":false,\"fbi_code\":\"11\",\"id\":\"10911668\",\"iucr\":\"1153\",\"latitude\":\"41.996043193\",\"location\":{\"type\":\"Point\",\"coordinates\":[-87.787489,41.996043]},\"location_description\":\"ATM (AUTOMATIC TELLER MACHINE)\",\"longitude\":\"-87.787488548\",\"primary_type\":\"DECEPTIVE PRACTICE\",\"updated_on\":\"2017-04-17T16:05:36.000\",\"ward\":\"41\",\"x_coordinate\":\"1132627\",\"y_coordinate\":\"1941621\",\"year\":\"2017\"}\n",
      ",{\"arrest\":false,\"beat\":\"0114\",\"block\":\"003XX E WACKER DR\",\"case_number\":\"JA214948\",\"community_area\":\"32\",\"date\":\"2017-04-01T13:00:00.000\",\"description\":\"FROM BUILDING\",\"district\":\"001\",\"domestic\":false,\"fbi_code\":\"06\",\"id\":\"10903224\",\"iucr\":\"0890\",\"latitude\":\"41.887640628\",\"location\":{\"type\":\"Point\",\"coordinates\":[-87.61934,41.887641]},\"location_description\":\"HOTEL/MOTEL\",\"longitude\":\"-87.619340283\",\"primary_type\":\"THEFT\",\"updated_on\":\"2017-04-10T15:48:51.000\",\"ward\":\"42\",\"x_coordinate\":\"1178664\",\"y_coordinate\":\"1902455\",\"year\":\"2017\"}\n",
      ",{\"arrest\":false,\"beat\":\"0234\",\"block\":\"054XX S CORNELL AVE\",\"case_number\":\"JA210871\",\"community_area\":\"41\",\"date\":\"2017-04-01T13:00:00.000\",\"description\":\"TO PROPERTY\",\"district\":\"002\",\"domestic\":false,\"fbi_code\":\"14\",\"id\":\"10899259\",\"iucr\":\"1310\",\"latitude\":\"41.795653987\",\"location\":{\"type\":\"Point\",\"coordinates\":[-87.585421,41.795654]},\"location_description\":\"ATM (AUTOMATIC TELLER MACHINE)\",\"longitude\":\"-87.585420533\",\"primary_type\":\"CRIMINAL DAMAGE\",\"updated_on\":\"2017-04-08T15:49:53.000\",\"ward\":\"5\",\"x_coordinate\":\"1188192\",\"y_coordinate\":\"1869014\",\"year\":\"2017\"}\n",
      ",{\"arrest\":false,\"beat\":\"1524\",\"block\":\"007XX N PINE AVE\",\"case_number\":\"JA209250\",\"community_area\":\"25\",\"date\":\"2017-04-01T13:00:00.000\",\"description\":\"SIMPLE\",\"district\":\"015\",\"domestic\":false,\"fbi_code\":\"08A\",\"id\":\"10897810\",\"iucr\":\"0560\",\"latitude\":\"41.894011942\",\"location\":{\"type\":\"Point\",\"coordinates\":[-87.763533,41.894012]},\"location_description\":\"STREET\",\"longitude\":\"-87.763533068\",\"primary_type\":\"ASSAULT\",\"updated_on\":\"2017-04-08T15:49:53.000\",\"ward\":\"37\",\"x_coordinate\":\"1139386\",\"y_coordinate\":\"1904483\",\"year\":\"2017\"}\n",
      ",{\"arrest\":false,\"beat\":\"1834\",\"block\":\"002XX E HURON ST\",\"case_number\":\"JA208943\",\"community_area\":\"8\",\"date\":\"2017-04-01T13:00:00.000\",\"description\":\"OVER $500\",\"district\":\"018\",\"domestic\":false,\"fbi_code\":\"06\",\"id\":\"10897567\",\"iucr\":\"0810\",\"latitude\":\"41.894997208\",\"location\":{\"type\":\"Point\",\"coordinates\":[-87.621877,41.894997]},\"location_description\":\"PARKING LOT/GARAGE(NON.RESID.)\",\"longitude\":\"-87.621877156\",\"primary_type\":\"THEFT\",\"updated_on\":\"2017-04-08T15:49:53.000\",\"ward\":\"42\",\"x_coordinate\":\"1177951\",\"y_coordinate\":\"1905130\",\"year\":\"2017\"}\n",
      ",{\"arrest\":true,\"beat\":\"1021\",\"block\":\"013XX S HOMAN AVE\",\"case_number\":\"JA208666\",\"community_area\":\"29\",\"date\":\"2017-04-01T13:00:00.000\",\"description\":\"RESIST/OBSTRUCT/DISARM OFFICER\",\"district\":\"010\",\"domestic\":false,\"fbi_code\":\"24\",\"id\":\"10897429\",\"iucr\":\"3710\",\"latitude\":\"41.863406877\",\"location\":{\"type\":\"Point\",\"coordinates\":[-87.710456,41.863407]},\"location_description\":\"SIDEWALK\",\"longitude\":\"-87.710455868\",\"primary_type\":\"INTERFERENCE WITH PUBLIC OFFICER\",\"updated_on\":\"2017-04-08T15:49:53.000\",\"ward\":\"24\",\"x_coordinate\":\"1153918\",\"y_coordinate\":\"1893431\",\"year\":\"2017\"}\n",
      ",{\"arrest\":false,\"beat\":\"1115\",\"block\":\"0000X S PULASKI RD\",\"case_number\":\"JA208605\",\"community_area\":\"26\",\"date\":\"2017-04-01T13:00:00.000\",\"description\":\"SIMPLE\",\"district\":\"011\",\"domestic\":false,\"fbi_code\":\"08B\",\"id\":\"10897374\",\"iucr\":\"0460\",\"latitude\":\"41.880486258\",\"location\":{\"type\":\"Point\",\"coordinates\":[-87.725665,41.880486]},\"location_description\":\"PARKING LOT/GARAGE(NON.RESID.)\",\"longitude\":\"-87.725665179\",\"primary_type\":\"BATTERY\",\"updated_on\":\"2017-04-08T15:49:53.000\",\"ward\":\"28\",\"x_coordinate\":\"1149731\",\"y_coordinate\":\"1899625\",\"year\":\"2017\"}\n",
      ",{\"arrest\":false,\"beat\":\"2515\",\"block\":\"056XX W FULLERTON AVE\",\"case_number\":\"JA208645\",\"community_area\":\"19\",\"date\":\"2017-04-01T13:00:00.000\",\"description\":\"RETAIL THEFT\",\"district\":\"025\",\"domestic\":false,\"fbi_code\":\"06\",\"id\":\"10897354\",\"iucr\":\"0860\",\"latitude\":\"41.923955028\",\"location\":{\"type\":\"Point\",\"coordinates\":[-87.767562,41.923955]},\"location_description\":\"SMALL RETAIL STORE\",\"longitude\":\"-87.767562344\",\"primary_type\":\"THEFT\",\"updated_on\":\"2017-04-08T15:49:53.000\",\"ward\":\"30\",\"x_coordinate\":\"1138217\",\"y_coordinate\":\"1915387\",\"year\":\"2017\"}\n",
      ",{\"arrest\":true,\"beat\":\"0311\",\"block\":\"060XX S WABASH AVE\",\"case_number\":\"JA208691\",\"community_area\":\"40\",\"date\":\"2017-04-01T13:03:00.000\",\"description\":\"UNLAWFUL ENTRY\",\"district\":\"003\",\"domestic\":false,\"fbi_code\":\"05\",\"id\":\"10897465\",\"iucr\":\"0620\",\"latitude\":\"41.784563687\",\"location\":{\"type\":\"Point\",\"coordinates\":[-87.623822,41.784564]},\"location_description\":\"SCHOOL, PUBLIC, BUILDING\",\"longitude\":\"-87.6238217\",\"primary_type\":\"BURGLARY\",\"updated_on\":\"2017-04-08T15:49:53.000\",\"ward\":\"20\",\"x_coordinate\":\"1177754\",\"y_coordinate\":\"1864884\",\"year\":\"2017\"}\n",
      ",{\"arrest\":true,\"beat\":\"1822\",\"block\":\"012XX N LARRABEE ST\",\"case_number\":\"JA208609\",\"community_area\":\"8\",\"date\":\"2017-04-01T13:05:00.000\",\"description\":\"RETAIL THEFT\",\"district\":\"018\",\"domestic\":false,\"fbi_code\":\"06\",\"id\":\"10897436\",\"iucr\":\"0860\",\"latitude\":\"41.903996883\",\"location\":{\"type\":\"Point\",\"coordinates\":[-87.64323,41.903997]},\"location_description\":\"DEPARTMENT STORE\",\"longitude\":\"-87.643230238\",\"primary_type\":\"THEFT\",\"updated_on\":\"2017-04-08T15:49:53.000\",\"ward\":\"27\",\"x_coordinate\":\"1172111\",\"y_coordinate\":\"1908362\",\"year\":\"2017\"}\n",
      ",{\"arrest\":false,\"beat\":\"2424\",\"block\":\"070XX N DAMEN AVE\",\"case_number\":\"JA208598\",\"community_area\":\"1\",\"date\":\"2017-04-01T13:06:00.000\",\"description\":\"TELEPHONE THREAT\",\"district\":\"024\",\"domestic\":true,\"fbi_code\":\"26\",\"id\":\"10897330\",\"iucr\":\"2820\",\"latitude\":\"42.009598803\",\"location\":{\"type\":\"Point\",\"coordinates\":[-87.680166,42.009599]},\"location_description\":\"RESIDENCE\",\"longitude\":\"-87.680165742\",\"primary_type\":\"OTHER OFFENSE\",\"updated_on\":\"2017-04-08T15:49:53.000\",\"ward\":\"49\",\"x_coordinate\":\"1161763\",\"y_coordinate\":\"1946765\",\"year\":\"2017\"}\n",
      ",{\"arrest\":false,\"beat\":\"2431\",\"block\":\"014XX W MORSE AVE\",\"case_number\":\"JA208993\",\"community_area\":\"1\",\"date\":\"2017-04-01T13:09:00.000\",\"description\":\"TO VEHICLE\",\"district\":\"024\",\"domestic\":false,\"fbi_code\":\"14\",\"id\":\"10897660\",\"iucr\":\"1320\",\"latitude\":\"42.007893927\",\"location\":{\"type\":\"Point\",\"coordinates\":[-87.666672,42.007894]},\"location_description\":\"PARKING LOT/GARAGE(NON.RESID.)\",\"longitude\":\"-87.666672308\",\"primary_type\":\"CRIMINAL DAMAGE\",\"updated_on\":\"2017-04-08T15:49:53.000\",\"ward\":\"49\",\"x_coordinate\":\"1165435\",\"y_coordinate\":\"1946172\",\"year\":\"2017\"}\n",
      ",{\"arrest\":false,\"beat\":\"1424\",\"block\":\"022XX W DIVISION ST\",\"case_number\":\"JA210867\",\"community_area\":\"24\",\"date\":\"2017-04-01T13:10:00.000\",\"description\":\"SIMPLE\",\"district\":\"014\",\"domestic\":false,\"fbi_code\":\"08B\",\"id\":\"10899446\",\"iucr\":\"0460\",\"latitude\":\"41.903100708\",\"location\":{\"type\":\"Point\",\"coordinates\":[-87.682442,41.903101]},\"location_description\":\"STREET\",\"longitude\":\"-87.682442497\",\"primary_type\":\"BATTERY\",\"updated_on\":\"2017-04-08T15:49:53.000\",\"ward\":\"1\",\"x_coordinate\":\"1161439\",\"y_coordinate\":\"1907952\",\"year\":\"2017\"}\n",
      ",{\"arrest\":false,\"beat\":\"0513\",\"block\":\"108XX S DOTY AVE E\",\"case_number\":\"JA208714\",\"community_area\":\"51\",\"date\":\"2017-04-01T13:14:00.000\",\"description\":\"RETAIL THEFT\",\"district\":\"005\",\"domestic\":false,\"fbi_code\":\"06\",\"id\":\"10897457\",\"iucr\":\"0860\",\"latitude\":\"41.697431279\",\"location\":{\"type\":\"Point\",\"coordinates\":[-87.594971,41.697431]},\"location_description\":\"DEPARTMENT STORE\",\"longitude\":\"-87.594970543\",\"primary_type\":\"THEFT\",\"updated_on\":\"2017-04-08T15:49:53.000\",\"ward\":\"10\",\"x_coordinate\":\"1185895\",\"y_coordinate\":\"1833200\",\"year\":\"2017\"}\n",
      ",{\"arrest\":false,\"beat\":\"1614\",\"block\":\"085XX W WINONA ST\",\"case_number\":\"JA208629\",\"community_area\":\"76\",\"date\":\"2017-04-01T13:15:00.000\",\"description\":\"DOMESTIC BATTERY SIMPLE\",\"district\":\"016\",\"domestic\":true,\"fbi_code\":\"08B\",\"id\":\"10897553\",\"iucr\":\"0486\",\"latitude\":\"41.972367556\",\"location\":{\"type\":\"Point\",\"coordinates\":[-87.839288,41.972368]},\"location_description\":\"RESIDENTIAL YARD (FRONT/BACK)\",\"longitude\":\"-87.83928829\",\"primary_type\":\"BATTERY\",\"updated_on\":\"2017-04-08T15:49:53.000\",\"ward\":\"41\",\"x_coordinate\":\"1118596\",\"y_coordinate\":\"1932908\",\"year\":\"2017\"}\n",
      ",{\"arrest\":false,\"beat\":\"0431\",\"block\":\"024XX E 100TH ST\",\"case_number\":\"JA208861\",\"community_area\":\"51\",\"date\":\"2017-04-01T13:15:00.000\",\"description\":\"$500 AND UNDER\",\"district\":\"004\",\"domestic\":false,\"fbi_code\":\"06\",\"id\":\"10897545\",\"iucr\":\"0820\",\"latitude\":\"41.71351467\",\"location\":{\"type\":\"Point\",\"coordinates\":[-87.565493,41.713515]},\"location_description\":\"PARKING LOT/GARAGE(NON.RESID.)\",\"longitude\":\"-87.565493151\",\"primary_type\":\"THEFT\",\"updated_on\":\"2017-04-08T15:49:53.000\",\"ward\":\"7\",\"x_coordinate\":\"1193893\",\"y_coordinate\":\"1839131\",\"year\":\"2017\"}\n",
      ",{\"arrest\":false,\"beat\":\"0314\",\"block\":\"064XX S STONY ISLAND AVE\",\"case_number\":\"JA208640\",\"community_area\":\"42\",\"date\":\"2017-04-01T13:15:00.000\",\"description\":\"$500 AND UNDER\",\"district\":\"003\",\"domestic\":true,\"fbi_code\":\"06\",\"id\":\"10897357\",\"iucr\":\"0820\",\"latitude\":\"41.778047465\",\"location\":{\"type\":\"Point\",\"coordinates\":[-87.586388,41.778047]},\"location_description\":\"APARTMENT\",\"longitude\":\"-87.586387726\",\"primary_type\":\"THEFT\",\"updated_on\":\"2017-04-08T15:49:53.000\",\"ward\":\"5\",\"x_coordinate\":\"1187984\",\"y_coordinate\":\"1862596\",\"year\":\"2017\"}\n",
      ",{\"arrest\":true,\"beat\":\"2533\",\"block\":\"045XX W NORTH AVE\",\"case_number\":\"JA208637\",\"community_area\":\"23\",\"date\":\"2017-04-01T13:15:00.000\",\"description\":\"RETAIL THEFT\",\"district\":\"025\",\"domestic\":false,\"fbi_code\":\"06\",\"id\":\"10897351\",\"iucr\":\"0860\",\"latitude\":\"41.909690217\",\"location\":{\"type\":\"Point\",\"coordinates\":[-87.740844,41.90969]},\"location_description\":\"OTHER\",\"longitude\":\"-87.740843921\",\"primary_type\":\"THEFT\",\"updated_on\":\"2017-04-08T15:49:53.000\",\"ward\":\"37\",\"x_coordinate\":\"1145524\",\"y_coordinate\":\"1910238\",\"year\":\"2017\"}\n",
      ",{\"arrest\":false,\"beat\":\"1222\",\"block\":\"028XX W WALNUT ST\",\"case_number\":\"JA208610\",\"community_area\":\"27\",\"date\":\"2017-04-01T13:15:00.000\",\"description\":\"TELEPHONE THREAT\",\"district\":\"012\",\"domestic\":false,\"fbi_code\":\"26\",\"id\":\"10897349\",\"iucr\":\"2820\",\"latitude\":\"41.885502211\",\"location\":{\"type\":\"Point\",\"coordinates\":[-87.69719,41.885502]},\"location_description\":\"APARTMENT\",\"longitude\":\"-87.697189575\",\"primary_type\":\"OTHER OFFENSE\",\"updated_on\":\"2017-04-08T15:49:53.000\",\"ward\":\"2\",\"x_coordinate\":\"1157472\",\"y_coordinate\":\"1901509\",\"year\":\"2017\"}\n",
      ",{\"arrest\":false,\"beat\":\"2023\",\"block\":\"010XX W BALMORAL AVE\",\"case_number\":\"JA208641\",\"community_area\":\"77\",\"date\":\"2017-04-01T13:20:00.000\",\"description\":\"SIMPLE\",\"district\":\"020\",\"domestic\":false,\"fbi_code\":\"08B\",\"id\":\"10897402\",\"iucr\":\"0460\",\"latitude\":\"41.980039853\",\"location\":{\"type\":\"Point\",\"coordinates\":[-87.655801,41.98004]},\"location_description\":\"APARTMENT\",\"longitude\":\"-87.655800725\",\"primary_type\":\"BATTERY\",\"updated_on\":\"2017-04-08T15:49:53.000\",\"ward\":\"48\",\"x_coordinate\":\"1168470\",\"y_coordinate\":\"1936045\",\"year\":\"2017\"}\n",
      ",{\"arrest\":false,\"beat\":\"2424\",\"block\":\"073XX N SEELEY AVE\",\"case_number\":\"JA208673\",\"community_area\":\"1\",\"date\":\"2017-04-01T13:21:00.000\",\"description\":\"SIMPLE\",\"district\":\"024\",\"domestic\":false,\"fbi_code\":\"08B\",\"id\":\"10897968\",\"iucr\":\"0460\",\"latitude\":\"42.015411281\",\"location\":{\"type\":\"Point\",\"coordinates\":[-87.681667,42.015411]},\"location_description\":\"RESIDENCE-GARAGE\",\"longitude\":\"-87.681666533\",\"primary_type\":\"BATTERY\",\"updated_on\":\"2017-04-08T15:49:53.000\",\"ward\":\"49\",\"x_coordinate\":\"1161339\",\"y_coordinate\":\"1948880\",\"year\":\"2017\"}\n",
      ",{\"arrest\":false,\"beat\":\"0331\",\"block\":\"069XX S SOUTH SHORE DR\",\"case_number\":\"JA217131\",\"community_area\":\"43\",\"date\":\"2017-04-01T13:30:00.000\",\"description\":\"FRAUD OR CONFIDENCE GAME\",\"district\":\"003\",\"domestic\":false,\"fbi_code\":\"11\",\"id\":\"10905378\",\"iucr\":\"1130\",\"latitude\":\"41.76916785\",\"location\":{\"type\":\"Point\",\"coordinates\":[-87.566531,41.769168]},\"location_description\":\"RESIDENCE\",\"longitude\":\"-87.566530745\",\"primary_type\":\"DECEPTIVE PRACTICE\",\"updated_on\":\"2017-04-13T15:51:25.000\",\"ward\":\"5\",\"x_coordinate\":\"1193429\",\"y_coordinate\":\"1859408\",\"year\":\"2017\"}\n",
      ",{\"arrest\":false,\"beat\":\"1711\",\"block\":\"058XX N PULASKI RD\",\"case_number\":\"JA209527\",\"community_area\":\"13\",\"date\":\"2017-04-01T13:30:00.000\",\"description\":\"OTHER CRIME AGAINST PERSON\",\"district\":\"017\",\"domestic\":false,\"fbi_code\":\"26\",\"id\":\"10898037\",\"iucr\":\"5000\",\"latitude\":\"41.986066128\",\"location\":{\"type\":\"Point\",\"coordinates\":[-87.728521,41.986066]},\"location_description\":\"RESIDENCE\",\"longitude\":\"-87.728520584\",\"primary_type\":\"OTHER OFFENSE\",\"updated_on\":\"2017-04-08T15:49:53.000\",\"ward\":\"39\",\"x_coordinate\":\"1148682\",\"y_coordinate\":\"1938093\",\"year\":\"2017\"}\n",
      ",{\"arrest\":true,\"beat\":\"0821\",\"block\":\"049XX S KEDZIE AVE\",\"case_number\":\"JA208653\",\"community_area\":\"63\",\"date\":\"2017-04-01T13:30:00.000\",\"description\":\"RETAIL THEFT\",\"district\":\"008\",\"domestic\":false,\"fbi_code\":\"06\",\"id\":\"10897430\",\"iucr\":\"0860\",\"latitude\":\"41.803671998\",\"location\":{\"type\":\"Point\",\"coordinates\":[-87.703846,41.803672]},\"location_description\":\"SMALL RETAIL STORE\",\"longitude\":\"-87.703846021\",\"primary_type\":\"THEFT\",\"updated_on\":\"2017-04-08T15:49:53.000\",\"ward\":\"14\",\"x_coordinate\":\"1155878\",\"y_coordinate\":\"1871677\",\"year\":\"2017\"}\n",
      ",{\"arrest\":false,\"beat\":\"2022\",\"block\":\"058XX N KENMORE AVE\",\"case_number\":\"JA208705\",\"community_area\":\"77\",\"date\":\"2017-04-01T13:30:00.000\",\"description\":\"TO PROPERTY\",\"district\":\"020\",\"domestic\":false,\"fbi_code\":\"14\",\"id\":\"10897398\",\"iucr\":\"1310\",\"latitude\":\"41.988360427\",\"location\":{\"type\":\"Point\",\"coordinates\":[-87.656761,41.98836]},\"location_description\":\"APARTMENT\",\"longitude\":\"-87.656760817\",\"primary_type\":\"CRIMINAL DAMAGE\",\"updated_on\":\"2017-04-08T15:49:53.000\",\"ward\":\"48\",\"x_coordinate\":\"1168185\",\"y_coordinate\":\"1939075\",\"year\":\"2017\"}\n",
      ",{\"arrest\":false,\"beat\":\"0711\",\"block\":\"002XX W 63RD ST\",\"case_number\":\"JA208638\",\"community_area\":\"68\",\"date\":\"2017-04-01T13:30:00.000\",\"description\":\"$500 AND UNDER\",\"district\":\"007\",\"domestic\":false,\"fbi_code\":\"06\",\"id\":\"10897356\",\"iucr\":\"0820\",\"latitude\":\"41.779975054\",\"location\":{\"type\":\"Point\",\"coordinates\":[-87.630937,41.779975]},\"location_description\":\"CTA TRAIN\",\"longitude\":\"-87.630937377\",\"primary_type\":\"THEFT\",\"updated_on\":\"2017-04-08T15:49:53.000\",\"ward\":\"20\",\"x_coordinate\":\"1175827\",\"y_coordinate\":\"1863196\",\"year\":\"2017\"}\n",
      ",{\"arrest\":false,\"beat\":\"0913\",\"block\":\"030XX S ARCHER AVE\",\"case_number\":\"JA208648\",\"community_area\":\"59\",\"date\":\"2017-04-01T13:40:00.000\",\"description\":\"SIMPLE\",\"district\":\"009\",\"domestic\":false,\"fbi_code\":\"08B\",\"id\":\"10897384\",\"iucr\":\"0460\",\"latitude\":\"41.83833584\",\"location\":{\"type\":\"Point\",\"coordinates\":[-87.66467,41.838336]},\"location_description\":\"CTA BUS\",\"longitude\":\"-87.664669959\",\"primary_type\":\"BATTERY\",\"updated_on\":\"2017-04-08T15:49:53.000\",\"ward\":\"11\",\"x_coordinate\":\"1166461\",\"y_coordinate\":\"1884389\",\"year\":\"2017\"}\n",
      ",{\"arrest\":false,\"beat\":\"1422\",\"block\":\"016XX N DRAKE AVE\",\"case_number\":\"JA208675\",\"community_area\":\"23\",\"date\":\"2017-04-01T13:45:00.000\",\"description\":\"AGGRAVATED: HANDGUN\",\"district\":\"014\",\"domestic\":false,\"fbi_code\":\"04A\",\"id\":\"10897471\",\"iucr\":\"051A\",\"latitude\":\"41.910802344\",\"location\":{\"type\":\"Point\",\"coordinates\":[-87.714955,41.910802]},\"location_description\":\"PARK PROPERTY\",\"longitude\":\"-87.714955004\",\"primary_type\":\"ASSAULT\",\"updated_on\":\"2017-04-08T15:49:53.000\",\"ward\":\"26\",\"x_coordinate\":\"1152568\",\"y_coordinate\":\"1910693\",\"year\":\"2017\"}\n",
      ",{\"arrest\":false,\"beat\":\"0431\",\"block\":\"024XX E 100TH ST\",\"case_number\":\"JA208800\",\"community_area\":\"51\",\"date\":\"2017-04-01T13:45:00.000\",\"description\":\"$500 AND UNDER\",\"district\":\"004\",\"domestic\":false,\"fbi_code\":\"06\",\"id\":\"10897451\",\"iucr\":\"0820\",\"latitude\":\"41.71351467\",\"location\":{\"type\":\"Point\",\"coordinates\":[-87.565493,41.713515]},\"location_description\":\"PARKING LOT/GARAGE(NON.RESID.)\",\"longitude\":\"-87.565493151\",\"primary_type\":\"THEFT\",\"updated_on\":\"2017-04-08T15:49:53.000\",\"ward\":\"7\",\"x_coordinate\":\"1193893\",\"y_coordinate\":\"1839131\",\"year\":\"2017\"}\n",
      ",{\"arrest\":false,\"beat\":\"2532\",\"block\":\"055XX W NORTH AVE\",\"case_number\":\"JA208713\",\"community_area\":\"25\",\"date\":\"2017-04-01T13:47:00.000\",\"description\":\"ARMED: HANDGUN\",\"district\":\"025\",\"domestic\":false,\"fbi_code\":\"03\",\"id\":\"10897400\",\"iucr\":\"031A\",\"latitude\":\"41.909407737\",\"location\":{\"type\":\"Point\",\"coordinates\":[-87.763102,41.909408]},\"location_description\":\"STREET\",\"longitude\":\"-87.76310227\",\"primary_type\":\"ROBBERY\",\"updated_on\":\"2017-04-08T15:49:53.000\",\"ward\":\"37\",\"x_coordinate\":\"1139466\",\"y_coordinate\":\"1910094\",\"year\":\"2017\"}\n",
      ",{\"arrest\":true,\"beat\":\"1115\",\"block\":\"043XX W JACKSON BLVD\",\"case_number\":\"JA208639\",\"community_area\":\"26\",\"date\":\"2017-04-01T13:47:00.000\",\"description\":\"SIMPLE\",\"district\":\"011\",\"domestic\":false,\"fbi_code\":\"08B\",\"id\":\"10897364\",\"iucr\":\"0460\",\"latitude\":\"41.876982321\",\"location\":{\"type\":\"Point\",\"coordinates\":[-87.734111,41.876982]},\"location_description\":\"STREET\",\"longitude\":\"-87.734110736\",\"primary_type\":\"BATTERY\",\"updated_on\":\"2017-04-08T15:49:53.000\",\"ward\":\"28\",\"x_coordinate\":\"1147440\",\"y_coordinate\":\"1898332\",\"year\":\"2017\"}\n",
      ",{\"arrest\":false,\"beat\":\"0512\",\"block\":\"003XX W 106TH PL\",\"case_number\":\"JA208672\",\"community_area\":\"49\",\"date\":\"2017-04-01T13:50:00.000\",\"description\":\"AGGRAVATED: OTHER DANG WEAPON\",\"district\":\"005\",\"domestic\":false,\"fbi_code\":\"04B\",\"id\":\"10897355\",\"iucr\":\"0430\",\"latitude\":\"41.700682469\",\"location\":{\"type\":\"Point\",\"coordinates\":[-87.631629,41.700682]},\"location_description\":\"STREET\",\"longitude\":\"-87.63162884\",\"primary_type\":\"BATTERY\",\"updated_on\":\"2017-04-08T15:49:53.000\",\"ward\":\"34\",\"x_coordinate\":\"1175874\",\"y_coordinate\":\"1834301\",\"year\":\"2017\"}\n",
      ",{\"arrest\":false,\"beat\":\"0331\",\"block\":\"021XX E 69TH ST\",\"case_number\":\"JA225723\",\"community_area\":\"43\",\"date\":\"2017-04-01T14:00:00.000\",\"description\":\"BOGUS CHECK\",\"district\":\"003\",\"domestic\":false,\"fbi_code\":\"11\",\"id\":\"10912792\",\"iucr\":\"1110\",\"latitude\":\"41.769845631\",\"location\":{\"type\":\"Point\",\"coordinates\":[-87.5723,41.769846]},\"location_description\":\"APARTMENT\",\"longitude\":\"-87.572299952\",\"primary_type\":\"DECEPTIVE PRACTICE\",\"updated_on\":\"2017-04-17T16:05:36.000\",\"ward\":\"5\",\"x_coordinate\":\"1191853\",\"y_coordinate\":\"1859641\",\"year\":\"2017\"}\n",
      ",{\"arrest\":false,\"beat\":\"0433\",\"block\":\"111XX S AVENUE M\",\"case_number\":\"JA220277\",\"community_area\":\"52\",\"date\":\"2017-04-01T14:00:00.000\",\"description\":\"$500 AND UNDER\",\"district\":\"004\",\"domestic\":false,\"fbi_code\":\"06\",\"id\":\"10907659\",\"iucr\":\"0820\",\"latitude\":\"41.69302582\",\"location\":{\"type\":\"Point\",\"coordinates\":[-87.537694,41.693026]},\"location_description\":\"RESIDENCE\",\"longitude\":\"-87.537694075\",\"primary_type\":\"THEFT\",\"updated_on\":\"2017-04-13T15:51:25.000\",\"ward\":\"10\",\"x_coordinate\":\"1201552\",\"y_coordinate\":\"1831734\",\"year\":\"2017\"}\n",
      ",{\"arrest\":false,\"beat\":\"0832\",\"block\":\"024XX W LITHUANIAN PLAZA CT\",\"case_number\":\"JA217019\",\"community_area\":\"66\",\"date\":\"2017-04-01T14:00:00.000\",\"description\":\"FROM BUILDING\",\"district\":\"008\",\"domestic\":false,\"fbi_code\":\"06\",\"id\":\"10905105\",\"iucr\":\"0890\",\"latitude\":\"41.768324821\",\"location\":{\"type\":\"Point\",\"coordinates\":[-87.683997,41.768325]},\"location_description\":\"CLEANING STORE\",\"longitude\":\"-87.683997295\",\"primary_type\":\"THEFT\",\"updated_on\":\"2017-04-10T15:48:51.000\",\"ward\":\"17\",\"x_coordinate\":\"1161387\",\"y_coordinate\":\"1858837\",\"year\":\"2017\"}\n",
      ",{\"arrest\":false,\"beat\":\"0522\",\"block\":\"002XX W 119TH ST\",\"case_number\":\"JA215801\",\"community_area\":\"53\",\"date\":\"2017-04-01T14:00:00.000\",\"description\":\"$500 AND UNDER\",\"district\":\"005\",\"domestic\":false,\"fbi_code\":\"06\",\"id\":\"10904114\",\"iucr\":\"0820\",\"latitude\":\"41.677954683\",\"location\":{\"type\":\"Point\",\"coordinates\":[-87.629064,41.677955]},\"location_description\":\"APARTMENT\",\"longitude\":\"-87.629064468\",\"primary_type\":\"THEFT\",\"updated_on\":\"2017-04-10T15:48:51.000\",\"ward\":\"34\",\"x_coordinate\":\"1176642\",\"y_coordinate\":\"1826025\",\"year\":\"2017\"}\n",
      ",{\"arrest\":false,\"beat\":\"0213\",\"block\":\"041XX S PRAIRIE AVE\",\"case_number\":\"JA214640\",\"community_area\":\"38\",\"date\":\"2017-04-01T14:00:00.000\",\"description\":\"$500 AND UNDER\",\"district\":\"002\",\"domestic\":false,\"fbi_code\":\"06\",\"id\":\"10902915\",\"iucr\":\"0820\",\"latitude\":\"41.819613861\",\"location\":{\"type\":\"Point\",\"coordinates\":[-87.619873,41.819614]},\"location_description\":\"RESIDENCE\",\"longitude\":\"-87.619872682\",\"primary_type\":\"THEFT\",\"updated_on\":\"2017-04-10T15:48:51.000\",\"ward\":\"3\",\"x_coordinate\":\"1178725\",\"y_coordinate\":\"1877665\",\"year\":\"2017\"}\n",
      ",{\"arrest\":false,\"beat\":\"1232\",\"block\":\"010XX W 14TH ST\",\"case_number\":\"JA213717\",\"community_area\":\"28\",\"date\":\"2017-04-01T14:00:00.000\",\"description\":\"UNLAWFUL ENTRY\",\"district\":\"012\",\"domestic\":false,\"fbi_code\":\"05\",\"id\":\"10902147\",\"iucr\":\"0620\",\"latitude\":\"41.863452992\",\"location\":{\"type\":\"Point\",\"coordinates\":[-87.652811,41.863453]},\"location_description\":\"RESIDENCE\",\"longitude\":\"-87.652811198\",\"primary_type\":\"BURGLARY\",\"updated_on\":\"2017-04-10T15:48:51.000\",\"ward\":\"25\",\"x_coordinate\":\"1169620\",\"y_coordinate\":\"1893567\",\"year\":\"2017\"}\n",
      ",{\"arrest\":false,\"beat\":\"2424\",\"block\":\"073XX N ROGERS AVE\",\"case_number\":\"JA208681\",\"community_area\":\"1\",\"date\":\"2017-04-01T14:00:00.000\",\"description\":\"SIMPLE\",\"district\":\"024\",\"domestic\":false,\"fbi_code\":\"08A\",\"id\":\"10902764\",\"iucr\":\"0560\",\"location_description\":\"SIDEWALK\",\"primary_type\":\"ASSAULT\",\"updated_on\":\"2017-04-08T15:49:53.000\",\"ward\":\"49\",\"year\":\"2017\"}\n",
      ",{\"arrest\":false,\"beat\":\"2232\",\"block\":\"101XX S PARNELL AVE\",\"case_number\":\"JA211735\",\"community_area\":\"73\",\"date\":\"2017-04-01T14:00:00.000\",\"description\":\"AUTOMOBILE\",\"district\":\"022\",\"domestic\":false,\"fbi_code\":\"07\",\"id\":\"10900206\",\"iucr\":\"0910\",\"latitude\":\"41.709690847\",\"location\":{\"type\":\"Point\",\"coordinates\":[-87.636838,41.709691]},\"location_description\":\"RESIDENTIAL YARD (FRONT/BACK)\",\"longitude\":\"-87.636837658\",\"primary_type\":\"MOTOR VEHICLE THEFT\",\"updated_on\":\"2017-04-08T15:49:53.000\",\"ward\":\"9\",\"x_coordinate\":\"1174425\",\"y_coordinate\":\"1837572\",\"year\":\"2017\"}\n",
      ",{\"arrest\":false,\"beat\":\"1011\",\"block\":\"013XX S KEELER AVE\",\"case_number\":\"JA209193\",\"community_area\":\"29\",\"date\":\"2017-04-01T14:00:00.000\",\"description\":\"TO PROPERTY\",\"district\":\"010\",\"domestic\":false,\"fbi_code\":\"14\",\"id\":\"10899577\",\"iucr\":\"1310\",\"location_description\":\"APARTMENT\",\"primary_type\":\"CRIMINAL DAMAGE\",\"updated_on\":\"2017-04-08T15:49:53.000\",\"ward\":\"24\",\"year\":\"2017\"}\n",
      ",{\"arrest\":false,\"beat\":\"1221\",\"block\":\"007XX N KEDZIE AVE\",\"case_number\":\"JA210044\",\"community_area\":\"23\",\"date\":\"2017-04-01T14:00:00.000\",\"description\":\"STRONGARM - NO WEAPON\",\"district\":\"012\",\"domestic\":false,\"fbi_code\":\"03\",\"id\":\"10898385\",\"iucr\":\"0320\",\"latitude\":\"41.894387229\",\"location\":{\"type\":\"Point\",\"coordinates\":[-87.706519,41.894387]},\"location_description\":\"STREET\",\"longitude\":\"-87.706518759\",\"primary_type\":\"ROBBERY\",\"updated_on\":\"2017-04-08T15:49:53.000\",\"ward\":\"27\",\"x_coordinate\":\"1154908\",\"y_coordinate\":\"1904728\",\"year\":\"2017\"}\n",
      ",{\"arrest\":false,\"beat\":\"1022\",\"block\":\"013XX S KEDZIE AVE\",\"case_number\":\"JA209560\",\"community_area\":\"29\",\"date\":\"2017-04-01T14:00:00.000\",\"description\":\"$500 AND UNDER\",\"district\":\"010\",\"domestic\":false,\"fbi_code\":\"06\",\"id\":\"10898155\",\"iucr\":\"0820\",\"latitude\":\"41.864170798\",\"location\":{\"type\":\"Point\",\"coordinates\":[-87.705602,41.864171]},\"location_description\":\"STREET\",\"longitude\":\"-87.705602493\",\"primary_type\":\"THEFT\",\"updated_on\":\"2017-04-08T15:49:53.000\",\"ward\":\"24\",\"x_coordinate\":\"1155238\",\"y_coordinate\":\"1893719\",\"year\":\"2017\"}\n",
      ",{\"arrest\":false,\"beat\":\"0412\",\"block\":\"015XX E 84TH PL\",\"case_number\":\"JA209421\",\"community_area\":\"45\",\"date\":\"2017-04-01T14:00:00.000\",\"description\":\"OVER $500\",\"district\":\"004\",\"domestic\":false,\"fbi_code\":\"06\",\"id\":\"10897926\",\"iucr\":\"0810\",\"latitude\":\"41.741448507\",\"location\":{\"type\":\"Point\",\"coordinates\":[-87.587076,41.741449]},\"location_description\":\"STREET\",\"longitude\":\"-87.587075857\",\"primary_type\":\"THEFT\",\"updated_on\":\"2017-04-08T15:49:53.000\",\"ward\":\"8\",\"x_coordinate\":\"1187912\",\"y_coordinate\":\"1849258\",\"year\":\"2017\"}\n",
      ",{\"arrest\":false,\"beat\":\"2523\",\"block\":\"031XX N MILWAUKEE AVE\",\"case_number\":\"JA209243\",\"community_area\":\"21\",\"date\":\"2017-04-01T14:00:00.000\",\"description\":\"NON-AGGRAVATED\",\"district\":\"025\",\"domestic\":true,\"fbi_code\":\"02\",\"id\":\"10897836\",\"iucr\":\"0281\",\"latitude\":\"41.937604067\",\"location\":{\"type\":\"Point\",\"coordinates\":[-87.7214,41.937604]},\"location_description\":\"RESIDENCE\",\"longitude\":\"-87.721400058\",\"primary_type\":\"CRIM SEXUAL ASSAULT\",\"updated_on\":\"2017-04-08T15:49:53.000\",\"ward\":\"30\",\"x_coordinate\":\"1150744\",\"y_coordinate\":\"1920447\",\"year\":\"2017\"}\n",
      ",{\"arrest\":false,\"beat\":\"1922\",\"block\":\"036XX N SOUTHPORT AVE\",\"case_number\":\"JA208695\",\"community_area\":\"6\",\"date\":\"2017-04-01T14:00:00.000\",\"description\":\"AGGRAVATED:KNIFE/CUTTING INSTR\",\"district\":\"019\",\"domestic\":false,\"fbi_code\":\"04A\",\"id\":\"10897657\",\"iucr\":\"0520\",\"latitude\":\"41.947802576\",\"location\":{\"type\":\"Point\",\"coordinates\":[-87.664035,41.947803]},\"location_description\":\"SIDEWALK\",\"longitude\":\"-87.664034506\",\"primary_type\":\"ASSAULT\",\"updated_on\":\"2017-04-08T15:49:53.000\",\"ward\":\"44\",\"x_coordinate\":\"1166323\",\"y_coordinate\":\"1924280\",\"year\":\"2017\"}\n",
      ",{\"arrest\":false,\"beat\":\"1423\",\"block\":\"029XX W DIVISION ST\",\"case_number\":\"JA208728\",\"community_area\":\"24\",\"date\":\"2017-04-01T14:00:00.000\",\"description\":\"AGGRAVATED: HANDGUN\",\"district\":\"014\",\"domestic\":false,\"fbi_code\":\"04A\",\"id\":\"10897544\",\"iucr\":\"051A\",\"latitude\":\"41.902890962\",\"location\":{\"type\":\"Point\",\"coordinates\":[-87.700892,41.902891]},\"location_description\":\"SIDEWALK\",\"longitude\":\"-87.700892434\",\"primary_type\":\"ASSAULT\",\"updated_on\":\"2017-04-08T15:49:53.000\",\"ward\":\"26\",\"x_coordinate\":\"1156417\",\"y_coordinate\":\"1907838\",\"year\":\"2017\"}\n",
      ",{\"arrest\":false,\"beat\":\"0414\",\"block\":\"079XX S JEFFERY BLVD\",\"case_number\":\"JA208812\",\"community_area\":\"46\",\"date\":\"2017-04-01T14:00:00.000\",\"description\":\"TO PROPERTY\",\"district\":\"004\",\"domestic\":false,\"fbi_code\":\"14\",\"id\":\"10897456\",\"iucr\":\"1310\",\"latitude\":\"41.750780515\",\"location\":{\"type\":\"Point\",\"coordinates\":[-87.575963,41.750781]},\"location_description\":\"RESIDENCE\",\"longitude\":\"-87.575962679\",\"primary_type\":\"CRIMINAL DAMAGE\",\"updated_on\":\"2017-04-08T15:49:53.000\",\"ward\":\"8\",\"x_coordinate\":\"1190915\",\"y_coordinate\":\"1852685\",\"year\":\"2017\"}\n",
      ",{\"arrest\":true,\"beat\":\"1134\",\"block\":\"005XX S KEDZIE AVE\",\"case_number\":\"JA208685\",\"community_area\":\"27\",\"date\":\"2017-04-01T14:00:00.000\",\"description\":\"SIMPLE\",\"district\":\"011\",\"domestic\":false,\"fbi_code\":\"08B\",\"id\":\"10897417\",\"iucr\":\"0460\",\"latitude\":\"41.873999729\",\"location\":{\"type\":\"Point\",\"coordinates\":[-87.705925,41.874]},\"location_description\":\"SMALL RETAIL STORE\",\"longitude\":\"-87.705924904\",\"primary_type\":\"BATTERY\",\"updated_on\":\"2017-04-08T15:49:53.000\",\"ward\":\"28\",\"x_coordinate\":\"1155124\",\"y_coordinate\":\"1897300\",\"year\":\"2017\"}\n",
      ",{\"arrest\":false,\"beat\":\"0613\",\"block\":\"083XX S ABERDEEN ST\",\"case_number\":\"JA208697\",\"community_area\":\"71\",\"date\":\"2017-04-01T14:10:00.000\",\"description\":\"$500 AND UNDER\",\"district\":\"006\",\"domestic\":false,\"fbi_code\":\"06\",\"id\":\"10897956\",\"iucr\":\"0820\",\"latitude\":\"41.742590177\",\"location\":{\"type\":\"Point\",\"coordinates\":[-87.651095,41.74259]},\"location_description\":\"RESIDENTIAL YARD (FRONT/BACK)\",\"longitude\":\"-87.651095231\",\"primary_type\":\"THEFT\",\"updated_on\":\"2017-04-08T15:49:53.000\",\"ward\":\"21\",\"x_coordinate\":\"1170437\",\"y_coordinate\":\"1849529\",\"year\":\"2017\"}\n",
      ",{\"arrest\":false,\"beat\":\"0923\",\"block\":\"051XX S TALMAN AVE\",\"case_number\":\"JA208665\",\"community_area\":\"63\",\"date\":\"2017-04-01T14:10:00.000\",\"description\":\"$500 AND UNDER\",\"district\":\"009\",\"domestic\":false,\"fbi_code\":\"06\",\"id\":\"10897379\",\"iucr\":\"0820\",\"latitude\":\"41.800369801\",\"location\":{\"type\":\"Point\",\"coordinates\":[-87.690319,41.80037]},\"location_description\":\"STREET\",\"longitude\":\"-87.690319457\",\"primary_type\":\"THEFT\",\"updated_on\":\"2017-04-08T15:49:53.000\",\"ward\":\"14\",\"x_coordinate\":\"1159575\",\"y_coordinate\":\"1870501\",\"year\":\"2017\"}\n",
      ",{\"arrest\":false,\"beat\":\"0631\",\"block\":\"004XX E 82ND ST\",\"case_number\":\"JA214093\",\"community_area\":\"44\",\"date\":\"2017-04-01T14:15:00.000\",\"description\":\"FROM BUILDING\",\"district\":\"006\",\"domestic\":false,\"fbi_code\":\"06\",\"id\":\"10902346\",\"iucr\":\"0890\",\"latitude\":\"41.745645032\",\"location\":{\"type\":\"Point\",\"coordinates\":[-87.614265,41.745645]},\"location_description\":\"APARTMENT\",\"longitude\":\"-87.614264836\",\"primary_type\":\"THEFT\",\"updated_on\":\"2017-04-10T15:48:51.000\",\"ward\":\"6\",\"x_coordinate\":\"1180479\",\"y_coordinate\":\"1850724\",\"year\":\"2017\"}\n",
      ",{\"arrest\":false,\"beat\":\"1222\",\"block\":\"030XX W WASHINGTON BLVD\",\"case_number\":\"JA209041\",\"community_area\":\"27\",\"date\":\"2017-04-01T14:15:00.000\",\"description\":\"AUTOMOBILE\",\"district\":\"012\",\"domestic\":false,\"fbi_code\":\"07\",\"id\":\"10897669\",\"iucr\":\"0910\",\"latitude\":\"41.882835528\",\"location\":{\"type\":\"Point\",\"coordinates\":[-87.702295,41.882836]},\"location_description\":\"STREET\",\"longitude\":\"-87.702294749\",\"primary_type\":\"MOTOR VEHICLE THEFT\",\"updated_on\":\"2017-04-08T15:49:53.000\",\"ward\":\"2\",\"x_coordinate\":\"1156089\",\"y_coordinate\":\"1900527\",\"year\":\"2017\"}\n",
      ",{\"arrest\":false,\"beat\":\"1811\",\"block\":\"010XX W NORTH AVE\",\"case_number\":\"JA211317\",\"community_area\":\"7\",\"date\":\"2017-04-01T14:27:00.000\",\"description\":\"TO VEHICLE\",\"district\":\"018\",\"domestic\":false,\"fbi_code\":\"14\",\"id\":\"10899783\",\"iucr\":\"1320\",\"latitude\":\"41.910835515\",\"location\":{\"type\":\"Point\",\"coordinates\":[-87.653352,41.910836]},\"location_description\":\"PARKING LOT/GARAGE(NON.RESID.)\",\"longitude\":\"-87.653351515\",\"primary_type\":\"CRIMINAL DAMAGE\",\"updated_on\":\"2017-04-08T15:49:53.000\",\"ward\":\"32\",\"x_coordinate\":\"1169336\",\"y_coordinate\":\"1910832\",\"year\":\"2017\"}\n",
      ",{\"arrest\":true,\"beat\":\"2533\",\"block\":\"046XX W NORTH AVE\",\"case_number\":\"JA214984\",\"community_area\":\"25\",\"date\":\"2017-04-01T14:30:00.000\",\"description\":\"OVER $500\",\"district\":\"025\",\"domestic\":false,\"fbi_code\":\"06\",\"id\":\"10903324\",\"iucr\":\"0810\",\"latitude\":\"41.909664252\",\"location\":{\"type\":\"Point\",\"coordinates\":[-87.742729,41.909664]},\"location_description\":\"DEPARTMENT STORE\",\"longitude\":\"-87.742728815\",\"primary_type\":\"THEFT\",\"updated_on\":\"2017-04-10T15:48:51.000\",\"ward\":\"37\",\"x_coordinate\":\"1145011\",\"y_coordinate\":\"1910225\",\"year\":\"2017\"}\n",
      ",{\"arrest\":false,\"beat\":\"0831\",\"block\":\"027XX W 68TH ST\",\"case_number\":\"JA212013\",\"community_area\":\"66\",\"date\":\"2017-04-01T14:30:00.000\",\"description\":\"ILLEGAL USE CASH CARD\",\"district\":\"008\",\"domestic\":false,\"fbi_code\":\"11\",\"id\":\"10900416\",\"iucr\":\"1152\",\"latitude\":\"41.770020864\",\"location\":{\"type\":\"Point\",\"coordinates\":[-87.691334,41.770021]},\"location_description\":\"HOSPITAL BUILDING/GROUNDS\",\"longitude\":\"-87.6913338\",\"primary_type\":\"DECEPTIVE PRACTICE\",\"updated_on\":\"2017-04-08T15:49:53.000\",\"ward\":\"15\",\"x_coordinate\":\"1159381\",\"y_coordinate\":\"1859440\",\"year\":\"2017\"}\n",
      ",{\"arrest\":false,\"beat\":\"1814\",\"block\":\"022XX N STOCKTON DR\",\"case_number\":\"JA210761\",\"community_area\":\"7\",\"date\":\"2017-04-01T14:30:00.000\",\"description\":\"CREDIT CARD FRAUD\",\"district\":\"018\",\"domestic\":false,\"fbi_code\":\"11\",\"id\":\"10899286\",\"iucr\":\"1150\",\"latitude\":\"41.922450447\",\"location\":{\"type\":\"Point\",\"coordinates\":[-87.635738,41.92245]},\"location_description\":\"OTHER\",\"longitude\":\"-87.635737508\",\"primary_type\":\"DECEPTIVE PRACTICE\",\"updated_on\":\"2017-04-08T15:49:53.000\",\"ward\":\"43\",\"x_coordinate\":\"1174096\",\"y_coordinate\":\"1915103\",\"year\":\"2017\"}\n",
      ",{\"arrest\":false,\"beat\":\"1814\",\"block\":\"022XX N STOCKTON DR\",\"case_number\":\"JA210890\",\"community_area\":\"7\",\"date\":\"2017-04-01T14:30:00.000\",\"description\":\"OVER $500\",\"district\":\"018\",\"domestic\":false,\"fbi_code\":\"06\",\"id\":\"10899285\",\"iucr\":\"0810\",\"latitude\":\"41.922450447\",\"location\":{\"type\":\"Point\",\"coordinates\":[-87.635738,41.92245]},\"location_description\":\"OTHER\",\"longitude\":\"-87.635737508\",\"primary_type\":\"THEFT\",\"updated_on\":\"2017-04-08T15:49:53.000\",\"ward\":\"43\",\"x_coordinate\":\"1174096\",\"y_coordinate\":\"1915103\",\"year\":\"2017\"}\n",
      ",{\"arrest\":false,\"beat\":\"1814\",\"block\":\"022XX N STOCKTON DR\",\"case_number\":\"JA209680\",\"community_area\":\"7\",\"date\":\"2017-04-01T14:30:00.000\",\"description\":\"OVER $500\",\"district\":\"018\",\"domestic\":false,\"fbi_code\":\"06\",\"id\":\"10898180\",\"iucr\":\"0810\",\"latitude\":\"41.922450447\",\"location\":{\"type\":\"Point\",\"coordinates\":[-87.635738,41.92245]},\"location_description\":\"PARK PROPERTY\",\"longitude\":\"-87.635737508\",\"primary_type\":\"THEFT\",\"updated_on\":\"2017-04-08T15:49:53.000\",\"ward\":\"43\",\"x_coordinate\":\"1174096\",\"y_coordinate\":\"1915103\",\"year\":\"2017\"}\n",
      ",{\"arrest\":false,\"beat\":\"1622\",\"block\":\"045XX N NARRAGANSETT AVE\",\"case_number\":\"JA209322\",\"community_area\":\"15\",\"date\":\"2017-04-01T14:30:00.000\",\"description\":\"FORCIBLE ENTRY\",\"district\":\"016\",\"domestic\":false,\"fbi_code\":\"05\",\"id\":\"10897848\",\"iucr\":\"0610\",\"latitude\":\"41.962363392\",\"location\":{\"type\":\"Point\",\"coordinates\":[-87.786875,41.962363]},\"location_description\":\"RESIDENCE\",\"longitude\":\"-87.786875282\",\"primary_type\":\"BURGLARY\",\"updated_on\":\"2017-04-08T15:49:53.000\",\"ward\":\"38\",\"x_coordinate\":\"1132872\",\"y_coordinate\":\"1929349\",\"year\":\"2017\"}\n",
      ",{\"arrest\":false,\"beat\":\"1222\",\"block\":\"029XX W CARROLL AVE\",\"case_number\":\"JA208707\",\"community_area\":\"27\",\"date\":\"2017-04-01T14:30:00.000\",\"description\":\"SIMPLE\",\"district\":\"012\",\"domestic\":false,\"fbi_code\":\"08B\",\"id\":\"10897737\",\"iucr\":\"0460\",\"latitude\":\"41.887601549\",\"location\":{\"type\":\"Point\",\"coordinates\":[-87.69967,41.887602]},\"location_description\":\"SIDEWALK\",\"longitude\":\"-87.699669736\",\"primary_type\":\"BATTERY\",\"updated_on\":\"2017-04-08T15:49:53.000\",\"ward\":\"27\",\"x_coordinate\":\"1156791\",\"y_coordinate\":\"1902269\",\"year\":\"2017\"}\n",
      ",{\"arrest\":false,\"beat\":\"0225\",\"block\":\"051XX S MICHIGAN AVE\",\"case_number\":\"JA208709\",\"community_area\":\"40\",\"date\":\"2017-04-01T14:30:00.000\",\"description\":\"FROM BUILDING\",\"district\":\"002\",\"domestic\":false,\"fbi_code\":\"06\",\"id\":\"10897404\",\"iucr\":\"0890\",\"latitude\":\"41.801491341\",\"location\":{\"type\":\"Point\",\"coordinates\":[-87.622637,41.801491]},\"location_description\":\"OTHER\",\"longitude\":\"-87.622637403\",\"primary_type\":\"THEFT\",\"updated_on\":\"2017-04-08T15:49:53.000\",\"ward\":\"3\",\"x_coordinate\":\"1178026\",\"y_coordinate\":\"1871055\",\"year\":\"2017\"}\n",
      ",{\"arrest\":false,\"beat\":\"1422\",\"block\":\"034XX W BLOOMINGDALE AVE\",\"case_number\":\"JA208724\",\"community_area\":\"23\",\"date\":\"2017-04-01T14:40:00.000\",\"description\":\"ARMED: HANDGUN\",\"district\":\"014\",\"domestic\":false,\"fbi_code\":\"03\",\"id\":\"10897481\",\"iucr\":\"031A\",\"latitude\":\"41.913601754\",\"location\":{\"type\":\"Point\",\"coordinates\":[-87.712466,41.913602]},\"location_description\":\"SIDEWALK\",\"longitude\":\"-87.712466394\",\"primary_type\":\"ROBBERY\",\"updated_on\":\"2017-04-08T15:49:53.000\",\"ward\":\"26\",\"x_coordinate\":\"1153238\",\"y_coordinate\":\"1911718\",\"year\":\"2017\"}\n",
      ",{\"arrest\":false,\"beat\":\"1624\",\"block\":\"041XX N MARMORA AVE\",\"case_number\":\"JA221931\",\"community_area\":\"15\",\"date\":\"2017-04-01T14:45:00.000\",\"description\":\"TO RESIDENCE\",\"district\":\"016\",\"domestic\":false,\"fbi_code\":\"26\",\"id\":\"10909362\",\"iucr\":\"1365\",\"latitude\":\"41.955700842\",\"location\":{\"type\":\"Point\",\"coordinates\":[-87.774418,41.955701]},\"location_description\":\"RESIDENCE\",\"longitude\":\"-87.774417613\",\"primary_type\":\"CRIMINAL TRESPASS\",\"updated_on\":\"2017-04-17T16:05:36.000\",\"ward\":\"38\",\"x_coordinate\":\"1136276\",\"y_coordinate\":\"1926943\",\"year\":\"2017\"}\n",
      ",{\"arrest\":false,\"beat\":\"0331\",\"block\":\"068XX S CRANDON AVE\",\"case_number\":\"JA209553\",\"community_area\":\"43\",\"date\":\"2017-04-01T14:45:00.000\",\"description\":\"FORCIBLE ENTRY\",\"district\":\"003\",\"domestic\":false,\"fbi_code\":\"05\",\"id\":\"10898050\",\"iucr\":\"0610\",\"latitude\":\"41.770869828\",\"location\":{\"type\":\"Point\",\"coordinates\":[-87.569905,41.77087]},\"location_description\":\"RESIDENCE\",\"longitude\":\"-87.569905047\",\"primary_type\":\"BURGLARY\",\"updated_on\":\"2017-04-08T15:49:53.000\",\"ward\":\"5\",\"x_coordinate\":\"1192503\",\"y_coordinate\":\"1860020\",\"year\":\"2017\"}\n",
      ",{\"arrest\":true,\"beat\":\"1412\",\"block\":\"026XX N MILWAUKEE AVE\",\"case_number\":\"JA208769\",\"community_area\":\"22\",\"date\":\"2017-04-01T14:45:00.000\",\"description\":\"SIMPLE\",\"district\":\"014\",\"domestic\":false,\"fbi_code\":\"08A\",\"id\":\"10897439\",\"iucr\":\"0560\",\"latitude\":\"41.92938643\",\"location\":{\"type\":\"Point\",\"coordinates\":[-87.707892,41.929386]},\"location_description\":\"CTA STATION\",\"longitude\":\"-87.707892425\",\"primary_type\":\"ASSAULT\",\"updated_on\":\"2017-04-08T15:49:53.000\",\"ward\":\"35\",\"x_coordinate\":\"1154441\",\"y_coordinate\":\"1917479\",\"year\":\"2017\"}\n",
      ",{\"arrest\":false,\"beat\":\"2413\",\"block\":\"062XX N CALIFORNIA AVE\",\"case_number\":\"JA208747\",\"community_area\":\"2\",\"date\":\"2017-04-01T14:47:00.000\",\"description\":\"CREDIT CARD FRAUD\",\"district\":\"024\",\"domestic\":false,\"fbi_code\":\"11\",\"id\":\"10897443\",\"iucr\":\"1150\",\"latitude\":\"41.994608883\",\"location\":{\"type\":\"Point\",\"coordinates\":[-87.69954,41.994609]},\"location_description\":\"GROCERY FOOD STORE\",\"longitude\":\"-87.699540077\",\"primary_type\":\"DECEPTIVE PRACTICE\",\"updated_on\":\"2017-04-08T15:49:53.000\",\"ward\":\"50\",\"x_coordinate\":\"1156538\",\"y_coordinate\":\"1941263\",\"year\":\"2017\"}\n",
      ",{\"arrest\":false,\"beat\":\"0212\",\"block\":\"037XX S VINCENNES AVE\",\"case_number\":\"JA208738\",\"community_area\":\"36\",\"date\":\"2017-04-01T14:47:00.000\",\"description\":\"SIMPLE\",\"district\":\"002\",\"domestic\":false,\"fbi_code\":\"08B\",\"id\":\"10897440\",\"iucr\":\"0460\",\"latitude\":\"41.827161886\",\"location\":{\"type\":\"Point\",\"coordinates\":[-87.611732,41.827162]},\"location_description\":\"RESIDENCE PORCH/HALLWAY\",\"longitude\":\"-87.611731628\",\"primary_type\":\"BATTERY\",\"updated_on\":\"2017-04-08T15:49:53.000\",\"ward\":\"4\",\"x_coordinate\":\"1180921\",\"y_coordinate\":\"1880434\",\"year\":\"2017\"}\n",
      ",{\"arrest\":false,\"beat\":\"2232\",\"block\":\"012XX W 103RD ST\",\"case_number\":\"JA208791\",\"community_area\":\"73\",\"date\":\"2017-04-01T14:50:00.000\",\"description\":\"POCKET-PICKING\",\"district\":\"022\",\"domestic\":false,\"fbi_code\":\"06\",\"id\":\"10897467\",\"iucr\":\"0870\",\"latitude\":\"41.706818914\",\"location\":{\"type\":\"Point\",\"coordinates\":[-87.65403,41.706819]},\"location_description\":\"CTA BUS\",\"longitude\":\"-87.654029774\",\"primary_type\":\"THEFT\",\"updated_on\":\"2017-04-08T15:49:53.000\",\"ward\":\"21\",\"x_coordinate\":\"1169739\",\"y_coordinate\":\"1836488\",\"year\":\"2017\"}\n",
      ",{\"arrest\":false,\"beat\":\"1423\",\"block\":\"014XX N CALIFORNIA AVE\",\"case_number\":\"JA208727\",\"community_area\":\"24\",\"date\":\"2017-04-01T14:50:00.000\",\"description\":\"SIMPLE\",\"district\":\"014\",\"domestic\":false,\"fbi_code\":\"08A\",\"id\":\"10897432\",\"iucr\":\"0560\",\"latitude\":\"41.90703235\",\"location\":{\"type\":\"Point\",\"coordinates\":[-87.69698,41.907032]},\"location_description\":\"NURSING HOME/RETIREMENT HOME\",\"longitude\":\"-87.696979547\",\"primary_type\":\"ASSAULT\",\"updated_on\":\"2017-04-08T15:49:53.000\",\"ward\":\"26\",\"x_coordinate\":\"1157471\",\"y_coordinate\":\"1909355\",\"year\":\"2017\"}\n",
      ",{\"arrest\":false,\"beat\":\"1111\",\"block\":\"009XX N KEYSTONE AVE\",\"case_number\":\"JA208806\",\"community_area\":\"23\",\"date\":\"2017-04-01T14:55:00.000\",\"description\":\"ARMED: HANDGUN\",\"district\":\"011\",\"domestic\":false,\"fbi_code\":\"03\",\"id\":\"10897484\",\"iucr\":\"031A\",\"latitude\":\"41.897638613\",\"location\":{\"type\":\"Point\",\"coordinates\":[-87.72738,41.897639]},\"location_description\":\"ALLEY\",\"longitude\":\"-87.727379553\",\"primary_type\":\"ROBBERY\",\"updated_on\":\"2017-04-08T15:49:53.000\",\"ward\":\"37\",\"x_coordinate\":\"1149220\",\"y_coordinate\":\"1905872\",\"year\":\"2017\"}\n",
      ",{\"arrest\":false,\"beat\":\"1513\",\"block\":\"059XX W RAILROAD AVE\",\"case_number\":\"JA208770\",\"community_area\":\"25\",\"date\":\"2017-04-01T14:58:00.000\",\"description\":\"DOMESTIC BATTERY SIMPLE\",\"district\":\"015\",\"domestic\":true,\"fbi_code\":\"08B\",\"id\":\"10897423\",\"iucr\":\"0486\",\"latitude\":\"41.870303182\",\"location\":{\"type\":\"Point\",\"coordinates\":[-87.772772,41.870303]},\"location_description\":\"STREET\",\"longitude\":\"-87.772771981\",\"primary_type\":\"BATTERY\",\"updated_on\":\"2017-04-08T15:49:53.000\",\"ward\":\"29\",\"x_coordinate\":\"1136927\",\"y_coordinate\":\"1895827\",\"year\":\"2017\"}\n",
      ",{\"arrest\":false,\"beat\":\"0513\",\"block\":\"0000X E 110TH PL\",\"case_number\":\"JA211489\",\"community_area\":\"49\",\"date\":\"2017-04-01T15:00:00.000\",\"description\":\"THEFT/RECOVERY: AUTOMOBILE\",\"district\":\"005\",\"domestic\":false,\"fbi_code\":\"07\",\"id\":\"10899756\",\"iucr\":\"0930\",\"latitude\":\"41.693954\",\"location\":{\"type\":\"Point\",\"coordinates\":[-87.622354,41.693954]},\"location_description\":\"STREET\",\"longitude\":\"-87.622354222\",\"primary_type\":\"MOTOR VEHICLE THEFT\",\"updated_on\":\"2017-04-26T15:50:16.000\",\"ward\":\"9\",\"x_coordinate\":\"1178427\",\"y_coordinate\":\"1831870\",\"year\":\"2017\"}\n",
      ",{\"arrest\":false,\"beat\":\"1732\",\"block\":\"034XX W IRVING PARK RD\",\"case_number\":\"JA217249\",\"community_area\":\"16\",\"date\":\"2017-04-01T15:00:00.000\",\"description\":\"OVER $500\",\"district\":\"017\",\"domestic\":false,\"fbi_code\":\"06\",\"id\":\"10905227\",\"iucr\":\"0810\",\"latitude\":\"41.953852531\",\"location\":{\"type\":\"Point\",\"coordinates\":[-87.713208,41.953853]},\"location_description\":\"STREET\",\"longitude\":\"-87.713208208\",\"primary_type\":\"THEFT\",\"updated_on\":\"2017-04-10T15:48:51.000\",\"ward\":\"35\",\"x_coordinate\":\"1152930\",\"y_coordinate\":\"1926384\",\"year\":\"2017\"}\n",
      ",{\"arrest\":true,\"beat\":\"2211\",\"block\":\"113XX S SPAULDING AVE\",\"case_number\":\"JA210722\",\"community_area\":\"74\",\"date\":\"2017-04-01T15:00:00.000\",\"description\":\"SIMPLE\",\"district\":\"022\",\"domestic\":false,\"fbi_code\":\"08B\",\"id\":\"10899929\",\"iucr\":\"0460\",\"latitude\":\"41.687396966\",\"location\":{\"type\":\"Point\",\"coordinates\":[-87.703106,41.687397]},\"location_description\":\"SCHOOL, PUBLIC, GROUNDS\",\"longitude\":\"-87.7031063\",\"primary_type\":\"BATTERY\",\"updated_on\":\"2017-04-10T15:48:51.000\",\"ward\":\"19\",\"x_coordinate\":\"1156390\",\"y_coordinate\":\"1829309\",\"year\":\"2017\"}\n",
      ",{\"arrest\":false,\"beat\":\"0822\",\"block\":\"037XX W 56TH PL\",\"case_number\":\"JA210973\",\"community_area\":\"62\",\"date\":\"2017-04-01T15:00:00.000\",\"description\":\"HARASSMENT BY ELECTRONIC MEANS\",\"district\":\"008\",\"domestic\":false,\"fbi_code\":\"26\",\"id\":\"10899403\",\"iucr\":\"2826\",\"latitude\":\"41.790587137\",\"location\":{\"type\":\"Point\",\"coordinates\":[-87.716475,41.790587]},\"location_description\":\"RESIDENCE\",\"longitude\":\"-87.716474791\",\"primary_type\":\"OTHER OFFENSE\",\"updated_on\":\"2017-04-08T15:49:53.000\",\"ward\":\"14\",\"x_coordinate\":\"1152469\",\"y_coordinate\":\"1866884\",\"year\":\"2017\"}\n",
      ",{\"arrest\":false,\"beat\":\"2535\",\"block\":\"012XX N HARDING AVE\",\"case_number\":\"JA210051\",\"community_area\":\"23\",\"date\":\"2017-04-01T15:00:00.000\",\"description\":\"$500 AND UNDER\",\"district\":\"025\",\"domestic\":false,\"fbi_code\":\"06\",\"id\":\"10898380\",\"iucr\":\"0820\",\"latitude\":\"41.903249509\",\"location\":{\"type\":\"Point\",\"coordinates\":[-87.7251,41.90325]},\"location_description\":\"RESIDENTIAL YARD (FRONT/BACK)\",\"longitude\":\"-87.725100409\",\"primary_type\":\"THEFT\",\"updated_on\":\"2017-04-08T15:49:53.000\",\"ward\":\"27\",\"x_coordinate\":\"1149826\",\"y_coordinate\":\"1907921\",\"year\":\"2017\"}\n",
      ",{\"arrest\":false,\"beat\":\"0632\",\"block\":\"004XX E 88TH ST\",\"case_number\":\"JA209271\",\"community_area\":\"44\",\"date\":\"2017-04-01T15:00:00.000\",\"description\":\"TO PROPERTY\",\"district\":\"006\",\"domestic\":false,\"fbi_code\":\"14\",\"id\":\"10897857\",\"iucr\":\"1310\",\"latitude\":\"41.734687148\",\"location\":{\"type\":\"Point\",\"coordinates\":[-87.613848,41.734687]},\"location_description\":\"RESIDENCE\",\"longitude\":\"-87.613848497\",\"primary_type\":\"CRIMINAL DAMAGE\",\"updated_on\":\"2017-04-08T15:49:53.000\",\"ward\":\"6\",\"x_coordinate\":\"1180626\",\"y_coordinate\":\"1846732\",\"year\":\"2017\"}\n",
      ",{\"arrest\":false,\"beat\":\"0822\",\"block\":\"039XX W 58TH ST\",\"case_number\":\"JA209186\",\"community_area\":\"62\",\"date\":\"2017-04-01T15:00:00.000\",\"description\":\"FORCIBLE ENTRY\",\"district\":\"008\",\"domestic\":false,\"fbi_code\":\"05\",\"id\":\"10897798\",\"iucr\":\"0610\",\"latitude\":\"41.78778147\",\"location\":{\"type\":\"Point\",\"coordinates\":[-87.721419,41.787781]},\"location_description\":\"RESIDENCE\",\"longitude\":\"-87.721418895\",\"primary_type\":\"BURGLARY\",\"updated_on\":\"2017-04-08T15:49:53.000\",\"ward\":\"13\",\"x_coordinate\":\"1151128\",\"y_coordinate\":\"1865852\",\"year\":\"2017\"}\n",
      ",{\"arrest\":false,\"beat\":\"0112\",\"block\":\"0000X E WASHINGTON ST\",\"case_number\":\"JA209051\",\"community_area\":\"32\",\"date\":\"2017-04-01T15:00:00.000\",\"description\":\"UNLAWFUL ENTRY\",\"district\":\"001\",\"domestic\":false,\"fbi_code\":\"05\",\"id\":\"10897725\",\"iucr\":\"0620\",\"latitude\":\"41.883221363\",\"location\":{\"type\":\"Point\",\"coordinates\":[-87.625823,41.883221]},\"location_description\":\"RESIDENCE\",\"longitude\":\"-87.625823296\",\"primary_type\":\"BURGLARY\",\"updated_on\":\"2017-04-08T15:49:53.000\",\"ward\":\"42\",\"x_coordinate\":\"1176912\",\"y_coordinate\":\"1900830\",\"year\":\"2017\"}\n",
      ",{\"arrest\":false,\"beat\":\"1523\",\"block\":\"054XX W RACE AVE\",\"case_number\":\"JA209063\",\"community_area\":\"25\",\"date\":\"2017-04-01T15:00:00.000\",\"description\":\"HARASSMENT BY ELECTRONIC MEANS\",\"district\":\"015\",\"domestic\":false,\"fbi_code\":\"26\",\"id\":\"10897613\",\"iucr\":\"2826\",\"latitude\":\"41.889992789\",\"location\":{\"type\":\"Point\",\"coordinates\":[-87.762111,41.889993]},\"location_description\":\"RESIDENCE\",\"longitude\":\"-87.76211074\",\"primary_type\":\"OTHER OFFENSE\",\"updated_on\":\"2017-04-08T15:49:53.000\",\"ward\":\"37\",\"x_coordinate\":\"1139783\",\"y_coordinate\":\"1903021\",\"year\":\"2017\"}\n",
      ",{\"arrest\":false,\"beat\":\"1113\",\"block\":\"001XX N KILBOURN AVE\",\"case_number\":\"JA208744\",\"community_area\":\"26\",\"date\":\"2017-04-01T15:00:00.000\",\"description\":\"ARMED: HANDGUN\",\"district\":\"011\",\"domestic\":false,\"fbi_code\":\"03\",\"id\":\"10897552\",\"iucr\":\"031A\",\"latitude\":\"41.882375717\",\"location\":{\"type\":\"Point\",\"coordinates\":[-87.737986,41.882376]},\"location_description\":\"SIDEWALK\",\"longitude\":\"-87.737985956\",\"primary_type\":\"ROBBERY\",\"updated_on\":\"2017-04-08T15:49:53.000\",\"ward\":\"28\",\"x_coordinate\":\"1146371\",\"y_coordinate\":\"1900290\",\"year\":\"2017\"}\n",
      ",{\"arrest\":false,\"beat\":\"2233\",\"block\":\"105XX S EMERALD AVE\",\"case_number\":\"JA208924\",\"community_area\":\"49\",\"date\":\"2017-04-01T15:00:00.000\",\"description\":\"TELEPHONE THREAT\",\"district\":\"022\",\"domestic\":true,\"fbi_code\":\"26\",\"id\":\"10897494\",\"iucr\":\"2820\",\"latitude\":\"41.70272641\",\"location\":{\"type\":\"Point\",\"coordinates\":[-87.64149,41.702726]},\"location_description\":\"RESIDENCE\",\"longitude\":\"-87.641490294\",\"primary_type\":\"OTHER OFFENSE\",\"updated_on\":\"2017-04-08T15:49:53.000\",\"ward\":\"34\",\"x_coordinate\":\"1173175\",\"y_coordinate\":\"1835024\",\"year\":\"2017\"}\n",
      ",{\"arrest\":false,\"beat\":\"0924\",\"block\":\"045XX S JUSTINE ST\",\"case_number\":\"JA208802\",\"community_area\":\"61\",\"date\":\"2017-04-01T15:00:00.000\",\"description\":\"TO VEHICLE\",\"district\":\"009\",\"domestic\":false,\"fbi_code\":\"14\",\"id\":\"10897455\",\"iucr\":\"1320\",\"latitude\":\"41.811739011\",\"location\":{\"type\":\"Point\",\"coordinates\":[-87.663839,41.811739]},\"location_description\":\"APARTMENT\",\"longitude\":\"-87.663838857\",\"primary_type\":\"CRIMINAL DAMAGE\",\"updated_on\":\"2017-04-08T15:49:53.000\",\"ward\":\"3\",\"x_coordinate\":\"1166763\",\"y_coordinate\":\"1874699\",\"year\":\"2017\"}\n",
      ",{\"arrest\":false,\"beat\":\"1631\",\"block\":\"032XX N OSAGE AVE\",\"case_number\":\"JA208735\",\"community_area\":\"17\",\"date\":\"2017-04-01T15:05:00.000\",\"description\":\"$500 AND UNDER\",\"district\":\"016\",\"domestic\":false,\"fbi_code\":\"06\",\"id\":\"10897419\",\"iucr\":\"0820\",\"latitude\":\"41.938428243\",\"location\":{\"type\":\"Point\",\"coordinates\":[-87.825098,41.938428]},\"location_description\":\"RESIDENCE\",\"longitude\":\"-87.825098483\",\"primary_type\":\"THEFT\",\"updated_on\":\"2017-04-08T15:49:53.000\",\"ward\":\"36\",\"x_coordinate\":\"1122528\",\"y_coordinate\":\"1920563\",\"year\":\"2017\"}\n",
      ",{\"arrest\":false,\"beat\":\"0833\",\"block\":\"066XX S KARLOV AVE\",\"case_number\":\"JA208763\",\"community_area\":\"65\",\"date\":\"2017-04-01T15:15:00.000\",\"description\":\"TO VEHICLE\",\"district\":\"008\",\"domestic\":false,\"fbi_code\":\"14\",\"id\":\"10897450\",\"iucr\":\"1320\",\"latitude\":\"41.772366783\",\"location\":{\"type\":\"Point\",\"coordinates\":[-87.725041,41.772367]},\"location_description\":\"RESIDENCE\",\"longitude\":\"-87.725040739\",\"primary_type\":\"CRIMINAL DAMAGE\",\"updated_on\":\"2017-04-08T15:49:53.000\",\"ward\":\"13\",\"x_coordinate\":\"1150180\",\"y_coordinate\":\"1860228\",\"year\":\"2017\"}\n",
      ",{\"arrest\":true,\"beat\":\"0632\",\"block\":\"085XX S COTTAGE GROVE AVE\",\"case_number\":\"JA208777\",\"community_area\":\"44\",\"date\":\"2017-04-01T15:20:00.000\",\"description\":\"RETAIL THEFT\",\"district\":\"006\",\"domestic\":false,\"fbi_code\":\"06\",\"id\":\"10897512\",\"iucr\":\"0860\",\"latitude\":\"41.739265865\",\"location\":{\"type\":\"Point\",\"coordinates\":[-87.604894,41.739266]},\"location_description\":\"SMALL RETAIL STORE\",\"longitude\":\"-87.604893749\",\"primary_type\":\"THEFT\",\"updated_on\":\"2017-04-08T15:49:53.000\",\"ward\":\"6\",\"x_coordinate\":\"1183056\",\"y_coordinate\":\"1848421\",\"year\":\"2017\"}\n",
      ",{\"arrest\":true,\"beat\":\"0735\",\"block\":\"071XX S ASHLAND AVE\",\"case_number\":\"JA208794\",\"community_area\":\"67\",\"date\":\"2017-04-01T15:20:00.000\",\"description\":\"TO LAND\",\"district\":\"007\",\"domestic\":false,\"fbi_code\":\"26\",\"id\":\"10897441\",\"iucr\":\"1330\",\"latitude\":\"41.764682386\",\"location\":{\"type\":\"Point\",\"coordinates\":[-87.663786,41.764682]},\"location_description\":\"PARKING LOT/GARAGE(NON.RESID.)\",\"longitude\":\"-87.663785792\",\"primary_type\":\"CRIMINAL TRESPASS\",\"updated_on\":\"2017-04-08T15:49:53.000\",\"ward\":\"17\",\"x_coordinate\":\"1166911\",\"y_coordinate\":\"1857552\",\"year\":\"2017\"}\n",
      ",{\"arrest\":false,\"beat\":\"0913\",\"block\":\"030XX S HALSTED ST\",\"case_number\":\"JA208756\",\"community_area\":\"60\",\"date\":\"2017-04-01T15:20:00.000\",\"description\":\"RETAIL THEFT\",\"district\":\"009\",\"domestic\":false,\"fbi_code\":\"06\",\"id\":\"10897421\",\"iucr\":\"0860\",\"latitude\":\"41.839039747\",\"location\":{\"type\":\"Point\",\"coordinates\":[-87.646303,41.83904]},\"location_description\":\"SMALL RETAIL STORE\",\"longitude\":\"-87.646302917\",\"primary_type\":\"THEFT\",\"updated_on\":\"2017-04-08T15:49:53.000\",\"ward\":\"11\",\"x_coordinate\":\"1171464\",\"y_coordinate\":\"1884685\",\"year\":\"2017\"}\n",
      ",{\"arrest\":false,\"beat\":\"1022\",\"block\":\"032XX W DOUGLAS BLVD\",\"case_number\":\"JA208788\",\"community_area\":\"29\",\"date\":\"2017-04-01T15:22:00.000\",\"description\":\"SIMPLE\",\"district\":\"010\",\"domestic\":true,\"fbi_code\":\"08A\",\"id\":\"10897510\",\"iucr\":\"0560\",\"latitude\":\"41.862944606\",\"location\":{\"type\":\"Point\",\"coordinates\":[-87.7072,41.862945]},\"location_description\":\"RESIDENCE\",\"longitude\":\"-87.707200407\",\"primary_type\":\"ASSAULT\",\"updated_on\":\"2017-04-08T15:49:53.000\",\"ward\":\"24\",\"x_coordinate\":\"1154806\",\"y_coordinate\":\"1893269\",\"year\":\"2017\"}\n",
      ",{\"arrest\":false,\"beat\":\"2532\",\"block\":\"017XX N CENTRAL AVE\",\"case_number\":\"JA208780\",\"community_area\":\"25\",\"date\":\"2017-04-01T15:25:00.000\",\"description\":\"AGGRAVATED: HANDGUN\",\"district\":\"025\",\"domestic\":false,\"fbi_code\":\"04B\",\"id\":\"10897584\",\"iucr\":\"041A\",\"latitude\":\"41.912087541\",\"location\":{\"type\":\"Point\",\"coordinates\":[-87.765606,41.912088]},\"location_description\":\"STREET\",\"longitude\":\"-87.765606083\",\"primary_type\":\"BATTERY\",\"updated_on\":\"2017-04-08T15:49:53.000\",\"ward\":\"37\",\"x_coordinate\":\"1138778\",\"y_coordinate\":\"1911066\",\"year\":\"2017\"}\n",
      ",{\"arrest\":false,\"beat\":\"0321\",\"block\":\"066XX S COTTAGE GROVE AVE\",\"case_number\":\"JA209085\",\"community_area\":\"42\",\"date\":\"2017-04-01T15:30:00.000\",\"description\":\"STRONGARM - NO WEAPON\",\"district\":\"003\",\"domestic\":false,\"fbi_code\":\"03\",\"id\":\"10897769\",\"iucr\":\"0320\",\"latitude\":\"41.774319025\",\"location\":{\"type\":\"Point\",\"coordinates\":[-87.605795,41.774319]},\"location_description\":\"SIDEWALK\",\"longitude\":\"-87.605795029\",\"primary_type\":\"ROBBERY\",\"updated_on\":\"2017-04-08T15:49:53.000\",\"ward\":\"5\",\"x_coordinate\":\"1182702\",\"y_coordinate\":\"1861192\",\"year\":\"2017\"}\n",
      ",{\"arrest\":false,\"beat\":\"2232\",\"block\":\"100XX S NORMAL AVE\",\"case_number\":\"JA208782\",\"community_area\":\"73\",\"date\":\"2017-04-01T15:30:00.000\",\"description\":\"TO VEHICLE\",\"district\":\"022\",\"domestic\":true,\"fbi_code\":\"14\",\"id\":\"10897589\",\"iucr\":\"1320\",\"latitude\":\"41.711223292\",\"location\":{\"type\":\"Point\",\"coordinates\":[-87.635664,41.711223]},\"location_description\":\"STREET\",\"longitude\":\"-87.635663779\",\"primary_type\":\"CRIMINAL DAMAGE\",\"updated_on\":\"2017-04-08T15:49:53.000\",\"ward\":\"9\",\"x_coordinate\":\"1174741\",\"y_coordinate\":\"1838133\",\"year\":\"2017\"}\n",
      ",{\"arrest\":true,\"beat\":\"0524\",\"block\":\"012XX W 119TH ST\",\"case_number\":\"JA208815\",\"community_area\":\"53\",\"date\":\"2017-04-01T15:30:00.000\",\"description\":\"SIMPLE\",\"district\":\"005\",\"domestic\":false,\"fbi_code\":\"08B\",\"id\":\"10897480\",\"iucr\":\"0460\",\"latitude\":\"41.677661758\",\"location\":{\"type\":\"Point\",\"coordinates\":[-87.652872,41.677662]},\"location_description\":\"SIDEWALK\",\"longitude\":\"-87.652872258\",\"primary_type\":\"BATTERY\",\"updated_on\":\"2017-04-08T15:49:53.000\",\"ward\":\"34\",\"x_coordinate\":\"1170139\",\"y_coordinate\":\"1825866\",\"year\":\"2017\"}\n",
      ",{\"arrest\":true,\"beat\":\"2032\",\"block\":\"018XX W LAWRENCE AVE\",\"case_number\":\"JA208797\",\"community_area\":\"4\",\"date\":\"2017-04-01T15:30:00.000\",\"description\":\"RETAIL THEFT\",\"district\":\"020\",\"domestic\":false,\"fbi_code\":\"06\",\"id\":\"10897463\",\"iucr\":\"0860\",\"latitude\":\"41.968815819\",\"location\":{\"type\":\"Point\",\"coordinates\":[-87.674618,41.968816]},\"location_description\":\"GROCERY FOOD STORE\",\"longitude\":\"-87.674618145\",\"primary_type\":\"THEFT\",\"updated_on\":\"2017-04-08T15:49:53.000\",\"ward\":\"47\",\"x_coordinate\":\"1163385\",\"y_coordinate\":\"1931915\",\"year\":\"2017\"}\n",
      ",{\"arrest\":false,\"beat\":\"0112\",\"block\":\"0000X E MONROE ST\",\"case_number\":\"JA208857\",\"community_area\":\"32\",\"date\":\"2017-04-01T15:30:00.000\",\"description\":\"FROM BUILDING\",\"district\":\"001\",\"domestic\":false,\"fbi_code\":\"06\",\"id\":\"10897452\",\"iucr\":\"0890\",\"latitude\":\"41.880775433\",\"location\":{\"type\":\"Point\",\"coordinates\":[-87.627029,41.880775]},\"location_description\":\"RESTAURANT\",\"longitude\":\"-87.627029031\",\"primary_type\":\"THEFT\",\"updated_on\":\"2017-04-08T15:49:53.000\",\"ward\":\"42\",\"x_coordinate\":\"1176591\",\"y_coordinate\":\"1899936\",\"year\":\"2017\"}\n",
      ",{\"arrest\":false,\"beat\":\"0822\",\"block\":\"052XX S HOMAN AVE\",\"case_number\":\"JA208830\",\"community_area\":\"63\",\"date\":\"2017-04-01T15:36:00.000\",\"description\":\"AGGRAVATED: OTHER DANG WEAPON\",\"district\":\"008\",\"domestic\":true,\"fbi_code\":\"04A\",\"id\":\"10898255\",\"iucr\":\"0530\",\"latitude\":\"41.798395968\",\"location\":{\"type\":\"Point\",\"coordinates\":[-87.708596,41.798396]},\"location_description\":\"STREET\",\"longitude\":\"-87.708595629\",\"primary_type\":\"ASSAULT\",\"updated_on\":\"2017-04-08T15:49:53.000\",\"ward\":\"14\",\"x_coordinate\":\"1154597\",\"y_coordinate\":\"1869745\",\"year\":\"2017\"}\n",
      ",{\"arrest\":false,\"beat\":\"0423\",\"block\":\"093XX S COLFAX AVE\",\"case_number\":\"JA208783\",\"community_area\":\"48\",\"date\":\"2017-04-01T15:37:00.000\",\"description\":\"TO VEHICLE\",\"district\":\"004\",\"domestic\":false,\"fbi_code\":\"14\",\"id\":\"10897536\",\"iucr\":\"1320\",\"latitude\":\"41.725681679\",\"location\":{\"type\":\"Point\",\"coordinates\":[-87.560799,41.725682]},\"location_description\":\"STREET\",\"longitude\":\"-87.560798511\",\"primary_type\":\"CRIMINAL DAMAGE\",\"updated_on\":\"2017-04-08T15:49:53.000\",\"ward\":\"7\",\"x_coordinate\":\"1195135\",\"y_coordinate\":\"1843576\",\"year\":\"2017\"}\n",
      ",{\"arrest\":false,\"beat\":\"0726\",\"block\":\"018XX W 65TH ST\",\"case_number\":\"JA208840\",\"community_area\":\"67\",\"date\":\"2017-04-01T15:40:00.000\",\"description\":\"SIMPLE\",\"district\":\"007\",\"domestic\":false,\"fbi_code\":\"08B\",\"id\":\"10897444\",\"iucr\":\"0460\",\"latitude\":\"41.775748608\",\"location\":{\"type\":\"Point\",\"coordinates\":[-87.670622,41.775749]},\"location_description\":\"SIDEWALK\",\"longitude\":\"-87.67062169\",\"primary_type\":\"BATTERY\",\"updated_on\":\"2017-04-08T15:49:53.000\",\"ward\":\"15\",\"x_coordinate\":\"1165015\",\"y_coordinate\":\"1861570\",\"year\":\"2017\"}\n",
      ",{\"arrest\":false,\"beat\":\"1112\",\"block\":\"008XX N MONTICELLO AVE\",\"case_number\":\"JA208790\",\"community_area\":\"23\",\"date\":\"2017-04-01T15:44:00.000\",\"description\":\"AGGRAVATED: HANDGUN\",\"district\":\"011\",\"domestic\":false,\"fbi_code\":\"04B\",\"id\":\"10897539\",\"iucr\":\"041A\",\"latitude\":\"41.896035833\",\"location\":{\"type\":\"Point\",\"coordinates\":[-87.717551,41.896036]},\"location_description\":\"SIDEWALK\",\"longitude\":\"-87.717551043\",\"primary_type\":\"BATTERY\",\"updated_on\":\"2017-04-08T15:49:53.000\",\"ward\":\"27\",\"x_coordinate\":\"1151900\",\"y_coordinate\":\"1905307\",\"year\":\"2017\"}\n",
      ",{\"arrest\":false,\"beat\":\"1924\",\"block\":\"008XX W BUCKINGHAM PL\",\"case_number\":\"JA208849\",\"community_area\":\"6\",\"date\":\"2017-04-01T15:45:00.000\",\"description\":\"TO LAND\",\"district\":\"019\",\"domestic\":false,\"fbi_code\":\"26\",\"id\":\"10897614\",\"iucr\":\"1330\",\"latitude\":\"41.942696949\",\"location\":{\"type\":\"Point\",\"coordinates\":[-87.650286,41.942697]},\"location_description\":\"RESIDENCE PORCH/HALLWAY\",\"longitude\":\"-87.650285728\",\"primary_type\":\"CRIMINAL TRESPASS\",\"updated_on\":\"2017-04-08T15:49:53.000\",\"ward\":\"44\",\"x_coordinate\":\"1170078\",\"y_coordinate\":\"1922449\",\"year\":\"2017\"}\n",
      ",{\"arrest\":false,\"beat\":\"0813\",\"block\":\"051XX W 63RD PL\",\"case_number\":\"JA209023\",\"community_area\":\"64\",\"date\":\"2017-04-01T15:45:00.000\",\"description\":\"$500 AND UNDER\",\"district\":\"008\",\"domestic\":true,\"fbi_code\":\"06\",\"id\":\"10897600\",\"iucr\":\"0820\",\"latitude\":\"41.777451033\",\"location\":{\"type\":\"Point\",\"coordinates\":[-87.749725,41.777451]},\"location_description\":\"RESIDENCE-GARAGE\",\"longitude\":\"-87.74972511\",\"primary_type\":\"THEFT\",\"updated_on\":\"2017-04-08T15:49:53.000\",\"ward\":\"13\",\"x_coordinate\":\"1143434\",\"y_coordinate\":\"1862034\",\"year\":\"2017\"}\n",
      ",{\"arrest\":false,\"beat\":\"1914\",\"block\":\"004XX W MONTROSE DR\",\"case_number\":\"JA208862\",\"community_area\":\"3\",\"date\":\"2017-04-01T15:45:00.000\",\"description\":\"OVER $500\",\"district\":\"019\",\"domestic\":false,\"fbi_code\":\"06\",\"id\":\"10897501\",\"iucr\":\"0810\",\"latitude\":\"41.962492108\",\"location\":{\"type\":\"Point\",\"coordinates\":[-87.642228,41.962492]},\"location_description\":\"PARKING LOT/GARAGE(NON.RESID.)\",\"longitude\":\"-87.642228017\",\"primary_type\":\"THEFT\",\"updated_on\":\"2017-04-08T15:49:53.000\",\"ward\":\"46\",\"x_coordinate\":\"1172212\",\"y_coordinate\":\"1929680\",\"year\":\"2017\"}\n",
      ",{\"arrest\":true,\"beat\":\"0821\",\"block\":\"049XX S KEDZIE AVE\",\"case_number\":\"JA208823\",\"community_area\":\"63\",\"date\":\"2017-04-01T15:47:00.000\",\"description\":\"RETAIL THEFT\",\"district\":\"008\",\"domestic\":false,\"fbi_code\":\"06\",\"id\":\"10897473\",\"iucr\":\"0860\",\"latitude\":\"41.803671998\",\"location\":{\"type\":\"Point\",\"coordinates\":[-87.703846,41.803672]},\"location_description\":\"SMALL RETAIL STORE\",\"longitude\":\"-87.703846021\",\"primary_type\":\"THEFT\",\"updated_on\":\"2017-04-08T15:49:53.000\",\"ward\":\"14\",\"x_coordinate\":\"1155878\",\"y_coordinate\":\"1871677\",\"year\":\"2017\"}\n",
      ",{\"arrest\":false,\"beat\":\"0912\",\"block\":\"016XX W 36TH ST\",\"case_number\":\"JA208793\",\"community_area\":\"59\",\"date\":\"2017-04-01T15:50:00.000\",\"description\":\"TO VEHICLE\",\"district\":\"009\",\"domestic\":false,\"fbi_code\":\"14\",\"id\":\"10897519\",\"iucr\":\"1320\",\"latitude\":\"41.828656702\",\"location\":{\"type\":\"Point\",\"coordinates\":[-87.667013,41.828657]},\"location_description\":\"STREET\",\"longitude\":\"-87.667012545\",\"primary_type\":\"CRIMINAL DAMAGE\",\"updated_on\":\"2017-04-08T15:49:53.000\",\"ward\":\"11\",\"x_coordinate\":\"1165850\",\"y_coordinate\":\"1880857\",\"year\":\"2017\"}\n",
      ",{\"arrest\":true,\"beat\":\"0321\",\"block\":\"070XX S COTTAGE GROVE AVE\",\"case_number\":\"JA208859\",\"community_area\":\"42\",\"date\":\"2017-04-01T15:56:00.000\",\"description\":\"AGGRAVATED: OTHER DANG WEAPON\",\"district\":\"003\",\"domestic\":false,\"fbi_code\":\"04A\",\"id\":\"10897743\",\"iucr\":\"0530\",\"latitude\":\"41.76680404\",\"location\":{\"type\":\"Point\",\"coordinates\":[-87.60562,41.766804]},\"location_description\":\"POLICE FACILITY/VEH PARKING LOT\",\"longitude\":\"-87.605619683\",\"primary_type\":\"ASSAULT\",\"updated_on\":\"2017-04-08T15:49:53.000\",\"ward\":\"6\",\"x_coordinate\":\"1182773\",\"y_coordinate\":\"1858454\",\"year\":\"2017\"}\n",
      ",{\"arrest\":false,\"beat\":\"2412\",\"block\":\"066XX N CALIFORNIA AVE\",\"case_number\":\"JA211070\",\"community_area\":\"2\",\"date\":\"2017-04-01T16:00:00.000\",\"description\":\"FINANCIAL IDENTITY THEFT OVER $ 300\",\"district\":\"024\",\"domestic\":false,\"fbi_code\":\"11\",\"id\":\"10899624\",\"iucr\":\"1153\",\"latitude\":\"42.001657124\",\"location\":{\"type\":\"Point\",\"coordinates\":[-87.69975,42.001657]},\"location_description\":\"RESIDENCE\",\"longitude\":\"-87.699749744\",\"primary_type\":\"DECEPTIVE PRACTICE\",\"updated_on\":\"2017-04-08T15:49:53.000\",\"ward\":\"50\",\"x_coordinate\":\"1156462\",\"y_coordinate\":\"1943831\",\"year\":\"2017\"}\n",
      ",{\"arrest\":false,\"beat\":\"1022\",\"block\":\"015XX S SPAULDING AVE\",\"case_number\":\"JA209668\",\"community_area\":\"29\",\"date\":\"2017-04-01T16:00:00.000\",\"description\":\"FROM BUILDING\",\"district\":\"010\",\"domestic\":false,\"fbi_code\":\"06\",\"id\":\"10898146\",\"iucr\":\"0890\",\"latitude\":\"41.860264706\",\"location\":{\"type\":\"Point\",\"coordinates\":[-87.707931,41.860265]},\"location_description\":\"APARTMENT\",\"longitude\":\"-87.707931376\",\"primary_type\":\"THEFT\",\"updated_on\":\"2017-04-08T15:49:53.000\",\"ward\":\"24\",\"x_coordinate\":\"1154614\",\"y_coordinate\":\"1892291\",\"year\":\"2017\"}\n",
      ",{\"arrest\":false,\"beat\":\"0331\",\"block\":\"069XX S SOUTH SHORE DR\",\"case_number\":\"JA209315\",\"community_area\":\"43\",\"date\":\"2017-04-01T16:00:00.000\",\"description\":\"DOMESTIC BATTERY SIMPLE\",\"district\":\"003\",\"domestic\":true,\"fbi_code\":\"08B\",\"id\":\"10897842\",\"iucr\":\"0486\",\"latitude\":\"41.769261173\",\"location\":{\"type\":\"Point\",\"coordinates\":[-87.566533,41.769261]},\"location_description\":\"APARTMENT\",\"longitude\":\"-87.5665333\",\"primary_type\":\"BATTERY\",\"updated_on\":\"2017-04-08T15:49:53.000\",\"ward\":\"5\",\"x_coordinate\":\"1193428\",\"y_coordinate\":\"1859442\",\"year\":\"2017\"}\n",
      ",{\"arrest\":true,\"beat\":\"1915\",\"block\":\"042XX N BROADWAY\",\"case_number\":\"JA209185\",\"community_area\":\"3\",\"date\":\"2017-04-01T16:00:00.000\",\"description\":\"DOMESTIC BATTERY SIMPLE\",\"district\":\"019\",\"domestic\":true,\"fbi_code\":\"08B\",\"id\":\"10897758\",\"iucr\":\"0486\",\"latitude\":\"41.959239131\",\"location\":{\"type\":\"Point\",\"coordinates\":[-87.653536,41.959239]},\"location_description\":\"APARTMENT\",\"longitude\":\"-87.653535714\",\"primary_type\":\"BATTERY\",\"updated_on\":\"2017-04-08T15:49:53.000\",\"ward\":\"46\",\"x_coordinate\":\"1169146\",\"y_coordinate\":\"1928470\",\"year\":\"2017\"}\n",
      ",{\"arrest\":false,\"beat\":\"0834\",\"block\":\"080XX S SPAULDING AVE\",\"case_number\":\"JA208848\",\"community_area\":\"70\",\"date\":\"2017-04-01T16:00:00.000\",\"description\":\"AGGRAVATED DOMESTIC BATTERY: OTHER DANG WEAPON\",\"district\":\"008\",\"domestic\":true,\"fbi_code\":\"04B\",\"id\":\"10897691\",\"iucr\":\"0497\",\"latitude\":\"41.747078609\",\"location\":{\"type\":\"Point\",\"coordinates\":[-87.704758,41.747079]},\"location_description\":\"RESIDENCE\",\"longitude\":\"-87.704758294\",\"primary_type\":\"BATTERY\",\"updated_on\":\"2017-04-08T15:49:53.000\",\"ward\":\"18\",\"x_coordinate\":\"1155780\",\"y_coordinate\":\"1851053\",\"year\":\"2017\"}\n",
      ",{\"arrest\":false,\"beat\":\"0814\",\"block\":\"054XX S LATROBE AVE\",\"case_number\":\"JA208982\",\"community_area\":\"56\",\"date\":\"2017-04-01T16:00:00.000\",\"description\":\"DOMESTIC BATTERY SIMPLE\",\"district\":\"008\",\"domestic\":true,\"fbi_code\":\"08B\",\"id\":\"10897604\",\"iucr\":\"0486\",\"latitude\":\"41.793945572\",\"location\":{\"type\":\"Point\",\"coordinates\":[-87.753782,41.793946]},\"location_description\":\"RESIDENCE\",\"longitude\":\"-87.753781751\",\"primary_type\":\"BATTERY\",\"updated_on\":\"2017-04-08T15:49:53.000\",\"ward\":\"23\",\"x_coordinate\":\"1142287\",\"y_coordinate\":\"1868037\",\"year\":\"2017\"}\n",
      ",{\"arrest\":false,\"beat\":\"1424\",\"block\":\"022XX W NORTH AVE\",\"case_number\":\"JA209042\",\"community_area\":\"24\",\"date\":\"2017-04-01T16:00:00.000\",\"description\":\"OVER $500\",\"district\":\"014\",\"domestic\":false,\"fbi_code\":\"06\",\"id\":\"10897579\",\"iucr\":\"0810\",\"latitude\":\"41.910368356\",\"location\":{\"type\":\"Point\",\"coordinates\":[-87.684059,41.910368]},\"location_description\":\"STREET\",\"longitude\":\"-87.68405863\",\"primary_type\":\"THEFT\",\"updated_on\":\"2017-04-08T15:49:53.000\",\"ward\":\"1\",\"x_coordinate\":\"1160979\",\"y_coordinate\":\"1910597\",\"year\":\"2017\"}\n",
      ",{\"arrest\":false,\"beat\":\"2422\",\"block\":\"074XX N CLARK ST\",\"case_number\":\"JA208851\",\"community_area\":\"1\",\"date\":\"2017-04-01T16:00:00.000\",\"description\":\"SIMPLE\",\"district\":\"024\",\"domestic\":false,\"fbi_code\":\"08A\",\"id\":\"10897555\",\"iucr\":\"0560\",\"latitude\":\"42.016016537\",\"location\":{\"type\":\"Point\",\"coordinates\":[-87.675202,42.016017]},\"location_description\":\"SIDEWALK\",\"longitude\":\"-87.675202128\",\"primary_type\":\"ASSAULT\",\"updated_on\":\"2017-04-08T15:49:53.000\",\"ward\":\"49\",\"x_coordinate\":\"1163094\",\"y_coordinate\":\"1949114\",\"year\":\"2017\"}\n",
      ",{\"arrest\":false,\"beat\":\"0423\",\"block\":\"083XX S COLFAX AVE\",\"case_number\":\"JA208892\",\"community_area\":\"46\",\"date\":\"2017-04-01T16:00:00.000\",\"description\":\"TO VEHICLE\",\"district\":\"004\",\"domestic\":false,\"fbi_code\":\"14\",\"id\":\"10897525\",\"iucr\":\"1320\",\"latitude\":\"41.744071584\",\"location\":{\"type\":\"Point\",\"coordinates\":[-87.561252,41.744072]},\"location_description\":\"STREET\",\"longitude\":\"-87.561252336\",\"primary_type\":\"CRIMINAL DAMAGE\",\"updated_on\":\"2017-04-08T15:49:53.000\",\"ward\":\"7\",\"x_coordinate\":\"1194951\",\"y_coordinate\":\"1850276\",\"year\":\"2017\"}\n",
      ",{\"arrest\":false,\"beat\":\"0832\",\"block\":\"069XX S CAMPBELL AVE\",\"case_number\":\"JA209099\",\"community_area\":\"66\",\"date\":\"2017-04-01T16:02:00.000\",\"description\":\"TELEPHONE THREAT\",\"district\":\"008\",\"domestic\":false,\"fbi_code\":\"26\",\"id\":\"10898263\",\"iucr\":\"2820\",\"latitude\":\"41.767527973\",\"location\":{\"type\":\"Point\",\"coordinates\":[-87.685765,41.767528]},\"location_description\":\"OTHER\",\"longitude\":\"-87.68576485\",\"primary_type\":\"OTHER OFFENSE\",\"updated_on\":\"2017-04-08T15:49:53.000\",\"ward\":\"15\",\"x_coordinate\":\"1160907\",\"y_coordinate\":\"1858543\",\"year\":\"2017\"}\n",
      ",{\"arrest\":true,\"beat\":\"1834\",\"block\":\"006XX E GRAND AVE\",\"case_number\":\"JA208923\",\"community_area\":\"8\",\"date\":\"2017-04-01T16:02:00.000\",\"description\":\"FROM BUILDING\",\"district\":\"018\",\"domestic\":false,\"fbi_code\":\"06\",\"id\":\"10897565\",\"iucr\":\"0890\",\"latitude\":\"41.891990384\",\"location\":{\"type\":\"Point\",\"coordinates\":[-87.611462,41.89199]},\"location_description\":\"OTHER\",\"longitude\":\"-87.611461502\",\"primary_type\":\"THEFT\",\"updated_on\":\"2017-04-08T15:49:53.000\",\"ward\":\"42\",\"x_coordinate\":\"1180796\",\"y_coordinate\":\"1904058\",\"year\":\"2017\"}\n",
      ",{\"arrest\":false,\"beat\":\"1914\",\"block\":\"046XX N SHERIDAN RD\",\"case_number\":\"JA242239\",\"community_area\":\"3\",\"date\":\"2017-04-01T16:05:00.000\",\"description\":\"FINANCIAL IDENTITY THEFT OVER $ 300\",\"district\":\"019\",\"domestic\":false,\"fbi_code\":\"11\",\"id\":\"10928478\",\"iucr\":\"1153\",\"primary_type\":\"DECEPTIVE PRACTICE\",\"updated_on\":\"2017-04-29T15:49:38.000\",\"ward\":\"46\",\"year\":\"2017\"}\n",
      ",{\"arrest\":true,\"beat\":\"0725\",\"block\":\"063XX S ASHLAND AVE\",\"case_number\":\"JA208854\",\"community_area\":\"67\",\"date\":\"2017-04-01T16:08:00.000\",\"description\":\"AGG PO HANDS NO/MIN INJURY\",\"district\":\"007\",\"domestic\":false,\"fbi_code\":\"08B\",\"id\":\"10928122\",\"iucr\":\"0454\",\"location_description\":\"SIDEWALK\",\"primary_type\":\"BATTERY\",\"updated_on\":\"2017-04-29T15:49:38.000\",\"ward\":\"16\",\"year\":\"2017\"}\n",
      ",{\"arrest\":false,\"beat\":\"1034\",\"block\":\"026XX S CALIFORNIA AVE\",\"case_number\":\"JA208988\",\"community_area\":\"30\",\"date\":\"2017-04-01T16:10:00.000\",\"description\":\"$500 AND UNDER\",\"district\":\"010\",\"domestic\":false,\"fbi_code\":\"06\",\"id\":\"10897566\",\"iucr\":\"0820\",\"latitude\":\"41.843794906\",\"location\":{\"type\":\"Point\",\"coordinates\":[-87.695188,41.843795]},\"location_description\":\"STREET\",\"longitude\":\"-87.695188014\",\"primary_type\":\"THEFT\",\"updated_on\":\"2017-04-08T15:49:53.000\",\"ward\":\"12\",\"x_coordinate\":\"1158130\",\"y_coordinate\":\"1886315\",\"year\":\"2017\"}\n",
      ",{\"arrest\":false,\"beat\":\"0835\",\"block\":\"073XX S ARTESIAN AVE\",\"case_number\":\"JA208921\",\"community_area\":\"66\",\"date\":\"2017-04-01T16:11:00.000\",\"description\":\"TO PROPERTY\",\"district\":\"008\",\"domestic\":false,\"fbi_code\":\"14\",\"id\":\"10897693\",\"iucr\":\"1310\",\"latitude\":\"41.760296965\",\"location\":{\"type\":\"Point\",\"coordinates\":[-87.684346,41.760297]},\"location_description\":\"RESIDENCE-GARAGE\",\"longitude\":\"-87.684345797\",\"primary_type\":\"CRIMINAL DAMAGE\",\"updated_on\":\"2017-04-08T15:49:53.000\",\"ward\":\"18\",\"x_coordinate\":\"1161314\",\"y_coordinate\":\"1855911\",\"year\":\"2017\"}\n",
      ",{\"arrest\":false,\"beat\":\"2531\",\"block\":\"012XX N MASON AVE\",\"case_number\":\"JA208844\",\"community_area\":\"25\",\"date\":\"2017-04-01T16:16:00.000\",\"description\":\"AGGRAVATED: HANDGUN\",\"district\":\"025\",\"domestic\":false,\"fbi_code\":\"04B\",\"id\":\"10897588\",\"iucr\":\"041A\",\"latitude\":\"41.902914461\",\"location\":{\"type\":\"Point\",\"coordinates\":[-87.77418,41.902914]},\"location_description\":\"SIDEWALK\",\"longitude\":\"-87.774180266\",\"primary_type\":\"BATTERY\",\"updated_on\":\"2017-04-08T15:49:53.000\",\"ward\":\"29\",\"x_coordinate\":\"1136466\",\"y_coordinate\":\"1907708\",\"year\":\"2017\"}\n",
      ",{\"arrest\":false,\"beat\":\"0132\",\"block\":\"012XX S MICHIGAN AVE\",\"case_number\":\"JA208894\",\"community_area\":\"33\",\"date\":\"2017-04-01T16:16:00.000\",\"description\":\"AUTOMOBILE\",\"district\":\"001\",\"domestic\":false,\"fbi_code\":\"07\",\"id\":\"10897496\",\"iucr\":\"0910\",\"latitude\":\"41.866578077\",\"location\":{\"type\":\"Point\",\"coordinates\":[-87.624134,41.866578]},\"location_description\":\"PARKING LOT/GARAGE(NON.RESID.)\",\"longitude\":\"-87.624134464\",\"primary_type\":\"MOTOR VEHICLE THEFT\",\"updated_on\":\"2017-04-08T15:49:53.000\",\"ward\":\"2\",\"x_coordinate\":\"1177422\",\"y_coordinate\":\"1894769\",\"year\":\"2017\"}\n",
      ",{\"arrest\":false,\"beat\":\"2533\",\"block\":\"015XX N CICERO AVE\",\"case_number\":\"JA208883\",\"community_area\":\"25\",\"date\":\"2017-04-01T16:20:00.000\",\"description\":\"DOMESTIC BATTERY SIMPLE\",\"district\":\"025\",\"domestic\":true,\"fbi_code\":\"08B\",\"id\":\"10897504\",\"iucr\":\"0486\",\"latitude\":\"41.908800595\",\"location\":{\"type\":\"Point\",\"coordinates\":[-87.746091,41.908801]},\"location_description\":\"CTA BUS STOP\",\"longitude\":\"-87.746090902\",\"primary_type\":\"BATTERY\",\"updated_on\":\"2017-04-08T15:49:53.000\",\"ward\":\"37\",\"x_coordinate\":\"1144098\",\"y_coordinate\":\"1909904\",\"year\":\"2017\"}\n",
      ",{\"arrest\":false,\"beat\":\"2222\",\"block\":\"090XX S LOOMIS ST\",\"case_number\":\"JA211710\",\"community_area\":\"73\",\"date\":\"2017-04-01T16:30:00.000\",\"description\":\"CREDIT CARD FRAUD\",\"district\":\"022\",\"domestic\":false,\"fbi_code\":\"11\",\"id\":\"10899934\",\"iucr\":\"1150\",\"latitude\":\"41.729944221\",\"location\":{\"type\":\"Point\",\"coordinates\":[-87.658036,41.729944]},\"location_description\":\"RESIDENCE\",\"longitude\":\"-87.658035882\",\"primary_type\":\"DECEPTIVE PRACTICE\",\"updated_on\":\"2017-04-08T15:49:53.000\",\"ward\":\"21\",\"x_coordinate\":\"1168579\",\"y_coordinate\":\"1844906\",\"year\":\"2017\"}\n",
      ",{\"arrest\":false,\"beat\":\"1814\",\"block\":\"021XX N LINCOLN PARK WEST\",\"case_number\":\"JA210878\",\"community_area\":\"7\",\"date\":\"2017-04-01T16:30:00.000\",\"description\":\"TO VEHICLE\",\"district\":\"018\",\"domestic\":false,\"fbi_code\":\"26\",\"id\":\"10899296\",\"iucr\":\"1360\",\"latitude\":\"41.921000188\",\"location\":{\"type\":\"Point\",\"coordinates\":[-87.636426,41.921]},\"location_description\":\"STREET\",\"longitude\":\"-87.636425726\",\"primary_type\":\"CRIMINAL TRESPASS\",\"updated_on\":\"2017-04-08T15:49:53.000\",\"ward\":\"43\",\"x_coordinate\":\"1173913\",\"y_coordinate\":\"1914573\",\"year\":\"2017\"}\n",
      ",{\"arrest\":false,\"beat\":\"0524\",\"block\":\"122XX S BISHOP ST\",\"case_number\":\"JA208922\",\"community_area\":\"53\",\"date\":\"2017-04-01T16:30:00.000\",\"description\":\"SIMPLE\",\"district\":\"005\",\"domestic\":true,\"fbi_code\":\"08A\",\"id\":\"10897703\",\"iucr\":\"0560\",\"latitude\":\"41.671495287\",\"location\":{\"type\":\"Point\",\"coordinates\":[-87.657534,41.671495]},\"location_description\":\"RESIDENCE\",\"longitude\":\"-87.657534426\",\"primary_type\":\"ASSAULT\",\"updated_on\":\"2017-04-08T15:49:53.000\",\"ward\":\"34\",\"x_coordinate\":\"1168883\",\"y_coordinate\":\"1823609\",\"year\":\"2017\"}\n",
      ",{\"arrest\":false,\"beat\":\"0522\",\"block\":\"0000X W 111TH ST\",\"case_number\":\"JA208867\",\"community_area\":\"49\",\"date\":\"2017-04-01T16:30:00.000\",\"description\":\"PURSE-SNATCHING\",\"district\":\"005\",\"domestic\":false,\"fbi_code\":\"06\",\"id\":\"10897527\",\"iucr\":\"0880\",\"latitude\":\"41.692569761\",\"location\":{\"type\":\"Point\",\"coordinates\":[-87.624398,41.69257]},\"location_description\":\"HOSPITAL BUILDING/GROUNDS\",\"longitude\":\"-87.624397882\",\"primary_type\":\"THEFT\",\"updated_on\":\"2017-04-08T15:49:53.000\",\"ward\":\"34\",\"x_coordinate\":\"1177873\",\"y_coordinate\":\"1831361\",\"year\":\"2017\"}\n",
      ",{\"arrest\":true,\"beat\":\"0621\",\"block\":\"078XX S HALSTED ST\",\"case_number\":\"JA208881\",\"community_area\":\"71\",\"date\":\"2017-04-01T16:38:00.000\",\"description\":\"POSS: CANNABIS 30GMS OR LESS\",\"district\":\"006\",\"domestic\":false,\"fbi_code\":\"18\",\"id\":\"10897475\",\"iucr\":\"1811\",\"latitude\":\"41.751483673\",\"location\":{\"type\":\"Point\",\"coordinates\":[-87.644064,41.751484]},\"location_description\":\"STREET\",\"longitude\":\"-87.644063697\",\"primary_type\":\"NARCOTICS\",\"updated_on\":\"2017-04-08T15:49:53.000\",\"ward\":\"17\",\"x_coordinate\":\"1172330\",\"y_coordinate\":\"1852785\",\"year\":\"2017\"}\n",
      ",{\"arrest\":false,\"beat\":\"1712\",\"block\":\"033XX W FOSTER AVE\",\"case_number\":\"JA209045\",\"community_area\":\"13\",\"date\":\"2017-04-01T16:45:00.000\",\"description\":\"PUBLIC INDECENCY\",\"district\":\"017\",\"domestic\":false,\"fbi_code\":\"17\",\"id\":\"10897610\",\"iucr\":\"1570\",\"latitude\":\"41.975711009\",\"location\":{\"type\":\"Point\",\"coordinates\":[-87.711845,41.975711]},\"location_description\":\"SIDEWALK\",\"longitude\":\"-87.711845116\",\"primary_type\":\"SEX OFFENSE\",\"updated_on\":\"2017-04-08T15:49:53.000\",\"ward\":\"39\",\"x_coordinate\":\"1153243\",\"y_coordinate\":\"1934352\",\"year\":\"2017\"}\n",
      ",{\"arrest\":true,\"beat\":\"1132\",\"block\":\"039XX W JACKSON BLVD\",\"case_number\":\"JA208884\",\"community_area\":\"26\",\"date\":\"2017-04-01T16:49:00.000\",\"description\":\"PAROLE VIOLATION\",\"district\":\"011\",\"domestic\":false,\"fbi_code\":\"26\",\"id\":\"10897499\",\"iucr\":\"4625\",\"latitude\":\"41.877112015\",\"location\":{\"type\":\"Point\",\"coordinates\":[-87.723817,41.877112]},\"location_description\":\"SIDEWALK\",\"longitude\":\"-87.723817121\",\"primary_type\":\"OTHER OFFENSE\",\"updated_on\":\"2017-04-08T15:49:53.000\",\"ward\":\"28\",\"x_coordinate\":\"1150243\",\"y_coordinate\":\"1898399\",\"year\":\"2017\"}\n",
      ",{\"arrest\":false,\"beat\":\"1833\",\"block\":\"009XX N MICHIGAN AVE\",\"case_number\":\"JA209624\",\"community_area\":\"8\",\"date\":\"2017-04-01T16:50:00.000\",\"description\":\"RETAIL THEFT\",\"district\":\"018\",\"domestic\":false,\"fbi_code\":\"06\",\"id\":\"10898093\",\"iucr\":\"0860\",\"latitude\":\"41.899410159\",\"location\":{\"type\":\"Point\",\"coordinates\":[-87.624131,41.89941]},\"location_description\":\"DEPARTMENT STORE\",\"longitude\":\"-87.624131266\",\"primary_type\":\"THEFT\",\"updated_on\":\"2017-04-08T15:49:53.000\",\"ward\":\"42\",\"x_coordinate\":\"1177324\",\"y_coordinate\":\"1906733\",\"year\":\"2017\"}\n",
      ",{\"arrest\":false,\"beat\":\"1033\",\"block\":\"028XX S SACRAMENTO AVE\",\"case_number\":\"JA209072\",\"community_area\":\"30\",\"date\":\"2017-04-01T16:50:00.000\",\"description\":\"OVER $500\",\"district\":\"010\",\"domestic\":false,\"fbi_code\":\"06\",\"id\":\"10897753\",\"iucr\":\"0810\",\"latitude\":\"41.840492863\",\"location\":{\"type\":\"Point\",\"coordinates\":[-87.700021,41.840493]},\"location_description\":\"STREET\",\"longitude\":\"-87.700020957\",\"primary_type\":\"THEFT\",\"updated_on\":\"2017-04-08T15:49:53.000\",\"ward\":\"12\",\"x_coordinate\":\"1156822\",\"y_coordinate\":\"1885102\",\"year\":\"2017\"}\n",
      ",{\"arrest\":false,\"beat\":\"0631\",\"block\":\"081XX S DREXEL AVE\",\"case_number\":\"JA208914\",\"community_area\":\"44\",\"date\":\"2017-04-01T16:50:00.000\",\"description\":\"DOMESTIC BATTERY SIMPLE\",\"district\":\"006\",\"domestic\":true,\"fbi_code\":\"08B\",\"id\":\"10897511\",\"iucr\":\"0486\",\"latitude\":\"41.746765368\",\"location\":{\"type\":\"Point\",\"coordinates\":[-87.602625,41.746765]},\"location_description\":\"APARTMENT\",\"longitude\":\"-87.602624951\",\"primary_type\":\"BATTERY\",\"updated_on\":\"2017-04-08T15:49:53.000\",\"ward\":\"8\",\"x_coordinate\":\"1183652\",\"y_coordinate\":\"1851159\",\"year\":\"2017\"}\n",
      ",{\"arrest\":true,\"beat\":\"2533\",\"block\":\"015XX N LARAMIE AVE\",\"case_number\":\"JA208882\",\"community_area\":\"25\",\"date\":\"2017-04-01T16:53:00.000\",\"description\":\"DOMESTIC BATTERY SIMPLE\",\"district\":\"025\",\"domestic\":true,\"fbi_code\":\"08B\",\"id\":\"10897486\",\"iucr\":\"0486\",\"latitude\":\"41.908178067\",\"location\":{\"type\":\"Point\",\"coordinates\":[-87.755913,41.908178]},\"location_description\":\"RESIDENCE\",\"longitude\":\"-87.755912749\",\"primary_type\":\"BATTERY\",\"updated_on\":\"2017-04-08T15:49:53.000\",\"ward\":\"37\",\"x_coordinate\":\"1141426\",\"y_coordinate\":\"1909659\",\"year\":\"2017\"}\n",
      ",{\"arrest\":false,\"beat\":\"1123\",\"block\":\"002XX N CENTRAL PARK AVE\",\"case_number\":\"JA208876\",\"community_area\":\"27\",\"date\":\"2017-04-01T16:55:00.000\",\"description\":\"SIMPLE\",\"district\":\"011\",\"domestic\":false,\"fbi_code\":\"08B\",\"id\":\"10897548\",\"iucr\":\"0460\",\"latitude\":\"41.885750537\",\"location\":{\"type\":\"Point\",\"coordinates\":[-87.716041,41.885751]},\"location_description\":\"STREET\",\"longitude\":\"-87.716041302\",\"primary_type\":\"BATTERY\",\"updated_on\":\"2017-04-08T15:49:53.000\",\"ward\":\"28\",\"x_coordinate\":\"1152338\",\"y_coordinate\":\"1901562\",\"year\":\"2017\"}\n",
      ",{\"arrest\":false,\"beat\":\"0321\",\"block\":\"068XX S CHAMPLAIN AVE\",\"case_number\":\"JA235264\",\"community_area\":\"42\",\"date\":\"2017-04-01T17:00:00.000\",\"description\":\"THEFT/RECOVERY: AUTOMOBILE\",\"district\":\"003\",\"domestic\":false,\"fbi_code\":\"07\",\"id\":\"10921538\",\"iucr\":\"0930\",\"latitude\":\"41.770732791\",\"location\":{\"type\":\"Point\",\"coordinates\":[-87.609358,41.770733]},\"location_description\":\"STREET\",\"longitude\":\"-87.609358427\",\"primary_type\":\"MOTOR VEHICLE THEFT\",\"updated_on\":\"2017-04-24T15:54:56.000\",\"ward\":\"6\",\"x_coordinate\":\"1181741\",\"y_coordinate\":\"1859877\",\"year\":\"2017\"}\n",
      ",{\"arrest\":false,\"beat\":\"1821\",\"block\":\"013XX N HUDSON AVE\",\"case_number\":\"JA218622\",\"community_area\":\"8\",\"date\":\"2017-04-01T17:00:00.000\",\"description\":\"FROM BUILDING\",\"district\":\"018\",\"domestic\":false,\"fbi_code\":\"06\",\"id\":\"10907076\",\"iucr\":\"0890\",\"latitude\":\"41.907153315\",\"location\":{\"type\":\"Point\",\"coordinates\":[-87.639681,41.907153]},\"location_description\":\"APARTMENT\",\"longitude\":\"-87.639680572\",\"primary_type\":\"THEFT\",\"updated_on\":\"2017-04-13T15:51:25.000\",\"ward\":\"27\",\"x_coordinate\":\"1173068\",\"y_coordinate\":\"1909520\",\"year\":\"2017\"}\n",
      ",{\"arrest\":false,\"beat\":\"1831\",\"block\":\"006XX N ORLEANS ST\",\"case_number\":\"JA216257\",\"community_area\":\"8\",\"date\":\"2017-04-01T17:00:00.000\",\"description\":\"OVER $500\",\"district\":\"018\",\"domestic\":false,\"fbi_code\":\"06\",\"id\":\"10904363\",\"iucr\":\"0810\",\"latitude\":\"41.892568305\",\"location\":{\"type\":\"Point\",\"coordinates\":[-87.637058,41.892568]},\"location_description\":\"SIDEWALK\",\"longitude\":\"-87.637058091\",\"primary_type\":\"THEFT\",\"updated_on\":\"2017-04-10T15:48:51.000\",\"ward\":\"42\",\"x_coordinate\":\"1173825\",\"y_coordinate\":\"1904211\",\"year\":\"2017\"}\n",
      ",{\"arrest\":false,\"beat\":\"1215\",\"block\":\"016XX W GRAND AVE\",\"case_number\":\"JA213266\",\"community_area\":\"24\",\"date\":\"2017-04-01T17:00:00.000\",\"description\":\"OVER $500\",\"district\":\"012\",\"domestic\":false,\"fbi_code\":\"06\",\"id\":\"10901605\",\"iucr\":\"0810\",\"latitude\":\"41.890975772\",\"location\":{\"type\":\"Point\",\"coordinates\":[-87.667449,41.890976]},\"location_description\":\"CONSTRUCTION SITE\",\"longitude\":\"-87.667448716\",\"primary_type\":\"THEFT\",\"updated_on\":\"2017-04-10T15:48:51.000\",\"ward\":\"26\",\"x_coordinate\":\"1165555\",\"y_coordinate\":\"1903565\",\"year\":\"2017\"}\n",
      ",{\"arrest\":false,\"beat\":\"0913\",\"block\":\"033XX S MORGAN ST\",\"case_number\":\"JA212048\",\"community_area\":\"60\",\"date\":\"2017-04-01T17:00:00.000\",\"description\":\"FROM BUILDING\",\"district\":\"009\",\"domestic\":false,\"fbi_code\":\"06\",\"id\":\"10900401\",\"iucr\":\"0890\",\"latitude\":\"41.834638848\",\"location\":{\"type\":\"Point\",\"coordinates\":[-87.651058,41.834639]},\"location_description\":\"GROCERY FOOD STORE\",\"longitude\":\"-87.65105794\",\"primary_type\":\"THEFT\",\"updated_on\":\"2017-04-08T15:49:53.000\",\"ward\":\"11\",\"x_coordinate\":\"1170181\",\"y_coordinate\":\"1883071\",\"year\":\"2017\"}\n",
      ",{\"arrest\":false,\"beat\":\"1214\",\"block\":\"011XX W ERIE ST\",\"case_number\":\"JA210160\",\"community_area\":\"24\",\"date\":\"2017-04-01T17:00:00.000\",\"description\":\"DOMESTIC BATTERY SIMPLE\",\"district\":\"012\",\"domestic\":true,\"fbi_code\":\"08B\",\"id\":\"10898549\",\"iucr\":\"0486\",\"latitude\":\"41.893285756\",\"location\":{\"type\":\"Point\",\"coordinates\":[-87.656538,41.893286]},\"location_description\":\"RESIDENCE\",\"longitude\":\"-87.656538409\",\"primary_type\":\"BATTERY\",\"updated_on\":\"2017-04-08T15:49:53.000\",\"ward\":\"27\",\"x_coordinate\":\"1168519\",\"y_coordinate\":\"1904430\",\"year\":\"2017\"}\n",
      ",{\"arrest\":false,\"beat\":\"2233\",\"block\":\"105XX S WALLACE ST\",\"case_number\":\"JA209449\",\"community_area\":\"49\",\"date\":\"2017-04-01T17:00:00.000\",\"description\":\"TO PROPERTY\",\"district\":\"022\",\"domestic\":false,\"fbi_code\":\"14\",\"id\":\"10897965\",\"iucr\":\"1310\",\"latitude\":\"41.702473865\",\"location\":{\"type\":\"Point\",\"coordinates\":[-87.637842,41.702474]},\"location_description\":\"RESIDENTIAL YARD (FRONT/BACK)\",\"longitude\":\"-87.637842024\",\"primary_type\":\"CRIMINAL DAMAGE\",\"updated_on\":\"2017-04-08T15:49:53.000\",\"ward\":\"34\",\"x_coordinate\":\"1174172\",\"y_coordinate\":\"1834940\",\"year\":\"2017\"}\n",
      ",{\"arrest\":false,\"beat\":\"1423\",\"block\":\"014XX N CAMPBELL AVE\",\"case_number\":\"JA209324\",\"community_area\":\"24\",\"date\":\"2017-04-01T17:00:00.000\",\"description\":\"UNLAWFUL ENTRY\",\"district\":\"014\",\"domestic\":false,\"fbi_code\":\"05\",\"id\":\"10897867\",\"iucr\":\"0620\",\"latitude\":\"41.9074907\",\"location\":{\"type\":\"Point\",\"coordinates\":[-87.689606,41.907491]},\"location_description\":\"RESIDENCE\",\"longitude\":\"-87.689605629\",\"primary_type\":\"BURGLARY\",\"updated_on\":\"2017-04-08T15:49:53.000\",\"ward\":\"26\",\"x_coordinate\":\"1159477\",\"y_coordinate\":\"1909537\",\"year\":\"2017\"}\n",
      ",{\"arrest\":false,\"beat\":\"0612\",\"block\":\"080XX S ADA ST\",\"case_number\":\"JA209217\",\"community_area\":\"71\",\"date\":\"2017-04-01T17:00:00.000\",\"description\":\"FORCIBLE ENTRY\",\"district\":\"006\",\"domestic\":false,\"fbi_code\":\"05\",\"id\":\"10897782\",\"iucr\":\"0610\",\"latitude\":\"41.747629731\",\"location\":{\"type\":\"Point\",\"coordinates\":[-87.657301,41.74763]},\"location_description\":\"APARTMENT\",\"longitude\":\"-87.657300893\",\"primary_type\":\"BURGLARY\",\"updated_on\":\"2017-04-08T15:49:53.000\",\"ward\":\"21\",\"x_coordinate\":\"1168729\",\"y_coordinate\":\"1851352\",\"year\":\"2017\"}\n",
      ",{\"arrest\":false,\"beat\":\"0424\",\"block\":\"085XX S HOUSTON AVE\",\"case_number\":\"JA209149\",\"community_area\":\"46\",\"date\":\"2017-04-01T17:00:00.000\",\"description\":\"$500 AND UNDER\",\"district\":\"004\",\"domestic\":false,\"fbi_code\":\"06\",\"id\":\"10897727\",\"iucr\":\"0820\",\"latitude\":\"41.740028862\",\"location\":{\"type\":\"Point\",\"coordinates\":[-87.55025,41.740029]},\"location_description\":\"RESIDENTIAL YARD (FRONT/BACK)\",\"longitude\":\"-87.550249875\",\"primary_type\":\"THEFT\",\"updated_on\":\"2017-04-08T15:49:53.000\",\"ward\":\"10\",\"x_coordinate\":\"1197967\",\"y_coordinate\":\"1848830\",\"year\":\"2017\"}\n",
      ",{\"arrest\":false,\"beat\":\"0133\",\"block\":\"030XX S FORT DEARBORN\",\"case_number\":\"JA208954\",\"community_area\":\"35\",\"date\":\"2017-04-01T17:00:00.000\",\"description\":\"$500 AND UNDER\",\"district\":\"001\",\"domestic\":false,\"fbi_code\":\"06\",\"id\":\"10897721\",\"iucr\":\"0820\",\"latitude\":\"41.840087909\",\"location\":{\"type\":\"Point\",\"coordinates\":[-87.608331,41.840088]},\"location_description\":\"PARK PROPERTY\",\"longitude\":\"-87.608331312\",\"primary_type\":\"THEFT\",\"updated_on\":\"2017-04-08T15:49:53.000\",\"ward\":\"4\",\"x_coordinate\":\"1181808\",\"y_coordinate\":\"1885152\",\"year\":\"2017\"}\n",
      ",{\"arrest\":false,\"beat\":\"1924\",\"block\":\"008XX W BELMONT AVE\",\"case_number\":\"JA208933\",\"community_area\":\"6\",\"date\":\"2017-04-01T17:00:00.000\",\"description\":\"FROM BUILDING\",\"district\":\"019\",\"domestic\":false,\"fbi_code\":\"06\",\"id\":\"10897572\",\"iucr\":\"0890\",\"latitude\":\"41.939966387\",\"location\":{\"type\":\"Point\",\"coordinates\":[-87.650274,41.939966]},\"location_description\":\"OTHER\",\"longitude\":\"-87.65027444\",\"primary_type\":\"THEFT\",\"updated_on\":\"2017-04-08T15:49:53.000\",\"ward\":\"44\",\"x_coordinate\":\"1170089\",\"y_coordinate\":\"1921454\",\"year\":\"2017\"}\n",
      ",{\"arrest\":false,\"beat\":\"0232\",\"block\":\"057XX S PRAIRIE AVE\",\"case_number\":\"JA208877\",\"community_area\":\"40\",\"date\":\"2017-04-01T17:00:00.000\",\"description\":\"SIMPLE\",\"district\":\"002\",\"domestic\":false,\"fbi_code\":\"08B\",\"id\":\"10897571\",\"iucr\":\"0460\",\"latitude\":\"41.790330436\",\"location\":{\"type\":\"Point\",\"coordinates\":[-87.619112,41.79033]},\"location_description\":\"ALLEY\",\"longitude\":\"-87.619112076\",\"primary_type\":\"BATTERY\",\"updated_on\":\"2017-04-08T15:49:53.000\",\"ward\":\"20\",\"x_coordinate\":\"1179021\",\"y_coordinate\":\"1866996\",\"year\":\"2017\"}\n",
      ",{\"arrest\":false,\"beat\":\"0814\",\"block\":\"044XX S LAVERGNE AVE\",\"case_number\":\"JA208968\",\"community_area\":\"56\",\"date\":\"2017-04-01T17:00:00.000\",\"description\":\"OTHER OFFENSE\",\"district\":\"008\",\"domestic\":false,\"fbi_code\":\"20\",\"id\":\"10897543\",\"iucr\":\"1780\",\"latitude\":\"41.812336806\",\"location\":{\"type\":\"Point\",\"coordinates\":[-87.748176,41.812337]},\"location_description\":\"RESIDENCE\",\"longitude\":\"-87.74817602\",\"primary_type\":\"OFFENSE INVOLVING CHILDREN\",\"updated_on\":\"2017-04-08T15:49:53.000\",\"ward\":\"23\",\"x_coordinate\":\"1143770\",\"y_coordinate\":\"1874749\",\"year\":\"2017\"}\n",
      ",{\"arrest\":false,\"beat\":\"1914\",\"block\":\"045XX N SHERIDAN RD\",\"case_number\":\"JA208915\",\"community_area\":\"3\",\"date\":\"2017-04-01T17:00:00.000\",\"description\":\"TO VEHICLE\",\"district\":\"019\",\"domestic\":false,\"fbi_code\":\"14\",\"id\":\"10897541\",\"iucr\":\"1320\",\"latitude\":\"41.965050505\",\"location\":{\"type\":\"Point\",\"coordinates\":[-87.654783,41.965051]},\"location_description\":\"STREET\",\"longitude\":\"-87.654782937\",\"primary_type\":\"CRIMINAL DAMAGE\",\"updated_on\":\"2017-04-08T15:49:53.000\",\"ward\":\"46\",\"x_coordinate\":\"1168790\",\"y_coordinate\":\"1930585\",\"year\":\"2017\"}\n",
      ",{\"arrest\":false,\"beat\":\"0411\",\"block\":\"079XX S STONY ISLAND AVE\",\"case_number\":\"JA208936\",\"community_area\":\"45\",\"date\":\"2017-04-01T17:00:00.000\",\"description\":\"SIMPLE\",\"district\":\"004\",\"domestic\":false,\"fbi_code\":\"08A\",\"id\":\"10897534\",\"iucr\":\"0560\",\"latitude\":\"41.751270452\",\"location\":{\"type\":\"Point\",\"coordinates\":[-87.585822,41.75127]},\"location_description\":\"CTA BUS\",\"longitude\":\"-87.585822373\",\"primary_type\":\"ASSAULT\",\"updated_on\":\"2017-04-08T15:49:53.000\",\"ward\":\"8\",\"x_coordinate\":\"1188223\",\"y_coordinate\":\"1852840\",\"year\":\"2017\"}\n",
      ",{\"arrest\":false,\"beat\":\"0533\",\"block\":\"007XX E 131ST ST\",\"case_number\":\"JA208919\",\"community_area\":\"54\",\"date\":\"2017-04-01T17:00:00.000\",\"description\":\"$500 AND UNDER\",\"district\":\"005\",\"domestic\":false,\"fbi_code\":\"06\",\"id\":\"10897524\",\"iucr\":\"0820\",\"latitude\":\"41.65720913\",\"location\":{\"type\":\"Point\",\"coordinates\":[-87.60295,41.657209]},\"location_description\":\"RESIDENCE\",\"longitude\":\"-87.602950204\",\"primary_type\":\"THEFT\",\"updated_on\":\"2017-04-08T15:49:53.000\",\"ward\":\"9\",\"x_coordinate\":\"1183840\",\"y_coordinate\":\"1818525\",\"year\":\"2017\"}\n",
      ",{\"arrest\":true,\"beat\":\"1621\",\"block\":\"053XX N ELSTON AVE\",\"case_number\":\"JA208895\",\"community_area\":\"11\",\"date\":\"2017-04-01T17:03:00.000\",\"description\":\"RETAIL THEFT\",\"district\":\"016\",\"domestic\":false,\"fbi_code\":\"06\",\"id\":\"10897576\",\"iucr\":\"0860\",\"latitude\":\"41.978526568\",\"location\":{\"type\":\"Point\",\"coordinates\":[-87.757087,41.978527]},\"location_description\":\"GROCERY FOOD STORE\",\"longitude\":\"-87.75708711\",\"primary_type\":\"THEFT\",\"updated_on\":\"2017-04-08T15:49:53.000\",\"ward\":\"45\",\"x_coordinate\":\"1140934\",\"y_coordinate\":\"1935292\",\"year\":\"2017\"}\n",
      ",{\"arrest\":false,\"beat\":\"1524\",\"block\":\"055XX W RICE ST\",\"case_number\":\"JA208890\",\"community_area\":\"25\",\"date\":\"2017-04-01T17:10:00.000\",\"description\":\"DOMESTIC BATTERY SIMPLE\",\"district\":\"015\",\"domestic\":true,\"fbi_code\":\"08B\",\"id\":\"10897684\",\"iucr\":\"0486\",\"latitude\":\"41.895772042\",\"location\":{\"type\":\"Point\",\"coordinates\":[-87.764296,41.895772]},\"location_description\":\"SIDEWALK\",\"longitude\":\"-87.764296098\",\"primary_type\":\"BATTERY\",\"updated_on\":\"2017-04-08T15:49:53.000\",\"ward\":\"37\",\"x_coordinate\":\"1139174\",\"y_coordinate\":\"1905123\",\"year\":\"2017\"}\n",
      ",{\"arrest\":false,\"beat\":\"0522\",\"block\":\"003XX W 119TH ST\",\"case_number\":\"JA208886\",\"community_area\":\"53\",\"date\":\"2017-04-01T17:10:00.000\",\"description\":\"TO PROPERTY\",\"district\":\"005\",\"domestic\":false,\"fbi_code\":\"14\",\"id\":\"10897583\",\"iucr\":\"1310\",\"latitude\":\"41.677927829\",\"location\":{\"type\":\"Point\",\"coordinates\":[-87.631404,41.677928]},\"location_description\":\"SMALL RETAIL STORE\",\"longitude\":\"-87.631403865\",\"primary_type\":\"CRIMINAL DAMAGE\",\"updated_on\":\"2017-04-08T15:49:53.000\",\"ward\":\"34\",\"x_coordinate\":\"1176003\",\"y_coordinate\":\"1826010\",\"year\":\"2017\"}\n",
      ",{\"arrest\":false,\"beat\":\"1832\",\"block\":\"007XX N CLARK ST\",\"case_number\":\"JA209082\",\"community_area\":\"8\",\"date\":\"2017-04-01T17:11:00.000\",\"description\":\"FROM BUILDING\",\"district\":\"018\",\"domestic\":false,\"fbi_code\":\"06\",\"id\":\"10897707\",\"iucr\":\"0890\",\"latitude\":\"41.895979595\",\"location\":{\"type\":\"Point\",\"coordinates\":[-87.631232,41.89598]},\"location_description\":\"RESTAURANT\",\"longitude\":\"-87.631232395\",\"primary_type\":\"THEFT\",\"updated_on\":\"2017-04-08T15:49:53.000\",\"ward\":\"42\",\"x_coordinate\":\"1175401\",\"y_coordinate\":\"1905467\",\"year\":\"2017\"}\n",
      ",{\"arrest\":false,\"beat\":\"0622\",\"block\":\"083XX S STEWART AVE\",\"case_number\":\"JA209020\",\"community_area\":\"44\",\"date\":\"2017-04-01T17:12:00.000\",\"description\":\"RETAIL THEFT\",\"district\":\"006\",\"domestic\":false,\"fbi_code\":\"06\",\"id\":\"10897573\",\"iucr\":\"0860\",\"latitude\":\"41.742710224\",\"location\":{\"type\":\"Point\",\"coordinates\":[-87.634088,41.74271]},\"location_description\":\"DEPARTMENT STORE\",\"longitude\":\"-87.634088181\",\"primary_type\":\"THEFT\",\"updated_on\":\"2017-04-08T15:49:53.000\",\"ward\":\"21\",\"x_coordinate\":\"1175078\",\"y_coordinate\":\"1849610\",\"year\":\"2017\"}\n",
      ",{\"arrest\":false,\"beat\":\"2411\",\"block\":\"072XX N BELL AVE\",\"case_number\":\"JA208941\",\"community_area\":\"2\",\"date\":\"2017-04-01T17:15:00.000\",\"description\":\"DOMESTIC BATTERY SIMPLE\",\"district\":\"024\",\"domestic\":true,\"fbi_code\":\"08B\",\"id\":\"10897564\",\"iucr\":\"0486\",\"latitude\":\"42.013065987\",\"location\":{\"type\":\"Point\",\"coordinates\":[-87.686206,42.013066]},\"location_description\":\"APARTMENT\",\"longitude\":\"-87.686205505\",\"primary_type\":\"BATTERY\",\"updated_on\":\"2017-04-08T15:49:53.000\",\"ward\":\"49\",\"x_coordinate\":\"1160112\",\"y_coordinate\":\"1948016\",\"year\":\"2017\"}\n",
      ",{\"arrest\":false,\"beat\":\"1214\",\"block\":\"011XX W ERIE ST\",\"case_number\":\"JA208927\",\"community_area\":\"24\",\"date\":\"2017-04-01T17:25:00.000\",\"description\":\"DOMESTIC BATTERY SIMPLE\",\"district\":\"012\",\"domestic\":false,\"fbi_code\":\"08B\",\"id\":\"10897547\",\"iucr\":\"0486\",\"latitude\":\"41.893285756\",\"location\":{\"type\":\"Point\",\"coordinates\":[-87.656538,41.893286]},\"location_description\":\"APARTMENT\",\"longitude\":\"-87.656538409\",\"primary_type\":\"BATTERY\",\"updated_on\":\"2017-04-08T15:49:53.000\",\"ward\":\"27\",\"x_coordinate\":\"1168519\",\"y_coordinate\":\"1904430\",\"year\":\"2017\"}\n",
      ",{\"arrest\":false,\"beat\":\"1834\",\"block\":\"005XX N MICHIGAN AVE\",\"case_number\":\"JA208946\",\"community_area\":\"8\",\"date\":\"2017-04-01T17:26:00.000\",\"description\":\"RETAIL THEFT\",\"district\":\"018\",\"domestic\":false,\"fbi_code\":\"06\",\"id\":\"10897822\",\"iucr\":\"0860\",\"latitude\":\"41.892096977\",\"location\":{\"type\":\"Point\",\"coordinates\":[-87.624164,41.892097]},\"location_description\":\"DEPARTMENT STORE\",\"longitude\":\"-87.624164426\",\"primary_type\":\"THEFT\",\"updated_on\":\"2017-04-08T15:49:53.000\",\"ward\":\"42\",\"x_coordinate\":\"1177337\",\"y_coordinate\":\"1904068\",\"year\":\"2017\"}\n",
      ",{\"arrest\":false,\"beat\":\"0532\",\"block\":\"120XX S DOTY AVE E\",\"case_number\":\"JA213587\",\"community_area\":\"51\",\"date\":\"2017-04-01T17:30:00.000\",\"description\":\"DOMESTIC BATTERY SIMPLE\",\"district\":\"005\",\"domestic\":true,\"fbi_code\":\"08B\",\"id\":\"10902011\",\"iucr\":\"0486\",\"latitude\":\"41.675778902\",\"location\":{\"type\":\"Point\",\"coordinates\":[-87.601038,41.675779]},\"location_description\":\"RESIDENCE\",\"longitude\":\"-87.601038183\",\"primary_type\":\"BATTERY\",\"updated_on\":\"2017-04-10T15:48:51.000\",\"ward\":\"10\",\"x_coordinate\":\"1184305\",\"y_coordinate\":\"1825296\",\"year\":\"2017\"}\n",
      ",{\"arrest\":false,\"beat\":\"1611\",\"block\":\"065XX N SAYRE AVE\",\"case_number\":\"JA211282\",\"community_area\":\"10\",\"date\":\"2017-04-01T17:30:00.000\",\"description\":\"TO VEHICLE\",\"district\":\"016\",\"domestic\":false,\"fbi_code\":\"14\",\"id\":\"10899661\",\"iucr\":\"1320\",\"latitude\":\"42.000657149\",\"location\":{\"type\":\"Point\",\"coordinates\":[-87.801727,42.000657]},\"location_description\":\"DRIVEWAY - RESIDENTIAL\",\"longitude\":\"-87.801727408\",\"primary_type\":\"CRIMINAL DAMAGE\",\"updated_on\":\"2017-04-08T15:49:53.000\",\"ward\":\"41\",\"x_coordinate\":\"1128746\",\"y_coordinate\":\"1943278\",\"year\":\"2017\"}\n",
      ",{\"arrest\":false,\"beat\":\"0621\",\"block\":\"075XX S EMERALD AVE\",\"case_number\":\"JA210821\",\"community_area\":\"68\",\"date\":\"2017-04-01T17:30:00.000\",\"description\":\"$500 AND UNDER\",\"district\":\"006\",\"domestic\":false,\"fbi_code\":\"06\",\"id\":\"10899252\",\"iucr\":\"0820\",\"latitude\":\"41.757059111\",\"location\":{\"type\":\"Point\",\"coordinates\":[-87.642985,41.757059]},\"location_description\":\"STREET\",\"longitude\":\"-87.642985153\",\"primary_type\":\"THEFT\",\"updated_on\":\"2017-04-08T15:49:53.000\",\"ward\":\"17\",\"x_coordinate\":\"1172608\",\"y_coordinate\":\"1854819\",\"year\":\"2017\"}\n",
      ",{\"arrest\":false,\"beat\":\"0224\",\"block\":\"003XX E 47TH ST\",\"case_number\":\"JA210288\",\"community_area\":\"38\",\"date\":\"2017-04-01T17:30:00.000\",\"description\":\"$500 AND UNDER\",\"district\":\"002\",\"domestic\":false,\"fbi_code\":\"06\",\"id\":\"10898625\",\"iucr\":\"0820\",\"latitude\":\"41.809347098\",\"location\":{\"type\":\"Point\",\"coordinates\":[-87.618919,41.809347]},\"location_description\":\"VEHICLE NON-COMMERCIAL\",\"longitude\":\"-87.618919216\",\"primary_type\":\"THEFT\",\"updated_on\":\"2017-04-08T15:49:53.000\",\"ward\":\"3\",\"x_coordinate\":\"1179016\",\"y_coordinate\":\"1873926\",\"year\":\"2017\"}\n",
      ",{\"arrest\":false,\"beat\":\"2233\",\"block\":\"109XX S PARNELL AVE\",\"case_number\":\"JA209675\",\"community_area\":\"49\",\"date\":\"2017-04-01T17:30:00.000\",\"description\":\"TO VEHICLE\",\"district\":\"022\",\"domestic\":false,\"fbi_code\":\"14\",\"id\":\"10898171\",\"iucr\":\"1320\",\"latitude\":\"41.695096728\",\"location\":{\"type\":\"Point\",\"coordinates\":[-87.63642,41.695097]},\"location_description\":\"STREET\",\"longitude\":\"-87.636420273\",\"primary_type\":\"CRIMINAL DAMAGE\",\"updated_on\":\"2017-04-08T15:49:53.000\",\"ward\":\"34\",\"x_coordinate\":\"1174582\",\"y_coordinate\":\"1832255\",\"year\":\"2017\"}\n",
      ",{\"arrest\":false,\"beat\":\"2423\",\"block\":\"070XX N GLENWOOD AVE\",\"case_number\":\"JA209625\",\"community_area\":\"1\",\"date\":\"2017-04-01T17:30:00.000\",\"description\":\"TO VEHICLE\",\"district\":\"024\",\"domestic\":false,\"fbi_code\":\"14\",\"id\":\"10898097\",\"iucr\":\"1320\",\"latitude\":\"42.009752155\",\"location\":{\"type\":\"Point\",\"coordinates\":[-87.665799,42.009752]},\"location_description\":\"STREET\",\"longitude\":\"-87.665799252\",\"primary_type\":\"CRIMINAL DAMAGE\",\"updated_on\":\"2017-04-08T15:49:53.000\",\"ward\":\"49\",\"x_coordinate\":\"1165667\",\"y_coordinate\":\"1946851\",\"year\":\"2017\"}\n",
      ",{\"arrest\":true,\"beat\":\"0611\",\"block\":\"020XX W 79TH ST\",\"case_number\":\"JA209151\",\"community_area\":\"71\",\"date\":\"2017-04-01T17:30:00.000\",\"description\":\"OVER $500\",\"district\":\"006\",\"domestic\":false,\"fbi_code\":\"06\",\"id\":\"10897979\",\"iucr\":\"0810\",\"latitude\":\"41.750212035\",\"location\":{\"type\":\"Point\",\"coordinates\":[-87.674769,41.750212]},\"location_description\":\"CONVENIENCE STORE\",\"longitude\":\"-87.674768971\",\"primary_type\":\"THEFT\",\"updated_on\":\"2017-04-08T15:49:53.000\",\"ward\":\"18\",\"x_coordinate\":\"1163955\",\"y_coordinate\":\"1852256\",\"year\":\"2017\"}\n",
      ",{\"arrest\":false,\"beat\":\"2023\",\"block\":\"055XX N SHERIDAN RD\",\"case_number\":\"JA208858\",\"community_area\":\"77\",\"date\":\"2017-04-01T17:30:00.000\",\"description\":\"TO VEHICLE\",\"district\":\"020\",\"domestic\":false,\"fbi_code\":\"14\",\"id\":\"10897594\",\"iucr\":\"1320\",\"latitude\":\"41.982832431\",\"location\":{\"type\":\"Point\",\"coordinates\":[-87.655164,41.982832]},\"location_description\":\"STREET\",\"longitude\":\"-87.65516425\",\"primary_type\":\"CRIMINAL DAMAGE\",\"updated_on\":\"2017-04-08T15:49:53.000\",\"ward\":\"48\",\"x_coordinate\":\"1168635\",\"y_coordinate\":\"1937064\",\"year\":\"2017\"}\n",
      ",{\"arrest\":true,\"beat\":\"2533\",\"block\":\"015XX N LEAMINGTON AVE\",\"case_number\":\"JA208944\",\"community_area\":\"25\",\"date\":\"2017-04-01T17:34:00.000\",\"description\":\"GAME/DICE\",\"district\":\"025\",\"domestic\":false,\"fbi_code\":\"19\",\"id\":\"10897514\",\"iucr\":\"1661\",\"latitude\":\"41.908545164\",\"location\":{\"type\":\"Point\",\"coordinates\":[-87.754697,41.908545]},\"location_description\":\"SIDEWALK\",\"longitude\":\"-87.754697111\",\"primary_type\":\"GAMBLING\",\"updated_on\":\"2017-04-08T15:49:53.000\",\"ward\":\"37\",\"x_coordinate\":\"1141756\",\"y_coordinate\":\"1909795\",\"year\":\"2017\"}\n",
      ",{\"arrest\":false,\"beat\":\"1012\",\"block\":\"016XX S KARLOV AVE\",\"case_number\":\"JA208907\",\"community_area\":\"29\",\"date\":\"2017-04-01T17:35:00.000\",\"description\":\"TO VEHICLE\",\"district\":\"010\",\"domestic\":true,\"fbi_code\":\"14\",\"id\":\"10897597\",\"iucr\":\"1320\",\"latitude\":\"41.858077482\",\"location\":{\"type\":\"Point\",\"coordinates\":[-87.727375,41.858077]},\"location_description\":\"STREET\",\"longitude\":\"-87.727375071\",\"primary_type\":\"CRIMINAL DAMAGE\",\"updated_on\":\"2017-04-08T15:49:53.000\",\"ward\":\"24\",\"x_coordinate\":\"1149323\",\"y_coordinate\":\"1891456\",\"year\":\"2017\"}\n",
      ",{\"arrest\":true,\"beat\":\"0735\",\"block\":\"069XX S HERMITAGE AVE\",\"case_number\":\"JA209037\",\"community_area\":\"67\",\"date\":\"2017-04-01T17:47:00.000\",\"description\":\"UNLAWFUL USE HANDGUN\",\"district\":\"007\",\"domestic\":false,\"fbi_code\":\"15\",\"id\":\"10897751\",\"iucr\":\"141A\",\"latitude\":\"41.767942511\",\"location\":{\"type\":\"Point\",\"coordinates\":[-87.667546,41.767943]},\"location_description\":\"STREET\",\"longitude\":\"-87.66754588\",\"primary_type\":\"WEAPONS VIOLATION\",\"updated_on\":\"2017-04-08T15:49:53.000\",\"ward\":\"17\",\"x_coordinate\":\"1165876\",\"y_coordinate\":\"1858732\",\"year\":\"2017\"}\n",
      ",{\"arrest\":false,\"beat\":\"2411\",\"block\":\"024XX W COYLE AVE\",\"case_number\":\"JA208955\",\"community_area\":\"2\",\"date\":\"2017-04-01T17:48:00.000\",\"description\":\"HARASSMENT BY ELECTRONIC MEANS\",\"district\":\"024\",\"domestic\":false,\"fbi_code\":\"26\",\"id\":\"10898300\",\"iucr\":\"2826\",\"latitude\":\"42.007724125\",\"location\":{\"type\":\"Point\",\"coordinates\":[-87.691282,42.007724]},\"location_description\":\"RESIDENCE\",\"longitude\":\"-87.691282061\",\"primary_type\":\"OTHER OFFENSE\",\"updated_on\":\"2017-04-08T15:49:53.000\",\"ward\":\"50\",\"x_coordinate\":\"1158747\",\"y_coordinate\":\"1946059\",\"year\":\"2017\"}\n",
      ",{\"arrest\":true,\"beat\":\"1614\",\"block\":\"053XX N CUMBERLAND AVE\",\"case_number\":\"JA209046\",\"community_area\":\"76\",\"date\":\"2017-04-01T17:50:00.000\",\"description\":\"ATTEMPT THEFT\",\"district\":\"016\",\"domestic\":false,\"fbi_code\":\"06\",\"id\":\"10897765\",\"iucr\":\"0850\",\"latitude\":\"41.976763216\",\"location\":{\"type\":\"Point\",\"coordinates\":[-87.836614,41.976763]},\"location_description\":\"PARKING LOT/GARAGE(NON.RESID.)\",\"longitude\":\"-87.836613764\",\"primary_type\":\"THEFT\",\"updated_on\":\"2017-04-08T15:49:53.000\",\"ward\":\"41\",\"x_coordinate\":\"1119314\",\"y_coordinate\":\"1934514\",\"year\":\"2017\"}\n",
      ",{\"arrest\":false,\"beat\":\"1031\",\"block\":\"032XX S HAMLIN AVE\",\"case_number\":\"JA208942\",\"community_area\":\"30\",\"date\":\"2017-04-01T17:55:00.000\",\"description\":\"SIMPLE\",\"district\":\"010\",\"domestic\":false,\"fbi_code\":\"08B\",\"id\":\"10897612\",\"iucr\":\"0460\",\"latitude\":\"41.834261597\",\"location\":{\"type\":\"Point\",\"coordinates\":[-87.719406,41.834262]},\"location_description\":\"STREET\",\"longitude\":\"-87.719405832\",\"primary_type\":\"BATTERY\",\"updated_on\":\"2017-04-08T15:49:53.000\",\"ward\":\"22\",\"x_coordinate\":\"1151556\",\"y_coordinate\":\"1882793\",\"year\":\"2017\"}\n",
      ",{\"arrest\":true,\"beat\":\"0715\",\"block\":\"016XX W 59TH ST\",\"case_number\":\"JA208981\",\"community_area\":\"67\",\"date\":\"2017-04-01T17:57:00.000\",\"description\":\"OBSTRUCTING IDENTIFICATION\",\"district\":\"007\",\"domestic\":false,\"fbi_code\":\"24\",\"id\":\"10897535\",\"iucr\":\"3731\",\"latitude\":\"41.786736065\",\"location\":{\"type\":\"Point\",\"coordinates\":[-87.665291,41.786736]},\"location_description\":\"PARKING LOT/GARAGE(NON.RESID.)\",\"longitude\":\"-87.665290751\",\"primary_type\":\"INTERFERENCE WITH PUBLIC OFFICER\",\"updated_on\":\"2017-04-08T15:49:53.000\",\"ward\":\"15\",\"x_coordinate\":\"1166438\",\"y_coordinate\":\"1865585\",\"year\":\"2017\"}\n",
      ",{\"arrest\":false,\"beat\":\"0825\",\"block\":\"063XX S WASHTENAW AVE\",\"case_number\":\"JA230852\",\"community_area\":\"66\",\"date\":\"2017-04-01T18:00:00.000\",\"description\":\"AGGRAVATED DOMESTIC BATTERY: HANDS/FIST/FEET SERIOUS INJURY\",\"district\":\"008\",\"domestic\":true,\"fbi_code\":\"04B\",\"id\":\"10917544\",\"iucr\":\"0498\",\"latitude\":\"41.778237792\",\"location\":{\"type\":\"Point\",\"coordinates\":[-87.690933,41.778238]},\"location_description\":\"RESIDENCE\",\"longitude\":\"-87.690932886\",\"primary_type\":\"BATTERY\",\"updated_on\":\"2017-04-24T15:54:56.000\",\"ward\":\"15\",\"x_coordinate\":\"1159468\",\"y_coordinate\":\"1862435\",\"year\":\"2017\"}\n",
      ",{\"arrest\":false,\"beat\":\"0322\",\"block\":\"066XX S WABASH AVE\",\"case_number\":\"JA209005\",\"community_area\":\"69\",\"date\":\"2017-04-01T18:00:00.000\",\"description\":\"AGGRAVATED: HANDGUN\",\"district\":\"003\",\"domestic\":false,\"fbi_code\":\"04A\",\"id\":\"10897763\",\"iucr\":\"051A\",\"latitude\":\"41.774243296\",\"location\":{\"type\":\"Point\",\"coordinates\":[-87.623965,41.774243]},\"location_description\":\"APARTMENT\",\"longitude\":\"-87.623964784\",\"primary_type\":\"ASSAULT\",\"updated_on\":\"2017-04-23T15:47:22.000\",\"ward\":\"20\",\"x_coordinate\":\"1177746\",\"y_coordinate\":\"1861123\",\"year\":\"2017\"}\n",
      ",{\"arrest\":false,\"beat\":\"1224\",\"block\":\"001XX N PEORIA ST\",\"case_number\":\"JA208767\",\"community_area\":\"28\",\"date\":\"2017-04-01T18:00:00.000\",\"description\":\"FORCIBLE ENTRY\",\"district\":\"012\",\"domestic\":false,\"fbi_code\":\"05\",\"id\":\"10897618\",\"iucr\":\"0610\",\"latitude\":\"41.883552879\",\"location\":{\"type\":\"Point\",\"coordinates\":[-87.649748,41.883553]},\"location_description\":\"RESIDENCE-GARAGE\",\"longitude\":\"-87.649748252\",\"primary_type\":\"BURGLARY\",\"updated_on\":\"2017-04-18T15:57:31.000\",\"ward\":\"27\",\"x_coordinate\":\"1170396\",\"y_coordinate\":\"1900898\",\"year\":\"2017\"}\n",
      ",{\"arrest\":false,\"beat\":\"2232\",\"block\":\"102XX S MORGAN ST\",\"case_number\":\"JA224385\",\"community_area\":\"73\",\"date\":\"2017-04-01T18:00:00.000\",\"description\":\"$500 AND UNDER\",\"district\":\"022\",\"domestic\":false,\"fbi_code\":\"06\",\"id\":\"10911782\",\"iucr\":\"0820\",\"latitude\":\"41.70808779\",\"location\":{\"type\":\"Point\",\"coordinates\":[-87.647728,41.708088]},\"location_description\":\"RESIDENCE\",\"longitude\":\"-87.647728277\",\"primary_type\":\"THEFT\",\"updated_on\":\"2017-04-17T16:05:36.000\",\"ward\":\"34\",\"x_coordinate\":\"1171456\",\"y_coordinate\":\"1836964\",\"year\":\"2017\"}\n",
      ",{\"arrest\":false,\"beat\":\"1813\",\"block\":\"016XX N CLEVELAND AVE\",\"case_number\":\"JA210749\",\"community_area\":\"7\",\"date\":\"2017-04-01T18:00:00.000\",\"description\":\"OVER $500\",\"district\":\"018\",\"domestic\":false,\"fbi_code\":\"06\",\"id\":\"10899126\",\"iucr\":\"0810\",\"latitude\":\"41.911195428\",\"location\":{\"type\":\"Point\",\"coordinates\":[-87.641022,41.911195]},\"location_description\":\"VEHICLE NON-COMMERCIAL\",\"longitude\":\"-87.641021859\",\"primary_type\":\"THEFT\",\"updated_on\":\"2017-04-08T15:49:53.000\",\"ward\":\"43\",\"x_coordinate\":\"1172691\",\"y_coordinate\":\"1910990\",\"year\":\"2017\"}\n",
      ",{\"arrest\":false,\"beat\":\"0234\",\"block\":\"013XX E 52ND ST\",\"case_number\":\"JA209911\",\"community_area\":\"41\",\"date\":\"2017-04-01T18:00:00.000\",\"description\":\"OVER $500\",\"district\":\"002\",\"domestic\":false,\"fbi_code\":\"06\",\"id\":\"10898329\",\"iucr\":\"0810\",\"latitude\":\"41.800952636\",\"location\":{\"type\":\"Point\",\"coordinates\":[-87.593813,41.800953]},\"location_description\":\"STREET\",\"longitude\":\"-87.593812648\",\"primary_type\":\"THEFT\",\"updated_on\":\"2017-04-08T15:49:53.000\",\"ward\":\"4\",\"x_coordinate\":\"1185887\",\"y_coordinate\":\"1870925\",\"year\":\"2017\"}\n",
      ",{\"arrest\":false,\"beat\":\"1925\",\"block\":\"007XX W BELMONT AVE\",\"case_number\":\"JA209430\",\"community_area\":\"6\",\"date\":\"2017-04-01T18:00:00.000\",\"description\":\"$500 AND UNDER\",\"district\":\"019\",\"domestic\":false,\"fbi_code\":\"06\",\"id\":\"10897935\",\"iucr\":\"0820\",\"latitude\":\"41.940007734\",\"location\":{\"type\":\"Point\",\"coordinates\":[-87.647543,41.940008]},\"location_description\":\"STREET\",\"longitude\":\"-87.647543084\",\"primary_type\":\"THEFT\",\"updated_on\":\"2017-04-08T15:49:53.000\",\"ward\":\"44\",\"x_coordinate\":\"1170832\",\"y_coordinate\":\"1921475\",\"year\":\"2017\"}\n",
      ",{\"arrest\":false,\"beat\":\"0334\",\"block\":\"072XX S COLES AVE\",\"case_number\":\"JA209382\",\"community_area\":\"43\",\"date\":\"2017-04-01T18:00:00.000\",\"description\":\"AUTOMOBILE\",\"district\":\"003\",\"domestic\":false,\"fbi_code\":\"07\",\"id\":\"10897889\",\"iucr\":\"0910\",\"latitude\":\"41.764655525\",\"location\":{\"type\":\"Point\",\"coordinates\":[-87.563143,41.764656]},\"location_description\":\"RESIDENTIAL YARD (FRONT/BACK)\",\"longitude\":\"-87.563142582\",\"primary_type\":\"MOTOR VEHICLE THEFT\",\"updated_on\":\"2017-04-08T15:49:53.000\",\"ward\":\"7\",\"x_coordinate\":\"1194368\",\"y_coordinate\":\"1857772\",\"year\":\"2017\"}\n",
      ",{\"arrest\":true,\"beat\":\"0433\",\"block\":\"035XX E 118TH ST\",\"case_number\":\"JA209048\",\"community_area\":\"55\",\"date\":\"2017-04-01T18:00:00.000\",\"description\":\"RETAIL THEFT\",\"district\":\"004\",\"domestic\":false,\"fbi_code\":\"06\",\"id\":\"10897692\",\"iucr\":\"0860\",\"latitude\":\"41.68094392\",\"location\":{\"type\":\"Point\",\"coordinates\":[-87.5371,41.680944]},\"location_description\":\"SMALL RETAIL STORE\",\"longitude\":\"-87.537099797\",\"primary_type\":\"THEFT\",\"updated_on\":\"2017-04-08T15:49:53.000\",\"ward\":\"10\",\"x_coordinate\":\"1201755\",\"y_coordinate\":\"1827333\",\"year\":\"2017\"}\n",
      ",{\"arrest\":false,\"beat\":\"0324\",\"block\":\"072XX S RIDGELAND AVE\",\"case_number\":\"JA209047\",\"community_area\":\"43\",\"date\":\"2017-04-01T18:00:00.000\",\"description\":\"THEFT OF LABOR/SERVICES\",\"district\":\"003\",\"domestic\":false,\"fbi_code\":\"11\",\"id\":\"10897679\",\"iucr\":\"1210\",\"latitude\":\"41.763040177\",\"location\":{\"type\":\"Point\",\"coordinates\":[-87.582369,41.76304]},\"location_description\":\"STREET\",\"longitude\":\"-87.582368591\",\"primary_type\":\"DECEPTIVE PRACTICE\",\"updated_on\":\"2017-04-08T15:49:53.000\",\"ward\":\"8\",\"x_coordinate\":\"1189128\",\"y_coordinate\":\"1857137\",\"year\":\"2017\"}\n",
      ",{\"arrest\":false,\"beat\":\"2423\",\"block\":\"070XX N Sheridan Rd\",\"case_number\":\"JA209097\",\"community_area\":\"1\",\"date\":\"2017-04-01T18:00:00.000\",\"description\":\"FROM BUILDING\",\"district\":\"024\",\"domestic\":false,\"fbi_code\":\"06\",\"id\":\"10897628\",\"iucr\":\"0890\",\"latitude\":\"42.009968018\",\"location\":{\"type\":\"Point\",\"coordinates\":[-87.662346,42.009968]},\"location_description\":\"APARTMENT\",\"longitude\":\"-87.662345576\",\"primary_type\":\"THEFT\",\"updated_on\":\"2017-04-08T15:49:53.000\",\"ward\":\"49\",\"x_coordinate\":\"1166605\",\"y_coordinate\":\"1946937\",\"year\":\"2017\"}\n",
      ",{\"arrest\":false,\"beat\":\"1013\",\"block\":\"022XX S KEELER AVE\",\"case_number\":\"JA209006\",\"community_area\":\"29\",\"date\":\"2017-04-01T18:00:00.000\",\"description\":\"AUTOMOBILE\",\"district\":\"010\",\"domestic\":false,\"fbi_code\":\"07\",\"id\":\"10897556\",\"iucr\":\"0910\",\"latitude\":\"41.850660328\",\"location\":{\"type\":\"Point\",\"coordinates\":[-87.72957,41.85066]},\"location_description\":\"STREET\",\"longitude\":\"-87.729570246\",\"primary_type\":\"MOTOR VEHICLE THEFT\",\"updated_on\":\"2017-04-08T15:49:53.000\",\"ward\":\"22\",\"x_coordinate\":\"1148744\",\"y_coordinate\":\"1888749\",\"year\":\"2017\"}\n",
      ",{\"arrest\":false,\"beat\":\"1513\",\"block\":\"056XX W MADISON ST\",\"case_number\":\"JA208970\",\"community_area\":\"25\",\"date\":\"2017-04-01T18:00:00.000\",\"description\":\"FROM BUILDING\",\"district\":\"015\",\"domestic\":false,\"fbi_code\":\"06\",\"id\":\"10897516\",\"iucr\":\"0890\",\"latitude\":\"41.880237469\",\"location\":{\"type\":\"Point\",\"coordinates\":[-87.765528,41.880237]},\"location_description\":\"SMALL RETAIL STORE\",\"longitude\":\"-87.76552823\",\"primary_type\":\"THEFT\",\"updated_on\":\"2017-04-08T15:49:53.000\",\"ward\":\"29\",\"x_coordinate\":\"1138876\",\"y_coordinate\":\"1899460\",\"year\":\"2017\"}\n",
      ",{\"arrest\":false,\"beat\":\"2211\",\"block\":\"106XX S CENTRAL PARK AVE\",\"case_number\":\"JA209191\",\"community_area\":\"74\",\"date\":\"2017-04-01T18:09:00.000\",\"description\":\"FORCIBLE ENTRY\",\"district\":\"022\",\"domestic\":true,\"fbi_code\":\"05\",\"id\":\"10897762\",\"iucr\":\"0610\",\"latitude\":\"41.6995748\",\"location\":{\"type\":\"Point\",\"coordinates\":[-87.710882,41.699575]},\"location_description\":\"RESIDENCE-GARAGE\",\"longitude\":\"-87.710882262\",\"primary_type\":\"BURGLARY\",\"updated_on\":\"2017-04-08T15:49:53.000\",\"ward\":\"19\",\"x_coordinate\":\"1154234\",\"y_coordinate\":\"1833731\",\"year\":\"2017\"}\n",
      ",{\"arrest\":false,\"beat\":\"0334\",\"block\":\"073XX S SOUTH SHORE DR\",\"case_number\":\"JA209202\",\"community_area\":\"43\",\"date\":\"2017-04-01T18:15:00.000\",\"description\":\"OVER $500\",\"district\":\"003\",\"domestic\":false,\"fbi_code\":\"06\",\"id\":\"10897801\",\"iucr\":\"0810\",\"latitude\":\"41.763305308\",\"location\":{\"type\":\"Point\",\"coordinates\":[-87.559871,41.763305]},\"location_description\":\"APARTMENT\",\"longitude\":\"-87.559870854\",\"primary_type\":\"THEFT\",\"updated_on\":\"2017-04-08T15:49:53.000\",\"ward\":\"7\",\"x_coordinate\":\"1195265\",\"y_coordinate\":\"1857288\",\"year\":\"2017\"}\n",
      ",{\"arrest\":true,\"beat\":\"0711\",\"block\":\"056XX S SHIELDS AVE\",\"case_number\":\"JA208964\",\"community_area\":\"68\",\"date\":\"2017-04-01T18:20:00.000\",\"description\":\"AGGRAVATED DOMESTIC BATTERY: OTHER DANG WEAPON\",\"district\":\"007\",\"domestic\":true,\"fbi_code\":\"04B\",\"id\":\"10897661\",\"iucr\":\"0497\",\"latitude\":\"41.791388486\",\"location\":{\"type\":\"Point\",\"coordinates\":[-87.634076,41.791388]},\"location_description\":\"RESIDENCE\",\"longitude\":\"-87.634076435\",\"primary_type\":\"BATTERY\",\"updated_on\":\"2017-04-09T15:55:05.000\",\"ward\":\"3\",\"x_coordinate\":\"1174937\",\"y_coordinate\":\"1867348\",\"year\":\"2017\"}\n",
      ",{\"arrest\":false,\"beat\":\"1723\",\"block\":\"039XX W LAWRENCE AVE\",\"case_number\":\"JA209594\",\"community_area\":\"14\",\"date\":\"2017-04-01T18:20:00.000\",\"description\":\"TO PROPERTY\",\"district\":\"017\",\"domestic\":false,\"fbi_code\":\"14\",\"id\":\"10898066\",\"iucr\":\"1310\",\"latitude\":\"41.968257372\",\"location\":{\"type\":\"Point\",\"coordinates\":[-87.726133,41.968257]},\"location_description\":\"WAREHOUSE\",\"longitude\":\"-87.726133447\",\"primary_type\":\"CRIMINAL DAMAGE\",\"updated_on\":\"2017-04-08T15:49:53.000\",\"ward\":\"39\",\"x_coordinate\":\"1149377\",\"y_coordinate\":\"1931608\",\"year\":\"2017\"}\n",
      ",{\"arrest\":true,\"beat\":\"0434\",\"block\":\"103XX S DOTY AVE E\",\"case_number\":\"JA208985\",\"community_area\":\"51\",\"date\":\"2017-04-01T18:20:00.000\",\"description\":\"SIMPLE\",\"district\":\"004\",\"domestic\":false,\"fbi_code\":\"08A\",\"id\":\"10897746\",\"iucr\":\"0560\",\"latitude\":\"41.707756212\",\"location\":{\"type\":\"Point\",\"coordinates\":[-87.580709,41.707756]},\"location_description\":\"OTHER\",\"longitude\":\"-87.580708771\",\"primary_type\":\"ASSAULT\",\"updated_on\":\"2017-04-08T15:49:53.000\",\"ward\":\"10\",\"x_coordinate\":\"1189757\",\"y_coordinate\":\"1836996\",\"year\":\"2017\"}\n",
      ",{\"arrest\":true,\"beat\":\"0331\",\"block\":\"021XX E 70TH ST\",\"case_number\":\"JA209019\",\"community_area\":\"43\",\"date\":\"2017-04-01T18:20:00.000\",\"description\":\"UNLAWFUL POSS OF HANDGUN\",\"district\":\"003\",\"domestic\":false,\"fbi_code\":\"15\",\"id\":\"10897722\",\"iucr\":\"143A\",\"latitude\":\"41.768020578\",\"location\":{\"type\":\"Point\",\"coordinates\":[-87.572285,41.768021]},\"location_description\":\"APARTMENT\",\"longitude\":\"-87.572284866\",\"primary_type\":\"WEAPONS VIOLATION\",\"updated_on\":\"2017-04-08T15:49:53.000\",\"ward\":\"5\",\"x_coordinate\":\"1191863\",\"y_coordinate\":\"1858976\",\"year\":\"2017\"}\n",
      ",{\"arrest\":false,\"beat\":\"0624\",\"block\":\"008XX E 80TH ST\",\"case_number\":\"JA208977\",\"community_area\":\"44\",\"date\":\"2017-04-01T18:22:00.000\",\"description\":\"TO PROPERTY\",\"district\":\"006\",\"domestic\":false,\"fbi_code\":\"14\",\"id\":\"10897695\",\"iucr\":\"1310\",\"latitude\":\"41.749466462\",\"location\":{\"type\":\"Point\",\"coordinates\":[-87.604463,41.749466]},\"location_description\":\"APARTMENT\",\"longitude\":\"-87.604463281\",\"primary_type\":\"CRIMINAL DAMAGE\",\"updated_on\":\"2017-04-08T15:49:53.000\",\"ward\":\"8\",\"x_coordinate\":\"1183142\",\"y_coordinate\":\"1852139\",\"year\":\"2017\"}\n",
      ",{\"arrest\":false,\"beat\":\"0431\",\"block\":\"099XX S YATES AVE\",\"case_number\":\"JA209017\",\"community_area\":\"51\",\"date\":\"2017-04-01T18:22:00.000\",\"description\":\"$500 AND UNDER\",\"district\":\"004\",\"domestic\":false,\"fbi_code\":\"06\",\"id\":\"10897558\",\"iucr\":\"0820\",\"latitude\":\"41.714395088\",\"location\":{\"type\":\"Point\",\"coordinates\":[-87.564596,41.714395]},\"location_description\":\"RESIDENCE\",\"longitude\":\"-87.564596315\",\"primary_type\":\"THEFT\",\"updated_on\":\"2017-04-08T15:49:53.000\",\"ward\":\"7\",\"x_coordinate\":\"1194135\",\"y_coordinate\":\"1839454\",\"year\":\"2017\"}\n",
      ",{\"arrest\":false,\"beat\":\"0722\",\"block\":\"068XX S PERRY AVE\",\"case_number\":\"JA208979\",\"community_area\":\"69\",\"date\":\"2017-04-01T18:24:00.000\",\"description\":\"TO VEHICLE\",\"district\":\"007\",\"domestic\":false,\"fbi_code\":\"14\",\"id\":\"10897667\",\"iucr\":\"1320\",\"latitude\":\"41.770227581\",\"location\":{\"type\":\"Point\",\"coordinates\":[-87.628291,41.770228]},\"location_description\":\"STREET\",\"longitude\":\"-87.628290698\",\"primary_type\":\"CRIMINAL DAMAGE\",\"updated_on\":\"2017-04-08T15:49:53.000\",\"ward\":\"6\",\"x_coordinate\":\"1176578\",\"y_coordinate\":\"1859650\",\"year\":\"2017\"}\n",
      ",{\"arrest\":true,\"beat\":\"0725\",\"block\":\"063XX S ASHLAND AVE\",\"case_number\":\"JA208976\",\"community_area\":\"67\",\"date\":\"2017-04-01T18:25:00.000\",\"description\":\"AGG PO HANDS NO/MIN INJURY\",\"district\":\"007\",\"domestic\":false,\"fbi_code\":\"08B\",\"id\":\"10897748\",\"iucr\":\"0454\",\"latitude\":\"41.778883826\",\"location\":{\"type\":\"Point\",\"coordinates\":[-87.664206,41.778884]},\"location_description\":\"CTA STATION\",\"longitude\":\"-87.664206366\",\"primary_type\":\"BATTERY\",\"updated_on\":\"2017-04-08T15:49:53.000\",\"ward\":\"16\",\"x_coordinate\":\"1166756\",\"y_coordinate\":\"1862726\",\"year\":\"2017\"}\n",
      ",{\"arrest\":false,\"beat\":\"0924\",\"block\":\"016XX W 44TH ST\",\"case_number\":\"JA208997\",\"community_area\":\"61\",\"date\":\"2017-04-01T18:25:00.000\",\"description\":\"BY FIRE\",\"district\":\"009\",\"domestic\":false,\"fbi_code\":\"09\",\"id\":\"10897688\",\"iucr\":\"1020\",\"latitude\":\"41.814047914\",\"location\":{\"type\":\"Point\",\"coordinates\":[-87.665891,41.814048]},\"location_description\":\"STREET\",\"longitude\":\"-87.665891078\",\"primary_type\":\"ARSON\",\"updated_on\":\"2017-04-08T15:49:53.000\",\"ward\":\"12\",\"x_coordinate\":\"1166197\",\"y_coordinate\":\"1875536\",\"year\":\"2017\"}\n",
      ",{\"arrest\":true,\"beat\":\"0322\",\"block\":\"0000X E MARQUETTE RD\",\"case_number\":\"JA209007\",\"community_area\":\"69\",\"date\":\"2017-04-01T18:25:00.000\",\"description\":\"UNLAWFUL POSS OF HANDGUN\",\"district\":\"003\",\"domestic\":false,\"fbi_code\":\"15\",\"id\":\"10897678\",\"iucr\":\"143A\",\"latitude\":\"41.772753715\",\"location\":{\"type\":\"Point\",\"coordinates\":[-87.624502,41.772754]},\"location_description\":\"SIDEWALK\",\"longitude\":\"-87.624501762\",\"primary_type\":\"WEAPONS VIOLATION\",\"updated_on\":\"2017-04-08T15:49:53.000\",\"ward\":\"20\",\"x_coordinate\":\"1177604\",\"y_coordinate\":\"1860579\",\"year\":\"2017\"}\n",
      ",{\"arrest\":false,\"beat\":\"1834\",\"block\":\"004XX N PARK DR\",\"case_number\":\"JA209665\",\"community_area\":\"8\",\"date\":\"2017-04-01T18:30:00.000\",\"description\":\"FROM BUILDING\",\"district\":\"018\",\"domestic\":false,\"fbi_code\":\"06\",\"id\":\"10898141\",\"iucr\":\"0890\",\"latitude\":\"41.89031518\",\"location\":{\"type\":\"Point\",\"coordinates\":[-87.619608,41.890315]},\"location_description\":\"HOTEL/MOTEL\",\"longitude\":\"-87.619607985\",\"primary_type\":\"THEFT\",\"updated_on\":\"2017-04-08T15:49:53.000\",\"ward\":\"42\",\"x_coordinate\":\"1178583\",\"y_coordinate\":\"1903429\",\"year\":\"2017\"}\n",
      ",{\"arrest\":false,\"beat\":\"1824\",\"block\":\"011XX N STATE ST\",\"case_number\":\"JA209049\",\"community_area\":\"8\",\"date\":\"2017-04-01T18:30:00.000\",\"description\":\"RETAIL THEFT\",\"district\":\"018\",\"domestic\":false,\"fbi_code\":\"06\",\"id\":\"10897601\",\"iucr\":\"0860\",\"latitude\":\"41.901993756\",\"location\":{\"type\":\"Point\",\"coordinates\":[-87.628349,41.901994]},\"location_description\":\"DEPARTMENT STORE\",\"longitude\":\"-87.628349059\",\"primary_type\":\"THEFT\",\"updated_on\":\"2017-04-08T15:49:53.000\",\"ward\":\"42\",\"x_coordinate\":\"1176168\",\"y_coordinate\":\"1907665\",\"year\":\"2017\"}\n",
      ",{\"arrest\":true,\"beat\":\"2533\",\"block\":\"046XX W NORTH AVE\",\"case_number\":\"JA208989\",\"community_area\":\"25\",\"date\":\"2017-04-01T18:30:00.000\",\"description\":\"RETAIL THEFT\",\"district\":\"025\",\"domestic\":false,\"fbi_code\":\"06\",\"id\":\"10897549\",\"iucr\":\"0860\",\"latitude\":\"41.909664252\",\"location\":{\"type\":\"Point\",\"coordinates\":[-87.742729,41.909664]},\"location_description\":\"SMALL RETAIL STORE\",\"longitude\":\"-87.742728815\",\"primary_type\":\"THEFT\",\"updated_on\":\"2017-04-08T15:49:53.000\",\"ward\":\"37\",\"x_coordinate\":\"1145011\",\"y_coordinate\":\"1910225\",\"year\":\"2017\"}\n",
      ",{\"arrest\":false,\"beat\":\"0122\",\"block\":\"002XX N CLARK ST\",\"case_number\":\"JA210671\",\"community_area\":\"32\",\"date\":\"2017-04-01T18:32:00.000\",\"description\":\"$500 AND UNDER\",\"district\":\"001\",\"domestic\":false,\"fbi_code\":\"06\",\"id\":\"10899127\",\"iucr\":\"0820\",\"latitude\":\"41.887059444\",\"location\":{\"type\":\"Point\",\"coordinates\":[-87.631007,41.887059]},\"location_description\":\"STREET\",\"longitude\":\"-87.631006896\",\"primary_type\":\"THEFT\",\"updated_on\":\"2017-04-08T15:49:53.000\",\"ward\":\"42\",\"x_coordinate\":\"1175489\",\"y_coordinate\":\"1902217\",\"year\":\"2017\"}\n",
      ",{\"arrest\":true,\"beat\":\"0512\",\"block\":\"006XX E 105TH ST\",\"case_number\":\"JA209024\",\"community_area\":\"50\",\"date\":\"2017-04-01T18:33:00.000\",\"description\":\"RECKLESS CONDUCT\",\"district\":\"005\",\"domestic\":false,\"fbi_code\":\"24\",\"id\":\"10897590\",\"iucr\":\"0470\",\"latitude\":\"41.703764292\",\"location\":{\"type\":\"Point\",\"coordinates\":[-87.606888,41.703764]},\"location_description\":\"ALLEY\",\"longitude\":\"-87.606887586\",\"primary_type\":\"PUBLIC PEACE VIOLATION\",\"updated_on\":\"2017-04-08T15:49:53.000\",\"ward\":\"9\",\"x_coordinate\":\"1182621\",\"y_coordinate\":\"1835480\",\"year\":\"2017\"}\n",
      ",{\"arrest\":false,\"beat\":\"0111\",\"block\":\"001XX N STATE ST\",\"case_number\":\"JA209075\",\"community_area\":\"32\",\"date\":\"2017-04-01T18:35:00.000\",\"description\":\"COUNTERFEITING DOCUMENT\",\"district\":\"001\",\"domestic\":false,\"fbi_code\":\"10\",\"id\":\"10897682\",\"iucr\":\"1121\",\"latitude\":\"41.883475491\",\"location\":{\"type\":\"Point\",\"coordinates\":[-87.627877,41.883475]},\"location_description\":\"RESTAURANT\",\"longitude\":\"-87.627876969\",\"primary_type\":\"DECEPTIVE PRACTICE\",\"updated_on\":\"2017-04-08T15:49:53.000\",\"ward\":\"42\",\"x_coordinate\":\"1176352\",\"y_coordinate\":\"1900918\",\"year\":\"2017\"}\n",
      ",{\"arrest\":true,\"beat\":\"0533\",\"block\":\"007XX E 133RD ST\",\"case_number\":\"JA209011\",\"community_area\":\"54\",\"date\":\"2017-04-01T18:35:00.000\",\"description\":\"TO STATE SUP LAND\",\"district\":\"005\",\"domestic\":false,\"fbi_code\":\"26\",\"id\":\"10897585\",\"iucr\":\"1350\",\"latitude\":\"41.654363697\",\"location\":{\"type\":\"Point\",\"coordinates\":[-87.603886,41.654364]},\"location_description\":\"CHA PARKING LOT/GROUNDS\",\"longitude\":\"-87.603886182\",\"primary_type\":\"CRIMINAL TRESPASS\",\"updated_on\":\"2017-04-08T15:49:53.000\",\"ward\":\"9\",\"x_coordinate\":\"1183593\",\"y_coordinate\":\"1817486\",\"year\":\"2017\"}\n",
      ",{\"arrest\":false,\"beat\":\"1822\",\"block\":\"012XX N LARRABEE ST\",\"case_number\":\"JA209000\",\"community_area\":\"8\",\"date\":\"2017-04-01T18:40:00.000\",\"description\":\"FROM BUILDING\",\"district\":\"018\",\"domestic\":false,\"fbi_code\":\"06\",\"id\":\"10899785\",\"iucr\":\"0890\",\"latitude\":\"41.903996883\",\"location\":{\"type\":\"Point\",\"coordinates\":[-87.64323,41.903997]},\"location_description\":\"SMALL RETAIL STORE\",\"longitude\":\"-87.643230238\",\"primary_type\":\"THEFT\",\"updated_on\":\"2017-04-10T15:48:51.000\",\"ward\":\"27\",\"x_coordinate\":\"1172111\",\"y_coordinate\":\"1908362\",\"year\":\"2017\"}\n",
      ",{\"arrest\":false,\"beat\":\"0833\",\"block\":\"047XX W MARQUETTE RD\",\"case_number\":\"JA210669\",\"community_area\":\"65\",\"date\":\"2017-04-01T18:40:00.000\",\"description\":\"CRIMINAL DEFACEMENT\",\"district\":\"008\",\"domestic\":false,\"fbi_code\":\"14\",\"id\":\"10899233\",\"iucr\":\"1305\",\"latitude\":\"41.7711605\",\"location\":{\"type\":\"Point\",\"coordinates\":[-87.739965,41.771161]},\"location_description\":\"PARK PROPERTY\",\"longitude\":\"-87.739964917\",\"primary_type\":\"CRIMINAL DAMAGE\",\"updated_on\":\"2017-04-08T15:49:53.000\",\"ward\":\"13\",\"x_coordinate\":\"1146112\",\"y_coordinate\":\"1859760\",\"year\":\"2017\"}\n",
      ",{\"arrest\":false,\"beat\":\"0332\",\"block\":\"070XX S DANTE AVE\",\"case_number\":\"JA209030\",\"community_area\":\"43\",\"date\":\"2017-04-01T18:40:00.000\",\"description\":\"SIMPLE\",\"district\":\"003\",\"domestic\":false,\"fbi_code\":\"08B\",\"id\":\"10897581\",\"iucr\":\"0460\",\"latitude\":\"41.76661001\",\"location\":{\"type\":\"Point\",\"coordinates\":[-87.589464,41.76661]},\"location_description\":\"SIDEWALK\",\"longitude\":\"-87.589463891\",\"primary_type\":\"BATTERY\",\"updated_on\":\"2017-04-08T15:49:53.000\",\"ward\":\"5\",\"x_coordinate\":\"1187181\",\"y_coordinate\":\"1858421\",\"year\":\"2017\"}\n",
      ",{\"arrest\":false,\"beat\":\"0632\",\"block\":\"085XX S COTTAGE GROVE AVE\",\"case_number\":\"JA209009\",\"community_area\":\"44\",\"date\":\"2017-04-01T18:40:00.000\",\"description\":\"RETAIL THEFT\",\"district\":\"006\",\"domestic\":false,\"fbi_code\":\"06\",\"id\":\"10897532\",\"iucr\":\"0860\",\"latitude\":\"41.739727015\",\"location\":{\"type\":\"Point\",\"coordinates\":[-87.604911,41.739727]},\"location_description\":\"OTHER\",\"longitude\":\"-87.604910522\",\"primary_type\":\"THEFT\",\"updated_on\":\"2017-04-08T15:49:53.000\",\"ward\":\"6\",\"x_coordinate\":\"1183050\",\"y_coordinate\":\"1848589\",\"year\":\"2017\"}\n",
      ",{\"arrest\":true,\"beat\":\"1524\",\"block\":\"054XX W CHICAGO AVE\",\"case_number\":\"JA208996\",\"community_area\":\"25\",\"date\":\"2017-04-01T18:43:00.000\",\"description\":\"RETAIL THEFT\",\"district\":\"015\",\"domestic\":false,\"fbi_code\":\"06\",\"id\":\"10897702\",\"iucr\":\"0860\",\"latitude\":\"41.894885819\",\"location\":{\"type\":\"Point\",\"coordinates\":[-87.761017,41.894886]},\"location_description\":\"SMALL RETAIL STORE\",\"longitude\":\"-87.761016679\",\"primary_type\":\"THEFT\",\"updated_on\":\"2017-04-08T15:49:53.000\",\"ward\":\"37\",\"x_coordinate\":\"1140069\",\"y_coordinate\":\"1904806\",\"year\":\"2017\"}\n",
      ",{\"arrest\":false,\"beat\":\"2521\",\"block\":\"050XX W MONTANA ST\",\"case_number\":\"JA208994\",\"community_area\":\"19\",\"date\":\"2017-04-01T18:45:00.000\",\"description\":\"DOMESTIC BATTERY SIMPLE\",\"district\":\"025\",\"domestic\":true,\"fbi_code\":\"08B\",\"id\":\"10897580\",\"iucr\":\"0486\",\"latitude\":\"41.925110702\",\"location\":{\"type\":\"Point\",\"coordinates\":[-87.752247,41.925111]},\"location_description\":\"APARTMENT\",\"longitude\":\"-87.752247101\",\"primary_type\":\"BATTERY\",\"updated_on\":\"2017-04-08T15:49:53.000\",\"ward\":\"31\",\"x_coordinate\":\"1142382\",\"y_coordinate\":\"1915836\",\"year\":\"2017\"}\n",
      ",{\"arrest\":false,\"beat\":\"1824\",\"block\":\"011XX N STATE ST\",\"case_number\":\"JA208990\",\"community_area\":\"8\",\"date\":\"2017-04-01T18:45:00.000\",\"description\":\"RETAIL THEFT\",\"district\":\"018\",\"domestic\":false,\"fbi_code\":\"06\",\"id\":\"10897523\",\"iucr\":\"0860\",\"latitude\":\"41.901993756\",\"location\":{\"type\":\"Point\",\"coordinates\":[-87.628349,41.901994]},\"location_description\":\"SMALL RETAIL STORE\",\"longitude\":\"-87.628349059\",\"primary_type\":\"THEFT\",\"updated_on\":\"2017-04-08T15:49:53.000\",\"ward\":\"42\",\"x_coordinate\":\"1176168\",\"y_coordinate\":\"1907665\",\"year\":\"2017\"}\n",
      ",{\"arrest\":false,\"beat\":\"0811\",\"block\":\"051XX S NEENAH AVE\",\"case_number\":\"JA209004\",\"community_area\":\"56\",\"date\":\"2017-04-01T18:47:00.000\",\"description\":\"DOMESTIC BATTERY SIMPLE\",\"district\":\"008\",\"domestic\":true,\"fbi_code\":\"08B\",\"id\":\"10897697\",\"iucr\":\"0486\",\"latitude\":\"41.798728865\",\"location\":{\"type\":\"Point\",\"coordinates\":[-87.785664,41.798729]},\"location_description\":\"RESIDENCE\",\"longitude\":\"-87.785663798\",\"primary_type\":\"BATTERY\",\"updated_on\":\"2017-04-08T15:49:53.000\",\"ward\":\"23\",\"x_coordinate\":\"1133582\",\"y_coordinate\":\"1869723\",\"year\":\"2017\"}\n",
      ",{\"arrest\":true,\"beat\":\"0432\",\"block\":\"109XX S MACKINAW AVE\",\"case_number\":\"JA209013\",\"community_area\":\"52\",\"date\":\"2017-04-01T18:47:00.000\",\"description\":\"AGGRAVATED DOMESTIC BATTERY: OTHER DANG WEAPON\",\"district\":\"004\",\"domestic\":false,\"fbi_code\":\"04B\",\"id\":\"10897683\",\"iucr\":\"0497\",\"latitude\":\"41.696574914\",\"location\":{\"type\":\"Point\",\"coordinates\":[-87.542564,41.696575]},\"location_description\":\"RESIDENCE\",\"longitude\":\"-87.542564225\",\"primary_type\":\"BATTERY\",\"updated_on\":\"2017-04-08T15:49:53.000\",\"ward\":\"10\",\"x_coordinate\":\"1200210\",\"y_coordinate\":\"1833015\",\"year\":\"2017\"}\n",
      ",{\"arrest\":false,\"beat\":\"0621\",\"block\":\"076XX S UNION AVE\",\"case_number\":\"JA209016\",\"community_area\":\"71\",\"date\":\"2017-04-01T18:50:00.000\",\"description\":\"DOMESTIC BATTERY SIMPLE\",\"district\":\"006\",\"domestic\":true,\"fbi_code\":\"08B\",\"id\":\"10897696\",\"iucr\":\"0486\",\"latitude\":\"41.755514708\",\"location\":{\"type\":\"Point\",\"coordinates\":[-87.641723,41.755515]},\"location_description\":\"RESIDENCE\",\"longitude\":\"-87.641722627\",\"primary_type\":\"BATTERY\",\"updated_on\":\"2017-04-08T15:49:53.000\",\"ward\":\"17\",\"x_coordinate\":\"1172957\",\"y_coordinate\":\"1854259\",\"year\":\"2017\"}\n",
      ",{\"arrest\":true,\"beat\":\"1011\",\"block\":\"037XX W ROOSEVELT RD\",\"case_number\":\"JA209033\",\"community_area\":\"29\",\"date\":\"2017-04-01T18:55:00.000\",\"description\":\"TO LAND\",\"district\":\"010\",\"domestic\":false,\"fbi_code\":\"26\",\"id\":\"10897582\",\"iucr\":\"1330\",\"latitude\":\"41.86625461\",\"location\":{\"type\":\"Point\",\"coordinates\":[-87.718968,41.866255]},\"location_description\":\"GAS STATION\",\"longitude\":\"-87.718967674\",\"primary_type\":\"CRIMINAL TRESPASS\",\"updated_on\":\"2017-04-08T15:49:53.000\",\"ward\":\"24\",\"x_coordinate\":\"1151592\",\"y_coordinate\":\"1894452\",\"year\":\"2017\"}\n",
      ",{\"arrest\":false,\"beat\":\"0133\",\"block\":\"027XX S STATE ST\",\"case_number\":\"JA215165\",\"community_area\":\"35\",\"date\":\"2017-04-01T19:00:00.000\",\"description\":\"$500 AND UNDER\",\"district\":\"001\",\"domestic\":false,\"fbi_code\":\"06\",\"id\":\"10904438\",\"iucr\":\"0820\",\"latitude\":\"41.843956605\",\"location\":{\"type\":\"Point\",\"coordinates\":[-87.626711,41.843957]},\"location_description\":\"STREET\",\"longitude\":\"-87.626711131\",\"primary_type\":\"THEFT\",\"updated_on\":\"2017-04-13T15:51:25.000\",\"ward\":\"3\",\"x_coordinate\":\"1176788\",\"y_coordinate\":\"1886520\",\"year\":\"2017\"}\n",
      ",{\"arrest\":false,\"beat\":\"0914\",\"block\":\"003XX W 24TH PL\",\"case_number\":\"JA211591\",\"community_area\":\"34\",\"date\":\"2017-04-01T19:00:00.000\",\"description\":\"ATTEMPT THEFT\",\"district\":\"009\",\"domestic\":false,\"fbi_code\":\"06\",\"id\":\"10899811\",\"iucr\":\"0850\",\"latitude\":\"41.848204364\",\"location\":{\"type\":\"Point\",\"coordinates\":[-87.635179,41.848204]},\"location_description\":\"STREET\",\"longitude\":\"-87.635179395\",\"primary_type\":\"THEFT\",\"updated_on\":\"2017-04-08T15:49:53.000\",\"ward\":\"25\",\"x_coordinate\":\"1174468\",\"y_coordinate\":\"1888049\",\"year\":\"2017\"}\n",
      ",{\"arrest\":false,\"beat\":\"0612\",\"block\":\"010XX W 77TH ST\",\"case_number\":\"JA210031\",\"community_area\":\"71\",\"date\":\"2017-04-01T19:00:00.000\",\"description\":\"TO VEHICLE\",\"district\":\"006\",\"domestic\":false,\"fbi_code\":\"14\",\"id\":\"10898544\",\"iucr\":\"1320\",\"latitude\":\"41.754185145\",\"location\":{\"type\":\"Point\",\"coordinates\":[-87.650679,41.754185]},\"location_description\":\"STREET\",\"longitude\":\"-87.650679262\",\"primary_type\":\"CRIMINAL DAMAGE\",\"updated_on\":\"2017-04-08T15:49:53.000\",\"ward\":\"17\",\"x_coordinate\":\"1170517\",\"y_coordinate\":\"1853755\",\"year\":\"2017\"}\n",
      ",{\"arrest\":false,\"beat\":\"0815\",\"block\":\"043XX W 48TH ST\",\"case_number\":\"JA209823\",\"community_area\":\"57\",\"date\":\"2017-04-01T19:00:00.000\",\"description\":\"TO VEHICLE\",\"district\":\"008\",\"domestic\":false,\"fbi_code\":\"14\",\"id\":\"10898261\",\"iucr\":\"1320\",\"latitude\":\"41.805929903\",\"location\":{\"type\":\"Point\",\"coordinates\":[-87.732422,41.80593]},\"location_description\":\"STREET\",\"longitude\":\"-87.73242219\",\"primary_type\":\"CRIMINAL DAMAGE\",\"updated_on\":\"2017-04-08T15:49:53.000\",\"ward\":\"23\",\"x_coordinate\":\"1148081\",\"y_coordinate\":\"1872444\",\"year\":\"2017\"}\n",
      ",{\"arrest\":false,\"beat\":\"0924\",\"block\":\"046XX S DAMEN AVE\",\"case_number\":\"JA209108\",\"community_area\":\"61\",\"date\":\"2017-04-01T19:00:00.000\",\"description\":\"CYCLE, SCOOTER, BIKE W-VIN\",\"district\":\"009\",\"domestic\":false,\"fbi_code\":\"07\",\"id\":\"10898202\",\"iucr\":\"0917\",\"latitude\":\"41.809439597\",\"location\":{\"type\":\"Point\",\"coordinates\":[-87.674808,41.80944]},\"location_description\":\"STREET\",\"longitude\":\"-87.674808267\",\"primary_type\":\"MOTOR VEHICLE THEFT\",\"updated_on\":\"2017-04-08T15:49:53.000\",\"ward\":\"12\",\"x_coordinate\":\"1163779\",\"y_coordinate\":\"1873838\",\"year\":\"2017\"}\n",
      ",{\"arrest\":false,\"beat\":\"1423\",\"block\":\"015XX N TALMAN AVE\",\"case_number\":\"JA209145\",\"community_area\":\"24\",\"date\":\"2017-04-01T19:00:00.000\",\"description\":\"AUTOMOBILE\",\"district\":\"014\",\"domestic\":false,\"fbi_code\":\"07\",\"id\":\"10897742\",\"iucr\":\"0910\",\"latitude\":\"41.909034363\",\"location\":{\"type\":\"Point\",\"coordinates\":[-87.693293,41.909034]},\"location_description\":\"RESIDENTIAL YARD (FRONT/BACK)\",\"longitude\":\"-87.693293261\",\"primary_type\":\"MOTOR VEHICLE THEFT\",\"updated_on\":\"2017-04-08T15:49:53.000\",\"ward\":\"26\",\"x_coordinate\":\"1158469\",\"y_coordinate\":\"1910092\",\"year\":\"2017\"}\n",
      ",{\"arrest\":true,\"beat\":\"1614\",\"block\":\"040XX N PONTIAC AVE\",\"case_number\":\"JA209064\",\"community_area\":\"17\",\"date\":\"2017-04-01T19:01:00.000\",\"description\":\"TO PROPERTY\",\"district\":\"016\",\"domestic\":false,\"fbi_code\":\"14\",\"id\":\"10897710\",\"iucr\":\"1310\",\"latitude\":\"41.952732729\",\"location\":{\"type\":\"Point\",\"coordinates\":[-87.835484,41.952733]},\"location_description\":\"RESIDENTIAL YARD (FRONT/BACK)\",\"longitude\":\"-87.835484283\",\"primary_type\":\"CRIMINAL DAMAGE\",\"updated_on\":\"2017-04-08T15:49:53.000\",\"ward\":\"36\",\"x_coordinate\":\"1119672\",\"y_coordinate\":\"1925759\",\"year\":\"2017\"}\n",
      ",{\"arrest\":false,\"beat\":\"1833\",\"block\":\"0000X E CHICAGO AVE\",\"case_number\":\"JA210854\",\"community_area\":\"8\",\"date\":\"2017-04-01T19:03:00.000\",\"description\":\"FROM BUILDING\",\"district\":\"018\",\"domestic\":false,\"fbi_code\":\"06\",\"id\":\"10899781\",\"iucr\":\"0890\",\"latitude\":\"41.896706327\",\"location\":{\"type\":\"Point\",\"coordinates\":[-87.626233,41.896706]},\"location_description\":\"BANK\",\"longitude\":\"-87.626232775\",\"primary_type\":\"THEFT\",\"updated_on\":\"2017-04-10T15:48:51.000\",\"ward\":\"42\",\"x_coordinate\":\"1176760\",\"y_coordinate\":\"1905743\",\"year\":\"2017\"}\n",
      ",{\"arrest\":false,\"beat\":\"2423\",\"block\":\"070XX N SHERIDAN RD\",\"case_number\":\"JA209027\",\"community_area\":\"1\",\"date\":\"2017-04-01T19:05:00.000\",\"description\":\"SIMPLE\",\"district\":\"024\",\"domestic\":true,\"fbi_code\":\"08A\",\"id\":\"10897715\",\"iucr\":\"0560\",\"latitude\":\"42.011018296\",\"location\":{\"type\":\"Point\",\"coordinates\":[-87.662688,42.011018]},\"location_description\":\"SIDEWALK\",\"longitude\":\"-87.662687781\",\"primary_type\":\"ASSAULT\",\"updated_on\":\"2017-04-08T15:49:53.000\",\"ward\":\"49\",\"x_coordinate\":\"1166509\",\"y_coordinate\":\"1947319\",\"year\":\"2017\"}\n",
      ",{\"arrest\":true,\"beat\":\"0533\",\"block\":\"130XX S ELLIS AVE\",\"case_number\":\"JA209089\",\"community_area\":\"54\",\"date\":\"2017-04-01T19:09:00.000\",\"description\":\"TO STATE SUP LAND\",\"district\":\"005\",\"domestic\":false,\"fbi_code\":\"26\",\"id\":\"10897699\",\"iucr\":\"1350\",\"latitude\":\"41.657464012\",\"location\":{\"type\":\"Point\",\"coordinates\":[-87.597733,41.657464]},\"location_description\":\"CHA PARKING LOT/GROUNDS\",\"longitude\":\"-87.597732668\",\"primary_type\":\"CRIMINAL TRESPASS\",\"updated_on\":\"2017-04-08T15:49:53.000\",\"ward\":\"9\",\"x_coordinate\":\"1185265\",\"y_coordinate\":\"1818630\",\"year\":\"2017\"}\n",
      ",{\"arrest\":false,\"beat\":\"0913\",\"block\":\"008XX W 33RD ST\",\"case_number\":\"JA209055\",\"community_area\":\"60\",\"date\":\"2017-04-01T19:10:00.000\",\"description\":\"DOMESTIC BATTERY SIMPLE\",\"district\":\"009\",\"domestic\":true,\"fbi_code\":\"08B\",\"id\":\"10897730\",\"iucr\":\"0486\",\"latitude\":\"41.834810789\",\"location\":{\"type\":\"Point\",\"coordinates\":[-87.647673,41.834811]},\"location_description\":\"APARTMENT\",\"longitude\":\"-87.647672836\",\"primary_type\":\"BATTERY\",\"updated_on\":\"2017-04-08T15:49:53.000\",\"ward\":\"11\",\"x_coordinate\":\"1171103\",\"y_coordinate\":\"1883141\",\"year\":\"2017\"}\n",
      ",{\"arrest\":true,\"beat\":\"0334\",\"block\":\"074XX S PHILLIPS AVE\",\"case_number\":\"JA209065\",\"community_area\":\"43\",\"date\":\"2017-04-01T19:13:00.000\",\"description\":\"AGG PO HANDS NO/MIN INJURY\",\"district\":\"003\",\"domestic\":false,\"fbi_code\":\"08A\",\"id\":\"10897734\",\"iucr\":\"0554\",\"latitude\":\"41.760327795\",\"location\":{\"type\":\"Point\",\"coordinates\":[-87.564785,41.760328]},\"location_description\":\"STREET\",\"longitude\":\"-87.564785051\",\"primary_type\":\"ASSAULT\",\"updated_on\":\"2017-04-08T15:49:53.000\",\"ward\":\"7\",\"x_coordinate\":\"1193934\",\"y_coordinate\":\"1856191\",\"year\":\"2017\"}\n",
      ",{\"arrest\":false,\"beat\":\"0825\",\"block\":\"061XX S CAMPBELL AVE\",\"case_number\":\"JA209763\",\"community_area\":\"66\",\"date\":\"2017-04-01T19:15:00.000\",\"description\":\"$500 AND UNDER\",\"district\":\"008\",\"domestic\":true,\"fbi_code\":\"06\",\"id\":\"10898194\",\"iucr\":\"0820\",\"latitude\":\"41.78221499\",\"location\":{\"type\":\"Point\",\"coordinates\":[-87.686171,41.782215]},\"location_description\":\"STREET\",\"longitude\":\"-87.686170736\",\"primary_type\":\"THEFT\",\"updated_on\":\"2017-04-08T15:49:53.000\",\"ward\":\"15\",\"x_coordinate\":\"1160756\",\"y_coordinate\":\"1863894\",\"year\":\"2017\"}\n",
      ",{\"arrest\":true,\"beat\":\"0634\",\"block\":\"002XX W 95TH ST\",\"case_number\":\"JA209029\",\"community_area\":\"49\",\"date\":\"2017-04-01T19:15:00.000\",\"description\":\"TO STATE SUP LAND\",\"district\":\"006\",\"domestic\":false,\"fbi_code\":\"26\",\"id\":\"10897694\",\"iucr\":\"1350\",\"latitude\":\"41.721635631\",\"location\":{\"type\":\"Point\",\"coordinates\":[-87.630324,41.721636]},\"location_description\":\"CHA PARKING LOT/GROUNDS\",\"longitude\":\"-87.630323986\",\"primary_type\":\"CRIMINAL TRESPASS\",\"updated_on\":\"2017-04-08T15:49:53.000\",\"ward\":\"21\",\"x_coordinate\":\"1176168\",\"y_coordinate\":\"1841939\",\"year\":\"2017\"}\n",
      ",{\"arrest\":false,\"beat\":\"1912\",\"block\":\"015XX W WILSON AVE\",\"case_number\":\"JA209034\",\"community_area\":\"3\",\"date\":\"2017-04-01T19:20:00.000\",\"description\":\"SIMPLE\",\"district\":\"019\",\"domestic\":false,\"fbi_code\":\"08A\",\"id\":\"10897662\",\"iucr\":\"0560\",\"latitude\":\"41.965249692\",\"location\":{\"type\":\"Point\",\"coordinates\":[-87.668187,41.96525]},\"location_description\":\"SMALL RETAIL STORE\",\"longitude\":\"-87.668187079\",\"primary_type\":\"ASSAULT\",\"updated_on\":\"2017-04-08T15:49:53.000\",\"ward\":\"47\",\"x_coordinate\":\"1165144\",\"y_coordinate\":\"1930629\",\"year\":\"2017\"}\n",
      ",{\"arrest\":true,\"beat\":\"0935\",\"block\":\"003XX W GARFIELD BLVD\",\"case_number\":\"JA241630\",\"community_area\":\"37\",\"date\":\"2017-04-01T19:25:00.000\",\"description\":\"TO PROPERTY\",\"district\":\"009\",\"domestic\":false,\"fbi_code\":\"14\",\"id\":\"10927153\",\"iucr\":\"1310\",\"location_description\":\"GAS STATION\",\"primary_type\":\"CRIMINAL DAMAGE\",\"updated_on\":\"2017-04-28T15:58:42.000\",\"ward\":\"3\",\"year\":\"2017\"}\n",
      ",{\"arrest\":true,\"beat\":\"1532\",\"block\":\"049XX W HUBBARD ST\",\"case_number\":\"JA209074\",\"community_area\":\"25\",\"date\":\"2017-04-01T19:25:00.000\",\"description\":\"MANU/DEL:CANNABIS 10GM OR LESS\",\"district\":\"015\",\"domestic\":false,\"fbi_code\":\"18\",\"id\":\"10897705\",\"iucr\":\"1821\",\"latitude\":\"41.888662662\",\"location\":{\"type\":\"Point\",\"coordinates\":[-87.748644,41.888663]},\"location_description\":\"STREET\",\"longitude\":\"-87.748644193\",\"primary_type\":\"NARCOTICS\",\"updated_on\":\"2017-04-08T15:49:53.000\",\"ward\":\"28\",\"x_coordinate\":\"1143453\",\"y_coordinate\":\"1902561\",\"year\":\"2017\"}\n",
      ",{\"arrest\":false,\"beat\":\"2413\",\"block\":\"021XX W PETERSON AVE\",\"case_number\":\"JA209109\",\"community_area\":\"2\",\"date\":\"2017-04-01T19:28:00.000\",\"description\":\"RETAIL THEFT\",\"district\":\"024\",\"domestic\":false,\"fbi_code\":\"06\",\"id\":\"10897717\",\"iucr\":\"0860\",\"latitude\":\"41.990615196\",\"location\":{\"type\":\"Point\",\"coordinates\":[-87.683189,41.990615]},\"location_description\":\"DEPARTMENT STORE\",\"longitude\":\"-87.683188577\",\"primary_type\":\"THEFT\",\"updated_on\":\"2017-04-08T15:49:53.000\",\"ward\":\"40\",\"x_coordinate\":\"1160994\",\"y_coordinate\":\"1939841\",\"year\":\"2017\"}\n",
      ",{\"arrest\":true,\"beat\":\"1834\",\"block\":\"005XX N STATE ST\",\"case_number\":\"JA209176\",\"community_area\":\"8\",\"date\":\"2017-04-01T19:29:00.000\",\"description\":\"AGG PO HANDS NO/MIN INJURY\",\"district\":\"018\",\"domestic\":false,\"fbi_code\":\"08B\",\"id\":\"10897847\",\"iucr\":\"0454\",\"latitude\":\"41.891303157\",\"location\":{\"type\":\"Point\",\"coordinates\":[-87.628055,41.891303]},\"location_description\":\"SIDEWALK\",\"longitude\":\"-87.628055281\",\"primary_type\":\"BATTERY\",\"updated_on\":\"2017-04-09T15:55:05.000\",\"ward\":\"42\",\"x_coordinate\":\"1176280\",\"y_coordinate\":\"1903770\",\"year\":\"2017\"}\n",
      ",{\"arrest\":false,\"beat\":\"0324\",\"block\":\"071XX S WOODLAWN AVE\",\"case_number\":\"JA210985\",\"community_area\":\"69\",\"date\":\"2017-04-01T19:30:00.000\",\"description\":\"ARMED: HANDGUN\",\"district\":\"003\",\"domestic\":false,\"fbi_code\":\"03\",\"id\":\"10899493\",\"iucr\":\"031A\",\"latitude\":\"41.765514978\",\"location\":{\"type\":\"Point\",\"coordinates\":[-87.59584,41.765515]},\"location_description\":\"STREET\",\"longitude\":\"-87.595839921\",\"primary_type\":\"ROBBERY\",\"updated_on\":\"2017-04-08T15:49:53.000\",\"ward\":\"5\",\"x_coordinate\":\"1185445\",\"y_coordinate\":\"1858007\",\"year\":\"2017\"}\n",
      ",{\"arrest\":false,\"beat\":\"0934\",\"block\":\"051XX S BISHOP ST\",\"case_number\":\"JA209058\",\"community_area\":\"61\",\"date\":\"2017-04-01T19:30:00.000\",\"description\":\"TO PROPERTY\",\"district\":\"009\",\"domestic\":false,\"fbi_code\":\"14\",\"id\":\"10897672\",\"iucr\":\"1310\",\"latitude\":\"41.800408413\",\"location\":{\"type\":\"Point\",\"coordinates\":[-87.661111,41.800408]},\"location_description\":\"RESIDENCE\",\"longitude\":\"-87.661110804\",\"primary_type\":\"CRIMINAL DAMAGE\",\"updated_on\":\"2017-04-08T15:49:53.000\",\"ward\":\"16\",\"x_coordinate\":\"1167539\",\"y_coordinate\":\"1870576\",\"year\":\"2017\"}\n",
      ",{\"arrest\":true,\"beat\":\"0613\",\"block\":\"012XX W 81ST ST\",\"case_number\":\"JA209107\",\"community_area\":\"71\",\"date\":\"2017-04-01T19:31:00.000\",\"description\":\"POSS: CRACK\",\"district\":\"006\",\"domestic\":false,\"fbi_code\":\"18\",\"id\":\"10897706\",\"iucr\":\"2027\",\"latitude\":\"41.746844585\",\"location\":{\"type\":\"Point\",\"coordinates\":[-87.654462,41.746845]},\"location_description\":\"APARTMENT\",\"longitude\":\"-87.654461825\",\"primary_type\":\"NARCOTICS\",\"updated_on\":\"2017-04-08T15:49:53.000\",\"ward\":\"21\",\"x_coordinate\":\"1169506\",\"y_coordinate\":\"1851072\",\"year\":\"2017\"}\n",
      ",{\"arrest\":false,\"beat\":\"1012\",\"block\":\"043XX W 18TH ST\",\"case_number\":\"JA209087\",\"community_area\":\"29\",\"date\":\"2017-04-01T19:33:00.000\",\"description\":\"STRONGARM - NO WEAPON\",\"district\":\"010\",\"domestic\":false,\"fbi_code\":\"03\",\"id\":\"10897757\",\"iucr\":\"0320\",\"latitude\":\"41.856914161\",\"location\":{\"type\":\"Point\",\"coordinates\":[-87.733696,41.856914]},\"location_description\":\"SIDEWALK\",\"longitude\":\"-87.733696104\",\"primary_type\":\"ROBBERY\",\"updated_on\":\"2017-04-08T15:49:53.000\",\"ward\":\"24\",\"x_coordinate\":\"1147604\",\"y_coordinate\":\"1891020\",\"year\":\"2017\"}\n",
      ",{\"arrest\":false,\"beat\":\"2031\",\"block\":\"048XX N LINCOLN AVE\",\"case_number\":\"JA209092\",\"community_area\":\"4\",\"date\":\"2017-04-01T19:35:00.000\",\"description\":\"COMPUTER FRAUD\",\"district\":\"020\",\"domestic\":false,\"fbi_code\":\"11\",\"id\":\"10897739\",\"iucr\":\"1242\",\"latitude\":\"41.968763818\",\"location\":{\"type\":\"Point\",\"coordinates\":[-87.688662,41.968764]},\"location_description\":\"CONVENIENCE STORE\",\"longitude\":\"-87.688661831\",\"primary_type\":\"DECEPTIVE PRACTICE\",\"updated_on\":\"2017-04-08T15:49:53.000\",\"ward\":\"47\",\"x_coordinate\":\"1159566\",\"y_coordinate\":\"1931867\",\"year\":\"2017\"}\n",
      ",{\"arrest\":true,\"beat\":\"0421\",\"block\":\"078XX S KINGSTON AVE\",\"case_number\":\"JA209104\",\"community_area\":\"43\",\"date\":\"2017-04-01T19:38:00.000\",\"description\":\"UNLAWFUL POSS OF HANDGUN\",\"district\":\"004\",\"domestic\":false,\"fbi_code\":\"15\",\"id\":\"10897668\",\"iucr\":\"143A\",\"latitude\":\"41.752862529\",\"location\":{\"type\":\"Point\",\"coordinates\":[-87.56262,41.752863]},\"location_description\":\"STREET\",\"longitude\":\"-87.56262025\",\"primary_type\":\"WEAPONS VIOLATION\",\"updated_on\":\"2017-04-08T15:49:53.000\",\"ward\":\"7\",\"x_coordinate\":\"1194549\",\"y_coordinate\":\"1853476\",\"year\":\"2017\"}\n",
      ",{\"arrest\":false,\"beat\":\"2534\",\"block\":\"040XX W GRAND AVE\",\"case_number\":\"JA209121\",\"community_area\":\"23\",\"date\":\"2017-04-01T19:45:00.000\",\"description\":\"FROM BUILDING\",\"district\":\"025\",\"domestic\":false,\"fbi_code\":\"06\",\"id\":\"10897689\",\"iucr\":\"0890\",\"latitude\":\"41.90683577\",\"location\":{\"type\":\"Point\",\"coordinates\":[-87.72813,41.906836]},\"location_description\":\"OTHER\",\"longitude\":\"-87.728130174\",\"primary_type\":\"THEFT\",\"updated_on\":\"2017-04-08T15:49:53.000\",\"ward\":\"30\",\"x_coordinate\":\"1148992\",\"y_coordinate\":\"1909222\",\"year\":\"2017\"}\n",
      ",{\"arrest\":false,\"beat\":\"0922\",\"block\":\"044XX S TALMAN AVE\",\"case_number\":\"JA209071\",\"community_area\":\"58\",\"date\":\"2017-04-01T19:45:00.000\",\"description\":\"SIMPLE\",\"district\":\"009\",\"domestic\":false,\"fbi_code\":\"08A\",\"id\":\"10897680\",\"iucr\":\"0560\",\"latitude\":\"41.813058634\",\"location\":{\"type\":\"Point\",\"coordinates\":[-87.69068,41.813059]},\"location_description\":\"STREET\",\"longitude\":\"-87.69068044\",\"primary_type\":\"ASSAULT\",\"updated_on\":\"2017-04-08T15:49:53.000\",\"ward\":\"12\",\"x_coordinate\":\"1159442\",\"y_coordinate\":\"1875124\",\"year\":\"2017\"}\n",
      ",{\"arrest\":false,\"beat\":\"2023\",\"block\":\"055XX N KENMORE AVE\",\"case_number\":\"JA209068\",\"community_area\":\"77\",\"date\":\"2017-04-01T19:45:00.000\",\"description\":\"TELEPHONE THREAT\",\"district\":\"020\",\"domestic\":true,\"fbi_code\":\"26\",\"id\":\"10897605\",\"iucr\":\"2820\",\"latitude\":\"41.982742067\",\"location\":{\"type\":\"Point\",\"coordinates\":[-87.656592,41.982742]},\"location_description\":\"NURSING HOME/RETIREMENT HOME\",\"longitude\":\"-87.656592266\",\"primary_type\":\"OTHER OFFENSE\",\"updated_on\":\"2017-04-08T15:49:53.000\",\"ward\":\"48\",\"x_coordinate\":\"1168247\",\"y_coordinate\":\"1937028\",\"year\":\"2017\"}\n",
      ",{\"arrest\":true,\"beat\":\"1523\",\"block\":\"053XX W OHIO ST\",\"case_number\":\"JA209182\",\"community_area\":\"25\",\"date\":\"2017-04-01T19:48:00.000\",\"description\":\"SOLICIT NARCOTICS ON PUBLICWAY\",\"district\":\"015\",\"domestic\":false,\"fbi_code\":\"18\",\"id\":\"10897767\",\"iucr\":\"2092\",\"latitude\":\"41.891173111\",\"location\":{\"type\":\"Point\",\"coordinates\":[-87.758321,41.891173]},\"location_description\":\"STREET\",\"longitude\":\"-87.758320983\",\"primary_type\":\"NARCOTICS\",\"updated_on\":\"2017-04-08T15:49:53.000\",\"ward\":\"37\",\"x_coordinate\":\"1140812\",\"y_coordinate\":\"1903458\",\"year\":\"2017\"}\n",
      ",{\"arrest\":false,\"beat\":\"2232\",\"block\":\"103XX S UNION AVE\",\"case_number\":\"JA209169\",\"community_area\":\"49\",\"date\":\"2017-04-01T19:50:00.000\",\"description\":\"TO VEHICLE\",\"district\":\"022\",\"domestic\":false,\"fbi_code\":\"14\",\"id\":\"10897766\",\"iucr\":\"1320\",\"latitude\":\"41.706084273\",\"location\":{\"type\":\"Point\",\"coordinates\":[-87.640381,41.706084]},\"location_description\":\"ALLEY\",\"longitude\":\"-87.64038128\",\"primary_type\":\"CRIMINAL DAMAGE\",\"updated_on\":\"2017-04-08T15:49:53.000\",\"ward\":\"34\",\"x_coordinate\":\"1173468\",\"y_coordinate\":\"1836250\",\"year\":\"2017\"}\n",
      ",{\"arrest\":true,\"beat\":\"0111\",\"block\":\"001XX N STATE ST\",\"case_number\":\"JA209113\",\"community_area\":\"32\",\"date\":\"2017-04-01T19:50:00.000\",\"description\":\"RETAIL THEFT\",\"district\":\"001\",\"domestic\":false,\"fbi_code\":\"06\",\"id\":\"10897732\",\"iucr\":\"0860\",\"latitude\":\"41.883500187\",\"location\":{\"type\":\"Point\",\"coordinates\":[-87.627877,41.8835]},\"location_description\":\"DEPARTMENT STORE\",\"longitude\":\"-87.627876698\",\"primary_type\":\"THEFT\",\"updated_on\":\"2017-04-08T15:49:53.000\",\"ward\":\"42\",\"x_coordinate\":\"1176352\",\"y_coordinate\":\"1900927\",\"year\":\"2017\"}\n",
      ",{\"arrest\":false,\"beat\":\"0522\",\"block\":\"003XX W 118TH ST\",\"case_number\":\"JA209606\",\"community_area\":\"53\",\"date\":\"2017-04-01T19:51:00.000\",\"description\":\"FORCIBLE ENTRY\",\"district\":\"005\",\"domestic\":false,\"fbi_code\":\"05\",\"id\":\"10898157\",\"iucr\":\"0610\",\"latitude\":\"41.679744885\",\"location\":{\"type\":\"Point\",\"coordinates\":[-87.631454,41.679745]},\"location_description\":\"RESIDENCE\",\"longitude\":\"-87.631453672\",\"primary_type\":\"BURGLARY\",\"updated_on\":\"2017-04-08T15:49:53.000\",\"ward\":\"34\",\"x_coordinate\":\"1175984\",\"y_coordinate\":\"1826672\",\"year\":\"2017\"}\n",
      ",{\"arrest\":false,\"beat\":\"0821\",\"block\":\"046XX S PULASKI RD\",\"case_number\":\"JA209070\",\"community_area\":\"57\",\"date\":\"2017-04-01T19:51:00.000\",\"description\":\"TO VEHICLE\",\"district\":\"008\",\"domestic\":false,\"fbi_code\":\"14\",\"id\":\"10897690\",\"iucr\":\"1320\",\"latitude\":\"41.809248094\",\"location\":{\"type\":\"Point\",\"coordinates\":[-87.723636,41.809248]},\"location_description\":\"PARKING LOT/GARAGE(NON.RESID.)\",\"longitude\":\"-87.723635555\",\"primary_type\":\"CRIMINAL DAMAGE\",\"updated_on\":\"2017-04-08T15:49:53.000\",\"ward\":\"14\",\"x_coordinate\":\"1150468\",\"y_coordinate\":\"1873670\",\"year\":\"2017\"}\n",
      ",{\"arrest\":true,\"beat\":\"1533\",\"block\":\"051XX W MADISON ST\",\"case_number\":\"JA209122\",\"community_area\":\"25\",\"date\":\"2017-04-01T19:53:00.000\",\"description\":\"POSSESSION: SYNTHETIC MARIJUANA\",\"district\":\"015\",\"domestic\":false,\"fbi_code\":\"18\",\"id\":\"10897749\",\"iucr\":\"2034\",\"latitude\":\"41.880381742\",\"location\":{\"type\":\"Point\",\"coordinates\":[-87.754301,41.880382]},\"location_description\":\"STREET\",\"longitude\":\"-87.754301301\",\"primary_type\":\"NARCOTICS\",\"updated_on\":\"2017-04-08T15:49:53.000\",\"ward\":\"28\",\"x_coordinate\":\"1141933\",\"y_coordinate\":\"1899533\",\"year\":\"2017\"}\n",
      ",{\"arrest\":true,\"beat\":\"1233\",\"block\":\"015XX W 18TH ST\",\"case_number\":\"JA209101\",\"community_area\":\"31\",\"date\":\"2017-04-01T19:54:00.000\",\"description\":\"TO LAND\",\"district\":\"012\",\"domestic\":false,\"fbi_code\":\"26\",\"id\":\"10897676\",\"iucr\":\"1330\",\"latitude\":\"41.857824459\",\"location\":{\"type\":\"Point\",\"coordinates\":[-87.664478,41.857824]},\"location_description\":\"RESTAURANT\",\"longitude\":\"-87.664477992\",\"primary_type\":\"CRIMINAL TRESPASS\",\"updated_on\":\"2017-04-08T15:49:53.000\",\"ward\":\"25\",\"x_coordinate\":\"1166458\",\"y_coordinate\":\"1891491\",\"year\":\"2017\"}\n",
      ",{\"arrest\":false,\"beat\":\"1022\",\"block\":\"032XX W DOUGLAS BLVD\",\"case_number\":\"JA209105\",\"community_area\":\"29\",\"date\":\"2017-04-01T19:55:00.000\",\"description\":\"ENDANGERING LIFE/HEALTH CHILD\",\"district\":\"010\",\"domestic\":true,\"fbi_code\":\"20\",\"id\":\"10897756\",\"iucr\":\"1710\",\"latitude\":\"41.862955261\",\"location\":{\"type\":\"Point\",\"coordinates\":[-87.706136,41.862955]},\"location_description\":\"OTHER\",\"longitude\":\"-87.706135681\",\"primary_type\":\"OFFENSE INVOLVING CHILDREN\",\"updated_on\":\"2017-04-08T15:49:53.000\",\"ward\":\"24\",\"x_coordinate\":\"1155096\",\"y_coordinate\":\"1893275\",\"year\":\"2017\"}\n",
      ",{\"arrest\":true,\"beat\":\"1934\",\"block\":\"005XX W SURF ST\",\"case_number\":\"JA217355\",\"community_area\":\"6\",\"date\":\"2017-04-01T20:00:00.000\",\"description\":\"AUTOMOBILE\",\"district\":\"019\",\"domestic\":false,\"fbi_code\":\"07\",\"id\":\"10905348\",\"iucr\":\"0910\",\"latitude\":\"41.934285771\",\"location\":{\"type\":\"Point\",\"coordinates\":[-87.642463,41.934286]},\"location_description\":\"STREET\",\"longitude\":\"-87.642462787\",\"primary_type\":\"MOTOR VEHICLE THEFT\",\"updated_on\":\"2017-04-18T15:57:31.000\",\"ward\":\"44\",\"x_coordinate\":\"1172231\",\"y_coordinate\":\"1919401\",\"year\":\"2017\"}\n",
      ",{\"arrest\":false,\"beat\":\"0433\",\"block\":\"116XX S AVENUE M\",\"case_number\":\"JA210412\",\"community_area\":\"55\",\"date\":\"2017-04-01T20:00:00.000\",\"description\":\"OVER $500\",\"district\":\"004\",\"domestic\":true,\"fbi_code\":\"06\",\"id\":\"10898729\",\"iucr\":\"0810\",\"latitude\":\"41.68403521\",\"location\":{\"type\":\"Point\",\"coordinates\":[-87.537666,41.684035]},\"location_description\":\"RESIDENCE\",\"longitude\":\"-87.537665735\",\"primary_type\":\"THEFT\",\"updated_on\":\"2017-04-08T15:49:53.000\",\"ward\":\"10\",\"x_coordinate\":\"1201590\",\"y_coordinate\":\"1828458\",\"year\":\"2017\"}\n",
      ",{\"arrest\":false,\"beat\":\"1524\",\"block\":\"055XX W THOMAS ST\",\"case_number\":\"JA210023\",\"community_area\":\"25\",\"date\":\"2017-04-01T20:00:00.000\",\"description\":\"$500 AND UNDER\",\"district\":\"015\",\"domestic\":false,\"fbi_code\":\"06\",\"id\":\"10898716\",\"iucr\":\"0820\",\"latitude\":\"41.900330956\",\"location\":{\"type\":\"Point\",\"coordinates\":[-87.764443,41.900331]},\"location_description\":\"STREET\",\"longitude\":\"-87.76444296\",\"primary_type\":\"THEFT\",\"updated_on\":\"2017-04-08T15:49:53.000\",\"ward\":\"37\",\"x_coordinate\":\"1139123\",\"y_coordinate\":\"1906784\",\"year\":\"2017\"}\n",
      ",{\"arrest\":false,\"beat\":\"1113\",\"block\":\"046XX W ADAMS ST\",\"case_number\":\"JA210057\",\"community_area\":\"25\",\"date\":\"2017-04-01T20:00:00.000\",\"description\":\"PURSE-SNATCHING\",\"district\":\"011\",\"domestic\":true,\"fbi_code\":\"06\",\"id\":\"10898447\",\"iucr\":\"0880\",\"latitude\":\"41.878083399\",\"location\":{\"type\":\"Point\",\"coordinates\":[-87.741643,41.878083]},\"location_description\":\"RESIDENCE\",\"longitude\":\"-87.741642698\",\"primary_type\":\"THEFT\",\"updated_on\":\"2017-04-08T15:49:53.000\",\"ward\":\"28\",\"x_coordinate\":\"1145386\",\"y_coordinate\":\"1898719\",\"year\":\"2017\"}\n",
      ",{\"arrest\":false,\"beat\":\"2223\",\"block\":\"093XX S LOWE AVE\",\"case_number\":\"JA209810\",\"community_area\":\"73\",\"date\":\"2017-04-01T20:00:00.000\",\"description\":\"OVER $500\",\"district\":\"022\",\"domestic\":false,\"fbi_code\":\"06\",\"id\":\"10898412\",\"iucr\":\"0810\",\"latitude\":\"41.724239023\",\"location\":{\"type\":\"Point\",\"coordinates\":[-87.639648,41.724239]},\"location_description\":\"OTHER\",\"longitude\":\"-87.639647752\",\"primary_type\":\"THEFT\",\"updated_on\":\"2017-04-08T15:49:53.000\",\"ward\":\"21\",\"x_coordinate\":\"1173615\",\"y_coordinate\":\"1842867\",\"year\":\"2017\"}\n",
      ",{\"arrest\":false,\"beat\":\"1412\",\"block\":\"026XX N MILWAUKEE AVE\",\"case_number\":\"JA210002\",\"community_area\":\"22\",\"date\":\"2017-04-01T20:00:00.000\",\"description\":\"ILLEGAL USE CASH CARD\",\"district\":\"014\",\"domestic\":false,\"fbi_code\":\"11\",\"id\":\"10898388\",\"iucr\":\"1152\",\"latitude\":\"41.92938643\",\"location\":{\"type\":\"Point\",\"coordinates\":[-87.707892,41.929386]},\"location_description\":\"OTHER\",\"longitude\":\"-87.707892425\",\"primary_type\":\"DECEPTIVE PRACTICE\",\"updated_on\":\"2017-04-08T15:49:53.000\",\"ward\":\"35\",\"x_coordinate\":\"1154441\",\"y_coordinate\":\"1917479\",\"year\":\"2017\"}\n",
      ",{\"arrest\":false,\"beat\":\"0632\",\"block\":\"083XX S COTTAGE GROVE AVE\",\"case_number\":\"JA209886\",\"community_area\":\"44\",\"date\":\"2017-04-01T20:00:00.000\",\"description\":\"SIMPLE\",\"district\":\"006\",\"domestic\":true,\"fbi_code\":\"08A\",\"id\":\"10898279\",\"iucr\":\"0560\",\"latitude\":\"41.743503863\",\"location\":{\"type\":\"Point\",\"coordinates\":[-87.605018,41.743504]},\"location_description\":\"GAS STATION\",\"longitude\":\"-87.60501807\",\"primary_type\":\"ASSAULT\",\"updated_on\":\"2017-04-08T15:49:53.000\",\"ward\":\"6\",\"x_coordinate\":\"1183009\",\"y_coordinate\":\"1849965\",\"year\":\"2017\"}\n",
      ",{\"arrest\":false,\"beat\":\"1924\",\"block\":\"013XX W SCHOOL ST\",\"case_number\":\"JA209545\",\"community_area\":\"6\",\"date\":\"2017-04-01T20:00:00.000\",\"description\":\"TO PROPERTY\",\"district\":\"019\",\"domestic\":false,\"fbi_code\":\"14\",\"id\":\"10898136\",\"iucr\":\"1310\",\"latitude\":\"41.941606702\",\"location\":{\"type\":\"Point\",\"coordinates\":[-87.66225,41.941607]},\"location_description\":\"RESIDENCE\",\"longitude\":\"-87.662250471\",\"primary_type\":\"CRIMINAL DAMAGE\",\"updated_on\":\"2017-04-08T15:49:53.000\",\"ward\":\"44\",\"x_coordinate\":\"1166826\",\"y_coordinate\":\"1922026\",\"year\":\"2017\"}\n",
      ",{\"arrest\":false,\"beat\":\"2211\",\"block\":\"104XX S ARTESIAN AVE\",\"case_number\":\"JA209583\",\"community_area\":\"72\",\"date\":\"2017-04-01T20:00:00.000\",\"description\":\"HARASSMENT BY ELECTRONIC MEANS\",\"district\":\"022\",\"domestic\":false,\"fbi_code\":\"26\",\"id\":\"10898086\",\"iucr\":\"2826\",\"latitude\":\"41.703692262\",\"location\":{\"type\":\"Point\",\"coordinates\":[-87.682813,41.703692]},\"location_description\":\"RESIDENCE\",\"longitude\":\"-87.68281332\",\"primary_type\":\"OTHER OFFENSE\",\"updated_on\":\"2017-04-08T15:49:53.000\",\"ward\":\"19\",\"x_coordinate\":\"1161888\",\"y_coordinate\":\"1835288\",\"year\":\"2017\"}\n",
      ",{\"arrest\":false,\"beat\":\"0511\",\"block\":\"096XX S FOREST AVE\",\"case_number\":\"JA209510\",\"community_area\":\"49\",\"date\":\"2017-04-01T20:00:00.000\",\"description\":\"OVER $500\",\"district\":\"005\",\"domestic\":false,\"fbi_code\":\"06\",\"id\":\"10897994\",\"iucr\":\"0810\",\"latitude\":\"41.719181864\",\"location\":{\"type\":\"Point\",\"coordinates\":[-87.616498,41.719182]},\"location_description\":\"VEHICLE NON-COMMERCIAL\",\"longitude\":\"-87.616497604\",\"primary_type\":\"THEFT\",\"updated_on\":\"2017-04-08T15:49:53.000\",\"ward\":\"6\",\"x_coordinate\":\"1179950\",\"y_coordinate\":\"1841076\",\"year\":\"2017\"}\n",
      ",{\"arrest\":false,\"beat\":\"2033\",\"block\":\"051XX N CLARK ST\",\"case_number\":\"JA209240\",\"community_area\":\"3\",\"date\":\"2017-04-01T20:00:00.000\",\"description\":\"OVER $500\",\"district\":\"020\",\"domestic\":false,\"fbi_code\":\"06\",\"id\":\"10897898\",\"iucr\":\"0810\",\"latitude\":\"41.975585313\",\"location\":{\"type\":\"Point\",\"coordinates\":[-87.668352,41.975585]},\"location_description\":\"RESTAURANT\",\"longitude\":\"-87.668351682\",\"primary_type\":\"THEFT\",\"updated_on\":\"2017-04-08T15:49:53.000\",\"ward\":\"48\",\"x_coordinate\":\"1165070\",\"y_coordinate\":\"1934395\",\"year\":\"2017\"}\n",
      ",{\"arrest\":false,\"beat\":\"1824\",\"block\":\"001XX W ELM ST\",\"case_number\":\"JA209134\",\"community_area\":\"8\",\"date\":\"2017-04-01T20:00:00.000\",\"description\":\"AGGRAVATED DOMESTIC BATTERY: OTHER DANG WEAPON\",\"district\":\"018\",\"domestic\":true,\"fbi_code\":\"04B\",\"id\":\"10897844\",\"iucr\":\"0497\",\"latitude\":\"41.903125898\",\"location\":{\"type\":\"Point\",\"coordinates\":[-87.632183,41.903126]},\"location_description\":\"APARTMENT\",\"longitude\":\"-87.632182661\",\"primary_type\":\"BATTERY\",\"updated_on\":\"2017-04-08T15:49:53.000\",\"ward\":\"42\",\"x_coordinate\":\"1175121\",\"y_coordinate\":\"1908069\",\"year\":\"2017\"}\n",
      ",{\"arrest\":false,\"beat\":\"2412\",\"block\":\"064XX N CLAREMONT AVE\",\"case_number\":\"JA209091\",\"community_area\":\"2\",\"date\":\"2017-04-01T20:00:00.000\",\"description\":\"TO VEHICLE\",\"district\":\"024\",\"domestic\":false,\"fbi_code\":\"14\",\"id\":\"10897658\",\"iucr\":\"1320\",\"latitude\":\"41.998609837\",\"location\":{\"type\":\"Point\",\"coordinates\":[-87.688684,41.99861]},\"location_description\":\"STREET\",\"longitude\":\"-87.688684414\",\"primary_type\":\"CRIMINAL DAMAGE\",\"updated_on\":\"2017-04-08T15:49:53.000\",\"ward\":\"50\",\"x_coordinate\":\"1159478\",\"y_coordinate\":\"1942743\",\"year\":\"2017\"}\n",
      ",{\"arrest\":true,\"beat\":\"1511\",\"block\":\"056XX W DIVISION ST\",\"case_number\":\"JA209131\",\"community_area\":\"25\",\"date\":\"2017-04-01T20:05:00.000\",\"description\":\"RECKLESS CONDUCT\",\"district\":\"015\",\"domestic\":false,\"fbi_code\":\"24\",\"id\":\"10897704\",\"iucr\":\"0470\",\"latitude\":\"41.902120234\",\"location\":{\"type\":\"Point\",\"coordinates\":[-87.767226,41.90212]},\"location_description\":\"STREET\",\"longitude\":\"-87.767226178\",\"primary_type\":\"PUBLIC PEACE VIOLATION\",\"updated_on\":\"2017-04-08T15:49:53.000\",\"ward\":\"29\",\"x_coordinate\":\"1138361\",\"y_coordinate\":\"1907431\",\"year\":\"2017\"}\n",
      ",{\"arrest\":false,\"beat\":\"1624\",\"block\":\"043XX N MILWAUKEE AVE\",\"case_number\":\"JA209813\",\"community_area\":\"15\",\"date\":\"2017-04-01T20:15:00.000\",\"description\":\"TO PROPERTY\",\"district\":\"016\",\"domestic\":false,\"fbi_code\":\"14\",\"id\":\"10898241\",\"iucr\":\"1310\",\"latitude\":\"41.960152608\",\"location\":{\"type\":\"Point\",\"coordinates\":[-87.754065,41.960153]},\"location_description\":\"RESTAURANT\",\"longitude\":\"-87.754064995\",\"primary_type\":\"CRIMINAL DAMAGE\",\"updated_on\":\"2017-04-08T15:49:53.000\",\"ward\":\"45\",\"x_coordinate\":\"1141801\",\"y_coordinate\":\"1928602\",\"year\":\"2017\"}\n",
      ",{\"arrest\":true,\"beat\":\"1134\",\"block\":\"031XX W TAYLOR ST\",\"case_number\":\"JA209161\",\"community_area\":\"27\",\"date\":\"2017-04-01T20:15:00.000\",\"description\":\"MANU/DELIVER: HEROIN (WHITE)\",\"district\":\"011\",\"domestic\":false,\"fbi_code\":\"18\",\"id\":\"10897755\",\"iucr\":\"2014\",\"latitude\":\"41.869154513\",\"location\":{\"type\":\"Point\",\"coordinates\":[-87.704126,41.869155]},\"location_description\":\"SIDEWALK\",\"longitude\":\"-87.704125537\",\"primary_type\":\"NARCOTICS\",\"updated_on\":\"2017-04-08T15:49:53.000\",\"ward\":\"24\",\"x_coordinate\":\"1155627\",\"y_coordinate\":\"1895538\",\"year\":\"2017\"}\n",
      ",{\"arrest\":false,\"beat\":\"1122\",\"block\":\"004XX N RIDGEWAY AVE\",\"case_number\":\"JA209129\",\"community_area\":\"23\",\"date\":\"2017-04-01T20:15:00.000\",\"description\":\"TO VEHICLE\",\"district\":\"011\",\"domestic\":false,\"fbi_code\":\"14\",\"id\":\"10897714\",\"iucr\":\"1320\",\"latitude\":\"41.888931976\",\"location\":{\"type\":\"Point\",\"coordinates\":[-87.719786,41.888932]},\"location_description\":\"STREET\",\"longitude\":\"-87.719786107\",\"primary_type\":\"CRIMINAL DAMAGE\",\"updated_on\":\"2017-04-08T15:49:53.000\",\"ward\":\"27\",\"x_coordinate\":\"1151310\",\"y_coordinate\":\"1902714\",\"year\":\"2017\"}\n",
      ",{\"arrest\":false,\"beat\":\"1122\",\"block\":\"004XX N RIDGEWAY AVE\",\"case_number\":\"JA209116\",\"community_area\":\"23\",\"date\":\"2017-04-01T20:15:00.000\",\"description\":\"OVER $500\",\"district\":\"011\",\"domestic\":false,\"fbi_code\":\"06\",\"id\":\"10897698\",\"iucr\":\"0810\",\"latitude\":\"41.888931976\",\"location\":{\"type\":\"Point\",\"coordinates\":[-87.719786,41.888932]},\"location_description\":\"STREET\",\"longitude\":\"-87.719786107\",\"primary_type\":\"THEFT\",\"updated_on\":\"2017-04-08T15:49:53.000\",\"ward\":\"27\",\"x_coordinate\":\"1151310\",\"y_coordinate\":\"1902714\",\"year\":\"2017\"}\n",
      ",{\"arrest\":false,\"beat\":\"1124\",\"block\":\"001XX S SACRAMENTO BLVD\",\"case_number\":\"JA209949\",\"community_area\":\"27\",\"date\":\"2017-04-01T20:30:00.000\",\"description\":\"AGGRAVATED PO:KNIFE/CUT INSTR\",\"district\":\"011\",\"domestic\":true,\"fbi_code\":\"04A\",\"id\":\"10898449\",\"iucr\":\"0552\",\"latitude\":\"41.878940618\",\"location\":{\"type\":\"Point\",\"coordinates\":[-87.701147,41.878941]},\"location_description\":\"ALLEY\",\"longitude\":\"-87.701147005\",\"primary_type\":\"ASSAULT\",\"updated_on\":\"2017-04-08T15:49:53.000\",\"ward\":\"28\",\"x_coordinate\":\"1156412\",\"y_coordinate\":\"1899110\",\"year\":\"2017\"}\n",
      ",{\"arrest\":false,\"beat\":\"1911\",\"block\":\"045XX N LINCOLN AVE\",\"case_number\":\"JA209321\",\"community_area\":\"4\",\"date\":\"2017-04-01T20:30:00.000\",\"description\":\"$500 AND UNDER\",\"district\":\"019\",\"domestic\":false,\"fbi_code\":\"06\",\"id\":\"10897841\",\"iucr\":\"0820\",\"latitude\":\"41.963883023\",\"location\":{\"type\":\"Point\",\"coordinates\":[-87.685453,41.963883]},\"location_description\":\"PARKING LOT/GARAGE(NON.RESID.)\",\"longitude\":\"-87.685453304\",\"primary_type\":\"THEFT\",\"updated_on\":\"2017-04-08T15:49:53.000\",\"ward\":\"47\",\"x_coordinate\":\"1160452\",\"y_coordinate\":\"1930095\",\"year\":\"2017\"}\n",
      ",{\"arrest\":false,\"beat\":\"0531\",\"block\":\"113XX S FRONT AVE\",\"case_number\":\"JA209225\",\"community_area\":\"49\",\"date\":\"2017-04-01T20:30:00.000\",\"description\":\"OVER $500\",\"district\":\"005\",\"domestic\":true,\"fbi_code\":\"06\",\"id\":\"10897770\",\"iucr\":\"0810\",\"latitude\":\"41.68825173\",\"location\":{\"type\":\"Point\",\"coordinates\":[-87.611858,41.688252]},\"location_description\":\"RESIDENCE\",\"longitude\":\"-87.611858243\",\"primary_type\":\"THEFT\",\"updated_on\":\"2017-04-08T15:49:53.000\",\"ward\":\"9\",\"x_coordinate\":\"1181311\",\"y_coordinate\":\"1829816\",\"year\":\"2017\"}\n",
      ",{\"arrest\":true,\"beat\":\"1711\",\"block\":\"035XX W DEVON AVE\",\"case_number\":\"JA209127\",\"community_area\":\"13\",\"date\":\"2017-04-01T20:30:00.000\",\"description\":\"TO LAND\",\"district\":\"017\",\"domestic\":false,\"fbi_code\":\"26\",\"id\":\"10897738\",\"iucr\":\"1330\",\"latitude\":\"41.997285939\",\"location\":{\"type\":\"Point\",\"coordinates\":[-87.717455,41.997286]},\"location_description\":\"SMALL RETAIL STORE\",\"longitude\":\"-87.717455138\",\"primary_type\":\"CRIMINAL TRESPASS\",\"updated_on\":\"2017-04-08T15:49:53.000\",\"ward\":\"50\",\"x_coordinate\":\"1151661\",\"y_coordinate\":\"1942203\",\"year\":\"2017\"}\n",
      ",{\"arrest\":false,\"beat\":\"0312\",\"block\":\"063XX S DR MARTIN LUTHER KING JR DR\",\"case_number\":\"JA209115\",\"community_area\":\"69\",\"date\":\"2017-04-01T20:30:00.000\",\"description\":\"$500 AND UNDER\",\"district\":\"003\",\"domestic\":false,\"fbi_code\":\"06\",\"id\":\"10897700\",\"iucr\":\"0820\",\"latitude\":\"41.779150271\",\"location\":{\"type\":\"Point\",\"coordinates\":[-87.615599,41.77915]},\"location_description\":\"RESIDENCE\",\"longitude\":\"-87.615599158\",\"primary_type\":\"THEFT\",\"updated_on\":\"2017-04-08T15:49:53.000\",\"ward\":\"20\",\"x_coordinate\":\"1180013\",\"y_coordinate\":\"1862930\",\"year\":\"2017\"}\n",
      ",{\"arrest\":false,\"beat\":\"0822\",\"block\":\"054XX S PULASKI RD\",\"case_number\":\"JA209220\",\"community_area\":\"62\",\"date\":\"2017-04-01T20:40:00.000\",\"description\":\"$500 AND UNDER\",\"district\":\"008\",\"domestic\":false,\"fbi_code\":\"06\",\"id\":\"10897794\",\"iucr\":\"0820\",\"latitude\":\"41.794591289\",\"location\":{\"type\":\"Point\",\"coordinates\":[-87.723199,41.794591]},\"location_description\":\"VEHICLE NON-COMMERCIAL\",\"longitude\":\"-87.723198732\",\"primary_type\":\"THEFT\",\"updated_on\":\"2017-04-08T15:49:53.000\",\"ward\":\"23\",\"x_coordinate\":\"1150625\",\"y_coordinate\":\"1868330\",\"year\":\"2017\"}\n",
      ",{\"arrest\":false,\"beat\":\"0432\",\"block\":\"107XX S AVENUE H\",\"case_number\":\"JA209135\",\"community_area\":\"52\",\"date\":\"2017-04-01T20:40:00.000\",\"description\":\"OVER $500\",\"district\":\"004\",\"domestic\":false,\"fbi_code\":\"06\",\"id\":\"10897731\",\"iucr\":\"0810\",\"latitude\":\"41.700248285\",\"location\":{\"type\":\"Point\",\"coordinates\":[-87.532867,41.700248]},\"location_description\":\"STREET\",\"longitude\":\"-87.532866646\",\"primary_type\":\"THEFT\",\"updated_on\":\"2017-04-08T15:49:53.000\",\"ward\":\"10\",\"x_coordinate\":\"1202846\",\"y_coordinate\":\"1834378\",\"year\":\"2017\"}\n",
      ",{\"arrest\":true,\"beat\":\"1112\",\"block\":\"007XX N LAWNDALE AVE\",\"case_number\":\"JA209136\",\"community_area\":\"23\",\"date\":\"2017-04-01T20:47:00.000\",\"description\":\"POSS: CANNABIS 30GMS OR LESS\",\"district\":\"011\",\"domestic\":false,\"fbi_code\":\"18\",\"id\":\"10897713\",\"iucr\":\"1811\",\"latitude\":\"41.89424735\",\"location\":{\"type\":\"Point\",\"coordinates\":[-87.718718,41.894247]},\"location_description\":\"VEHICLE NON-COMMERCIAL\",\"longitude\":\"-87.718717842\",\"primary_type\":\"NARCOTICS\",\"updated_on\":\"2017-04-08T15:49:53.000\",\"ward\":\"27\",\"x_coordinate\":\"1151587\",\"y_coordinate\":\"1904653\",\"year\":\"2017\"}\n",
      ",{\"arrest\":true,\"beat\":\"1831\",\"block\":\"003XX W ERIE ST\",\"case_number\":\"JA209198\",\"community_area\":\"8\",\"date\":\"2017-04-01T20:52:00.000\",\"description\":\"DOMESTIC BATTERY SIMPLE\",\"district\":\"018\",\"domestic\":true,\"fbi_code\":\"08B\",\"id\":\"10897820\",\"iucr\":\"0486\",\"latitude\":\"41.893946016\",\"location\":{\"type\":\"Point\",\"coordinates\":[-87.637528,41.893946]},\"location_description\":\"STREET\",\"longitude\":\"-87.637527948\",\"primary_type\":\"BATTERY\",\"updated_on\":\"2017-04-08T15:49:53.000\",\"ward\":\"42\",\"x_coordinate\":\"1173693\",\"y_coordinate\":\"1904712\",\"year\":\"2017\"}\n",
      ",{\"arrest\":false,\"beat\":\"1215\",\"block\":\"013XX W LAKE ST\",\"case_number\":\"JA209138\",\"community_area\":\"28\",\"date\":\"2017-04-01T20:55:00.000\",\"description\":\"DOMESTIC BATTERY SIMPLE\",\"district\":\"012\",\"domestic\":true,\"fbi_code\":\"08B\",\"id\":\"10897747\",\"iucr\":\"0486\",\"latitude\":\"41.885426714\",\"location\":{\"type\":\"Point\",\"coordinates\":[-87.661759,41.885427]},\"location_description\":\"SIDEWALK\",\"longitude\":\"-87.661759042\",\"primary_type\":\"BATTERY\",\"updated_on\":\"2017-04-08T15:49:53.000\",\"ward\":\"27\",\"x_coordinate\":\"1167120\",\"y_coordinate\":\"1901555\",\"year\":\"2017\"}\n",
      ",{\"arrest\":false,\"beat\":\"0714\",\"block\":\"061XX S WOOD ST\",\"case_number\":\"JA220639\",\"community_area\":\"67\",\"date\":\"2017-04-01T21:00:00.000\",\"description\":\"AUTOMOBILE\",\"district\":\"007\",\"domestic\":false,\"fbi_code\":\"07\",\"id\":\"10911562\",\"iucr\":\"0910\",\"latitude\":\"41.782460831\",\"location\":{\"type\":\"Point\",\"coordinates\":[-87.669141,41.782461]},\"location_description\":\"APARTMENT\",\"longitude\":\"-87.66914097\",\"primary_type\":\"MOTOR VEHICLE THEFT\",\"updated_on\":\"2017-04-17T16:05:36.000\",\"ward\":\"15\",\"x_coordinate\":\"1165400\",\"y_coordinate\":\"1864019\",\"year\":\"2017\"}\n",
      ",{\"arrest\":false,\"beat\":\"0831\",\"block\":\"071XX S MOZART ST\",\"case_number\":\"JA213657\",\"community_area\":\"66\",\"date\":\"2017-04-01T21:00:00.000\",\"description\":\"OVER $500\",\"district\":\"008\",\"domestic\":false,\"fbi_code\":\"06\",\"id\":\"10902310\",\"iucr\":\"0810\",\"latitude\":\"41.763837651\",\"location\":{\"type\":\"Point\",\"coordinates\":[-87.694233,41.763838]},\"location_description\":\"RESIDENCE\",\"longitude\":\"-87.694232505\",\"primary_type\":\"THEFT\",\"updated_on\":\"2017-04-10T15:48:51.000\",\"ward\":\"18\",\"x_coordinate\":\"1158607\",\"y_coordinate\":\"1857181\",\"year\":\"2017\"}\n",
      ",{\"arrest\":false,\"beat\":\"1111\",\"block\":\"047XX W CHICAGO AVE\",\"case_number\":\"JA212418\",\"community_area\":\"25\",\"date\":\"2017-04-01T21:00:00.000\",\"description\":\"SIMPLE\",\"district\":\"011\",\"domestic\":true,\"fbi_code\":\"08A\",\"id\":\"10900771\",\"iucr\":\"0560\",\"latitude\":\"41.895032182\",\"location\":{\"type\":\"Point\",\"coordinates\":[-87.744373,41.895032]},\"location_description\":\"RESIDENCE\",\"longitude\":\"-87.744373225\",\"primary_type\":\"ASSAULT\",\"updated_on\":\"2017-04-08T15:49:53.000\",\"ward\":\"28\",\"x_coordinate\":\"1144600\",\"y_coordinate\":\"1904890\",\"year\":\"2017\"}\n",
      ",{\"arrest\":false,\"beat\":\"0621\",\"block\":\"075XX S SANGAMON ST\",\"case_number\":\"JA211336\",\"community_area\":\"71\",\"date\":\"2017-04-01T21:00:00.000\",\"description\":\"TO PROPERTY\",\"district\":\"006\",\"domestic\":false,\"fbi_code\":\"14\",\"id\":\"10899572\",\"iucr\":\"1310\",\"latitude\":\"41.757118414\",\"location\":{\"type\":\"Point\",\"coordinates\":[-87.647848,41.757118]},\"location_description\":\"RESIDENCE\",\"longitude\":\"-87.647848064\",\"primary_type\":\"CRIMINAL DAMAGE\",\"updated_on\":\"2017-04-08T15:49:53.000\",\"ward\":\"17\",\"x_coordinate\":\"1171281\",\"y_coordinate\":\"1854830\",\"year\":\"2017\"}\n",
      ",{\"arrest\":false,\"beat\":\"1831\",\"block\":\"004XX N WELLS ST\",\"case_number\":\"JA210552\",\"community_area\":\"8\",\"date\":\"2017-04-01T21:00:00.000\",\"description\":\"TO VEHICLE\",\"district\":\"018\",\"domestic\":false,\"fbi_code\":\"14\",\"id\":\"10898911\",\"iucr\":\"1320\",\"latitude\":\"41.889369287\",\"location\":{\"type\":\"Point\",\"coordinates\":[-87.634023,41.889369]},\"location_description\":\"OTHER\",\"longitude\":\"-87.634022523\",\"primary_type\":\"CRIMINAL DAMAGE\",\"updated_on\":\"2017-04-08T15:49:53.000\",\"ward\":\"42\",\"x_coordinate\":\"1174661\",\"y_coordinate\":\"1903052\",\"year\":\"2017\"}\n",
      ",{\"arrest\":false,\"beat\":\"0513\",\"block\":\"004XX E 110TH PL\",\"case_number\":\"JA210067\",\"community_area\":\"49\",\"date\":\"2017-04-01T21:00:00.000\",\"description\":\"SIMPLE\",\"district\":\"005\",\"domestic\":false,\"fbi_code\":\"08B\",\"id\":\"10898428\",\"iucr\":\"0460\",\"latitude\":\"41.693221893\",\"location\":{\"type\":\"Point\",\"coordinates\":[-87.611887,41.693222]},\"location_description\":\"RESIDENCE\",\"longitude\":\"-87.611886916\",\"primary_type\":\"BATTERY\",\"updated_on\":\"2017-04-08T15:49:53.000\",\"ward\":\"9\",\"x_coordinate\":\"1181288\",\"y_coordinate\":\"1831627\",\"year\":\"2017\"}\n",
      ",{\"arrest\":false,\"beat\":\"1633\",\"block\":\"054XX W ROSCOE ST\",\"case_number\":\"JA209164\",\"community_area\":\"15\",\"date\":\"2017-04-01T21:00:00.000\",\"description\":\"DOMESTIC BATTERY SIMPLE\",\"district\":\"016\",\"domestic\":false,\"fbi_code\":\"08B\",\"id\":\"10898332\",\"iucr\":\"0486\",\"latitude\":\"41.942274261\",\"location\":{\"type\":\"Point\",\"coordinates\":[-87.762879,41.942274]},\"location_description\":\"RESIDENCE\",\"longitude\":\"-87.762879357\",\"primary_type\":\"BATTERY\",\"updated_on\":\"2017-04-08T15:49:53.000\",\"ward\":\"38\",\"x_coordinate\":\"1139447\",\"y_coordinate\":\"1922071\",\"year\":\"2017\"}\n",
      ",{\"arrest\":false,\"beat\":\"0421\",\"block\":\"076XX S COLES AVE\",\"case_number\":\"JA209640\",\"community_area\":\"43\",\"date\":\"2017-04-01T21:00:00.000\",\"description\":\"OVER $500\",\"district\":\"004\",\"domestic\":false,\"fbi_code\":\"06\",\"id\":\"10898101\",\"iucr\":\"0810\",\"latitude\":\"41.756873302\",\"location\":{\"type\":\"Point\",\"coordinates\":[-87.555491,41.756873]},\"location_description\":\"VEHICLE NON-COMMERCIAL\",\"longitude\":\"-87.555491394\",\"primary_type\":\"THEFT\",\"updated_on\":\"2017-04-08T15:49:53.000\",\"ward\":\"7\",\"x_coordinate\":\"1196481\",\"y_coordinate\":\"1854955\",\"year\":\"2017\"}\n",
      ",{\"arrest\":false,\"beat\":\"2411\",\"block\":\"023XX W TOUHY AVE\",\"case_number\":\"JA209587\",\"community_area\":\"2\",\"date\":\"2017-04-01T21:00:00.000\",\"description\":\"FROM BUILDING\",\"district\":\"024\",\"domestic\":false,\"fbi_code\":\"06\",\"id\":\"10898073\",\"iucr\":\"0890\",\"latitude\":\"42.012257548\",\"location\":{\"type\":\"Point\",\"coordinates\":[-87.687862,42.012258]},\"location_description\":\"RESIDENCE-GARAGE\",\"longitude\":\"-87.687862198\",\"primary_type\":\"THEFT\",\"updated_on\":\"2017-04-08T15:49:53.000\",\"ward\":\"49\",\"x_coordinate\":\"1159664\",\"y_coordinate\":\"1947718\",\"year\":\"2017\"}\n",
      ",{\"arrest\":false,\"beat\":\"2515\",\"block\":\"025XX N PARKSIDE AVE\",\"case_number\":\"JA209561\",\"community_area\":\"19\",\"date\":\"2017-04-01T21:00:00.000\",\"description\":\"FORCIBLE ENTRY\",\"district\":\"025\",\"domestic\":false,\"fbi_code\":\"05\",\"id\":\"10898041\",\"iucr\":\"0610\",\"latitude\":\"41.926634846\",\"location\":{\"type\":\"Point\",\"coordinates\":[-87.7673,41.926635]},\"location_description\":\"RESIDENCE-GARAGE\",\"longitude\":\"-87.767299808\",\"primary_type\":\"BURGLARY\",\"updated_on\":\"2017-04-08T15:49:53.000\",\"ward\":\"30\",\"x_coordinate\":\"1138282\",\"y_coordinate\":\"1916364\",\"year\":\"2017\"}\n",
      ",{\"arrest\":false,\"beat\":\"2033\",\"block\":\"050XX N WINTHROP AVE\",\"case_number\":\"JA209502\",\"community_area\":\"3\",\"date\":\"2017-04-01T21:00:00.000\",\"description\":\"FROM BUILDING\",\"district\":\"020\",\"domestic\":false,\"fbi_code\":\"06\",\"id\":\"10897987\",\"iucr\":\"0890\",\"latitude\":\"41.973923557\",\"location\":{\"type\":\"Point\",\"coordinates\":[-87.657752,41.973924]},\"location_description\":\"RESIDENCE\",\"longitude\":\"-87.657752098\",\"primary_type\":\"THEFT\",\"updated_on\":\"2017-04-08T15:49:53.000\",\"ward\":\"48\",\"x_coordinate\":\"1167957\",\"y_coordinate\":\"1933812\",\"year\":\"2017\"}\n",
      ",{\"arrest\":false,\"beat\":\"1822\",\"block\":\"010XX W WEED ST\",\"case_number\":\"JA209425\",\"community_area\":\"8\",\"date\":\"2017-04-01T21:00:00.000\",\"description\":\"OVER $500\",\"district\":\"018\",\"domestic\":false,\"fbi_code\":\"06\",\"id\":\"10897951\",\"iucr\":\"0810\",\"latitude\":\"41.908940026\",\"location\":{\"type\":\"Point\",\"coordinates\":[-87.654874,41.90894]},\"location_description\":\"VEHICLE NON-COMMERCIAL\",\"longitude\":\"-87.654874192\",\"primary_type\":\"THEFT\",\"updated_on\":\"2017-04-08T15:49:53.000\",\"ward\":\"32\",\"x_coordinate\":\"1168927\",\"y_coordinate\":\"1910138\",\"year\":\"2017\"}\n",
      ",{\"arrest\":false,\"beat\":\"1811\",\"block\":\"016XX N KINGSBURY ST\",\"case_number\":\"JA209446\",\"community_area\":\"7\",\"date\":\"2017-04-01T21:00:00.000\",\"description\":\"TO VEHICLE\",\"district\":\"018\",\"domestic\":false,\"fbi_code\":\"14\",\"id\":\"10897931\",\"iucr\":\"1320\",\"latitude\":\"41.911242538\",\"location\":{\"type\":\"Point\",\"coordinates\":[-87.654427,41.911243]},\"location_description\":\"STREET\",\"longitude\":\"-87.654427314\",\"primary_type\":\"CRIMINAL DAMAGE\",\"updated_on\":\"2017-04-08T15:49:53.000\",\"ward\":\"32\",\"x_coordinate\":\"1169042\",\"y_coordinate\":\"1910978\",\"year\":\"2017\"}\n",
      ",{\"arrest\":true,\"beat\":\"0711\",\"block\":\"007XX W GARFIELD BLVD\",\"case_number\":\"JA209163\",\"community_area\":\"68\",\"date\":\"2017-04-01T21:00:00.000\",\"description\":\"POSS: SYNTHETIC DRUGS\",\"district\":\"007\",\"domestic\":false,\"fbi_code\":\"18\",\"id\":\"10897764\",\"iucr\":\"2028\",\"latitude\":\"41.793975353\",\"location\":{\"type\":\"Point\",\"coordinates\":[-87.643444,41.793975]},\"location_description\":\"VEHICLE NON-COMMERCIAL\",\"longitude\":\"-87.643443601\",\"primary_type\":\"NARCOTICS\",\"updated_on\":\"2017-04-08T15:49:53.000\",\"ward\":\"3\",\"x_coordinate\":\"1172375\",\"y_coordinate\":\"1868270\",\"year\":\"2017\"}\n",
      ",{\"arrest\":false,\"beat\":\"0512\",\"block\":\"003XX W 107TH ST\",\"case_number\":\"JA209155\",\"community_area\":\"49\",\"date\":\"2017-04-01T21:00:00.000\",\"description\":\"FROM BUILDING\",\"district\":\"005\",\"domestic\":false,\"fbi_code\":\"06\",\"id\":\"10897740\",\"iucr\":\"0890\",\"latitude\":\"41.699769093\",\"location\":{\"type\":\"Point\",\"coordinates\":[-87.631708,41.699769]},\"location_description\":\"RESIDENCE\",\"longitude\":\"-87.631708344\",\"primary_type\":\"THEFT\",\"updated_on\":\"2017-04-08T15:49:53.000\",\"ward\":\"34\",\"x_coordinate\":\"1175855\",\"y_coordinate\":\"1833968\",\"year\":\"2017\"}\n",
      ",{\"arrest\":true,\"beat\":\"1011\",\"block\":\"038XX W ROOSEVELT RD\",\"case_number\":\"JA209152\",\"community_area\":\"29\",\"date\":\"2017-04-01T21:00:00.000\",\"description\":\"TO LAND\",\"district\":\"010\",\"domestic\":false,\"fbi_code\":\"26\",\"id\":\"10897726\",\"iucr\":\"1330\",\"latitude\":\"41.866235446\",\"location\":{\"type\":\"Point\",\"coordinates\":[-87.720517,41.866235]},\"location_description\":\"GAS STATION\",\"longitude\":\"-87.720517147\",\"primary_type\":\"CRIMINAL TRESPASS\",\"updated_on\":\"2017-04-08T15:49:53.000\",\"ward\":\"24\",\"x_coordinate\":\"1151170\",\"y_coordinate\":\"1894442\",\"year\":\"2017\"}\n",
      ",{\"arrest\":true,\"beat\":\"1024\",\"block\":\"034XX W OGDEN AVE\",\"case_number\":\"JA209165\",\"community_area\":\"29\",\"date\":\"2017-04-01T21:09:00.000\",\"description\":\"TO LAND\",\"district\":\"010\",\"domestic\":false,\"fbi_code\":\"26\",\"id\":\"10897736\",\"iucr\":\"1330\",\"latitude\":\"41.855574302\",\"location\":{\"type\":\"Point\",\"coordinates\":[-87.71189,41.855574]},\"location_description\":\"CONVENIENCE STORE\",\"longitude\":\"-87.71189003\",\"primary_type\":\"CRIMINAL TRESPASS\",\"updated_on\":\"2017-04-08T15:49:53.000\",\"ward\":\"24\",\"x_coordinate\":\"1153548\",\"y_coordinate\":\"1890574\",\"year\":\"2017\"}\n",
      ",{\"arrest\":false,\"beat\":\"1731\",\"block\":\"040XX W MELROSE ST\",\"case_number\":\"JA209160\",\"community_area\":\"16\",\"date\":\"2017-04-01T21:10:00.000\",\"description\":\"TO PROPERTY\",\"district\":\"017\",\"domestic\":true,\"fbi_code\":\"14\",\"id\":\"10897733\",\"iucr\":\"1310\",\"latitude\":\"41.939989949\",\"location\":{\"type\":\"Point\",\"coordinates\":[-87.72835,41.93999]},\"location_description\":\"APARTMENT\",\"longitude\":\"-87.728349727\",\"primary_type\":\"CRIMINAL DAMAGE\",\"updated_on\":\"2017-04-08T15:49:53.000\",\"ward\":\"31\",\"x_coordinate\":\"1148847\",\"y_coordinate\":\"1921303\",\"year\":\"2017\"}\n",
      ",{\"arrest\":true,\"beat\":\"0725\",\"block\":\"066XX S HERMITAGE AVE\",\"case_number\":\"JA209168\",\"community_area\":\"67\",\"date\":\"2017-04-01T21:16:00.000\",\"description\":\"POSS: CANNABIS 30GMS OR LESS\",\"district\":\"007\",\"domestic\":false,\"fbi_code\":\"18\",\"id\":\"10897750\",\"iucr\":\"1811\",\"latitude\":\"41.773064379\",\"location\":{\"type\":\"Point\",\"coordinates\":[-87.66772,41.773064]},\"location_description\":\"SIDEWALK\",\"longitude\":\"-87.667720205\",\"primary_type\":\"NARCOTICS\",\"updated_on\":\"2017-04-08T15:49:53.000\",\"ward\":\"15\",\"x_coordinate\":\"1165814\",\"y_coordinate\":\"1860598\",\"year\":\"2017\"}\n",
      ",{\"arrest\":false,\"beat\":\"0411\",\"block\":\"075XX S STONY ISLAND AVE\",\"case_number\":\"JA209203\",\"community_area\":\"43\",\"date\":\"2017-04-01T21:20:00.000\",\"description\":\"FROM BUILDING\",\"district\":\"004\",\"domestic\":false,\"fbi_code\":\"06\",\"id\":\"10897775\",\"iucr\":\"0890\",\"latitude\":\"41.757614433\",\"location\":{\"type\":\"Point\",\"coordinates\":[-87.586115,41.757614]},\"location_description\":\"GROCERY FOOD STORE\",\"longitude\":\"-87.586115266\",\"primary_type\":\"THEFT\",\"updated_on\":\"2017-04-08T15:49:53.000\",\"ward\":\"5\",\"x_coordinate\":\"1188123\",\"y_coordinate\":\"1855151\",\"year\":\"2017\"}\n",
      ",{\"arrest\":true,\"beat\":\"1211\",\"block\":\"009XX N FAIRFIELD AVE\",\"case_number\":\"JA209172\",\"community_area\":\"24\",\"date\":\"2017-04-01T21:22:00.000\",\"description\":\"UNLAWFUL POSS OF HANDGUN\",\"district\":\"012\",\"domestic\":false,\"fbi_code\":\"15\",\"id\":\"10897803\",\"iucr\":\"143A\",\"latitude\":\"41.898388237\",\"location\":{\"type\":\"Point\",\"coordinates\":[-87.695537,41.898388]},\"location_description\":\"SIDEWALK\",\"longitude\":\"-87.695537347\",\"primary_type\":\"WEAPONS VIOLATION\",\"updated_on\":\"2017-04-08T15:49:53.000\",\"ward\":\"26\",\"x_coordinate\":\"1157887\",\"y_coordinate\":\"1906208\",\"year\":\"2017\"}\n",
      ",{\"arrest\":false,\"beat\":\"2413\",\"block\":\"021XX W PETERSON AVE\",\"case_number\":\"JA209241\",\"community_area\":\"2\",\"date\":\"2017-04-01T21:27:00.000\",\"description\":\"CREDIT CARD FRAUD\",\"district\":\"024\",\"domestic\":false,\"fbi_code\":\"11\",\"id\":\"10897783\",\"iucr\":\"1150\",\"latitude\":\"41.990615196\",\"location\":{\"type\":\"Point\",\"coordinates\":[-87.683189,41.990615]},\"location_description\":\"OTHER\",\"longitude\":\"-87.683188577\",\"primary_type\":\"DECEPTIVE PRACTICE\",\"updated_on\":\"2017-04-08T15:49:53.000\",\"ward\":\"40\",\"x_coordinate\":\"1160994\",\"y_coordinate\":\"1939841\",\"year\":\"2017\"}\n",
      ",{\"arrest\":false,\"beat\":\"2233\",\"block\":\"112XX S HALSTED ST\",\"case_number\":\"JA209162\",\"community_area\":\"49\",\"date\":\"2017-04-01T21:28:00.000\",\"description\":\"SIMPLE\",\"district\":\"022\",\"domestic\":false,\"fbi_code\":\"08A\",\"id\":\"10897752\",\"iucr\":\"0560\",\"latitude\":\"41.689583135\",\"location\":{\"type\":\"Point\",\"coordinates\":[-87.64229,41.689583]},\"location_description\":\"OTHER\",\"longitude\":\"-87.64229016\",\"primary_type\":\"ASSAULT\",\"updated_on\":\"2017-04-08T15:49:53.000\",\"ward\":\"34\",\"x_coordinate\":\"1172995\",\"y_coordinate\":\"1830233\",\"year\":\"2017\"}\n",
      ",{\"arrest\":false,\"beat\":\"1712\",\"block\":\"048XX N CENTRAL PARK AVE\",\"case_number\":\"JA209631\",\"community_area\":\"14\",\"date\":\"2017-04-01T21:30:00.000\",\"description\":\"OVER $500\",\"district\":\"017\",\"domestic\":false,\"fbi_code\":\"06\",\"id\":\"10898095\",\"iucr\":\"0810\",\"latitude\":\"41.969044291\",\"location\":{\"type\":\"Point\",\"coordinates\":[-87.718275,41.969044]},\"location_description\":\"DRIVEWAY - RESIDENTIAL\",\"longitude\":\"-87.718275154\",\"primary_type\":\"THEFT\",\"updated_on\":\"2017-04-08T15:49:53.000\",\"ward\":\"39\",\"x_coordinate\":\"1151512\",\"y_coordinate\":\"1931910\",\"year\":\"2017\"}\n",
      ",{\"arrest\":false,\"beat\":\"2512\",\"block\":\"023XX N OAK PARK AVE\",\"case_number\":\"JA209580\",\"community_area\":\"18\",\"date\":\"2017-04-01T21:30:00.000\",\"description\":\"FORCIBLE ENTRY\",\"district\":\"025\",\"domestic\":false,\"fbi_code\":\"05\",\"id\":\"10898060\",\"iucr\":\"0610\",\"latitude\":\"41.921760699\",\"location\":{\"type\":\"Point\",\"coordinates\":[-87.795184,41.921761]},\"location_description\":\"RESIDENCE-GARAGE\",\"longitude\":\"-87.795184476\",\"primary_type\":\"BURGLARY\",\"updated_on\":\"2017-04-08T15:49:53.000\",\"ward\":\"36\",\"x_coordinate\":\"1130705\",\"y_coordinate\":\"1914539\",\"year\":\"2017\"}\n",
      ",{\"arrest\":false,\"beat\":\"0523\",\"block\":\"120XX S STEWART AVE\",\"case_number\":\"JA209536\",\"community_area\":\"53\",\"date\":\"2017-04-01T21:30:00.000\",\"description\":\"TO VEHICLE\",\"district\":\"005\",\"domestic\":false,\"fbi_code\":\"14\",\"id\":\"10898030\",\"iucr\":\"1320\",\"latitude\":\"41.675490244\",\"location\":{\"type\":\"Point\",\"coordinates\":[-87.632203,41.67549]},\"location_description\":\"DRIVEWAY - RESIDENTIAL\",\"longitude\":\"-87.632202702\",\"primary_type\":\"CRIMINAL DAMAGE\",\"updated_on\":\"2017-04-08T15:49:53.000\",\"ward\":\"34\",\"x_coordinate\":\"1175792\",\"y_coordinate\":\"1825120\",\"year\":\"2017\"}\n",
      ",{\"arrest\":true,\"beat\":\"0212\",\"block\":\"035XX S COTTAGE GROVE AVE\",\"case_number\":\"JA209183\",\"community_area\":\"36\",\"date\":\"2017-04-01T21:30:00.000\",\"description\":\"TO RESIDENCE\",\"district\":\"002\",\"domestic\":false,\"fbi_code\":\"26\",\"id\":\"10897787\",\"iucr\":\"1365\",\"latitude\":\"41.830530933\",\"location\":{\"type\":\"Point\",\"coordinates\":[-87.610277,41.830531]},\"location_description\":\"RESIDENCE PORCH/HALLWAY\",\"longitude\":\"-87.610277459\",\"primary_type\":\"CRIMINAL TRESPASS\",\"updated_on\":\"2017-04-08T15:49:53.000\",\"ward\":\"4\",\"x_coordinate\":\"1181307\",\"y_coordinate\":\"1881665\",\"year\":\"2017\"}\n",
      ",{\"arrest\":false,\"beat\":\"0532\",\"block\":\"119XX S MICHIGAN AVE\",\"case_number\":\"JA209166\",\"community_area\":\"53\",\"date\":\"2017-04-01T21:30:00.000\",\"description\":\"SIMPLE\",\"district\":\"005\",\"domestic\":false,\"fbi_code\":\"08A\",\"id\":\"10897772\",\"iucr\":\"0560\",\"latitude\":\"41.677830552\",\"location\":{\"type\":\"Point\",\"coordinates\":[-87.620504,41.677831]},\"location_description\":\"GROCERY FOOD STORE\",\"longitude\":\"-87.620503762\",\"primary_type\":\"ASSAULT\",\"updated_on\":\"2017-04-08T15:49:53.000\",\"ward\":\"9\",\"x_coordinate\":\"1178981\",\"y_coordinate\":\"1825999\",\"year\":\"2017\"}\n",
      ",{\"arrest\":false,\"beat\":\"0822\",\"block\":\"054XX S PULASKI RD\",\"case_number\":\"JA209173\",\"community_area\":\"62\",\"date\":\"2017-04-01T21:30:00.000\",\"description\":\"TO VEHICLE\",\"district\":\"008\",\"domestic\":false,\"fbi_code\":\"14\",\"id\":\"10897741\",\"iucr\":\"1320\",\"latitude\":\"41.794591289\",\"location\":{\"type\":\"Point\",\"coordinates\":[-87.723199,41.794591]},\"location_description\":\"STREET\",\"longitude\":\"-87.723198732\",\"primary_type\":\"CRIMINAL DAMAGE\",\"updated_on\":\"2017-04-08T15:49:53.000\",\"ward\":\"23\",\"x_coordinate\":\"1150625\",\"y_coordinate\":\"1868330\",\"year\":\"2017\"}\n",
      ",{\"arrest\":true,\"beat\":\"0813\",\"block\":\"043XX W 63RD ST\",\"case_number\":\"JA209195\",\"community_area\":\"65\",\"date\":\"2017-04-01T21:37:00.000\",\"description\":\"DOMESTIC BATTERY SIMPLE\",\"district\":\"008\",\"domestic\":true,\"fbi_code\":\"08B\",\"id\":\"10897786\",\"iucr\":\"0486\",\"latitude\":\"41.778563459\",\"location\":{\"type\":\"Point\",\"coordinates\":[-87.730779,41.778563]},\"location_description\":\"SIDEWALK\",\"longitude\":\"-87.730778598\",\"primary_type\":\"BATTERY\",\"updated_on\":\"2017-04-08T15:49:53.000\",\"ward\":\"13\",\"x_coordinate\":\"1148599\",\"y_coordinate\":\"1862475\",\"year\":\"2017\"}\n",
      ",{\"arrest\":false,\"beat\":\"0421\",\"block\":\"076XX S SOUTH SHORE DR\",\"case_number\":\"JA209180\",\"community_area\":\"43\",\"date\":\"2017-04-01T21:40:00.000\",\"description\":\"AGGRAVATED:KNIFE/CUTTING INSTR\",\"district\":\"004\",\"domestic\":true,\"fbi_code\":\"04A\",\"id\":\"10897768\",\"iucr\":\"0520\",\"latitude\":\"41.758420277\",\"location\":{\"type\":\"Point\",\"coordinates\":[-87.554967,41.75842]},\"location_description\":\"APARTMENT\",\"longitude\":\"-87.554966924\",\"primary_type\":\"ASSAULT\",\"updated_on\":\"2017-04-08T15:49:53.000\",\"ward\":\"7\",\"x_coordinate\":\"1196619\",\"y_coordinate\":\"1855520\",\"year\":\"2017\"}\n",
      ",{\"arrest\":false,\"beat\":\"2522\",\"block\":\"044XX W BELDEN AVE\",\"case_number\":\"JA209263\",\"community_area\":\"20\",\"date\":\"2017-04-01T21:45:00.000\",\"description\":\"SIMPLE\",\"district\":\"025\",\"domestic\":true,\"fbi_code\":\"08A\",\"id\":\"10897797\",\"iucr\":\"0560\",\"latitude\":\"41.922532245\",\"location\":{\"type\":\"Point\",\"coordinates\":[-87.736944,41.922532]},\"location_description\":\"APARTMENT\",\"longitude\":\"-87.736944038\",\"primary_type\":\"ASSAULT\",\"updated_on\":\"2017-04-08T15:49:53.000\",\"ward\":\"31\",\"x_coordinate\":\"1146553\",\"y_coordinate\":\"1914925\",\"year\":\"2017\"}\n",
      ",{\"arrest\":false,\"beat\":\"2534\",\"block\":\"040XX W POTOMAC AVE\",\"case_number\":\"JA209170\",\"community_area\":\"23\",\"date\":\"2017-04-01T21:45:00.000\",\"description\":\"DOMESTIC BATTERY SIMPLE\",\"district\":\"025\",\"domestic\":true,\"fbi_code\":\"08B\",\"id\":\"10897759\",\"iucr\":\"0486\",\"latitude\":\"41.904455641\",\"location\":{\"type\":\"Point\",\"coordinates\":[-87.727444,41.904456]},\"location_description\":\"APARTMENT\",\"longitude\":\"-87.727443669\",\"primary_type\":\"BATTERY\",\"updated_on\":\"2017-04-08T15:49:53.000\",\"ward\":\"27\",\"x_coordinate\":\"1149185\",\"y_coordinate\":\"1908356\",\"year\":\"2017\"}\n",
      ",{\"arrest\":true,\"beat\":\"2412\",\"block\":\"067XX N CALIFORNIA AVE\",\"case_number\":\"JA209204\",\"community_area\":\"2\",\"date\":\"2017-04-01T21:47:00.000\",\"description\":\"TO RESIDENCE\",\"district\":\"024\",\"domestic\":false,\"fbi_code\":\"26\",\"id\":\"10897806\",\"iucr\":\"1365\",\"latitude\":\"42.003570105\",\"location\":{\"type\":\"Point\",\"coordinates\":[-87.699801,42.00357]},\"location_description\":\"APARTMENT\",\"longitude\":\"-87.699800669\",\"primary_type\":\"CRIMINAL TRESPASS\",\"updated_on\":\"2017-04-08T15:49:53.000\",\"ward\":\"50\",\"x_coordinate\":\"1156443\",\"y_coordinate\":\"1944528\",\"year\":\"2017\"}\n",
      ",{\"arrest\":true,\"beat\":\"1111\",\"block\":\"044XX W CHICAGO AVE\",\"case_number\":\"JA209181\",\"community_area\":\"23\",\"date\":\"2017-04-01T21:47:00.000\",\"description\":\"OBSTRUCTING IDENTIFICATION\",\"district\":\"011\",\"domestic\":false,\"fbi_code\":\"24\",\"id\":\"10897761\",\"iucr\":\"3731\",\"latitude\":\"41.895164866\",\"location\":{\"type\":\"Point\",\"coordinates\":[-87.737114,41.895165]},\"location_description\":\"STREET\",\"longitude\":\"-87.737114239\",\"primary_type\":\"INTERFERENCE WITH PUBLIC OFFICER\",\"updated_on\":\"2017-04-08T15:49:53.000\",\"ward\":\"37\",\"x_coordinate\":\"1146576\",\"y_coordinate\":\"1904952\",\"year\":\"2017\"}\n",
      ",{\"arrest\":false,\"beat\":\"0835\",\"block\":\"035XX W 73RD PL\",\"case_number\":\"JA209188\",\"community_area\":\"66\",\"date\":\"2017-04-01T21:50:00.000\",\"description\":\"STRONGARM - NO WEAPON\",\"district\":\"008\",\"domestic\":false,\"fbi_code\":\"03\",\"id\":\"10897862\",\"iucr\":\"0320\",\"latitude\":\"41.759702646\",\"location\":{\"type\":\"Point\",\"coordinates\":[-87.710848,41.759703]},\"location_description\":\"SIDEWALK\",\"longitude\":\"-87.710847663\",\"primary_type\":\"ROBBERY\",\"updated_on\":\"2017-04-08T15:49:53.000\",\"ward\":\"18\",\"x_coordinate\":\"1154085\",\"y_coordinate\":\"1855641\",\"year\":\"2017\"}\n",
      ",{\"arrest\":false,\"beat\":\"0933\",\"block\":\"048XX S MORGAN ST\",\"case_number\":\"JA211379\",\"community_area\":\"61\",\"date\":\"2017-04-01T22:00:00.000\",\"description\":\"TO PROPERTY\",\"district\":\"009\",\"domestic\":false,\"fbi_code\":\"14\",\"id\":\"10899653\",\"iucr\":\"1310\",\"latitude\":\"41.805542327\",\"location\":{\"type\":\"Point\",\"coordinates\":[-87.650303,41.805542]},\"location_description\":\"OTHER\",\"longitude\":\"-87.650303066\",\"primary_type\":\"CRIMINAL DAMAGE\",\"updated_on\":\"2017-04-12T15:51:40.000\",\"ward\":\"20\",\"x_coordinate\":\"1170471\",\"y_coordinate\":\"1872470\",\"year\":\"2017\"}\n",
      ",{\"arrest\":false,\"beat\":\"0834\",\"block\":\"038XX W 84TH PL\",\"case_number\":\"JA210584\",\"community_area\":\"70\",\"date\":\"2017-04-01T22:00:00.000\",\"description\":\"CRIMINAL DEFACEMENT\",\"district\":\"008\",\"domestic\":false,\"fbi_code\":\"14\",\"id\":\"10899078\",\"iucr\":\"1305\",\"latitude\":\"41.739499595\",\"location\":{\"type\":\"Point\",\"coordinates\":[-87.717572,41.7395]},\"location_description\":\"RESIDENCE-GARAGE\",\"longitude\":\"-87.717572188\",\"primary_type\":\"CRIMINAL DAMAGE\",\"updated_on\":\"2017-04-08T15:49:53.000\",\"ward\":\"18\",\"x_coordinate\":\"1152303\",\"y_coordinate\":\"1848266\",\"year\":\"2017\"}\n",
      ",{\"arrest\":false,\"beat\":\"0222\",\"block\":\"047XX S KIMBARK AVE\",\"case_number\":\"JA209600\",\"community_area\":\"39\",\"date\":\"2017-04-01T22:00:00.000\",\"description\":\"OVER $500\",\"district\":\"002\",\"domestic\":false,\"fbi_code\":\"06\",\"id\":\"10898857\",\"iucr\":\"0810\",\"latitude\":\"41.808450624\",\"location\":{\"type\":\"Point\",\"coordinates\":[-87.59519,41.808451]},\"location_description\":\"STREET\",\"longitude\":\"-87.595189945\",\"primary_type\":\"THEFT\",\"updated_on\":\"2017-04-08T15:49:53.000\",\"ward\":\"4\",\"x_coordinate\":\"1185488\",\"y_coordinate\":\"1873654\",\"year\":\"2017\"}\n",
      ",{\"arrest\":false,\"beat\":\"0411\",\"block\":\"075XX S STONY ISLAND AVE\",\"case_number\":\"JA209997\",\"community_area\":\"43\",\"date\":\"2017-04-01T22:00:00.000\",\"description\":\"NON-AGGRAVATED\",\"district\":\"004\",\"domestic\":false,\"fbi_code\":\"02\",\"id\":\"10898371\",\"iucr\":\"0281\",\"latitude\":\"41.757630995\",\"location\":{\"type\":\"Point\",\"coordinates\":[-87.585708,41.757631]},\"location_description\":\"HOSPITAL BUILDING/GROUNDS\",\"longitude\":\"-87.585708249\",\"primary_type\":\"CRIM SEXUAL ASSAULT\",\"updated_on\":\"2017-04-08T15:49:53.000\",\"ward\":\"8\",\"x_coordinate\":\"1188234\",\"y_coordinate\":\"1855158\",\"year\":\"2017\"}\n",
      ",{\"arrest\":false,\"beat\":\"0313\",\"block\":\"061XX S ST LAWRENCE AVE\",\"case_number\":\"JA209801\",\"community_area\":\"42\",\"date\":\"2017-04-01T22:00:00.000\",\"description\":\"TO PROPERTY\",\"district\":\"003\",\"domestic\":false,\"fbi_code\":\"14\",\"id\":\"10898238\",\"iucr\":\"1310\",\"latitude\":\"41.783121771\",\"location\":{\"type\":\"Point\",\"coordinates\":[-87.610865,41.783122]},\"location_description\":\"RESIDENCE-GARAGE\",\"longitude\":\"-87.610865355\",\"primary_type\":\"CRIMINAL DAMAGE\",\"updated_on\":\"2017-04-08T15:49:53.000\",\"ward\":\"20\",\"x_coordinate\":\"1181292\",\"y_coordinate\":\"1864388\",\"year\":\"2017\"}\n",
      ",{\"arrest\":false,\"beat\":\"1824\",\"block\":\"014XX N CLARK ST\",\"case_number\":\"JA209596\",\"community_area\":\"8\",\"date\":\"2017-04-01T22:00:00.000\",\"description\":\"TO VEHICLE\",\"district\":\"018\",\"domestic\":false,\"fbi_code\":\"14\",\"id\":\"10898071\",\"iucr\":\"1320\",\"latitude\":\"41.908863236\",\"location\":{\"type\":\"Point\",\"coordinates\":[-87.631595,41.908863]},\"location_description\":\"STREET\",\"longitude\":\"-87.631594536\",\"primary_type\":\"CRIMINAL DAMAGE\",\"updated_on\":\"2017-04-08T15:49:53.000\",\"ward\":\"42\",\"x_coordinate\":\"1175264\",\"y_coordinate\":\"1910161\",\"year\":\"2017\"}\n",
      ",{\"arrest\":false,\"beat\":\"1533\",\"block\":\"051XX W VAN BUREN ST\",\"case_number\":\"JA209343\",\"community_area\":\"25\",\"date\":\"2017-04-01T22:00:00.000\",\"description\":\"$500 AND UNDER\",\"district\":\"015\",\"domestic\":false,\"fbi_code\":\"06\",\"id\":\"10897865\",\"iucr\":\"0820\",\"latitude\":\"41.874865643\",\"location\":{\"type\":\"Point\",\"coordinates\":[-87.753727,41.874866]},\"location_description\":\"STREET\",\"longitude\":\"-87.753726888\",\"primary_type\":\"THEFT\",\"updated_on\":\"2017-04-08T15:49:53.000\",\"ward\":\"29\",\"x_coordinate\":\"1142103\",\"y_coordinate\":\"1897524\",\"year\":\"2017\"}\n",
      ",{\"arrest\":true,\"beat\":\"0522\",\"block\":\"117XX S LA SALLE ST\",\"case_number\":\"JA209245\",\"community_area\":\"53\",\"date\":\"2017-04-01T22:00:00.000\",\"description\":\"DOMESTIC BATTERY SIMPLE\",\"district\":\"005\",\"domestic\":true,\"fbi_code\":\"08B\",\"id\":\"10897814\",\"iucr\":\"0486\",\"latitude\":\"41.680795031\",\"location\":{\"type\":\"Point\",\"coordinates\":[-87.626376,41.680795]},\"location_description\":\"RESIDENCE\",\"longitude\":\"-87.626375806\",\"primary_type\":\"BATTERY\",\"updated_on\":\"2017-04-08T15:49:53.000\",\"ward\":\"34\",\"x_coordinate\":\"1177368\",\"y_coordinate\":\"1827066\",\"year\":\"2017\"}\n",
      ",{\"arrest\":false,\"beat\":\"1934\",\"block\":\"031XX N BROADWAY\",\"case_number\":\"JA209212\",\"community_area\":\"6\",\"date\":\"2017-04-01T22:00:00.000\",\"description\":\"$500 AND UNDER\",\"district\":\"019\",\"domestic\":true,\"fbi_code\":\"06\",\"id\":\"10897774\",\"iucr\":\"0820\",\"latitude\":\"41.939651294\",\"location\":{\"type\":\"Point\",\"coordinates\":[-87.644386,41.939651]},\"location_description\":\"STREET\",\"longitude\":\"-87.64438597\",\"primary_type\":\"THEFT\",\"updated_on\":\"2017-04-08T15:49:53.000\",\"ward\":\"44\",\"x_coordinate\":\"1171692\",\"y_coordinate\":\"1921352\",\"year\":\"2017\"}\n",
      ",{\"arrest\":false,\"beat\":\"1912\",\"block\":\"040XX N DAMEN AVE\",\"case_number\":\"JA209200\",\"community_area\":\"5\",\"date\":\"2017-04-01T22:08:00.000\",\"description\":\"FORCIBLE ENTRY\",\"district\":\"019\",\"domestic\":false,\"fbi_code\":\"05\",\"id\":\"10897833\",\"iucr\":\"0610\",\"latitude\":\"41.954462619\",\"location\":{\"type\":\"Point\",\"coordinates\":[-87.678762,41.954463]},\"location_description\":\"SMALL RETAIL STORE\",\"longitude\":\"-87.678762165\",\"primary_type\":\"BURGLARY\",\"updated_on\":\"2017-04-08T15:49:53.000\",\"ward\":\"47\",\"x_coordinate\":\"1162298\",\"y_coordinate\":\"1926676\",\"year\":\"2017\"}\n",
      ",{\"arrest\":true,\"beat\":\"0922\",\"block\":\"025XX W 45TH PL\",\"case_number\":\"JA209205\",\"community_area\":\"58\",\"date\":\"2017-04-01T22:20:00.000\",\"description\":\"DOMESTIC BATTERY SIMPLE\",\"district\":\"009\",\"domestic\":true,\"fbi_code\":\"08B\",\"id\":\"10897883\",\"iucr\":\"0486\",\"latitude\":\"41.811112731\",\"location\":{\"type\":\"Point\",\"coordinates\":[-87.687707,41.811113]},\"location_description\":\"STREET\",\"longitude\":\"-87.687706681\",\"primary_type\":\"BATTERY\",\"updated_on\":\"2017-04-08T15:49:53.000\",\"ward\":\"12\",\"x_coordinate\":\"1160258\",\"y_coordinate\":\"1874421\",\"year\":\"2017\"}\n",
      ",{\"arrest\":false,\"beat\":\"2532\",\"block\":\"012XX N CENTRAL AVE\",\"case_number\":\"JA209206\",\"community_area\":\"25\",\"date\":\"2017-04-01T22:20:00.000\",\"description\":\"TO VEHICLE\",\"district\":\"025\",\"domestic\":true,\"fbi_code\":\"14\",\"id\":\"10897796\",\"iucr\":\"1320\",\"latitude\":\"41.902370457\",\"location\":{\"type\":\"Point\",\"coordinates\":[-87.765659,41.90237]},\"location_description\":\"VEHICLE NON-COMMERCIAL\",\"longitude\":\"-87.76565911\",\"primary_type\":\"CRIMINAL DAMAGE\",\"updated_on\":\"2017-04-08T15:49:53.000\",\"ward\":\"37\",\"x_coordinate\":\"1138787\",\"y_coordinate\":\"1907525\",\"year\":\"2017\"}\n",
      ",{\"arrest\":true,\"beat\":\"1011\",\"block\":\"037XX W ROOSEVELT RD\",\"case_number\":\"JA209207\",\"community_area\":\"29\",\"date\":\"2017-04-01T22:20:00.000\",\"description\":\"TO LAND\",\"district\":\"010\",\"domestic\":false,\"fbi_code\":\"26\",\"id\":\"10897778\",\"iucr\":\"1330\",\"latitude\":\"41.86625461\",\"location\":{\"type\":\"Point\",\"coordinates\":[-87.718968,41.866255]},\"location_description\":\"GAS STATION\",\"longitude\":\"-87.718967674\",\"primary_type\":\"CRIMINAL TRESPASS\",\"updated_on\":\"2017-04-08T15:49:53.000\",\"ward\":\"24\",\"x_coordinate\":\"1151592\",\"y_coordinate\":\"1894452\",\"year\":\"2017\"}\n",
      ",{\"arrest\":false,\"beat\":\"0913\",\"block\":\"030XX S BROAD ST\",\"case_number\":\"JA209209\",\"community_area\":\"60\",\"date\":\"2017-04-01T22:25:00.000\",\"description\":\"TO PROPERTY\",\"district\":\"009\",\"domestic\":false,\"fbi_code\":\"14\",\"id\":\"10897792\",\"iucr\":\"1310\",\"latitude\":\"41.839037194\",\"location\":{\"type\":\"Point\",\"coordinates\":[-87.661646,41.839037]},\"location_description\":\"APARTMENT\",\"longitude\":\"-87.66164613\",\"primary_type\":\"CRIMINAL DAMAGE\",\"updated_on\":\"2017-04-08T15:49:53.000\",\"ward\":\"11\",\"x_coordinate\":\"1167283\",\"y_coordinate\":\"1884651\",\"year\":\"2017\"}\n",
      ",{\"arrest\":false,\"beat\":\"0311\",\"block\":\"0000X E 61ST ST\",\"case_number\":\"JA215905\",\"community_area\":\"40\",\"date\":\"2017-04-01T22:30:00.000\",\"description\":\"AGGRAVATED DOMESTIC BATTERY: OTHER DANG WEAPON\",\"district\":\"003\",\"domestic\":true,\"fbi_code\":\"04B\",\"id\":\"10905112\",\"iucr\":\"0497\",\"latitude\":\"41.783730087\",\"location\":{\"type\":\"Point\",\"coordinates\":[-87.624374,41.78373]},\"location_description\":\"RESIDENCE\",\"longitude\":\"-87.624373545\",\"primary_type\":\"BATTERY\",\"updated_on\":\"2017-04-13T15:51:25.000\",\"ward\":\"20\",\"x_coordinate\":\"1177606\",\"y_coordinate\":\"1864579\",\"year\":\"2017\"}\n",
      ",{\"arrest\":false,\"beat\":\"1713\",\"block\":\"049XX N KEDZIE AVE\",\"case_number\":\"JA210030\",\"community_area\":\"14\",\"date\":\"2017-04-01T22:30:00.000\",\"description\":\"AUTOMOBILE\",\"district\":\"017\",\"domestic\":false,\"fbi_code\":\"07\",\"id\":\"10898682\",\"iucr\":\"0910\",\"latitude\":\"41.971096567\",\"location\":{\"type\":\"Point\",\"coordinates\":[-87.708547,41.971097]},\"location_description\":\"PARKING LOT/GARAGE(NON.RESID.)\",\"longitude\":\"-87.708547295\",\"primary_type\":\"MOTOR VEHICLE THEFT\",\"updated_on\":\"2017-04-08T15:49:53.000\",\"ward\":\"33\",\"x_coordinate\":\"1154152\",\"y_coordinate\":\"1932677\",\"year\":\"2017\"}\n",
      ",{\"arrest\":false,\"beat\":\"1012\",\"block\":\"040XX W 21ST PL\",\"case_number\":\"JA209319\",\"community_area\":\"29\",\"date\":\"2017-04-01T22:30:00.000\",\"description\":\"OTHER VEHICLE OFFENSE\",\"district\":\"010\",\"domestic\":false,\"fbi_code\":\"26\",\"id\":\"10897864\",\"iucr\":\"5002\",\"latitude\":\"41.852574303\",\"location\":{\"type\":\"Point\",\"coordinates\":[-87.725639,41.852574]},\"location_description\":\"STREET\",\"longitude\":\"-87.725639472\",\"primary_type\":\"OTHER OFFENSE\",\"updated_on\":\"2017-04-08T15:49:53.000\",\"ward\":\"24\",\"x_coordinate\":\"1149810\",\"y_coordinate\":\"1889454\",\"year\":\"2017\"}\n",
      ",{\"arrest\":false,\"beat\":\"0821\",\"block\":\"050XX S KEDZIE AVE\",\"case_number\":\"JA209231\",\"community_area\":\"63\",\"date\":\"2017-04-01T22:30:00.000\",\"description\":\"CHILD ABANDONMENT\",\"district\":\"008\",\"domestic\":false,\"fbi_code\":\"20\",\"id\":\"10897790\",\"iucr\":\"1755\",\"latitude\":\"41.801868739\",\"location\":{\"type\":\"Point\",\"coordinates\":[-87.703798,41.801869]},\"location_description\":\"OTHER\",\"longitude\":\"-87.703797654\",\"primary_type\":\"OFFENSE INVOLVING CHILDREN\",\"updated_on\":\"2017-04-08T15:49:53.000\",\"ward\":\"14\",\"x_coordinate\":\"1155896\",\"y_coordinate\":\"1871020\",\"year\":\"2017\"}\n",
      ",{\"arrest\":true,\"beat\":\"0512\",\"block\":\"104XX S WABASH AVE\",\"case_number\":\"JA209224\",\"community_area\":\"49\",\"date\":\"2017-04-01T22:35:00.000\",\"description\":\"RESIST/OBSTRUCT/DISARM OFFICER\",\"district\":\"005\",\"domestic\":false,\"fbi_code\":\"24\",\"id\":\"10897785\",\"iucr\":\"3710\",\"latitude\":\"41.70479356\",\"location\":{\"type\":\"Point\",\"coordinates\":[-87.622268,41.704794]},\"location_description\":\"ALLEY\",\"longitude\":\"-87.622267775\",\"primary_type\":\"INTERFERENCE WITH PUBLIC OFFICER\",\"updated_on\":\"2017-04-08T15:49:53.000\",\"ward\":\"9\",\"x_coordinate\":\"1178418\",\"y_coordinate\":\"1835820\",\"year\":\"2017\"}\n",
      ",{\"arrest\":true,\"beat\":\"0734\",\"block\":\"074XX S RACINE AVE\",\"case_number\":\"JA209266\",\"community_area\":\"67\",\"date\":\"2017-04-01T22:36:00.000\",\"description\":\"RECKLESS CONDUCT\",\"district\":\"007\",\"domestic\":false,\"fbi_code\":\"24\",\"id\":\"10897817\",\"iucr\":\"0470\",\"latitude\":\"41.758466396\",\"location\":{\"type\":\"Point\",\"coordinates\":[-87.653944,41.758466]},\"location_description\":\"STREET\",\"longitude\":\"-87.653943517\",\"primary_type\":\"PUBLIC PEACE VIOLATION\",\"updated_on\":\"2017-04-08T15:49:53.000\",\"ward\":\"17\",\"x_coordinate\":\"1169614\",\"y_coordinate\":\"1855308\",\"year\":\"2017\"}\n",
      ",{\"arrest\":true,\"beat\":\"0914\",\"block\":\"019XX S TOM PKWY\",\"case_number\":\"JA209242\",\"community_area\":\"34\",\"date\":\"2017-04-01T22:38:00.000\",\"description\":\"SIMPLE\",\"district\":\"009\",\"domestic\":false,\"fbi_code\":\"08B\",\"id\":\"10897812\",\"iucr\":\"0460\",\"latitude\":\"41.855816513\",\"location\":{\"type\":\"Point\",\"coordinates\":[-87.634208,41.855817]},\"location_description\":\"RESIDENCE\",\"longitude\":\"-87.634208303\",\"primary_type\":\"BATTERY\",\"updated_on\":\"2017-04-08T15:49:53.000\",\"ward\":\"25\",\"x_coordinate\":\"1174710\",\"y_coordinate\":\"1890825\",\"year\":\"2017\"}\n",
      ",{\"arrest\":true,\"beat\":\"0912\",\"block\":\"032XX S ARCHER AVE\",\"case_number\":\"JA209222\",\"community_area\":\"59\",\"date\":\"2017-04-01T22:38:00.000\",\"description\":\"VEHICLE TITLE/REG OFFENSE\",\"district\":\"009\",\"domestic\":false,\"fbi_code\":\"26\",\"id\":\"10897777\",\"iucr\":\"502R\",\"latitude\":\"41.835302027\",\"location\":{\"type\":\"Point\",\"coordinates\":[-87.669633,41.835302]},\"location_description\":\"ALLEY\",\"longitude\":\"-87.669633385\",\"primary_type\":\"OTHER OFFENSE\",\"updated_on\":\"2017-04-08T15:49:53.000\",\"ward\":\"11\",\"x_coordinate\":\"1165117\",\"y_coordinate\":\"1883273\",\"year\":\"2017\"}\n",
      ",{\"arrest\":false,\"beat\":\"1223\",\"block\":\"001XX N WOOD ST\",\"case_number\":\"JA209855\",\"community_area\":\"28\",\"date\":\"2017-04-01T22:44:00.000\",\"description\":\"ARMED: HANDGUN\",\"district\":\"012\",\"domestic\":false,\"fbi_code\":\"03\",\"id\":\"10898276\",\"iucr\":\"031A\",\"latitude\":\"41.884911707\",\"location\":{\"type\":\"Point\",\"coordinates\":[-87.671845,41.884912]},\"location_description\":\"STREET\",\"longitude\":\"-87.67184508\",\"primary_type\":\"ROBBERY\",\"updated_on\":\"2017-04-08T15:49:53.000\",\"ward\":\"27\",\"x_coordinate\":\"1164375\",\"y_coordinate\":\"1901346\",\"year\":\"2017\"}\n",
      ",{\"arrest\":true,\"beat\":\"1133\",\"block\":\"034XX W FIFTH AVE\",\"case_number\":\"JA209233\",\"community_area\":\"27\",\"date\":\"2017-04-01T22:45:00.000\",\"description\":\"POSS: CANNABIS MORE THAN 30GMS\",\"district\":\"011\",\"domestic\":false,\"fbi_code\":\"18\",\"id\":\"10897789\",\"iucr\":\"1812\",\"latitude\":\"41.876835036\",\"location\":{\"type\":\"Point\",\"coordinates\":[-87.711567,41.876835]},\"location_description\":\"SIDEWALK\",\"longitude\":\"-87.711566597\",\"primary_type\":\"NARCOTICS\",\"updated_on\":\"2017-04-08T15:49:53.000\",\"ward\":\"28\",\"x_coordinate\":\"1153580\",\"y_coordinate\":\"1898322\",\"year\":\"2017\"}\n",
      ",{\"arrest\":false,\"beat\":\"1125\",\"block\":\"001XX S CAMPBELL AVE\",\"case_number\":\"JA209214\",\"community_area\":\"28\",\"date\":\"2017-04-01T22:45:00.000\",\"description\":\"DOMESTIC BATTERY SIMPLE\",\"district\":\"011\",\"domestic\":true,\"fbi_code\":\"08B\",\"id\":\"10897788\",\"iucr\":\"0486\",\"latitude\":\"41.878962554\",\"location\":{\"type\":\"Point\",\"coordinates\":[-87.688801,41.878963]},\"location_description\":\"STREET\",\"longitude\":\"-87.688801432\",\"primary_type\":\"BATTERY\",\"updated_on\":\"2017-04-08T15:49:53.000\",\"ward\":\"2\",\"x_coordinate\":\"1159774\",\"y_coordinate\":\"1899143\",\"year\":\"2017\"}\n",
      ",{\"arrest\":true,\"beat\":\"1123\",\"block\":\"032XX W MADISON ST\",\"case_number\":\"JA209215\",\"community_area\":\"27\",\"date\":\"2017-04-01T22:45:00.000\",\"description\":\"POSS: HEROIN(WHITE)\",\"district\":\"011\",\"domestic\":false,\"fbi_code\":\"18\",\"id\":\"10897773\",\"iucr\":\"2024\",\"latitude\":\"41.880964265\",\"location\":{\"type\":\"Point\",\"coordinates\":[-87.706863,41.880964]},\"location_description\":\"SIDEWALK\",\"longitude\":\"-87.706862946\",\"primary_type\":\"NARCOTICS\",\"updated_on\":\"2017-04-08T15:49:53.000\",\"ward\":\"28\",\"x_coordinate\":\"1154850\",\"y_coordinate\":\"1899836\",\"year\":\"2017\"}\n",
      ",{\"arrest\":false,\"beat\":\"1112\",\"block\":\"011XX N LAWNDALE AVE\",\"case_number\":\"JA209238\",\"community_area\":\"23\",\"date\":\"2017-04-01T22:50:00.000\",\"description\":\"TO VEHICLE\",\"district\":\"011\",\"domestic\":true,\"fbi_code\":\"14\",\"id\":\"10897829\",\"iucr\":\"1320\",\"latitude\":\"41.901608695\",\"location\":{\"type\":\"Point\",\"coordinates\":[-87.718959,41.901609]},\"location_description\":\"STREET\",\"longitude\":\"-87.718959485\",\"primary_type\":\"CRIMINAL DAMAGE\",\"updated_on\":\"2017-04-08T15:49:53.000\",\"ward\":\"27\",\"x_coordinate\":\"1151502\",\"y_coordinate\":\"1907335\",\"year\":\"2017\"}\n",
      ",{\"arrest\":true,\"beat\":\"0713\",\"block\":\"059XX S ELIZABETH ST\",\"case_number\":\"JA209232\",\"community_area\":\"67\",\"date\":\"2017-04-01T22:50:00.000\",\"description\":\"DOMESTIC BATTERY SIMPLE\",\"district\":\"007\",\"domestic\":true,\"fbi_code\":\"08B\",\"id\":\"10897811\",\"iucr\":\"0486\",\"latitude\":\"41.785893321\",\"location\":{\"type\":\"Point\",\"coordinates\":[-87.655876,41.785893]},\"location_description\":\"APARTMENT\",\"longitude\":\"-87.655876058\",\"primary_type\":\"BATTERY\",\"updated_on\":\"2017-04-08T15:49:53.000\",\"ward\":\"16\",\"x_coordinate\":\"1169008\",\"y_coordinate\":\"1865298\",\"year\":\"2017\"}\n",
      ",{\"arrest\":true,\"beat\":\"0314\",\"block\":\"064XX S ELLIS AVE\",\"case_number\":\"JA209216\",\"community_area\":\"42\",\"date\":\"2017-04-01T22:50:00.000\",\"description\":\"AGGRAVATED: OTHER DANG WEAPON\",\"district\":\"003\",\"domestic\":true,\"fbi_code\":\"04A\",\"id\":\"10897808\",\"iucr\":\"0530\",\"latitude\":\"41.777767211\",\"location\":{\"type\":\"Point\",\"coordinates\":[-87.600396,41.777767]},\"location_description\":\"APARTMENT\",\"longitude\":\"-87.600396013\",\"primary_type\":\"ASSAULT\",\"updated_on\":\"2017-04-08T15:49:53.000\",\"ward\":\"20\",\"x_coordinate\":\"1184164\",\"y_coordinate\":\"1862461\",\"year\":\"2017\"}\n",
      ",{\"arrest\":false,\"beat\":\"1532\",\"block\":\"003XX N CICERO AVE\",\"case_number\":\"JA212911\",\"community_area\":\"25\",\"date\":\"2017-04-01T23:00:00.000\",\"description\":\"ATTEMPT: ARMED-HANDGUN\",\"district\":\"015\",\"domestic\":false,\"fbi_code\":\"03\",\"id\":\"10901190\",\"iucr\":\"033A\",\"latitude\":\"41.886893085\",\"location\":{\"type\":\"Point\",\"coordinates\":[-87.745509,41.886893]},\"location_description\":\"PARKING LOT/GARAGE(NON.RESID.)\",\"longitude\":\"-87.745509336\",\"primary_type\":\"ROBBERY\",\"updated_on\":\"2017-04-10T15:48:51.000\",\"ward\":\"28\",\"x_coordinate\":\"1144311\",\"y_coordinate\":\"1901922\",\"year\":\"2017\"}\n",
      ",{\"arrest\":false,\"beat\":\"1913\",\"block\":\"011XX W WILSON AVE\",\"case_number\":\"JA209783\",\"community_area\":\"3\",\"date\":\"2017-04-01T23:00:00.000\",\"description\":\"OVER $500\",\"district\":\"019\",\"domestic\":false,\"fbi_code\":\"06\",\"id\":\"10898461\",\"iucr\":\"0810\",\"latitude\":\"41.965380481\",\"location\":{\"type\":\"Point\",\"coordinates\":[-87.659089,41.96538]},\"location_description\":\"BAR OR TAVERN\",\"longitude\":\"-87.65908886\",\"primary_type\":\"THEFT\",\"updated_on\":\"2017-04-08T15:49:53.000\",\"ward\":\"46\",\"x_coordinate\":\"1167618\",\"y_coordinate\":\"1930696\",\"year\":\"2017\"}\n",
      ",{\"arrest\":false,\"beat\":\"1633\",\"block\":\"039XX N CENTRAL AVE\",\"case_number\":\"JA209927\",\"community_area\":\"15\",\"date\":\"2017-04-01T23:00:00.000\",\"description\":\"OVER $500\",\"district\":\"016\",\"domestic\":false,\"fbi_code\":\"06\",\"id\":\"10898377\",\"iucr\":\"0810\",\"latitude\":\"41.95178668\",\"location\":{\"type\":\"Point\",\"coordinates\":[-87.766952,41.951787]},\"location_description\":\"RESIDENTIAL YARD (FRONT/BACK)\",\"longitude\":\"-87.76695234\",\"primary_type\":\"THEFT\",\"updated_on\":\"2017-04-08T15:49:53.000\",\"ward\":\"38\",\"x_coordinate\":\"1138316\",\"y_coordinate\":\"1925530\",\"year\":\"2017\"}\n",
      ",{\"arrest\":false,\"beat\":\"0633\",\"block\":\"091XX S BURNSIDE AVE\",\"case_number\":\"JA209682\",\"community_area\":\"49\",\"date\":\"2017-04-01T23:00:00.000\",\"description\":\"AGGRAVATED: HANDGUN\",\"district\":\"006\",\"domestic\":true,\"fbi_code\":\"04A\",\"id\":\"10898197\",\"iucr\":\"051A\",\"latitude\":\"41.728149683\",\"location\":{\"type\":\"Point\",\"coordinates\":[-87.617281,41.72815]},\"location_description\":\"RESIDENCE\",\"longitude\":\"-87.617280802\",\"primary_type\":\"ASSAULT\",\"updated_on\":\"2017-04-08T15:49:53.000\",\"ward\":\"6\",\"x_coordinate\":\"1179709\",\"y_coordinate\":\"1844342\",\"year\":\"2017\"}\n",
      ",{\"arrest\":false,\"beat\":\"1933\",\"block\":\"013XX W BARRY AVE\",\"case_number\":\"JA209585\",\"community_area\":\"6\",\"date\":\"2017-04-01T23:00:00.000\",\"description\":\"UNLAWFUL ENTRY\",\"district\":\"019\",\"domestic\":false,\"fbi_code\":\"05\",\"id\":\"10898067\",\"iucr\":\"0620\",\"latitude\":\"41.937969055\",\"location\":{\"type\":\"Point\",\"coordinates\":[-87.661984,41.937969]},\"location_description\":\"RESIDENCE-GARAGE\",\"longitude\":\"-87.661983552\",\"primary_type\":\"BURGLARY\",\"updated_on\":\"2017-04-08T15:49:53.000\",\"ward\":\"32\",\"x_coordinate\":\"1166909\",\"y_coordinate\":\"1920701\",\"year\":\"2017\"}\n",
      ",{\"arrest\":false,\"beat\":\"0312\",\"block\":\"008XX E 64TH ST\",\"case_number\":\"JA209559\",\"community_area\":\"42\",\"date\":\"2017-04-01T23:00:00.000\",\"description\":\"UNLAWFUL ENTRY\",\"district\":\"003\",\"domestic\":false,\"fbi_code\":\"05\",\"id\":\"10898051\",\"iucr\":\"0620\",\"latitude\":\"41.778601467\",\"location\":{\"type\":\"Point\",\"coordinates\":[-87.605142,41.778601]},\"location_description\":\"APARTMENT\",\"longitude\":\"-87.605141689\",\"primary_type\":\"BURGLARY\",\"updated_on\":\"2017-04-08T15:49:53.000\",\"ward\":\"20\",\"x_coordinate\":\"1182867\",\"y_coordinate\":\"1862754\",\"year\":\"2017\"}\n",
      ",{\"arrest\":false,\"beat\":\"0321\",\"block\":\"065XX S DREXEL AVE\",\"case_number\":\"JA209261\",\"community_area\":\"42\",\"date\":\"2017-04-01T23:00:00.000\",\"description\":\"SIMPLE\",\"district\":\"003\",\"domestic\":false,\"fbi_code\":\"08B\",\"id\":\"10897805\",\"iucr\":\"0460\",\"latitude\":\"41.776016248\",\"location\":{\"type\":\"Point\",\"coordinates\":[-87.603397,41.776016]},\"location_description\":\"APARTMENT\",\"longitude\":\"-87.603396522\",\"primary_type\":\"BATTERY\",\"updated_on\":\"2017-04-08T15:49:53.000\",\"ward\":\"20\",\"x_coordinate\":\"1183351\",\"y_coordinate\":\"1861816\",\"year\":\"2017\"}\n",
      ",{\"arrest\":true,\"beat\":\"1512\",\"block\":\"003XX N MENARD AVE\",\"case_number\":\"JA209255\",\"community_area\":\"25\",\"date\":\"2017-04-01T23:05:00.000\",\"description\":\"AGGRAVATED:KNIFE/CUTTING INSTR\",\"district\":\"015\",\"domestic\":false,\"fbi_code\":\"04A\",\"id\":\"10897818\",\"iucr\":\"0520\",\"latitude\":\"41.886288459\",\"location\":{\"type\":\"Point\",\"coordinates\":[-87.76997,41.886288]},\"location_description\":\"NURSING HOME/RETIREMENT HOME\",\"longitude\":\"-87.769969735\",\"primary_type\":\"ASSAULT\",\"updated_on\":\"2017-04-08T15:49:53.000\",\"ward\":\"29\",\"x_coordinate\":\"1137652\",\"y_coordinate\":\"1901657\",\"year\":\"2017\"}\n",
      ",{\"arrest\":false,\"beat\":\"0433\",\"block\":\"133XX S BALTIMORE AVE\",\"case_number\":\"JA209235\",\"community_area\":\"55\",\"date\":\"2017-04-01T23:13:00.000\",\"description\":\"DOMESTIC BATTERY SIMPLE\",\"district\":\"004\",\"domestic\":false,\"fbi_code\":\"08B\",\"id\":\"10897920\",\"iucr\":\"0486\",\"latitude\":\"41.652812326\",\"location\":{\"type\":\"Point\",\"coordinates\":[-87.547154,41.652812]},\"location_description\":\"APARTMENT\",\"longitude\":\"-87.547154047\",\"primary_type\":\"BATTERY\",\"updated_on\":\"2017-04-08T15:49:53.000\",\"ward\":\"10\",\"x_coordinate\":\"1199102\",\"y_coordinate\":\"1817057\",\"year\":\"2017\"}\n",
      ",{\"arrest\":false,\"beat\":\"2521\",\"block\":\"051XX W MONTANA ST\",\"case_number\":\"JA209247\",\"community_area\":\"19\",\"date\":\"2017-04-01T23:15:00.000\",\"description\":\"AGGRAVATED DOMESTIC BATTERY: OTHER DANG WEAPON\",\"district\":\"025\",\"domestic\":true,\"fbi_code\":\"04B\",\"id\":\"10897819\",\"iucr\":\"0497\",\"latitude\":\"41.92507437\",\"location\":{\"type\":\"Point\",\"coordinates\":[-87.754834,41.925074]},\"location_description\":\"APARTMENT\",\"longitude\":\"-87.754834402\",\"primary_type\":\"BATTERY\",\"updated_on\":\"2017-04-08T15:49:53.000\",\"ward\":\"31\",\"x_coordinate\":\"1141678\",\"y_coordinate\":\"1915818\",\"year\":\"2017\"}\n",
      ",{\"arrest\":true,\"beat\":\"2511\",\"block\":\"063XX W FLETCHER ST\",\"case_number\":\"JA209258\",\"community_area\":\"19\",\"date\":\"2017-04-01T23:15:00.000\",\"description\":\"DOMESTIC BATTERY SIMPLE\",\"district\":\"025\",\"domestic\":true,\"fbi_code\":\"08B\",\"id\":\"10897813\",\"iucr\":\"0486\",\"latitude\":\"41.937430146\",\"location\":{\"type\":\"Point\",\"coordinates\":[-87.784152,41.93743]},\"location_description\":\"RESIDENCE\",\"longitude\":\"-87.78415156\",\"primary_type\":\"BATTERY\",\"updated_on\":\"2017-04-08T15:49:53.000\",\"ward\":\"36\",\"x_coordinate\":\"1133671\",\"y_coordinate\":\"1920268\",\"year\":\"2017\"}\n",
      ",{\"arrest\":false,\"beat\":\"0113\",\"block\":\"002XX S STATE ST\",\"case_number\":\"JA209249\",\"community_area\":\"32\",\"date\":\"2017-04-01T23:15:00.000\",\"description\":\"STRONGARM - NO WEAPON\",\"district\":\"001\",\"domestic\":false,\"fbi_code\":\"03\",\"id\":\"10897804\",\"iucr\":\"0320\",\"latitude\":\"41.878638996\",\"location\":{\"type\":\"Point\",\"coordinates\":[-87.627691,41.878639]},\"location_description\":\"CTA TRAIN\",\"longitude\":\"-87.627691486\",\"primary_type\":\"ROBBERY\",\"updated_on\":\"2017-04-08T15:49:53.000\",\"ward\":\"42\",\"x_coordinate\":\"1176417\",\"y_coordinate\":\"1899156\",\"year\":\"2017\"}\n",
      ",{\"arrest\":true,\"beat\":\"1021\",\"block\":\"035XX W DOUGLAS BLVD\",\"case_number\":\"JA209244\",\"community_area\":\"29\",\"date\":\"2017-04-01T23:23:00.000\",\"description\":\"DOMESTIC BATTERY SIMPLE\",\"district\":\"010\",\"domestic\":true,\"fbi_code\":\"08B\",\"id\":\"10897807\",\"iucr\":\"0486\",\"latitude\":\"41.862408153\",\"location\":{\"type\":\"Point\",\"coordinates\":[-87.714551,41.862408]},\"location_description\":\"APARTMENT\",\"longitude\":\"-87.714551475\",\"primary_type\":\"BATTERY\",\"updated_on\":\"2017-04-08T15:49:53.000\",\"ward\":\"24\",\"x_coordinate\":\"1152805\",\"y_coordinate\":\"1893059\",\"year\":\"2017\"}\n",
      ",{\"arrest\":false,\"beat\":\"1831\",\"block\":\"001XX W HUBBARD ST\",\"case_number\":\"JA211789\",\"community_area\":\"8\",\"date\":\"2017-04-01T23:30:00.000\",\"description\":\"FROM BUILDING\",\"district\":\"018\",\"domestic\":false,\"fbi_code\":\"06\",\"id\":\"10900971\",\"iucr\":\"0890\",\"latitude\":\"41.890013524\",\"location\":{\"type\":\"Point\",\"coordinates\":[-87.631665,41.890014]},\"location_description\":\"BAR OR TAVERN\",\"longitude\":\"-87.631664996\",\"primary_type\":\"THEFT\",\"updated_on\":\"2017-04-08T15:49:53.000\",\"ward\":\"42\",\"x_coordinate\":\"1175301\",\"y_coordinate\":\"1903292\",\"year\":\"2017\"}\n",
      ",{\"arrest\":false,\"beat\":\"0833\",\"block\":\"066XX S CICERO AVE\",\"case_number\":\"JA210243\",\"community_area\":\"64\",\"date\":\"2017-04-01T23:30:00.000\",\"description\":\"FROM BUILDING\",\"district\":\"008\",\"domestic\":false,\"fbi_code\":\"06\",\"id\":\"10898611\",\"iucr\":\"0890\",\"latitude\":\"41.772505185\",\"location\":{\"type\":\"Point\",\"coordinates\":[-87.74209,41.772505]},\"location_description\":\"RESTAURANT\",\"longitude\":\"-87.742089774\",\"primary_type\":\"THEFT\",\"updated_on\":\"2017-04-08T15:49:53.000\",\"ward\":\"13\",\"x_coordinate\":\"1145529\",\"y_coordinate\":\"1860246\",\"year\":\"2017\"}\n",
      ",{\"arrest\":false,\"beat\":\"1024\",\"block\":\"019XX S TRUMBULL AVE\",\"case_number\":\"JA209988\",\"community_area\":\"29\",\"date\":\"2017-04-01T23:30:00.000\",\"description\":\"AUTOMOBILE\",\"district\":\"010\",\"domestic\":false,\"fbi_code\":\"07\",\"id\":\"10898414\",\"iucr\":\"0910\",\"latitude\":\"41.854752959\",\"location\":{\"type\":\"Point\",\"coordinates\":[-87.711234,41.854753]},\"location_description\":\"RESIDENCE\",\"longitude\":\"-87.711233594\",\"primary_type\":\"MOTOR VEHICLE THEFT\",\"updated_on\":\"2017-04-08T15:49:53.000\",\"ward\":\"24\",\"x_coordinate\":\"1153729\",\"y_coordinate\":\"1890276\",\"year\":\"2017\"}\n",
      ",{\"arrest\":false,\"beat\":\"0824\",\"block\":\"056XX S CALIFORNIA AVE\",\"case_number\":\"JA209302\",\"community_area\":\"63\",\"date\":\"2017-04-01T23:30:00.000\",\"description\":\"DOMESTIC BATTERY SIMPLE\",\"district\":\"008\",\"domestic\":true,\"fbi_code\":\"08B\",\"id\":\"10897834\",\"iucr\":\"0486\",\"latitude\":\"41.790893563\",\"location\":{\"type\":\"Point\",\"coordinates\":[-87.693722,41.790894]},\"location_description\":\"RESIDENCE\",\"longitude\":\"-87.693721802\",\"primary_type\":\"BATTERY\",\"updated_on\":\"2017-04-08T15:49:53.000\",\"ward\":\"16\",\"x_coordinate\":\"1158673\",\"y_coordinate\":\"1867041\",\"year\":\"2017\"}\n",
      ",{\"arrest\":false,\"beat\":\"1522\",\"block\":\"052XX W MADISON ST\",\"case_number\":\"JA209278\",\"community_area\":\"25\",\"date\":\"2017-04-01T23:30:00.000\",\"description\":\"FRAUD OR CONFIDENCE GAME\",\"district\":\"015\",\"domestic\":false,\"fbi_code\":\"11\",\"id\":\"10897828\",\"iucr\":\"1130\",\"latitude\":\"41.880362084\",\"location\":{\"type\":\"Point\",\"coordinates\":[-87.755847,41.880362]},\"location_description\":\"SMALL RETAIL STORE\",\"longitude\":\"-87.755847438\",\"primary_type\":\"DECEPTIVE PRACTICE\",\"updated_on\":\"2017-04-08T15:49:53.000\",\"ward\":\"28\",\"x_coordinate\":\"1141512\",\"y_coordinate\":\"1899523\",\"year\":\"2017\"}\n",
      ",{\"arrest\":true,\"beat\":\"1632\",\"block\":\"034XX N OAK PARK AVE\",\"case_number\":\"JA209311\",\"community_area\":\"17\",\"date\":\"2017-04-01T23:35:00.000\",\"description\":\"TO VEHICLE\",\"district\":\"016\",\"domestic\":false,\"fbi_code\":\"14\",\"id\":\"10897861\",\"iucr\":\"1320\",\"latitude\":\"41.942532208\",\"location\":{\"type\":\"Point\",\"coordinates\":[-87.795866,41.942532]},\"location_description\":\"STREET\",\"longitude\":\"-87.79586628\",\"primary_type\":\"CRIMINAL DAMAGE\",\"updated_on\":\"2017-04-18T15:57:31.000\",\"ward\":\"36\",\"x_coordinate\":\"1130472\",\"y_coordinate\":\"1922107\",\"year\":\"2017\"}\n",
      ",{\"arrest\":false,\"beat\":\"1522\",\"block\":\"0000X S LOCKWOOD AVE\",\"case_number\":\"JA209297\",\"community_area\":\"25\",\"date\":\"2017-04-01T23:35:00.000\",\"description\":\"OTHER VEHICLE OFFENSE\",\"district\":\"015\",\"domestic\":false,\"fbi_code\":\"26\",\"id\":\"10898443\",\"iucr\":\"5002\",\"latitude\":\"41.880069466\",\"location\":{\"type\":\"Point\",\"coordinates\":[-87.75769,41.880069]},\"location_description\":\"STREET\",\"longitude\":\"-87.757689793\",\"primary_type\":\"OTHER OFFENSE\",\"updated_on\":\"2017-04-08T15:49:53.000\",\"ward\":\"29\",\"x_coordinate\":\"1141011\",\"y_coordinate\":\"1899413\",\"year\":\"2017\"}\n",
      ",{\"arrest\":false,\"beat\":\"0332\",\"block\":\"016XX E 67TH ST\",\"case_number\":\"JA209248\",\"community_area\":\"43\",\"date\":\"2017-04-01T23:36:00.000\",\"description\":\"DOMESTIC BATTERY SIMPLE\",\"district\":\"003\",\"domestic\":true,\"fbi_code\":\"08B\",\"id\":\"10897877\",\"iucr\":\"0486\",\"latitude\":\"41.773349264\",\"location\":{\"type\":\"Point\",\"coordinates\":[-87.584705,41.773349]},\"location_description\":\"APARTMENT\",\"longitude\":\"-87.584704561\",\"primary_type\":\"BATTERY\",\"updated_on\":\"2017-04-08T15:49:53.000\",\"ward\":\"5\",\"x_coordinate\":\"1188458\",\"y_coordinate\":\"1860888\",\"year\":\"2017\"}\n",
      ",{\"arrest\":false,\"beat\":\"1922\",\"block\":\"017XX W HENDERSON ST\",\"case_number\":\"JA209269\",\"community_area\":\"6\",\"date\":\"2017-04-01T23:40:00.000\",\"description\":\"ATTEMPT: STRONGARM-NO WEAPON\",\"district\":\"019\",\"domestic\":false,\"fbi_code\":\"03\",\"id\":\"10897835\",\"iucr\":\"0340\",\"latitude\":\"41.942381596\",\"location\":{\"type\":\"Point\",\"coordinates\":[-87.672361,41.942382]},\"location_description\":\"OTHER\",\"longitude\":\"-87.672361444\",\"primary_type\":\"ROBBERY\",\"updated_on\":\"2017-04-08T15:49:53.000\",\"ward\":\"32\",\"x_coordinate\":\"1164073\",\"y_coordinate\":\"1922287\",\"year\":\"2017\"}\n",
      ",{\"arrest\":false,\"beat\":\"1414\",\"block\":\"023XX N MILWAUKEE AVE\",\"case_number\":\"JA213028\",\"community_area\":\"22\",\"date\":\"2017-04-01T23:45:00.000\",\"description\":\"FROM BUILDING\",\"district\":\"014\",\"domestic\":false,\"fbi_code\":\"06\",\"id\":\"10902252\",\"iucr\":\"0890\",\"location_description\":\"BAR OR TAVERN\",\"primary_type\":\"THEFT\",\"updated_on\":\"2017-04-08T15:49:53.000\",\"ward\":\"35\",\"year\":\"2017\"}\n",
      ",{\"arrest\":false,\"beat\":\"0915\",\"block\":\"037XX S PRINCETON AVE\",\"case_number\":\"JA209274\",\"community_area\":\"34\",\"date\":\"2017-04-01T23:50:00.000\",\"description\":\"AGGRAVATED: OTHER DANG WEAPON\",\"district\":\"009\",\"domestic\":false,\"fbi_code\":\"04B\",\"id\":\"10897856\",\"iucr\":\"0430\",\"latitude\":\"41.825970311\",\"location\":{\"type\":\"Point\",\"coordinates\":[-87.633821,41.82597]},\"location_description\":\"RESIDENCE\",\"longitude\":\"-87.63382133\",\"primary_type\":\"BATTERY\",\"updated_on\":\"2017-04-08T15:49:53.000\",\"ward\":\"3\",\"x_coordinate\":\"1174904\",\"y_coordinate\":\"1879950\",\"year\":\"2017\"}\n",
      ",{\"arrest\":true,\"beat\":\"0624\",\"block\":\"079XX S DR MARTIN LUTHER KING JR DR\",\"case_number\":\"JA209262\",\"community_area\":\"44\",\"date\":\"2017-04-01T23:50:00.000\",\"description\":\"DOMESTIC BATTERY SIMPLE\",\"district\":\"006\",\"domestic\":true,\"fbi_code\":\"08B\",\"id\":\"10897827\",\"iucr\":\"0486\",\"latitude\":\"41.750229541\",\"location\":{\"type\":\"Point\",\"coordinates\":[-87.614947,41.75023]},\"location_description\":\"APARTMENT\",\"longitude\":\"-87.614946609\",\"primary_type\":\"BATTERY\",\"updated_on\":\"2017-04-08T15:49:53.000\",\"ward\":\"6\",\"x_coordinate\":\"1180279\",\"y_coordinate\":\"1852393\",\"year\":\"2017\"}\n",
      ",{\"arrest\":false,\"beat\":\"2233\",\"block\":\"108XX S EGGLESTON AVE\",\"case_number\":\"JA212596\",\"community_area\":\"49\",\"date\":\"2017-04-01T23:59:00.000\",\"description\":\"$500 AND UNDER\",\"district\":\"022\",\"domestic\":false,\"fbi_code\":\"06\",\"id\":\"10900914\",\"iucr\":\"0820\",\"latitude\":\"41.6974098\",\"location\":{\"type\":\"Point\",\"coordinates\":[-87.634096,41.69741]},\"location_description\":\"RESIDENCE\",\"longitude\":\"-87.634095769\",\"primary_type\":\"THEFT\",\"updated_on\":\"2017-04-08T15:49:53.000\",\"ward\":\"34\",\"x_coordinate\":\"1175210\",\"y_coordinate\":\"1833103\",\"year\":\"2017\"}\n",
      ",{\"arrest\":false,\"beat\":\"1911\",\"block\":\"046XX N ROCKWELL ST\",\"case_number\":\"JA211039\",\"community_area\":\"4\",\"date\":\"2017-04-02T00:00:00.000\",\"description\":\"CHILD ABUSE\",\"district\":\"019\",\"domestic\":true,\"fbi_code\":\"20\",\"id\":\"10906060\",\"iucr\":\"1750\",\"latitude\":\"41.966006781\",\"location\":{\"type\":\"Point\",\"coordinates\":[-87.693727,41.966007]},\"location_description\":\"APARTMENT\",\"longitude\":\"-87.693727148\",\"primary_type\":\"OFFENSE INVOLVING CHILDREN\",\"updated_on\":\"2017-04-13T15:51:25.000\",\"ward\":\"47\",\"x_coordinate\":\"1158196\",\"y_coordinate\":\"1930852\",\"year\":\"2017\"}\n",
      ",{\"arrest\":false,\"beat\":\"1234\",\"block\":\"021XX W 19TH ST\",\"case_number\":\"JA209957\",\"community_area\":\"31\",\"date\":\"2017-04-02T00:00:00.000\",\"description\":\"FORCIBLE ENTRY\",\"district\":\"012\",\"domestic\":false,\"fbi_code\":\"05\",\"id\":\"10898396\",\"iucr\":\"0610\",\"latitude\":\"41.855797932\",\"location\":{\"type\":\"Point\",\"coordinates\":[-87.679509,41.855798]},\"location_description\":\"RESIDENCE\",\"longitude\":\"-87.679508601\",\"primary_type\":\"BURGLARY\",\"updated_on\":\"2017-04-09T15:57:12.000\",\"ward\":\"25\",\"x_coordinate\":\"1162369\",\"y_coordinate\":\"1890721\",\"year\":\"2017\"}\n",
      ",{\"arrest\":false,\"beat\":\"1924\",\"block\":\"035XX N CLARK ST\",\"case_number\":\"JA209566\",\"community_area\":\"6\",\"date\":\"2017-04-02T00:00:00.000\",\"description\":\"FROM BUILDING\",\"district\":\"019\",\"domestic\":false,\"fbi_code\":\"06\",\"id\":\"10898056\",\"iucr\":\"0890\",\"latitude\":\"41.946159169\",\"location\":{\"type\":\"Point\",\"coordinates\":[-87.655678,41.946159]},\"location_description\":\"BAR OR TAVERN\",\"longitude\":\"-87.655678044\",\"primary_type\":\"THEFT\",\"updated_on\":\"2017-04-09T15:57:12.000\",\"ward\":\"44\",\"x_coordinate\":\"1168601\",\"y_coordinate\":\"1923699\",\"year\":\"2017\"}\n",
      ",{\"arrest\":false,\"beat\":\"1023\",\"block\":\"028XX W 21ST ST\",\"case_number\":\"JA209578\",\"community_area\":\"30\",\"date\":\"2017-04-02T00:00:00.000\",\"description\":\"TO VEHICLE\",\"district\":\"010\",\"domestic\":false,\"fbi_code\":\"14\",\"id\":\"10898052\",\"iucr\":\"1320\",\"latitude\":\"41.853713661\",\"location\":{\"type\":\"Point\",\"coordinates\":[-87.698338,41.853714]},\"location_description\":\"VEHICLE NON-COMMERCIAL\",\"longitude\":\"-87.698337894\",\"primary_type\":\"CRIMINAL DAMAGE\",\"updated_on\":\"2017-04-09T15:57:12.000\",\"ward\":\"12\",\"x_coordinate\":\"1157245\",\"y_coordinate\":\"1889923\",\"year\":\"2017\"}\n",
      ",{\"arrest\":false,\"beat\":\"0725\",\"block\":\"063XX S PAULINA ST\",\"case_number\":\"JA209550\",\"community_area\":\"67\",\"date\":\"2017-04-02T00:00:00.000\",\"description\":\"TO VEHICLE\",\"district\":\"007\",\"domestic\":false,\"fbi_code\":\"14\",\"id\":\"10898029\",\"iucr\":\"1320\",\"latitude\":\"41.77845628\",\"location\":{\"type\":\"Point\",\"coordinates\":[-87.666664,41.778456]},\"location_description\":\"STREET\",\"longitude\":\"-87.666663556\",\"primary_type\":\"CRIMINAL DAMAGE\",\"updated_on\":\"2017-04-09T15:57:12.000\",\"ward\":\"15\",\"x_coordinate\":\"1166087\",\"y_coordinate\":\"1862565\",\"year\":\"2017\"}\n",
      ",{\"arrest\":false,\"beat\":\"1033\",\"block\":\"026XX S TROY ST\",\"case_number\":\"JA209507\",\"community_area\":\"30\",\"date\":\"2017-04-02T00:00:00.000\",\"description\":\"TO VEHICLE\",\"district\":\"010\",\"domestic\":false,\"fbi_code\":\"14\",\"id\":\"10897986\",\"iucr\":\"1320\",\"latitude\":\"41.843946694\",\"location\":{\"type\":\"Point\",\"coordinates\":[-87.703796,41.843947]},\"location_description\":\"STREET\",\"longitude\":\"-87.703796384\",\"primary_type\":\"CRIMINAL DAMAGE\",\"updated_on\":\"2017-04-09T15:57:12.000\",\"ward\":\"12\",\"x_coordinate\":\"1155784\",\"y_coordinate\":\"1886353\",\"year\":\"2017\"}\n",
      ",{\"arrest\":false,\"beat\":\"1414\",\"block\":\"030XX W LYNDALE ST\",\"case_number\":\"JA209285\",\"community_area\":\"22\",\"date\":\"2017-04-02T00:00:00.000\",\"description\":\"TO VEHICLE\",\"district\":\"014\",\"domestic\":false,\"fbi_code\":\"14\",\"id\":\"10897908\",\"iucr\":\"1320\",\"latitude\":\"41.922375461\",\"location\":{\"type\":\"Point\",\"coordinates\":[-87.702971,41.922375]},\"location_description\":\"ALLEY\",\"longitude\":\"-87.702970906\",\"primary_type\":\"CRIMINAL DAMAGE\",\"updated_on\":\"2017-04-09T15:57:12.000\",\"ward\":\"35\",\"x_coordinate\":\"1155799\",\"y_coordinate\":\"1914934\",\"year\":\"2017\"}\n",
      ",{\"arrest\":false,\"beat\":\"1723\",\"block\":\"040XX N HARDING AVE\",\"case_number\":\"JA209344\",\"community_area\":\"16\",\"date\":\"2017-04-02T00:00:00.000\",\"description\":\"AUTOMOBILE\",\"district\":\"017\",\"domestic\":false,\"fbi_code\":\"07\",\"id\":\"10897872\",\"iucr\":\"0910\",\"latitude\":\"41.954271592\",\"location\":{\"type\":\"Point\",\"coordinates\":[-87.72641,41.954272]},\"location_description\":\"STREET\",\"longitude\":\"-87.726409594\",\"primary_type\":\"MOTOR VEHICLE THEFT\",\"updated_on\":\"2017-04-09T15:57:12.000\",\"ward\":\"39\",\"x_coordinate\":\"1149338\",\"y_coordinate\":\"1926511\",\"year\":\"2017\"}\n",
      ",{\"arrest\":false,\"beat\":\"0324\",\"block\":\"074XX S BENNETT AVE\",\"case_number\":\"JA209327\",\"community_area\":\"43\",\"date\":\"2017-04-02T00:00:00.000\",\"description\":\"TO VEHICLE\",\"district\":\"003\",\"domestic\":false,\"fbi_code\":\"14\",\"id\":\"10897840\",\"iucr\":\"1320\",\"latitude\":\"41.759781294\",\"location\":{\"type\":\"Point\",\"coordinates\":[-87.579222,41.759781]},\"location_description\":\"STREET\",\"longitude\":\"-87.579221517\",\"primary_type\":\"CRIMINAL DAMAGE\",\"updated_on\":\"2017-04-09T15:57:12.000\",\"ward\":\"8\",\"x_coordinate\":\"1189997\",\"y_coordinate\":\"1855957\",\"year\":\"2017\"}\n",
      ",{\"arrest\":false,\"beat\":\"1634\",\"block\":\"048XX W MELROSE ST\",\"case_number\":\"JA213281\",\"community_area\":\"15\",\"date\":\"2017-04-02T00:01:00.000\",\"description\":\"OVER $500\",\"district\":\"016\",\"domestic\":false,\"fbi_code\":\"06\",\"id\":\"10901749\",\"iucr\":\"0810\",\"latitude\":\"41.939728492\",\"location\":{\"type\":\"Point\",\"coordinates\":[-87.747788,41.939728]},\"location_description\":\"STREET\",\"longitude\":\"-87.747788324\",\"primary_type\":\"THEFT\",\"updated_on\":\"2017-04-10T15:48:51.000\",\"ward\":\"30\",\"x_coordinate\":\"1143559\",\"y_coordinate\":\"1921171\",\"year\":\"2017\"}\n",
      ",{\"arrest\":false,\"beat\":\"0322\",\"block\":\"068XX S PRAIRIE AVE\",\"case_number\":\"JA212800\",\"community_area\":\"69\",\"date\":\"2017-04-02T00:01:00.000\",\"description\":\"TO VEHICLE\",\"district\":\"003\",\"domestic\":false,\"fbi_code\":\"14\",\"id\":\"10901051\",\"iucr\":\"1320\",\"latitude\":\"41.770178672\",\"location\":{\"type\":\"Point\",\"coordinates\":[-87.618599,41.770179]},\"location_description\":\"STREET\",\"longitude\":\"-87.618598831\",\"primary_type\":\"CRIMINAL DAMAGE\",\"updated_on\":\"2017-04-09T15:57:12.000\",\"ward\":\"20\",\"x_coordinate\":\"1179222\",\"y_coordinate\":\"1859654\",\"year\":\"2017\"}\n",
      ",{\"arrest\":false,\"beat\":\"0915\",\"block\":\"038XX S UNION AVE\",\"case_number\":\"JA209610\",\"community_area\":\"60\",\"date\":\"2017-04-02T00:01:00.000\",\"description\":\"$500 AND UNDER\",\"district\":\"009\",\"domestic\":false,\"fbi_code\":\"06\",\"id\":\"10898099\",\"iucr\":\"0820\",\"latitude\":\"41.824857203\",\"location\":{\"type\":\"Point\",\"coordinates\":[-87.643527,41.824857]},\"location_description\":\"STREET\",\"longitude\":\"-87.643526758\",\"primary_type\":\"THEFT\",\"updated_on\":\"2017-04-09T15:57:12.000\",\"ward\":\"11\",\"x_coordinate\":\"1172262\",\"y_coordinate\":\"1879523\",\"year\":\"2017\"}\n",
      ",{\"arrest\":false,\"beat\":\"0613\",\"block\":\"012XX W 81ST ST\",\"case_number\":\"JA209279\",\"community_area\":\"71\",\"date\":\"2017-04-02T00:04:00.000\",\"description\":\"STRONGARM - NO WEAPON\",\"district\":\"006\",\"domestic\":false,\"fbi_code\":\"03\",\"id\":\"10897843\",\"iucr\":\"0320\",\"latitude\":\"41.746849056\",\"location\":{\"type\":\"Point\",\"coordinates\":[-87.65429,41.746849]},\"location_description\":\"STREET\",\"longitude\":\"-87.654289547\",\"primary_type\":\"ROBBERY\",\"updated_on\":\"2017-04-09T15:57:12.000\",\"ward\":\"21\",\"x_coordinate\":\"1169553\",\"y_coordinate\":\"1851074\",\"year\":\"2017\"}\n",
      ",{\"arrest\":true,\"beat\":\"1532\",\"block\":\"049XX W RACE AVE\",\"case_number\":\"JA209304\",\"community_area\":\"25\",\"date\":\"2017-04-02T00:09:00.000\",\"description\":\"POSS: SYNTHETIC DRUGS\",\"district\":\"015\",\"domestic\":false,\"fbi_code\":\"18\",\"id\":\"10897873\",\"iucr\":\"2028\",\"latitude\":\"41.890445538\",\"location\":{\"type\":\"Point\",\"coordinates\":[-87.74901,41.890446]},\"location_description\":\"SIDEWALK\",\"longitude\":\"-87.749009894\",\"primary_type\":\"NARCOTICS\",\"updated_on\":\"2017-04-09T15:57:12.000\",\"ward\":\"37\",\"x_coordinate\":\"1143349\",\"y_coordinate\":\"1903210\",\"year\":\"2017\"}\n",
      ",{\"arrest\":false,\"beat\":\"1933\",\"block\":\"013XX W BARRY AVE\",\"case_number\":\"JA209329\",\"community_area\":\"6\",\"date\":\"2017-04-02T00:15:00.000\",\"description\":\"FROM BUILDING\",\"district\":\"019\",\"domestic\":false,\"fbi_code\":\"06\",\"id\":\"10897839\",\"iucr\":\"0890\",\"latitude\":\"41.937971648\",\"location\":{\"type\":\"Point\",\"coordinates\":[-87.661958,41.937972]},\"location_description\":\"RESIDENCE\",\"longitude\":\"-87.661957797\",\"primary_type\":\"THEFT\",\"updated_on\":\"2017-04-09T15:57:12.000\",\"ward\":\"32\",\"x_coordinate\":\"1166916\",\"y_coordinate\":\"1920702\",\"year\":\"2017\"}\n",
      ",{\"arrest\":true,\"beat\":\"0832\",\"block\":\"071XX S WESTERN AVE\",\"case_number\":\"JA209277\",\"community_area\":\"66\",\"date\":\"2017-04-02T00:15:00.000\",\"description\":\"TO LAND\",\"district\":\"008\",\"domestic\":false,\"fbi_code\":\"26\",\"id\":\"10897802\",\"iucr\":\"1330\",\"latitude\":\"41.764209513\",\"location\":{\"type\":\"Point\",\"coordinates\":[-87.683229,41.76421]},\"location_description\":\"PARKING LOT/GARAGE(NON.RESID.)\",\"longitude\":\"-87.683228721\",\"primary_type\":\"CRIMINAL TRESPASS\",\"updated_on\":\"2017-04-09T15:57:12.000\",\"ward\":\"18\",\"x_coordinate\":\"1161608\",\"y_coordinate\":\"1857339\",\"year\":\"2017\"}\n",
      ",{\"arrest\":false,\"beat\":\"0631\",\"block\":\"081XX S LANGLEY AVE\",\"case_number\":\"JA209604\",\"community_area\":\"44\",\"date\":\"2017-04-02T00:20:00.000\",\"description\":\"ARMED: HANDGUN\",\"district\":\"006\",\"domestic\":false,\"fbi_code\":\"03\",\"id\":\"10898109\",\"iucr\":\"031A\",\"latitude\":\"41.746552218\",\"location\":{\"type\":\"Point\",\"coordinates\":[-87.60753,41.746552]},\"location_description\":\"STREET\",\"longitude\":\"-87.607530421\",\"primary_type\":\"ROBBERY\",\"updated_on\":\"2017-04-09T15:57:12.000\",\"ward\":\"6\",\"x_coordinate\":\"1182314\",\"y_coordinate\":\"1851070\",\"year\":\"2017\"}\n",
      ",{\"arrest\":false,\"beat\":\"1833\",\"block\":\"001XX E DELAWARE PL\",\"case_number\":\"JA209291\",\"community_area\":\"8\",\"date\":\"2017-04-02T00:20:00.000\",\"description\":\"POCKET-PICKING\",\"district\":\"018\",\"domestic\":false,\"fbi_code\":\"06\",\"id\":\"10897837\",\"iucr\":\"0870\",\"latitude\":\"41.899192536\",\"location\":{\"type\":\"Point\",\"coordinates\":[-87.625331,41.899193]},\"location_description\":\"HOTEL/MOTEL\",\"longitude\":\"-87.62533113\",\"primary_type\":\"THEFT\",\"updated_on\":\"2017-04-09T15:57:12.000\",\"ward\":\"42\",\"x_coordinate\":\"1176998\",\"y_coordinate\":\"1906651\",\"year\":\"2017\"}\n",
      ",{\"arrest\":false,\"beat\":\"1214\",\"block\":\"004XX N GREEN ST\",\"case_number\":\"JA212171\",\"community_area\":\"24\",\"date\":\"2017-04-02T00:30:00.000\",\"description\":\"$500 AND UNDER\",\"district\":\"012\",\"domestic\":false,\"fbi_code\":\"06\",\"id\":\"10901003\",\"iucr\":\"0820\",\"latitude\":\"41.889134134\",\"location\":{\"type\":\"Point\",\"coordinates\":[-87.648738,41.889134]},\"location_description\":\"STREET\",\"longitude\":\"-87.648737546\",\"primary_type\":\"THEFT\",\"updated_on\":\"2017-04-09T15:57:12.000\",\"ward\":\"27\",\"x_coordinate\":\"1170655\",\"y_coordinate\":\"1902934\",\"year\":\"2017\"}\n",
      ",{\"arrest\":false,\"beat\":\"1414\",\"block\":\"024XX N MILWAUKEE AVE\",\"case_number\":\"JA209788\",\"community_area\":\"22\",\"date\":\"2017-04-02T00:30:00.000\",\"description\":\"FROM BUILDING\",\"district\":\"014\",\"domestic\":false,\"fbi_code\":\"06\",\"id\":\"10898462\",\"iucr\":\"0890\",\"latitude\":\"41.925114077\",\"location\":{\"type\":\"Point\",\"coordinates\":[-87.700952,41.925114]},\"location_description\":\"BAR OR TAVERN\",\"longitude\":\"-87.700952275\",\"primary_type\":\"THEFT\",\"updated_on\":\"2017-04-09T15:57:12.000\",\"ward\":\"35\",\"x_coordinate\":\"1156341\",\"y_coordinate\":\"1915936\",\"year\":\"2017\"}\n",
      ",{\"arrest\":false,\"beat\":\"1423\",\"block\":\"015XX N TALMAN AVE\",\"case_number\":\"JA209709\",\"community_area\":\"24\",\"date\":\"2017-04-02T00:30:00.000\",\"description\":\"OVER $500\",\"district\":\"014\",\"domestic\":false,\"fbi_code\":\"06\",\"id\":\"10898191\",\"iucr\":\"0810\",\"latitude\":\"41.908886162\",\"location\":{\"type\":\"Point\",\"coordinates\":[-87.693291,41.908886]},\"location_description\":\"STREET\",\"longitude\":\"-87.693291067\",\"primary_type\":\"THEFT\",\"updated_on\":\"2017-04-09T15:57:12.000\",\"ward\":\"26\",\"x_coordinate\":\"1158470\",\"y_coordinate\":\"1910038\",\"year\":\"2017\"}\n",
      ",{\"arrest\":false,\"beat\":\"1834\",\"block\":\"001XX E HURON ST\",\"case_number\":\"JA209498\",\"community_area\":\"8\",\"date\":\"2017-04-02T00:30:00.000\",\"description\":\"AUTOMOBILE\",\"district\":\"018\",\"domestic\":false,\"fbi_code\":\"07\",\"id\":\"10898023\",\"iucr\":\"0910\",\"latitude\":\"41.894929671\",\"location\":{\"type\":\"Point\",\"coordinates\":[-87.625158,41.89493]},\"location_description\":\"PARKING LOT/GARAGE(NON.RESID.)\",\"longitude\":\"-87.625157838\",\"primary_type\":\"MOTOR VEHICLE THEFT\",\"updated_on\":\"2017-04-09T15:57:12.000\",\"ward\":\"42\",\"x_coordinate\":\"1177058\",\"y_coordinate\":\"1905098\",\"year\":\"2017\"}\n",
      ",{\"arrest\":false,\"beat\":\"1934\",\"block\":\"031XX N CLARK ST\",\"case_number\":\"JA209398\",\"community_area\":\"6\",\"date\":\"2017-04-02T00:30:00.000\",\"description\":\"$500 AND UNDER\",\"district\":\"019\",\"domestic\":false,\"fbi_code\":\"06\",\"id\":\"10897888\",\"iucr\":\"0820\",\"latitude\":\"41.938082657\",\"location\":{\"type\":\"Point\",\"coordinates\":[-87.649151,41.938083]},\"location_description\":\"STREET\",\"longitude\":\"-87.649151489\",\"primary_type\":\"THEFT\",\"updated_on\":\"2017-04-09T15:57:12.000\",\"ward\":\"44\",\"x_coordinate\":\"1170400\",\"y_coordinate\":\"1920770\",\"year\":\"2017\"}\n",
      ",{\"arrest\":false,\"beat\":\"0533\",\"block\":\"133XX S INDIANA AVE\",\"case_number\":\"JA209290\",\"community_area\":\"54\",\"date\":\"2017-04-02T00:30:00.000\",\"description\":\"AUTOMOBILE\",\"district\":\"005\",\"domestic\":false,\"fbi_code\":\"07\",\"id\":\"10897859\",\"iucr\":\"0910\",\"latitude\":\"41.652268611\",\"location\":{\"type\":\"Point\",\"coordinates\":[-87.617233,41.652269]},\"location_description\":\"STREET\",\"longitude\":\"-87.617232658\",\"primary_type\":\"MOTOR VEHICLE THEFT\",\"updated_on\":\"2017-04-09T15:57:12.000\",\"ward\":\"9\",\"x_coordinate\":\"1179952\",\"y_coordinate\":\"1816692\",\"year\":\"2017\"}\n",
      ",{\"arrest\":false,\"beat\":\"1834\",\"block\":\"001XX E HURON ST\",\"case_number\":\"JA209308\",\"community_area\":\"8\",\"date\":\"2017-04-02T00:30:00.000\",\"description\":\"SIMPLE\",\"district\":\"018\",\"domestic\":false,\"fbi_code\":\"08B\",\"id\":\"10897838\",\"iucr\":\"0460\",\"latitude\":\"41.894929671\",\"location\":{\"type\":\"Point\",\"coordinates\":[-87.625158,41.89493]},\"location_description\":\"PARKING LOT/GARAGE(NON.RESID.)\",\"longitude\":\"-87.625157838\",\"primary_type\":\"BATTERY\",\"updated_on\":\"2017-04-09T15:57:12.000\",\"ward\":\"42\",\"x_coordinate\":\"1177058\",\"y_coordinate\":\"1905098\",\"year\":\"2017\"}\n",
      ",{\"arrest\":true,\"beat\":\"0411\",\"block\":\"013XX E 75TH ST\",\"case_number\":\"JA209287\",\"community_area\":\"43\",\"date\":\"2017-04-02T00:31:00.000\",\"description\":\"TO PROPERTY\",\"district\":\"004\",\"domestic\":false,\"fbi_code\":\"14\",\"id\":\"10897846\",\"iucr\":\"1310\",\"latitude\":\"41.758704087\",\"location\":{\"type\":\"Point\",\"coordinates\":[-87.592923,41.758704]},\"location_description\":\"RESIDENCE\",\"longitude\":\"-87.592923477\",\"primary_type\":\"CRIMINAL DAMAGE\",\"updated_on\":\"2017-04-09T15:57:12.000\",\"ward\":\"5\",\"x_coordinate\":\"1186262\",\"y_coordinate\":\"1855532\",\"year\":\"2017\"}\n",
      ",{\"arrest\":false,\"beat\":\"1524\",\"block\":\"052XX W CHICAGO AVE\",\"case_number\":\"JA209253\",\"community_area\":\"25\",\"date\":\"2017-04-02T00:33:00.000\",\"description\":\"FIRST DEGREE MURDER\",\"district\":\"015\",\"domestic\":false,\"fbi_code\":\"01A\",\"id\":\"23218\",\"iucr\":\"0110\",\"latitude\":\"41.894925002\",\"location\":{\"type\":\"Point\",\"coordinates\":[-87.756234,41.894925]},\"location_description\":\"STREET\",\"longitude\":\"-87.756234153\",\"primary_type\":\"HOMICIDE\",\"updated_on\":\"2017-04-09T15:57:12.000\",\"ward\":\"28\",\"x_coordinate\":\"1141371\",\"y_coordinate\":\"1904829\",\"year\":\"2017\"}\n",
      ",{\"arrest\":true,\"beat\":\"0723\",\"block\":\"066XX S HALSTED ST\",\"case_number\":\"JA209281\",\"community_area\":\"68\",\"date\":\"2017-04-02T00:35:00.000\",\"description\":\"TO LAND\",\"district\":\"007\",\"domestic\":false,\"fbi_code\":\"26\",\"id\":\"10897823\",\"iucr\":\"1330\",\"latitude\":\"41.772972076\",\"location\":{\"type\":\"Point\",\"coordinates\":[-87.644611,41.772972]},\"location_description\":\"GAS STATION\",\"longitude\":\"-87.644610871\",\"primary_type\":\"CRIMINAL TRESPASS\",\"updated_on\":\"2017-04-09T15:57:12.000\",\"ward\":\"6\",\"x_coordinate\":\"1172118\",\"y_coordinate\":\"1860614\",\"year\":\"2017\"}\n",
      ",{\"arrest\":false,\"beat\":\"0511\",\"block\":\"100XX S MICHIGAN AVE\",\"case_number\":\"JA209300\",\"community_area\":\"49\",\"date\":\"2017-04-02T00:41:00.000\",\"description\":\"SIMPLE\",\"district\":\"005\",\"domestic\":false,\"fbi_code\":\"08B\",\"id\":\"10897858\",\"iucr\":\"0460\",\"latitude\":\"41.712359904\",\"location\":{\"type\":\"Point\",\"coordinates\":[-87.620093,41.71236]},\"location_description\":\"GAS STATION\",\"longitude\":\"-87.62009309\",\"primary_type\":\"BATTERY\",\"updated_on\":\"2017-04-09T15:57:12.000\",\"ward\":\"9\",\"x_coordinate\":\"1178989\",\"y_coordinate\":\"1838582\",\"year\":\"2017\"}\n",
      ",{\"arrest\":false,\"beat\":\"2534\",\"block\":\"042XX W HIRSCH ST\",\"case_number\":\"JA209575\",\"community_area\":\"23\",\"date\":\"2017-04-02T00:45:00.000\",\"description\":\"TO VEHICLE\",\"district\":\"025\",\"domestic\":false,\"fbi_code\":\"14\",\"id\":\"10898053\",\"iucr\":\"1320\",\"latitude\":\"41.906212625\",\"location\":{\"type\":\"Point\",\"coordinates\":[-87.731747,41.906213]},\"location_description\":\"PARKING LOT/GARAGE(NON.RESID.)\",\"longitude\":\"-87.7317472\",\"primary_type\":\"CRIMINAL DAMAGE\",\"updated_on\":\"2017-04-09T15:57:12.000\",\"ward\":\"37\",\"x_coordinate\":\"1148009\",\"y_coordinate\":\"1908988\",\"year\":\"2017\"}\n",
      ",{\"arrest\":true,\"beat\":\"0834\",\"block\":\"078XX S KEELER AVE\",\"case_number\":\"JA209305\",\"community_area\":\"70\",\"date\":\"2017-04-02T00:45:00.000\",\"description\":\"DOMESTIC BATTERY SIMPLE\",\"district\":\"008\",\"domestic\":true,\"fbi_code\":\"08B\",\"id\":\"10897899\",\"iucr\":\"0486\",\"latitude\":\"41.751478679\",\"location\":{\"type\":\"Point\",\"coordinates\":[-87.72637,41.751479]},\"location_description\":\"STREET\",\"longitude\":\"-87.726370398\",\"primary_type\":\"BATTERY\",\"updated_on\":\"2017-04-09T15:57:12.000\",\"ward\":\"13\",\"x_coordinate\":\"1149871\",\"y_coordinate\":\"1852614\",\"year\":\"2017\"}\n",
      ",{\"arrest\":false,\"beat\":\"1533\",\"block\":\"049XX W ADAMS ST\",\"case_number\":\"JA209309\",\"community_area\":\"25\",\"date\":\"2017-04-02T00:45:00.000\",\"description\":\"STRONGARM - NO WEAPON\",\"district\":\"015\",\"domestic\":false,\"fbi_code\":\"03\",\"id\":\"10897853\",\"iucr\":\"0320\",\"latitude\":\"41.878560968\",\"location\":{\"type\":\"Point\",\"coordinates\":[-87.748083,41.878561]},\"location_description\":\"APARTMENT\",\"longitude\":\"-87.748082667\",\"primary_type\":\"ROBBERY\",\"updated_on\":\"2017-04-09T15:57:12.000\",\"ward\":\"28\",\"x_coordinate\":\"1143631\",\"y_coordinate\":\"1898881\",\"year\":\"2017\"}\n",
      ",{\"arrest\":false,\"beat\":\"1831\",\"block\":\"005XX N WELLS ST\",\"case_number\":\"JA209301\",\"community_area\":\"8\",\"date\":\"2017-04-02T00:45:00.000\",\"description\":\"SIMPLE\",\"district\":\"018\",\"domestic\":false,\"fbi_code\":\"08B\",\"id\":\"10897824\",\"iucr\":\"0460\",\"latitude\":\"41.891051707\",\"location\":{\"type\":\"Point\",\"coordinates\":[-87.634056,41.891052]},\"location_description\":\"BAR OR TAVERN\",\"longitude\":\"-87.63405559\",\"primary_type\":\"BATTERY\",\"updated_on\":\"2017-04-09T15:57:12.000\",\"ward\":\"42\",\"x_coordinate\":\"1174647\",\"y_coordinate\":\"1903665\",\"year\":\"2017\"}\n",
      ",{\"arrest\":false,\"beat\":\"1233\",\"block\":\"012XX S THROOP ST\",\"case_number\":\"JA209298\",\"community_area\":\"28\",\"date\":\"2017-04-02T00:47:00.000\",\"description\":\"STRONGARM - NO WEAPON\",\"district\":\"012\",\"domestic\":false,\"fbi_code\":\"03\",\"id\":\"10897825\",\"iucr\":\"0320\",\"latitude\":\"41.865424659\",\"location\":{\"type\":\"Point\",\"coordinates\":[-87.659079,41.865425]},\"location_description\":\"CTA BUS\",\"longitude\":\"-87.659079139\",\"primary_type\":\"ROBBERY\",\"updated_on\":\"2017-04-09T15:57:12.000\",\"ward\":\"2\",\"x_coordinate\":\"1167907\",\"y_coordinate\":\"1894272\",\"year\":\"2017\"}\n",
      ",{\"arrest\":false,\"beat\":\"0822\",\"block\":\"032XX W 55TH ST\",\"case_number\":\"JA209349\",\"community_area\":\"63\",\"date\":\"2017-04-02T00:55:00.000\",\"description\":\"AUTOMOBILE\",\"district\":\"008\",\"domestic\":false,\"fbi_code\":\"07\",\"id\":\"10897896\",\"iucr\":\"0910\",\"latitude\":\"41.793485288\",\"location\":{\"type\":\"Point\",\"coordinates\":[-87.705365,41.793485]},\"location_description\":\"OTHER\",\"longitude\":\"-87.70536489\",\"primary_type\":\"MOTOR VEHICLE THEFT\",\"updated_on\":\"2017-04-09T15:57:12.000\",\"ward\":\"14\",\"x_coordinate\":\"1155491\",\"y_coordinate\":\"1867962\",\"year\":\"2017\"}\n",
      ",{\"arrest\":false,\"beat\":\"0312\",\"block\":\"008XX E 65TH ST\",\"case_number\":\"JA209307\",\"community_area\":\"42\",\"date\":\"2017-04-02T00:55:00.000\",\"description\":\"DOMESTIC BATTERY SIMPLE\",\"district\":\"003\",\"domestic\":true,\"fbi_code\":\"08B\",\"id\":\"10897855\",\"iucr\":\"0486\",\"latitude\":\"41.776797435\",\"location\":{\"type\":\"Point\",\"coordinates\":[-87.604114,41.776797]},\"location_description\":\"APARTMENT\",\"longitude\":\"-87.604113569\",\"primary_type\":\"BATTERY\",\"updated_on\":\"2017-04-09T15:57:12.000\",\"ward\":\"20\",\"x_coordinate\":\"1183153\",\"y_coordinate\":\"1862099\",\"year\":\"2017\"}\n",
      ",{\"arrest\":false,\"beat\":\"2522\",\"block\":\"023XX N KENNETH AVE\",\"case_number\":\"JA209318\",\"community_area\":\"20\",\"date\":\"2017-04-02T00:55:00.000\",\"description\":\"AGGRAVATED: HANDGUN\",\"district\":\"025\",\"domestic\":false,\"fbi_code\":\"04A\",\"id\":\"10897851\",\"iucr\":\"051A\",\"latitude\":\"41.922978202\",\"location\":{\"type\":\"Point\",\"coordinates\":[-87.737741,41.922978]},\"location_description\":\"STREET\",\"longitude\":\"-87.737740938\",\"primary_type\":\"ASSAULT\",\"updated_on\":\"2017-04-09T15:57:12.000\",\"ward\":\"31\",\"x_coordinate\":\"1146335\",\"y_coordinate\":\"1915086\",\"year\":\"2017\"}\n",
      ",{\"arrest\":false,\"beat\":\"0915\",\"block\":\"034XX S UNION AVE\",\"case_number\":\"JA224922\",\"community_area\":\"60\",\"date\":\"2017-04-02T01:00:00.000\",\"description\":\"$500 AND UNDER\",\"district\":\"009\",\"domestic\":false,\"fbi_code\":\"06\",\"id\":\"10912150\",\"iucr\":\"0820\",\"latitude\":\"41.832116845\",\"location\":{\"type\":\"Point\",\"coordinates\":[-87.643702,41.832117]},\"location_description\":\"STREET\",\"longitude\":\"-87.643702002\",\"primary_type\":\"THEFT\",\"updated_on\":\"2017-04-17T16:05:36.000\",\"ward\":\"11\",\"x_coordinate\":\"1172193\",\"y_coordinate\":\"1882168\",\"year\":\"2017\"}\n",
      ",{\"arrest\":false,\"beat\":\"1924\",\"block\":\"035XX N CLARK ST\",\"case_number\":\"JA209785\",\"community_area\":\"6\",\"date\":\"2017-04-02T01:00:00.000\",\"description\":\"FROM BUILDING\",\"district\":\"019\",\"domestic\":false,\"fbi_code\":\"06\",\"id\":\"10898457\",\"iucr\":\"0890\",\"latitude\":\"41.946159169\",\"location\":{\"type\":\"Point\",\"coordinates\":[-87.655678,41.946159]},\"location_description\":\"BAR OR TAVERN\",\"longitude\":\"-87.655678044\",\"primary_type\":\"THEFT\",\"updated_on\":\"2017-04-09T15:57:12.000\",\"ward\":\"44\",\"x_coordinate\":\"1168601\",\"y_coordinate\":\"1923699\",\"year\":\"2017\"}\n",
      ",{\"arrest\":false,\"beat\":\"1224\",\"block\":\"014XX W LAKE ST\",\"case_number\":\"JA209864\",\"community_area\":\"28\",\"date\":\"2017-04-02T01:00:00.000\",\"description\":\"OVER $500\",\"district\":\"012\",\"domestic\":false,\"fbi_code\":\"06\",\"id\":\"10898411\",\"iucr\":\"0810\",\"latitude\":\"41.885393253\",\"location\":{\"type\":\"Point\",\"coordinates\":[-87.663548,41.885393]},\"location_description\":\"OTHER\",\"longitude\":\"-87.663547848\",\"primary_type\":\"THEFT\",\"updated_on\":\"2017-04-09T15:57:12.000\",\"ward\":\"27\",\"x_coordinate\":\"1166633\",\"y_coordinate\":\"1901539\",\"year\":\"2017\"}\n",
      ",{\"arrest\":false,\"beat\":\"0431\",\"block\":\"097XX S EXCHANGE AVE\",\"case_number\":\"JA209844\",\"community_area\":\"51\",\"date\":\"2017-04-02T01:00:00.000\",\"description\":\"AUTOMOBILE\",\"district\":\"004\",\"domestic\":false,\"fbi_code\":\"07\",\"id\":\"10898317\",\"iucr\":\"0910\",\"latitude\":\"41.718467754\",\"location\":{\"type\":\"Point\",\"coordinates\":[-87.552402,41.718468]},\"location_description\":\"STREET\",\"longitude\":\"-87.552401725\",\"primary_type\":\"MOTOR VEHICLE THEFT\",\"updated_on\":\"2017-04-09T15:57:12.000\",\"ward\":\"10\",\"x_coordinate\":\"1197451\",\"y_coordinate\":\"1840968\",\"year\":\"2017\"}\n",
      ",{\"arrest\":false,\"beat\":\"0324\",\"block\":\"071XX S RIDGELAND AVE\",\"case_number\":\"JA209893\",\"community_area\":\"43\",\"date\":\"2017-04-02T01:00:00.000\",\"description\":\"TO PROPERTY\",\"district\":\"003\",\"domestic\":false,\"fbi_code\":\"14\",\"id\":\"10898285\",\"iucr\":\"1310\",\"latitude\":\"41.764914818\",\"location\":{\"type\":\"Point\",\"coordinates\":[-87.582413,41.764915]},\"location_description\":\"APARTMENT\",\"longitude\":\"-87.58241271\",\"primary_type\":\"CRIMINAL DAMAGE\",\"updated_on\":\"2017-04-09T15:57:12.000\",\"ward\":\"5\",\"x_coordinate\":\"1189110\",\"y_coordinate\":\"1857820\",\"year\":\"2017\"}\n",
      ",{\"arrest\":false,\"beat\":\"1033\",\"block\":\"024XX S TROY ST\",\"case_number\":\"JA209672\",\"community_area\":\"30\",\"date\":\"2017-04-02T01:00:00.000\",\"description\":\"DOMESTIC BATTERY SIMPLE\",\"district\":\"010\",\"domestic\":true,\"fbi_code\":\"08B\",\"id\":\"10898198\",\"iucr\":\"0486\",\"latitude\":\"41.847555951\",\"location\":{\"type\":\"Point\",\"coordinates\":[-87.703897,41.847556]},\"location_description\":\"APARTMENT\",\"longitude\":\"-87.703896798\",\"primary_type\":\"BATTERY\",\"updated_on\":\"2017-04-09T15:57:12.000\",\"ward\":\"12\",\"x_coordinate\":\"1155747\",\"y_coordinate\":\"1887668\",\"year\":\"2017\"}\n",
      ",{\"arrest\":false,\"beat\":\"1012\",\"block\":\"041XX W 21ST PL\",\"case_number\":\"JA209567\",\"community_area\":\"29\",\"date\":\"2017-04-02T01:00:00.000\",\"description\":\"ATT: AUTOMOBILE\",\"district\":\"010\",\"domestic\":false,\"fbi_code\":\"07\",\"id\":\"10898057\",\"iucr\":\"0920\",\"latitude\":\"41.852538532\",\"location\":{\"type\":\"Point\",\"coordinates\":[-87.72822,41.852539]},\"location_description\":\"STREET\",\"longitude\":\"-87.728220185\",\"primary_type\":\"MOTOR VEHICLE THEFT\",\"updated_on\":\"2017-04-09T15:57:12.000\",\"ward\":\"24\",\"x_coordinate\":\"1149107\",\"y_coordinate\":\"1889436\",\"year\":\"2017\"}\n",
      ",{\"arrest\":false,\"beat\":\"0613\",\"block\":\"085XX S PEORIA ST\",\"case_number\":\"JA209299\",\"community_area\":\"71\",\"date\":\"2017-04-02T01:04:00.000\",\"description\":\"FIRST DEGREE MURDER\",\"district\":\"006\",\"domestic\":false,\"fbi_code\":\"01A\",\"id\":\"23219\",\"iucr\":\"0110\",\"latitude\":\"41.738844769\",\"location\":{\"type\":\"Point\",\"coordinates\":[-87.646126,41.738845]},\"location_description\":\"ALLEY\",\"longitude\":\"-87.646126146\",\"primary_type\":\"HOMICIDE\",\"updated_on\":\"2017-04-09T15:57:12.000\",\"ward\":\"21\",\"x_coordinate\":\"1171804\",\"y_coordinate\":\"1848175\",\"year\":\"2017\"}\n",
      ",{\"arrest\":false,\"beat\":\"1414\",\"block\":\"025XX N KEDZIE BLVD\",\"case_number\":\"JA209306\",\"community_area\":\"22\",\"date\":\"2017-04-02T01:05:00.000\",\"description\":\"AGGRAVATED: OTHER DANG WEAPON\",\"district\":\"014\",\"domestic\":false,\"fbi_code\":\"04B\",\"id\":\"10897912\",\"iucr\":\"0430\",\"latitude\":\"41.927760974\",\"location\":{\"type\":\"Point\",\"coordinates\":[-87.707228,41.927761]},\"location_description\":\"TAVERN/LIQUOR STORE\",\"longitude\":\"-87.70722846\",\"primary_type\":\"BATTERY\",\"updated_on\":\"2017-04-09T15:57:12.000\",\"ward\":\"35\",\"x_coordinate\":\"1154626\",\"y_coordinate\":\"1916888\",\"year\":\"2017\"}\n",
      ",{\"arrest\":false,\"beat\":\"1135\",\"block\":\"027XX W HARRISON ST\",\"case_number\":\"JA209312\",\"community_area\":\"27\",\"date\":\"2017-04-02T01:10:00.000\",\"description\":\"$500 AND UNDER\",\"district\":\"011\",\"domestic\":false,\"fbi_code\":\"06\",\"id\":\"10897892\",\"iucr\":\"0820\",\"latitude\":\"41.873807522\",\"location\":{\"type\":\"Point\",\"coordinates\":[-87.694456,41.873808]},\"location_description\":\"OTHER\",\"longitude\":\"-87.69445629\",\"primary_type\":\"THEFT\",\"updated_on\":\"2017-04-09T15:57:12.000\",\"ward\":\"2\",\"x_coordinate\":\"1158248\",\"y_coordinate\":\"1897253\",\"year\":\"2017\"}\n",
      ",{\"arrest\":false,\"beat\":\"1824\",\"block\":\"0000X W GOETHE ST\",\"case_number\":\"JA209341\",\"community_area\":\"8\",\"date\":\"2017-04-02T01:15:00.000\",\"description\":\"OVER $500\",\"district\":\"018\",\"domestic\":false,\"fbi_code\":\"06\",\"id\":\"10903712\",\"iucr\":\"0810\",\"location_description\":\"STREET\",\"primary_type\":\"THEFT\",\"updated_on\":\"2017-04-09T15:57:12.000\",\"ward\":\"42\",\"year\":\"2017\"}\n",
      ",{\"arrest\":true,\"beat\":\"0922\",\"block\":\"043XX S ARTESIAN AVE\",\"case_number\":\"JA209317\",\"community_area\":\"58\",\"date\":\"2017-04-02T01:20:00.000\",\"description\":\"DOMESTIC BATTERY SIMPLE\",\"district\":\"009\",\"domestic\":true,\"fbi_code\":\"08B\",\"id\":\"10897875\",\"iucr\":\"0486\",\"latitude\":\"41.815111881\",\"location\":{\"type\":\"Point\",\"coordinates\":[-87.685887,41.815112]},\"location_description\":\"APARTMENT\",\"longitude\":\"-87.685887355\",\"primary_type\":\"BATTERY\",\"updated_on\":\"2017-04-09T15:57:12.000\",\"ward\":\"12\",\"x_coordinate\":\"1160743\",\"y_coordinate\":\"1875882\",\"year\":\"2017\"}\n",
      ",{\"arrest\":true,\"beat\":\"0932\",\"block\":\"019XX W 52ND ST\",\"case_number\":\"JA209325\",\"community_area\":\"61\",\"date\":\"2017-04-02T01:21:00.000\",\"description\":\"POSS: CANNABIS 30GMS OR LESS\",\"district\":\"009\",\"domestic\":false,\"fbi_code\":\"18\",\"id\":\"10897874\",\"iucr\":\"1811\",\"latitude\":\"41.799422229\",\"location\":{\"type\":\"Point\",\"coordinates\":[-87.673723,41.799422]},\"location_description\":\"STREET\",\"longitude\":\"-87.673722573\",\"primary_type\":\"NARCOTICS\",\"updated_on\":\"2017-04-09T15:57:12.000\",\"ward\":\"16\",\"x_coordinate\":\"1164103\",\"y_coordinate\":\"1870190\",\"year\":\"2017\"}\n",
      ",{\"arrest\":false,\"beat\":\"1611\",\"block\":\"061XX N INDIAN RD\",\"case_number\":\"JA211168\",\"community_area\":\"11\",\"date\":\"2017-04-02T01:30:00.000\",\"description\":\"TO PROPERTY\",\"district\":\"016\",\"domestic\":false,\"fbi_code\":\"14\",\"id\":\"10899664\",\"iucr\":\"1310\",\"latitude\":\"41.993590063\",\"location\":{\"type\":\"Point\",\"coordinates\":[-87.777235,41.99359]},\"location_description\":\"RESIDENCE\",\"longitude\":\"-87.777235135\",\"primary_type\":\"CRIMINAL DAMAGE\",\"updated_on\":\"2017-04-09T15:57:12.000\",\"ward\":\"45\",\"x_coordinate\":\"1135420\",\"y_coordinate\":\"1940745\",\"year\":\"2017\"}\n",
      ",{\"arrest\":false,\"beat\":\"1413\",\"block\":\"024XX N DRAKE AVE\",\"case_number\":\"JA210620\",\"community_area\":\"22\",\"date\":\"2017-04-02T01:30:00.000\",\"description\":\"TO PROPERTY\",\"district\":\"014\",\"domestic\":false,\"fbi_code\":\"14\",\"id\":\"10899070\",\"iucr\":\"1310\",\"latitude\":\"41.925274414\",\"location\":{\"type\":\"Point\",\"coordinates\":[-87.715789,41.925274]},\"location_description\":\"RESIDENCE-GARAGE\",\"longitude\":\"-87.715789063\",\"primary_type\":\"CRIMINAL DAMAGE\",\"updated_on\":\"2017-04-09T15:57:12.000\",\"ward\":\"26\",\"x_coordinate\":\"1152303\",\"y_coordinate\":\"1915965\",\"year\":\"2017\"}\n",
      ",{\"arrest\":false,\"beat\":\"1712\",\"block\":\"049XX N ST LOUIS AVE\",\"case_number\":\"JA209776\",\"community_area\":\"14\",\"date\":\"2017-04-02T01:30:00.000\",\"description\":\"OVER $500\",\"district\":\"017\",\"domestic\":false,\"fbi_code\":\"06\",\"id\":\"10898232\",\"iucr\":\"0810\",\"latitude\":\"41.97099629\",\"location\":{\"type\":\"Point\",\"coordinates\":[-87.715881,41.970996]},\"location_description\":\"STREET\",\"longitude\":\"-87.715880832\",\"primary_type\":\"THEFT\",\"updated_on\":\"2017-04-09T15:57:12.000\",\"ward\":\"39\",\"x_coordinate\":\"1152158\",\"y_coordinate\":\"1932626\",\"year\":\"2017\"}\n",
      ",{\"arrest\":false,\"beat\":\"2422\",\"block\":\"016XX W HOWARD ST\",\"case_number\":\"JA209488\",\"community_area\":\"1\",\"date\":\"2017-04-02T01:30:00.000\",\"description\":\"TO VEHICLE\",\"district\":\"024\",\"domestic\":false,\"fbi_code\":\"14\",\"id\":\"10898040\",\"iucr\":\"1320\",\"latitude\":\"42.019374219\",\"location\":{\"type\":\"Point\",\"coordinates\":[-87.671653,42.019374]},\"location_description\":\"STREET\",\"longitude\":\"-87.671653016\",\"primary_type\":\"CRIMINAL DAMAGE\",\"updated_on\":\"2017-04-09T15:57:12.000\",\"ward\":\"49\",\"x_coordinate\":\"1164049\",\"y_coordinate\":\"1950345\",\"year\":\"2017\"}\n",
      ",{\"arrest\":false,\"beat\":\"1024\",\"block\":\"024XX S TRUMBULL AVE\",\"case_number\":\"JA209340\",\"community_area\":\"30\",\"date\":\"2017-04-02T01:30:00.000\",\"description\":\"STRONGARM - NO WEAPON\",\"district\":\"010\",\"domestic\":false,\"fbi_code\":\"03\",\"id\":\"10897938\",\"iucr\":\"0320\",\"latitude\":\"41.847609583\",\"location\":{\"type\":\"Point\",\"coordinates\":[-87.711222,41.84761]},\"location_description\":\"SIDEWALK\",\"longitude\":\"-87.711222061\",\"primary_type\":\"ROBBERY\",\"updated_on\":\"2017-04-09T15:57:12.000\",\"ward\":\"22\",\"x_coordinate\":\"1153751\",\"y_coordinate\":\"1887673\",\"year\":\"2017\"}\n",
      ",{\"arrest\":true,\"beat\":\"0313\",\"block\":\"062XX S EBERHART AVE\",\"case_number\":\"JA209352\",\"community_area\":\"42\",\"date\":\"2017-04-02T01:30:00.000\",\"description\":\"DOMESTIC BATTERY SIMPLE\",\"district\":\"003\",\"domestic\":true,\"fbi_code\":\"08B\",\"id\":\"10897880\",\"iucr\":\"0486\",\"latitude\":\"41.781646505\",\"location\":{\"type\":\"Point\",\"coordinates\":[-87.613236,41.781647]},\"location_description\":\"APARTMENT\",\"longitude\":\"-87.613235784\",\"primary_type\":\"BATTERY\",\"updated_on\":\"2017-04-09T15:57:12.000\",\"ward\":\"20\",\"x_coordinate\":\"1180650\",\"y_coordinate\":\"1863845\",\"year\":\"2017\"}\n",
      ",{\"arrest\":false,\"beat\":\"1224\",\"block\":\"012XX W RANDOLPH ST\",\"case_number\":\"JA209328\",\"community_area\":\"28\",\"date\":\"2017-04-02T01:30:00.000\",\"description\":\"DOMESTIC BATTERY SIMPLE\",\"district\":\"012\",\"domestic\":true,\"fbi_code\":\"08B\",\"id\":\"10897866\",\"iucr\":\"0486\",\"latitude\":\"41.884107622\",\"location\":{\"type\":\"Point\",\"coordinates\":[-87.658167,41.884108]},\"location_description\":\"STREET\",\"longitude\":\"-87.658166639\",\"primary_type\":\"BATTERY\",\"updated_on\":\"2017-04-09T15:57:12.000\",\"ward\":\"27\",\"x_coordinate\":\"1168102\",\"y_coordinate\":\"1901082\",\"year\":\"2017\"}\n",
      ",{\"arrest\":false,\"beat\":\"2524\",\"block\":\"042XX W FULLERTON AVE\",\"case_number\":\"JA209314\",\"community_area\":\"20\",\"date\":\"2017-04-02T01:33:00.000\",\"description\":\"SIMPLE\",\"district\":\"025\",\"domestic\":false,\"fbi_code\":\"08B\",\"id\":\"10897860\",\"iucr\":\"0460\",\"latitude\":\"41.924408983\",\"location\":{\"type\":\"Point\",\"coordinates\":[-87.733197,41.924409]},\"location_description\":\"STREET\",\"longitude\":\"-87.733196805\",\"primary_type\":\"BATTERY\",\"updated_on\":\"2017-04-09T15:57:12.000\",\"ward\":\"31\",\"x_coordinate\":\"1147568\",\"y_coordinate\":\"1915616\",\"year\":\"2017\"}\n",
      ",{\"arrest\":true,\"beat\":\"1831\",\"block\":\"001XX W KINZIE ST\",\"case_number\":\"JA209326\",\"community_area\":\"8\",\"date\":\"2017-04-02T01:35:00.000\",\"description\":\"SIMPLE\",\"district\":\"018\",\"domestic\":false,\"fbi_code\":\"08B\",\"id\":\"10897885\",\"iucr\":\"0460\",\"latitude\":\"41.889179572\",\"location\":{\"type\":\"Point\",\"coordinates\":[-87.633062,41.88918]},\"location_description\":\"BAR OR TAVERN\",\"longitude\":\"-87.633062369\",\"primary_type\":\"BATTERY\",\"updated_on\":\"2017-04-09T15:57:12.000\",\"ward\":\"42\",\"x_coordinate\":\"1174923\",\"y_coordinate\":\"1902985\",\"year\":\"2017\"}\n",
      ",{\"arrest\":false,\"beat\":\"2212\",\"block\":\"020XX W 104TH ST\",\"case_number\":\"JA210514\",\"community_area\":\"72\",\"date\":\"2017-04-02T01:43:00.000\",\"description\":\"TO VEHICLE\",\"district\":\"022\",\"domestic\":false,\"fbi_code\":\"14\",\"id\":\"10898868\",\"iucr\":\"1320\",\"latitude\":\"41.704678749\",\"location\":{\"type\":\"Point\",\"coordinates\":[-87.67341,41.704679]},\"location_description\":\"STREET\",\"longitude\":\"-87.673410111\",\"primary_type\":\"CRIMINAL DAMAGE\",\"updated_on\":\"2017-04-09T15:57:12.000\",\"ward\":\"19\",\"x_coordinate\":\"1164453\",\"y_coordinate\":\"1835667\",\"year\":\"2017\"}\n",
      ",{\"arrest\":false,\"beat\":\"2423\",\"block\":\"073XX N SHERIDAN RD\",\"case_number\":\"JA223672\",\"community_area\":\"1\",\"date\":\"2017-04-02T02:00:00.000\",\"description\":\"AGGRAVATED: OTHER\",\"district\":\"024\",\"domestic\":true,\"fbi_code\":\"02\",\"id\":\"10911102\",\"iucr\":\"0265\",\"latitude\":\"42.014216031\",\"location\":{\"type\":\"Point\",\"coordinates\":[-87.664229,42.014216]},\"location_description\":\"HOTEL/MOTEL\",\"longitude\":\"-87.664229139\",\"primary_type\":\"CRIM SEXUAL ASSAULT\",\"updated_on\":\"2017-04-17T16:05:36.000\",\"ward\":\"49\",\"x_coordinate\":\"1166081\",\"y_coordinate\":\"1948481\",\"year\":\"2017\"}\n",
      ",{\"arrest\":false,\"beat\":\"1424\",\"block\":\"015XX N MILWAUKEE AVE\",\"case_number\":\"JA209501\",\"community_area\":\"24\",\"date\":\"2017-04-02T02:00:00.000\",\"description\":\"AGG: HANDS/FIST/FEET SERIOUS INJURY\",\"district\":\"014\",\"domestic\":false,\"fbi_code\":\"04B\",\"id\":\"10898140\",\"iucr\":\"0479\",\"latitude\":\"41.909845903\",\"location\":{\"type\":\"Point\",\"coordinates\":[-87.676636,41.909846]},\"location_description\":\"STREET\",\"longitude\":\"-87.676635508\",\"primary_type\":\"BATTERY\",\"updated_on\":\"2017-04-17T16:05:36.000\",\"ward\":\"1\",\"x_coordinate\":\"1163001\",\"y_coordinate\":\"1910422\",\"year\":\"2017\"}\n",
      ",{\"arrest\":false,\"beat\":\"0813\",\"block\":\"040XX W 59TH ST\",\"case_number\":\"JA211255\",\"community_area\":\"62\",\"date\":\"2017-04-02T02:00:00.000\",\"description\":\"CRIMINAL DEFACEMENT\",\"district\":\"008\",\"domestic\":false,\"fbi_code\":\"14\",\"id\":\"10899606\",\"iucr\":\"1305\",\"latitude\":\"41.785919292\",\"location\":{\"type\":\"Point\",\"coordinates\":[-87.724744,41.785919]},\"location_description\":\"RESIDENCE-GARAGE\",\"longitude\":\"-87.72474398\",\"primary_type\":\"CRIMINAL DAMAGE\",\"updated_on\":\"2017-04-09T15:57:12.000\",\"ward\":\"13\",\"x_coordinate\":\"1150226\",\"y_coordinate\":\"1865167\",\"year\":\"2017\"}\n",
      ",{\"arrest\":false,\"beat\":\"1422\",\"block\":\"034XX W NORTH AVE\",\"case_number\":\"JA210097\",\"community_area\":\"23\",\"date\":\"2017-04-02T02:00:00.000\",\"description\":\"UNLAWFUL ENTRY\",\"district\":\"014\",\"domestic\":false,\"fbi_code\":\"05\",\"id\":\"10898419\",\"iucr\":\"0620\",\"latitude\":\"41.910029772\",\"location\":{\"type\":\"Point\",\"coordinates\":[-87.713669,41.91003]},\"location_description\":\"ALLEY\",\"longitude\":\"-87.71366928\",\"primary_type\":\"BURGLARY\",\"updated_on\":\"2017-04-09T15:57:12.000\",\"ward\":\"26\",\"x_coordinate\":\"1152920\",\"y_coordinate\":\"1910414\",\"year\":\"2017\"}\n",
      ",{\"arrest\":false,\"beat\":\"1213\",\"block\":\"016XX W AUGUSTA BLVD\",\"case_number\":\"JA209933\",\"community_area\":\"24\",\"date\":\"2017-04-02T02:00:00.000\",\"description\":\"AUTOMOBILE\",\"district\":\"012\",\"domestic\":false,\"fbi_code\":\"07\",\"id\":\"10898336\",\"iucr\":\"0910\",\"latitude\":\"41.899683801\",\"location\":{\"type\":\"Point\",\"coordinates\":[-87.668967,41.899684]},\"location_description\":\"STREET\",\"longitude\":\"-87.668967121\",\"primary_type\":\"MOTOR VEHICLE THEFT\",\"updated_on\":\"2017-04-09T15:57:12.000\",\"ward\":\"1\",\"x_coordinate\":\"1165117\",\"y_coordinate\":\"1906735\",\"year\":\"2017\"}\n",
      ",{\"arrest\":false,\"beat\":\"1831\",\"block\":\"0000X W HUBBARD ST\",\"case_number\":\"JA209819\",\"community_area\":\"8\",\"date\":\"2017-04-02T02:00:00.000\",\"description\":\"POCKET-PICKING\",\"district\":\"018\",\"domestic\":false,\"fbi_code\":\"06\",\"id\":\"10898265\",\"iucr\":\"0870\",\"latitude\":\"41.890057206\",\"location\":{\"type\":\"Point\",\"coordinates\":[-87.628491,41.890057]},\"location_description\":\"BAR OR TAVERN\",\"longitude\":\"-87.628491342\",\"primary_type\":\"THEFT\",\"updated_on\":\"2017-04-09T15:57:12.000\",\"ward\":\"42\",\"x_coordinate\":\"1176165\",\"y_coordinate\":\"1903315\",\"year\":\"2017\"}\n",
      ",{\"arrest\":false,\"beat\":\"1134\",\"block\":\"031XX W ROOSEVELT RD\",\"case_number\":\"JA209517\",\"community_area\":\"29\",\"date\":\"2017-04-02T02:00:00.000\",\"description\":\"FROM BUILDING\",\"district\":\"011\",\"domestic\":false,\"fbi_code\":\"06\",\"id\":\"10897992\",\"iucr\":\"0890\",\"latitude\":\"41.86641507\",\"location\":{\"type\":\"Point\",\"coordinates\":[-87.705004,41.866415]},\"location_description\":\"APARTMENT\",\"longitude\":\"-87.705004143\",\"primary_type\":\"THEFT\",\"updated_on\":\"2017-04-09T15:57:12.000\",\"ward\":\"24\",\"x_coordinate\":\"1155395\",\"y_coordinate\":\"1894538\",\"year\":\"2017\"}\n",
      ",{\"arrest\":false,\"beat\":\"0225\",\"block\":\"051XX S MICHIGAN AVE\",\"case_number\":\"JA209414\",\"community_area\":\"40\",\"date\":\"2017-04-02T02:00:00.000\",\"description\":\"TO PROPERTY\",\"district\":\"002\",\"domestic\":false,\"fbi_code\":\"14\",\"id\":\"10897927\",\"iucr\":\"1310\",\"latitude\":\"41.800761254\",\"location\":{\"type\":\"Point\",\"coordinates\":[-87.62262,41.800761]},\"location_description\":\"RESIDENCE\",\"longitude\":\"-87.622619798\",\"primary_type\":\"CRIMINAL DAMAGE\",\"updated_on\":\"2017-04-09T15:57:12.000\",\"ward\":\"3\",\"x_coordinate\":\"1178033\",\"y_coordinate\":\"1870789\",\"year\":\"2017\"}\n",
      ",{\"arrest\":false,\"beat\":\"0421\",\"block\":\"077XX S ESSEX AVE\",\"case_number\":\"JA209345\",\"community_area\":\"43\",\"date\":\"2017-04-02T02:00:00.000\",\"description\":\"DOMESTIC BATTERY SIMPLE\",\"district\":\"004\",\"domestic\":true,\"fbi_code\":\"08B\",\"id\":\"10897922\",\"iucr\":\"0486\",\"latitude\":\"41.754827555\",\"location\":{\"type\":\"Point\",\"coordinates\":[-87.563865,41.754828]},\"location_description\":\"APARTMENT\",\"longitude\":\"-87.563864807\",\"primary_type\":\"BATTERY\",\"updated_on\":\"2017-04-09T15:57:12.000\",\"ward\":\"7\",\"x_coordinate\":\"1194203\",\"y_coordinate\":\"1854189\",\"year\":\"2017\"}\n",
      ",{\"arrest\":false,\"beat\":\"0312\",\"block\":\"064XX S DR MARTIN LUTHER KING JR DR\",\"case_number\":\"JA209338\",\"community_area\":\"69\",\"date\":\"2017-04-02T02:00:00.000\",\"description\":\"SIMPLE\",\"district\":\"003\",\"domestic\":false,\"fbi_code\":\"08A\",\"id\":\"10897854\",\"iucr\":\"0560\",\"latitude\":\"41.777503445\",\"location\":{\"type\":\"Point\",\"coordinates\":[-87.615559,41.777503]},\"location_description\":\"STREET\",\"longitude\":\"-87.615558861\",\"primary_type\":\"ASSAULT\",\"updated_on\":\"2017-04-09T15:57:12.000\",\"ward\":\"20\",\"x_coordinate\":\"1180029\",\"y_coordinate\":\"1862330\",\"year\":\"2017\"}\n",
      ",{\"arrest\":false,\"beat\":\"0312\",\"block\":\"063XX S COTTAGE GROVE AVE\",\"case_number\":\"JA209332\",\"community_area\":\"42\",\"date\":\"2017-04-02T02:04:00.000\",\"description\":\"ARMED: HANDGUN\",\"district\":\"003\",\"domestic\":false,\"fbi_code\":\"03\",\"id\":\"10897897\",\"iucr\":\"031A\",\"latitude\":\"41.7799566\",\"location\":{\"type\":\"Point\",\"coordinates\":[-87.605922,41.779957]},\"location_description\":\"CTA BUS STOP\",\"longitude\":\"-87.605921959\",\"primary_type\":\"ROBBERY\",\"updated_on\":\"2017-04-09T15:57:12.000\",\"ward\":\"20\",\"x_coordinate\":\"1182650\",\"y_coordinate\":\"1863246\",\"year\":\"2017\"}\n",
      ",{\"arrest\":false,\"beat\":\"1834\",\"block\":\"003XX E NORTH WATER ST\",\"case_number\":\"JA209354\",\"community_area\":\"8\",\"date\":\"2017-04-02T02:10:00.000\",\"description\":\"AUTOMOBILE\",\"district\":\"018\",\"domestic\":false,\"fbi_code\":\"07\",\"id\":\"10897887\",\"iucr\":\"0910\",\"latitude\":\"41.889561428\",\"location\":{\"type\":\"Point\",\"coordinates\":[-87.620197,41.889561]},\"location_description\":\"PARKING LOT/GARAGE(NON.RESID.)\",\"longitude\":\"-87.620196651\",\"primary_type\":\"MOTOR VEHICLE THEFT\",\"updated_on\":\"2017-04-09T15:57:12.000\",\"ward\":\"42\",\"x_coordinate\":\"1178425\",\"y_coordinate\":\"1903153\",\"year\":\"2017\"}\n",
      ",{\"arrest\":false,\"beat\":\"1524\",\"block\":\"052XX W AUGUSTA BLVD\",\"case_number\":\"JA209758\",\"community_area\":\"25\",\"date\":\"2017-04-02T02:15:00.000\",\"description\":\"TO VEHICLE\",\"district\":\"015\",\"domestic\":false,\"fbi_code\":\"14\",\"id\":\"10898211\",\"iucr\":\"1320\",\"latitude\":\"41.898574337\",\"location\":{\"type\":\"Point\",\"coordinates\":[-87.757226,41.898574]},\"location_description\":\"STREET\",\"longitude\":\"-87.757226107\",\"primary_type\":\"CRIMINAL DAMAGE\",\"updated_on\":\"2017-04-09T15:57:12.000\",\"ward\":\"37\",\"x_coordinate\":\"1141092\",\"y_coordinate\":\"1906157\",\"year\":\"2017\"}\n",
      ",{\"arrest\":true,\"beat\":\"1934\",\"block\":\"005XX W SURF ST\",\"case_number\":\"JA209415\",\"community_area\":\"6\",\"date\":\"2017-04-02T02:17:00.000\",\"description\":\"POSS: HEROIN(WHITE)\",\"district\":\"019\",\"domestic\":false,\"fbi_code\":\"18\",\"id\":\"10897962\",\"iucr\":\"2024\",\"latitude\":\"41.934285572\",\"location\":{\"type\":\"Point\",\"coordinates\":[-87.64243,41.934286]},\"location_description\":\"APARTMENT\",\"longitude\":\"-87.642429713\",\"primary_type\":\"NARCOTICS\",\"updated_on\":\"2017-04-09T15:57:12.000\",\"ward\":\"44\",\"x_coordinate\":\"1172240\",\"y_coordinate\":\"1919401\",\"year\":\"2017\"}\n",
      ",{\"arrest\":false,\"beat\":\"1832\",\"block\":\"006XX N WELLS ST\",\"case_number\":\"JA209357\",\"community_area\":\"8\",\"date\":\"2017-04-02T02:20:00.000\",\"description\":\"DOMESTIC BATTERY SIMPLE\",\"district\":\"018\",\"domestic\":false,\"fbi_code\":\"08B\",\"id\":\"10897882\",\"iucr\":\"0486\",\"latitude\":\"41.892588736\",\"location\":{\"type\":\"Point\",\"coordinates\":[-87.634098,41.892589]},\"location_description\":\"BAR OR TAVERN\",\"longitude\":\"-87.63409759\",\"primary_type\":\"BATTERY\",\"updated_on\":\"2017-04-09T15:57:12.000\",\"ward\":\"42\",\"x_coordinate\":\"1174631\",\"y_coordinate\":\"1904225\",\"year\":\"2017\"}\n",
      ",{\"arrest\":false,\"beat\":\"1724\",\"block\":\"033XX W MONTROSE AVE\",\"case_number\":\"JA209664\",\"community_area\":\"16\",\"date\":\"2017-04-02T02:30:00.000\",\"description\":\"TO VEHICLE\",\"district\":\"017\",\"domestic\":false,\"fbi_code\":\"14\",\"id\":\"10898138\",\"iucr\":\"1320\",\"latitude\":\"41.961136383\",\"location\":{\"type\":\"Point\",\"coordinates\":[-87.712325,41.961136]},\"location_description\":\"STREET\",\"longitude\":\"-87.712325027\",\"primary_type\":\"CRIMINAL DAMAGE\",\"updated_on\":\"2017-04-09T15:57:12.000\",\"ward\":\"33\",\"x_coordinate\":\"1153151\",\"y_coordinate\":\"1929040\",\"year\":\"2017\"}\n",
      ",{\"arrest\":false,\"beat\":\"2523\",\"block\":\"030XX N LAWNDALE AVE\",\"case_number\":\"JA209653\",\"community_area\":\"21\",\"date\":\"2017-04-02T02:30:00.000\",\"description\":\"$500 AND UNDER\",\"district\":\"025\",\"domestic\":false,\"fbi_code\":\"06\",\"id\":\"10898133\",\"iucr\":\"0820\",\"latitude\":\"41.936955851\",\"location\":{\"type\":\"Point\",\"coordinates\":[-87.719749,41.936956]},\"location_description\":\"STREET\",\"longitude\":\"-87.71974867\",\"primary_type\":\"THEFT\",\"updated_on\":\"2017-04-09T15:57:12.000\",\"ward\":\"35\",\"x_coordinate\":\"1151195\",\"y_coordinate\":\"1920214\",\"year\":\"2017\"}\n",
      ",{\"arrest\":false,\"beat\":\"0324\",\"block\":\"071XX S INGLESIDE AVE\",\"case_number\":\"JA209499\",\"community_area\":\"69\",\"date\":\"2017-04-02T02:30:00.000\",\"description\":\"SIMPLE\",\"district\":\"003\",\"domestic\":false,\"fbi_code\":\"08B\",\"id\":\"10898094\",\"iucr\":\"0460\",\"latitude\":\"41.765185884\",\"location\":{\"type\":\"Point\",\"coordinates\":[-87.601884,41.765186]},\"location_description\":\"SIDEWALK\",\"longitude\":\"-87.601884473\",\"primary_type\":\"BATTERY\",\"updated_on\":\"2017-04-09T15:57:12.000\",\"ward\":\"5\",\"x_coordinate\":\"1183797\",\"y_coordinate\":\"1857873\",\"year\":\"2017\"}\n",
      ",{\"arrest\":true,\"beat\":\"0921\",\"block\":\"042XX S TALMAN AVE\",\"case_number\":\"JA209350\",\"community_area\":\"58\",\"date\":\"2017-04-02T02:33:00.000\",\"description\":\"DOMESTIC BATTERY SIMPLE\",\"district\":\"009\",\"domestic\":true,\"fbi_code\":\"08B\",\"id\":\"10897886\",\"iucr\":\"0486\",\"latitude\":\"41.816821629\",\"location\":{\"type\":\"Point\",\"coordinates\":[-87.690786,41.816822]},\"location_description\":\"RESIDENCE\",\"longitude\":\"-87.690785891\",\"primary_type\":\"BATTERY\",\"updated_on\":\"2017-04-09T15:57:12.000\",\"ward\":\"12\",\"x_coordinate\":\"1159403\",\"y_coordinate\":\"1876495\",\"year\":\"2017\"}\n",
      ",{\"arrest\":false,\"beat\":\"0632\",\"block\":\"085XX S COTTAGE GROVE AVE\",\"case_number\":\"JA209369\",\"community_area\":\"44\",\"date\":\"2017-04-02T02:45:00.000\",\"description\":\"AGGRAVATED: HANDGUN\",\"district\":\"006\",\"domestic\":false,\"fbi_code\":\"04A\",\"id\":\"10901251\",\"iucr\":\"051A\",\"location_description\":\"SIDEWALK\",\"primary_type\":\"ASSAULT\",\"updated_on\":\"2017-04-09T15:57:12.000\",\"ward\":\"6\",\"year\":\"2017\"}\n",
      ",{\"arrest\":false,\"beat\":\"2533\",\"block\":\"049XX W ST PAUL AVE\",\"case_number\":\"JA209380\",\"community_area\":\"25\",\"date\":\"2017-04-02T02:45:00.000\",\"description\":\"DOMESTIC BATTERY SIMPLE\",\"district\":\"025\",\"domestic\":true,\"fbi_code\":\"08B\",\"id\":\"10897923\",\"iucr\":\"0486\",\"latitude\":\"41.91232215\",\"location\":{\"type\":\"Point\",\"coordinates\":[-87.749997,41.912322]},\"location_description\":\"RESIDENCE\",\"longitude\":\"-87.749997091\",\"primary_type\":\"BATTERY\",\"updated_on\":\"2017-04-09T15:57:12.000\",\"ward\":\"37\",\"x_coordinate\":\"1143026\",\"y_coordinate\":\"1911180\",\"year\":\"2017\"}\n",
      ",{\"arrest\":false,\"beat\":\"1822\",\"block\":\"015XX N FREMONT ST\",\"case_number\":\"JA209419\",\"community_area\":\"8\",\"date\":\"2017-04-02T02:45:00.000\",\"description\":\"TO VEHICLE\",\"district\":\"018\",\"domestic\":false,\"fbi_code\":\"14\",\"id\":\"10897919\",\"iucr\":\"1320\",\"latitude\":\"41.9106081\",\"location\":{\"type\":\"Point\",\"coordinates\":[-87.651098,41.910608]},\"location_description\":\"STREET\",\"longitude\":\"-87.651098193\",\"primary_type\":\"CRIMINAL DAMAGE\",\"updated_on\":\"2017-04-09T15:57:12.000\",\"ward\":\"43\",\"x_coordinate\":\"1169950\",\"y_coordinate\":\"1910754\",\"year\":\"2017\"}\n",
      ",{\"arrest\":false,\"beat\":\"2511\",\"block\":\"067XX W GEORGE ST\",\"case_number\":\"JA209420\",\"community_area\":\"18\",\"date\":\"2017-04-02T02:50:00.000\",\"description\":\"SIMPLE\",\"district\":\"025\",\"domestic\":false,\"fbi_code\":\"08B\",\"id\":\"10897944\",\"iucr\":\"0460\",\"latitude\":\"41.932731925\",\"location\":{\"type\":\"Point\",\"coordinates\":[-87.793387,41.932732]},\"location_description\":\"STREET\",\"longitude\":\"-87.793387007\",\"primary_type\":\"BATTERY\",\"updated_on\":\"2017-04-09T15:57:12.000\",\"ward\":\"36\",\"x_coordinate\":\"1131169\",\"y_coordinate\":\"1918540\",\"year\":\"2017\"}\n",
      ",{\"arrest\":false,\"beat\":\"1931\",\"block\":\"025XX N ASHLAND AVE\",\"case_number\":\"JA209416\",\"community_area\":\"7\",\"date\":\"2017-04-02T02:50:00.000\",\"description\":\"$500 AND UNDER\",\"district\":\"019\",\"domestic\":false,\"fbi_code\":\"06\",\"id\":\"10897943\",\"iucr\":\"0820\",\"latitude\":\"41.92778598\",\"location\":{\"type\":\"Point\",\"coordinates\":[-87.668238,41.927786]},\"location_description\":\"STREET\",\"longitude\":\"-87.668238313\",\"primary_type\":\"THEFT\",\"updated_on\":\"2017-04-09T15:57:12.000\",\"ward\":\"32\",\"x_coordinate\":\"1165236\",\"y_coordinate\":\"1916977\",\"year\":\"2017\"}\n",
      ",{\"arrest\":false,\"beat\":\"1933\",\"block\":\"010XX W BARRY AVE\",\"case_number\":\"JA209359\",\"community_area\":\"6\",\"date\":\"2017-04-02T02:55:00.000\",\"description\":\"SIMPLE\",\"district\":\"019\",\"domestic\":false,\"fbi_code\":\"08B\",\"id\":\"10897904\",\"iucr\":\"0460\",\"latitude\":\"41.938083844\",\"location\":{\"type\":\"Point\",\"coordinates\":[-87.654437,41.938084]},\"location_description\":\"STREET\",\"longitude\":\"-87.654436722\",\"primary_type\":\"BATTERY\",\"updated_on\":\"2017-04-09T15:57:12.000\",\"ward\":\"44\",\"x_coordinate\":\"1168962\",\"y_coordinate\":\"1920759\",\"year\":\"2017\"}\n",
      ",{\"arrest\":false,\"beat\":\"0614\",\"block\":\"081XX S MARSHFIELD AVE\",\"case_number\":\"JA215807\",\"community_area\":\"71\",\"date\":\"2017-04-02T03:00:00.000\",\"description\":\"TELEPHONE THREAT\",\"district\":\"006\",\"domestic\":false,\"fbi_code\":\"26\",\"id\":\"10904170\",\"iucr\":\"2820\",\"latitude\":\"41.746020025\",\"location\":{\"type\":\"Point\",\"coordinates\":[-87.66454,41.74602]},\"location_description\":\"RESIDENCE\",\"longitude\":\"-87.664540389\",\"primary_type\":\"OTHER OFFENSE\",\"updated_on\":\"2017-04-10T15:48:51.000\",\"ward\":\"21\",\"x_coordinate\":\"1166758\",\"y_coordinate\":\"1850750\",\"year\":\"2017\"}\n",
      ",{\"arrest\":false,\"beat\":\"1612\",\"block\":\"055XX N HARLEM AVE\",\"case_number\":\"JA211705\",\"community_area\":\"10\",\"date\":\"2017-04-02T03:00:00.000\",\"description\":\"NON-AGGRAVATED\",\"district\":\"016\",\"domestic\":false,\"fbi_code\":\"02\",\"id\":\"10899944\",\"iucr\":\"0281\",\"latitude\":\"41.982270338\",\"location\":{\"type\":\"Point\",\"coordinates\":[-87.806941,41.98227]},\"location_description\":\"CTA TRAIN\",\"longitude\":\"-87.806941262\",\"primary_type\":\"CRIM SEXUAL ASSAULT\",\"updated_on\":\"2017-04-09T15:57:12.000\",\"ward\":\"41\",\"x_coordinate\":\"1127370\",\"y_coordinate\":\"1936569\",\"year\":\"2017\"}\n",
      ",{\"arrest\":false,\"beat\":\"2515\",\"block\":\"025XX N MANGO AVE\",\"case_number\":\"JA211235\",\"community_area\":\"19\",\"date\":\"2017-04-02T03:00:00.000\",\"description\":\"OVER $500\",\"district\":\"025\",\"domestic\":false,\"fbi_code\":\"06\",\"id\":\"10899675\",\"iucr\":\"0810\",\"latitude\":\"41.926633073\",\"location\":{\"type\":\"Point\",\"coordinates\":[-87.769729,41.926633]},\"location_description\":\"STREET\",\"longitude\":\"-87.769728843\",\"primary_type\":\"THEFT\",\"updated_on\":\"2017-04-09T15:57:12.000\",\"ward\":\"30\",\"x_coordinate\":\"1137621\",\"y_coordinate\":\"1916359\",\"year\":\"2017\"}\n",
      ",{\"arrest\":false,\"beat\":\"0723\",\"block\":\"067XX S MORGAN ST\",\"case_number\":\"JA210595\",\"community_area\":\"68\",\"date\":\"2017-04-02T03:00:00.000\",\"description\":\"STRONGARM - NO WEAPON\",\"district\":\"007\",\"domestic\":false,\"fbi_code\":\"03\",\"id\":\"10899137\",\"iucr\":\"0320\",\"latitude\":\"41.771689117\",\"location\":{\"type\":\"Point\",\"coordinates\":[-87.649434,41.771689]},\"location_description\":\"STREET\",\"longitude\":\"-87.649434254\",\"primary_type\":\"ROBBERY\",\"updated_on\":\"2017-04-09T15:57:12.000\",\"ward\":\"17\",\"x_coordinate\":\"1170806\",\"y_coordinate\":\"1860136\",\"year\":\"2017\"}\n",
      ",{\"arrest\":false,\"beat\":\"0713\",\"block\":\"058XX S ELIZABETH ST\",\"case_number\":\"JA210099\",\"community_area\":\"67\",\"date\":\"2017-04-02T03:00:00.000\",\"description\":\"NON-AGGRAVATED\",\"district\":\"007\",\"domestic\":false,\"fbi_code\":\"02\",\"id\":\"10898486\",\"iucr\":\"0281\",\"latitude\":\"41.788487075\",\"location\":{\"type\":\"Point\",\"coordinates\":[-87.655944,41.788487]},\"location_description\":\"APARTMENT\",\"longitude\":\"-87.655944089\",\"primary_type\":\"CRIM SEXUAL ASSAULT\",\"updated_on\":\"2017-04-09T15:57:12.000\",\"ward\":\"16\",\"x_coordinate\":\"1168982\",\"y_coordinate\":\"1866243\",\"year\":\"2017\"}\n",
      ",{\"arrest\":false,\"beat\":\"1921\",\"block\":\"032XX N WESTERN AVE\",\"case_number\":\"JA209496\",\"community_area\":\"5\",\"date\":\"2017-04-02T03:00:00.000\",\"description\":\"AGGRAVATED: OTHER\",\"district\":\"019\",\"domestic\":false,\"fbi_code\":\"02\",\"id\":\"10898179\",\"iucr\":\"0265\",\"latitude\":\"41.940731199\",\"location\":{\"type\":\"Point\",\"coordinates\":[-87.688084,41.940731]},\"location_description\":\"BAR OR TAVERN\",\"longitude\":\"-87.688084193\",\"primary_type\":\"CRIM SEXUAL ASSAULT\",\"updated_on\":\"2017-04-09T15:57:12.000\",\"ward\":\"32\",\"x_coordinate\":\"1159800\",\"y_coordinate\":\"1921653\",\"year\":\"2017\"}\n",
      ",{\"arrest\":false,\"beat\":\"1533\",\"block\":\"050XX W CONGRESS PKWY\",\"case_number\":\"JA209690\",\"community_area\":\"25\",\"date\":\"2017-04-02T03:00:00.000\",\"description\":\"ARMED: HANDGUN\",\"district\":\"015\",\"domestic\":false,\"fbi_code\":\"03\",\"id\":\"10898149\",\"iucr\":\"031A\",\"latitude\":\"41.87400539\",\"location\":{\"type\":\"Point\",\"coordinates\":[-87.750217,41.874005]},\"location_description\":\"STREET\",\"longitude\":\"-87.750217125\",\"primary_type\":\"ROBBERY\",\"updated_on\":\"2017-04-09T15:57:12.000\",\"ward\":\"29\",\"x_coordinate\":\"1143061\",\"y_coordinate\":\"1897217\",\"year\":\"2017\"}\n",
      ",{\"arrest\":false,\"beat\":\"1634\",\"block\":\"048XX W ROSCOE ST\",\"case_number\":\"JA209599\",\"community_area\":\"15\",\"date\":\"2017-04-02T03:00:00.000\",\"description\":\"AUTOMOBILE\",\"district\":\"016\",\"domestic\":false,\"fbi_code\":\"07\",\"id\":\"10898104\",\"iucr\":\"0910\",\"latitude\":\"41.942458687\",\"location\":{\"type\":\"Point\",\"coordinates\":[-87.748267,41.942459]},\"location_description\":\"RESIDENTIAL YARD (FRONT/BACK)\",\"longitude\":\"-87.748266911\",\"primary_type\":\"MOTOR VEHICLE THEFT\",\"updated_on\":\"2017-04-09T15:57:12.000\",\"ward\":\"38\",\"x_coordinate\":\"1143422\",\"y_coordinate\":\"1922165\",\"year\":\"2017\"}\n",
      ",{\"arrest\":false,\"beat\":\"0732\",\"block\":\"070XX S PARNELL AVE\",\"case_number\":\"JA209477\",\"community_area\":\"68\",\"date\":\"2017-04-02T03:00:00.000\",\"description\":\"TO PROPERTY\",\"district\":\"007\",\"domestic\":false,\"fbi_code\":\"14\",\"id\":\"10897967\",\"iucr\":\"1310\",\"latitude\":\"41.766397664\",\"location\":{\"type\":\"Point\",\"coordinates\":[-87.638384,41.766398]},\"location_description\":\"APARTMENT\",\"longitude\":\"-87.638383696\",\"primary_type\":\"CRIMINAL DAMAGE\",\"updated_on\":\"2017-04-09T15:57:12.000\",\"ward\":\"6\",\"x_coordinate\":\"1173836\",\"y_coordinate\":\"1858232\",\"year\":\"2017\"}\n",
      ",{\"arrest\":false,\"beat\":\"1824\",\"block\":\"0000X W DIVISION ST\",\"case_number\":\"JA209443\",\"community_area\":\"8\",\"date\":\"2017-04-02T03:00:00.000\",\"description\":\"FROM BUILDING\",\"district\":\"018\",\"domestic\":false,\"fbi_code\":\"06\",\"id\":\"10897949\",\"iucr\":\"0890\",\"latitude\":\"41.903933222\",\"location\":{\"type\":\"Point\",\"coordinates\":[-87.629129,41.903933]},\"location_description\":\"BAR OR TAVERN\",\"longitude\":\"-87.629128536\",\"primary_type\":\"THEFT\",\"updated_on\":\"2017-04-09T15:57:12.000\",\"ward\":\"42\",\"x_coordinate\":\"1175950\",\"y_coordinate\":\"1908370\",\"year\":\"2017\"}\n",
      ",{\"arrest\":true,\"beat\":\"1634\",\"block\":\"052XX W MELROSE ST\",\"case_number\":\"JA209385\",\"community_area\":\"15\",\"date\":\"2017-04-02T03:00:00.000\",\"description\":\"DOMESTIC BATTERY SIMPLE\",\"district\":\"016\",\"domestic\":true,\"fbi_code\":\"08B\",\"id\":\"10897914\",\"iucr\":\"0486\",\"latitude\":\"41.939598297\",\"location\":{\"type\":\"Point\",\"coordinates\":[-87.75786,41.939598]},\"location_description\":\"APARTMENT\",\"longitude\":\"-87.757860409\",\"primary_type\":\"BATTERY\",\"updated_on\":\"2017-04-09T15:57:12.000\",\"ward\":\"30\",\"x_coordinate\":\"1140819\",\"y_coordinate\":\"1921105\",\"year\":\"2017\"}\n",
      ",{\"arrest\":false,\"beat\":\"1822\",\"block\":\"015XX N KINGSBURY ST\",\"case_number\":\"JA209364\",\"community_area\":\"8\",\"date\":\"2017-04-02T03:02:00.000\",\"description\":\"SIMPLE\",\"district\":\"018\",\"domestic\":false,\"fbi_code\":\"08B\",\"id\":\"10897879\",\"iucr\":\"0460\",\"latitude\":\"41.909152038\",\"location\":{\"type\":\"Point\",\"coordinates\":[-87.652675,41.909152]},\"location_description\":\"BAR OR TAVERN\",\"longitude\":\"-87.652675042\",\"primary_type\":\"BATTERY\",\"updated_on\":\"2017-04-09T15:57:12.000\",\"ward\":\"32\",\"x_coordinate\":\"1169525\",\"y_coordinate\":\"1910220\",\"year\":\"2017\"}\n",
      ",{\"arrest\":true,\"beat\":\"1924\",\"block\":\"033XX N CLARK ST\",\"case_number\":\"JA209362\",\"community_area\":\"6\",\"date\":\"2017-04-02T03:05:00.000\",\"description\":\"SIMPLE\",\"district\":\"019\",\"domestic\":false,\"fbi_code\":\"08B\",\"id\":\"10897916\",\"iucr\":\"0460\",\"latitude\":\"41.941948705\",\"location\":{\"type\":\"Point\",\"coordinates\":[-87.65229,41.941949]},\"location_description\":\"STREET\",\"longitude\":\"-87.652289585\",\"primary_type\":\"BATTERY\",\"updated_on\":\"2017-04-09T15:57:12.000\",\"ward\":\"44\",\"x_coordinate\":\"1169535\",\"y_coordinate\":\"1922172\",\"year\":\"2017\"}\n",
      ",{\"arrest\":true,\"beat\":\"2432\",\"block\":\"066XX N BOSWORTH AVE\",\"case_number\":\"JA209367\",\"community_area\":\"1\",\"date\":\"2017-04-02T03:09:00.000\",\"description\":\"DOMESTIC BATTERY SIMPLE\",\"district\":\"024\",\"domestic\":false,\"fbi_code\":\"08B\",\"id\":\"10897911\",\"iucr\":\"0486\",\"latitude\":\"42.002645824\",\"location\":{\"type\":\"Point\",\"coordinates\":[-87.669302,42.002646]},\"location_description\":\"APARTMENT\",\"longitude\":\"-87.669302487\",\"primary_type\":\"BATTERY\",\"updated_on\":\"2017-04-09T15:57:12.000\",\"ward\":\"40\",\"x_coordinate\":\"1164735\",\"y_coordinate\":\"1944254\",\"year\":\"2017\"}\n",
      ",{\"arrest\":false,\"beat\":\"2515\",\"block\":\"024XX N MARMORA AVE\",\"case_number\":\"JA209371\",\"community_area\":\"19\",\"date\":\"2017-04-02T03:09:00.000\",\"description\":\"BY FIRE\",\"district\":\"025\",\"domestic\":false,\"fbi_code\":\"09\",\"id\":\"10897890\",\"iucr\":\"1020\",\"latitude\":\"41.924510088\",\"location\":{\"type\":\"Point\",\"coordinates\":[-87.773308,41.92451]},\"location_description\":\"DRIVEWAY - RESIDENTIAL\",\"longitude\":\"-87.773308258\",\"primary_type\":\"ARSON\",\"updated_on\":\"2017-04-09T15:57:12.000\",\"ward\":\"30\",\"x_coordinate\":\"1136652\",\"y_coordinate\":\"1915579\",\"year\":\"2017\"}\n",
      ",{\"arrest\":true,\"beat\":\"0923\",\"block\":\"051XX S TROY ST\",\"case_number\":\"JA209391\",\"community_area\":\"63\",\"date\":\"2017-04-02T03:14:00.000\",\"description\":\"AGGRAVATED DOMESTIC BATTERY: HANDS/FIST/FEET SERIOUS INJURY\",\"district\":\"009\",\"domestic\":true,\"fbi_code\":\"04B\",\"id\":\"10897950\",\"iucr\":\"0498\",\"latitude\":\"41.800047762\",\"location\":{\"type\":\"Point\",\"coordinates\":[-87.702521,41.800048]},\"location_description\":\"RESIDENCE\",\"longitude\":\"-87.702520843\",\"primary_type\":\"BATTERY\",\"updated_on\":\"2017-04-21T15:48:43.000\",\"ward\":\"14\",\"x_coordinate\":\"1156249\",\"y_coordinate\":\"1870359\",\"year\":\"2017\"}\n",
      ",{\"arrest\":false,\"beat\":\"1012\",\"block\":\"015XX S KOLIN AVE\",\"case_number\":\"JA210638\",\"community_area\":\"29\",\"date\":\"2017-04-02T03:15:00.000\",\"description\":\"TO VEHICLE\",\"district\":\"010\",\"domestic\":false,\"fbi_code\":\"14\",\"id\":\"10898993\",\"iucr\":\"1320\",\"latitude\":\"41.860061079\",\"location\":{\"type\":\"Point\",\"coordinates\":[-87.733553,41.860061]},\"location_description\":\"STREET\",\"longitude\":\"-87.733552905\",\"primary_type\":\"CRIMINAL DAMAGE\",\"updated_on\":\"2017-04-09T15:57:12.000\",\"ward\":\"24\",\"x_coordinate\":\"1147635\",\"y_coordinate\":\"1892167\",\"year\":\"2017\"}\n",
      ",{\"arrest\":false,\"beat\":\"0612\",\"block\":\"076XX S MAY ST\",\"case_number\":\"JA209372\",\"community_area\":\"71\",\"date\":\"2017-04-02T03:15:00.000\",\"description\":\"TO PROPERTY\",\"district\":\"006\",\"domestic\":true,\"fbi_code\":\"14\",\"id\":\"10897964\",\"iucr\":\"1310\",\"latitude\":\"41.755094217\",\"location\":{\"type\":\"Point\",\"coordinates\":[-87.652649,41.755094]},\"location_description\":\"APARTMENT\",\"longitude\":\"-87.652648704\",\"primary_type\":\"CRIMINAL DAMAGE\",\"updated_on\":\"2017-04-09T15:57:12.000\",\"ward\":\"17\",\"x_coordinate\":\"1169977\",\"y_coordinate\":\"1854082\",\"year\":\"2017\"}\n",
      ",{\"arrest\":false,\"beat\":\"1831\",\"block\":\"0000X W ILLINOIS ST\",\"case_number\":\"JA209390\",\"community_area\":\"8\",\"date\":\"2017-04-02T03:15:00.000\",\"description\":\"AGGRAVATED:KNIFE/CUTTING INSTR\",\"district\":\"018\",\"domestic\":false,\"fbi_code\":\"04B\",\"id\":\"10897933\",\"iucr\":\"0420\",\"latitude\":\"41.890824988\",\"location\":{\"type\":\"Point\",\"coordinates\":[-87.630183,41.890825]},\"location_description\":\"TAVERN/LIQUOR STORE\",\"longitude\":\"-87.630183362\",\"primary_type\":\"BATTERY\",\"updated_on\":\"2017-04-09T15:57:12.000\",\"ward\":\"42\",\"x_coordinate\":\"1175702\",\"y_coordinate\":\"1903591\",\"year\":\"2017\"}\n",
      ",{\"arrest\":false,\"beat\":\"1822\",\"block\":\"015XX N KINGSBURY ST\",\"case_number\":\"JA209375\",\"community_area\":\"8\",\"date\":\"2017-04-02T03:15:00.000\",\"description\":\"POCKET-PICKING\",\"district\":\"018\",\"domestic\":false,\"fbi_code\":\"06\",\"id\":\"10897878\",\"iucr\":\"0870\",\"latitude\":\"41.909152038\",\"location\":{\"type\":\"Point\",\"coordinates\":[-87.652675,41.909152]},\"location_description\":\"BAR OR TAVERN\",\"longitude\":\"-87.652675042\",\"primary_type\":\"THEFT\",\"updated_on\":\"2017-04-09T15:57:12.000\",\"ward\":\"32\",\"x_coordinate\":\"1169525\",\"y_coordinate\":\"1910220\",\"year\":\"2017\"}\n",
      ",{\"arrest\":true,\"beat\":\"2521\",\"block\":\"045XX W ALTGELD ST\",\"case_number\":\"JA209376\",\"community_area\":\"20\",\"date\":\"2017-04-02T03:20:00.000\",\"description\":\"DOMESTIC BATTERY SIMPLE\",\"district\":\"025\",\"domestic\":true,\"fbi_code\":\"08B\",\"id\":\"10897881\",\"iucr\":\"0486\",\"latitude\":\"41.92631306\",\"location\":{\"type\":\"Point\",\"coordinates\":[-87.739981,41.926313]},\"location_description\":\"RESIDENCE\",\"longitude\":\"-87.739980913\",\"primary_type\":\"BATTERY\",\"updated_on\":\"2017-04-09T15:57:12.000\",\"ward\":\"31\",\"x_coordinate\":\"1145717\",\"y_coordinate\":\"1916297\",\"year\":\"2017\"}\n",
      ",{\"arrest\":false,\"beat\":\"1034\",\"block\":\"018XX W 22ND PL\",\"case_number\":\"JA210186\",\"community_area\":\"31\",\"date\":\"2017-04-02T03:30:00.000\",\"description\":\"AGGRAVATED: HANDGUN\",\"district\":\"010\",\"domestic\":false,\"fbi_code\":\"04A\",\"id\":\"10903058\",\"iucr\":\"051A\",\"latitude\":\"41.851447572\",\"location\":{\"type\":\"Point\",\"coordinates\":[-87.672671,41.851448]},\"location_description\":\"STREET\",\"longitude\":\"-87.672670809\",\"primary_type\":\"ASSAULT\",\"updated_on\":\"2017-04-10T15:48:51.000\",\"ward\":\"25\",\"x_coordinate\":\"1164244\",\"y_coordinate\":\"1889150\",\"year\":\"2017\"}\n",
      ",{\"arrest\":false,\"beat\":\"0612\",\"block\":\"015XX W 79TH ST\",\"case_number\":\"JA211305\",\"community_area\":\"71\",\"date\":\"2017-04-02T03:30:00.000\",\"description\":\"SIMPLE\",\"district\":\"006\",\"domestic\":false,\"fbi_code\":\"08B\",\"id\":\"10899567\",\"iucr\":\"0460\",\"latitude\":\"41.750368966\",\"location\":{\"type\":\"Point\",\"coordinates\":[-87.662993,41.750369]},\"location_description\":\"BAR OR TAVERN\",\"longitude\":\"-87.662992728\",\"primary_type\":\"BATTERY\",\"updated_on\":\"2017-04-09T15:57:12.000\",\"ward\":\"21\",\"x_coordinate\":\"1167168\",\"y_coordinate\":\"1852338\",\"year\":\"2017\"}\n",
      ",{\"arrest\":false,\"beat\":\"1831\",\"block\":\"003XX N ORLEANS ST\",\"case_number\":\"JA211066\",\"community_area\":\"8\",\"date\":\"2017-04-02T03:30:00.000\",\"description\":\"FROM BUILDING\",\"district\":\"018\",\"domestic\":false,\"fbi_code\":\"06\",\"id\":\"10899444\",\"iucr\":\"0890\",\"latitude\":\"41.888083249\",\"location\":{\"type\":\"Point\",\"coordinates\":[-87.636446,41.888083]},\"location_description\":\"HOTEL/MOTEL\",\"longitude\":\"-87.636445738\",\"primary_type\":\"THEFT\",\"updated_on\":\"2017-04-09T15:57:12.000\",\"ward\":\"42\",\"x_coordinate\":\"1174005\",\"y_coordinate\":\"1902578\",\"year\":\"2017\"}\n",
      ",{\"arrest\":false,\"beat\":\"0834\",\"block\":\"084XX S KOMENSKY AVE\",\"case_number\":\"JA209742\",\"community_area\":\"70\",\"date\":\"2017-04-02T03:30:00.000\",\"description\":\"TO PROPERTY\",\"district\":\"008\",\"domestic\":false,\"fbi_code\":\"14\",\"id\":\"10898190\",\"iucr\":\"1310\",\"latitude\":\"41.739513813\",\"location\":{\"type\":\"Point\",\"coordinates\":[-87.722808,41.739514]},\"location_description\":\"RESIDENCE-GARAGE\",\"longitude\":\"-87.722808014\",\"primary_type\":\"CRIMINAL DAMAGE\",\"updated_on\":\"2017-04-09T15:57:12.000\",\"ward\":\"18\",\"x_coordinate\":\"1150874\",\"y_coordinate\":\"1848261\",\"year\":\"2017\"}\n",
      ",{\"arrest\":true,\"beat\":\"1024\",\"block\":\"021XX S DRAKE AVE\",\"case_number\":\"JA209582\",\"community_area\":\"29\",\"date\":\"2017-04-02T03:30:00.000\",\"description\":\"AGGRAVATED DOMESTIC BATTERY: OTHER DANG WEAPON\",\"district\":\"010\",\"domestic\":true,\"fbi_code\":\"04B\",\"id\":\"10898174\",\"iucr\":\"0497\",\"latitude\":\"41.852600788\",\"location\":{\"type\":\"Point\",\"coordinates\":[-87.713648,41.852601]},\"location_description\":\"APARTMENT\",\"longitude\":\"-87.713647629\",\"primary_type\":\"BATTERY\",\"updated_on\":\"2017-04-09T15:57:12.000\",\"ward\":\"24\",\"x_coordinate\":\"1153077\",\"y_coordinate\":\"1889487\",\"year\":\"2017\"}\n",
      ",{\"arrest\":true,\"beat\":\"0914\",\"block\":\"002XX W CERMAK RD\",\"case_number\":\"JA209377\",\"community_area\":\"34\",\"date\":\"2017-04-02T03:30:00.000\",\"description\":\"TO RESIDENCE\",\"district\":\"009\",\"domestic\":false,\"fbi_code\":\"26\",\"id\":\"10897903\",\"iucr\":\"1365\",\"latitude\":\"41.852829615\",\"location\":{\"type\":\"Point\",\"coordinates\":[-87.633569,41.85283]},\"location_description\":\"HOTEL/MOTEL\",\"longitude\":\"-87.633569125\",\"primary_type\":\"CRIMINAL TRESPASS\",\"updated_on\":\"2017-04-09T15:57:12.000\",\"ward\":\"25\",\"x_coordinate\":\"1174893\",\"y_coordinate\":\"1889738\",\"year\":\"2017\"}\n",
      ",{\"arrest\":false,\"beat\":\"1024\",\"block\":\"019XX S CHRISTIANA AVE\",\"case_number\":\"JA209393\",\"community_area\":\"29\",\"date\":\"2017-04-02T03:35:00.000\",\"description\":\"TO PROPERTY\",\"district\":\"010\",\"domestic\":true,\"fbi_code\":\"14\",\"id\":\"10897894\",\"iucr\":\"1310\",\"latitude\":\"41.854705136\",\"location\":{\"type\":\"Point\",\"coordinates\":[-87.708995,41.854705]},\"location_description\":\"APARTMENT\",\"longitude\":\"-87.708994967\",\"primary_type\":\"CRIMINAL DAMAGE\",\"updated_on\":\"2017-04-09T15:57:12.000\",\"ward\":\"24\",\"x_coordinate\":\"1154339\",\"y_coordinate\":\"1890263\",\"year\":\"2017\"}\n",
      ",{\"arrest\":false,\"beat\":\"1824\",\"block\":\"0000X W DIVISION ST\",\"case_number\":\"JA209379\",\"community_area\":\"8\",\"date\":\"2017-04-02T03:40:00.000\",\"description\":\"SIMPLE\",\"district\":\"018\",\"domestic\":false,\"fbi_code\":\"08B\",\"id\":\"10897932\",\"iucr\":\"0460\",\"latitude\":\"41.903933538\",\"location\":{\"type\":\"Point\",\"coordinates\":[-87.62918,41.903934]},\"location_description\":\"RESTAURANT\",\"longitude\":\"-87.62917996\",\"primary_type\":\"BATTERY\",\"updated_on\":\"2017-04-09T15:57:12.000\",\"ward\":\"42\",\"x_coordinate\":\"1175936\",\"y_coordinate\":\"1908370\",\"year\":\"2017\"}\n",
      ",{\"arrest\":false,\"beat\":\"1133\",\"block\":\"038XX W POLK ST\",\"case_number\":\"JA209395\",\"community_area\":\"26\",\"date\":\"2017-04-02T03:44:00.000\",\"description\":\"DOMESTIC BATTERY SIMPLE\",\"district\":\"011\",\"domestic\":false,\"fbi_code\":\"08B\",\"id\":\"10897925\",\"iucr\":\"0486\",\"latitude\":\"41.870768344\",\"location\":{\"type\":\"Point\",\"coordinates\":[-87.721432,41.870768]},\"location_description\":\"APARTMENT\",\"longitude\":\"-87.72143213\",\"primary_type\":\"BATTERY\",\"updated_on\":\"2017-04-09T15:57:12.000\",\"ward\":\"24\",\"x_coordinate\":\"1150909\",\"y_coordinate\":\"1896092\",\"year\":\"2017\"}\n",
      ",{\"arrest\":true,\"beat\":\"0123\",\"block\":\"008XX S STATE ST\",\"case_number\":\"JA209392\",\"community_area\":\"32\",\"date\":\"2017-04-02T03:45:00.000\",\"description\":\"AGGRAVATED\",\"district\":\"001\",\"domestic\":false,\"fbi_code\":\"03\",\"id\":\"10897940\",\"iucr\":\"0330\",\"latitude\":\"41.871489164\",\"location\":{\"type\":\"Point\",\"coordinates\":[-87.627517,41.871489]},\"location_description\":\"CONVENIENCE STORE\",\"longitude\":\"-87.627516791\",\"primary_type\":\"ROBBERY\",\"updated_on\":\"2017-04-21T15:48:43.000\",\"ward\":\"2\",\"x_coordinate\":\"1176486\",\"y_coordinate\":\"1896551\",\"year\":\"2017\"}\n",
      ",{\"arrest\":false,\"beat\":\"2511\",\"block\":\"030XX N OSCEOLA AVE\",\"case_number\":\"JA209872\",\"community_area\":\"17\",\"date\":\"2017-04-02T03:45:00.000\",\"description\":\"OVER $500\",\"district\":\"025\",\"domestic\":false,\"fbi_code\":\"06\",\"id\":\"10898264\",\"iucr\":\"0810\",\"latitude\":\"41.935126516\",\"location\":{\"type\":\"Point\",\"coordinates\":[-87.812754,41.935127]},\"location_description\":\"STREET\",\"longitude\":\"-87.812753783\",\"primary_type\":\"THEFT\",\"updated_on\":\"2017-04-09T15:57:12.000\",\"ward\":\"36\",\"x_coordinate\":\"1125894\",\"y_coordinate\":\"1919380\",\"year\":\"2017\"}\n",
      ",{\"arrest\":false,\"beat\":\"1235\",\"block\":\"022XX S HALSTED ST\",\"case_number\":\"JA209386\",\"community_area\":\"31\",\"date\":\"2017-04-02T03:45:00.000\",\"description\":\"TO RESIDENCE\",\"district\":\"012\",\"domestic\":false,\"fbi_code\":\"26\",\"id\":\"10897906\",\"iucr\":\"1365\",\"latitude\":\"41.852336791\",\"location\":{\"type\":\"Point\",\"coordinates\":[-87.646487,41.852337]},\"location_description\":\"APARTMENT\",\"longitude\":\"-87.646487314\",\"primary_type\":\"CRIMINAL TRESPASS\",\"updated_on\":\"2017-04-09T15:57:12.000\",\"ward\":\"25\",\"x_coordinate\":\"1171375\",\"y_coordinate\":\"1889530\",\"year\":\"2017\"}\n",
      ",{\"arrest\":false,\"beat\":\"1833\",\"block\":\"0000X E CHICAGO AVE\",\"case_number\":\"JA209388\",\"community_area\":\"8\",\"date\":\"2017-04-02T03:55:00.000\",\"description\":\"STRONGARM - NO WEAPON\",\"district\":\"018\",\"domestic\":false,\"fbi_code\":\"03\",\"id\":\"10898000\",\"iucr\":\"0320\",\"latitude\":\"41.896685066\",\"location\":{\"type\":\"Point\",\"coordinates\":[-87.627684,41.896685]},\"location_description\":\"SIDEWALK\",\"longitude\":\"-87.627683859\",\"primary_type\":\"ROBBERY\",\"updated_on\":\"2017-04-09T15:57:12.000\",\"ward\":\"42\",\"x_coordinate\":\"1176365\",\"y_coordinate\":\"1905732\",\"year\":\"2017\"}\n",
      ",{\"arrest\":false,\"beat\":\"0925\",\"block\":\"001XX W 43RD ST\",\"case_number\":\"JA209402\",\"community_area\":\"37\",\"date\":\"2017-04-02T03:57:00.000\",\"description\":\"AGGRAVATED\",\"district\":\"009\",\"domestic\":false,\"fbi_code\":\"03\",\"id\":\"10897960\",\"iucr\":\"0330\",\"latitude\":\"41.816431955\",\"location\":{\"type\":\"Point\",\"coordinates\":[-87.630345,41.816432]},\"location_description\":\"STREET\",\"longitude\":\"-87.630344732\",\"primary_type\":\"ROBBERY\",\"updated_on\":\"2017-04-09T15:57:12.000\",\"ward\":\"3\",\"x_coordinate\":\"1175880\",\"y_coordinate\":\"1876482\",\"year\":\"2017\"}\n",
      ",{\"arrest\":false,\"beat\":\"0614\",\"block\":\"081XX S ASHLAND AVE\",\"case_number\":\"JA211806\",\"community_area\":\"71\",\"date\":\"2017-04-02T04:00:00.000\",\"description\":\"SIMPLE\",\"district\":\"006\",\"domestic\":true,\"fbi_code\":\"08B\",\"id\":\"10900417\",\"iucr\":\"0460\",\"latitude\":\"41.746259974\",\"location\":{\"type\":\"Point\",\"coordinates\":[-87.663332,41.74626]},\"location_description\":\"GAS STATION\",\"longitude\":\"-87.663332294\",\"primary_type\":\"BATTERY\",\"updated_on\":\"2017-04-09T15:57:12.000\",\"ward\":\"21\",\"x_coordinate\":\"1167087\",\"y_coordinate\":\"1850840\",\"year\":\"2017\"}\n",
      ",{\"arrest\":false,\"beat\":\"1234\",\"block\":\"016XX W 16TH ST\",\"case_number\":\"JA210345\",\"community_area\":\"28\",\"date\":\"2017-04-02T04:00:00.000\",\"description\":\"$500 AND UNDER\",\"district\":\"012\",\"domestic\":false,\"fbi_code\":\"06\",\"id\":\"10898656\",\"iucr\":\"0820\",\"latitude\":\"41.859590806\",\"location\":{\"type\":\"Point\",\"coordinates\":[-87.66762,41.859591]},\"location_description\":\"STREET\",\"longitude\":\"-87.667620245\",\"primary_type\":\"THEFT\",\"updated_on\":\"2017-04-09T15:57:12.000\",\"ward\":\"2\",\"x_coordinate\":\"1165597\",\"y_coordinate\":\"1892128\",\"year\":\"2017\"}\n",
      ",{\"arrest\":false,\"beat\":\"2411\",\"block\":\"028XX W ESTES AVE\",\"case_number\":\"JA209405\",\"community_area\":\"2\",\"date\":\"2017-04-02T04:00:00.000\",\"description\":\"DOMESTIC BATTERY SIMPLE\",\"district\":\"024\",\"domestic\":true,\"fbi_code\":\"08B\",\"id\":\"10897969\",\"iucr\":\"0486\",\"latitude\":\"42.010243574\",\"location\":{\"type\":\"Point\",\"coordinates\":[-87.700724,42.010244]},\"location_description\":\"SIDEWALK\",\"longitude\":\"-87.700724257\",\"primary_type\":\"BATTERY\",\"updated_on\":\"2017-04-09T15:57:12.000\",\"ward\":\"50\",\"x_coordinate\":\"1156174\",\"y_coordinate\":\"1946958\",\"year\":\"2017\"}\n",
      ",{\"arrest\":false,\"beat\":\"1124\",\"block\":\"033XX W MADISON ST\",\"case_number\":\"JA209401\",\"community_area\":\"27\",\"date\":\"2017-04-02T04:00:00.000\",\"description\":\"TO PROPERTY\",\"district\":\"011\",\"domestic\":false,\"fbi_code\":\"14\",\"id\":\"10897917\",\"iucr\":\"1310\",\"latitude\":\"41.880932326\",\"location\":{\"type\":\"Point\",\"coordinates\":[-87.709566,41.880932]},\"location_description\":\"APARTMENT\",\"longitude\":\"-87.709565954\",\"primary_type\":\"CRIMINAL DAMAGE\",\"updated_on\":\"2017-04-09T15:57:12.000\",\"ward\":\"28\",\"x_coordinate\":\"1154114\",\"y_coordinate\":\"1899819\",\"year\":\"2017\"}\n",
      ",{\"arrest\":false,\"beat\":\"1235\",\"block\":\"022XX S HALSTED ST\",\"case_number\":\"JA209417\",\"community_area\":\"31\",\"date\":\"2017-04-02T04:10:00.000\",\"description\":\"SIMPLE\",\"district\":\"012\",\"domestic\":false,\"fbi_code\":\"08B\",\"id\":\"10897958\",\"iucr\":\"0460\",\"latitude\":\"41.852336791\",\"location\":{\"type\":\"Point\",\"coordinates\":[-87.646487,41.852337]},\"location_description\":\"SIDEWALK\",\"longitude\":\"-87.646487314\",\"primary_type\":\"BATTERY\",\"updated_on\":\"2017-04-09T15:57:12.000\",\"ward\":\"25\",\"x_coordinate\":\"1171375\",\"y_coordinate\":\"1889530\",\"year\":\"2017\"}\n",
      ",{\"arrest\":false,\"beat\":\"0414\",\"block\":\"018XX E 78TH ST\",\"case_number\":\"JA209458\",\"community_area\":\"43\",\"date\":\"2017-04-02T04:15:00.000\",\"description\":\"AUTOMOBILE\",\"district\":\"004\",\"domestic\":false,\"fbi_code\":\"07\",\"id\":\"10898033\",\"iucr\":\"0910\",\"latitude\":\"41.753367845\",\"location\":{\"type\":\"Point\",\"coordinates\":[-87.580473,41.753368]},\"location_description\":\"STREET\",\"longitude\":\"-87.580473011\",\"primary_type\":\"MOTOR VEHICLE THEFT\",\"updated_on\":\"2017-04-09T15:57:12.000\",\"ward\":\"8\",\"x_coordinate\":\"1189676\",\"y_coordinate\":\"1853617\",\"year\":\"2017\"}\n",
      ",{\"arrest\":false,\"beat\":\"1732\",\"block\":\"035XX W IRVING PARK RD\",\"case_number\":\"JA209410\",\"community_area\":\"16\",\"date\":\"2017-04-02T04:15:00.000\",\"description\":\"STRONGARM - NO WEAPON\",\"district\":\"017\",\"domestic\":false,\"fbi_code\":\"03\",\"id\":\"10897972\",\"iucr\":\"0320\",\"latitude\":\"41.953812687\",\"location\":{\"type\":\"Point\",\"coordinates\":[-87.715999,41.953813]},\"location_description\":\"ALLEY\",\"longitude\":\"-87.715998923\",\"primary_type\":\"ROBBERY\",\"updated_on\":\"2017-04-09T15:57:12.000\",\"ward\":\"35\",\"x_coordinate\":\"1152171\",\"y_coordinate\":\"1926364\",\"year\":\"2017\"}\n",
      ",{\"arrest\":true,\"beat\":\"1814\",\"block\":\"003XX W ARMITAGE AVE\",\"case_number\":\"JA209406\",\"community_area\":\"7\",\"date\":\"2017-04-02T04:16:00.000\",\"description\":\"TO PROPERTY\",\"district\":\"018\",\"domestic\":false,\"fbi_code\":\"14\",\"id\":\"10897930\",\"iucr\":\"1310\",\"latitude\":\"41.918334501\",\"location\":{\"type\":\"Point\",\"coordinates\":[-87.638064,41.918335]},\"location_description\":\"BAR OR TAVERN\",\"longitude\":\"-87.638064065\",\"primary_type\":\"CRIMINAL DAMAGE\",\"updated_on\":\"2017-04-09T15:57:12.000\",\"ward\":\"43\",\"x_coordinate\":\"1173475\",\"y_coordinate\":\"1913598\",\"year\":\"2017\"}\n",
      ",{\"arrest\":false,\"beat\":\"0632\",\"block\":\"086XX S STATE ST\",\"case_number\":\"JA209423\",\"community_area\":\"44\",\"date\":\"2017-04-02T04:20:00.000\",\"description\":\"OVER $500\",\"district\":\"006\",\"domestic\":false,\"fbi_code\":\"06\",\"id\":\"10897934\",\"iucr\":\"0810\",\"latitude\":\"41.736886394\",\"location\":{\"type\":\"Point\",\"coordinates\":[-87.624171,41.736886]},\"location_description\":\"GAS STATION\",\"longitude\":\"-87.624170849\",\"primary_type\":\"THEFT\",\"updated_on\":\"2017-04-09T15:57:12.000\",\"ward\":\"6\",\"x_coordinate\":\"1177802\",\"y_coordinate\":\"1847510\",\"year\":\"2017\"}\n",
      ",{\"arrest\":false,\"beat\":\"1012\",\"block\":\"018XX S PULASKI RD\",\"case_number\":\"JA209409\",\"community_area\":\"29\",\"date\":\"2017-04-02T04:23:00.000\",\"description\":\"AGGRAVATED: HANDGUN\",\"district\":\"010\",\"domestic\":false,\"fbi_code\":\"04A\",\"id\":\"10897937\",\"iucr\":\"051A\",\"latitude\":\"41.856113138\",\"location\":{\"type\":\"Point\",\"coordinates\":[-87.724883,41.856113]},\"location_description\":\"STREET\",\"longitude\":\"-87.72488284\",\"primary_type\":\"ASSAULT\",\"updated_on\":\"2017-04-09T15:57:12.000\",\"ward\":\"24\",\"x_coordinate\":\"1150007\",\"y_coordinate\":\"1890745\",\"year\":\"2017\"}\n",
      ",{\"arrest\":false,\"beat\":\"1733\",\"block\":\"039XX N RICHMOND ST\",\"case_number\":\"JA209403\",\"community_area\":\"16\",\"date\":\"2017-04-02T04:24:00.000\",\"description\":\"TO PROPERTY\",\"district\":\"017\",\"domestic\":false,\"fbi_code\":\"14\",\"id\":\"10897973\",\"iucr\":\"1310\",\"latitude\":\"41.953036118\",\"location\":{\"type\":\"Point\",\"coordinates\":[-87.701878,41.953036]},\"location_description\":\"RESIDENTIAL YARD (FRONT/BACK)\",\"longitude\":\"-87.701878482\",\"primary_type\":\"CRIMINAL DAMAGE\",\"updated_on\":\"2017-04-09T15:57:12.000\",\"ward\":\"33\",\"x_coordinate\":\"1156014\",\"y_coordinate\":\"1926109\",\"year\":\"2017\"}\n",
      ",{\"arrest\":false,\"beat\":\"1831\",\"block\":\"006XX N FRANKLIN ST\",\"case_number\":\"JA221810\",\"community_area\":\"8\",\"date\":\"2017-04-02T04:30:00.000\",\"description\":\"$500 AND UNDER\",\"district\":\"018\",\"domestic\":false,\"fbi_code\":\"06\",\"id\":\"10909132\",\"iucr\":\"0820\",\"latitude\":\"41.893429499\",\"location\":{\"type\":\"Point\",\"coordinates\":[-87.63562,41.893429]},\"location_description\":\"SIDEWALK\",\"longitude\":\"-87.635619998\",\"primary_type\":\"THEFT\",\"updated_on\":\"2017-04-17T16:05:36.000\",\"ward\":\"42\",\"x_coordinate\":\"1174214\",\"y_coordinate\":\"1904528\",\"year\":\"2017\"}\n",
      ",{\"arrest\":false,\"beat\":\"0914\",\"block\":\"019XX S TOM PKWY\",\"case_number\":\"JA213486\",\"community_area\":\"34\",\"date\":\"2017-04-02T04:30:00.000\",\"description\":\"TO RESIDENCE\",\"district\":\"009\",\"domestic\":true,\"fbi_code\":\"26\",\"id\":\"10901958\",\"iucr\":\"1365\",\"latitude\":\"41.855816513\",\"location\":{\"type\":\"Point\",\"coordinates\":[-87.634208,41.855817]},\"location_description\":\"APARTMENT\",\"longitude\":\"-87.634208303\",\"primary_type\":\"CRIMINAL TRESPASS\",\"updated_on\":\"2017-04-10T15:48:51.000\",\"ward\":\"25\",\"x_coordinate\":\"1174710\",\"y_coordinate\":\"1890825\",\"year\":\"2017\"}\n",
      ",{\"arrest\":false,\"beat\":\"1834\",\"block\":\"006XX N RUSH ST\",\"case_number\":\"JA209453\",\"community_area\":\"8\",\"date\":\"2017-04-02T04:30:00.000\",\"description\":\"FROM BUILDING\",\"district\":\"018\",\"domestic\":false,\"fbi_code\":\"06\",\"id\":\"10897952\",\"iucr\":\"0890\",\"latitude\":\"41.893578417\",\"location\":{\"type\":\"Point\",\"coordinates\":[-87.625426,41.893578]},\"location_description\":\"HOTEL/MOTEL\",\"longitude\":\"-87.625426193\",\"primary_type\":\"THEFT\",\"updated_on\":\"2017-04-09T15:57:12.000\",\"ward\":\"42\",\"x_coordinate\":\"1176989\",\"y_coordinate\":\"1904605\",\"year\":\"2017\"}\n",
      ",{\"arrest\":false,\"beat\":\"1131\",\"block\":\"006XX S KOSTNER AVE\",\"case_number\":\"JA209413\",\"community_area\":\"26\",\"date\":\"2017-04-02T04:32:00.000\",\"description\":\"DOMESTIC BATTERY SIMPLE\",\"district\":\"011\",\"domestic\":false,\"fbi_code\":\"08B\",\"id\":\"10897921\",\"iucr\":\"0486\",\"latitude\":\"41.87342332\",\"location\":{\"type\":\"Point\",\"coordinates\":[-87.73522,41.873423]},\"location_description\":\"RESIDENCE\",\"longitude\":\"-87.735219792\",\"primary_type\":\"BATTERY\",\"updated_on\":\"2017-04-09T15:57:12.000\",\"ward\":\"24\",\"x_coordinate\":\"1147147\",\"y_coordinate\":\"1897033\",\"year\":\"2017\"}\n",
      ",{\"arrest\":false,\"beat\":\"0111\",\"block\":\"0000X E WACKER PL\",\"case_number\":\"JA209735\",\"community_area\":\"32\",\"date\":\"2017-04-02T04:45:00.000\",\"description\":\"DOMESTIC BATTERY SIMPLE\",\"district\":\"001\",\"domestic\":true,\"fbi_code\":\"08B\",\"id\":\"10898245\",\"iucr\":\"0486\",\"latitude\":\"41.886814897\",\"location\":{\"type\":\"Point\",\"coordinates\":[-87.625593,41.886815]},\"location_description\":\"HOTEL/MOTEL\",\"longitude\":\"-87.625592678\",\"primary_type\":\"BATTERY\",\"updated_on\":\"2017-04-09T15:57:12.000\",\"ward\":\"42\",\"x_coordinate\":\"1176964\",\"y_coordinate\":\"1902140\",\"year\":\"2017\"}\n",
      ",{\"arrest\":false,\"beat\":\"2525\",\"block\":\"037XX W ARMITAGE AVE\",\"case_number\":\"JA209428\",\"community_area\":\"22\",\"date\":\"2017-04-02T04:59:00.000\",\"description\":\"RECKLESS FIREARM DISCHARGE\",\"district\":\"025\",\"domestic\":false,\"fbi_code\":\"15\",\"id\":\"10897929\",\"iucr\":\"1477\",\"latitude\":\"41.917248372\",\"location\":{\"type\":\"Point\",\"coordinates\":[-87.719526,41.917248]},\"location_description\":\"STREET\",\"longitude\":\"-87.719525974\",\"primary_type\":\"WEAPONS VIOLATION\",\"updated_on\":\"2017-04-09T15:57:12.000\",\"ward\":\"26\",\"x_coordinate\":\"1151307\",\"y_coordinate\":\"1913033\",\"year\":\"2017\"}\n",
      ",{\"arrest\":false,\"beat\":\"1112\",\"block\":\"008XX N AVERS AVE\",\"case_number\":\"JA210330\",\"community_area\":\"23\",\"date\":\"2017-04-02T05:00:00.000\",\"description\":\"NON-AGGRAVATED\",\"district\":\"011\",\"domestic\":false,\"fbi_code\":\"02\",\"id\":\"10898678\",\"iucr\":\"0281\",\"latitude\":\"41.896136014\",\"location\":{\"type\":\"Point\",\"coordinates\":[-87.722435,41.896136]},\"location_description\":\"APARTMENT\",\"longitude\":\"-87.722435188\",\"primary_type\":\"CRIM SEXUAL ASSAULT\",\"updated_on\":\"2017-04-09T15:57:12.000\",\"ward\":\"27\",\"x_coordinate\":\"1150570\",\"y_coordinate\":\"1905334\",\"year\":\"2017\"}\n",
      ",{\"arrest\":false,\"beat\":\"1133\",\"block\":\"037XX W FLOURNOY ST\",\"case_number\":\"JA209817\",\"community_area\":\"27\",\"date\":\"2017-04-02T05:00:00.000\",\"description\":\"TO VEHICLE\",\"district\":\"011\",\"domestic\":false,\"fbi_code\":\"14\",\"id\":\"10898250\",\"iucr\":\"1320\",\"latitude\":\"41.872627908\",\"location\":{\"type\":\"Point\",\"coordinates\":[-87.718668,41.872628]},\"location_description\":\"STREET\",\"longitude\":\"-87.718667988\",\"primary_type\":\"CRIMINAL DAMAGE\",\"updated_on\":\"2017-04-09T15:57:12.000\",\"ward\":\"24\",\"x_coordinate\":\"1151657\",\"y_coordinate\":\"1896775\",\"year\":\"2017\"}\n",
      ",{\"arrest\":false,\"beat\":\"1533\",\"block\":\"0000X N LAVERGNE AVE\",\"case_number\":\"JA209476\",\"community_area\":\"25\",\"date\":\"2017-04-02T05:00:00.000\",\"description\":\"DOMESTIC BATTERY SIMPLE\",\"district\":\"015\",\"domestic\":true,\"fbi_code\":\"08B\",\"id\":\"10898121\",\"iucr\":\"0486\",\"latitude\":\"41.880950956\",\"location\":{\"type\":\"Point\",\"coordinates\":[-87.750191,41.880951]},\"location_description\":\"APARTMENT\",\"longitude\":\"-87.750190703\",\"primary_type\":\"BATTERY\",\"updated_on\":\"2017-04-09T15:57:12.000\",\"ward\":\"28\",\"x_coordinate\":\"1143051\",\"y_coordinate\":\"1899748\",\"year\":\"2017\"}\n",
      ",{\"arrest\":false,\"beat\":\"1413\",\"block\":\"021XX N KEDZIE AVE\",\"case_number\":\"JA209483\",\"community_area\":\"22\",\"date\":\"2017-04-02T05:00:00.000\",\"description\":\"UNLAWFUL ENTRY\",\"district\":\"014\",\"domestic\":false,\"fbi_code\":\"05\",\"id\":\"10897985\",\"iucr\":\"0620\",\"latitude\":\"41.919892332\",\"location\":{\"type\":\"Point\",\"coordinates\":[-87.707056,41.919892]},\"location_description\":\"RESIDENCE\",\"longitude\":\"-87.707055529\",\"primary_type\":\"BURGLARY\",\"updated_on\":\"2017-04-09T15:57:12.000\",\"ward\":\"26\",\"x_coordinate\":\"1154694\",\"y_coordinate\":\"1914021\",\"year\":\"2017\"}\n",
      ",{\"arrest\":true,\"beat\":\"1022\",\"block\":\"012XX S TROY ST\",\"case_number\":\"JA209451\",\"community_area\":\"29\",\"date\":\"2017-04-02T05:14:00.000\",\"description\":\"AGG PO HANDS NO/MIN INJURY\",\"district\":\"010\",\"domestic\":false,\"fbi_code\":\"08A\",\"id\":\"10897982\",\"iucr\":\"0554\",\"latitude\":\"41.865794471\",\"location\":{\"type\":\"Point\",\"coordinates\":[-87.70443,41.865794]},\"location_description\":\"APARTMENT\",\"longitude\":\"-87.704430159\",\"primary_type\":\"ASSAULT\",\"updated_on\":\"2017-04-09T15:57:12.000\",\"ward\":\"24\",\"x_coordinate\":\"1155553\",\"y_coordinate\":\"1894313\",\"year\":\"2017\"}\n",
      ",{\"arrest\":false,\"beat\":\"1722\",\"block\":\"044XX N LOWELL AVE\",\"case_number\":\"JA209452\",\"community_area\":\"16\",\"date\":\"2017-04-02T05:15:00.000\",\"description\":\"TO RESIDENCE\",\"district\":\"017\",\"domestic\":false,\"fbi_code\":\"26\",\"id\":\"10897971\",\"iucr\":\"1365\",\"latitude\":\"41.9615061\",\"location\":{\"type\":\"Point\",\"coordinates\":[-87.737029,41.961506]},\"location_description\":\"RESIDENCE\",\"longitude\":\"-87.737029303\",\"primary_type\":\"CRIMINAL TRESPASS\",\"updated_on\":\"2017-04-09T15:57:12.000\",\"ward\":\"45\",\"x_coordinate\":\"1146431\",\"y_coordinate\":\"1929127\",\"year\":\"2017\"}\n",
      ",{\"arrest\":false,\"beat\":\"0912\",\"block\":\"022XX W 33RD ST\",\"case_number\":\"JA209439\",\"community_area\":\"59\",\"date\":\"2017-04-02T05:15:00.000\",\"description\":\"TO VEHICLE\",\"district\":\"009\",\"domestic\":false,\"fbi_code\":\"14\",\"id\":\"10897954\",\"iucr\":\"1320\",\"latitude\":\"41.833962659\",\"location\":{\"type\":\"Point\",\"coordinates\":[-87.680619,41.833963]},\"location_description\":\"STREET\",\"longitude\":\"-87.680618885\",\"primary_type\":\"CRIMINAL DAMAGE\",\"updated_on\":\"2017-04-09T15:57:12.000\",\"ward\":\"12\",\"x_coordinate\":\"1162127\",\"y_coordinate\":\"1882762\",\"year\":\"2017\"}\n",
      ",{\"arrest\":false,\"beat\":\"0614\",\"block\":\"081XX S ASHLAND AVE\",\"case_number\":\"JA209433\",\"community_area\":\"71\",\"date\":\"2017-04-02T05:20:00.000\",\"description\":\"STRONGARM - NO WEAPON\",\"district\":\"006\",\"domestic\":false,\"fbi_code\":\"03\",\"id\":\"10908761\",\"iucr\":\"0320\",\"location_description\":\"SIDEWALK\",\"primary_type\":\"ROBBERY\",\"updated_on\":\"2017-04-12T15:51:40.000\",\"ward\":\"21\",\"year\":\"2017\"}\n",
      ",{\"arrest\":false,\"beat\":\"1533\",\"block\":\"0000X S LEAMINGTON AVE\",\"case_number\":\"JA209445\",\"community_area\":\"25\",\"date\":\"2017-04-02T05:22:00.000\",\"description\":\"TO PROPERTY\",\"district\":\"015\",\"domestic\":false,\"fbi_code\":\"14\",\"id\":\"10897945\",\"iucr\":\"1310\",\"latitude\":\"41.88013368\",\"location\":{\"type\":\"Point\",\"coordinates\":[-87.753543,41.880134]},\"location_description\":\"RESIDENCE PORCH/HALLWAY\",\"longitude\":\"-87.753543416\",\"primary_type\":\"CRIMINAL DAMAGE\",\"updated_on\":\"2017-04-09T15:57:12.000\",\"ward\":\"28\",\"x_coordinate\":\"1142140\",\"y_coordinate\":\"1899444\",\"year\":\"2017\"}\n",
      ",{\"arrest\":false,\"beat\":\"0815\",\"block\":\"043XX S PULASKI RD\",\"case_number\":\"JA209686\",\"community_area\":\"57\",\"date\":\"2017-04-02T05:30:00.000\",\"description\":\"STRONGARM - NO WEAPON\",\"district\":\"008\",\"domestic\":false,\"fbi_code\":\"03\",\"id\":\"10898200\",\"iucr\":\"0320\",\"latitude\":\"41.814737762\",\"location\":{\"type\":\"Point\",\"coordinates\":[-87.723844,41.814738]},\"location_description\":\"SIDEWALK\",\"longitude\":\"-87.723843947\",\"primary_type\":\"ROBBERY\",\"updated_on\":\"2017-04-09T15:57:12.000\",\"ward\":\"14\",\"x_coordinate\":\"1150397\",\"y_coordinate\":\"1875670\",\"year\":\"2017\"}\n",
      ",{\"arrest\":false,\"beat\":\"0813\",\"block\":\"042XX W 59TH ST\",\"case_number\":\"JA209487\",\"community_area\":\"65\",\"date\":\"2017-04-02T05:30:00.000\",\"description\":\"SIMPLE\",\"district\":\"008\",\"domestic\":true,\"fbi_code\":\"08A\",\"id\":\"10898022\",\"iucr\":\"0560\",\"latitude\":\"41.785882693\",\"location\":{\"type\":\"Point\",\"coordinates\":[-87.728206,41.785883]},\"location_description\":\"APARTMENT\",\"longitude\":\"-87.728205704\",\"primary_type\":\"ASSAULT\",\"updated_on\":\"2017-04-09T15:57:12.000\",\"ward\":\"13\",\"x_coordinate\":\"1149282\",\"y_coordinate\":\"1865147\",\"year\":\"2017\"}\n",
      ",{\"arrest\":false,\"beat\":\"1132\",\"block\":\"004XX S PULASKI RD\",\"case_number\":\"JA209475\",\"community_area\":\"26\",\"date\":\"2017-04-02T05:40:00.000\",\"description\":\"VEHICULAR HIJACKING\",\"district\":\"011\",\"domestic\":false,\"fbi_code\":\"03\",\"id\":\"10898167\",\"iucr\":\"0325\",\"latitude\":\"41.874947338\",\"location\":{\"type\":\"Point\",\"coordinates\":[-87.725472,41.874947]},\"location_description\":\"PARKING LOT/GARAGE(NON.RESID.)\",\"longitude\":\"-87.72547164\",\"primary_type\":\"ROBBERY\",\"updated_on\":\"2017-04-09T15:57:12.000\",\"ward\":\"24\",\"x_coordinate\":\"1149798\",\"y_coordinate\":\"1897607\",\"year\":\"2017\"}\n",
      ",{\"arrest\":false,\"beat\":\"1711\",\"block\":\"061XX N KEATING AVE\",\"case_number\":\"JA212231\",\"community_area\":\"12\",\"date\":\"2017-04-02T05:45:00.000\",\"description\":\"ATTEMPT: STRONGARM-NO WEAPON\",\"district\":\"017\",\"domestic\":false,\"fbi_code\":\"03\",\"id\":\"10900726\",\"iucr\":\"0340\",\"latitude\":\"41.994111882\",\"location\":{\"type\":\"Point\",\"coordinates\":[-87.746988,41.994112]},\"location_description\":\"SIDEWALK\",\"longitude\":\"-87.746988454\",\"primary_type\":\"ROBBERY\",\"updated_on\":\"2017-04-09T15:57:12.000\",\"ward\":\"39\",\"x_coordinate\":\"1143641\",\"y_coordinate\":\"1940990\",\"year\":\"2017\"}\n",
      ",{\"arrest\":false,\"beat\":\"1935\",\"block\":\"025XX N HALSTED ST\",\"case_number\":\"JA209460\",\"community_area\":\"7\",\"date\":\"2017-04-02T05:45:00.000\",\"description\":\"$500 AND UNDER\",\"district\":\"019\",\"domestic\":false,\"fbi_code\":\"06\",\"id\":\"10898643\",\"iucr\":\"0820\",\"latitude\":\"41.928525595\",\"location\":{\"type\":\"Point\",\"coordinates\":[-87.648868,41.928526]},\"location_description\":\"SIDEWALK\",\"longitude\":\"-87.648867761\",\"primary_type\":\"THEFT\",\"updated_on\":\"2017-04-09T15:57:12.000\",\"ward\":\"43\",\"x_coordinate\":\"1170505\",\"y_coordinate\":\"1917288\",\"year\":\"2017\"}\n",
      ",{\"arrest\":false,\"beat\":\"1532\",\"block\":\"001XX N LAPORTE AVE\",\"case_number\":\"JA209462\",\"community_area\":\"25\",\"date\":\"2017-04-02T05:55:00.000\",\"description\":\"DOMESTIC BATTERY SIMPLE\",\"district\":\"015\",\"domestic\":true,\"fbi_code\":\"08B\",\"id\":\"10898203\",\"iucr\":\"0486\",\"latitude\":\"41.883489121\",\"location\":{\"type\":\"Point\",\"coordinates\":[-87.749059,41.883489]},\"location_description\":\"APARTMENT\",\"longitude\":\"-87.749058592\",\"primary_type\":\"BATTERY\",\"updated_on\":\"2017-04-09T15:57:12.000\",\"ward\":\"28\",\"x_coordinate\":\"1143353\",\"y_coordinate\":\"1900675\",\"year\":\"2017\"}\n",
      ",{\"arrest\":true,\"beat\":\"1024\",\"block\":\"019XX S DRAKE AVE\",\"case_number\":\"JA209471\",\"community_area\":\"29\",\"date\":\"2017-04-02T06:00:00.000\",\"description\":\"DOMESTIC BATTERY SIMPLE\",\"district\":\"010\",\"domestic\":true,\"fbi_code\":\"08B\",\"id\":\"10898076\",\"iucr\":\"0486\",\"latitude\":\"41.854302497\",\"location\":{\"type\":\"Point\",\"coordinates\":[-87.713697,41.854302]},\"location_description\":\"APARTMENT\",\"longitude\":\"-87.713697274\",\"primary_type\":\"BATTERY\",\"updated_on\":\"2017-04-23T15:47:22.000\",\"ward\":\"24\",\"x_coordinate\":\"1153059\",\"y_coordinate\":\"1890107\",\"year\":\"2017\"}\n",
      ",{\"arrest\":false,\"beat\":\"0413\",\"block\":\"089XX S STONY ISLAND AVE\",\"case_number\":\"JA219080\",\"community_area\":\"48\",\"date\":\"2017-04-02T06:00:00.000\",\"description\":\"SIMPLE\",\"district\":\"004\",\"domestic\":false,\"fbi_code\":\"08A\",\"id\":\"10908277\",\"iucr\":\"0580\",\"latitude\":\"41.732519462\",\"location\":{\"type\":\"Point\",\"coordinates\":[-87.585109,41.732519]},\"location_description\":\"APARTMENT\",\"longitude\":\"-87.58510925\",\"primary_type\":\"STALKING\",\"updated_on\":\"2017-04-17T16:05:36.000\",\"ward\":\"8\",\"x_coordinate\":\"1188477\",\"y_coordinate\":\"1846009\",\"year\":\"2017\"}\n",
      ",{\"arrest\":false,\"beat\":\"0523\",\"block\":\"121XX S STATE ST\",\"case_number\":\"JA210623\",\"community_area\":\"53\",\"date\":\"2017-04-02T06:00:00.000\",\"description\":\"FINANCIAL IDENTITY THEFT $300 AND UNDER\",\"district\":\"005\",\"domestic\":false,\"fbi_code\":\"11\",\"id\":\"10898992\",\"iucr\":\"1154\",\"latitude\":\"41.673929701\",\"location\":{\"type\":\"Point\",\"coordinates\":[-87.622534,41.67393]},\"location_description\":\"RESIDENCE\",\"longitude\":\"-87.62253437\",\"primary_type\":\"DECEPTIVE PRACTICE\",\"updated_on\":\"2017-04-09T15:57:12.000\",\"ward\":\"9\",\"x_coordinate\":\"1178438\",\"y_coordinate\":\"1824573\",\"year\":\"2017\"}\n",
      ",{\"arrest\":false,\"beat\":\"0925\",\"block\":\"005XX W 42ND ST\",\"case_number\":\"JA210603\",\"community_area\":\"61\",\"date\":\"2017-04-02T06:00:00.000\",\"description\":\"TO PROPERTY\",\"district\":\"009\",\"domestic\":false,\"fbi_code\":\"14\",\"id\":\"10898974\",\"iucr\":\"1310\",\"latitude\":\"41.818094403\",\"location\":{\"type\":\"Point\",\"coordinates\":[-87.639729,41.818094]},\"location_description\":\"RESIDENCE PORCH/HALLWAY\",\"longitude\":\"-87.639729026\",\"primary_type\":\"CRIMINAL DAMAGE\",\"updated_on\":\"2017-04-09T15:57:12.000\",\"ward\":\"11\",\"x_coordinate\":\"1173317\",\"y_coordinate\":\"1877067\",\"year\":\"2017\"}\n",
      ",{\"arrest\":false,\"beat\":\"1114\",\"block\":\"042XX W MAYPOLE AVE\",\"case_number\":\"JA210208\",\"community_area\":\"26\",\"date\":\"2017-04-02T06:00:00.000\",\"description\":\"ENDANGERING LIFE/HEALTH CHILD\",\"district\":\"011\",\"domestic\":true,\"fbi_code\":\"20\",\"id\":\"10898568\",\"iucr\":\"1710\",\"latitude\":\"41.88460779\",\"location\":{\"type\":\"Point\",\"coordinates\":[-87.731858,41.884608]},\"location_description\":\"RESIDENCE\",\"longitude\":\"-87.73185811\",\"primary_type\":\"OFFENSE INVOLVING CHILDREN\",\"updated_on\":\"2017-04-09T15:57:12.000\",\"ward\":\"28\",\"x_coordinate\":\"1148034\",\"y_coordinate\":\"1901115\",\"year\":\"2017\"}\n",
      ",{\"arrest\":true,\"beat\":\"0924\",\"block\":\"018XX W 47TH ST\",\"case_number\":\"JA209463\",\"community_area\":\"61\",\"date\":\"2017-04-02T06:05:00.000\",\"description\":\"PAROLE VIOLATION\",\"district\":\"009\",\"domestic\":false,\"fbi_code\":\"26\",\"id\":\"10897978\",\"iucr\":\"4625\",\"latitude\":\"41.808553996\",\"location\":{\"type\":\"Point\",\"coordinates\":[-87.670177,41.808554]},\"location_description\":\"STREET\",\"longitude\":\"-87.670177315\",\"primary_type\":\"OTHER OFFENSE\",\"updated_on\":\"2017-04-09T15:57:12.000\",\"ward\":\"20\",\"x_coordinate\":\"1165044\",\"y_coordinate\":\"1873525\",\"year\":\"2017\"}\n",
      ",{\"arrest\":true,\"beat\":\"1135\",\"block\":\"029XX W HARRISON ST\",\"case_number\":\"JA209478\",\"community_area\":\"27\",\"date\":\"2017-04-02T06:11:00.000\",\"description\":\"DOMESTIC BATTERY SIMPLE\",\"district\":\"011\",\"domestic\":false,\"fbi_code\":\"08B\",\"id\":\"10898046\",\"iucr\":\"0486\",\"latitude\":\"41.873761627\",\"location\":{\"type\":\"Point\",\"coordinates\":[-87.699546,41.873762]},\"location_description\":\"CHA APARTMENT\",\"longitude\":\"-87.699545765\",\"primary_type\":\"BATTERY\",\"updated_on\":\"2017-04-09T15:57:12.000\",\"ward\":\"2\",\"x_coordinate\":\"1156862\",\"y_coordinate\":\"1897226\",\"year\":\"2017\"}\n",
      ",{\"arrest\":false,\"beat\":\"1111\",\"block\":\"042XX W DIVISION ST\",\"case_number\":\"JA209486\",\"community_area\":\"23\",\"date\":\"2017-04-02T06:20:00.000\",\"description\":\"STRONGARM - NO WEAPON\",\"district\":\"011\",\"domestic\":false,\"fbi_code\":\"03\",\"id\":\"10898170\",\"iucr\":\"0320\",\"latitude\":\"41.902576214\",\"location\":{\"type\":\"Point\",\"coordinates\":[-87.732215,41.902576]},\"location_description\":\"ALLEY\",\"longitude\":\"-87.732214795\",\"primary_type\":\"ROBBERY\",\"updated_on\":\"2017-04-09T15:57:12.000\",\"ward\":\"37\",\"x_coordinate\":\"1147891\",\"y_coordinate\":\"1907662\",\"year\":\"2017\"}\n",
      ",{\"arrest\":false,\"beat\":\"0611\",\"block\":\"016XX W 76TH ST\",\"case_number\":\"JA209468\",\"community_area\":\"71\",\"date\":\"2017-04-02T06:20:00.000\",\"description\":\"AGGRAVATED DOMESTIC BATTERY: KNIFE/CUTTING INST\",\"district\":\"006\",\"domestic\":false,\"fbi_code\":\"04B\",\"id\":\"10897974\",\"iucr\":\"0496\",\"latitude\":\"41.755804883\",\"location\":{\"type\":\"Point\",\"coordinates\":[-87.664311,41.755805]},\"location_description\":\"ALLEY\",\"longitude\":\"-87.664310539\",\"primary_type\":\"BATTERY\",\"updated_on\":\"2017-04-09T15:57:12.000\",\"ward\":\"17\",\"x_coordinate\":\"1166793\",\"y_coordinate\":\"1854316\",\"year\":\"2017\"}\n",
      ",{\"arrest\":false,\"beat\":\"1612\",\"block\":\"059XX N HARLEM AVE\",\"case_number\":\"JA209497\",\"community_area\":\"10\",\"date\":\"2017-04-02T06:25:00.000\",\"description\":\"TO PROPERTY\",\"district\":\"016\",\"domestic\":false,\"fbi_code\":\"14\",\"id\":\"10898064\",\"iucr\":\"1310\",\"latitude\":\"41.989182707\",\"location\":{\"type\":\"Point\",\"coordinates\":[-87.806881,41.989183]},\"location_description\":\"RESIDENCE-GARAGE\",\"longitude\":\"-87.806880639\",\"primary_type\":\"CRIMINAL DAMAGE\",\"updated_on\":\"2017-04-09T15:57:12.000\",\"ward\":\"41\",\"x_coordinate\":\"1127371\",\"y_coordinate\":\"1939088\",\"year\":\"2017\"}\n",
      ",{\"arrest\":true,\"beat\":\"1913\",\"block\":\"046XX N MAGNOLIA AVE\",\"case_number\":\"JA210780\",\"community_area\":\"3\",\"date\":\"2017-04-02T06:30:00.000\",\"description\":\"UNLAWFUL ENTRY\",\"district\":\"019\",\"domestic\":false,\"fbi_code\":\"05\",\"id\":\"10899295\",\"iucr\":\"0620\",\"latitude\":\"41.966047906\",\"location\":{\"type\":\"Point\",\"coordinates\":[-87.66106,41.966048]},\"location_description\":\"APARTMENT\",\"longitude\":\"-87.661060061\",\"primary_type\":\"BURGLARY\",\"updated_on\":\"2017-04-14T15:48:27.000\",\"ward\":\"46\",\"x_coordinate\":\"1167080\",\"y_coordinate\":\"1930935\",\"year\":\"2017\"}\n",
      ",{\"arrest\":false,\"beat\":\"1932\",\"block\":\"024XX N GREENVIEW AVE\",\"case_number\":\"JA211709\",\"community_area\":\"7\",\"date\":\"2017-04-02T06:30:00.000\",\"description\":\"OVER $500\",\"district\":\"019\",\"domestic\":false,\"fbi_code\":\"06\",\"id\":\"10900972\",\"iucr\":\"0810\",\"latitude\":\"41.926572519\",\"location\":{\"type\":\"Point\",\"coordinates\":[-87.665785,41.926573]},\"location_description\":\"APARTMENT\",\"longitude\":\"-87.665785156\",\"primary_type\":\"THEFT\",\"updated_on\":\"2017-04-09T15:57:12.000\",\"ward\":\"32\",\"x_coordinate\":\"1165907\",\"y_coordinate\":\"1916540\",\"year\":\"2017\"}\n",
      ",{\"arrest\":false,\"beat\":\"0413\",\"block\":\"092XX S ELLIS AVE\",\"case_number\":\"JA211128\",\"community_area\":\"47\",\"date\":\"2017-04-02T06:30:00.000\",\"description\":\"SIMPLE\",\"district\":\"004\",\"domestic\":false,\"fbi_code\":\"08B\",\"id\":\"10899548\",\"iucr\":\"0460\",\"latitude\":\"41.727144465\",\"location\":{\"type\":\"Point\",\"coordinates\":[-87.599752,41.727144]},\"location_description\":\"STREET\",\"longitude\":\"-87.599751792\",\"primary_type\":\"BATTERY\",\"updated_on\":\"2017-04-09T15:57:12.000\",\"ward\":\"8\",\"x_coordinate\":\"1184497\",\"y_coordinate\":\"1844016\",\"year\":\"2017\"}\n",
      ",{\"arrest\":false,\"beat\":\"1235\",\"block\":\"011XX W CERMAK RD\",\"case_number\":\"JA209623\",\"community_area\":\"31\",\"date\":\"2017-04-02T06:40:00.000\",\"description\":\"TO PROPERTY\",\"district\":\"012\",\"domestic\":false,\"fbi_code\":\"14\",\"id\":\"10898122\",\"iucr\":\"1310\",\"latitude\":\"41.8525377\",\"location\":{\"type\":\"Point\",\"coordinates\":[-87.653503,41.852538]},\"location_description\":\"ABANDONED BUILDING\",\"longitude\":\"-87.653503183\",\"primary_type\":\"CRIMINAL DAMAGE\",\"updated_on\":\"2017-04-09T15:57:12.000\",\"ward\":\"25\",\"x_coordinate\":\"1169463\",\"y_coordinate\":\"1889588\",\"year\":\"2017\"}\n",
      ",{\"arrest\":false,\"beat\":\"1413\",\"block\":\"035XX W DICKENS AVE\",\"case_number\":\"JA211082\",\"community_area\":\"22\",\"date\":\"2017-04-02T06:45:00.000\",\"description\":\"AUTOMOBILE\",\"district\":\"014\",\"domestic\":false,\"fbi_code\":\"07\",\"id\":\"10899705\",\"iucr\":\"0910\",\"latitude\":\"41.919123379\",\"location\":{\"type\":\"Point\",\"coordinates\":[-87.716073,41.919123]},\"location_description\":\"STREET\",\"longitude\":\"-87.716072506\",\"primary_type\":\"MOTOR VEHICLE THEFT\",\"updated_on\":\"2017-04-09T15:57:12.000\",\"ward\":\"26\",\"x_coordinate\":\"1152242\",\"y_coordinate\":\"1913723\",\"year\":\"2017\"}\n",
      ",{\"arrest\":true,\"beat\":\"1713\",\"block\":\"033XX W EASTWOOD AVE\",\"case_number\":\"JA209491\",\"community_area\":\"14\",\"date\":\"2017-04-02T06:48:00.000\",\"description\":\"DOMESTIC BATTERY SIMPLE\",\"district\":\"017\",\"domestic\":true,\"fbi_code\":\"08B\",\"id\":\"10898110\",\"iucr\":\"0486\",\"latitude\":\"41.965553431\",\"location\":{\"type\":\"Point\",\"coordinates\":[-87.712117,41.965553]},\"location_description\":\"RESIDENCE\",\"longitude\":\"-87.712116667\",\"primary_type\":\"BATTERY\",\"updated_on\":\"2017-04-09T15:57:12.000\",\"ward\":\"33\",\"x_coordinate\":\"1153196\",\"y_coordinate\":\"1930650\",\"year\":\"2017\"}\n",
      ",{\"arrest\":false,\"beat\":\"0921\",\"block\":\"042XX S ROCKWELL ST\",\"case_number\":\"JA209490\",\"community_area\":\"58\",\"date\":\"2017-04-02T06:50:00.000\",\"description\":\"DOMESTIC BATTERY SIMPLE\",\"district\":\"009\",\"domestic\":true,\"fbi_code\":\"08B\",\"id\":\"10898199\",\"iucr\":\"0486\",\"latitude\":\"41.81690809\",\"location\":{\"type\":\"Point\",\"coordinates\":[-87.689563,41.816908]},\"location_description\":\"SIDEWALK\",\"longitude\":\"-87.689563423\",\"primary_type\":\"BATTERY\",\"updated_on\":\"2017-04-09T15:57:12.000\",\"ward\":\"12\",\"x_coordinate\":\"1159736\",\"y_coordinate\":\"1876529\",\"year\":\"2017\"}\n",
      ",{\"arrest\":true,\"beat\":\"0822\",\"block\":\"057XX S SAWYER AVE\",\"case_number\":\"JA209533\",\"community_area\":\"63\",\"date\":\"2017-04-02T06:55:00.000\",\"description\":\"DOMESTIC BATTERY SIMPLE\",\"district\":\"008\",\"domestic\":true,\"fbi_code\":\"08B\",\"id\":\"10898089\",\"iucr\":\"0486\",\"latitude\":\"41.78938972\",\"location\":{\"type\":\"Point\",\"coordinates\":[-87.704664,41.78939]},\"location_description\":\"RESIDENCE\",\"longitude\":\"-87.704664147\",\"primary_type\":\"BATTERY\",\"updated_on\":\"2017-04-13T15:51:25.000\",\"ward\":\"14\",\"x_coordinate\":\"1155693\",\"y_coordinate\":\"1866471\",\"year\":\"2017\"}\n",
      ",{\"arrest\":false,\"beat\":\"0632\",\"block\":\"087XX S INDIANA AVE\",\"case_number\":\"JA219388\",\"community_area\":\"44\",\"date\":\"2017-04-02T07:00:00.000\",\"description\":\"$500 AND UNDER\",\"district\":\"006\",\"domestic\":false,\"fbi_code\":\"06\",\"id\":\"10906833\",\"iucr\":\"0820\",\"latitude\":\"41.735525546\",\"location\":{\"type\":\"Point\",\"coordinates\":[-87.61935,41.735526]},\"location_description\":\"RESIDENTIAL YARD (FRONT/BACK)\",\"longitude\":\"-87.619349553\",\"primary_type\":\"THEFT\",\"updated_on\":\"2017-04-13T15:51:25.000\",\"ward\":\"6\",\"x_coordinate\":\"1179122\",\"y_coordinate\":\"1847025\",\"year\":\"2017\"}\n",
      ",{\"arrest\":false,\"beat\":\"1423\",\"block\":\"026XX W EVERGREEN AVE\",\"case_number\":\"JA212301\",\"community_area\":\"24\",\"date\":\"2017-04-02T07:00:00.000\",\"description\":\"OVER $500\",\"district\":\"014\",\"domestic\":false,\"fbi_code\":\"06\",\"id\":\"10900761\",\"iucr\":\"0810\",\"latitude\":\"41.905703498\",\"location\":{\"type\":\"Point\",\"coordinates\":[-87.692915,41.905703]},\"location_description\":\"STREET\",\"longitude\":\"-87.692915092\",\"primary_type\":\"THEFT\",\"updated_on\":\"2017-04-09T15:57:12.000\",\"ward\":\"26\",\"x_coordinate\":\"1158581\",\"y_coordinate\":\"1908879\",\"year\":\"2017\"}\n",
      ",{\"arrest\":false,\"beat\":\"0612\",\"block\":\"012XX W 76TH ST\",\"case_number\":\"JA211911\",\"community_area\":\"71\",\"date\":\"2017-04-02T07:00:00.000\",\"description\":\"FROM BUILDING\",\"district\":\"006\",\"domestic\":false,\"fbi_code\":\"06\",\"id\":\"10900253\",\"iucr\":\"0890\",\"latitude\":\"41.756057234\",\"location\":{\"type\":\"Point\",\"coordinates\":[-87.654929,41.756057]},\"location_description\":\"APARTMENT\",\"longitude\":\"-87.654929158\",\"primary_type\":\"THEFT\",\"updated_on\":\"2017-04-09T15:57:12.000\",\"ward\":\"17\",\"x_coordinate\":\"1169352\",\"y_coordinate\":\"1854428\",\"year\":\"2017\"}\n",
      ",{\"arrest\":false,\"beat\":\"0412\",\"block\":\"084XX S CRANDON AVE\",\"case_number\":\"JA210096\",\"community_area\":\"46\",\"date\":\"2017-04-02T07:00:00.000\",\"description\":\"TO PROPERTY\",\"district\":\"004\",\"domestic\":false,\"fbi_code\":\"14\",\"id\":\"10898546\",\"iucr\":\"1310\",\"latitude\":\"41.741639304\",\"location\":{\"type\":\"Point\",\"coordinates\":[-87.568515,41.741639]},\"location_description\":\"APARTMENT\",\"longitude\":\"-87.568514567\",\"primary_type\":\"CRIMINAL DAMAGE\",\"updated_on\":\"2017-04-09T15:57:12.000\",\"ward\":\"8\",\"x_coordinate\":\"1192977\",\"y_coordinate\":\"1849372\",\"year\":\"2017\"}\n",
      ",{\"arrest\":false,\"beat\":\"1813\",\"block\":\"019XX N HALSTED ST\",\"case_number\":\"JA209661\",\"community_area\":\"7\",\"date\":\"2017-04-02T07:00:00.000\",\"description\":\"CRIMINAL DEFACEMENT\",\"district\":\"018\",\"domestic\":false,\"fbi_code\":\"14\",\"id\":\"10898132\",\"iucr\":\"1305\",\"latitude\":\"41.916665295\",\"location\":{\"type\":\"Point\",\"coordinates\":[-87.648447,41.916665]},\"location_description\":\"APARTMENT\",\"longitude\":\"-87.648447057\",\"primary_type\":\"CRIMINAL DAMAGE\",\"updated_on\":\"2017-04-09T15:57:12.000\",\"ward\":\"43\",\"x_coordinate\":\"1170654\",\"y_coordinate\":\"1912967\",\"year\":\"2017\"}\n",
      ",{\"arrest\":false,\"beat\":\"1214\",\"block\":\"009XX W LAKE ST\",\"case_number\":\"JA209601\",\"community_area\":\"28\",\"date\":\"2017-04-02T07:00:00.000\",\"description\":\"AUTOMOBILE\",\"district\":\"012\",\"domestic\":false,\"fbi_code\":\"07\",\"id\":\"10898108\",\"iucr\":\"0910\",\"latitude\":\"41.885596473\",\"location\":{\"type\":\"Point\",\"coordinates\":[-87.651449,41.885596]},\"location_description\":\"STREET\",\"longitude\":\"-87.651448825\",\"primary_type\":\"MOTOR VEHICLE THEFT\",\"updated_on\":\"2017-04-09T15:57:12.000\",\"ward\":\"27\",\"x_coordinate\":\"1169927\",\"y_coordinate\":\"1901639\",\"year\":\"2017\"}\n",
      ",{\"arrest\":true,\"beat\":\"1935\",\"block\":\"025XX N CLARK ST\",\"case_number\":\"JA209500\",\"community_area\":\"7\",\"date\":\"2017-04-02T07:24:00.000\",\"description\":\"RETAIL THEFT\",\"district\":\"019\",\"domestic\":false,\"fbi_code\":\"06\",\"id\":\"10898042\",\"iucr\":\"0860\",\"latitude\":\"41.927992712\",\"location\":{\"type\":\"Point\",\"coordinates\":[-87.641913,41.927993]},\"location_description\":\"DRUG STORE\",\"longitude\":\"-87.641913321\",\"primary_type\":\"THEFT\",\"updated_on\":\"2017-04-09T15:57:12.000\",\"ward\":\"43\",\"x_coordinate\":\"1172399\",\"y_coordinate\":\"1917109\",\"year\":\"2017\"}\n",
      ",{\"arrest\":false,\"beat\":\"1713\",\"block\":\"047XX N KEDZIE AVE\",\"case_number\":\"JA209504\",\"community_area\":\"14\",\"date\":\"2017-04-02T07:30:00.000\",\"description\":\"SIMPLE\",\"district\":\"017\",\"domestic\":false,\"fbi_code\":\"08B\",\"id\":\"10898039\",\"iucr\":\"0460\",\"latitude\":\"41.967586195\",\"location\":{\"type\":\"Point\",\"coordinates\":[-87.708449,41.967586]},\"location_description\":\"STREET\",\"longitude\":\"-87.708449221\",\"primary_type\":\"BATTERY\",\"updated_on\":\"2017-04-09T15:57:12.000\",\"ward\":\"33\",\"x_coordinate\":\"1154188\",\"y_coordinate\":\"1931398\",\"year\":\"2017\"}\n",
      ",{\"arrest\":true,\"beat\":\"1511\",\"block\":\"057XX W THOMAS ST\",\"case_number\":\"JA209503\",\"community_area\":\"25\",\"date\":\"2017-04-02T07:34:00.000\",\"description\":\"SIMPLE\",\"district\":\"015\",\"domestic\":true,\"fbi_code\":\"08A\",\"id\":\"10898070\",\"iucr\":\"0560\",\"latitude\":\"41.900263268\",\"location\":{\"type\":\"Point\",\"coordinates\":[-87.769638,41.900263]},\"location_description\":\"ALLEY\",\"longitude\":\"-87.769637541\",\"primary_type\":\"ASSAULT\",\"updated_on\":\"2017-04-09T15:57:12.000\",\"ward\":\"29\",\"x_coordinate\":\"1137709\",\"y_coordinate\":\"1906750\",\"year\":\"2017\"}\n",
      ",{\"arrest\":true,\"beat\":\"1121\",\"block\":\"007XX N HOMAN AVE\",\"case_number\":\"JA209526\",\"community_area\":\"23\",\"date\":\"2017-04-02T07:42:00.000\",\"description\":\"POSS: HEROIN(WHITE)\",\"district\":\"011\",\"domestic\":false,\"fbi_code\":\"18\",\"id\":\"10898028\",\"iucr\":\"2024\",\"latitude\":\"41.894674537\",\"location\":{\"type\":\"Point\",\"coordinates\":[-87.711412,41.894675]},\"location_description\":\"APARTMENT\",\"longitude\":\"-87.711411964\",\"primary_type\":\"NARCOTICS\",\"updated_on\":\"2017-04-09T15:57:12.000\",\"ward\":\"27\",\"x_coordinate\":\"1153575\",\"y_coordinate\":\"1904823\",\"year\":\"2017\"}\n",
      ",{\"arrest\":false,\"beat\":\"0931\",\"block\":\"022XX W 47TH PL\",\"case_number\":\"JA210701\",\"community_area\":\"61\",\"date\":\"2017-04-02T07:45:00.000\",\"description\":\"RETAIL THEFT\",\"district\":\"009\",\"domestic\":false,\"fbi_code\":\"06\",\"id\":\"10899074\",\"iucr\":\"0860\",\"latitude\":\"41.807534146\",\"location\":{\"type\":\"Point\",\"coordinates\":[-87.681382,41.807534]},\"location_description\":\"OTHER\",\"longitude\":\"-87.681382397\",\"primary_type\":\"THEFT\",\"updated_on\":\"2017-04-09T15:57:12.000\",\"ward\":\"12\",\"x_coordinate\":\"1161992\",\"y_coordinate\":\"1873130\",\"year\":\"2017\"}\n",
      ",{\"arrest\":false,\"beat\":\"0511\",\"block\":\"099XX S STATE ST\",\"case_number\":\"JA209494\",\"community_area\":\"49\",\"date\":\"2017-04-02T07:50:00.000\",\"description\":\"AGGRAVATED:KNIFE/CUTTING INSTR\",\"district\":\"005\",\"domestic\":false,\"fbi_code\":\"04B\",\"id\":\"10898159\",\"iucr\":\"0420\",\"latitude\":\"41.714135309\",\"location\":{\"type\":\"Point\",\"coordinates\":[-87.623612,41.714135]},\"location_description\":\"SIDEWALK\",\"longitude\":\"-87.623611556\",\"primary_type\":\"BATTERY\",\"updated_on\":\"2017-04-09T15:57:12.000\",\"ward\":\"9\",\"x_coordinate\":\"1178023\",\"y_coordinate\":\"1839221\",\"year\":\"2017\"}\n",
      ",{\"arrest\":false,\"beat\":\"1522\",\"block\":\"055XX W GLADYS AVE\",\"case_number\":\"JA209519\",\"community_area\":\"25\",\"date\":\"2017-04-02T07:50:00.000\",\"description\":\"DOMESTIC BATTERY SIMPLE\",\"district\":\"015\",\"domestic\":true,\"fbi_code\":\"08B\",\"id\":\"10898124\",\"iucr\":\"0486\",\"latitude\":\"41.875650758\",\"location\":{\"type\":\"Point\",\"coordinates\":[-87.763098,41.875651]},\"location_description\":\"APARTMENT\",\"longitude\":\"-87.763097681\",\"primary_type\":\"BATTERY\",\"updated_on\":\"2017-04-09T15:57:12.000\",\"ward\":\"29\",\"x_coordinate\":\"1139549\",\"y_coordinate\":\"1897793\",\"year\":\"2017\"}\n",
      ",{\"arrest\":false,\"beat\":\"0815\",\"block\":\"047XX W 50TH ST\",\"case_number\":\"JA209505\",\"community_area\":\"56\",\"date\":\"2017-04-02T07:58:00.000\",\"description\":\"FALSE/STOLEN/ALTERED TRP\",\"district\":\"008\",\"domestic\":false,\"fbi_code\":\"26\",\"id\":\"10898021\",\"iucr\":\"502P\",\"latitude\":\"41.802173917\",\"location\":{\"type\":\"Point\",\"coordinates\":[-87.741058,41.802174]},\"location_description\":\"VEHICLE NON-COMMERCIAL\",\"longitude\":\"-87.741057907\",\"primary_type\":\"OTHER OFFENSE\",\"updated_on\":\"2017-04-09T15:57:12.000\",\"ward\":\"23\",\"x_coordinate\":\"1145736\",\"y_coordinate\":\"1871059\",\"year\":\"2017\"}\n",
      ",{\"arrest\":false,\"beat\":\"2223\",\"block\":\"094XX S HALSTED ST\",\"case_number\":\"JA227890\",\"community_area\":\"73\",\"date\":\"2017-04-02T08:00:00.000\",\"description\":\"HARASSMENT BY ELECTRONIC MEANS\",\"district\":\"022\",\"domestic\":false,\"fbi_code\":\"26\",\"id\":\"10915836\",\"iucr\":\"2826\",\"latitude\":\"41.722361581\",\"location\":{\"type\":\"Point\",\"coordinates\":[-87.643239,41.722362]},\"location_description\":\"RESIDENCE\",\"longitude\":\"-87.643239461\",\"primary_type\":\"OTHER OFFENSE\",\"updated_on\":\"2017-04-20T15:55:54.000\",\"ward\":\"21\",\"x_coordinate\":\"1172640\",\"y_coordinate\":\"1842175\",\"year\":\"2017\"}\n",
      ",{\"arrest\":false,\"beat\":\"1413\",\"block\":\"023XX N KIMBALL AVE\",\"case_number\":\"JA209514\",\"community_area\":\"22\",\"date\":\"2017-04-02T08:00:00.000\",\"description\":\"PEEPING TOM\",\"district\":\"014\",\"domestic\":false,\"fbi_code\":\"24\",\"id\":\"10898228\",\"iucr\":\"2870\",\"latitude\":\"41.923391003\",\"location\":{\"type\":\"Point\",\"coordinates\":[-87.712067,41.923391]},\"location_description\":\"RESIDENCE\",\"longitude\":\"-87.712066507\",\"primary_type\":\"PUBLIC PEACE VIOLATION\",\"updated_on\":\"2017-04-09T15:57:12.000\",\"ward\":\"35\",\"x_coordinate\":\"1153321\",\"y_coordinate\":\"1915286\",\"year\":\"2017\"}\n",
      ",{\"arrest\":false,\"beat\":\"0232\",\"block\":\"059XX S MICHIGAN AVE\",\"case_number\":\"JA209534\",\"community_area\":\"40\",\"date\":\"2017-04-02T08:02:00.000\",\"description\":\"TO PROPERTY\",\"district\":\"002\",\"domestic\":false,\"fbi_code\":\"14\",\"id\":\"10898058\",\"iucr\":\"1310\",\"latitude\":\"41.786867488\",\"location\":{\"type\":\"Point\",\"coordinates\":[-87.622264,41.786867]},\"location_description\":\"RESIDENCE PORCH/HALLWAY\",\"longitude\":\"-87.622263593\",\"primary_type\":\"CRIMINAL DAMAGE\",\"updated_on\":\"2017-04-09T15:57:12.000\",\"ward\":\"20\",\"x_coordinate\":\"1178172\",\"y_coordinate\":\"1865727\",\"year\":\"2017\"}\n",
      ",{\"arrest\":false,\"beat\":\"1654\",\"block\":\"116XX W IRVING PARK RD\",\"case_number\":\"JA209544\",\"community_area\":\"76\",\"date\":\"2017-04-02T08:15:00.000\",\"description\":\"SIMPLE\",\"district\":\"016\",\"domestic\":false,\"fbi_code\":\"08A\",\"id\":\"10898183\",\"iucr\":\"0560\",\"latitude\":\"41.953783081\",\"location\":{\"type\":\"Point\",\"coordinates\":[-87.915105,41.953783]},\"location_description\":\"GOVERNMENT BUILDING/PROPERTY\",\"longitude\":\"-87.915105451\",\"primary_type\":\"ASSAULT\",\"updated_on\":\"2017-04-09T15:57:12.000\",\"ward\":\"41\",\"x_coordinate\":\"1098012\",\"y_coordinate\":\"1926026\",\"year\":\"2017\"}\n",
      ",{\"arrest\":false,\"beat\":\"1511\",\"block\":\"058XX W IOWA ST\",\"case_number\":\"JA209524\",\"community_area\":\"25\",\"date\":\"2017-04-02T08:17:00.000\",\"description\":\"VIOLATE ORDER OF PROTECTION\",\"district\":\"015\",\"domestic\":false,\"fbi_code\":\"26\",\"id\":\"10898120\",\"iucr\":\"4387\",\"latitude\":\"41.89659051\",\"location\":{\"type\":\"Point\",\"coordinates\":[-87.771121,41.896591]},\"location_description\":\"RESIDENTIAL YARD (FRONT/BACK)\",\"longitude\":\"-87.771120692\",\"primary_type\":\"OTHER OFFENSE\",\"updated_on\":\"2017-04-09T15:57:12.000\",\"ward\":\"29\",\"x_coordinate\":\"1137314\",\"y_coordinate\":\"1905409\",\"year\":\"2017\"}\n",
      ",{\"arrest\":false,\"beat\":\"2411\",\"block\":\"074XX N CLAREMONT AVE\",\"case_number\":\"JA209515\",\"community_area\":\"2\",\"date\":\"2017-04-02T08:19:00.000\",\"description\":\"FALSE/STOLEN/ALTERED TRP\",\"district\":\"024\",\"domestic\":false,\"fbi_code\":\"26\",\"id\":\"10898038\",\"iucr\":\"502P\",\"latitude\":\"42.016404116\",\"location\":{\"type\":\"Point\",\"coordinates\":[-87.688858,42.016404]},\"location_description\":\"STREET\",\"longitude\":\"-87.688858008\",\"primary_type\":\"OTHER OFFENSE\",\"updated_on\":\"2017-04-09T15:57:12.000\",\"ward\":\"49\",\"x_coordinate\":\"1159382\",\"y_coordinate\":\"1949227\",\"year\":\"2017\"}\n",
      ",{\"arrest\":false,\"beat\":\"1214\",\"block\":\"011XX W ERIE ST\",\"case_number\":\"JA209948\",\"community_area\":\"24\",\"date\":\"2017-04-02T08:27:00.000\",\"description\":\"TELEPHONE THREAT\",\"district\":\"012\",\"domestic\":true,\"fbi_code\":\"26\",\"id\":\"10898355\",\"iucr\":\"2820\",\"latitude\":\"41.893285193\",\"location\":{\"type\":\"Point\",\"coordinates\":[-87.656443,41.893285]},\"location_description\":\"RESIDENCE\",\"longitude\":\"-87.656442921\",\"primary_type\":\"OTHER OFFENSE\",\"updated_on\":\"2017-04-09T15:57:12.000\",\"ward\":\"27\",\"x_coordinate\":\"1168545\",\"y_coordinate\":\"1904430\",\"year\":\"2017\"}\n",
      ",{\"arrest\":false,\"beat\":\"0722\",\"block\":\"066XX S PERRY AVE\",\"case_number\":\"JA210251\",\"community_area\":\"69\",\"date\":\"2017-04-02T08:30:00.000\",\"description\":\"HARASSMENT BY TELEPHONE\",\"district\":\"007\",\"domestic\":true,\"fbi_code\":\"26\",\"id\":\"10898576\",\"iucr\":\"2825\",\"latitude\":\"41.773600901\",\"location\":{\"type\":\"Point\",\"coordinates\":[-87.628386,41.773601]},\"location_description\":\"APARTMENT\",\"longitude\":\"-87.628385732\",\"primary_type\":\"OTHER OFFENSE\",\"updated_on\":\"2017-04-09T15:57:12.000\",\"ward\":\"6\",\"x_coordinate\":\"1176542\",\"y_coordinate\":\"1860879\",\"year\":\"2017\"}\n",
      ",{\"arrest\":true,\"beat\":\"0613\",\"block\":\"084XX S RACINE AVE\",\"case_number\":\"JA209556\",\"community_area\":\"71\",\"date\":\"2017-04-02T08:30:00.000\",\"description\":\"SIMPLE\",\"district\":\"006\",\"domestic\":false,\"fbi_code\":\"08A\",\"id\":\"10898077\",\"iucr\":\"0560\",\"latitude\":\"41.740625618\",\"location\":{\"type\":\"Point\",\"coordinates\":[-87.653472,41.740626]},\"location_description\":\"RESIDENCE\",\"longitude\":\"-87.653472062\",\"primary_type\":\"ASSAULT\",\"updated_on\":\"2017-04-09T15:57:12.000\",\"ward\":\"21\",\"x_coordinate\":\"1169794\",\"y_coordinate\":\"1848808\",\"year\":\"2017\"}\n",
      ",{\"arrest\":false,\"beat\":\"2532\",\"block\":\"017XX N LOTUS AVE\",\"case_number\":\"JA209602\",\"community_area\":\"25\",\"date\":\"2017-04-02T08:35:00.000\",\"description\":\"TELEPHONE THREAT\",\"district\":\"025\",\"domestic\":false,\"fbi_code\":\"26\",\"id\":\"10898144\",\"iucr\":\"2820\",\"latitude\":\"41.911931766\",\"location\":{\"type\":\"Point\",\"coordinates\":[-87.761864,41.911932]},\"location_description\":\"RESIDENCE\",\"longitude\":\"-87.761863737\",\"primary_type\":\"OTHER OFFENSE\",\"updated_on\":\"2017-04-09T15:57:12.000\",\"ward\":\"37\",\"x_coordinate\":\"1139797\",\"y_coordinate\":\"1911016\",\"year\":\"2017\"}\n",
      ",{\"arrest\":false,\"beat\":\"0215\",\"block\":\"043XX S STATE ST\",\"case_number\":\"JA209531\",\"community_area\":\"38\",\"date\":\"2017-04-02T08:36:00.000\",\"description\":\"ATTEMPT: ARMED-HANDGUN\",\"district\":\"002\",\"domestic\":false,\"fbi_code\":\"03\",\"id\":\"10898735\",\"iucr\":\"033A\",\"latitude\":\"41.815542373\",\"location\":{\"type\":\"Point\",\"coordinates\":[-87.62625,41.815542]},\"location_description\":\"SIDEWALK\",\"longitude\":\"-87.626249524\",\"primary_type\":\"ROBBERY\",\"updated_on\":\"2017-04-09T15:57:12.000\",\"ward\":\"3\",\"x_coordinate\":\"1176999\",\"y_coordinate\":\"1876167\",\"year\":\"2017\"}\n",
      ",{\"arrest\":true,\"beat\":\"2534\",\"block\":\"015XX N KILDARE AVE\",\"case_number\":\"JA209546\",\"community_area\":\"23\",\"date\":\"2017-04-02T08:44:00.000\",\"description\":\"AGGRAVATED DOMESTIC BATTERY: KNIFE/CUTTING INST\",\"district\":\"025\",\"domestic\":true,\"fbi_code\":\"04B\",\"id\":\"10898063\",\"iucr\":\"0496\",\"latitude\":\"41.908353075\",\"location\":{\"type\":\"Point\",\"coordinates\":[-87.733836,41.908353]},\"location_description\":\"APARTMENT\",\"longitude\":\"-87.733835816\",\"primary_type\":\"BATTERY\",\"updated_on\":\"2017-04-09T15:57:12.000\",\"ward\":\"37\",\"x_coordinate\":\"1147435\",\"y_coordinate\":\"1909764\",\"year\":\"2017\"}\n",
      ",{\"arrest\":false,\"beat\":\"2222\",\"block\":\"090XX S MAY ST\",\"case_number\":\"JA209638\",\"community_area\":\"73\",\"date\":\"2017-04-02T08:45:00.000\",\"description\":\"FORCIBLE ENTRY\",\"district\":\"022\",\"domestic\":false,\"fbi_code\":\"05\",\"id\":\"10898172\",\"iucr\":\"0610\",\"latitude\":\"41.729691469\",\"location\":{\"type\":\"Point\",\"coordinates\":[-87.651946,41.729691]},\"location_description\":\"RESIDENCE\",\"longitude\":\"-87.651946112\",\"primary_type\":\"BURGLARY\",\"updated_on\":\"2017-04-09T15:57:12.000\",\"ward\":\"21\",\"x_coordinate\":\"1170242\",\"y_coordinate\":\"1844827\",\"year\":\"2017\"}\n",
      ",{\"arrest\":false,\"beat\":\"1133\",\"block\":\"035XX W FLOURNOY ST\",\"case_number\":\"JA209660\",\"community_area\":\"27\",\"date\":\"2017-04-02T08:45:00.000\",\"description\":\"DOMESTIC BATTERY SIMPLE\",\"district\":\"011\",\"domestic\":true,\"fbi_code\":\"08B\",\"id\":\"10898160\",\"iucr\":\"0486\",\"latitude\":\"41.872678215\",\"location\":{\"type\":\"Point\",\"coordinates\":[-87.714239,41.872678]},\"location_description\":\"APARTMENT\",\"longitude\":\"-87.714239472\",\"primary_type\":\"BATTERY\",\"updated_on\":\"2017-04-09T15:57:12.000\",\"ward\":\"24\",\"x_coordinate\":\"1152863\",\"y_coordinate\":\"1896802\",\"year\":\"2017\"}\n",
      ",{\"arrest\":false,\"beat\":\"2521\",\"block\":\"050XX W OAKDALE AVE\",\"case_number\":\"JA209635\",\"community_area\":\"19\",\"date\":\"2017-04-02T08:55:00.000\",\"description\":\"HARASSMENT BY ELECTRONIC MEANS\",\"district\":\"025\",\"domestic\":false,\"fbi_code\":\"26\",\"id\":\"10898128\",\"iucr\":\"2826\",\"latitude\":\"41.934193404\",\"location\":{\"type\":\"Point\",\"coordinates\":[-87.752653,41.934193]},\"location_description\":\"RESIDENCE\",\"longitude\":\"-87.752653465\",\"primary_type\":\"OTHER OFFENSE\",\"updated_on\":\"2017-04-09T15:57:12.000\",\"ward\":\"31\",\"x_coordinate\":\"1142249\",\"y_coordinate\":\"1919145\",\"year\":\"2017\"}\n",
      ",{\"arrest\":false,\"beat\":\"2232\",\"block\":\"005XX W 103RD PL\",\"case_number\":\"JA238237\",\"community_area\":\"49\",\"date\":\"2017-04-02T09:00:00.000\",\"description\":\"FORGERY\",\"district\":\"022\",\"domestic\":false,\"fbi_code\":\"10\",\"id\":\"10923928\",\"iucr\":\"1120\",\"latitude\":\"41.706082065\",\"location\":{\"type\":\"Point\",\"coordinates\":[-87.636386,41.706082]},\"location_description\":\"RESIDENCE\",\"longitude\":\"-87.636385879\",\"primary_type\":\"DECEPTIVE PRACTICE\",\"updated_on\":\"2017-04-27T15:49:00.000\",\"ward\":\"34\",\"x_coordinate\":\"1174559\",\"y_coordinate\":\"1836258\",\"year\":\"2017\"}\n",
      ",{\"arrest\":false,\"beat\":\"2534\",\"block\":\"019XX N KEDVALE AVE\",\"case_number\":\"JA233655\",\"community_area\":\"20\",\"date\":\"2017-04-02T09:00:00.000\",\"description\":\"VEHICULAR HIJACKING\",\"district\":\"025\",\"domestic\":false,\"fbi_code\":\"03\",\"id\":\"10920532\",\"iucr\":\"0325\",\"latitude\":\"41.915938216\",\"location\":{\"type\":\"Point\",\"coordinates\":[-87.730183,41.915938]},\"location_description\":\"PARKING LOT/GARAGE(NON.RESID.)\",\"longitude\":\"-87.730182538\",\"primary_type\":\"ROBBERY\",\"updated_on\":\"2017-04-24T15:54:56.000\",\"ward\":\"30\",\"x_coordinate\":\"1148410\",\"y_coordinate\":\"1912535\",\"year\":\"2017\"}\n",
      ",{\"arrest\":false,\"beat\":\"2432\",\"block\":\"066XX N CLARK ST\",\"case_number\":\"JA228468\",\"community_area\":\"1\",\"date\":\"2017-04-02T09:00:00.000\",\"description\":\"TO VEHICLE\",\"district\":\"024\",\"domestic\":false,\"fbi_code\":\"14\",\"id\":\"10915026\",\"iucr\":\"1320\",\"latitude\":\"42.00286321\",\"location\":{\"type\":\"Point\",\"coordinates\":[-87.672258,42.002863]},\"location_description\":\"STREET\",\"longitude\":\"-87.672258257\",\"primary_type\":\"CRIMINAL DAMAGE\",\"updated_on\":\"2017-04-20T15:55:54.000\",\"ward\":\"49\",\"x_coordinate\":\"1163931\",\"y_coordinate\":\"1944327\",\"year\":\"2017\"}\n",
      ",{\"arrest\":false,\"beat\":\"0314\",\"block\":\"063XX S MINERVA AVE\",\"case_number\":\"JA226017\",\"community_area\":\"42\",\"date\":\"2017-04-02T09:00:00.000\",\"description\":\"UNLAWFUL ENTRY\",\"district\":\"003\",\"domestic\":false,\"fbi_code\":\"05\",\"id\":\"10913244\",\"iucr\":\"0620\",\"latitude\":\"41.778871742\",\"location\":{\"type\":\"Point\",\"coordinates\":[-87.596314,41.778872]},\"location_description\":\"RESIDENCE\",\"longitude\":\"-87.59631384\",\"primary_type\":\"BURGLARY\",\"updated_on\":\"2017-04-20T15:58:21.000\",\"ward\":\"20\",\"x_coordinate\":\"1185274\",\"y_coordinate\":\"1862873\",\"year\":\"2017\"}\n",
      ",{\"arrest\":false,\"beat\":\"1222\",\"block\":\"002XX N SACRAMENTO BLVD\",\"case_number\":\"JA212204\",\"community_area\":\"27\",\"date\":\"2017-04-02T09:00:00.000\",\"description\":\"CRIMINAL DEFACEMENT\",\"district\":\"012\",\"domestic\":false,\"fbi_code\":\"14\",\"id\":\"10900598\",\"iucr\":\"1305\",\"latitude\":\"41.885887384\",\"location\":{\"type\":\"Point\",\"coordinates\":[-87.701343,41.885887]},\"location_description\":\"RESIDENCE\",\"longitude\":\"-87.701342939\",\"primary_type\":\"CRIMINAL DAMAGE\",\"updated_on\":\"2017-04-09T15:57:12.000\",\"ward\":\"27\",\"x_coordinate\":\"1156340\",\"y_coordinate\":\"1901641\",\"year\":\"2017\"}\n",
      ",{\"arrest\":false,\"beat\":\"2521\",\"block\":\"050XX W DRUMMOND PL\",\"case_number\":\"JA211422\",\"community_area\":\"19\",\"date\":\"2017-04-02T09:00:00.000\",\"description\":\"VIOLATION OF CIVIL NO CONTACT ORDER\",\"district\":\"025\",\"domestic\":true,\"fbi_code\":\"26\",\"id\":\"10899716\",\"iucr\":\"4386\",\"latitude\":\"41.92874287\",\"location\":{\"type\":\"Point\",\"coordinates\":[-87.752012,41.928743]},\"location_description\":\"APARTMENT\",\"longitude\":\"-87.75201202\",\"primary_type\":\"OTHER OFFENSE\",\"updated_on\":\"2017-04-09T15:57:12.000\",\"ward\":\"31\",\"x_coordinate\":\"1142437\",\"y_coordinate\":\"1917160\",\"year\":\"2017\"}\n",
      ",{\"arrest\":false,\"beat\":\"1934\",\"block\":\"006XX W BARRY AVE\",\"case_number\":\"JA210868\",\"community_area\":\"6\",\"date\":\"2017-04-02T09:00:00.000\",\"description\":\"TO PROPERTY\",\"district\":\"019\",\"domestic\":false,\"fbi_code\":\"14\",\"id\":\"10899311\",\"iucr\":\"1310\",\"latitude\":\"41.93788381\",\"location\":{\"type\":\"Point\",\"coordinates\":[-87.645724,41.937884]},\"location_description\":\"CHURCH/SYNAGOGUE/PLACE OF WORSHIP\",\"longitude\":\"-87.645724464\",\"primary_type\":\"CRIMINAL DAMAGE\",\"updated_on\":\"2017-04-09T15:57:12.000\",\"ward\":\"44\",\"x_coordinate\":\"1171333\",\"y_coordinate\":\"1920705\",\"year\":\"2017\"}\n",
      ",{\"arrest\":false,\"beat\":\"0311\",\"block\":\"061XX S DR MARTIN LUTHER KING JR DR\",\"case_number\":\"JA210237\",\"community_area\":\"40\",\"date\":\"2017-04-02T09:00:00.000\",\"description\":\"CREDIT CARD FRAUD\",\"district\":\"003\",\"domestic\":false,\"fbi_code\":\"11\",\"id\":\"10898613\",\"iucr\":\"1150\",\"latitude\":\"41.782913276\",\"location\":{\"type\":\"Point\",\"coordinates\":[-87.615693,41.782913]},\"location_description\":\"SIDEWALK\",\"longitude\":\"-87.615692855\",\"primary_type\":\"DECEPTIVE PRACTICE\",\"updated_on\":\"2017-04-09T15:57:12.000\",\"ward\":\"20\",\"x_coordinate\":\"1179976\",\"y_coordinate\":\"1864301\",\"year\":\"2017\"}\n",
      ",{\"arrest\":false,\"beat\":\"1031\",\"block\":\"043XX W 31ST ST\",\"case_number\":\"JA210188\",\"community_area\":\"30\",\"date\":\"2017-04-02T09:00:00.000\",\"description\":\"TO VEHICLE\",\"district\":\"010\",\"domestic\":false,\"fbi_code\":\"14\",\"id\":\"10898564\",\"iucr\":\"1320\",\"latitude\":\"41.836779785\",\"location\":{\"type\":\"Point\",\"coordinates\":[-87.733227,41.83678]},\"location_description\":\"APARTMENT\",\"longitude\":\"-87.733227232\",\"primary_type\":\"CRIMINAL DAMAGE\",\"updated_on\":\"2017-04-09T15:57:12.000\",\"ward\":\"22\",\"x_coordinate\":\"1147783\",\"y_coordinate\":\"1883684\",\"year\":\"2017\"}\n",
      ",{\"arrest\":false,\"beat\":\"0624\",\"block\":\"010XX E 75TH ST\",\"case_number\":\"JA209888\",\"community_area\":\"69\",\"date\":\"2017-04-02T09:00:00.000\",\"description\":\"OVER $500\",\"district\":\"006\",\"domestic\":false,\"fbi_code\":\"06\",\"id\":\"10898356\",\"iucr\":\"0810\",\"latitude\":\"41.758638324\",\"location\":{\"type\":\"Point\",\"coordinates\":[-87.600214,41.758638]},\"location_description\":\"STREET\",\"longitude\":\"-87.600214218\",\"primary_type\":\"THEFT\",\"updated_on\":\"2017-04-09T15:57:12.000\",\"ward\":\"8\",\"x_coordinate\":\"1184273\",\"y_coordinate\":\"1855491\",\"year\":\"2017\"}\n",
      ",{\"arrest\":false,\"beat\":\"0322\",\"block\":\"070XX S DR MARTIN LUTHER KING JR DR\",\"case_number\":\"JA209782\",\"community_area\":\"69\",\"date\":\"2017-04-02T09:00:00.000\",\"description\":\"AUTOMOBILE\",\"district\":\"003\",\"domestic\":false,\"fbi_code\":\"07\",\"id\":\"10898281\",\"iucr\":\"0910\",\"latitude\":\"41.76729305\",\"location\":{\"type\":\"Point\",\"coordinates\":[-87.615299,41.767293]},\"location_description\":\"STREET\",\"longitude\":\"-87.61529879\",\"primary_type\":\"MOTOR VEHICLE THEFT\",\"updated_on\":\"2017-04-09T15:57:12.000\",\"ward\":\"6\",\"x_coordinate\":\"1180131\",\"y_coordinate\":\"1858610\",\"year\":\"2017\"}\n",
      ",{\"arrest\":false,\"beat\":\"1833\",\"block\":\"001XX E CHESTNUT ST\",\"case_number\":\"JA209841\",\"community_area\":\"8\",\"date\":\"2017-04-02T09:00:00.000\",\"description\":\"$500 AND UNDER\",\"district\":\"018\",\"domestic\":false,\"fbi_code\":\"06\",\"id\":\"10898257\",\"iucr\":\"0820\",\"latitude\":\"41.89837293\",\"location\":{\"type\":\"Point\",\"coordinates\":[-87.625035,41.898373]},\"location_description\":\"PARKING LOT/GARAGE(NON.RESID.)\",\"longitude\":\"-87.625035314\",\"primary_type\":\"THEFT\",\"updated_on\":\"2017-04-09T15:57:12.000\",\"ward\":\"42\",\"x_coordinate\":\"1177081\",\"y_coordinate\":\"1906353\",\"year\":\"2017\"}\n",
      ",{\"arrest\":false,\"beat\":\"1434\",\"block\":\"018XX N MILWAUKEE AVE\",\"case_number\":\"JA209699\",\"community_area\":\"22\",\"date\":\"2017-04-02T09:00:00.000\",\"description\":\"TO VEHICLE\",\"district\":\"014\",\"domestic\":false,\"fbi_code\":\"14\",\"id\":\"10898168\",\"iucr\":\"1320\",\"latitude\":\"41.91466597\",\"location\":{\"type\":\"Point\",\"coordinates\":[-87.684085,41.914666]},\"location_description\":\"STREET\",\"longitude\":\"-87.684084881\",\"primary_type\":\"CRIMINAL DAMAGE\",\"updated_on\":\"2017-04-09T15:57:12.000\",\"ward\":\"1\",\"x_coordinate\":\"1160960\",\"y_coordinate\":\"1912163\",\"year\":\"2017\"}\n",
      ",{\"arrest\":false,\"beat\":\"0424\",\"block\":\"083XX S BAKER AVE\",\"case_number\":\"JA209547\",\"community_area\":\"46\",\"date\":\"2017-04-02T09:00:00.000\",\"description\":\"SIMPLE\",\"district\":\"004\",\"domestic\":true,\"fbi_code\":\"08A\",\"id\":\"10898068\",\"iucr\":\"0560\",\"latitude\":\"41.742883417\",\"location\":{\"type\":\"Point\",\"coordinates\":[-87.549515,41.742883]},\"location_description\":\"RESIDENCE\",\"longitude\":\"-87.549515319\",\"primary_type\":\"ASSAULT\",\"updated_on\":\"2017-04-09T15:57:12.000\",\"ward\":\"7\",\"x_coordinate\":\"1198158\",\"y_coordinate\":\"1849872\",\"year\":\"2017\"}\n",
      ",{\"arrest\":true,\"beat\":\"0522\",\"block\":\"116XX S LAFAYETTE AVE\",\"case_number\":\"JA209552\",\"community_area\":\"53\",\"date\":\"2017-04-02T09:15:00.000\",\"description\":\"AGGRAVATED:KNIFE/CUTTING INSTR\",\"district\":\"005\",\"domestic\":false,\"fbi_code\":\"04A\",\"id\":\"10898173\",\"iucr\":\"0520\",\"latitude\":\"41.682254272\",\"location\":{\"type\":\"Point\",\"coordinates\":[-87.624028,41.682254]},\"location_description\":\"RESIDENTIAL YARD (FRONT/BACK)\",\"longitude\":\"-87.624027895\",\"primary_type\":\"ASSAULT\",\"updated_on\":\"2017-04-09T15:57:12.000\",\"ward\":\"34\",\"x_coordinate\":\"1178005\",\"y_coordinate\":\"1827603\",\"year\":\"2017\"}\n",
      ",{\"arrest\":true,\"beat\":\"1821\",\"block\":\"004XX W DIVISION ST\",\"case_number\":\"JA209555\",\"community_area\":\"8\",\"date\":\"2017-04-02T09:20:00.000\",\"description\":\"RETAIL THEFT\",\"district\":\"018\",\"domestic\":false,\"fbi_code\":\"06\",\"id\":\"10898036\",\"iucr\":\"0860\",\"latitude\":\"41.903775756\",\"location\":{\"type\":\"Point\",\"coordinates\":[-87.639324,41.903776]},\"location_description\":\"GROCERY FOOD STORE\",\"longitude\":\"-87.639324074\",\"primary_type\":\"THEFT\",\"updated_on\":\"2017-04-12T15:49:36.000\",\"ward\":\"27\",\"x_coordinate\":\"1173175\",\"y_coordinate\":\"1908290\",\"year\":\"2017\"}\n",
      ",{\"arrest\":true,\"beat\":\"0735\",\"block\":\"071XX S WOLCOTT AVE\",\"case_number\":\"JA209571\",\"community_area\":\"67\",\"date\":\"2017-04-02T09:20:00.000\",\"description\":\"OBSTRUCTING IDENTIFICATION\",\"district\":\"007\",\"domestic\":false,\"fbi_code\":\"24\",\"id\":\"10898103\",\"iucr\":\"3731\",\"latitude\":\"41.764044073\",\"location\":{\"type\":\"Point\",\"coordinates\":[-87.671079,41.764044]},\"location_description\":\"ABANDONED BUILDING\",\"longitude\":\"-87.671079372\",\"primary_type\":\"INTERFERENCE WITH PUBLIC OFFICER\",\"updated_on\":\"2017-04-09T15:57:12.000\",\"ward\":\"17\",\"x_coordinate\":\"1164923\",\"y_coordinate\":\"1857304\",\"year\":\"2017\"}\n",
      ",{\"arrest\":false,\"beat\":\"0735\",\"block\":\"020XX W 70TH PL\",\"case_number\":\"JA209576\",\"community_area\":\"67\",\"date\":\"2017-04-02T09:30:00.000\",\"description\":\"AGG: HANDS/FIST/FEET NO/MINOR INJURY\",\"district\":\"007\",\"domestic\":true,\"fbi_code\":\"08B\",\"id\":\"10904134\",\"iucr\":\"0440\",\"location_description\":\"RESIDENCE\",\"primary_type\":\"BATTERY\",\"updated_on\":\"2017-04-17T16:05:36.000\",\"ward\":\"17\",\"year\":\"2017\"}\n",
      ",{\"arrest\":false,\"beat\":\"0613\",\"block\":\"082XX S ELIZABETH ST\",\"case_number\":\"JA209614\",\"community_area\":\"71\",\"date\":\"2017-04-02T09:30:00.000\",\"description\":\"OTHER CRIME AGAINST PERSON\",\"district\":\"006\",\"domestic\":false,\"fbi_code\":\"26\",\"id\":\"10898630\",\"iucr\":\"5000\",\"latitude\":\"41.744154318\",\"location\":{\"type\":\"Point\",\"coordinates\":[-87.654783,41.744154]},\"location_description\":\"RESIDENCE\",\"longitude\":\"-87.654783312\",\"primary_type\":\"OTHER OFFENSE\",\"updated_on\":\"2017-04-09T15:57:12.000\",\"ward\":\"21\",\"x_coordinate\":\"1169426\",\"y_coordinate\":\"1850091\",\"year\":\"2017\"}\n",
      ",{\"arrest\":false,\"beat\":\"0823\",\"block\":\"063XX S RICHMOND ST\",\"case_number\":\"JA209669\",\"community_area\":\"66\",\"date\":\"2017-04-02T09:30:00.000\",\"description\":\"TELEPHONE THREAT\",\"district\":\"008\",\"domestic\":true,\"fbi_code\":\"26\",\"id\":\"10898256\",\"iucr\":\"2820\",\"latitude\":\"41.778139962\",\"location\":{\"type\":\"Point\",\"coordinates\":[-87.697024,41.77814]},\"location_description\":\"RESIDENCE\",\"longitude\":\"-87.697023536\",\"primary_type\":\"OTHER OFFENSE\",\"updated_on\":\"2017-04-09T15:57:12.000\",\"ward\":\"15\",\"x_coordinate\":\"1157807\",\"y_coordinate\":\"1862387\",\"year\":\"2017\"}\n",
      ",{\"arrest\":false,\"beat\":\"0412\",\"block\":\"085XX S SOUTH CHICAGO AVE\",\"case_number\":\"JA209780\",\"community_area\":\"46\",\"date\":\"2017-04-02T09:30:00.000\",\"description\":\"$500 AND UNDER\",\"district\":\"004\",\"domestic\":false,\"fbi_code\":\"06\",\"id\":\"10898251\",\"iucr\":\"0820\",\"latitude\":\"41.738858702\",\"location\":{\"type\":\"Point\",\"coordinates\":[-87.568009,41.738859]},\"location_description\":\"STREET\",\"longitude\":\"-87.56800895\",\"primary_type\":\"THEFT\",\"updated_on\":\"2017-04-09T15:57:12.000\",\"ward\":\"8\",\"x_coordinate\":\"1193124\",\"y_coordinate\":\"1848360\",\"year\":\"2017\"}\n",
      ",{\"arrest\":false,\"beat\":\"0533\",\"block\":\"130XX S CHAMPLAIN AVE\",\"case_number\":\"JA209579\",\"community_area\":\"54\",\"date\":\"2017-04-02T09:30:00.000\",\"description\":\"DOMESTIC BATTERY SIMPLE\",\"district\":\"005\",\"domestic\":true,\"fbi_code\":\"08B\",\"id\":\"10898102\",\"iucr\":\"0486\",\"latitude\":\"41.657676054\",\"location\":{\"type\":\"Point\",\"coordinates\":[-87.605174,41.657676]},\"location_description\":\"CHA APARTMENT\",\"longitude\":\"-87.605173516\",\"primary_type\":\"BATTERY\",\"updated_on\":\"2017-04-09T15:57:12.000\",\"ward\":\"9\",\"x_coordinate\":\"1183231\",\"y_coordinate\":\"1818690\",\"year\":\"2017\"}\n",
      ",{\"arrest\":false,\"beat\":\"1712\",\"block\":\"049XX N BERNARD ST\",\"case_number\":\"JA209577\",\"community_area\":\"14\",\"date\":\"2017-04-02T09:30:00.000\",\"description\":\"SIMPLE\",\"district\":\"017\",\"domestic\":false,\"fbi_code\":\"08B\",\"id\":\"10898092\",\"iucr\":\"0460\",\"latitude\":\"41.970599981\",\"location\":{\"type\":\"Point\",\"coordinates\":[-87.714649,41.9706]},\"location_description\":\"NURSING HOME/RETIREMENT HOME\",\"longitude\":\"-87.714649091\",\"primary_type\":\"BATTERY\",\"updated_on\":\"2017-04-09T15:57:12.000\",\"ward\":\"39\",\"x_coordinate\":\"1152494\",\"y_coordinate\":\"1932484\",\"year\":\"2017\"}\n",
      ",{\"arrest\":false,\"beat\":\"0631\",\"block\":\"009XX E 80TH ST\",\"case_number\":\"JA209613\",\"community_area\":\"44\",\"date\":\"2017-04-02T09:30:00.000\",\"description\":\"FALSE/STOLEN/ALTERED TRP\",\"district\":\"006\",\"domestic\":false,\"fbi_code\":\"26\",\"id\":\"10898083\",\"iucr\":\"502P\",\"latitude\":\"41.749502396\",\"location\":{\"type\":\"Point\",\"coordinates\":[-87.601051,41.749502]},\"location_description\":\"STREET\",\"longitude\":\"-87.601051102\",\"primary_type\":\"OTHER OFFENSE\",\"updated_on\":\"2017-04-09T15:57:12.000\",\"ward\":\"8\",\"x_coordinate\":\"1184073\",\"y_coordinate\":\"1852160\",\"year\":\"2017\"}\n",
      ",{\"arrest\":false,\"beat\":\"2223\",\"block\":\"092XX S GREEN ST\",\"case_number\":\"JA209565\",\"community_area\":\"73\",\"date\":\"2017-04-02T09:40:00.000\",\"description\":\"TO VEHICLE\",\"district\":\"022\",\"domestic\":false,\"fbi_code\":\"14\",\"id\":\"10898061\",\"iucr\":\"1320\",\"latitude\":\"41.7259151\",\"location\":{\"type\":\"Point\",\"coordinates\":[-87.64455,41.725915]},\"location_description\":\"STREET\",\"longitude\":\"-87.644549527\",\"primary_type\":\"CRIMINAL DAMAGE\",\"updated_on\":\"2017-04-09T15:57:12.000\",\"ward\":\"21\",\"x_coordinate\":\"1172272\",\"y_coordinate\":\"1843467\",\"year\":\"2017\"}\n",
      ",{\"arrest\":true,\"beat\":\"1524\",\"block\":\"008XX N LOCKWOOD AVE\",\"case_number\":\"JA209619\",\"community_area\":\"25\",\"date\":\"2017-04-02T09:42:00.000\",\"description\":\"POSS: HEROIN(WHITE)\",\"district\":\"015\",\"domestic\":false,\"fbi_code\":\"18\",\"id\":\"10898118\",\"iucr\":\"2024\",\"latitude\":\"41.895386977\",\"location\":{\"type\":\"Point\",\"coordinates\":[-87.758063,41.895387]},\"location_description\":\"SIDEWALK\",\"longitude\":\"-87.758062808\",\"primary_type\":\"NARCOTICS\",\"updated_on\":\"2017-04-09T15:57:12.000\",\"ward\":\"37\",\"x_coordinate\":\"1140872\",\"y_coordinate\":\"1904994\",\"year\":\"2017\"}\n",
      ",{\"arrest\":true,\"beat\":\"2532\",\"block\":\"014XX N LARAMIE AVE\",\"case_number\":\"JA209637\",\"community_area\":\"25\",\"date\":\"2017-04-02T09:44:00.000\",\"description\":\"TO PROPERTY\",\"district\":\"025\",\"domestic\":false,\"fbi_code\":\"14\",\"id\":\"10898165\",\"iucr\":\"1310\",\"latitude\":\"41.906696005\",\"location\":{\"type\":\"Point\",\"coordinates\":[-87.755878,41.906696]},\"location_description\":\"APARTMENT\",\"longitude\":\"-87.755878347\",\"primary_type\":\"CRIMINAL DAMAGE\",\"updated_on\":\"2017-04-09T15:57:12.000\",\"ward\":\"37\",\"x_coordinate\":\"1141439\",\"y_coordinate\":\"1909119\",\"year\":\"2017\"}\n",
      ",{\"arrest\":false,\"beat\":\"1713\",\"block\":\"033XX W EASTWOOD AVE\",\"case_number\":\"JA209628\",\"community_area\":\"14\",\"date\":\"2017-04-02T09:45:00.000\",\"description\":\"TELEPHONE THREAT\",\"district\":\"017\",\"domestic\":true,\"fbi_code\":\"26\",\"id\":\"10898100\",\"iucr\":\"2820\",\"latitude\":\"41.965553431\",\"location\":{\"type\":\"Point\",\"coordinates\":[-87.712117,41.965553]},\"location_description\":\"APARTMENT\",\"longitude\":\"-87.712116667\",\"primary_type\":\"OTHER OFFENSE\",\"updated_on\":\"2017-04-09T15:57:12.000\",\"ward\":\"33\",\"x_coordinate\":\"1153196\",\"y_coordinate\":\"1930650\",\"year\":\"2017\"}\n",
      ",{\"arrest\":false,\"beat\":\"0933\",\"block\":\"050XX S ELIZABETH ST\",\"case_number\":\"JA214494\",\"community_area\":\"61\",\"date\":\"2017-04-02T10:00:00.000\",\"description\":\"$500 AND UNDER\",\"district\":\"009\",\"domestic\":false,\"fbi_code\":\"06\",\"id\":\"10902995\",\"iucr\":\"0820\",\"latitude\":\"41.802446602\",\"location\":{\"type\":\"Point\",\"coordinates\":[-87.6563,41.802447]},\"location_description\":\"RESIDENTIAL YARD (FRONT/BACK)\",\"longitude\":\"-87.656299547\",\"primary_type\":\"THEFT\",\"updated_on\":\"2017-04-10T15:48:51.000\",\"ward\":\"16\",\"x_coordinate\":\"1168845\",\"y_coordinate\":\"1871329\",\"year\":\"2017\"}\n",
      ",{\"arrest\":false,\"beat\":\"1524\",\"block\":\"010XX N LATROBE AVE\",\"case_number\":\"JA211436\",\"community_area\":\"25\",\"date\":\"2017-04-02T10:00:00.000\",\"description\":\"TO VEHICLE\",\"district\":\"015\",\"domestic\":false,\"fbi_code\":\"14\",\"id\":\"10899685\",\"iucr\":\"1320\",\"latitude\":\"41.899033874\",\"location\":{\"type\":\"Point\",\"coordinates\":[-87.756928,41.899034]},\"location_description\":\"STREET\",\"longitude\":\"-87.756928122\",\"primary_type\":\"CRIMINAL DAMAGE\",\"updated_on\":\"2017-04-09T15:57:12.000\",\"ward\":\"37\",\"x_coordinate\":\"1141172\",\"y_coordinate\":\"1906325\",\"year\":\"2017\"}\n",
      ",{\"arrest\":false,\"beat\":\"1624\",\"block\":\"053XX W CULLOM AVE\",\"case_number\":\"JA209793\",\"community_area\":\"15\",\"date\":\"2017-04-02T10:00:00.000\",\"description\":\"FORCIBLE ENTRY\",\"district\":\"016\",\"domestic\":false,\"fbi_code\":\"05\",\"id\":\"10898760\",\"iucr\":\"0610\",\"latitude\":\"41.95873612\",\"location\":{\"type\":\"Point\",\"coordinates\":[-87.760534,41.958736]},\"location_description\":\"RESIDENCE-GARAGE\",\"longitude\":\"-87.760533949\",\"primary_type\":\"BURGLARY\",\"updated_on\":\"2017-04-09T15:57:12.000\",\"ward\":\"38\",\"x_coordinate\":\"1140045\",\"y_coordinate\":\"1928074\",\"year\":\"2017\"}\n",
      ",{\"arrest\":false,\"beat\":\"2233\",\"block\":\"107XX S WALLACE ST\",\"case_number\":\"JA210255\",\"community_area\":\"49\",\"date\":\"2017-04-02T10:00:00.000\",\"description\":\"$500 AND UNDER\",\"district\":\"022\",\"domestic\":false,\"fbi_code\":\"06\",\"id\":\"10898757\",\"iucr\":\"0820\",\"latitude\":\"41.698757356\",\"location\":{\"type\":\"Point\",\"coordinates\":[-87.637728,41.698757]},\"location_description\":\"RESIDENTIAL YARD (FRONT/BACK)\",\"longitude\":\"-87.637728276\",\"primary_type\":\"THEFT\",\"updated_on\":\"2017-04-09T15:57:12.000\",\"ward\":\"34\",\"x_coordinate\":\"1174214\",\"y_coordinate\":\"1833586\",\"year\":\"2017\"}\n",
      ",{\"arrest\":false,\"beat\":\"0722\",\"block\":\"068XX S PERRY AVE\",\"case_number\":\"JA210278\",\"community_area\":\"69\",\"date\":\"2017-04-02T10:00:00.000\",\"description\":\"UNLAWFUL ENTRY\",\"district\":\"007\",\"domestic\":false,\"fbi_code\":\"05\",\"id\":\"10898595\",\"iucr\":\"0620\",\"latitude\":\"41.770079376\",\"location\":{\"type\":\"Point\",\"coordinates\":[-87.628289,41.770079]},\"location_description\":\"APARTMENT\",\"longitude\":\"-87.628288655\",\"primary_type\":\"BURGLARY\",\"updated_on\":\"2017-04-09T15:57:12.000\",\"ward\":\"6\",\"x_coordinate\":\"1176579\",\"y_coordinate\":\"1859596\",\"year\":\"2017\"}\n",
      ",{\"arrest\":false,\"beat\":\"0424\",\"block\":\"088XX S HOUSTON AVE\",\"case_number\":\"JA209979\",\"community_area\":\"46\",\"date\":\"2017-04-02T10:00:00.000\",\"description\":\"TO PROPERTY\",\"district\":\"004\",\"domestic\":false,\"fbi_code\":\"14\",\"id\":\"10898362\",\"iucr\":\"1310\",\"latitude\":\"41.734725032\",\"location\":{\"type\":\"Point\",\"coordinates\":[-87.549981,41.734725]},\"location_description\":\"RESIDENCE\",\"longitude\":\"-87.5499809\",\"primary_type\":\"CRIMINAL DAMAGE\",\"updated_on\":\"2017-04-09T15:57:12.000\",\"ward\":\"10\",\"x_coordinate\":\"1198058\",\"y_coordinate\":\"1846898\",\"year\":\"2017\"}\n",
      ",{\"arrest\":false,\"beat\":\"1732\",\"block\":\"035XX N KIMBALL AVE\",\"case_number\":\"JA209740\",\"community_area\":\"21\",\"date\":\"2017-04-02T10:00:00.000\",\"description\":\"AGGRAVATED:KNIFE/CUTTING INSTR\",\"district\":\"017\",\"domestic\":false,\"fbi_code\":\"04B\",\"id\":\"10898212\",\"iucr\":\"0420\",\"latitude\":\"41.945238279\",\"location\":{\"type\":\"Point\",\"coordinates\":[-87.71267,41.945238]},\"location_description\":\"ALLEY\",\"longitude\":\"-87.712670479\",\"primary_type\":\"BATTERY\",\"updated_on\":\"2017-04-09T15:57:12.000\",\"ward\":\"35\",\"x_coordinate\":\"1153099\",\"y_coordinate\":\"1923246\",\"year\":\"2017\"}\n",
      ",{\"arrest\":false,\"beat\":\"0925\",\"block\":\"002XX W 46TH PL\",\"case_number\":\"JA209724\",\"community_area\":\"37\",\"date\":\"2017-04-02T10:00:00.000\",\"description\":\"$500 AND UNDER\",\"district\":\"009\",\"domestic\":false,\"fbi_code\":\"06\",\"id\":\"10898208\",\"iucr\":\"0820\",\"latitude\":\"41.810278623\",\"location\":{\"type\":\"Point\",\"coordinates\":[-87.632481,41.810279]},\"location_description\":\"STREET\",\"longitude\":\"-87.632480821\",\"primary_type\":\"THEFT\",\"updated_on\":\"2017-04-09T15:57:12.000\",\"ward\":\"3\",\"x_coordinate\":\"1175316\",\"y_coordinate\":\"1874235\",\"year\":\"2017\"}\n",
      ",{\"arrest\":false,\"beat\":\"0412\",\"block\":\"086XX S SOUTH CHICAGO AVE\",\"case_number\":\"JA209584\",\"community_area\":\"46\",\"date\":\"2017-04-02T10:00:00.000\",\"description\":\"$500 AND UNDER\",\"district\":\"004\",\"domestic\":false,\"fbi_code\":\"06\",\"id\":\"10898075\",\"iucr\":\"0820\",\"latitude\":\"41.73831855\",\"location\":{\"type\":\"Point\",\"coordinates\":[-87.567257,41.738319]},\"location_description\":\"STREET\",\"longitude\":\"-87.567256917\",\"primary_type\":\"THEFT\",\"updated_on\":\"2017-04-09T15:57:12.000\",\"ward\":\"8\",\"x_coordinate\":\"1193331\",\"y_coordinate\":\"1848165\",\"year\":\"2017\"}\n",
      ",{\"arrest\":true,\"beat\":\"2011\",\"block\":\"029XX W PETERSON AVE\",\"case_number\":\"JA209636\",\"community_area\":\"2\",\"date\":\"2017-04-02T10:07:00.000\",\"description\":\"POSS: CANNABIS 30GMS OR LESS\",\"district\":\"020\",\"domestic\":false,\"fbi_code\":\"18\",\"id\":\"10898147\",\"iucr\":\"1811\",\"latitude\":\"41.990420838\",\"location\":{\"type\":\"Point\",\"coordinates\":[-87.703455,41.990421]},\"location_description\":\"COMMERCIAL / BUSINESS OFFICE\",\"longitude\":\"-87.70345501\",\"primary_type\":\"NARCOTICS\",\"updated_on\":\"2017-04-09T15:57:12.000\",\"ward\":\"40\",\"x_coordinate\":\"1155485\",\"y_coordinate\":\"1939729\",\"year\":\"2017\"}\n",
      ",{\"arrest\":false,\"beat\":\"0932\",\"block\":\"054XX S WINCHESTER AVE\",\"case_number\":\"JA209847\",\"community_area\":\"61\",\"date\":\"2017-04-02T10:10:00.000\",\"description\":\"$500 AND UNDER\",\"district\":\"009\",\"domestic\":false,\"fbi_code\":\"06\",\"id\":\"10898271\",\"iucr\":\"0820\",\"latitude\":\"41.795022394\",\"location\":{\"type\":\"Point\",\"coordinates\":[-87.673115,41.795022]},\"location_description\":\"RESIDENTIAL YARD (FRONT/BACK)\",\"longitude\":\"-87.673114922\",\"primary_type\":\"THEFT\",\"updated_on\":\"2017-04-21T15:48:43.000\",\"ward\":\"16\",\"x_coordinate\":\"1164281\",\"y_coordinate\":\"1868588\",\"year\":\"2017\"}\n",
      ",{\"arrest\":false,\"beat\":\"0925\",\"block\":\"045XX S PRINCETON AVE\",\"case_number\":\"JA209792\",\"community_area\":\"37\",\"date\":\"2017-04-02T10:15:00.000\",\"description\":\"OVER $500\",\"district\":\"009\",\"domestic\":false,\"fbi_code\":\"06\",\"id\":\"10898216\",\"iucr\":\"0810\",\"latitude\":\"41.811458999\",\"location\":{\"type\":\"Point\",\"coordinates\":[-87.633436,41.811459]},\"location_description\":\"STREET\",\"longitude\":\"-87.633436349\",\"primary_type\":\"THEFT\",\"updated_on\":\"2017-04-09T15:57:12.000\",\"ward\":\"3\",\"x_coordinate\":\"1175052\",\"y_coordinate\":\"1874663\",\"year\":\"2017\"}\n",
      ",{\"arrest\":false,\"beat\":\"1211\",\"block\":\"028XX W DIVISION ST\",\"case_number\":\"JA209615\",\"community_area\":\"24\",\"date\":\"2017-04-02T10:21:00.000\",\"description\":\"SIMPLE\",\"district\":\"012\",\"domestic\":false,\"fbi_code\":\"08A\",\"id\":\"10898125\",\"iucr\":\"0560\",\"latitude\":\"41.902922668\",\"location\":{\"type\":\"Point\",\"coordinates\":[-87.697193,41.902923]},\"location_description\":\"SIDEWALK\",\"longitude\":\"-87.697193006\",\"primary_type\":\"ASSAULT\",\"updated_on\":\"2017-04-09T15:57:12.000\",\"ward\":\"26\",\"x_coordinate\":\"1157424\",\"y_coordinate\":\"1907857\",\"year\":\"2017\"}\n",
      ",{\"arrest\":true,\"beat\":\"1524\",\"block\":\"052XX W CHICAGO AVE\",\"case_number\":\"JA209621\",\"community_area\":\"25\",\"date\":\"2017-04-02T10:26:00.000\",\"description\":\"SOLICIT NARCOTICS ON PUBLICWAY\",\"district\":\"015\",\"domestic\":false,\"fbi_code\":\"18\",\"id\":\"10898116\",\"iucr\":\"2092\",\"latitude\":\"41.894916758\",\"location\":{\"type\":\"Point\",\"coordinates\":[-87.757325,41.894917]},\"location_description\":\"SIDEWALK\",\"longitude\":\"-87.757325092\",\"primary_type\":\"NARCOTICS\",\"updated_on\":\"2017-04-09T15:57:12.000\",\"ward\":\"28\",\"x_coordinate\":\"1141074\",\"y_coordinate\":\"1904824\",\"year\":\"2017\"}\n",
      ",{\"arrest\":false,\"beat\":\"0811\",\"block\":\"053XX S NEWCASTLE AVE\",\"case_number\":\"JA213336\",\"community_area\":\"56\",\"date\":\"2017-04-02T10:30:00.000\",\"description\":\"FRAUD OR CONFIDENCE GAME\",\"district\":\"008\",\"domestic\":false,\"fbi_code\":\"11\",\"id\":\"10901703\",\"iucr\":\"1130\",\"latitude\":\"41.794973139\",\"location\":{\"type\":\"Point\",\"coordinates\":[-87.792873,41.794973]},\"location_description\":\"RESIDENCE\",\"longitude\":\"-87.792872554\",\"primary_type\":\"DECEPTIVE PRACTICE\",\"updated_on\":\"2017-04-10T15:48:51.000\",\"ward\":\"23\",\"x_coordinate\":\"1131625\",\"y_coordinate\":\"1868342\",\"year\":\"2017\"}\n",
      ",{\"arrest\":true,\"beat\":\"1222\",\"block\":\"002XX N SACRAMENTO BLVD\",\"case_number\":\"JA209853\",\"community_area\":\"27\",\"date\":\"2017-04-02T10:30:00.000\",\"description\":\"POSS: HEROIN(WHITE)\",\"district\":\"012\",\"domestic\":false,\"fbi_code\":\"18\",\"id\":\"10898310\",\"iucr\":\"2024\",\"latitude\":\"41.885906592\",\"location\":{\"type\":\"Point\",\"coordinates\":[-87.701343,41.885907]},\"location_description\":\"SIDEWALK\",\"longitude\":\"-87.701342749\",\"primary_type\":\"NARCOTICS\",\"updated_on\":\"2017-04-09T15:57:12.000\",\"ward\":\"27\",\"x_coordinate\":\"1156340\",\"y_coordinate\":\"1901648\",\"year\":\"2017\"}\n",
      ",{\"arrest\":false,\"beat\":\"0414\",\"block\":\"082XX S ANTHONY AVE\",\"case_number\":\"JA209804\",\"community_area\":\"45\",\"date\":\"2017-04-02T10:30:00.000\",\"description\":\"TO PROPERTY\",\"district\":\"004\",\"domestic\":false,\"fbi_code\":\"14\",\"id\":\"10898220\",\"iucr\":\"1310\",\"latitude\":\"41.745045341\",\"location\":{\"type\":\"Point\",\"coordinates\":[-87.579782,41.745045]},\"location_description\":\"RESIDENCE\",\"longitude\":\"-87.579782407\",\"primary_type\":\"CRIMINAL DAMAGE\",\"updated_on\":\"2017-04-09T15:57:12.000\",\"ward\":\"8\",\"x_coordinate\":\"1189891\",\"y_coordinate\":\"1850586\",\"year\":\"2017\"}\n",
      ",{\"arrest\":false,\"beat\":\"0112\",\"block\":\"001XX S WABASH AVE\",\"case_number\":\"JA209677\",\"community_area\":\"32\",\"date\":\"2017-04-02T10:30:00.000\",\"description\":\"OVER $500\",\"district\":\"001\",\"domestic\":false,\"fbi_code\":\"06\",\"id\":\"10898151\",\"iucr\":\"0810\",\"latitude\":\"41.879839662\",\"location\":{\"type\":\"Point\",\"coordinates\":[-87.62614,41.87984]},\"location_description\":\"PARKING LOT/GARAGE(NON.RESID.)\",\"longitude\":\"-87.626139678\",\"primary_type\":\"THEFT\",\"updated_on\":\"2017-04-09T15:57:12.000\",\"ward\":\"42\",\"x_coordinate\":\"1176836\",\"y_coordinate\":\"1899597\",\"year\":\"2017\"}\n",
      ",{\"arrest\":false,\"beat\":\"1231\",\"block\":\"013XX W FLOURNOY ST\",\"case_number\":\"JA209656\",\"community_area\":\"28\",\"date\":\"2017-04-02T10:30:00.000\",\"description\":\"FROM BUILDING\",\"district\":\"012\",\"domestic\":false,\"fbi_code\":\"06\",\"id\":\"10898130\",\"iucr\":\"0890\",\"latitude\":\"41.873173237\",\"location\":{\"type\":\"Point\",\"coordinates\":[-87.660749,41.873173]},\"location_description\":\"CHURCH/SYNAGOGUE/PLACE OF WORSHIP\",\"longitude\":\"-87.660749105\",\"primary_type\":\"THEFT\",\"updated_on\":\"2017-04-09T15:57:12.000\",\"ward\":\"25\",\"x_coordinate\":\"1167430\",\"y_coordinate\":\"1897092\",\"year\":\"2017\"}\n",
      ",{\"arrest\":true,\"beat\":\"2535\",\"block\":\"012XX N HAMLIN AVE\",\"case_number\":\"JA209627\",\"community_area\":\"23\",\"date\":\"2017-04-02T10:30:00.000\",\"description\":\"POSS: HEROIN(WHITE)\",\"district\":\"025\",\"domestic\":false,\"fbi_code\":\"18\",\"id\":\"10898117\",\"iucr\":\"2024\",\"latitude\":\"41.903433214\",\"location\":{\"type\":\"Point\",\"coordinates\":[-87.721455,41.903433]},\"location_description\":\"STREET\",\"longitude\":\"-87.721454621\",\"primary_type\":\"NARCOTICS\",\"updated_on\":\"2017-04-09T15:57:12.000\",\"ward\":\"27\",\"x_coordinate\":\"1150818\",\"y_coordinate\":\"1907995\",\"year\":\"2017\"}\n",
      ",{\"arrest\":true,\"beat\":\"0532\",\"block\":\"003XX E 120TH PL\",\"case_number\":\"JA209632\",\"community_area\":\"53\",\"date\":\"2017-04-02T10:37:00.000\",\"description\":\"OBSTRUCTING IDENTIFICATION\",\"district\":\"005\",\"domestic\":false,\"fbi_code\":\"24\",\"id\":\"10898115\",\"iucr\":\"3731\",\"latitude\":\"41.675387164\",\"location\":{\"type\":\"Point\",\"coordinates\":[-87.615944,41.675387]},\"location_description\":\"SIDEWALK\",\"longitude\":\"-87.615944211\",\"primary_type\":\"INTERFERENCE WITH PUBLIC OFFICER\",\"updated_on\":\"2017-04-09T15:57:12.000\",\"ward\":\"9\",\"x_coordinate\":\"1180234\",\"y_coordinate\":\"1825119\",\"year\":\"2017\"}\n",
      ",{\"arrest\":false,\"beat\":\"1824\",\"block\":\"011XX N DEARBORN ST\",\"case_number\":\"JA209692\",\"community_area\":\"8\",\"date\":\"2017-04-02T10:40:00.000\",\"description\":\"EXTORTION\",\"district\":\"018\",\"domestic\":false,\"fbi_code\":\"26\",\"id\":\"10898185\",\"iucr\":\"3970\",\"latitude\":\"41.902187338\",\"location\":{\"type\":\"Point\",\"coordinates\":[-87.629934,41.902187]},\"location_description\":\"RESIDENCE\",\"longitude\":\"-87.629933817\",\"primary_type\":\"INTIMIDATION\",\"updated_on\":\"2017-04-09T15:57:12.000\",\"ward\":\"42\",\"x_coordinate\":\"1175736\",\"y_coordinate\":\"1907732\",\"year\":\"2017\"}\n",
      ",{\"arrest\":false,\"beat\":\"0112\",\"block\":\"0000X E MONROE ST\",\"case_number\":\"JA209666\",\"community_area\":\"32\",\"date\":\"2017-04-02T10:45:00.000\",\"description\":\"FROM BUILDING\",\"district\":\"001\",\"domestic\":false,\"fbi_code\":\"06\",\"id\":\"10898152\",\"iucr\":\"0890\",\"latitude\":\"41.880775433\",\"location\":{\"type\":\"Point\",\"coordinates\":[-87.627029,41.880775]},\"location_description\":\"HOTEL/MOTEL\",\"longitude\":\"-87.627029031\",\"primary_type\":\"THEFT\",\"updated_on\":\"2017-04-09T15:57:12.000\",\"ward\":\"42\",\"x_coordinate\":\"1176591\",\"y_coordinate\":\"1899936\",\"year\":\"2017\"}\n",
      ",{\"arrest\":true,\"beat\":\"0522\",\"block\":\"0000X W 111TH PL\",\"case_number\":\"JA209646\",\"community_area\":\"49\",\"date\":\"2017-04-02T10:55:00.000\",\"description\":\"POSS: COCAINE\",\"district\":\"005\",\"domestic\":false,\"fbi_code\":\"18\",\"id\":\"10898153\",\"iucr\":\"2022\",\"latitude\":\"41.691669466\",\"location\":{\"type\":\"Point\",\"coordinates\":[-87.623928,41.691669]},\"location_description\":\"SIDEWALK\",\"longitude\":\"-87.623928131\",\"primary_type\":\"NARCOTICS\",\"updated_on\":\"2017-04-09T15:57:12.000\",\"ward\":\"34\",\"x_coordinate\":\"1178004\",\"y_coordinate\":\"1831034\",\"year\":\"2017\"}\n",
      ",{\"arrest\":true,\"beat\":\"0712\",\"block\":\"056XX S RACINE AVE\",\"case_number\":\"JA209674\",\"community_area\":\"68\",\"date\":\"2017-04-02T10:58:00.000\",\"description\":\"TO LAND\",\"district\":\"007\",\"domestic\":false,\"fbi_code\":\"26\",\"id\":\"10898280\",\"iucr\":\"1330\",\"latitude\":\"41.791350864\",\"location\":{\"type\":\"Point\",\"coordinates\":[-87.654803,41.791351]},\"location_description\":\"SMALL RETAIL STORE\",\"longitude\":\"-87.654802831\",\"primary_type\":\"CRIMINAL TRESPASS\",\"updated_on\":\"2017-04-09T15:57:12.000\",\"ward\":\"16\",\"x_coordinate\":\"1169285\",\"y_coordinate\":\"1867289\",\"year\":\"2017\"}\n",
      ",{\"arrest\":false,\"beat\":\"0632\",\"block\":\"086XX S VERNON AVE\",\"case_number\":\"JA217807\",\"community_area\":\"44\",\"date\":\"2017-04-02T11:00:00.000\",\"description\":\"OVER $500\",\"district\":\"006\",\"domestic\":false,\"fbi_code\":\"06\",\"id\":\"10905516\",\"iucr\":\"0810\",\"latitude\":\"41.737862118\",\"location\":{\"type\":\"Point\",\"coordinates\":[-87.612941,41.737862]},\"location_description\":\"RESIDENTIAL YARD (FRONT/BACK)\",\"longitude\":\"-87.612941035\",\"primary_type\":\"THEFT\",\"updated_on\":\"2017-04-10T15:48:51.000\",\"ward\":\"6\",\"x_coordinate\":\"1180864\",\"y_coordinate\":\"1847891\",\"year\":\"2017\"}\n",
      ",{\"arrest\":false,\"beat\":\"2413\",\"block\":\"023XX W ROSEMONT AVE\",\"case_number\":\"JA216473\",\"community_area\":\"2\",\"date\":\"2017-04-02T11:00:00.000\",\"description\":\"DOMESTIC BATTERY SIMPLE\",\"district\":\"024\",\"domestic\":true,\"fbi_code\":\"08B\",\"id\":\"10904548\",\"iucr\":\"0486\",\"latitude\":\"41.995927699\",\"location\":{\"type\":\"Point\",\"coordinates\":[-87.688984,41.995928]},\"location_description\":\"APARTMENT\",\"longitude\":\"-87.688983711\",\"primary_type\":\"BATTERY\",\"updated_on\":\"2017-04-10T15:48:51.000\",\"ward\":\"50\",\"x_coordinate\":\"1159404\",\"y_coordinate\":\"1941765\",\"year\":\"2017\"}\n",
      ",{\"arrest\":false,\"beat\":\"2513\",\"block\":\"016XX N MC VICKER AVE\",\"case_number\":\"JA210281\",\"community_area\":\"25\",\"date\":\"2017-04-02T11:00:00.000\",\"description\":\"DOMESTIC BATTERY SIMPLE\",\"district\":\"025\",\"domestic\":true,\"fbi_code\":\"08B\",\"id\":\"10898668\",\"iucr\":\"0486\",\"latitude\":\"41.910033128\",\"location\":{\"type\":\"Point\",\"coordinates\":[-87.776462,41.910033]},\"location_description\":\"APARTMENT\",\"longitude\":\"-87.776462038\",\"primary_type\":\"BATTERY\",\"updated_on\":\"2017-04-09T15:57:12.000\",\"ward\":\"29\",\"x_coordinate\":\"1135828\",\"y_coordinate\":\"1910298\",\"year\":\"2017\"}\n",
      ",{\"arrest\":false,\"beat\":\"1814\",\"block\":\"021XX N STOCKTON DR\",\"case_number\":\"JA209867\",\"community_area\":\"7\",\"date\":\"2017-04-02T11:00:00.000\",\"description\":\"OVER $500\",\"district\":\"018\",\"domestic\":false,\"fbi_code\":\"06\",\"id\":\"10898291\",\"iucr\":\"0810\",\"latitude\":\"41.920825416\",\"location\":{\"type\":\"Point\",\"coordinates\":[-87.635663,41.920825]},\"location_description\":\"STREET\",\"longitude\":\"-87.635663347\",\"primary_type\":\"THEFT\",\"updated_on\":\"2017-04-09T15:57:12.000\",\"ward\":\"43\",\"x_coordinate\":\"1174121\",\"y_coordinate\":\"1914511\",\"year\":\"2017\"}\n",
      ",{\"arrest\":false,\"beat\":\"1814\",\"block\":\"021XX N STOCKTON DR\",\"case_number\":\"JA209890\",\"community_area\":\"7\",\"date\":\"2017-04-02T11:00:00.000\",\"description\":\"CREDIT CARD FRAUD\",\"district\":\"018\",\"domestic\":false,\"fbi_code\":\"11\",\"id\":\"10898282\",\"iucr\":\"1150\",\"latitude\":\"41.920825416\",\"location\":{\"type\":\"Point\",\"coordinates\":[-87.635663,41.920825]},\"location_description\":\"STREET\",\"longitude\":\"-87.635663347\",\"primary_type\":\"DECEPTIVE PRACTICE\",\"updated_on\":\"2017-04-09T15:57:12.000\",\"ward\":\"43\",\"x_coordinate\":\"1174121\",\"y_coordinate\":\"1914511\",\"year\":\"2017\"}\n",
      ",{\"arrest\":false,\"beat\":\"1531\",\"block\":\"007XX N LEAMINGTON AVE\",\"case_number\":\"JA209708\",\"community_area\":\"25\",\"date\":\"2017-04-02T11:00:00.000\",\"description\":\"TELEPHONE THREAT\",\"district\":\"015\",\"domestic\":true,\"fbi_code\":\"26\",\"id\":\"10898186\",\"iucr\":\"2820\",\"latitude\":\"41.893614658\",\"location\":{\"type\":\"Point\",\"coordinates\":[-87.754332,41.893615]},\"location_description\":\"APARTMENT\",\"longitude\":\"-87.754332383\",\"primary_type\":\"OTHER OFFENSE\",\"updated_on\":\"2017-04-09T15:57:12.000\",\"ward\":\"28\",\"x_coordinate\":\"1141892\",\"y_coordinate\":\"1904355\",\"year\":\"2017\"}\n",
      ",{\"arrest\":false,\"beat\":\"2424\",\"block\":\"019XX W FARWELL AVE\",\"case_number\":\"JA209643\",\"community_area\":\"1\",\"date\":\"2017-04-02T11:00:00.000\",\"description\":\"SIMPLE\",\"district\":\"024\",\"domestic\":false,\"fbi_code\":\"08B\",\"id\":\"10898158\",\"iucr\":\"0460\",\"latitude\":\"42.006456056\",\"location\":{\"type\":\"Point\",\"coordinates\":[-87.679569,42.006456]},\"location_description\":\"APARTMENT\",\"longitude\":\"-87.679568722\",\"primary_type\":\"BATTERY\",\"updated_on\":\"2017-04-09T15:57:12.000\",\"ward\":\"49\",\"x_coordinate\":\"1161934\",\"y_coordinate\":\"1945621\",\"year\":\"2017\"}\n",
      ",{\"arrest\":false,\"beat\":\"1522\",\"block\":\"054XX W JACKSON BLVD\",\"case_number\":\"JA216111\",\"community_area\":\"25\",\"date\":\"2017-04-02T11:01:00.000\",\"description\":\"TELEPHONE THREAT\",\"district\":\"015\",\"domestic\":false,\"fbi_code\":\"26\",\"id\":\"10904293\",\"iucr\":\"2820\",\"latitude\":\"41.876582205\",\"location\":{\"type\":\"Point\",\"coordinates\":[-87.76057,41.876582]},\"location_description\":\"APARTMENT\",\"longitude\":\"-87.76057048\",\"primary_type\":\"OTHER OFFENSE\",\"updated_on\":\"2017-04-10T15:48:51.000\",\"ward\":\"29\",\"x_coordinate\":\"1140235\",\"y_coordinate\":\"1898137\",\"year\":\"2017\"}\n",
      ",{\"arrest\":false,\"beat\":\"2424\",\"block\":\"074XX N RIDGE BLVD\",\"case_number\":\"JA209647\",\"community_area\":\"1\",\"date\":\"2017-04-02T11:03:00.000\",\"description\":\"SIMPLE\",\"district\":\"024\",\"domestic\":false,\"fbi_code\":\"08A\",\"id\":\"10898164\",\"iucr\":\"0560\",\"latitude\":\"42.017114262\",\"location\":{\"type\":\"Point\",\"coordinates\":[-87.684369,42.017114]},\"location_description\":\"APARTMENT\",\"longitude\":\"-87.68436864\",\"primary_type\":\"ASSAULT\",\"updated_on\":\"2017-04-09T15:57:12.000\",\"ward\":\"49\",\"x_coordinate\":\"1160600\",\"y_coordinate\":\"1949495\",\"year\":\"2017\"}\n",
      ",{\"arrest\":false,\"beat\":\"0331\",\"block\":\"070XX S PAXTON AVE\",\"case_number\":\"JA210991\",\"community_area\":\"43\",\"date\":\"2017-04-02T11:13:00.000\",\"description\":\"AGGRAVATED DOMESTIC BATTERY: OTHER DANG WEAPON\",\"district\":\"003\",\"domestic\":false,\"fbi_code\":\"04B\",\"id\":\"10899475\",\"iucr\":\"0497\",\"latitude\":\"41.766875979\",\"location\":{\"type\":\"Point\",\"coordinates\":[-87.571422,41.766876]},\"location_description\":\"STREET\",\"longitude\":\"-87.571422312\",\"primary_type\":\"BATTERY\",\"updated_on\":\"2017-04-09T15:57:12.000\",\"ward\":\"5\",\"x_coordinate\":\"1192102\",\"y_coordinate\":\"1858561\",\"year\":\"2017\"}\n",
      ",{\"arrest\":false,\"beat\":\"0614\",\"block\":\"086XX S JUSTINE ST\",\"case_number\":\"JA210301\",\"community_area\":\"71\",\"date\":\"2017-04-02T11:15:00.000\",\"description\":\"STRONGARM - NO WEAPON\",\"district\":\"006\",\"domestic\":false,\"fbi_code\":\"03\",\"id\":\"10898693\",\"iucr\":\"0320\",\"latitude\":\"41.737025137\",\"location\":{\"type\":\"Point\",\"coordinates\":[-87.661882,41.737025]},\"location_description\":\"STREET\",\"longitude\":\"-87.66188211\",\"primary_type\":\"ROBBERY\",\"updated_on\":\"2017-04-09T15:57:12.000\",\"ward\":\"21\",\"x_coordinate\":\"1167509\",\"y_coordinate\":\"1847478\",\"year\":\"2017\"}\n",
      ",{\"arrest\":false,\"beat\":\"0421\",\"block\":\"077XX S SAGINAW AVE\",\"case_number\":\"JA209693\",\"community_area\":\"43\",\"date\":\"2017-04-02T11:20:00.000\",\"description\":\"TO PROPERTY\",\"district\":\"004\",\"domestic\":false,\"fbi_code\":\"14\",\"id\":\"10898579\",\"iucr\":\"1310\",\"latitude\":\"41.75465322\",\"location\":{\"type\":\"Point\",\"coordinates\":[-87.559971,41.754653]},\"location_description\":\"APARTMENT\",\"longitude\":\"-87.559971079\",\"primary_type\":\"CRIMINAL DAMAGE\",\"updated_on\":\"2017-04-09T15:57:12.000\",\"ward\":\"7\",\"x_coordinate\":\"1195266\",\"y_coordinate\":\"1854135\",\"year\":\"2017\"}\n",
      ",{\"arrest\":true,\"beat\":\"0921\",\"block\":\"029XX W 40TH ST\",\"case_number\":\"JA209749\",\"community_area\":\"58\",\"date\":\"2017-04-02T11:22:00.000\",\"description\":\"AGGRAVATED: HANDGUN\",\"district\":\"009\",\"domestic\":false,\"fbi_code\":\"04A\",\"id\":\"10898270\",\"iucr\":\"051A\",\"latitude\":\"41.820921301\",\"location\":{\"type\":\"Point\",\"coordinates\":[-87.698137,41.820921]},\"location_description\":\"STREET\",\"longitude\":\"-87.698137356\",\"primary_type\":\"ASSAULT\",\"updated_on\":\"2017-04-09T15:57:12.000\",\"ward\":\"14\",\"x_coordinate\":\"1157388\",\"y_coordinate\":\"1877974\",\"year\":\"2017\"}\n",
      ",{\"arrest\":true,\"beat\":\"0631\",\"block\":\"081XX S DREXEL AVE\",\"case_number\":\"JA209671\",\"community_area\":\"44\",\"date\":\"2017-04-02T11:25:00.000\",\"description\":\"DOMESTIC BATTERY SIMPLE\",\"district\":\"006\",\"domestic\":true,\"fbi_code\":\"08B\",\"id\":\"10898188\",\"iucr\":\"0486\",\"latitude\":\"41.746729695\",\"location\":{\"type\":\"Point\",\"coordinates\":[-87.602625,41.74673]},\"location_description\":\"APARTMENT\",\"longitude\":\"-87.602625355\",\"primary_type\":\"BATTERY\",\"updated_on\":\"2017-04-09T15:57:12.000\",\"ward\":\"8\",\"x_coordinate\":\"1183652\",\"y_coordinate\":\"1851146\",\"year\":\"2017\"}\n",
      ",{\"arrest\":true,\"beat\":\"1113\",\"block\":\"001XX S KOSTNER AVE\",\"case_number\":\"JA209698\",\"community_area\":\"26\",\"date\":\"2017-04-02T11:29:00.000\",\"description\":\"FALSE/STOLEN/ALTERED TRP\",\"district\":\"011\",\"domestic\":false,\"fbi_code\":\"26\",\"id\":\"10898201\",\"iucr\":\"502P\",\"latitude\":\"41.878503887\",\"location\":{\"type\":\"Point\",\"coordinates\":[-87.735404,41.878504]},\"location_description\":\"STREET\",\"longitude\":\"-87.735403755\",\"primary_type\":\"OTHER OFFENSE\",\"updated_on\":\"2017-04-09T15:57:12.000\",\"ward\":\"28\",\"x_coordinate\":\"1147084\",\"y_coordinate\":\"1898884\",\"year\":\"2017\"}\n",
      ",{\"arrest\":false,\"beat\":\"1654\",\"block\":\"0000X W PARKING LOT E ST\",\"case_number\":\"JA230407\",\"community_area\":\"76\",\"date\":\"2017-04-02T11:30:00.000\",\"description\":\"OVER $500\",\"district\":\"016\",\"domestic\":false,\"fbi_code\":\"06\",\"id\":\"10919569\",\"iucr\":\"0810\",\"latitude\":\"41.987154185\",\"location\":{\"type\":\"Point\",\"coordinates\":[-87.881455,41.987154]},\"location_description\":\"AIRPORT PARKING LOT\",\"longitude\":\"-87.881455466\",\"primary_type\":\"THEFT\",\"updated_on\":\"2017-04-24T15:54:56.000\",\"ward\":\"41\",\"x_coordinate\":\"1107101\",\"y_coordinate\":\"1938233\",\"year\":\"2017\"}\n",
      ",{\"arrest\":false,\"beat\":\"2432\",\"block\":\"064XX N GLENWOOD AVE\",\"case_number\":\"JA210782\",\"community_area\":\"1\",\"date\":\"2017-04-02T11:30:00.000\",\"description\":\"TO PROPERTY\",\"district\":\"024\",\"domestic\":true,\"fbi_code\":\"14\",\"id\":\"10899789\",\"iucr\":\"1310\",\"latitude\":\"41.998666791\",\"location\":{\"type\":\"Point\",\"coordinates\":[-87.665525,41.998667]},\"location_description\":\"APARTMENT\",\"longitude\":\"-87.665525159\",\"primary_type\":\"CRIMINAL DAMAGE\",\"updated_on\":\"2017-04-10T15:48:51.000\",\"ward\":\"40\",\"x_coordinate\":\"1165773\",\"y_coordinate\":\"1942812\",\"year\":\"2017\"}\n",
      ",{\"arrest\":false,\"beat\":\"2031\",\"block\":\"027XX W ARGYLE ST\",\"case_number\":\"JA209689\",\"community_area\":\"4\",\"date\":\"2017-04-02T11:30:00.000\",\"description\":\"DOMESTIC BATTERY SIMPLE\",\"district\":\"020\",\"domestic\":true,\"fbi_code\":\"08B\",\"id\":\"10898223\",\"iucr\":\"0486\",\"latitude\":\"41.972189353\",\"location\":{\"type\":\"Point\",\"coordinates\":[-87.697162,41.972189]},\"location_description\":\"APARTMENT\",\"longitude\":\"-87.697162483\",\"primary_type\":\"BATTERY\",\"updated_on\":\"2017-04-09T15:57:12.000\",\"ward\":\"40\",\"x_coordinate\":\"1157245\",\"y_coordinate\":\"1933098\",\"year\":\"2017\"}\n",
      ",{\"arrest\":false,\"beat\":\"0424\",\"block\":\"086XX S BALTIMORE AVE\",\"case_number\":\"JA209701\",\"community_area\":\"46\",\"date\":\"2017-04-02T11:30:00.000\",\"description\":\"SIMPLE\",\"district\":\"004\",\"domestic\":false,\"fbi_code\":\"08B\",\"id\":\"10898222\",\"iucr\":\"0460\",\"latitude\":\"41.738541659\",\"location\":{\"type\":\"Point\",\"coordinates\":[-87.549073,41.738542]},\"location_description\":\"STREET\",\"longitude\":\"-87.549073478\",\"primary_type\":\"BATTERY\",\"updated_on\":\"2017-04-09T15:57:12.000\",\"ward\":\"10\",\"x_coordinate\":\"1198293\",\"y_coordinate\":\"1848291\",\"year\":\"2017\"}\n",
      ",{\"arrest\":false,\"beat\":\"0211\",\"block\":\"006XX E WOODLAND PARK\",\"case_number\":\"JA209683\",\"community_area\":\"35\",\"date\":\"2017-04-02T11:35:00.000\",\"description\":\"DOMESTIC BATTERY SIMPLE\",\"district\":\"002\",\"domestic\":true,\"fbi_code\":\"08B\",\"id\":\"10898738\",\"iucr\":\"0486\",\"latitude\":\"41.832496126\",\"location\":{\"type\":\"Point\",\"coordinates\":[-87.610325,41.832496]},\"location_description\":\"SIDEWALK\",\"longitude\":\"-87.61032506\",\"primary_type\":\"BATTERY\",\"updated_on\":\"2017-04-09T15:57:12.000\",\"ward\":\"4\",\"x_coordinate\":\"1181288\",\"y_coordinate\":\"1882381\",\"year\":\"2017\"}\n",
      ",{\"arrest\":false,\"beat\":\"0224\",\"block\":\"001XX E 47TH ST\",\"case_number\":\"JA209694\",\"community_area\":\"38\",\"date\":\"2017-04-02T11:40:00.000\",\"description\":\"SIMPLE\",\"district\":\"002\",\"domestic\":false,\"fbi_code\":\"08B\",\"id\":\"10911641\",\"iucr\":\"0460\",\"location_description\":\"APARTMENT\",\"primary_type\":\"BATTERY\",\"updated_on\":\"2017-04-14T15:50:04.000\",\"ward\":\"3\",\"year\":\"2017\"}\n",
      ",{\"arrest\":false,\"beat\":\"0612\",\"block\":\"012XX W 80TH ST\",\"case_number\":\"JA209685\",\"community_area\":\"71\",\"date\":\"2017-04-02T11:44:00.000\",\"description\":\"TO PROPERTY\",\"district\":\"006\",\"domestic\":false,\"fbi_code\":\"14\",\"id\":\"10898542\",\"iucr\":\"1310\",\"latitude\":\"41.748653151\",\"location\":{\"type\":\"Point\",\"coordinates\":[-87.655403,41.748653]},\"location_description\":\"APARTMENT\",\"longitude\":\"-87.655402893\",\"primary_type\":\"CRIMINAL DAMAGE\",\"updated_on\":\"2017-04-09T15:57:12.000\",\"ward\":\"21\",\"x_coordinate\":\"1169244\",\"y_coordinate\":\"1851729\",\"year\":\"2017\"}\n",
      ",{\"arrest\":false,\"beat\":\"1834\",\"block\":\"004XX N STATE ST\",\"case_number\":\"JA223163\",\"community_area\":\"8\",\"date\":\"2017-04-02T12:00:00.000\",\"description\":\"THEFT BY LESSEE,MOTOR VEH\",\"district\":\"018\",\"domestic\":false,\"fbi_code\":\"11\",\"id\":\"10910644\",\"iucr\":\"1206\",\"latitude\":\"41.889453169\",\"location\":{\"type\":\"Point\",\"coordinates\":[-87.627995,41.889453]},\"location_description\":\"PARKING LOT/GARAGE(NON.RESID.)\",\"longitude\":\"-87.627994833\",\"primary_type\":\"DECEPTIVE PRACTICE\",\"updated_on\":\"2017-04-17T16:05:36.000\",\"ward\":\"42\",\"x_coordinate\":\"1176302\",\"y_coordinate\":\"1903096\",\"year\":\"2017\"}\n",
      ",{\"arrest\":false,\"beat\":\"2522\",\"block\":\"020XX N CICERO AVE\",\"case_number\":\"JA216304\",\"community_area\":\"19\",\"date\":\"2017-04-02T12:00:00.000\",\"description\":\"ATTEMPT - FINANCIAL IDENTITY THEFT\",\"district\":\"025\",\"domestic\":false,\"fbi_code\":\"11\",\"id\":\"10904403\",\"iucr\":\"1156\",\"latitude\":\"41.917549461\",\"location\":{\"type\":\"Point\",\"coordinates\":[-87.746139,41.917549]},\"location_description\":\"APARTMENT\",\"longitude\":\"-87.746139298\",\"primary_type\":\"DECEPTIVE PRACTICE\",\"updated_on\":\"2017-04-10T15:48:51.000\",\"ward\":\"31\",\"x_coordinate\":\"1144063\",\"y_coordinate\":\"1913092\",\"year\":\"2017\"}\n",
      ",{\"arrest\":false,\"beat\":\"1933\",\"block\":\"008XX W BELMONT AVE\",\"case_number\":\"JA212295\",\"community_area\":\"6\",\"date\":\"2017-04-02T12:00:00.000\",\"description\":\"RETAIL THEFT\",\"district\":\"019\",\"domestic\":false,\"fbi_code\":\"06\",\"id\":\"10900716\",\"iucr\":\"0860\",\"latitude\":\"41.939954643\",\"location\":{\"type\":\"Point\",\"coordinates\":[-87.651068,41.939955]},\"location_description\":\"OTHER\",\"longitude\":\"-87.651068478\",\"primary_type\":\"THEFT\",\"updated_on\":\"2017-04-09T15:57:12.000\",\"ward\":\"44\",\"x_coordinate\":\"1169873\",\"y_coordinate\":\"1921448\",\"year\":\"2017\"}\n",
      ",{\"arrest\":false,\"beat\":\"2534\",\"block\":\"042XX W CRYSTAL ST\",\"case_number\":\"JA211425\",\"community_area\":\"23\",\"date\":\"2017-04-02T12:00:00.000\",\"description\":\"OTHER CRIME INVOLVING PROPERTY\",\"district\":\"025\",\"domestic\":false,\"fbi_code\":\"26\",\"id\":\"10899711\",\"iucr\":\"5001\",\"latitude\":\"41.903479717\",\"location\":{\"type\":\"Point\",\"coordinates\":[-87.732339,41.90348]},\"location_description\":\"ALLEY\",\"longitude\":\"-87.732338564\",\"primary_type\":\"OTHER OFFENSE\",\"updated_on\":\"2017-04-09T15:57:12.000\",\"ward\":\"37\",\"x_coordinate\":\"1147855\",\"y_coordinate\":\"1907991\",\"year\":\"2017\"}\n",
      ",{\"arrest\":false,\"beat\":\"0235\",\"block\":\"055XX S EVERETT AVE\",\"case_number\":\"JA210421\",\"community_area\":\"41\",\"date\":\"2017-04-02T12:00:00.000\",\"description\":\"$500 AND UNDER\",\"district\":\"002\",\"domestic\":false,\"fbi_code\":\"06\",\"id\":\"10899642\",\"iucr\":\"0820\",\"latitude\":\"41.794424835\",\"location\":{\"type\":\"Point\",\"coordinates\":[-87.582519,41.794425]},\"location_description\":\"RESIDENCE PORCH/HALLWAY\",\"longitude\":\"-87.582519409\",\"primary_type\":\"THEFT\",\"updated_on\":\"2017-04-09T15:57:12.000\",\"ward\":\"5\",\"x_coordinate\":\"1188987\",\"y_coordinate\":\"1868573\",\"year\":\"2017\"}\n",
      ",{\"arrest\":false,\"beat\":\"0214\",\"block\":\"006XX E PERSHING RD\",\"case_number\":\"JA210741\",\"community_area\":\"38\",\"date\":\"2017-04-02T12:00:00.000\",\"description\":\"OVER $500\",\"district\":\"002\",\"domestic\":false,\"fbi_code\":\"06\",\"id\":\"10899199\",\"iucr\":\"0810\",\"latitude\":\"41.823904856\",\"location\":{\"type\":\"Point\",\"coordinates\":[-87.611361,41.823905]},\"location_description\":\"STREET\",\"longitude\":\"-87.611360956\",\"primary_type\":\"THEFT\",\"updated_on\":\"2017-04-09T15:57:12.000\",\"ward\":\"4\",\"x_coordinate\":\"1181032\",\"y_coordinate\":\"1879248\",\"year\":\"2017\"}\n",
      ",{\"arrest\":false,\"beat\":\"1723\",\"block\":\"045XX N CENTRAL PARK AVE\",\"case_number\":\"JA210610\",\"community_area\":\"14\",\"date\":\"2017-04-02T12:00:00.000\",\"description\":\"SIMPLE\",\"district\":\"017\",\"domestic\":false,\"fbi_code\":\"08B\",\"id\":\"10898984\",\"iucr\":\"0460\",\"latitude\":\"41.963401289\",\"location\":{\"type\":\"Point\",\"coordinates\":[-87.718105,41.963401]},\"location_description\":\"APARTMENT\",\"longitude\":\"-87.71810514\",\"primary_type\":\"BATTERY\",\"updated_on\":\"2017-04-09T15:57:12.000\",\"ward\":\"33\",\"x_coordinate\":\"1151573\",\"y_coordinate\":\"1929854\",\"year\":\"2017\"}\n",
      ",{\"arrest\":false,\"beat\":\"0714\",\"block\":\"060XX S WINCHESTER AVE\",\"case_number\":\"JA210453\",\"community_area\":\"67\",\"date\":\"2017-04-02T12:00:00.000\",\"description\":\"OVER $500\",\"district\":\"007\",\"domestic\":false,\"fbi_code\":\"06\",\"id\":\"10898799\",\"iucr\":\"0810\",\"latitude\":\"41.784084688\",\"location\":{\"type\":\"Point\",\"coordinates\":[-87.672816,41.784085]},\"location_description\":\"STREET\",\"longitude\":\"-87.672816484\",\"primary_type\":\"THEFT\",\"updated_on\":\"2017-04-09T15:57:12.000\",\"ward\":\"15\",\"x_coordinate\":\"1164393\",\"y_coordinate\":\"1864603\",\"year\":\"2017\"}\n",
      ",{\"arrest\":false,\"beat\":\"1633\",\"block\":\"055XX W SCHOOL ST\",\"case_number\":\"JA210152\",\"community_area\":\"15\",\"date\":\"2017-04-02T12:00:00.000\",\"description\":\"TO RESIDENCE\",\"district\":\"016\",\"domestic\":false,\"fbi_code\":\"26\",\"id\":\"10898511\",\"iucr\":\"1365\",\"latitude\":\"41.940419827\",\"location\":{\"type\":\"Point\",\"coordinates\":[-87.765226,41.94042]},\"location_description\":\"APARTMENT\",\"longitude\":\"-87.765226189\",\"primary_type\":\"CRIMINAL TRESPASS\",\"updated_on\":\"2017-04-09T15:57:12.000\",\"ward\":\"38\",\"x_coordinate\":\"1138813\",\"y_coordinate\":\"1921391\",\"year\":\"2017\"}\n",
      ",{\"arrest\":false,\"beat\":\"0611\",\"block\":\"016XX W 78TH ST\",\"case_number\":\"JA210117\",\"community_area\":\"71\",\"date\":\"2017-04-02T12:00:00.000\",\"description\":\"$500 AND UNDER\",\"district\":\"006\",\"domestic\":false,\"fbi_code\":\"06\",\"id\":\"10898488\",\"iucr\":\"0820\",\"latitude\":\"41.752167383\",\"location\":{\"type\":\"Point\",\"coordinates\":[-87.664088,41.752167]},\"location_description\":\"RESIDENCE\",\"longitude\":\"-87.664088112\",\"primary_type\":\"THEFT\",\"updated_on\":\"2017-04-09T15:57:12.000\",\"ward\":\"17\",\"x_coordinate\":\"1166864\",\"y_coordinate\":\"1852991\",\"year\":\"2017\"}\n",
      ",{\"arrest\":false,\"beat\":\"1733\",\"block\":\"031XX W BELMONT AVE\",\"case_number\":\"JA209726\",\"community_area\":\"21\",\"date\":\"2017-04-02T12:00:00.000\",\"description\":\"DOMESTIC BATTERY SIMPLE\",\"district\":\"017\",\"domestic\":true,\"fbi_code\":\"08B\",\"id\":\"10898244\",\"iucr\":\"0486\",\"latitude\":\"41.93934905\",\"location\":{\"type\":\"Point\",\"coordinates\":[-87.705579,41.939349]},\"location_description\":\"APARTMENT\",\"longitude\":\"-87.70557876\",\"primary_type\":\"BATTERY\",\"updated_on\":\"2017-04-09T15:57:12.000\",\"ward\":\"33\",\"x_coordinate\":\"1155044\",\"y_coordinate\":\"1921114\",\"year\":\"2017\"}\n",
      ",{\"arrest\":false,\"beat\":\"1235\",\"block\":\"017XX S RUBLE ST\",\"case_number\":\"JA210178\",\"community_area\":\"31\",\"date\":\"2017-04-02T12:15:00.000\",\"description\":\"CREDIT CARD FRAUD\",\"district\":\"012\",\"domestic\":false,\"fbi_code\":\"11\",\"id\":\"10898504\",\"iucr\":\"1150\",\"latitude\":\"41.858218136\",\"location\":{\"type\":\"Point\",\"coordinates\":[-87.643807,41.858218]},\"location_description\":\"GAS STATION\",\"longitude\":\"-87.643807077\",\"primary_type\":\"DECEPTIVE PRACTICE\",\"updated_on\":\"2017-04-09T15:57:12.000\",\"ward\":\"25\",\"x_coordinate\":\"1172088\",\"y_coordinate\":\"1891679\",\"year\":\"2017\"}\n",
      ",{\"arrest\":false,\"beat\":\"1935\",\"block\":\"024XX N CANNON DR\",\"case_number\":\"JA209914\",\"community_area\":\"7\",\"date\":\"2017-04-02T12:15:00.000\",\"description\":\"$500 AND UNDER\",\"district\":\"019\",\"domestic\":false,\"fbi_code\":\"06\",\"id\":\"10898323\",\"iucr\":\"0820\",\"latitude\":\"41.926523588\",\"location\":{\"type\":\"Point\",\"coordinates\":[-87.634051,41.926524]},\"location_description\":\"PARKING LOT/GARAGE(NON.RESID.)\",\"longitude\":\"-87.634050522\",\"primary_type\":\"THEFT\",\"updated_on\":\"2017-04-09T15:57:12.000\",\"ward\":\"43\",\"x_coordinate\":\"1174543\",\"y_coordinate\":\"1916591\",\"year\":\"2017\"}\n",
      ",{\"arrest\":false,\"beat\":\"1121\",\"block\":\"005XX N HOMAN AVE\",\"case_number\":\"JA209772\",\"community_area\":\"23\",\"date\":\"2017-04-02T12:15:00.000\",\"description\":\"TO VEHICLE\",\"district\":\"011\",\"domestic\":true,\"fbi_code\":\"14\",\"id\":\"10898266\",\"iucr\":\"1320\",\"latitude\":\"41.890977441\",\"location\":{\"type\":\"Point\",\"coordinates\":[-87.711301,41.890977]},\"location_description\":\"STREET\",\"longitude\":\"-87.711300919\",\"primary_type\":\"CRIMINAL DAMAGE\",\"updated_on\":\"2017-04-09T15:57:12.000\",\"ward\":\"27\",\"x_coordinate\":\"1153615\",\"y_coordinate\":\"1903476\",\"year\":\"2017\"}\n",
      ",{\"arrest\":false,\"beat\":\"1814\",\"block\":\"023XX N CLARK ST\",\"case_number\":\"JA209715\",\"community_area\":\"7\",\"date\":\"2017-04-02T12:15:00.000\",\"description\":\"RETAIL THEFT\",\"district\":\"018\",\"domestic\":false,\"fbi_code\":\"06\",\"id\":\"10898204\",\"iucr\":\"0860\",\"latitude\":\"41.924745454\",\"location\":{\"type\":\"Point\",\"coordinates\":[-87.639953,41.924745]},\"location_description\":\"SMALL RETAIL STORE\",\"longitude\":\"-87.63995305\",\"primary_type\":\"THEFT\",\"updated_on\":\"2017-04-09T15:57:12.000\",\"ward\":\"43\",\"x_coordinate\":\"1172942\",\"y_coordinate\":\"1915930\",\"year\":\"2017\"}\n",
      ",{\"arrest\":false,\"beat\":\"1135\",\"block\":\"029XX W HARRISON ST\",\"case_number\":\"JA209722\",\"community_area\":\"27\",\"date\":\"2017-04-02T12:18:00.000\",\"description\":\"DOMESTIC BATTERY SIMPLE\",\"district\":\"011\",\"domestic\":true,\"fbi_code\":\"08B\",\"id\":\"10898189\",\"iucr\":\"0486\",\"latitude\":\"41.873765595\",\"location\":{\"type\":\"Point\",\"coordinates\":[-87.69927,41.873766]},\"location_description\":\"STREET\",\"longitude\":\"-87.699270346\",\"primary_type\":\"BATTERY\",\"updated_on\":\"2017-04-09T15:57:12.000\",\"ward\":\"2\",\"x_coordinate\":\"1156937\",\"y_coordinate\":\"1897228\",\"year\":\"2017\"}\n",
      ",{\"arrest\":false,\"beat\":\"0231\",\"block\":\"003XX E 55TH PL\",\"case_number\":\"JA209721\",\"community_area\":\"40\",\"date\":\"2017-04-02T12:20:00.000\",\"description\":\"OVER $500\",\"district\":\"002\",\"domestic\":false,\"fbi_code\":\"06\",\"id\":\"10898759\",\"iucr\":\"0810\",\"latitude\":\"41.793893044\",\"location\":{\"type\":\"Point\",\"coordinates\":[-87.617433,41.793893]},\"location_description\":\"STREET\",\"longitude\":\"-87.617433304\",\"primary_type\":\"THEFT\",\"updated_on\":\"2017-04-09T15:57:12.000\",\"ward\":\"20\",\"x_coordinate\":\"1179468\",\"y_coordinate\":\"1868298\",\"year\":\"2017\"}\n",
      ",{\"arrest\":false,\"beat\":\"0713\",\"block\":\"057XX S LAFLIN ST\",\"case_number\":\"JA209703\",\"community_area\":\"67\",\"date\":\"2017-04-02T12:20:00.000\",\"description\":\"AGGRAVATED: HANDGUN\",\"district\":\"007\",\"domestic\":false,\"fbi_code\":\"04B\",\"id\":\"10898307\",\"iucr\":\"041A\",\"latitude\":\"41.789521727\",\"location\":{\"type\":\"Point\",\"coordinates\":[-87.662031,41.789522]},\"location_description\":\"STREET\",\"longitude\":\"-87.662031276\",\"primary_type\":\"BATTERY\",\"updated_on\":\"2017-04-09T15:57:12.000\",\"ward\":\"16\",\"x_coordinate\":\"1167319\",\"y_coordinate\":\"1866607\",\"year\":\"2017\"}\n",
      ",{\"arrest\":false,\"beat\":\"1123\",\"block\":\"032XX W WALNUT ST\",\"case_number\":\"JA209716\",\"community_area\":\"27\",\"date\":\"2017-04-02T12:25:00.000\",\"description\":\"AGGRAVATED: HANDGUN\",\"district\":\"011\",\"domestic\":false,\"fbi_code\":\"04B\",\"id\":\"10898302\",\"iucr\":\"041A\",\"latitude\":\"41.885387895\",\"location\":{\"type\":\"Point\",\"coordinates\":[-87.706845,41.885388]},\"location_description\":\"RESIDENCE PORCH/HALLWAY\",\"longitude\":\"-87.706845438\",\"primary_type\":\"BATTERY\",\"updated_on\":\"2017-04-09T15:57:12.000\",\"ward\":\"28\",\"x_coordinate\":\"1154843\",\"y_coordinate\":\"1901448\",\"year\":\"2017\"}\n",
      ",{\"arrest\":false,\"beat\":\"0512\",\"block\":\"103XX S DR MARTIN LUTHER KING JR DR\",\"case_number\":\"JA210594\",\"community_area\":\"49\",\"date\":\"2017-04-02T12:30:00.000\",\"description\":\"SIMPLE\",\"district\":\"005\",\"domestic\":false,\"fbi_code\":\"08A\",\"id\":\"10899046\",\"iucr\":\"0560\",\"latitude\":\"41.706653339\",\"location\":{\"type\":\"Point\",\"coordinates\":[-87.613751,41.706653]},\"location_description\":\"RESIDENCE\",\"longitude\":\"-87.613750982\",\"primary_type\":\"ASSAULT\",\"updated_on\":\"2017-04-09T15:57:12.000\",\"ward\":\"9\",\"x_coordinate\":\"1180738\",\"y_coordinate\":\"1836517\",\"year\":\"2017\"}\n",
      ",{\"arrest\":false,\"beat\":\"0815\",\"block\":\"049XX S KEELER AVE\",\"case_number\":\"JA209938\",\"community_area\":\"57\",\"date\":\"2017-04-02T12:30:00.000\",\"description\":\"HARASSMENT BY TELEPHONE\",\"district\":\"008\",\"domestic\":true,\"fbi_code\":\"26\",\"id\":\"10898481\",\"iucr\":\"2825\",\"latitude\":\"41.803433215\",\"location\":{\"type\":\"Point\",\"coordinates\":[-87.728356,41.803433]},\"location_description\":\"APARTMENT\",\"longitude\":\"-87.728356018\",\"primary_type\":\"OTHER OFFENSE\",\"updated_on\":\"2017-04-09T15:57:12.000\",\"ward\":\"23\",\"x_coordinate\":\"1149196\",\"y_coordinate\":\"1871542\",\"year\":\"2017\"}\n",
      ",{\"arrest\":false,\"beat\":\"1224\",\"block\":\"001XX N PAULINA ST\",\"case_number\":\"JA209720\",\"community_area\":\"28\",\"date\":\"2017-04-02T12:30:00.000\",\"description\":\"SIMPLE\",\"district\":\"012\",\"domestic\":true,\"fbi_code\":\"08B\",\"id\":\"10898205\",\"iucr\":\"0460\",\"latitude\":\"41.884614911\",\"location\":{\"type\":\"Point\",\"coordinates\":[-87.669395,41.884615]},\"location_description\":\"STREET\",\"longitude\":\"-87.669395012\",\"primary_type\":\"BATTERY\",\"updated_on\":\"2017-04-09T15:57:12.000\",\"ward\":\"27\",\"x_coordinate\":\"1165043\",\"y_coordinate\":\"1901243\",\"year\":\"2017\"}\n",
      ",{\"arrest\":false,\"beat\":\"2533\",\"block\":\"044XX W GRAND AVE\",\"case_number\":\"JA209725\",\"community_area\":\"23\",\"date\":\"2017-04-02T12:38:00.000\",\"description\":\"SIMPLE\",\"district\":\"025\",\"domestic\":false,\"fbi_code\":\"08B\",\"id\":\"10898227\",\"iucr\":\"0460\",\"latitude\":\"41.910339734\",\"location\":{\"type\":\"Point\",\"coordinates\":[-87.736966,41.91034]},\"location_description\":\"STREET\",\"longitude\":\"-87.736965699\",\"primary_type\":\"BATTERY\",\"updated_on\":\"2017-04-09T15:57:12.000\",\"ward\":\"37\",\"x_coordinate\":\"1146578\",\"y_coordinate\":\"1910482\",\"year\":\"2017\"}\n",
      ",{\"arrest\":false,\"beat\":\"0311\",\"block\":\"062XX S INDIANA AVE\",\"case_number\":\"JA209745\",\"community_area\":\"40\",\"date\":\"2017-04-02T12:40:00.000\",\"description\":\"SIMPLE\",\"district\":\"003\",\"domestic\":false,\"fbi_code\":\"08B\",\"id\":\"10898207\",\"iucr\":\"0460\",\"latitude\":\"41.78112581\",\"location\":{\"type\":\"Point\",\"coordinates\":[-87.620391,41.781126]},\"location_description\":\"RESIDENCE\",\"longitude\":\"-87.620391154\",\"primary_type\":\"BATTERY\",\"updated_on\":\"2017-04-09T15:57:12.000\",\"ward\":\"20\",\"x_coordinate\":\"1178700\",\"y_coordinate\":\"1863639\",\"year\":\"2017\"}\n",
      ",{\"arrest\":true,\"beat\":\"0531\",\"block\":\"001XX E 114TH PL\",\"case_number\":\"JA209764\",\"community_area\":\"49\",\"date\":\"2017-04-02T12:43:00.000\",\"description\":\"AGGRAVATED: HANDGUN\",\"district\":\"005\",\"domestic\":false,\"fbi_code\":\"04A\",\"id\":\"10898221\",\"iucr\":\"051A\",\"latitude\":\"41.686273867\",\"location\":{\"type\":\"Point\",\"coordinates\":[-87.619016,41.686274]},\"location_description\":\"RESIDENCE\",\"longitude\":\"-87.619015711\",\"primary_type\":\"ASSAULT\",\"updated_on\":\"2017-04-09T15:57:12.000\",\"ward\":\"9\",\"x_coordinate\":\"1179362\",\"y_coordinate\":\"1829079\",\"year\":\"2017\"}\n",
      ",{\"arrest\":false,\"beat\":\"0921\",\"block\":\"029XX W 40TH ST\",\"case_number\":\"JA209773\",\"community_area\":\"58\",\"date\":\"2017-04-02T12:48:00.000\",\"description\":\"SIMPLE\",\"district\":\"009\",\"domestic\":false,\"fbi_code\":\"08A\",\"id\":\"10898229\",\"iucr\":\"0560\",\"latitude\":\"41.820923619\",\"location\":{\"type\":\"Point\",\"coordinates\":[-87.69806,41.820924]},\"location_description\":\"STREET\",\"longitude\":\"-87.69806029\",\"primary_type\":\"ASSAULT\",\"updated_on\":\"2017-04-09T15:57:12.000\",\"ward\":\"14\",\"x_coordinate\":\"1157409\",\"y_coordinate\":\"1877975\",\"year\":\"2017\"}\n",
      ",{\"arrest\":false,\"beat\":\"1431\",\"block\":\"025XX W ARMITAGE AVE\",\"case_number\":\"JA209951\",\"community_area\":\"22\",\"date\":\"2017-04-02T12:50:00.000\",\"description\":\"$500 AND UNDER\",\"district\":\"014\",\"domestic\":false,\"fbi_code\":\"06\",\"id\":\"10898383\",\"iucr\":\"0820\",\"latitude\":\"41.917537819\",\"location\":{\"type\":\"Point\",\"coordinates\":[-87.691654,41.917538]},\"location_description\":\"STREET\",\"longitude\":\"-87.691654096\",\"primary_type\":\"THEFT\",\"updated_on\":\"2017-04-09T15:57:12.000\",\"ward\":\"1\",\"x_coordinate\":\"1158892\",\"y_coordinate\":\"1913194\",\"year\":\"2017\"}\n",
      ",{\"arrest\":false,\"beat\":\"1431\",\"block\":\"025XX W ARMITAGE AVE\",\"case_number\":\"JA209952\",\"community_area\":\"22\",\"date\":\"2017-04-02T12:50:00.000\",\"description\":\"CREDIT CARD FRAUD\",\"district\":\"014\",\"domestic\":false,\"fbi_code\":\"11\",\"id\":\"10898360\",\"iucr\":\"1150\",\"latitude\":\"41.917537819\",\"location\":{\"type\":\"Point\",\"coordinates\":[-87.691654,41.917538]},\"location_description\":\"STREET\",\"longitude\":\"-87.691654096\",\"primary_type\":\"DECEPTIVE PRACTICE\",\"updated_on\":\"2017-04-09T15:57:12.000\",\"ward\":\"1\",\"x_coordinate\":\"1158892\",\"y_coordinate\":\"1913194\",\"year\":\"2017\"}\n",
      ",{\"arrest\":true,\"beat\":\"0735\",\"block\":\"071XX S HONORE ST\",\"case_number\":\"JA209729\",\"community_area\":\"67\",\"date\":\"2017-04-02T12:50:00.000\",\"description\":\"UNLAWFUL POSS OF HANDGUN\",\"district\":\"007\",\"domestic\":false,\"fbi_code\":\"15\",\"id\":\"10898304\",\"iucr\":\"143A\",\"latitude\":\"41.764168814\",\"location\":{\"type\":\"Point\",\"coordinates\":[-87.669868,41.764169]},\"location_description\":\"RESIDENTIAL YARD (FRONT/BACK)\",\"longitude\":\"-87.669868484\",\"primary_type\":\"WEAPONS VIOLATION\",\"updated_on\":\"2017-04-09T15:57:12.000\",\"ward\":\"17\",\"x_coordinate\":\"1165253\",\"y_coordinate\":\"1857352\",\"year\":\"2017\"}\n",
      ",{\"arrest\":false,\"beat\":\"1522\",\"block\":\"054XX W MADISON ST\",\"case_number\":\"JA209727\",\"community_area\":\"25\",\"date\":\"2017-04-02T12:52:00.000\",\"description\":\"AGGRAVATED: HANDGUN\",\"district\":\"015\",\"domestic\":false,\"fbi_code\":\"04A\",\"id\":\"10898252\",\"iucr\":\"051A\",\"latitude\":\"41.880298781\",\"location\":{\"type\":\"Point\",\"coordinates\":[-87.760743,41.880299]},\"location_description\":\"SIDEWALK\",\"longitude\":\"-87.760742929\",\"primary_type\":\"ASSAULT\",\"updated_on\":\"2017-04-09T15:57:12.000\",\"ward\":\"28\",\"x_coordinate\":\"1140179\",\"y_coordinate\":\"1899491\",\"year\":\"2017\"}\n",
      ",{\"arrest\":true,\"beat\":\"1731\",\"block\":\"032XX N KENNETH AVE\",\"case_number\":\"JA209824\",\"community_area\":\"16\",\"date\":\"2017-04-02T12:55:00.000\",\"description\":\"TO RESIDENCE\",\"district\":\"017\",\"domestic\":false,\"fbi_code\":\"26\",\"id\":\"10898314\",\"iucr\":\"1365\",\"latitude\":\"41.939531427\",\"location\":{\"type\":\"Point\",\"coordinates\":[-87.738282,41.939531]},\"location_description\":\"APARTMENT\",\"longitude\":\"-87.738281596\",\"primary_type\":\"CRIMINAL TRESPASS\",\"updated_on\":\"2017-04-09T15:57:12.000\",\"ward\":\"31\",\"x_coordinate\":\"1146146\",\"y_coordinate\":\"1921117\",\"year\":\"2017\"}\n",
      ",{\"arrest\":false,\"beat\":\"0513\",\"block\":\"107XX S DR MARTIN LUTHER KING JR DR\",\"case_number\":\"JA209756\",\"community_area\":\"49\",\"date\":\"2017-04-02T12:59:00.000\",\"description\":\"HARASSMENT BY TELEPHONE\",\"district\":\"005\",\"domestic\":false,\"fbi_code\":\"26\",\"id\":\"10898247\",\"iucr\":\"2825\",\"latitude\":\"41.6993522\",\"location\":{\"type\":\"Point\",\"coordinates\":[-87.613554,41.699352]},\"location_description\":\"RESIDENCE\",\"longitude\":\"-87.613554087\",\"primary_type\":\"OTHER OFFENSE\",\"updated_on\":\"2017-04-09T15:57:12.000\",\"ward\":\"9\",\"x_coordinate\":\"1180814\",\"y_coordinate\":\"1833857\",\"year\":\"2017\"}\n",
      ",{\"arrest\":false,\"beat\":\"0612\",\"block\":\"010XX W 76TH ST\",\"case_number\":\"JA237541\",\"community_area\":\"71\",\"date\":\"2017-04-02T13:00:00.000\",\"description\":\"FINANCIAL IDENTITY THEFT OVER $ 300\",\"district\":\"006\",\"domestic\":false,\"fbi_code\":\"11\",\"id\":\"10923251\",\"iucr\":\"1153\",\"latitude\":\"41.75602484\",\"location\":{\"type\":\"Point\",\"coordinates\":[-87.649465,41.756025]},\"location_description\":\"RESIDENCE\",\"longitude\":\"-87.649464974\",\"primary_type\":\"DECEPTIVE PRACTICE\",\"updated_on\":\"2017-04-27T15:49:00.000\",\"ward\":\"17\",\"x_coordinate\":\"1170843\",\"y_coordinate\":\"1854428\",\"year\":\"2017\"}\n",
      ",{\"arrest\":false,\"beat\":\"1512\",\"block\":\"002XX N PARKSIDE AVE\",\"case_number\":\"JA232338\",\"community_area\":\"25\",\"date\":\"2017-04-02T13:00:00.000\",\"description\":\"FORCIBLE ENTRY\",\"district\":\"015\",\"domestic\":false,\"fbi_code\":\"05\",\"id\":\"10919246\",\"iucr\":\"0610\",\"latitude\":\"41.884625648\",\"location\":{\"type\":\"Point\",\"coordinates\":[-87.766665,41.884626]},\"location_description\":\"VACANT LOT/LAND\",\"longitude\":\"-87.766664532\",\"primary_type\":\"BURGLARY\",\"updated_on\":\"2017-04-24T15:54:56.000\",\"ward\":\"29\",\"x_coordinate\":\"1138556\",\"y_coordinate\":\"1901057\",\"year\":\"2017\"}\n",
      ",{\"arrest\":true,\"beat\":\"0624\",\"block\":\"076XX S MARYLAND AVE\",\"case_number\":\"JA209748\",\"community_area\":\"69\",\"date\":\"2017-04-02T13:00:00.000\",\"description\":\"SIMPLE\",\"district\":\"006\",\"domestic\":false,\"fbi_code\":\"08B\",\"id\":\"10898537\",\"iucr\":\"0460\",\"latitude\":\"41.756113497\",\"location\":{\"type\":\"Point\",\"coordinates\":[-87.604084,41.756113]},\"location_description\":\"SIDEWALK\",\"longitude\":\"-87.604083881\",\"primary_type\":\"BATTERY\",\"updated_on\":\"2017-04-20T15:55:54.000\",\"ward\":\"6\",\"x_coordinate\":\"1183225\",\"y_coordinate\":\"1854562\",\"year\":\"2017\"}\n",
      ",{\"arrest\":false,\"beat\":\"0613\",\"block\":\"085XX S SANGAMON ST\",\"case_number\":\"JA209992\",\"community_area\":\"71\",\"date\":\"2017-04-02T13:00:00.000\",\"description\":\"$500 AND UNDER\",\"district\":\"006\",\"domestic\":false,\"fbi_code\":\"06\",\"id\":\"10913289\",\"iucr\":\"0820\",\"location_description\":\"RESIDENCE\",\"primary_type\":\"THEFT\",\"updated_on\":\"2017-04-16T15:50:22.000\",\"ward\":\"21\",\"year\":\"2017\"}\n",
      ",{\"arrest\":false,\"beat\":\"2412\",\"block\":\"027XX W PRATT BLVD\",\"case_number\":\"JA211085\",\"community_area\":\"2\",\"date\":\"2017-04-02T13:00:00.000\",\"description\":\"OVER $500\",\"district\":\"024\",\"domestic\":false,\"fbi_code\":\"06\",\"id\":\"10899463\",\"iucr\":\"0810\",\"latitude\":\"42.004858341\",\"location\":{\"type\":\"Point\",\"coordinates\":[-87.699523,42.004858]},\"location_description\":\"SIDEWALK\",\"longitude\":\"-87.699522982\",\"primary_type\":\"THEFT\",\"updated_on\":\"2017-04-09T15:57:12.000\",\"ward\":\"50\",\"x_coordinate\":\"1156515\",\"y_coordinate\":\"1944998\",\"year\":\"2017\"}\n",
      ",{\"arrest\":false,\"beat\":\"1413\",\"block\":\"034XX W SHAKESPEARE AVE\",\"case_number\":\"JA210963\",\"community_area\":\"22\",\"date\":\"2017-04-02T13:00:00.000\",\"description\":\"FROM BUILDING\",\"district\":\"014\",\"domestic\":false,\"fbi_code\":\"06\",\"id\":\"10899406\",\"iucr\":\"0890\",\"latitude\":\"41.920067895\",\"location\":{\"type\":\"Point\",\"coordinates\":[-87.712602,41.920068]},\"location_description\":\"RESIDENCE PORCH/HALLWAY\",\"longitude\":\"-87.712602133\",\"primary_type\":\"THEFT\",\"updated_on\":\"2017-04-09T15:57:12.000\",\"ward\":\"26\",\"x_coordinate\":\"1153184\",\"y_coordinate\":\"1914074\",\"year\":\"2017\"}\n",
      ",{\"arrest\":false,\"beat\":\"0833\",\"block\":\"042XX W FORD CITY DR\",\"case_number\":\"JA210614\",\"community_area\":\"65\",\"date\":\"2017-04-02T13:00:00.000\",\"description\":\"TO PROPERTY\",\"district\":\"008\",\"domestic\":false,\"fbi_code\":\"14\",\"id\":\"10898939\",\"iucr\":\"1310\",\"latitude\":\"41.753235741\",\"location\":{\"type\":\"Point\",\"coordinates\":[-87.728586,41.753236]},\"location_description\":\"APARTMENT\",\"longitude\":\"-87.728585741\",\"primary_type\":\"CRIMINAL DAMAGE\",\"updated_on\":\"2017-04-09T15:57:12.000\",\"ward\":\"13\",\"x_coordinate\":\"1149262\",\"y_coordinate\":\"1853250\",\"year\":\"2017\"}\n",
      ",{\"arrest\":false,\"beat\":\"0312\",\"block\":\"064XX S VERNON AVE\",\"case_number\":\"JA209784\",\"community_area\":\"42\",\"date\":\"2017-04-02T13:00:00.000\",\"description\":\"SIMPLE\",\"district\":\"003\",\"domestic\":false,\"fbi_code\":\"08A\",\"id\":\"10898742\",\"iucr\":\"0560\",\"latitude\":\"41.777693478\",\"location\":{\"type\":\"Point\",\"coordinates\":[-87.614351,41.777693]},\"location_description\":\"SIDEWALK\",\"longitude\":\"-87.61435055\",\"primary_type\":\"ASSAULT\",\"updated_on\":\"2017-04-09T15:57:12.000\",\"ward\":\"20\",\"x_coordinate\":\"1180358\",\"y_coordinate\":\"1862402\",\"year\":\"2017\"}\n",
      ",{\"arrest\":true,\"beat\":\"0223\",\"block\":\"048XX S COTTAGE GROVE AVE\",\"case_number\":\"JA209752\",\"community_area\":\"38\",\"date\":\"2017-04-02T13:00:00.000\",\"description\":\"$500 AND UNDER\",\"district\":\"002\",\"domestic\":true,\"fbi_code\":\"06\",\"id\":\"10898248\",\"iucr\":\"0820\",\"latitude\":\"41.807260476\",\"location\":{\"type\":\"Point\",\"coordinates\":[-87.606515,41.80726]},\"location_description\":\"STREET\",\"longitude\":\"-87.606515478\",\"primary_type\":\"THEFT\",\"updated_on\":\"2017-04-09T15:57:12.000\",\"ward\":\"4\",\"x_coordinate\":\"1182404\",\"y_coordinate\":\"1873194\",\"year\":\"2017\"}\n",
      ",{\"arrest\":false,\"beat\":\"0111\",\"block\":\"001XX N STATE ST\",\"case_number\":\"JA209760\",\"community_area\":\"32\",\"date\":\"2017-04-02T13:00:00.000\",\"description\":\"RETAIL THEFT\",\"district\":\"001\",\"domestic\":false,\"fbi_code\":\"06\",\"id\":\"10898226\",\"iucr\":\"0860\",\"latitude\":\"41.883475491\",\"location\":{\"type\":\"Point\",\"coordinates\":[-87.627877,41.883475]},\"location_description\":\"SMALL RETAIL STORE\",\"longitude\":\"-87.627876969\",\"primary_type\":\"THEFT\",\"updated_on\":\"2017-04-09T15:57:12.000\",\"ward\":\"42\",\"x_coordinate\":\"1176352\",\"y_coordinate\":\"1900918\",\"year\":\"2017\"}]\n"
     ]
    }
   ],
   "source": [
    "# top level array loaded as plain text\n",
    "\n",
    "with open(\"json/chicago.json\") as input_file:\n",
    "    for row in input_file:\n",
    "        print(row.strip(\"\\n\"))"
   ]
  },
  {
   "cell_type": "code",
   "execution_count": null,
   "metadata": {
    "scrolled": true,
    "slideshow": {
     "slide_type": "slide"
    }
   },
   "outputs": [],
   "source": [
    "# top level array loaded as JSON object\n",
    "\n",
    "with open(\"json/chicago.json\") as input_file:\n",
    "    data = json.load(input_file)\n",
    "data"
   ]
  },
  {
   "cell_type": "code",
   "execution_count": 13,
   "metadata": {
    "scrolled": true,
    "slideshow": {
     "slide_type": "slide"
    }
   },
   "outputs": [
    {
     "name": "stdout",
     "output_type": "stream",
     "text": [
      "{\"count\": 29, \"next\": \"http://marsweather.ingenology.com/v1/archive/?page=2&terrestrial_date_end=2012-10-31&terrestrial_date_start=2012-10-01&format=json\", \"previous\": null, \"results\": [{\"terrestrial_date\": \"2012-10-31\", \"sol\": 84, \"ls\": 198.6, \"min_temp\": -70.0, \"min_temp_fahrenheit\": -94.0, \"max_temp\": -0.5, \"max_temp_fahrenheit\": 31.1, \"pressure\": 8.04, \"pressure_string\": \"Higher\", \"abs_humidity\": null, \"wind_speed\": 2.0, \"wind_direction\": null, \"atmo_opacity\": null, \"season\": \"Month 7\", \"sunrise\": null, \"sunset\": null}, {\"terrestrial_date\": \"2012-10-30\", \"sol\": 83, \"ls\": 198.0, \"min_temp\": -72.5, \"min_temp_fahrenheit\": -98.5, \"max_temp\": -0.5, \"max_temp_fahrenheit\": 31.1, \"pressure\": 8.0051, \"pressure_string\": \"Higher\", \"abs_humidity\": null, \"wind_speed\": 2.0, \"wind_direction\": null, \"atmo_opacity\": null, \"season\": \"Month 7\", \"sunrise\": null, \"sunset\": null}, {\"terrestrial_date\": \"2012-10-29\", \"sol\": 82, \"ls\": 197.4, \"min_temp\": -72.0, \"min_temp_fahrenheit\": -97.6, \"max_temp\": -0.4, \"max_temp_fahrenheit\": 31.28, \"pressure\": 7.98, \"pressure_string\": \"Higher\", \"abs_humidity\": null, \"wind_speed\": 2.0, \"wind_direction\": null, \"atmo_opacity\": null, \"season\": \"Month 7\", \"sunrise\": null, \"sunset\": null}, {\"terrestrial_date\": \"2012-10-28\", \"sol\": 81, \"ls\": 196.8, \"min_temp\": -72.0, \"min_temp_fahrenheit\": -97.6, \"max_temp\": -1.5, \"max_temp_fahrenheit\": 29.3, \"pressure\": 7.99, \"pressure_string\": \"Higher\", \"abs_humidity\": null, \"wind_speed\": 2.0, \"wind_direction\": null, \"atmo_opacity\": null, \"season\": \"Month 7\", \"sunrise\": null, \"sunset\": null}, {\"terrestrial_date\": \"2012-10-27\", \"sol\": 80, \"ls\": 195.6, \"min_temp\": -73.0, \"min_temp_fahrenheit\": -99.4, \"max_temp\": -1.0, \"max_temp_fahrenheit\": 30.2, \"pressure\": 7.97, \"pressure_string\": \"Higher\", \"abs_humidity\": null, \"wind_speed\": 2.0, \"wind_direction\": null, \"atmo_opacity\": null, \"season\": \"Month 7\", \"sunrise\": null, \"sunset\": null}, {\"terrestrial_date\": \"2012-10-26\", \"sol\": 79, \"ls\": 195.0, \"min_temp\": -73.0, \"min_temp_fahrenheit\": -99.4, \"max_temp\": -2.0, \"max_temp_fahrenheit\": 28.4, \"pressure\": 7.955, \"pressure_string\": \"Higher\", \"abs_humidity\": null, \"wind_speed\": 2.0, \"wind_direction\": null, \"atmo_opacity\": null, \"season\": \"Month 7\", \"sunrise\": null, \"sunset\": null}, {\"terrestrial_date\": \"2012-10-25\", \"sol\": 78, \"ls\": 194.5, \"min_temp\": -71.0, \"min_temp_fahrenheit\": -95.8, \"max_temp\": 0.0, \"max_temp_fahrenheit\": null, \"pressure\": 7.94, \"pressure_string\": \"Higher\", \"abs_humidity\": null, \"wind_speed\": 2.0, \"wind_direction\": null, \"atmo_opacity\": null, \"season\": \"Month 7\", \"sunrise\": null, \"sunset\": null}, {\"terrestrial_date\": \"2012-10-24\", \"sol\": 77, \"ls\": 193.9, \"min_temp\": -72.0, \"min_temp_fahrenheit\": -97.6, \"max_temp\": -1.0, \"max_temp_fahrenheit\": 30.2, \"pressure\": 7.93, \"pressure_string\": \"Higher\", \"abs_humidity\": null, \"wind_speed\": 2.0, \"wind_direction\": null, \"atmo_opacity\": null, \"season\": \"Month 7\", \"sunrise\": null, \"sunset\": null}, {\"terrestrial_date\": \"2012-10-23\", \"sol\": 76, \"ls\": 193.9, \"min_temp\": -72.0, \"min_temp_fahrenheit\": -97.6, \"max_temp\": -1.0, \"max_temp_fahrenheit\": 30.2, \"pressure\": 7.91, \"pressure_string\": \"Higher\", \"abs_humidity\": null, \"wind_speed\": 2.0, \"wind_direction\": null, \"atmo_opacity\": null, \"season\": \"Month 7\", \"sunrise\": null, \"sunset\": null}, {\"terrestrial_date\": \"2012-10-22\", \"sol\": 75, \"ls\": 193.0, \"min_temp\": -73.0, \"min_temp_fahrenheit\": -99.4, \"max_temp\": -1.0, \"max_temp_fahrenheit\": 30.2, \"pressure\": 7.91, \"pressure_string\": \"Higher\", \"abs_humidity\": null, \"wind_speed\": 2.0, \"wind_direction\": null, \"atmo_opacity\": null, \"season\": \"Month 7\", \"sunrise\": null, \"sunset\": null}]}\n"
     ]
    }
   ],
   "source": [
    "\n",
    "with open(\"json/mars.json\") as input_file:\n",
    "    for row in input_file:\n",
    "        print(row)"
   ]
  },
  {
   "cell_type": "code",
   "execution_count": null,
   "metadata": {
    "scrolled": true,
    "slideshow": {
     "slide_type": "slide"
    }
   },
   "outputs": [],
   "source": [
    "with open(\"json/mars.json\") as input_file:\n",
    "    data = json.load(input_file)\n",
    "data"
   ]
  },
  {
   "cell_type": "markdown",
   "metadata": {
    "nbpresent": {
     "id": "1f2dceeb-f08f-4894-8433-260956e571f2"
    },
    "slideshow": {
     "slide_type": "slide"
    }
   },
   "source": [
    "## XML files\n",
    "\n",
    "* xmltodict (via pip) - converts to dictionary\n",
    "* elementree (standard library, need to walk tree/search for data\n"
   ]
  },
  {
   "cell_type": "code",
   "execution_count": 16,
   "metadata": {
    "slideshow": {
     "slide_type": "slide"
    }
   },
   "outputs": [
    {
     "name": "stdout",
     "output_type": "stream",
     "text": [
      "<?xml version=\"1.0\"?>\n",
      "<data>\n",
      "    <country name=\"Liechtenstein\">\n",
      "        <rank>1</rank>\n",
      "        <year>2008</year>\n",
      "        <gdppc>141100</gdppc>\n",
      "        <neighbor name=\"Austria\" direction=\"E\"/>\n",
      "        <neighbor name=\"Switzerland\" direction=\"W\"/>\n",
      "    </country>\n",
      "    <country name=\"Singapore\">\n",
      "        <rank>4</rank>\n",
      "        <year>2011</year>\n",
      "        <gdppc>59900</gdppc>\n",
      "        <neighbor name=\"Malaysia\" direction=\"N\"/>\n",
      "    </country>\n",
      "    <country name=\"Panama\">\n",
      "        <rank>68</rank>\n",
      "        <year>2011</year>\n",
      "        <gdppc>13600</gdppc>\n",
      "        <neighbor name=\"Costa Rica\" direction=\"W\"/>\n",
      "        <neighbor name=\"Colombia\" direction=\"E\"/>\n",
      "    </country>\n",
      "</data>\n"
     ]
    }
   ],
   "source": [
    "with open(\"xml/sample_01.xml\") as input_file:\n",
    "    for row in input_file:\n",
    "        print(row.strip(\"\\n\"))"
   ]
  },
  {
   "cell_type": "code",
   "execution_count": null,
   "metadata": {
    "slideshow": {
     "slide_type": "slide"
    }
   },
   "outputs": [],
   "source": [
    "! pip install xmltodict\n"
   ]
  },
  {
   "cell_type": "code",
   "execution_count": null,
   "metadata": {
    "slideshow": {
     "slide_type": "slide"
    }
   },
   "outputs": [],
   "source": [
    "import xmltodict\n",
    "with open(\"xml/sample_01.xml\", \"rb\") as input_file:\n",
    "    data = xmltodict.parse(input_file)\n",
    "data"
   ]
  },
  {
   "cell_type": "code",
   "execution_count": null,
   "metadata": {
    "slideshow": {
     "slide_type": "slide"
    }
   },
   "outputs": [],
   "source": [
    "import xml.etree.ElementTree as ET\n",
    "tree = ET.parse('xml/sample_01.xml')\n",
    "root = tree.getroot()\n",
    "root"
   ]
  },
  {
   "cell_type": "code",
   "execution_count": null,
   "metadata": {
    "slideshow": {
     "slide_type": "slide"
    }
   },
   "outputs": [],
   "source": [
    "for item in root.getchildren():\n",
    "    print(item.tag, item.attrib)"
   ]
  },
  {
   "cell_type": "code",
   "execution_count": 14,
   "metadata": {
    "scrolled": true,
    "slideshow": {
     "slide_type": "slide"
    }
   },
   "outputs": [
    {
     "name": "stdout",
     "output_type": "stream",
     "text": [
      "<dwml xmlns:xsd=\"http://www.w3.org/2001/XMLSchema\" xmlns:xsi=\"http://www.w3.org/2001/XMLSchema-instance\" version=\"1.0\" xsi:noNamespaceSchemaLocation=\"http://www.nws.noaa.gov/forecasts/xml/DWMLgen/schema/DWML.xsd\">\n",
      "  <head>\n",
      "    <product srsName=\"WGS 1984\" concise-name=\"glance\" operational-mode=\"official\">\n",
      "      <title>\n",
      "\tNOAA's National Weather Service Forecast at a Glance\n",
      "      </title>\n",
      "      <field>meteorological</field>\n",
      "      <category>forecast</category>\n",
      "      <creation-date refresh-frequency=\"PT1H\">2017-01-08T02:52:41Z</creation-date>\n",
      "    </product>\n",
      "    <source>\n",
      "      <more-information>http://www.nws.noaa.gov/forecasts/xml/</more-information>\n",
      "      <production-center>\n",
      "\tMeteorological Development Laboratory\n",
      "\t<sub-center>Product Generation Branch</sub-center>\n",
      "      </production-center>\n",
      "      <disclaimer>http://www.nws.noaa.gov/disclaimer.html</disclaimer>\n",
      "      <credit>http://www.weather.gov/</credit>\n",
      "      <credit-logo>http://www.weather.gov/images/xml_logo.gif</credit-logo>\n",
      "      <feedback>http://www.weather.gov/feedback.php</feedback>\n",
      "    </source>\n",
      "  </head>\n",
      "  <data>\n",
      "    <location>\n",
      "      <location-key>point1</location-key>\n",
      "      <point latitude=\"41.78\" longitude=\"-88.65\"/>\n",
      "    </location>\n",
      "    <moreWeatherInformation applicable-location=\"point1\">\n",
      "      http://forecast.weather.gov/MapClick.php?textField1=41.87&textField2=-87.65\n",
      "    </moreWeatherInformation>\n",
      "    <time-layout time-coordinate=\"local\" summarization=\"none\">\n",
      "      <layout-key>k-p24h-n7-1</layout-key>\n",
      "      <start-valid-time period-name=\"Tomorrow\">2017-01-08T07:00:00-06:00</start-valid-time>\n",
      "      <end-valid-time>2017-01-08T19:00:00-06:00</end-valid-time>\n",
      "      <start-valid-time period-name=\"Monday\">2017-01-09T07:00:00-06:00</start-valid-time>\n",
      "      <end-valid-time>2017-01-09T19:00:00-06:00</end-valid-time>\n",
      "      <start-valid-time period-name=\"Tuesday\">2017-01-10T07:00:00-06:00</start-valid-time>\n",
      "      <end-valid-time>2017-01-10T19:00:00-06:00</end-valid-time>\n",
      "      <start-valid-time period-name=\"Wednesday\">2017-01-11T07:00:00-06:00</start-valid-time>\n",
      "      <end-valid-time>2017-01-11T19:00:00-06:00</end-valid-time>\n",
      "      <start-valid-time period-name=\"Thursday\">2017-01-12T07:00:00-06:00</start-valid-time>\n",
      "      <end-valid-time>2017-01-12T19:00:00-06:00</end-valid-time>\n",
      "      <start-valid-time period-name=\"Friday\">2017-01-13T07:00:00-06:00</start-valid-time>\n",
      "      <end-valid-time>2017-01-13T19:00:00-06:00</end-valid-time>\n",
      "      <start-valid-time period-name=\"Saturday\">2017-01-14T07:00:00-06:00</start-valid-time>\n",
      "      <end-valid-time>2017-01-14T19:00:00-06:00</end-valid-time>\n",
      "    </time-layout>\n",
      "    <time-layout time-coordinate=\"local\" summarization=\"none\">\n",
      "      <layout-key>k-p24h-n7-2</layout-key>\n",
      "      <start-valid-time period-name=\"Tonight\">2017-01-07T19:00:00-06:00</start-valid-time>\n",
      "      <end-valid-time>2017-01-08T08:00:00-06:00</end-valid-time>\n",
      "      <start-valid-time period-name=\"Tomorrow Night\">2017-01-08T19:00:00-06:00</start-valid-time>\n",
      "      <end-valid-time>2017-01-09T08:00:00-06:00</end-valid-time>\n",
      "      <start-valid-time period-name=\"Monday Night\">2017-01-09T19:00:00-06:00</start-valid-time>\n",
      "      <end-valid-time>2017-01-10T08:00:00-06:00</end-valid-time>\n",
      "      <start-valid-time period-name=\"Tuesday Night\">2017-01-10T19:00:00-06:00</start-valid-time>\n",
      "      <end-valid-time>2017-01-11T08:00:00-06:00</end-valid-time>\n",
      "      <start-valid-time period-name=\"Wednesday Night\">2017-01-11T19:00:00-06:00</start-valid-time>\n",
      "      <end-valid-time>2017-01-12T08:00:00-06:00</end-valid-time>\n",
      "      <start-valid-time period-name=\"Thursday Night\">2017-01-12T19:00:00-06:00</start-valid-time>\n",
      "      <end-valid-time>2017-01-13T08:00:00-06:00</end-valid-time>\n",
      "      <start-valid-time period-name=\"Friday Night\">2017-01-13T19:00:00-06:00</start-valid-time>\n",
      "      <end-valid-time>2017-01-14T08:00:00-06:00</end-valid-time>\n",
      "    </time-layout>\n",
      "    <time-layout time-coordinate=\"local\" summarization=\"none\">\n",
      "      <layout-key>k-p3h-n40-3</layout-key>\n",
      "      <start-valid-time>2017-01-07T21:00:00-06:00</start-valid-time>\n",
      "      <start-valid-time>2017-01-08T00:00:00-06:00</start-valid-time>\n",
      "      <start-valid-time>2017-01-08T03:00:00-06:00</start-valid-time>\n",
      "      <start-valid-time>2017-01-08T06:00:00-06:00</start-valid-time>\n",
      "      <start-valid-time>2017-01-08T09:00:00-06:00</start-valid-time>\n",
      "      <start-valid-time>2017-01-08T12:00:00-06:00</start-valid-time>\n",
      "      <start-valid-time>2017-01-08T15:00:00-06:00</start-valid-time>\n",
      "      <start-valid-time>2017-01-08T18:00:00-06:00</start-valid-time>\n",
      "      <start-valid-time>2017-01-08T21:00:00-06:00</start-valid-time>\n",
      "      <start-valid-time>2017-01-09T00:00:00-06:00</start-valid-time>\n",
      "      <start-valid-time>2017-01-09T03:00:00-06:00</start-valid-time>\n",
      "      <start-valid-time>2017-01-09T06:00:00-06:00</start-valid-time>\n",
      "      <start-valid-time>2017-01-09T09:00:00-06:00</start-valid-time>\n",
      "      <start-valid-time>2017-01-09T12:00:00-06:00</start-valid-time>\n",
      "      <start-valid-time>2017-01-09T15:00:00-06:00</start-valid-time>\n",
      "      <start-valid-time>2017-01-09T18:00:00-06:00</start-valid-time>\n",
      "      <start-valid-time>2017-01-09T21:00:00-06:00</start-valid-time>\n",
      "      <start-valid-time>2017-01-10T00:00:00-06:00</start-valid-time>\n",
      "      <start-valid-time>2017-01-10T03:00:00-06:00</start-valid-time>\n",
      "      <start-valid-time>2017-01-10T06:00:00-06:00</start-valid-time>\n",
      "      <start-valid-time>2017-01-10T09:00:00-06:00</start-valid-time>\n",
      "      <start-valid-time>2017-01-10T12:00:00-06:00</start-valid-time>\n",
      "      <start-valid-time>2017-01-10T15:00:00-06:00</start-valid-time>\n",
      "      <start-valid-time>2017-01-10T18:00:00-06:00</start-valid-time>\n",
      "      <start-valid-time>2017-01-11T00:00:00-06:00</start-valid-time>\n",
      "      <start-valid-time>2017-01-11T06:00:00-06:00</start-valid-time>\n",
      "      <start-valid-time>2017-01-11T12:00:00-06:00</start-valid-time>\n",
      "      <start-valid-time>2017-01-11T18:00:00-06:00</start-valid-time>\n",
      "      <start-valid-time>2017-01-12T00:00:00-06:00</start-valid-time>\n",
      "      <start-valid-time>2017-01-12T06:00:00-06:00</start-valid-time>\n",
      "      <start-valid-time>2017-01-12T12:00:00-06:00</start-valid-time>\n",
      "      <start-valid-time>2017-01-12T18:00:00-06:00</start-valid-time>\n",
      "      <start-valid-time>2017-01-13T00:00:00-06:00</start-valid-time>\n",
      "      <start-valid-time>2017-01-13T06:00:00-06:00</start-valid-time>\n",
      "      <start-valid-time>2017-01-13T12:00:00-06:00</start-valid-time>\n",
      "      <start-valid-time>2017-01-13T18:00:00-06:00</start-valid-time>\n",
      "      <start-valid-time>2017-01-14T00:00:00-06:00</start-valid-time>\n",
      "      <start-valid-time>2017-01-14T06:00:00-06:00</start-valid-time>\n",
      "      <start-valid-time>2017-01-14T12:00:00-06:00</start-valid-time>\n",
      "      <start-valid-time>2017-01-14T18:00:00-06:00</start-valid-time>\n",
      "    </time-layout>\n",
      "    <time-layout time-coordinate=\"local\" summarization=\"none\">\n",
      "      <layout-key>k-p1h-n78-4</layout-key>\n",
      "      <start-valid-time>2017-01-07T21:00:00-06:00</start-valid-time>\n",
      "      <start-valid-time>2017-01-07T22:00:00-06:00</start-valid-time>\n",
      "      <start-valid-time>2017-01-07T23:00:00-06:00</start-valid-time>\n",
      "      <start-valid-time>2017-01-08T00:00:00-06:00</start-valid-time>\n",
      "      <start-valid-time>2017-01-08T01:00:00-06:00</start-valid-time>\n",
      "      <start-valid-time>2017-01-08T02:00:00-06:00</start-valid-time>\n",
      "      <start-valid-time>2017-01-08T03:00:00-06:00</start-valid-time>\n",
      "      <start-valid-time>2017-01-08T04:00:00-06:00</start-valid-time>\n",
      "      <start-valid-time>2017-01-08T05:00:00-06:00</start-valid-time>\n",
      "      <start-valid-time>2017-01-08T06:00:00-06:00</start-valid-time>\n",
      "      <start-valid-time>2017-01-08T07:00:00-06:00</start-valid-time>\n",
      "      <start-valid-time>2017-01-08T08:00:00-06:00</start-valid-time>\n",
      "      <start-valid-time>2017-01-08T09:00:00-06:00</start-valid-time>\n",
      "      <start-valid-time>2017-01-08T10:00:00-06:00</start-valid-time>\n",
      "      <start-valid-time>2017-01-08T11:00:00-06:00</start-valid-time>\n",
      "      <start-valid-time>2017-01-08T12:00:00-06:00</start-valid-time>\n",
      "      <start-valid-time>2017-01-08T13:00:00-06:00</start-valid-time>\n",
      "      <start-valid-time>2017-01-08T14:00:00-06:00</start-valid-time>\n",
      "      <start-valid-time>2017-01-08T15:00:00-06:00</start-valid-time>\n",
      "      <start-valid-time>2017-01-08T16:00:00-06:00</start-valid-time>\n",
      "      <start-valid-time>2017-01-08T17:00:00-06:00</start-valid-time>\n",
      "      <start-valid-time>2017-01-08T18:00:00-06:00</start-valid-time>\n",
      "      <start-valid-time>2017-01-08T19:00:00-06:00</start-valid-time>\n",
      "      <start-valid-time>2017-01-08T20:00:00-06:00</start-valid-time>\n",
      "      <start-valid-time>2017-01-08T21:00:00-06:00</start-valid-time>\n",
      "      <start-valid-time>2017-01-08T22:00:00-06:00</start-valid-time>\n",
      "      <start-valid-time>2017-01-08T23:00:00-06:00</start-valid-time>\n",
      "      <start-valid-time>2017-01-09T00:00:00-06:00</start-valid-time>\n",
      "      <start-valid-time>2017-01-09T01:00:00-06:00</start-valid-time>\n",
      "      <start-valid-time>2017-01-09T02:00:00-06:00</start-valid-time>\n",
      "      <start-valid-time>2017-01-09T03:00:00-06:00</start-valid-time>\n",
      "      <start-valid-time>2017-01-09T04:00:00-06:00</start-valid-time>\n",
      "      <start-valid-time>2017-01-09T05:00:00-06:00</start-valid-time>\n",
      "      <start-valid-time>2017-01-09T06:00:00-06:00</start-valid-time>\n",
      "      <start-valid-time>2017-01-09T07:00:00-06:00</start-valid-time>\n",
      "      <start-valid-time>2017-01-09T08:00:00-06:00</start-valid-time>\n",
      "      <start-valid-time>2017-01-09T09:00:00-06:00</start-valid-time>\n",
      "      <start-valid-time>2017-01-09T10:00:00-06:00</start-valid-time>\n",
      "      <start-valid-time>2017-01-09T11:00:00-06:00</start-valid-time>\n",
      "      <start-valid-time>2017-01-09T12:00:00-06:00</start-valid-time>\n",
      "      <start-valid-time>2017-01-09T13:00:00-06:00</start-valid-time>\n",
      "      <start-valid-time>2017-01-09T14:00:00-06:00</start-valid-time>\n",
      "      <start-valid-time>2017-01-09T15:00:00-06:00</start-valid-time>\n",
      "      <start-valid-time>2017-01-09T16:00:00-06:00</start-valid-time>\n",
      "      <start-valid-time>2017-01-09T17:00:00-06:00</start-valid-time>\n",
      "      <start-valid-time>2017-01-09T18:00:00-06:00</start-valid-time>\n",
      "      <start-valid-time>2017-01-09T19:00:00-06:00</start-valid-time>\n",
      "      <start-valid-time>2017-01-09T20:00:00-06:00</start-valid-time>\n",
      "      <start-valid-time>2017-01-09T21:00:00-06:00</start-valid-time>\n",
      "      <start-valid-time>2017-01-09T22:00:00-06:00</start-valid-time>\n",
      "      <start-valid-time>2017-01-09T23:00:00-06:00</start-valid-time>\n",
      "      <start-valid-time>2017-01-10T00:00:00-06:00</start-valid-time>\n",
      "      <start-valid-time>2017-01-10T01:00:00-06:00</start-valid-time>\n",
      "      <start-valid-time>2017-01-10T02:00:00-06:00</start-valid-time>\n",
      "      <start-valid-time>2017-01-10T03:00:00-06:00</start-valid-time>\n",
      "      <start-valid-time>2017-01-10T04:00:00-06:00</start-valid-time>\n",
      "      <start-valid-time>2017-01-10T05:00:00-06:00</start-valid-time>\n",
      "      <start-valid-time>2017-01-10T06:00:00-06:00</start-valid-time>\n",
      "      <start-valid-time>2017-01-10T07:00:00-06:00</start-valid-time>\n",
      "      <start-valid-time>2017-01-10T08:00:00-06:00</start-valid-time>\n",
      "      <start-valid-time>2017-01-10T09:00:00-06:00</start-valid-time>\n",
      "      <start-valid-time>2017-01-10T10:00:00-06:00</start-valid-time>\n",
      "      <start-valid-time>2017-01-10T11:00:00-06:00</start-valid-time>\n",
      "      <start-valid-time>2017-01-10T12:00:00-06:00</start-valid-time>\n",
      "      <start-valid-time>2017-01-10T13:00:00-06:00</start-valid-time>\n",
      "      <start-valid-time>2017-01-10T14:00:00-06:00</start-valid-time>\n",
      "      <start-valid-time>2017-01-10T15:00:00-06:00</start-valid-time>\n",
      "      <start-valid-time>2017-01-10T16:00:00-06:00</start-valid-time>\n",
      "      <start-valid-time>2017-01-10T17:00:00-06:00</start-valid-time>\n",
      "      <start-valid-time>2017-01-10T18:00:00-06:00</start-valid-time>\n",
      "      <start-valid-time>2017-01-11T00:00:00-06:00</start-valid-time>\n",
      "      <start-valid-time>2017-01-11T06:00:00-06:00</start-valid-time>\n",
      "      <start-valid-time>2017-01-11T12:00:00-06:00</start-valid-time>\n",
      "      <start-valid-time>2017-01-11T18:00:00-06:00</start-valid-time>\n",
      "      <start-valid-time>2017-01-12T00:00:00-06:00</start-valid-time>\n",
      "      <start-valid-time>2017-01-12T06:00:00-06:00</start-valid-time>\n",
      "      <start-valid-time>2017-01-12T12:00:00-06:00</start-valid-time>\n",
      "      <start-valid-time>2017-01-12T18:00:00-06:00</start-valid-time>\n",
      "    </time-layout>\n",
      "    <parameters applicable-location=\"point1\">\n",
      "      <temperature type=\"maximum\" units=\"Fahrenheit\" time-layout=\"k-p24h-n7-1\">\n",
      "\t<name>Daily Maximum Temperature</name>\n",
      "\t<value>20</value>\n",
      "\t<value>31</value>\n",
      "\t<value>45</value>\n",
      "\t<value>32</value>\n",
      "\t<value>37</value>\n",
      "\t<value>28</value>\n",
      "\t<value>27</value>\n",
      "      </temperature>\n",
      "      <temperature type=\"minimum\" units=\"Fahrenheit\" time-layout=\"k-p24h-n7-2\">\n",
      "\t<name>Daily Minimum Temperature</name>\n",
      "\t<value>4</value>\n",
      "\t<value>16</value>\n",
      "\t<value>29</value>\n",
      "\t<value>23</value>\n",
      "\t<value>28</value>\n",
      "\t<value>23</value>\n",
      "\t<value>18</value>\n",
      "      </temperature>\n",
      "      <cloud-amount type=\"total\" units=\"percent\" time-layout=\"k-p3h-n40-3\">\n",
      "\t<name>Cloud Cover Amount</name>\n",
      "\t<value>3</value>\n",
      "\t<value>3</value>\n",
      "\t<value>3</value>\n",
      "\t<value>3</value>\n",
      "\t<value>17</value>\n",
      "\t<value>16</value>\n",
      "\t<value>40</value>\n",
      "\t<value>73</value>\n",
      "\t<value>89</value>\n",
      "\t<value>87</value>\n",
      "\t<value>75</value>\n",
      "\t<value>63</value>\n",
      "\t<value>68</value>\n",
      "\t<value>81</value>\n",
      "\t<value>92</value>\n",
      "\t<value>95</value>\n",
      "\t<value>92</value>\n",
      "\t<value>99</value>\n",
      "\t<value>100</value>\n",
      "\t<value>99</value>\n",
      "\t<value>98</value>\n",
      "\t<value>98</value>\n",
      "\t<value>97</value>\n",
      "\t<value>86</value>\n",
      "\t<value>60</value>\n",
      "\t<value>66</value>\n",
      "\t<value>57</value>\n",
      "\t<value>70</value>\n",
      "\t<value>89</value>\n",
      "\t<value>93</value>\n",
      "\t<value>87</value>\n",
      "\t<value>77</value>\n",
      "\t<value>84</value>\n",
      "\t<value>89</value>\n",
      "\t<value>90</value>\n",
      "\t<value>88</value>\n",
      "\t<value>81</value>\n",
      "\t<value>76</value>\n",
      "\t<value>67</value>\n",
      "\t<value>83</value>\n",
      "      </cloud-amount>\n",
      "      <weather time-layout=\"k-p3h-n40-3\">\n",
      "\t<name>Weather Type, Coverage, and Intensity</name>\n",
      "\t<weather-conditions/>\n",
      "\t<weather-conditions/>\n",
      "\t<weather-conditions/>\n",
      "\t<weather-conditions/>\n",
      "\t<weather-conditions/>\n",
      "\t<weather-conditions/>\n",
      "\t<weather-conditions/>\n",
      "\t<weather-conditions/>\n",
      "\t<weather-conditions/>\n",
      "\t<weather-conditions/>\n",
      "\t<weather-conditions/>\n",
      "\t<weather-conditions/>\n",
      "\t<weather-conditions/>\n",
      "\t<weather-conditions/>\n",
      "\t<weather-conditions/>\n",
      "\t<weather-conditions>\n",
      "\t  <value coverage=\"chance\" intensity=\"light\" weather-type=\"snow\" qualifier=\"none\">\n",
      "\t    <visibility xsi:nil=\"true\"/>\n",
      "\t  </value>\n",
      "\t</weather-conditions>\n",
      "\t<weather-conditions>\n",
      "\t  <value coverage=\"chance\" intensity=\"light\" weather-type=\"snow\" qualifier=\"none\">\n",
      "\t    <visibility xsi:nil=\"true\"/>\n",
      "\t  </value>\n",
      "\t</weather-conditions>\n",
      "\t<weather-conditions>\n",
      "\t  <value coverage=\"likely\" intensity=\"light\" weather-type=\"snow\" qualifier=\"none\">\n",
      "\t    <visibility xsi:nil=\"true\"/>\n",
      "\t  </value>\n",
      "\t</weather-conditions>\n",
      "\t<weather-conditions>\n",
      "\t  <value coverage=\"likely\" intensity=\"light\" weather-type=\"rain\" qualifier=\"none\">\n",
      "\t    <visibility xsi:nil=\"true\"/>\n",
      "\t  </value>\n",
      "\t  <value coverage=\"likely\" intensity=\"light\" additive=\"and\" weather-type=\"snow\" qualifier=\"none\">\n",
      "\t    <visibility xsi:nil=\"true\"/>\n",
      "\t  </value>\n",
      "\t</weather-conditions>\n",
      "\t<weather-conditions>\n",
      "\t  <value coverage=\"likely\" intensity=\"light\" weather-type=\"rain\" qualifier=\"none\">\n",
      "\t    <visibility xsi:nil=\"true\"/>\n",
      "\t  </value>\n",
      "\t</weather-conditions>\n",
      "\t<weather-conditions>\n",
      "\t  <value coverage=\"likely\" intensity=\"light\" weather-type=\"rain\" qualifier=\"none\">\n",
      "\t    <visibility xsi:nil=\"true\"/>\n",
      "\t  </value>\n",
      "\t</weather-conditions>\n",
      "\t<weather-conditions>\n",
      "\t  <value coverage=\"likely\" intensity=\"light\" weather-type=\"rain\" qualifier=\"none\">\n",
      "\t    <visibility xsi:nil=\"true\"/>\n",
      "\t  </value>\n",
      "\t</weather-conditions>\n",
      "\t<weather-conditions>\n",
      "\t  <value coverage=\"likely\" intensity=\"light\" weather-type=\"rain\" qualifier=\"none\">\n",
      "\t    <visibility xsi:nil=\"true\"/>\n",
      "\t  </value>\n",
      "\t</weather-conditions>\n",
      "\t<weather-conditions/>\n",
      "\t<weather-conditions/>\n",
      "\t<weather-conditions/>\n",
      "\t<weather-conditions/>\n",
      "\t<weather-conditions>\n",
      "\t  <value coverage=\"chance\" intensity=\"light\" weather-type=\"snow\" qualifier=\"none\">\n",
      "\t    <visibility xsi:nil=\"true\"/>\n",
      "\t  </value>\n",
      "\t</weather-conditions>\n",
      "\t<weather-conditions>\n",
      "\t  <value coverage=\"likely\" intensity=\"light\" weather-type=\"snow\" qualifier=\"none\">\n",
      "\t    <visibility xsi:nil=\"true\"/>\n",
      "\t  </value>\n",
      "\t</weather-conditions>\n",
      "\t<weather-conditions>\n",
      "\t  <value coverage=\"chance\" intensity=\"light\" weather-type=\"snow\" qualifier=\"none\">\n",
      "\t    <visibility xsi:nil=\"true\"/>\n",
      "\t  </value>\n",
      "\t</weather-conditions>\n",
      "\t<weather-conditions/>\n",
      "\t<weather-conditions/>\n",
      "\t<weather-conditions/>\n",
      "\t<weather-conditions>\n",
      "\t  <value coverage=\"slight chance\" intensity=\"light\" weather-type=\"snow\" qualifier=\"none\">\n",
      "\t    <visibility xsi:nil=\"true\"/>\n",
      "\t  </value>\n",
      "\t</weather-conditions>\n",
      "\t<weather-conditions>\n",
      "\t  <value coverage=\"slight chance\" intensity=\"light\" weather-type=\"snow\" qualifier=\"none\">\n",
      "\t    <visibility xsi:nil=\"true\"/>\n",
      "\t  </value>\n",
      "\t</weather-conditions>\n",
      "\t<weather-conditions/>\n",
      "\t<weather-conditions/>\n",
      "\t<weather-conditions/>\n",
      "\t<weather-conditions/>\n",
      "\t<weather-conditions/>\n",
      "      </weather>\n",
      "      <conditions-icon type=\"forecast-NWS\" time-layout=\"k-p3h-n40-3\">\n",
      "\t<name>Conditions Icons</name>\n",
      "\t<icon-link>http://forecast.weather.gov/images/wtf/nskc.jpg</icon-link>\n",
      "\t<icon-link>http://forecast.weather.gov/images/wtf/nskc.jpg</icon-link>\n",
      "\t<icon-link>http://forecast.weather.gov/images/wtf/nskc.jpg</icon-link>\n",
      "\t<icon-link>http://forecast.weather.gov/images/wtf/nskc.jpg</icon-link>\n",
      "\t<icon-link>http://forecast.weather.gov/images/wtf/few.jpg</icon-link>\n",
      "\t<icon-link>http://forecast.weather.gov/images/wtf/few.jpg</icon-link>\n",
      "\t<icon-link>http://forecast.weather.gov/images/wtf/sct.jpg</icon-link>\n",
      "\t<icon-link>http://forecast.weather.gov/images/wtf/nbkn.jpg</icon-link>\n",
      "\t<icon-link>http://forecast.weather.gov/images/wtf/novc.jpg</icon-link>\n",
      "\t<icon-link>http://forecast.weather.gov/images/wtf/nbkn.jpg</icon-link>\n",
      "\t<icon-link>http://forecast.weather.gov/images/wtf/nbkn.jpg</icon-link>\n",
      "\t<icon-link>http://forecast.weather.gov/images/wtf/nbkn.jpg</icon-link>\n",
      "\t<icon-link>http://forecast.weather.gov/images/wtf/bkn.jpg</icon-link>\n",
      "\t<icon-link>http://forecast.weather.gov/images/wtf/bkn.jpg</icon-link>\n",
      "\t<icon-link>http://forecast.weather.gov/images/wtf/ovc.jpg</icon-link>\n",
      "\t<icon-link>http://forecast.weather.gov/images/wtf/nsn10.jpg</icon-link>\n",
      "\t<icon-link>http://forecast.weather.gov/images/wtf/nsn60.jpg</icon-link>\n",
      "\t<icon-link>http://forecast.weather.gov/images/wtf/nsn60.jpg</icon-link>\n",
      "\t<icon-link>http://forecast.weather.gov/images/wtf/nrasn60.jpg</icon-link>\n",
      "\t<icon-link>http://forecast.weather.gov/images/wtf/nra60.jpg</icon-link>\n",
      "\t<icon-link>http://forecast.weather.gov/images/wtf/ra70.jpg</icon-link>\n",
      "\t<icon-link>http://forecast.weather.gov/images/wtf/ra70.jpg</icon-link>\n",
      "\t<icon-link>http://forecast.weather.gov/images/wtf/ra70.jpg</icon-link>\n",
      "\t<icon-link>http://forecast.weather.gov/images/wtf/nbkn.jpg</icon-link>\n",
      "\t<icon-link>http://forecast.weather.gov/images/wtf/nbkn.jpg</icon-link>\n",
      "\t<icon-link>http://forecast.weather.gov/images/wtf/nbkn.jpg</icon-link>\n",
      "\t<icon-link>http://forecast.weather.gov/images/wtf/bkn.jpg</icon-link>\n",
      "\t<icon-link>http://forecast.weather.gov/images/wtf/nsn10.jpg</icon-link>\n",
      "\t<icon-link>http://forecast.weather.gov/images/wtf/nsn60.jpg</icon-link>\n",
      "\t<icon-link>http://forecast.weather.gov/images/wtf/nsn60.jpg</icon-link>\n",
      "\t<icon-link>http://forecast.weather.gov/images/wtf/bkn.jpg</icon-link>\n",
      "\t<icon-link>http://forecast.weather.gov/images/wtf/nbkn.jpg</icon-link>\n",
      "\t<icon-link>http://forecast.weather.gov/images/wtf/nbkn.jpg</icon-link>\n",
      "\t<icon-link>http://forecast.weather.gov/images/wtf/nsn10.jpg</icon-link>\n",
      "\t<icon-link>http://forecast.weather.gov/images/wtf/sn20.jpg</icon-link>\n",
      "\t<icon-link>http://forecast.weather.gov/images/wtf/novc.jpg</icon-link>\n",
      "\t<icon-link>http://forecast.weather.gov/images/wtf/nbkn.jpg</icon-link>\n",
      "\t<icon-link>http://forecast.weather.gov/images/wtf/nbkn.jpg</icon-link>\n",
      "\t<icon-link>http://forecast.weather.gov/images/wtf/bkn.jpg</icon-link>\n",
      "\t<icon-link>http://forecast.weather.gov/images/wtf/nbkn.jpg</icon-link>\n",
      "      </conditions-icon>\n",
      "      <hazards time-layout=\"k-p1h-n78-4\">\n",
      "\t<name>Watches, Warnings, and Advisories</name>\n",
      "\t<hazard-conditions/>\n",
      "\t<hazard-conditions/>\n",
      "\t<hazard-conditions/>\n",
      "\t<hazard-conditions/>\n",
      "\t<hazard-conditions/>\n",
      "\t<hazard-conditions/>\n",
      "\t<hazard-conditions/>\n",
      "\t<hazard-conditions/>\n",
      "\t<hazard-conditions/>\n",
      "\t<hazard-conditions/>\n",
      "\t<hazard-conditions/>\n",
      "\t<hazard-conditions/>\n",
      "\t<hazard-conditions/>\n",
      "\t<hazard-conditions/>\n",
      "\t<hazard-conditions/>\n",
      "\t<hazard-conditions/>\n",
      "\t<hazard-conditions/>\n",
      "\t<hazard-conditions/>\n",
      "\t<hazard-conditions/>\n",
      "\t<hazard-conditions/>\n",
      "\t<hazard-conditions/>\n",
      "\t<hazard-conditions/>\n",
      "\t<hazard-conditions/>\n",
      "\t<hazard-conditions/>\n",
      "\t<hazard-conditions/>\n",
      "\t<hazard-conditions/>\n",
      "\t<hazard-conditions/>\n",
      "\t<hazard-conditions/>\n",
      "\t<hazard-conditions/>\n",
      "\t<hazard-conditions/>\n",
      "\t<hazard-conditions/>\n",
      "\t<hazard-conditions/>\n",
      "\t<hazard-conditions/>\n",
      "\t<hazard-conditions/>\n",
      "\t<hazard-conditions/>\n",
      "\t<hazard-conditions/>\n",
      "\t<hazard-conditions/>\n",
      "\t<hazard-conditions/>\n",
      "\t<hazard-conditions/>\n",
      "\t<hazard-conditions/>\n",
      "\t<hazard-conditions/>\n",
      "\t<hazard-conditions/>\n",
      "\t<hazard-conditions/>\n",
      "\t<hazard-conditions/>\n",
      "\t<hazard-conditions/>\n",
      "\t<hazard-conditions/>\n",
      "\t<hazard-conditions/>\n",
      "\t<hazard-conditions/>\n",
      "\t<hazard-conditions/>\n",
      "\t<hazard-conditions/>\n",
      "\t<hazard-conditions/>\n",
      "\t<hazard-conditions/>\n",
      "\t<hazard-conditions/>\n",
      "\t<hazard-conditions/>\n",
      "\t<hazard-conditions/>\n",
      "\t<hazard-conditions/>\n",
      "\t<hazard-conditions/>\n",
      "\t<hazard-conditions/>\n",
      "\t<hazard-conditions/>\n",
      "\t<hazard-conditions/>\n",
      "\t<hazard-conditions/>\n",
      "\t<hazard-conditions/>\n",
      "\t<hazard-conditions/>\n",
      "\t<hazard-conditions/>\n",
      "\t<hazard-conditions/>\n",
      "\t<hazard-conditions/>\n",
      "\t<hazard-conditions/>\n",
      "\t<hazard-conditions/>\n",
      "\t<hazard-conditions/>\n",
      "\t<hazard-conditions/>\n",
      "\t<hazard-conditions/>\n",
      "\t<hazard-conditions/>\n",
      "\t<hazard-conditions/>\n",
      "\t<hazard-conditions/>\n",
      "\t<hazard-conditions/>\n",
      "\t<hazard-conditions/>\n",
      "\t<hazard-conditions/>\n",
      "\t<hazard-conditions/>\n",
      "      </hazards>\n",
      "    </parameters>\n",
      "  </data>\n",
      "</dwml>\n"
     ]
    }
   ],
   "source": [
    "with open(\"xml/observations.xml\") as input_file:\n",
    "    for row in input_file:\n",
    "        print(row.strip(\"\\n\"))"
   ]
  },
  {
   "cell_type": "markdown",
   "metadata": {
    "nbpresent": {
     "id": "855fc1b2-1ef8-4703-88ea-05c8d5a5fb67"
    },
    "slideshow": {
     "slide_type": "slide"
    }
   },
   "source": [
    "### Debugging\n",
    "\n",
    "#### **Use `print` a lot**\n",
    "  * simple\n",
    "  * fast\n",
    "  * “Did the code get here, and what was x when it did?”\n",
    "  * Not so good for edge cases in loops, large structures, etc.\n",
    "  * a bit awkward to clean up afterwards"
   ]
  },
  {
   "cell_type": "markdown",
   "metadata": {
    "nbpresent": {
     "id": "9f76d53b-d0f8-4bfc-af42-a26ebf252826"
    },
    "slideshow": {
     "slide_type": "slide"
    }
   },
   "source": [
    "#### **logging** \n",
    "  * https://docs.python.org/3/howto/logging-cookbook.html, https://docs.python.org/3/howto/logging.html\n",
    "  * useful in production\n",
    "  * configurable levels\n",
    "  * multiple handlers\n",
    "  * file record\n",
    "  * more work to set up\n",
    "  * less clean-up, just set the debug levels\n"
   ]
  },
  {
   "cell_type": "code",
   "execution_count": null,
   "metadata": {
    "slideshow": {
     "slide_type": "slide"
    }
   },
   "outputs": [],
   "source": [
    "import logging\n",
    "\n",
    "# create the logger\n",
    "logger = logging.getLogger(\"my_process\")\n",
    "logger.setLevel(logging.DEBUG)\n",
    "\n",
    "# set up file for debug level messages\n",
    "file_handler = logging.FileHandler(\"process.log\")\n",
    "file_handler.setLevel(logging.DEBUG)\n",
    "logger.addHandler(file_handler)\n",
    "\n",
    "# setup console for errors only\n",
    "console_handler = logging.StreamHandler()\n",
    "console_handler.setLevel(logging.ERROR)\n",
    "logger.addHandler(console_handler)\n",
    "\n",
    "logger.debug(\"This goes only to the file\")\n",
    "logger.error(\"This only goes to the console and the file\")"
   ]
  },
  {
   "cell_type": "code",
   "execution_count": null,
   "metadata": {
    "slideshow": {
     "slide_type": "fragment"
    }
   },
   "outputs": [],
   "source": [
    "print(open('process.log').read())"
   ]
  },
  {
   "cell_type": "markdown",
   "metadata": {
    "nbpresent": {
     "id": "9b164dc6-c050-4577-94a1-008abe094762"
    },
    "slideshow": {
     "slide_type": "slide"
    }
   },
   "source": [
    "#### IDE debugger\n",
    "  * conditional break points\n",
    "  * stepping through a process\n",
    "  * more work and time than print\n",
    "  * IDE debuggers are a bit awkward for large files, etc"
   ]
  },
  {
   "cell_type": "markdown",
   "metadata": {
    "nbpresent": {
     "id": "9b164dc6-c050-4577-94a1-008abe094762"
    },
    "slideshow": {
     "slide_type": "slide"
    }
   },
   "source": [
    "#### Python debugger\n",
    "  * https://docs.python.org/3/library/pdb.html\n",
    "  * good for complex situations\n",
    "  * conditional break points\n",
    "  * stepping through a process\n",
    "  * more work and time than print\n",
    "  * needs some clean-up"
   ]
  },
  {
   "cell_type": "code",
   "execution_count": null,
   "metadata": {
    "nbpresent": {
     "id": "6545282f-ccba-4d6d-9f4e-df39b58cf55a"
    },
    "slideshow": {
     "slide_type": "subslide"
    }
   },
   "outputs": [],
   "source": [
    "import pdb\n",
    "\n",
    "for x in range(10):\n",
    "    # do various things here... \n",
    "    y = x*x\n",
    "    pdb.set_trace()\n"
   ]
  },
  {
   "cell_type": "markdown",
   "metadata": {
    "nbpresent": {
     "id": "95a06dd6-07a2-423a-929c-aa1b046c1b11"
    },
    "slideshow": {
     "slide_type": "slide"
    }
   },
   "source": [
    "## Tips and tricks\n",
    "\n",
    "* Use commandline (unix) tools - e.g. sort, grep\n",
    "* Clean lines rather than fields if possible\n",
    "* Use sets \n",
    "    * for uniqueness\n",
    "    * for membership\n",
    "* Use dictionaries for matching\n",
    "* Use list and dictionary comprehensions\n",
    "\n"
   ]
  },
  {
   "cell_type": "code",
   "execution_count": null,
   "metadata": {
    "slideshow": {
     "slide_type": "slide"
    }
   },
   "outputs": [],
   "source": [
    "# sets vs. lists\n",
    "\n",
    "numbers = list(range(100000))\n",
    "\n",
    "\n",
    "def find_list(target, numbers):\n",
    "    return (\n",
    "        target in numbers\n",
    "        and target - 1 in numbers\n",
    "        and target - 2 in numbers\n",
    "        and target - 3 in numbers\n",
    "    )\n",
    "\n",
    "\n",
    "def find_set(target, numbers):\n",
    "    numbers = set(numbers)\n",
    "    return (\n",
    "        target in numbers\n",
    "        and target - 1 in numbers\n",
    "        and target - 2 in numbers\n",
    "        and target - 3 in numbers\n",
    "    )"
   ]
  },
  {
   "cell_type": "code",
   "execution_count": null,
   "metadata": {
    "slideshow": {
     "slide_type": "slide"
    }
   },
   "outputs": [],
   "source": [
    "%timeit find_list(99999, numbers)\n",
    "\n",
    "%timeit find_set(99999, numbers)"
   ]
  },
  {
   "cell_type": "markdown",
   "metadata": {
    "nbpresent": {
     "id": "efd64576-0af8-4206-85b4-deefc6a3332a"
    },
    "slideshow": {
     "slide_type": "slide"
    }
   },
   "source": [
    "## Optimizations\n",
    "\n",
    "* avoid premature optimizations - start naively and then optimize\n",
    "* processor time is generally cheaper than human time\n",
    "* beware of loops - move things out\n",
    "* avoid repeated string operations (concatenation, etc)\n",
    "* parallelization and concurrency\n",
    "* avoid reading and especially avoid writing to disk (or DB, or virtual memory)\n",
    "* divide and conquer (map/reduce)\n",
    "* sorting can help (binary search)\n",
    "* generators save memory (but are a little slower)\n",
    "\n",
    "\n"
   ]
  },
  {
   "cell_type": "markdown",
   "metadata": {
    "nbpresent": {
     "id": "090c6c48-6c1a-4935-a04f-db2ac240f166"
    },
    "slideshow": {
     "slide_type": "slide"
    }
   },
   "source": [
    "## Very large files\n",
    "\n",
    "(Example: based on  product feed -> MongoDB, combining 4 files)\n",
    "* 4 delimited flat files, unsorted\n",
    "  * items - ~2 million rows; sku, description, categories, dimensions, compliance, brand, MPN, etc.\n",
    "  * attributes - 20 million rows; sku, attr_id, attr_name, attr_value\n",
    "  * alternates/accessories - sku, type, alt_sku - 1 million rows\n",
    "  * cross reference - sku, competitor, alt part number - \n",
    "* Add record of any changes"
   ]
  },
  {
   "cell_type": "markdown",
   "metadata": {
    "slideshow": {
     "slide_type": "slide"
    }
   },
   "source": [
    "### Solution\n",
    "1. Sort all files by SKU using Unix sort\n",
    "2. Get existing record from Mongo\n",
    "3. Process all related files for that SKU\n",
    "4. Compare for changes\n",
    "5. Update Mongo if needed"
   ]
  },
  {
   "cell_type": "markdown",
   "metadata": {
    "nbpresent": {
     "id": "f3318c2a-024f-4294-af42-8062b373c241"
    },
    "slideshow": {
     "slide_type": "slide"
    }
   },
   "source": [
    "## Testing?\n",
    "* Problems with testing over very large data sets\n",
    "* Small sample for sanity check\n",
    "* Loud errors\n",
    "* Be sparing with exceptions\n",
    "\n"
   ]
  }
 ],
 "metadata": {
  "celltoolbar": "Slideshow",
  "kernelspec": {
   "display_name": "Python 3.7",
   "language": "python",
   "name": "python3.7"
  },
  "language_info": {
   "codemirror_mode": {
    "name": "ipython",
    "version": 3
   },
   "file_extension": ".py",
   "mimetype": "text/x-python",
   "name": "python",
   "nbconvert_exporter": "python",
   "pygments_lexer": "ipython3",
   "version": "3.7.3"
  },
  "livereveal": {
   "start_slideshow_at": "selected"
  },
  "nbpresent": {
   "slides": {
    "16fa30ee-1d7e-4f43-8365-3994b6ed36a8": {
     "id": "16fa30ee-1d7e-4f43-8365-3994b6ed36a8",
     "prev": "2bb83e06-39b5-4e33-86c6-1dfd5fca6c30",
     "regions": {
      "7a284399-8ba1-44d2-a414-f1f7ed045a81": {
       "attrs": {
        "height": 0.4,
        "width": 0.8,
        "x": 0.1,
        "y": 0.5
       },
       "content": {
        "cell": "9b164dc6-c050-4577-94a1-008abe094762",
        "part": "whole"
       },
       "id": "7a284399-8ba1-44d2-a414-f1f7ed045a81"
      },
      "ae912645-78b0-4103-888a-57c7c053f85a": {
       "attrs": {
        "height": 0.8,
        "width": 0.8,
        "x": 0.1,
        "y": 0.1
       },
       "content": {
        "cell": "9f76d53b-d0f8-4bfc-af42-a26ebf252826",
        "part": "whole"
       },
       "id": "ae912645-78b0-4103-888a-57c7c053f85a"
      },
      "ea333b90-9bec-4680-8f52-5d567d5a5b11": {
       "attrs": {
        "height": 0.4,
        "width": 0.8,
        "x": 0.1,
        "y": 0.5
       },
       "content": {
        "cell": "6545282f-ccba-4d6d-9f4e-df39b58cf55a",
        "part": "whole"
       },
       "id": "ea333b90-9bec-4680-8f52-5d567d5a5b11"
      }
     }
    },
    "1cca9be6-223a-4a5b-9707-c9f192485ab9": {
     "id": "1cca9be6-223a-4a5b-9707-c9f192485ab9",
     "prev": "5956f6ec-fa48-4408-a0d0-b400ebdf7c74",
     "regions": {
      "08bb1fde-08c9-4d9d-87a0-9dfbcf368ceb": {
       "attrs": {
        "height": 0.8,
        "width": 0.8,
        "x": 0.1,
        "y": 0.1
       },
       "content": {
        "cell": "c55fd0b6-61f6-44ef-b90e-254adccefb6b",
        "part": "whole"
       },
       "id": "08bb1fde-08c9-4d9d-87a0-9dfbcf368ceb"
      },
      "1ce204ad-2b0a-4c6e-a192-934945b2f900": {
       "attrs": {
        "height": 0.4,
        "width": 0.8,
        "x": 0.1,
        "y": 0.5
       },
       "content": {
        "cell": "cca27bf6-5f61-46a7-bb21-e5759ea6981d",
        "part": "whole"
       },
       "id": "1ce204ad-2b0a-4c6e-a192-934945b2f900"
      },
      "632b6b63-2b29-475d-90a5-c5bafef46831": {
       "attrs": {
        "height": 0.4,
        "width": 0.8,
        "x": 0.1,
        "y": 0.5
       },
       "content": {
        "cell": "2434938b-ccb3-47f4-a5f3-21ecf43c23f9",
        "part": "whole"
       },
       "id": "632b6b63-2b29-475d-90a5-c5bafef46831"
      }
     }
    },
    "2271af5b-13e3-41ba-bca0-1eabb3d29814": {
     "id": "2271af5b-13e3-41ba-bca0-1eabb3d29814",
     "prev": null,
     "regions": {
      "99631131-5bdc-4fa0-a464-4659b3c109d0": {
       "attrs": {
        "height": 0.8,
        "width": 0.8,
        "x": 0.1,
        "y": 0.1
       },
       "content": {
        "cell": "26b3b9ad-6a1d-474b-8f6c-40acd315151a",
        "part": "whole"
       },
       "id": "99631131-5bdc-4fa0-a464-4659b3c109d0"
      }
     }
    },
    "2b0e9ac9-aade-4454-b430-35240525f60f": {
     "id": "2b0e9ac9-aade-4454-b430-35240525f60f",
     "prev": "fd14396f-871d-4acc-8bc7-0b5318ba394a",
     "regions": {
      "d5dfcaaf-2c1e-4787-92c0-8a147ae14c5d": {
       "attrs": {
        "height": 0.8,
        "width": 0.8,
        "x": 0.1,
        "y": 0.1
       },
       "content": {
        "cell": "ec3c0175-88c7-4162-8236-2b24993de91f",
        "part": "whole"
       },
       "id": "d5dfcaaf-2c1e-4787-92c0-8a147ae14c5d"
      }
     }
    },
    "2bb83e06-39b5-4e33-86c6-1dfd5fca6c30": {
     "id": "2bb83e06-39b5-4e33-86c6-1dfd5fca6c30",
     "prev": "8a36bdbb-f784-456c-9c16-aa88631e0226",
     "regions": {
      "0e7f7b42-07a6-4e4d-b997-2bf0f9af2713": {
       "attrs": {
        "height": 0.8,
        "width": 0.8,
        "x": 0.1,
        "y": 0.1
       },
       "content": {
        "cell": "855fc1b2-1ef8-4703-88ea-05c8d5a5fb67",
        "part": "whole"
       },
       "id": "0e7f7b42-07a6-4e4d-b997-2bf0f9af2713"
      }
     }
    },
    "3713f2d9-f7fb-45ee-b9c7-f54435c791e2": {
     "id": "3713f2d9-f7fb-45ee-b9c7-f54435c791e2",
     "prev": "8abe55f1-aeb9-4f3b-9647-826c3c5c5eb8",
     "regions": {
      "6d213c8a-2e39-4ddc-b318-1377dbf3cebf": {
       "attrs": {
        "height": 0.4,
        "width": 0.8,
        "x": 0.1,
        "y": 0.5
       },
       "content": {
        "cell": "f0f51b1e-32fa-4f49-8f9c-08ae6d1d8594",
        "part": "whole"
       },
       "id": "6d213c8a-2e39-4ddc-b318-1377dbf3cebf"
      },
      "c41ae2cf-4cc5-41c5-899c-c02a0cc41ece": {
       "attrs": {
        "height": 0.8,
        "width": 0.8,
        "x": 0.1,
        "y": 0.1
       },
       "content": {
        "cell": "cbdb2153-4119-4d75-ab38-eb2d96c75126",
        "part": "whole"
       },
       "id": "c41ae2cf-4cc5-41c5-899c-c02a0cc41ece"
      }
     }
    },
    "4711fc1f-0094-4dcf-81f2-cff55054acc3": {
     "id": "4711fc1f-0094-4dcf-81f2-cff55054acc3",
     "prev": "c12efa03-d7cc-4b62-bb40-af27fa139fbb",
     "regions": {
      "aa9fbdef-534e-4087-9184-cdd3b737efa5": {
       "attrs": {
        "height": 0.8,
        "width": 0.8,
        "x": 0.1,
        "y": 0.1
       },
       "content": {
        "cell": "2473fb9f-590d-4776-80a5-efee83edf680",
        "part": "whole"
       },
       "id": "aa9fbdef-534e-4087-9184-cdd3b737efa5"
      }
     }
    },
    "4cab0740-2171-470e-9e99-b5c208a46636": {
     "id": "4cab0740-2171-470e-9e99-b5c208a46636",
     "prev": "2271af5b-13e3-41ba-bca0-1eabb3d29814",
     "regions": {
      "f22d4f46-139f-4f7c-adf8-51a81d8159ae": {
       "attrs": {
        "height": 0.8,
        "width": 0.8,
        "x": 0.1,
        "y": 0.1
       },
       "content": {
        "cell": "57cfcf5b-27d3-4711-b915-6ccfad966136",
        "part": "whole"
       },
       "id": "f22d4f46-139f-4f7c-adf8-51a81d8159ae"
      }
     }
    },
    "4fc2f5c6-f0a7-4acc-a94e-9cf57c7bd2c8": {
     "id": "4fc2f5c6-f0a7-4acc-a94e-9cf57c7bd2c8",
     "prev": "f45f4adf-9269-4537-896d-2a4da0c01289",
     "regions": {
      "18c98fb3-0f95-4f9c-8bf2-00bb5ac3d66b": {
       "attrs": {
        "height": 0.4,
        "width": 0.8,
        "x": 0.1,
        "y": 0.5
       },
       "content": {
        "cell": "c42e83a7-df66-4d2d-a1df-c75e2c1f624e",
        "part": "whole"
       },
       "id": "18c98fb3-0f95-4f9c-8bf2-00bb5ac3d66b"
      },
      "20813141-8324-4d51-b413-db698660150d": {
       "attrs": {
        "height": 0.4,
        "width": 0.8,
        "x": 0.1,
        "y": 0.5
       },
       "content": {
        "cell": "090c6c48-6c1a-4935-a04f-db2ac240f166",
        "part": "whole"
       },
       "id": "20813141-8324-4d51-b413-db698660150d"
      },
      "24536391-3528-43e8-a743-831cb3804038": {
       "attrs": {
        "height": 0.4,
        "width": 0.8,
        "x": 0.1,
        "y": 0.5
       },
       "content": {
        "cell": "ee172c6b-3420-4ffc-b39a-f5272cd4c886",
        "part": "whole"
       },
       "id": "24536391-3528-43e8-a743-831cb3804038"
      },
      "3881f557-46f5-4b46-96d1-2e1ddcb98d4e": {
       "attrs": {
        "height": 0.4,
        "width": 0.8,
        "x": 0.1,
        "y": 0.5
       },
       "content": {
        "cell": "e401e860-8472-4fe9-9627-2c3ca0ff9166",
        "part": "whole"
       },
       "id": "3881f557-46f5-4b46-96d1-2e1ddcb98d4e"
      },
      "3bfeee05-c5a3-4996-89b9-a40618b86628": {
       "attrs": {
        "height": 0.4,
        "width": 0.8,
        "x": 0.1,
        "y": 0.5
       },
       "content": {
        "cell": "7ee12f08-e052-4fd9-bccf-56a8dcb59045",
        "part": "whole"
       },
       "id": "3bfeee05-c5a3-4996-89b9-a40618b86628"
      },
      "53fe6a5f-c6c3-46ae-9190-7374d5691a0c": {
       "attrs": {
        "height": 0.4,
        "width": 0.8,
        "x": 0.1,
        "y": 0.5
       },
       "content": {
        "cell": "9a80d0eb-1430-4077-b413-362fdd14fa37",
        "part": "whole"
       },
       "id": "53fe6a5f-c6c3-46ae-9190-7374d5691a0c"
      },
      "576b8041-2fd3-41fd-af34-fb6efba583ee": {
       "attrs": {
        "height": 0.4,
        "width": 0.8,
        "x": 0.1,
        "y": 0.5
       },
       "content": {
        "cell": "e8e54e66-8897-4837-a1bc-b8919cc3e4af",
        "part": "whole"
       },
       "id": "576b8041-2fd3-41fd-af34-fb6efba583ee"
      },
      "58593b46-d3ca-4262-b83d-f7475d3ebdd6": {
       "attrs": {
        "height": 0.4,
        "width": 0.8,
        "x": 0.1,
        "y": 0.5
       },
       "content": {
        "cell": "b70999ef-371c-47f8-b617-dd5e4fd4b23f",
        "part": "whole"
       },
       "id": "58593b46-d3ca-4262-b83d-f7475d3ebdd6"
      },
      "6221e80e-3348-49e2-8855-117939496fbf": {
       "attrs": {
        "height": 0.4,
        "width": 0.8,
        "x": 0.1,
        "y": 0.5
       },
       "content": {
        "cell": "efd64576-0af8-4206-85b4-deefc6a3332a",
        "part": "whole"
       },
       "id": "6221e80e-3348-49e2-8855-117939496fbf"
      },
      "66297336-7886-44fd-b710-368996df6224": {
       "attrs": {
        "height": 0.4,
        "width": 0.8,
        "x": 0.1,
        "y": 0.5
       },
       "content": {
        "cell": "8a2d3988-8dc4-443e-9e71-75e33809d53b",
        "part": "whole"
       },
       "id": "66297336-7886-44fd-b710-368996df6224"
      },
      "6ff8b1b4-9154-4199-84fa-33f9d968281a": {
       "attrs": {
        "height": 0.4,
        "width": 0.8,
        "x": 0.1,
        "y": 0.5
       },
       "content": {
        "cell": "8e4a498c-06d0-4faa-9f67-34d9500963a2",
        "part": "whole"
       },
       "id": "6ff8b1b4-9154-4199-84fa-33f9d968281a"
      },
      "83c98357-157e-4a1f-a76f-d0b396306d4f": {
       "attrs": {
        "height": 0.4,
        "width": 0.8,
        "x": 0.1,
        "y": 0.5
       },
       "content": {
        "cell": "95a06dd6-07a2-423a-929c-aa1b046c1b11",
        "part": "whole"
       },
       "id": "83c98357-157e-4a1f-a76f-d0b396306d4f"
      },
      "89109a43-a125-4b4e-b8e8-71cabc620fa0": {
       "attrs": {
        "height": 0.4,
        "width": 0.8,
        "x": 0.1,
        "y": 0.5
       },
       "content": {
        "cell": "f3c1746e-4236-45e4-9849-55133d08c7e3",
        "part": "whole"
       },
       "id": "89109a43-a125-4b4e-b8e8-71cabc620fa0"
      },
      "8a4b5f61-77a1-4a39-85d1-5e4135bff9b6": {
       "attrs": {
        "height": 0.8,
        "width": 0.8,
        "x": 0.1,
        "y": 0.1
       },
       "content": {
        "cell": "256f1747-2548-47b6-97e2-051d435a0f53",
        "part": "whole"
       },
       "id": "8a4b5f61-77a1-4a39-85d1-5e4135bff9b6"
      },
      "98659134-0c83-4e95-b77e-cc88510a3d5f": {
       "attrs": {
        "height": 0.4,
        "width": 0.8,
        "x": 0.1,
        "y": 0.5
       },
       "content": {
        "cell": "1f2dceeb-f08f-4894-8433-260956e571f2",
        "part": "whole"
       },
       "id": "98659134-0c83-4e95-b77e-cc88510a3d5f"
      },
      "c24d551b-1015-4985-ba39-09a0486542cd": {
       "attrs": {
        "height": 0.4,
        "width": 0.8,
        "x": 0.1,
        "y": 0.5
       },
       "content": {
        "cell": "a50f85b8-a51a-4555-802d-0d0822a59ad3",
        "part": "whole"
       },
       "id": "c24d551b-1015-4985-ba39-09a0486542cd"
      },
      "c2f27365-353d-4f5c-917b-c1d2a020083b": {
       "attrs": {
        "height": 0.4,
        "width": 0.8,
        "x": 0.1,
        "y": 0.5
       },
       "content": {
        "cell": "f3318c2a-024f-4294-af42-8062b373c241",
        "part": "whole"
       },
       "id": "c2f27365-353d-4f5c-917b-c1d2a020083b"
      },
      "d5067ccb-aea2-4f92-9e26-330dd4feb846": {
       "attrs": {
        "height": 0.4,
        "width": 0.8,
        "x": 0.1,
        "y": 0.5
       },
       "content": {
        "cell": "ca54d50c-3369-4261-bfcf-74f61538303e",
        "part": "whole"
       },
       "id": "d5067ccb-aea2-4f92-9e26-330dd4feb846"
      },
      "d63be773-c8c2-49d4-a849-3494dffc8fff": {
       "attrs": {
        "height": 0.4,
        "width": 0.8,
        "x": 0.1,
        "y": 0.5
       },
       "content": {
        "cell": "1cefab28-c321-423f-bbc3-8bc4018fb849",
        "part": "whole"
       },
       "id": "d63be773-c8c2-49d4-a849-3494dffc8fff"
      },
      "dca4e698-a1a3-44fb-915a-3a83cf836c45": {
       "attrs": {
        "height": 0.4,
        "width": 0.8,
        "x": 0.1,
        "y": 0.5
       },
       "content": {
        "cell": "a58156c7-8378-42b9-b05f-edc02674c066",
        "part": "whole"
       },
       "id": "dca4e698-a1a3-44fb-915a-3a83cf836c45"
      },
      "fcf73e01-ac73-49f3-88b5-8d2d9bd619b0": {
       "attrs": {
        "height": 0.4,
        "width": 0.8,
        "x": 0.1,
        "y": 0.5
       },
       "content": {
        "cell": "31e0a3fe-eedb-4467-8a34-a573daccc81f",
        "part": "whole"
       },
       "id": "fcf73e01-ac73-49f3-88b5-8d2d9bd619b0"
      },
      "fd16cd8d-0994-4db4-9703-7cf3383db640": {
       "attrs": {
        "height": 0.4,
        "width": 0.8,
        "x": 0.1,
        "y": 0.5
       },
       "content": {
        "cell": "191ab12e-9042-48dd-88b5-786615ea198d",
        "part": "whole"
       },
       "id": "fd16cd8d-0994-4db4-9703-7cf3383db640"
      }
     }
    },
    "5956f6ec-fa48-4408-a0d0-b400ebdf7c74": {
     "id": "5956f6ec-fa48-4408-a0d0-b400ebdf7c74",
     "prev": "81c6a365-dba6-437b-998a-acfa38fa7eb2",
     "regions": {
      "40efe847-64ac-41df-957b-01a13f8b9963": {
       "attrs": {
        "height": 0.8,
        "width": 0.8,
        "x": 0.1,
        "y": 0.1
       },
       "content": {
        "cell": "d52073c0-a871-4bed-aab5-77f0514d8031",
        "part": "whole"
       },
       "id": "40efe847-64ac-41df-957b-01a13f8b9963"
      },
      "d8b22093-e9b2-482b-a452-988b71602f7c": {
       "attrs": {
        "height": 0.4,
        "width": 0.8,
        "x": 0.1,
        "y": 0.5
       },
       "content": {
        "cell": "d89f0121-0c7c-4b75-8807-b4707ae468f0",
        "part": "whole"
       },
       "id": "d8b22093-e9b2-482b-a452-988b71602f7c"
      }
     }
    },
    "81c6a365-dba6-437b-998a-acfa38fa7eb2": {
     "id": "81c6a365-dba6-437b-998a-acfa38fa7eb2",
     "prev": "4cab0740-2171-470e-9e99-b5c208a46636",
     "regions": {
      "d9b320a4-9290-452a-988a-ad49c7ab9d69": {
       "attrs": {
        "height": 0.8,
        "width": 0.8,
        "x": 0.1,
        "y": 0.1
       },
       "content": {
        "cell": "44b6aa0a-4f02-42b2-8aa1-40370671ff15",
        "part": "whole"
       },
       "id": "d9b320a4-9290-452a-988a-ad49c7ab9d69"
      }
     }
    },
    "822a9439-4fd8-43b4-8faa-7fd7a4889424": {
     "id": "822a9439-4fd8-43b4-8faa-7fd7a4889424",
     "prev": "f094fd9f-677b-461e-a9f4-c1514c4974e9",
     "regions": {
      "95d4e86b-51d8-4d43-9ea9-92d76ce78d3b": {
       "attrs": {
        "height": 0.8,
        "width": 0.8,
        "x": 0.1,
        "y": 0.1
       },
       "content": {
        "cell": "adecdecf-3fae-4cbe-924a-f771e1472170",
        "part": "whole"
       },
       "id": "95d4e86b-51d8-4d43-9ea9-92d76ce78d3b"
      }
     }
    },
    "8a36bdbb-f784-456c-9c16-aa88631e0226": {
     "id": "8a36bdbb-f784-456c-9c16-aa88631e0226",
     "prev": "822a9439-4fd8-43b4-8faa-7fd7a4889424",
     "regions": {
      "ceb58d0c-5256-4b9f-b2ca-82ea6ca3dfb3": {
       "attrs": {
        "height": 0.8,
        "width": 0.8,
        "x": 0.1,
        "y": 0.1
       },
       "content": {
        "cell": "ea818d06-7843-49d1-8f41-c72400fcb45c",
        "part": "whole"
       },
       "id": "ceb58d0c-5256-4b9f-b2ca-82ea6ca3dfb3"
      }
     }
    },
    "8abe55f1-aeb9-4f3b-9647-826c3c5c5eb8": {
     "id": "8abe55f1-aeb9-4f3b-9647-826c3c5c5eb8",
     "prev": "16fa30ee-1d7e-4f43-8365-3994b6ed36a8",
     "regions": {
      "5883ca9e-a41e-4a67-a30e-41f04e672f09": {
       "attrs": {
        "height": 0.4,
        "width": 0.8,
        "x": 0.1,
        "y": 0.5
       },
       "content": {
        "cell": "7e7e0d3c-2a00-4e2d-8981-ace7238f0b97",
        "part": "whole"
       },
       "id": "5883ca9e-a41e-4a67-a30e-41f04e672f09"
      },
      "c0a83654-bc17-4e8c-96e3-858c8d695561": {
       "attrs": {
        "height": 0.8,
        "width": 0.8,
        "x": 0.1,
        "y": 0.1
       },
       "content": {
        "cell": "7dd1ca3f-a372-4072-9857-94ddbbc9ae03",
        "part": "whole"
       },
       "id": "c0a83654-bc17-4e8c-96e3-858c8d695561"
      }
     }
    },
    "aeb6875a-4ea0-45ab-abdb-2cf4daf7ad9a": {
     "id": "aeb6875a-4ea0-45ab-abdb-2cf4daf7ad9a",
     "prev": "3713f2d9-f7fb-45ee-b9c7-f54435c791e2",
     "regions": {
      "da27c6dc-1026-4e8e-8d22-fb3dea23b0e7": {
       "attrs": {
        "height": 0.8,
        "width": 0.8,
        "x": 0.1,
        "y": 0.1
       },
       "content": {
        "cell": "db66e259-97ad-42ef-a9d4-7edb1f40ab9d",
        "part": "whole"
       },
       "id": "da27c6dc-1026-4e8e-8d22-fb3dea23b0e7"
      }
     }
    },
    "b72164a6-d71e-401c-8802-bddaad80f904": {
     "id": "b72164a6-d71e-401c-8802-bddaad80f904",
     "prev": "2b0e9ac9-aade-4454-b430-35240525f60f",
     "regions": {
      "ae7f55d3-977b-4869-b73b-adcde2189c7c": {
       "attrs": {
        "height": 0.8,
        "width": 0.8,
        "x": 0.1,
        "y": 0.1
       },
       "content": {
        "cell": "0b906ef0-cb14-4024-b76c-57cc10b7c6ec",
        "part": "whole"
       },
       "id": "ae7f55d3-977b-4869-b73b-adcde2189c7c"
      }
     }
    },
    "c12efa03-d7cc-4b62-bb40-af27fa139fbb": {
     "id": "c12efa03-d7cc-4b62-bb40-af27fa139fbb",
     "prev": "b72164a6-d71e-401c-8802-bddaad80f904",
     "regions": {
      "e64b9133-8ec2-47c9-b6dd-d5ca31620485": {
       "attrs": {
        "height": 0.8,
        "width": 0.8,
        "x": 0.1,
        "y": 0.1
       },
       "content": {
        "cell": "142cbc80-7592-4584-bebe-b56b5767fa9f",
        "part": "whole"
       },
       "id": "e64b9133-8ec2-47c9-b6dd-d5ca31620485"
      }
     }
    },
    "dc8bd225-4da4-4a36-888a-63345625cfac": {
     "id": "dc8bd225-4da4-4a36-888a-63345625cfac",
     "prev": "e4b6904d-f2df-4928-bed7-38d942ebf43d",
     "regions": {
      "58717af3-8936-4361-b91a-f08fe4ac5b9f": {
       "attrs": {
        "height": 0.8,
        "width": 0.8,
        "x": 0.1,
        "y": 0.1
       },
       "content": {
        "cell": "caba240f-096b-4ab7-8695-ffd9ab9587d8",
        "part": "whole"
       },
       "id": "58717af3-8936-4361-b91a-f08fe4ac5b9f"
      }
     }
    },
    "dd65f256-4375-428d-8c7c-1336ffa82e51": {
     "id": "dd65f256-4375-428d-8c7c-1336ffa82e51",
     "prev": "f8f80794-864a-4440-9310-50b7d4ff2a38",
     "regions": {
      "52383c01-8be2-48a9-bf0c-d9e4ffbd5b02": {
       "attrs": {
        "height": 0.8,
        "width": 0.8,
        "x": 0.1,
        "y": 0.1
       },
       "content": {
        "cell": "8d8c0abd-8dee-47c3-91be-b8c1d712a6a0",
        "part": "whole"
       },
       "id": "52383c01-8be2-48a9-bf0c-d9e4ffbd5b02"
      }
     }
    },
    "e4b6904d-f2df-4928-bed7-38d942ebf43d": {
     "id": "e4b6904d-f2df-4928-bed7-38d942ebf43d",
     "prev": "f2e7b630-0d95-407c-8e98-744d36c56952",
     "regions": {
      "be607cc3-f26d-4610-84f6-0e279a1bc4ac": {
       "attrs": {
        "height": 0.8,
        "width": 0.8,
        "x": 0.1,
        "y": 0.1
       },
       "content": {
        "cell": "7638f572-4bae-4b96-adb0-1fae64570d7e",
        "part": "whole"
       },
       "id": "be607cc3-f26d-4610-84f6-0e279a1bc4ac"
      }
     }
    },
    "f094fd9f-677b-461e-a9f4-c1514c4974e9": {
     "id": "f094fd9f-677b-461e-a9f4-c1514c4974e9",
     "prev": "dc8bd225-4da4-4a36-888a-63345625cfac",
     "regions": {
      "8fab4ad5-5396-4f4d-8af7-f1879b6b8e1e": {
       "attrs": {
        "height": 0.8,
        "width": 0.8,
        "x": 0.1,
        "y": 0.1
       },
       "content": {
        "cell": "b87321af-d1fb-4087-b1c1-3416ddc3e825",
        "part": "whole"
       },
       "id": "8fab4ad5-5396-4f4d-8af7-f1879b6b8e1e"
      }
     }
    },
    "f2e7b630-0d95-407c-8e98-744d36c56952": {
     "id": "f2e7b630-0d95-407c-8e98-744d36c56952",
     "prev": "1cca9be6-223a-4a5b-9707-c9f192485ab9",
     "regions": {
      "a4dfda0d-382a-4bf1-9f84-2c8b34387f8e": {
       "attrs": {
        "height": 0.8,
        "width": 0.8,
        "x": 0.1,
        "y": 0.1
       },
       "content": {
        "cell": "7c0509c4-3df6-4249-87d6-8b033b3657ee",
        "part": "whole"
       },
       "id": "a4dfda0d-382a-4bf1-9f84-2c8b34387f8e"
      },
      "a57128af-9b92-4741-b61f-cc4cdae5b36b": {
       "attrs": {
        "height": 0.4,
        "width": 0.8,
        "x": 0.1,
        "y": 0.5
       },
       "content": {
        "cell": "dedbb0df-23b8-429b-aa79-a5ddbac3a40c",
        "part": "whole"
       },
       "id": "a57128af-9b92-4741-b61f-cc4cdae5b36b"
      },
      "ab48348e-6ba8-4a9d-982b-fc757779c7ee": {
       "attrs": {
        "height": 0.4,
        "width": 0.8,
        "x": 0.1,
        "y": 0.5
       },
       "content": {
        "cell": "3d29f057-eb27-41a6-902d-78c33d4769f7",
        "part": "whole"
       },
       "id": "ab48348e-6ba8-4a9d-982b-fc757779c7ee"
      }
     }
    },
    "f45f4adf-9269-4537-896d-2a4da0c01289": {
     "id": "f45f4adf-9269-4537-896d-2a4da0c01289",
     "prev": "aeb6875a-4ea0-45ab-abdb-2cf4daf7ad9a",
     "regions": {
      "81efb807-e109-45e8-9ddf-30eb49c89e24": {
       "attrs": {
        "height": 0.8,
        "width": 0.8,
        "x": 0.1,
        "y": 0.1
       },
       "content": {
        "cell": "14ff4504-1e30-4a47-8d6d-b514a9eb6869",
        "part": "whole"
       },
       "id": "81efb807-e109-45e8-9ddf-30eb49c89e24"
      }
     }
    },
    "f8f80794-864a-4440-9310-50b7d4ff2a38": {
     "id": "f8f80794-864a-4440-9310-50b7d4ff2a38",
     "prev": "4fc2f5c6-f0a7-4acc-a94e-9cf57c7bd2c8",
     "regions": {
      "dfb2e548-c607-4ae8-8f1e-e0ebc696986d": {
       "attrs": {
        "height": 0.8,
        "width": 0.8,
        "x": 0.1,
        "y": 0.1
       },
       "content": {
        "cell": "92b85c3a-29de-4cd2-ad18-a218b0e718b6",
        "part": "whole"
       },
       "id": "dfb2e548-c607-4ae8-8f1e-e0ebc696986d"
      }
     }
    },
    "fd14396f-871d-4acc-8bc7-0b5318ba394a": {
     "id": "fd14396f-871d-4acc-8bc7-0b5318ba394a",
     "prev": "dd65f256-4375-428d-8c7c-1336ffa82e51",
     "regions": {
      "1bc58dd5-cb9c-49ec-8d63-2ff111a76e29": {
       "attrs": {
        "height": 0.8,
        "width": 0.8,
        "x": 0.1,
        "y": 0.1
       },
       "content": {
        "cell": "ac78d922-891e-4e49-af30-9690c44456a0",
        "part": "whole"
       },
       "id": "1bc58dd5-cb9c-49ec-8d63-2ff111a76e29"
      }
     }
    }
   },
   "themes": {}
  },
  "toc": {
   "nav_menu": {},
   "number_sections": false,
   "sideBar": true,
   "skip_h1_title": false,
   "toc_cell": false,
   "toc_position": {},
   "toc_section_display": "block",
   "toc_window_display": false
  }
 },
 "nbformat": 4,
 "nbformat_minor": 2
}
